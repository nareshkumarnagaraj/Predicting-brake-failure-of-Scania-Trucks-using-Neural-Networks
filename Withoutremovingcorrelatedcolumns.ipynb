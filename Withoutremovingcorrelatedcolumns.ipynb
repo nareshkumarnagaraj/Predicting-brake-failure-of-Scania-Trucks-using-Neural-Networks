{
 "cells": [
  {
   "cell_type": "code",
   "execution_count": null,
   "metadata": {
    "id": "pseK6aET95mK"
   },
   "outputs": [],
   "source": []
  },
  {
   "cell_type": "markdown",
   "metadata": {
    "id": "zduvKWhao0-j"
   },
   "source": [
    "###Predicting Air pressure system failures in Scania trucks\n",
    "The dataset is made up of data collected from heavy Scania trucks that are used on a daily basis. The Air Pressure System (APS) is the system in question, which generates pressurized air that is used in a truck's various functions, such as braking and gear changes. Component failures for a specific component of the APS system make up the datasets' positive class. Trucks in the negative class have failed components that aren't related to the APS. The training set contains a total of 60000 examples, with 59000 in the negative class and 1000 in the positive class. There are 16000 examples in the test set. Each record has 171 attributes."
   ]
  },
  {
   "cell_type": "code",
   "execution_count": 1,
   "metadata": {
    "id": "zcsh8AQt-MDR"
   },
   "outputs": [],
   "source": [
    "#importing all the packages required\n",
    "import pandas as pd\n",
    "import numpy as np\n",
    "from google.colab import drive\n",
    "import os\n",
    "from tensorflow.keras.preprocessing.text import Tokenizer\n",
    "from sklearn.model_selection import train_test_split\n",
    "from sklearn.preprocessing import MinMaxScaler\n",
    "from sklearn.impute import SimpleImputer\n",
    "from sklearn.decomposition import PCA\n",
    "from sklearn.feature_selection import SelectKBest, chi2\n",
    "from sklearn.metrics import classification_report, confusion_matrix\n",
    "import plotly\n",
    "import plotly.graph_objs as go\n",
    "from sklearn import preprocessing\n",
    "min_max_scaler = preprocessing.MinMaxScaler()\n",
    "from keras.callbacks import EarlyStopping\n",
    "import tensorflow as tf\n",
    "from matplotlib import pyplot as plt\n",
    "import seaborn as sns\n",
    "from keras.models import Sequential\n",
    "from keras.layers import Dense\n",
    "from keras.layers import Input, Dense, SimpleRNN\n",
    "from sklearn.neural_network import MLPClassifier\n",
    "from keras.layers.embeddings import Embedding\n",
    "import numpy\n",
    "from keras.datasets import imdb\n",
    "from sklearn.model_selection import train_test_split\n",
    "from sklearn.metrics import roc_curve,roc_auc_score,confusion_matrix, plot_confusion_matrix\n",
    "from numpy.random import seed\n",
    "seed(1)"
   ]
  },
  {
   "cell_type": "code",
   "execution_count": 2,
   "metadata": {
    "colab": {
     "base_uri": "https://localhost:8080/"
    },
    "id": "ZguGZ6Dw-WHY",
    "outputId": "29ad9e77-d506-4714-eb1f-f2736fb71ad8"
   },
   "outputs": [
    {
     "name": "stdout",
     "output_type": "stream",
     "text": [
      "Mounted at /content/drive/\n"
     ]
    }
   ],
   "source": [
    "drive.mount('/content/drive/')"
   ]
  },
  {
   "cell_type": "code",
   "execution_count": 3,
   "metadata": {
    "id": "A7HeNP6i-arV"
   },
   "outputs": [],
   "source": [
    "datafiles_path = \"/content/drive/My Drive/project\"\n",
    "datafiles_names = os.listdir(path=datafiles_path)"
   ]
  },
  {
   "cell_type": "code",
   "execution_count": 4,
   "metadata": {
    "colab": {
     "base_uri": "https://localhost:8080/"
    },
    "id": "rPGu4lwh-cFS",
    "outputId": "e23b5025-3e28-4bc1-cbc5-fddadaad1de5"
   },
   "outputs": [
    {
     "name": "stdout",
     "output_type": "stream",
     "text": [
      "['aps_failure_description.txt', 'aps_failure_training_set.csv', 'aps_failure_test_set.csv']\n"
     ]
    }
   ],
   "source": [
    "print(datafiles_names[:3])"
   ]
  },
  {
   "cell_type": "markdown",
   "metadata": {
    "id": "JcLe6n1G94Fv"
   },
   "source": [
    "##Loading Dataset\n"
   ]
  },
  {
   "cell_type": "code",
   "execution_count": 5,
   "metadata": {
    "id": "y-CcDnZR-hXL"
   },
   "outputs": [],
   "source": [
    "train = pd.read_csv('/content/drive/My Drive/project/aps_failure_training_set.csv', na_values='na')\n",
    "test =  pd.read_csv('/content/drive/My Drive/project/aps_failure_test_set.csv', na_values='na')"
   ]
  },
  {
   "cell_type": "code",
   "execution_count": 6,
   "metadata": {
    "colab": {
     "base_uri": "https://localhost:8080/"
    },
    "id": "emPB45wc-jrO",
    "outputId": "ec86b021-c118-463f-a2fd-85f15ce2e57b"
   },
   "outputs": [
    {
     "data": {
      "text/plain": [
       "(60000, 171)"
      ]
     },
     "execution_count": 6,
     "metadata": {},
     "output_type": "execute_result"
    }
   ],
   "source": [
    "train.shape"
   ]
  },
  {
   "cell_type": "code",
   "execution_count": 7,
   "metadata": {
    "colab": {
     "base_uri": "https://localhost:8080/"
    },
    "id": "PR6cRa1Q-k_f",
    "outputId": "6e21d953-aa25-4bd1-deeb-28599fca8eb6"
   },
   "outputs": [
    {
     "data": {
      "text/plain": [
       "(16000, 171)"
      ]
     },
     "execution_count": 7,
     "metadata": {},
     "output_type": "execute_result"
    }
   ],
   "source": [
    "test.shape"
   ]
  },
  {
   "cell_type": "code",
   "execution_count": 8,
   "metadata": {
    "colab": {
     "base_uri": "https://localhost:8080/"
    },
    "id": "XNigeuxs-mVA",
    "outputId": "4efbc0ca-acb9-4bb8-f29c-6def4fcf6747"
   },
   "outputs": [
    {
     "data": {
      "text/plain": [
       "Index(['class', 'aa_000', 'ab_000', 'ac_000', 'ad_000', 'ae_000', 'af_000',\n",
       "       'ag_000', 'ag_001', 'ag_002',\n",
       "       ...\n",
       "       'ee_002', 'ee_003', 'ee_004', 'ee_005', 'ee_006', 'ee_007', 'ee_008',\n",
       "       'ee_009', 'ef_000', 'eg_000'],\n",
       "      dtype='object', length=171)"
      ]
     },
     "execution_count": 8,
     "metadata": {},
     "output_type": "execute_result"
    }
   ],
   "source": [
    "train.columns"
   ]
  },
  {
   "cell_type": "markdown",
   "metadata": {
    "id": "i4hj5WzT-qYA"
   },
   "source": [
    "##Exploration\n"
   ]
  },
  {
   "cell_type": "code",
   "execution_count": 9,
   "metadata": {
    "colab": {
     "base_uri": "https://localhost:8080/",
     "height": 0
    },
    "id": "s01XMfAg-ti1",
    "outputId": "c89d3dd3-b473-4673-8d29-b7ced75d8655"
   },
   "outputs": [
    {
     "data": {
      "text/html": [
       "\n",
       "  <div id=\"df-ac28883b-3dd7-4dbd-9855-ad8747085a63\">\n",
       "    <div class=\"colab-df-container\">\n",
       "      <div>\n",
       "<style scoped>\n",
       "    .dataframe tbody tr th:only-of-type {\n",
       "        vertical-align: middle;\n",
       "    }\n",
       "\n",
       "    .dataframe tbody tr th {\n",
       "        vertical-align: top;\n",
       "    }\n",
       "\n",
       "    .dataframe thead th {\n",
       "        text-align: right;\n",
       "    }\n",
       "</style>\n",
       "<table border=\"1\" class=\"dataframe\">\n",
       "  <thead>\n",
       "    <tr style=\"text-align: right;\">\n",
       "      <th></th>\n",
       "      <th>aa_000</th>\n",
       "      <th>ab_000</th>\n",
       "      <th>ac_000</th>\n",
       "      <th>ad_000</th>\n",
       "      <th>ae_000</th>\n",
       "      <th>af_000</th>\n",
       "      <th>ag_000</th>\n",
       "      <th>ag_001</th>\n",
       "      <th>ag_002</th>\n",
       "      <th>ag_003</th>\n",
       "      <th>...</th>\n",
       "      <th>ee_002</th>\n",
       "      <th>ee_003</th>\n",
       "      <th>ee_004</th>\n",
       "      <th>ee_005</th>\n",
       "      <th>ee_006</th>\n",
       "      <th>ee_007</th>\n",
       "      <th>ee_008</th>\n",
       "      <th>ee_009</th>\n",
       "      <th>ef_000</th>\n",
       "      <th>eg_000</th>\n",
       "    </tr>\n",
       "  </thead>\n",
       "  <tbody>\n",
       "    <tr>\n",
       "      <th>count</th>\n",
       "      <td>6.000000e+04</td>\n",
       "      <td>13671.000000</td>\n",
       "      <td>5.666500e+04</td>\n",
       "      <td>4.513900e+04</td>\n",
       "      <td>57500.000000</td>\n",
       "      <td>57500.000000</td>\n",
       "      <td>5.932900e+04</td>\n",
       "      <td>5.932900e+04</td>\n",
       "      <td>5.932900e+04</td>\n",
       "      <td>5.932900e+04</td>\n",
       "      <td>...</td>\n",
       "      <td>5.932900e+04</td>\n",
       "      <td>5.932900e+04</td>\n",
       "      <td>5.932900e+04</td>\n",
       "      <td>5.932900e+04</td>\n",
       "      <td>5.932900e+04</td>\n",
       "      <td>5.932900e+04</td>\n",
       "      <td>5.932900e+04</td>\n",
       "      <td>5.932900e+04</td>\n",
       "      <td>57276.000000</td>\n",
       "      <td>57277.000000</td>\n",
       "    </tr>\n",
       "    <tr>\n",
       "      <th>mean</th>\n",
       "      <td>5.933650e+04</td>\n",
       "      <td>0.713189</td>\n",
       "      <td>3.560143e+08</td>\n",
       "      <td>1.906206e+05</td>\n",
       "      <td>6.819130</td>\n",
       "      <td>11.006817</td>\n",
       "      <td>2.216364e+02</td>\n",
       "      <td>9.757223e+02</td>\n",
       "      <td>8.606015e+03</td>\n",
       "      <td>8.859128e+04</td>\n",
       "      <td>...</td>\n",
       "      <td>4.454897e+05</td>\n",
       "      <td>2.111264e+05</td>\n",
       "      <td>4.457343e+05</td>\n",
       "      <td>3.939462e+05</td>\n",
       "      <td>3.330582e+05</td>\n",
       "      <td>3.462714e+05</td>\n",
       "      <td>1.387300e+05</td>\n",
       "      <td>8.388915e+03</td>\n",
       "      <td>0.090579</td>\n",
       "      <td>0.212756</td>\n",
       "    </tr>\n",
       "    <tr>\n",
       "      <th>std</th>\n",
       "      <td>1.454301e+05</td>\n",
       "      <td>3.478962</td>\n",
       "      <td>7.948749e+08</td>\n",
       "      <td>4.040441e+07</td>\n",
       "      <td>161.543373</td>\n",
       "      <td>209.792592</td>\n",
       "      <td>2.047846e+04</td>\n",
       "      <td>3.420053e+04</td>\n",
       "      <td>1.503220e+05</td>\n",
       "      <td>7.617312e+05</td>\n",
       "      <td>...</td>\n",
       "      <td>1.155540e+06</td>\n",
       "      <td>5.433188e+05</td>\n",
       "      <td>1.168314e+06</td>\n",
       "      <td>1.121044e+06</td>\n",
       "      <td>1.069160e+06</td>\n",
       "      <td>1.728056e+06</td>\n",
       "      <td>4.495100e+05</td>\n",
       "      <td>4.747043e+04</td>\n",
       "      <td>4.368855</td>\n",
       "      <td>8.830641</td>\n",
       "    </tr>\n",
       "    <tr>\n",
       "      <th>min</th>\n",
       "      <td>0.000000e+00</td>\n",
       "      <td>0.000000</td>\n",
       "      <td>0.000000e+00</td>\n",
       "      <td>0.000000e+00</td>\n",
       "      <td>0.000000</td>\n",
       "      <td>0.000000</td>\n",
       "      <td>0.000000e+00</td>\n",
       "      <td>0.000000e+00</td>\n",
       "      <td>0.000000e+00</td>\n",
       "      <td>0.000000e+00</td>\n",
       "      <td>...</td>\n",
       "      <td>0.000000e+00</td>\n",
       "      <td>0.000000e+00</td>\n",
       "      <td>0.000000e+00</td>\n",
       "      <td>0.000000e+00</td>\n",
       "      <td>0.000000e+00</td>\n",
       "      <td>0.000000e+00</td>\n",
       "      <td>0.000000e+00</td>\n",
       "      <td>0.000000e+00</td>\n",
       "      <td>0.000000</td>\n",
       "      <td>0.000000</td>\n",
       "    </tr>\n",
       "    <tr>\n",
       "      <th>25%</th>\n",
       "      <td>8.340000e+02</td>\n",
       "      <td>0.000000</td>\n",
       "      <td>1.600000e+01</td>\n",
       "      <td>2.400000e+01</td>\n",
       "      <td>0.000000</td>\n",
       "      <td>0.000000</td>\n",
       "      <td>0.000000e+00</td>\n",
       "      <td>0.000000e+00</td>\n",
       "      <td>0.000000e+00</td>\n",
       "      <td>0.000000e+00</td>\n",
       "      <td>...</td>\n",
       "      <td>2.936000e+03</td>\n",
       "      <td>1.166000e+03</td>\n",
       "      <td>2.700000e+03</td>\n",
       "      <td>3.584000e+03</td>\n",
       "      <td>5.120000e+02</td>\n",
       "      <td>1.100000e+02</td>\n",
       "      <td>0.000000e+00</td>\n",
       "      <td>0.000000e+00</td>\n",
       "      <td>0.000000</td>\n",
       "      <td>0.000000</td>\n",
       "    </tr>\n",
       "    <tr>\n",
       "      <th>50%</th>\n",
       "      <td>3.077600e+04</td>\n",
       "      <td>0.000000</td>\n",
       "      <td>1.520000e+02</td>\n",
       "      <td>1.260000e+02</td>\n",
       "      <td>0.000000</td>\n",
       "      <td>0.000000</td>\n",
       "      <td>0.000000e+00</td>\n",
       "      <td>0.000000e+00</td>\n",
       "      <td>0.000000e+00</td>\n",
       "      <td>0.000000e+00</td>\n",
       "      <td>...</td>\n",
       "      <td>2.337960e+05</td>\n",
       "      <td>1.120860e+05</td>\n",
       "      <td>2.215180e+05</td>\n",
       "      <td>1.899880e+05</td>\n",
       "      <td>9.243200e+04</td>\n",
       "      <td>4.109800e+04</td>\n",
       "      <td>3.812000e+03</td>\n",
       "      <td>0.000000e+00</td>\n",
       "      <td>0.000000</td>\n",
       "      <td>0.000000</td>\n",
       "    </tr>\n",
       "    <tr>\n",
       "      <th>75%</th>\n",
       "      <td>4.866800e+04</td>\n",
       "      <td>0.000000</td>\n",
       "      <td>9.640000e+02</td>\n",
       "      <td>4.300000e+02</td>\n",
       "      <td>0.000000</td>\n",
       "      <td>0.000000</td>\n",
       "      <td>0.000000e+00</td>\n",
       "      <td>0.000000e+00</td>\n",
       "      <td>0.000000e+00</td>\n",
       "      <td>0.000000e+00</td>\n",
       "      <td>...</td>\n",
       "      <td>4.383960e+05</td>\n",
       "      <td>2.182320e+05</td>\n",
       "      <td>4.666140e+05</td>\n",
       "      <td>4.032220e+05</td>\n",
       "      <td>2.750940e+05</td>\n",
       "      <td>1.678140e+05</td>\n",
       "      <td>1.397240e+05</td>\n",
       "      <td>2.028000e+03</td>\n",
       "      <td>0.000000</td>\n",
       "      <td>0.000000</td>\n",
       "    </tr>\n",
       "    <tr>\n",
       "      <th>max</th>\n",
       "      <td>2.746564e+06</td>\n",
       "      <td>204.000000</td>\n",
       "      <td>2.130707e+09</td>\n",
       "      <td>8.584298e+09</td>\n",
       "      <td>21050.000000</td>\n",
       "      <td>20070.000000</td>\n",
       "      <td>3.376892e+06</td>\n",
       "      <td>4.109372e+06</td>\n",
       "      <td>1.055286e+07</td>\n",
       "      <td>6.340207e+07</td>\n",
       "      <td>...</td>\n",
       "      <td>7.793393e+07</td>\n",
       "      <td>3.775839e+07</td>\n",
       "      <td>9.715238e+07</td>\n",
       "      <td>5.743524e+07</td>\n",
       "      <td>3.160781e+07</td>\n",
       "      <td>1.195801e+08</td>\n",
       "      <td>1.926740e+07</td>\n",
       "      <td>3.810078e+06</td>\n",
       "      <td>482.000000</td>\n",
       "      <td>1146.000000</td>\n",
       "    </tr>\n",
       "  </tbody>\n",
       "</table>\n",
       "<p>8 rows × 170 columns</p>\n",
       "</div>\n",
       "      <button class=\"colab-df-convert\" onclick=\"convertToInteractive('df-ac28883b-3dd7-4dbd-9855-ad8747085a63')\"\n",
       "              title=\"Convert this dataframe to an interactive table.\"\n",
       "              style=\"display:none;\">\n",
       "        \n",
       "  <svg xmlns=\"http://www.w3.org/2000/svg\" height=\"24px\"viewBox=\"0 0 24 24\"\n",
       "       width=\"24px\">\n",
       "    <path d=\"M0 0h24v24H0V0z\" fill=\"none\"/>\n",
       "    <path d=\"M18.56 5.44l.94 2.06.94-2.06 2.06-.94-2.06-.94-.94-2.06-.94 2.06-2.06.94zm-11 1L8.5 8.5l.94-2.06 2.06-.94-2.06-.94L8.5 2.5l-.94 2.06-2.06.94zm10 10l.94 2.06.94-2.06 2.06-.94-2.06-.94-.94-2.06-.94 2.06-2.06.94z\"/><path d=\"M17.41 7.96l-1.37-1.37c-.4-.4-.92-.59-1.43-.59-.52 0-1.04.2-1.43.59L10.3 9.45l-7.72 7.72c-.78.78-.78 2.05 0 2.83L4 21.41c.39.39.9.59 1.41.59.51 0 1.02-.2 1.41-.59l7.78-7.78 2.81-2.81c.8-.78.8-2.07 0-2.86zM5.41 20L4 18.59l7.72-7.72 1.47 1.35L5.41 20z\"/>\n",
       "  </svg>\n",
       "      </button>\n",
       "      \n",
       "  <style>\n",
       "    .colab-df-container {\n",
       "      display:flex;\n",
       "      flex-wrap:wrap;\n",
       "      gap: 12px;\n",
       "    }\n",
       "\n",
       "    .colab-df-convert {\n",
       "      background-color: #E8F0FE;\n",
       "      border: none;\n",
       "      border-radius: 50%;\n",
       "      cursor: pointer;\n",
       "      display: none;\n",
       "      fill: #1967D2;\n",
       "      height: 32px;\n",
       "      padding: 0 0 0 0;\n",
       "      width: 32px;\n",
       "    }\n",
       "\n",
       "    .colab-df-convert:hover {\n",
       "      background-color: #E2EBFA;\n",
       "      box-shadow: 0px 1px 2px rgba(60, 64, 67, 0.3), 0px 1px 3px 1px rgba(60, 64, 67, 0.15);\n",
       "      fill: #174EA6;\n",
       "    }\n",
       "\n",
       "    [theme=dark] .colab-df-convert {\n",
       "      background-color: #3B4455;\n",
       "      fill: #D2E3FC;\n",
       "    }\n",
       "\n",
       "    [theme=dark] .colab-df-convert:hover {\n",
       "      background-color: #434B5C;\n",
       "      box-shadow: 0px 1px 3px 1px rgba(0, 0, 0, 0.15);\n",
       "      filter: drop-shadow(0px 1px 2px rgba(0, 0, 0, 0.3));\n",
       "      fill: #FFFFFF;\n",
       "    }\n",
       "  </style>\n",
       "\n",
       "      <script>\n",
       "        const buttonEl =\n",
       "          document.querySelector('#df-ac28883b-3dd7-4dbd-9855-ad8747085a63 button.colab-df-convert');\n",
       "        buttonEl.style.display =\n",
       "          google.colab.kernel.accessAllowed ? 'block' : 'none';\n",
       "\n",
       "        async function convertToInteractive(key) {\n",
       "          const element = document.querySelector('#df-ac28883b-3dd7-4dbd-9855-ad8747085a63');\n",
       "          const dataTable =\n",
       "            await google.colab.kernel.invokeFunction('convertToInteractive',\n",
       "                                                     [key], {});\n",
       "          if (!dataTable) return;\n",
       "\n",
       "          const docLinkHtml = 'Like what you see? Visit the ' +\n",
       "            '<a target=\"_blank\" href=https://colab.research.google.com/notebooks/data_table.ipynb>data table notebook</a>'\n",
       "            + ' to learn more about interactive tables.';\n",
       "          element.innerHTML = '';\n",
       "          dataTable['output_type'] = 'display_data';\n",
       "          await google.colab.output.renderOutput(dataTable, element);\n",
       "          const docLink = document.createElement('div');\n",
       "          docLink.innerHTML = docLinkHtml;\n",
       "          element.appendChild(docLink);\n",
       "        }\n",
       "      </script>\n",
       "    </div>\n",
       "  </div>\n",
       "  "
      ],
      "text/plain": [
       "             aa_000        ab_000        ac_000        ad_000        ae_000  \\\n",
       "count  6.000000e+04  13671.000000  5.666500e+04  4.513900e+04  57500.000000   \n",
       "mean   5.933650e+04      0.713189  3.560143e+08  1.906206e+05      6.819130   \n",
       "std    1.454301e+05      3.478962  7.948749e+08  4.040441e+07    161.543373   \n",
       "min    0.000000e+00      0.000000  0.000000e+00  0.000000e+00      0.000000   \n",
       "25%    8.340000e+02      0.000000  1.600000e+01  2.400000e+01      0.000000   \n",
       "50%    3.077600e+04      0.000000  1.520000e+02  1.260000e+02      0.000000   \n",
       "75%    4.866800e+04      0.000000  9.640000e+02  4.300000e+02      0.000000   \n",
       "max    2.746564e+06    204.000000  2.130707e+09  8.584298e+09  21050.000000   \n",
       "\n",
       "             af_000        ag_000        ag_001        ag_002        ag_003  \\\n",
       "count  57500.000000  5.932900e+04  5.932900e+04  5.932900e+04  5.932900e+04   \n",
       "mean      11.006817  2.216364e+02  9.757223e+02  8.606015e+03  8.859128e+04   \n",
       "std      209.792592  2.047846e+04  3.420053e+04  1.503220e+05  7.617312e+05   \n",
       "min        0.000000  0.000000e+00  0.000000e+00  0.000000e+00  0.000000e+00   \n",
       "25%        0.000000  0.000000e+00  0.000000e+00  0.000000e+00  0.000000e+00   \n",
       "50%        0.000000  0.000000e+00  0.000000e+00  0.000000e+00  0.000000e+00   \n",
       "75%        0.000000  0.000000e+00  0.000000e+00  0.000000e+00  0.000000e+00   \n",
       "max    20070.000000  3.376892e+06  4.109372e+06  1.055286e+07  6.340207e+07   \n",
       "\n",
       "       ...        ee_002        ee_003        ee_004        ee_005  \\\n",
       "count  ...  5.932900e+04  5.932900e+04  5.932900e+04  5.932900e+04   \n",
       "mean   ...  4.454897e+05  2.111264e+05  4.457343e+05  3.939462e+05   \n",
       "std    ...  1.155540e+06  5.433188e+05  1.168314e+06  1.121044e+06   \n",
       "min    ...  0.000000e+00  0.000000e+00  0.000000e+00  0.000000e+00   \n",
       "25%    ...  2.936000e+03  1.166000e+03  2.700000e+03  3.584000e+03   \n",
       "50%    ...  2.337960e+05  1.120860e+05  2.215180e+05  1.899880e+05   \n",
       "75%    ...  4.383960e+05  2.182320e+05  4.666140e+05  4.032220e+05   \n",
       "max    ...  7.793393e+07  3.775839e+07  9.715238e+07  5.743524e+07   \n",
       "\n",
       "             ee_006        ee_007        ee_008        ee_009        ef_000  \\\n",
       "count  5.932900e+04  5.932900e+04  5.932900e+04  5.932900e+04  57276.000000   \n",
       "mean   3.330582e+05  3.462714e+05  1.387300e+05  8.388915e+03      0.090579   \n",
       "std    1.069160e+06  1.728056e+06  4.495100e+05  4.747043e+04      4.368855   \n",
       "min    0.000000e+00  0.000000e+00  0.000000e+00  0.000000e+00      0.000000   \n",
       "25%    5.120000e+02  1.100000e+02  0.000000e+00  0.000000e+00      0.000000   \n",
       "50%    9.243200e+04  4.109800e+04  3.812000e+03  0.000000e+00      0.000000   \n",
       "75%    2.750940e+05  1.678140e+05  1.397240e+05  2.028000e+03      0.000000   \n",
       "max    3.160781e+07  1.195801e+08  1.926740e+07  3.810078e+06    482.000000   \n",
       "\n",
       "             eg_000  \n",
       "count  57277.000000  \n",
       "mean       0.212756  \n",
       "std        8.830641  \n",
       "min        0.000000  \n",
       "25%        0.000000  \n",
       "50%        0.000000  \n",
       "75%        0.000000  \n",
       "max     1146.000000  \n",
       "\n",
       "[8 rows x 170 columns]"
      ]
     },
     "execution_count": 9,
     "metadata": {},
     "output_type": "execute_result"
    }
   ],
   "source": [
    "train.describe()"
   ]
  },
  {
   "cell_type": "code",
   "execution_count": 10,
   "metadata": {
    "colab": {
     "base_uri": "https://localhost:8080/",
     "height": 0
    },
    "id": "3S0aPqb--wTu",
    "outputId": "464eaebc-c718-4633-b228-cb886be4d423"
   },
   "outputs": [
    {
     "data": {
      "text/html": [
       "\n",
       "  <div id=\"df-5f98782a-bd04-46b2-9f34-970f8c22e084\">\n",
       "    <div class=\"colab-df-container\">\n",
       "      <div>\n",
       "<style scoped>\n",
       "    .dataframe tbody tr th:only-of-type {\n",
       "        vertical-align: middle;\n",
       "    }\n",
       "\n",
       "    .dataframe tbody tr th {\n",
       "        vertical-align: top;\n",
       "    }\n",
       "\n",
       "    .dataframe thead th {\n",
       "        text-align: right;\n",
       "    }\n",
       "</style>\n",
       "<table border=\"1\" class=\"dataframe\">\n",
       "  <thead>\n",
       "    <tr style=\"text-align: right;\">\n",
       "      <th></th>\n",
       "      <th>aa_000</th>\n",
       "      <th>ab_000</th>\n",
       "      <th>ac_000</th>\n",
       "      <th>ad_000</th>\n",
       "      <th>ae_000</th>\n",
       "      <th>af_000</th>\n",
       "      <th>ag_000</th>\n",
       "      <th>ag_001</th>\n",
       "      <th>ag_002</th>\n",
       "      <th>ag_003</th>\n",
       "      <th>...</th>\n",
       "      <th>ee_002</th>\n",
       "      <th>ee_003</th>\n",
       "      <th>ee_004</th>\n",
       "      <th>ee_005</th>\n",
       "      <th>ee_006</th>\n",
       "      <th>ee_007</th>\n",
       "      <th>ee_008</th>\n",
       "      <th>ee_009</th>\n",
       "      <th>ef_000</th>\n",
       "      <th>eg_000</th>\n",
       "    </tr>\n",
       "  </thead>\n",
       "  <tbody>\n",
       "    <tr>\n",
       "      <th>count</th>\n",
       "      <td>1.600000e+04</td>\n",
       "      <td>3637.000000</td>\n",
       "      <td>1.507400e+04</td>\n",
       "      <td>12019.000000</td>\n",
       "      <td>15310.000000</td>\n",
       "      <td>15310.000000</td>\n",
       "      <td>15811.000000</td>\n",
       "      <td>1.581100e+04</td>\n",
       "      <td>1.581100e+04</td>\n",
       "      <td>1.581100e+04</td>\n",
       "      <td>...</td>\n",
       "      <td>1.580800e+04</td>\n",
       "      <td>1.580800e+04</td>\n",
       "      <td>1.580800e+04</td>\n",
       "      <td>1.580800e+04</td>\n",
       "      <td>1.580800e+04</td>\n",
       "      <td>1.580800e+04</td>\n",
       "      <td>1.580800e+04</td>\n",
       "      <td>1.580800e+04</td>\n",
       "      <td>15238.000000</td>\n",
       "      <td>15238.000000</td>\n",
       "    </tr>\n",
       "    <tr>\n",
       "      <th>mean</th>\n",
       "      <td>6.799698e+04</td>\n",
       "      <td>0.772065</td>\n",
       "      <td>3.580393e+08</td>\n",
       "      <td>439.498794</td>\n",
       "      <td>6.428347</td>\n",
       "      <td>10.195950</td>\n",
       "      <td>120.858516</td>\n",
       "      <td>2.064204e+03</td>\n",
       "      <td>1.379236e+04</td>\n",
       "      <td>1.126276e+05</td>\n",
       "      <td>...</td>\n",
       "      <td>4.649135e+05</td>\n",
       "      <td>2.212010e+05</td>\n",
       "      <td>4.690886e+05</td>\n",
       "      <td>4.256696e+05</td>\n",
       "      <td>3.559239e+05</td>\n",
       "      <td>3.524014e+05</td>\n",
       "      <td>1.442759e+05</td>\n",
       "      <td>8.560355e+03</td>\n",
       "      <td>0.064969</td>\n",
       "      <td>0.242683</td>\n",
       "    </tr>\n",
       "    <tr>\n",
       "      <th>std</th>\n",
       "      <td>5.035350e+05</td>\n",
       "      <td>2.589224</td>\n",
       "      <td>7.966968e+08</td>\n",
       "      <td>1551.328109</td>\n",
       "      <td>118.186469</td>\n",
       "      <td>167.260463</td>\n",
       "      <td>6454.660300</td>\n",
       "      <td>8.925778e+04</td>\n",
       "      <td>2.358405e+05</td>\n",
       "      <td>1.025843e+06</td>\n",
       "      <td>...</td>\n",
       "      <td>1.255197e+06</td>\n",
       "      <td>5.828691e+05</td>\n",
       "      <td>1.267550e+06</td>\n",
       "      <td>1.259560e+06</td>\n",
       "      <td>1.199544e+06</td>\n",
       "      <td>1.628545e+06</td>\n",
       "      <td>5.368225e+05</td>\n",
       "      <td>5.329946e+04</td>\n",
       "      <td>3.374657</td>\n",
       "      <td>14.339059</td>\n",
       "    </tr>\n",
       "    <tr>\n",
       "      <th>min</th>\n",
       "      <td>0.000000e+00</td>\n",
       "      <td>0.000000</td>\n",
       "      <td>0.000000e+00</td>\n",
       "      <td>0.000000</td>\n",
       "      <td>0.000000</td>\n",
       "      <td>0.000000</td>\n",
       "      <td>0.000000</td>\n",
       "      <td>0.000000e+00</td>\n",
       "      <td>0.000000e+00</td>\n",
       "      <td>0.000000e+00</td>\n",
       "      <td>...</td>\n",
       "      <td>0.000000e+00</td>\n",
       "      <td>0.000000e+00</td>\n",
       "      <td>0.000000e+00</td>\n",
       "      <td>0.000000e+00</td>\n",
       "      <td>0.000000e+00</td>\n",
       "      <td>0.000000e+00</td>\n",
       "      <td>0.000000e+00</td>\n",
       "      <td>0.000000e+00</td>\n",
       "      <td>0.000000</td>\n",
       "      <td>0.000000</td>\n",
       "    </tr>\n",
       "    <tr>\n",
       "      <th>25%</th>\n",
       "      <td>9.280000e+02</td>\n",
       "      <td>0.000000</td>\n",
       "      <td>1.600000e+01</td>\n",
       "      <td>26.000000</td>\n",
       "      <td>0.000000</td>\n",
       "      <td>0.000000</td>\n",
       "      <td>0.000000</td>\n",
       "      <td>0.000000e+00</td>\n",
       "      <td>0.000000e+00</td>\n",
       "      <td>0.000000e+00</td>\n",
       "      <td>...</td>\n",
       "      <td>3.178000e+03</td>\n",
       "      <td>1.256000e+03</td>\n",
       "      <td>2.883500e+03</td>\n",
       "      <td>3.869500e+03</td>\n",
       "      <td>6.100000e+02</td>\n",
       "      <td>1.240000e+02</td>\n",
       "      <td>0.000000e+00</td>\n",
       "      <td>0.000000e+00</td>\n",
       "      <td>0.000000</td>\n",
       "      <td>0.000000</td>\n",
       "    </tr>\n",
       "    <tr>\n",
       "      <th>50%</th>\n",
       "      <td>3.098200e+04</td>\n",
       "      <td>0.000000</td>\n",
       "      <td>1.590000e+02</td>\n",
       "      <td>130.000000</td>\n",
       "      <td>0.000000</td>\n",
       "      <td>0.000000</td>\n",
       "      <td>0.000000</td>\n",
       "      <td>0.000000e+00</td>\n",
       "      <td>0.000000e+00</td>\n",
       "      <td>0.000000e+00</td>\n",
       "      <td>...</td>\n",
       "      <td>2.409860e+05</td>\n",
       "      <td>1.147800e+05</td>\n",
       "      <td>2.297080e+05</td>\n",
       "      <td>1.956510e+05</td>\n",
       "      <td>9.657000e+04</td>\n",
       "      <td>4.201300e+04</td>\n",
       "      <td>3.985000e+03</td>\n",
       "      <td>0.000000e+00</td>\n",
       "      <td>0.000000</td>\n",
       "      <td>0.000000</td>\n",
       "    </tr>\n",
       "    <tr>\n",
       "      <th>75%</th>\n",
       "      <td>4.947900e+04</td>\n",
       "      <td>0.000000</td>\n",
       "      <td>1.003500e+03</td>\n",
       "      <td>430.000000</td>\n",
       "      <td>0.000000</td>\n",
       "      <td>0.000000</td>\n",
       "      <td>0.000000</td>\n",
       "      <td>0.000000e+00</td>\n",
       "      <td>0.000000e+00</td>\n",
       "      <td>0.000000e+00</td>\n",
       "      <td>...</td>\n",
       "      <td>4.391320e+05</td>\n",
       "      <td>2.189510e+05</td>\n",
       "      <td>4.714860e+05</td>\n",
       "      <td>4.034105e+05</td>\n",
       "      <td>2.790355e+05</td>\n",
       "      <td>1.699100e+05</td>\n",
       "      <td>1.389310e+05</td>\n",
       "      <td>1.907000e+03</td>\n",
       "      <td>0.000000</td>\n",
       "      <td>0.000000</td>\n",
       "    </tr>\n",
       "    <tr>\n",
       "      <th>max</th>\n",
       "      <td>4.294967e+07</td>\n",
       "      <td>58.000000</td>\n",
       "      <td>2.130707e+09</td>\n",
       "      <td>87038.000000</td>\n",
       "      <td>11044.000000</td>\n",
       "      <td>14186.000000</td>\n",
       "      <td>736174.000000</td>\n",
       "      <td>1.047252e+07</td>\n",
       "      <td>1.914916e+07</td>\n",
       "      <td>7.305747e+07</td>\n",
       "      <td>...</td>\n",
       "      <td>5.382333e+07</td>\n",
       "      <td>2.207969e+07</td>\n",
       "      <td>4.859750e+07</td>\n",
       "      <td>5.604348e+07</td>\n",
       "      <td>4.215944e+07</td>\n",
       "      <td>4.747137e+07</td>\n",
       "      <td>1.718575e+07</td>\n",
       "      <td>4.570398e+06</td>\n",
       "      <td>340.000000</td>\n",
       "      <td>1720.000000</td>\n",
       "    </tr>\n",
       "  </tbody>\n",
       "</table>\n",
       "<p>8 rows × 170 columns</p>\n",
       "</div>\n",
       "      <button class=\"colab-df-convert\" onclick=\"convertToInteractive('df-5f98782a-bd04-46b2-9f34-970f8c22e084')\"\n",
       "              title=\"Convert this dataframe to an interactive table.\"\n",
       "              style=\"display:none;\">\n",
       "        \n",
       "  <svg xmlns=\"http://www.w3.org/2000/svg\" height=\"24px\"viewBox=\"0 0 24 24\"\n",
       "       width=\"24px\">\n",
       "    <path d=\"M0 0h24v24H0V0z\" fill=\"none\"/>\n",
       "    <path d=\"M18.56 5.44l.94 2.06.94-2.06 2.06-.94-2.06-.94-.94-2.06-.94 2.06-2.06.94zm-11 1L8.5 8.5l.94-2.06 2.06-.94-2.06-.94L8.5 2.5l-.94 2.06-2.06.94zm10 10l.94 2.06.94-2.06 2.06-.94-2.06-.94-.94-2.06-.94 2.06-2.06.94z\"/><path d=\"M17.41 7.96l-1.37-1.37c-.4-.4-.92-.59-1.43-.59-.52 0-1.04.2-1.43.59L10.3 9.45l-7.72 7.72c-.78.78-.78 2.05 0 2.83L4 21.41c.39.39.9.59 1.41.59.51 0 1.02-.2 1.41-.59l7.78-7.78 2.81-2.81c.8-.78.8-2.07 0-2.86zM5.41 20L4 18.59l7.72-7.72 1.47 1.35L5.41 20z\"/>\n",
       "  </svg>\n",
       "      </button>\n",
       "      \n",
       "  <style>\n",
       "    .colab-df-container {\n",
       "      display:flex;\n",
       "      flex-wrap:wrap;\n",
       "      gap: 12px;\n",
       "    }\n",
       "\n",
       "    .colab-df-convert {\n",
       "      background-color: #E8F0FE;\n",
       "      border: none;\n",
       "      border-radius: 50%;\n",
       "      cursor: pointer;\n",
       "      display: none;\n",
       "      fill: #1967D2;\n",
       "      height: 32px;\n",
       "      padding: 0 0 0 0;\n",
       "      width: 32px;\n",
       "    }\n",
       "\n",
       "    .colab-df-convert:hover {\n",
       "      background-color: #E2EBFA;\n",
       "      box-shadow: 0px 1px 2px rgba(60, 64, 67, 0.3), 0px 1px 3px 1px rgba(60, 64, 67, 0.15);\n",
       "      fill: #174EA6;\n",
       "    }\n",
       "\n",
       "    [theme=dark] .colab-df-convert {\n",
       "      background-color: #3B4455;\n",
       "      fill: #D2E3FC;\n",
       "    }\n",
       "\n",
       "    [theme=dark] .colab-df-convert:hover {\n",
       "      background-color: #434B5C;\n",
       "      box-shadow: 0px 1px 3px 1px rgba(0, 0, 0, 0.15);\n",
       "      filter: drop-shadow(0px 1px 2px rgba(0, 0, 0, 0.3));\n",
       "      fill: #FFFFFF;\n",
       "    }\n",
       "  </style>\n",
       "\n",
       "      <script>\n",
       "        const buttonEl =\n",
       "          document.querySelector('#df-5f98782a-bd04-46b2-9f34-970f8c22e084 button.colab-df-convert');\n",
       "        buttonEl.style.display =\n",
       "          google.colab.kernel.accessAllowed ? 'block' : 'none';\n",
       "\n",
       "        async function convertToInteractive(key) {\n",
       "          const element = document.querySelector('#df-5f98782a-bd04-46b2-9f34-970f8c22e084');\n",
       "          const dataTable =\n",
       "            await google.colab.kernel.invokeFunction('convertToInteractive',\n",
       "                                                     [key], {});\n",
       "          if (!dataTable) return;\n",
       "\n",
       "          const docLinkHtml = 'Like what you see? Visit the ' +\n",
       "            '<a target=\"_blank\" href=https://colab.research.google.com/notebooks/data_table.ipynb>data table notebook</a>'\n",
       "            + ' to learn more about interactive tables.';\n",
       "          element.innerHTML = '';\n",
       "          dataTable['output_type'] = 'display_data';\n",
       "          await google.colab.output.renderOutput(dataTable, element);\n",
       "          const docLink = document.createElement('div');\n",
       "          docLink.innerHTML = docLinkHtml;\n",
       "          element.appendChild(docLink);\n",
       "        }\n",
       "      </script>\n",
       "    </div>\n",
       "  </div>\n",
       "  "
      ],
      "text/plain": [
       "             aa_000       ab_000        ac_000        ad_000        ae_000  \\\n",
       "count  1.600000e+04  3637.000000  1.507400e+04  12019.000000  15310.000000   \n",
       "mean   6.799698e+04     0.772065  3.580393e+08    439.498794      6.428347   \n",
       "std    5.035350e+05     2.589224  7.966968e+08   1551.328109    118.186469   \n",
       "min    0.000000e+00     0.000000  0.000000e+00      0.000000      0.000000   \n",
       "25%    9.280000e+02     0.000000  1.600000e+01     26.000000      0.000000   \n",
       "50%    3.098200e+04     0.000000  1.590000e+02    130.000000      0.000000   \n",
       "75%    4.947900e+04     0.000000  1.003500e+03    430.000000      0.000000   \n",
       "max    4.294967e+07    58.000000  2.130707e+09  87038.000000  11044.000000   \n",
       "\n",
       "             af_000         ag_000        ag_001        ag_002        ag_003  \\\n",
       "count  15310.000000   15811.000000  1.581100e+04  1.581100e+04  1.581100e+04   \n",
       "mean      10.195950     120.858516  2.064204e+03  1.379236e+04  1.126276e+05   \n",
       "std      167.260463    6454.660300  8.925778e+04  2.358405e+05  1.025843e+06   \n",
       "min        0.000000       0.000000  0.000000e+00  0.000000e+00  0.000000e+00   \n",
       "25%        0.000000       0.000000  0.000000e+00  0.000000e+00  0.000000e+00   \n",
       "50%        0.000000       0.000000  0.000000e+00  0.000000e+00  0.000000e+00   \n",
       "75%        0.000000       0.000000  0.000000e+00  0.000000e+00  0.000000e+00   \n",
       "max    14186.000000  736174.000000  1.047252e+07  1.914916e+07  7.305747e+07   \n",
       "\n",
       "       ...        ee_002        ee_003        ee_004        ee_005  \\\n",
       "count  ...  1.580800e+04  1.580800e+04  1.580800e+04  1.580800e+04   \n",
       "mean   ...  4.649135e+05  2.212010e+05  4.690886e+05  4.256696e+05   \n",
       "std    ...  1.255197e+06  5.828691e+05  1.267550e+06  1.259560e+06   \n",
       "min    ...  0.000000e+00  0.000000e+00  0.000000e+00  0.000000e+00   \n",
       "25%    ...  3.178000e+03  1.256000e+03  2.883500e+03  3.869500e+03   \n",
       "50%    ...  2.409860e+05  1.147800e+05  2.297080e+05  1.956510e+05   \n",
       "75%    ...  4.391320e+05  2.189510e+05  4.714860e+05  4.034105e+05   \n",
       "max    ...  5.382333e+07  2.207969e+07  4.859750e+07  5.604348e+07   \n",
       "\n",
       "             ee_006        ee_007        ee_008        ee_009        ef_000  \\\n",
       "count  1.580800e+04  1.580800e+04  1.580800e+04  1.580800e+04  15238.000000   \n",
       "mean   3.559239e+05  3.524014e+05  1.442759e+05  8.560355e+03      0.064969   \n",
       "std    1.199544e+06  1.628545e+06  5.368225e+05  5.329946e+04      3.374657   \n",
       "min    0.000000e+00  0.000000e+00  0.000000e+00  0.000000e+00      0.000000   \n",
       "25%    6.100000e+02  1.240000e+02  0.000000e+00  0.000000e+00      0.000000   \n",
       "50%    9.657000e+04  4.201300e+04  3.985000e+03  0.000000e+00      0.000000   \n",
       "75%    2.790355e+05  1.699100e+05  1.389310e+05  1.907000e+03      0.000000   \n",
       "max    4.215944e+07  4.747137e+07  1.718575e+07  4.570398e+06    340.000000   \n",
       "\n",
       "             eg_000  \n",
       "count  15238.000000  \n",
       "mean       0.242683  \n",
       "std       14.339059  \n",
       "min        0.000000  \n",
       "25%        0.000000  \n",
       "50%        0.000000  \n",
       "75%        0.000000  \n",
       "max     1720.000000  \n",
       "\n",
       "[8 rows x 170 columns]"
      ]
     },
     "execution_count": 10,
     "metadata": {},
     "output_type": "execute_result"
    }
   ],
   "source": [
    "test.describe()"
   ]
  },
  {
   "cell_type": "code",
   "execution_count": 11,
   "metadata": {
    "colab": {
     "base_uri": "https://localhost:8080/"
    },
    "id": "VsxMjINk-yQT",
    "outputId": "59f5f674-2da0-467f-fecb-5fca002e0b95"
   },
   "outputs": [
    {
     "name": "stdout",
     "output_type": "stream",
     "text": [
      "<class 'pandas.core.frame.DataFrame'>\n",
      "RangeIndex: 60000 entries, 0 to 59999\n",
      "Columns: 171 entries, class to eg_000\n",
      "dtypes: float64(169), int64(1), object(1)\n",
      "memory usage: 78.3+ MB\n"
     ]
    }
   ],
   "source": [
    "train.info()"
   ]
  },
  {
   "cell_type": "code",
   "execution_count": 12,
   "metadata": {
    "colab": {
     "base_uri": "https://localhost:8080/"
    },
    "id": "VDv0vUgh-zxf",
    "outputId": "79846198-4ba0-43e4-80ee-c065b990022c"
   },
   "outputs": [
    {
     "name": "stdout",
     "output_type": "stream",
     "text": [
      "<class 'pandas.core.frame.DataFrame'>\n",
      "RangeIndex: 16000 entries, 0 to 15999\n",
      "Columns: 171 entries, class to eg_000\n",
      "dtypes: float64(169), int64(1), object(1)\n",
      "memory usage: 20.9+ MB\n"
     ]
    }
   ],
   "source": [
    "test.info()"
   ]
  },
  {
   "cell_type": "markdown",
   "metadata": {
    "id": "zwpxXxxeQfkQ"
   },
   "source": [
    "##Null Ratio\n",
    "Lets have a look at the null ratio of the features."
   ]
  },
  {
   "cell_type": "code",
   "execution_count": 13,
   "metadata": {
    "colab": {
     "base_uri": "https://localhost:8080/",
     "height": 0
    },
    "id": "a_odlT4RQj-W",
    "outputId": "461b2bdb-623a-425a-e39a-15fe2760a833"
   },
   "outputs": [
    {
     "data": {
      "text/html": [
       "<html>\n",
       "<head><meta charset=\"utf-8\" /></head>\n",
       "<body>\n",
       "    <div>            <script src=\"https://cdnjs.cloudflare.com/ajax/libs/mathjax/2.7.5/MathJax.js?config=TeX-AMS-MML_SVG\"></script><script type=\"text/javascript\">if (window.MathJax) {MathJax.Hub.Config({SVG: {font: \"STIX-Web\"}});}</script>                <script type=\"text/javascript\">window.PlotlyConfig = {MathJaxConfig: 'local'};</script>\n",
       "        <script src=\"https://cdn.plot.ly/plotly-2.8.3.min.js\"></script>                <div id=\"c19faab4-4139-49a6-b52f-c1b8fac073f7\" class=\"plotly-graph-div\" style=\"height:525px; width:100%;\"></div>            <script type=\"text/javascript\">                                    window.PLOTLYENV=window.PLOTLYENV || {};                                    if (document.getElementById(\"c19faab4-4139-49a6-b52f-c1b8fac073f7\")) {                    Plotly.newPlot(                        \"c19faab4-4139-49a6-b52f-c1b8fac073f7\",                        [{\"x\":[\"br_000\",\"bq_000\",\"bp_000\",\"bo_000\",\"ab_000\",\"cr_000\",\"bn_000\",\"bm_000\",\"bl_000\",\"bk_000\",\"ch_000\",\"co_000\",\"cf_000\",\"cg_000\",\"ad_000\",\"db_000\",\"ct_000\",\"cu_000\",\"cv_000\",\"cx_000\",\"cy_000\",\"cz_000\",\"da_000\",\"dc_000\",\"ec_00\",\"cm_000\",\"ed_000\",\"cl_000\",\"ak_000\",\"ca_000\",\"dm_000\",\"dh_000\",\"dg_000\",\"df_000\",\"dl_000\",\"dj_000\",\"dk_000\",\"eb_000\",\"di_000\",\"ac_000\",\"bx_000\",\"cc_000\",\"ds_000\",\"bd_000\",\"dt_000\",\"du_000\",\"dv_000\",\"dp_000\",\"dq_000\",\"dr_000\",\"bc_000\",\"dy_000\",\"do_000\",\"de_000\",\"ef_000\",\"cp_000\",\"dx_000\",\"dz_000\",\"ea_000\",\"bz_000\",\"eg_000\",\"ar_000\",\"be_000\",\"dd_000\",\"ce_000\",\"ax_000\",\"ae_000\",\"af_000\",\"bf_000\",\"av_000\",\"bs_000\",\"cb_000\",\"dn_000\",\"cq_000\",\"bv_000\",\"bu_000\",\"ba_009\",\"ba_003\",\"ba_007\",\"ba_000\",\"ba_004\",\"ba_006\",\"ba_005\",\"ba_002\",\"ba_001\",\"ba_008\",\"cn_007\",\"cn_006\",\"cn_005\",\"cn_008\",\"cn_004\",\"cn_003\",\"cn_001\",\"cn_000\",\"cn_002\",\"cn_009\",\"cd_000\",\"ag_004\",\"ag_005\",\"ag_006\",\"ag_003\",\"ag_008\",\"ag_009\",\"ay_000\",\"ay_001\",\"ay_002\",\"ay_003\",\"ag_007\",\"az_009\",\"ag_002\",\"ag_001\",\"ag_000\",\"ee_000\",\"ee_001\",\"ee_002\",\"ee_003\",\"ee_004\",\"ee_005\",\"ee_006\",\"ee_007\",\"ee_008\",\"ee_009\",\"ay_004\",\"ay_005\",\"ay_006\",\"az_003\",\"ay_007\",\"ay_008\",\"ay_009\",\"az_000\",\"az_001\",\"az_002\",\"az_004\",\"az_005\",\"az_006\",\"az_007\",\"az_008\",\"cs_009\",\"cs_000\",\"cs_001\",\"cs_003\",\"cs_004\",\"cs_002\",\"cs_008\",\"cs_007\",\"cs_006\",\"cs_005\",\"ah_000\",\"bb_000\",\"ap_000\",\"bh_000\",\"al_000\",\"bg_000\",\"an_000\",\"at_000\",\"as_000\",\"aj_000\",\"ai_000\",\"am_0\",\"au_000\",\"bj_000\",\"aq_000\",\"ao_000\",\"bi_000\",\"by_000\",\"ci_000\",\"cj_000\",\"ck_000\",\"bt_000\"],\"y\":[0.8210666666666666,0.8120333333333334,0.7956666666666666,0.7722166666666667,0.77215,0.77215,0.7334833333333334,0.65915,0.45461666666666667,0.3839,0.24768333333333334,0.24768333333333334,0.24768333333333334,0.24768333333333334,0.24768333333333334,0.23013333333333333,0.23013333333333333,0.23013333333333333,0.23013333333333333,0.23013333333333333,0.23013333333333333,0.23013333333333333,0.23013333333333333,0.23013333333333333,0.17065,0.16461666666666666,0.15921666666666667,0.15921666666666667,0.07333333333333333,0.0726,0.06681666666666666,0.0668,0.0668,0.0668,0.0668,0.06678333333333333,0.06678333333333333,0.06678333333333333,0.06676666666666667,0.05558333333333333,0.054283333333333336,0.05425,0.04545,0.04545,0.04545,0.04543333333333333,0.04543333333333333,0.04543333333333333,0.04543333333333333,0.04543333333333333,0.04541666666666667,0.0454,0.0454,0.0454,0.0454,0.0454,0.04538333333333333,0.04538333333333333,0.04538333333333333,0.04538333333333333,0.04538333333333333,0.04538333333333333,0.041716666666666666,0.041716666666666666,0.0417,0.041683333333333336,0.041666666666666664,0.041666666666666664,0.041666666666666664,0.041666666666666664,0.0121,0.0121,0.011516666666666666,0.011516666666666666,0.011516666666666666,0.011516666666666666,0.011466666666666667,0.011466666666666667,0.011466666666666667,0.011466666666666667,0.011466666666666667,0.011466666666666667,0.011466666666666667,0.011466666666666667,0.011466666666666667,0.011466666666666667,0.01145,0.01145,0.01145,0.01145,0.01145,0.01145,0.01145,0.01145,0.01145,0.01145,0.011266666666666666,0.011183333333333333,0.011183333333333333,0.011183333333333333,0.011183333333333333,0.011183333333333333,0.011183333333333333,0.011183333333333333,0.011183333333333333,0.011183333333333333,0.011183333333333333,0.011183333333333333,0.011183333333333333,0.011183333333333333,0.011183333333333333,0.011183333333333333,0.011183333333333333,0.011183333333333333,0.011183333333333333,0.011183333333333333,0.011183333333333333,0.011183333333333333,0.011183333333333333,0.011183333333333333,0.011183333333333333,0.011183333333333333,0.011183333333333333,0.011183333333333333,0.011183333333333333,0.011183333333333333,0.011183333333333333,0.011183333333333333,0.011183333333333333,0.011183333333333333,0.011183333333333333,0.011183333333333333,0.011183333333333333,0.011183333333333333,0.011183333333333333,0.011183333333333333,0.011183333333333333,0.01115,0.01115,0.01115,0.01115,0.01115,0.01115,0.01115,0.01115,0.01115,0.01115,0.01075,0.01075,0.0107,0.0107,0.0107,0.0107,0.0107,0.010483333333333334,0.010483333333333334,0.010483333333333334,0.010483333333333334,0.010483333333333334,0.010483333333333334,0.009816666666666666,0.009816666666666666,0.009816666666666666,0.009816666666666666,0.007883333333333332,0.005633333333333333,0.005633333333333333,0.005633333333333333,0.0027833333333333334],\"type\":\"bar\"}],                        {\"template\":{\"data\":{\"barpolar\":[{\"marker\":{\"line\":{\"color\":\"#E5ECF6\",\"width\":0.5},\"pattern\":{\"fillmode\":\"overlay\",\"size\":10,\"solidity\":0.2}},\"type\":\"barpolar\"}],\"bar\":[{\"error_x\":{\"color\":\"#2a3f5f\"},\"error_y\":{\"color\":\"#2a3f5f\"},\"marker\":{\"line\":{\"color\":\"#E5ECF6\",\"width\":0.5},\"pattern\":{\"fillmode\":\"overlay\",\"size\":10,\"solidity\":0.2}},\"type\":\"bar\"}],\"carpet\":[{\"aaxis\":{\"endlinecolor\":\"#2a3f5f\",\"gridcolor\":\"white\",\"linecolor\":\"white\",\"minorgridcolor\":\"white\",\"startlinecolor\":\"#2a3f5f\"},\"baxis\":{\"endlinecolor\":\"#2a3f5f\",\"gridcolor\":\"white\",\"linecolor\":\"white\",\"minorgridcolor\":\"white\",\"startlinecolor\":\"#2a3f5f\"},\"type\":\"carpet\"}],\"choropleth\":[{\"colorbar\":{\"outlinewidth\":0,\"ticks\":\"\"},\"type\":\"choropleth\"}],\"contourcarpet\":[{\"colorbar\":{\"outlinewidth\":0,\"ticks\":\"\"},\"type\":\"contourcarpet\"}],\"contour\":[{\"colorbar\":{\"outlinewidth\":0,\"ticks\":\"\"},\"colorscale\":[[0.0,\"#0d0887\"],[0.1111111111111111,\"#46039f\"],[0.2222222222222222,\"#7201a8\"],[0.3333333333333333,\"#9c179e\"],[0.4444444444444444,\"#bd3786\"],[0.5555555555555556,\"#d8576b\"],[0.6666666666666666,\"#ed7953\"],[0.7777777777777778,\"#fb9f3a\"],[0.8888888888888888,\"#fdca26\"],[1.0,\"#f0f921\"]],\"type\":\"contour\"}],\"heatmapgl\":[{\"colorbar\":{\"outlinewidth\":0,\"ticks\":\"\"},\"colorscale\":[[0.0,\"#0d0887\"],[0.1111111111111111,\"#46039f\"],[0.2222222222222222,\"#7201a8\"],[0.3333333333333333,\"#9c179e\"],[0.4444444444444444,\"#bd3786\"],[0.5555555555555556,\"#d8576b\"],[0.6666666666666666,\"#ed7953\"],[0.7777777777777778,\"#fb9f3a\"],[0.8888888888888888,\"#fdca26\"],[1.0,\"#f0f921\"]],\"type\":\"heatmapgl\"}],\"heatmap\":[{\"colorbar\":{\"outlinewidth\":0,\"ticks\":\"\"},\"colorscale\":[[0.0,\"#0d0887\"],[0.1111111111111111,\"#46039f\"],[0.2222222222222222,\"#7201a8\"],[0.3333333333333333,\"#9c179e\"],[0.4444444444444444,\"#bd3786\"],[0.5555555555555556,\"#d8576b\"],[0.6666666666666666,\"#ed7953\"],[0.7777777777777778,\"#fb9f3a\"],[0.8888888888888888,\"#fdca26\"],[1.0,\"#f0f921\"]],\"type\":\"heatmap\"}],\"histogram2dcontour\":[{\"colorbar\":{\"outlinewidth\":0,\"ticks\":\"\"},\"colorscale\":[[0.0,\"#0d0887\"],[0.1111111111111111,\"#46039f\"],[0.2222222222222222,\"#7201a8\"],[0.3333333333333333,\"#9c179e\"],[0.4444444444444444,\"#bd3786\"],[0.5555555555555556,\"#d8576b\"],[0.6666666666666666,\"#ed7953\"],[0.7777777777777778,\"#fb9f3a\"],[0.8888888888888888,\"#fdca26\"],[1.0,\"#f0f921\"]],\"type\":\"histogram2dcontour\"}],\"histogram2d\":[{\"colorbar\":{\"outlinewidth\":0,\"ticks\":\"\"},\"colorscale\":[[0.0,\"#0d0887\"],[0.1111111111111111,\"#46039f\"],[0.2222222222222222,\"#7201a8\"],[0.3333333333333333,\"#9c179e\"],[0.4444444444444444,\"#bd3786\"],[0.5555555555555556,\"#d8576b\"],[0.6666666666666666,\"#ed7953\"],[0.7777777777777778,\"#fb9f3a\"],[0.8888888888888888,\"#fdca26\"],[1.0,\"#f0f921\"]],\"type\":\"histogram2d\"}],\"histogram\":[{\"marker\":{\"pattern\":{\"fillmode\":\"overlay\",\"size\":10,\"solidity\":0.2}},\"type\":\"histogram\"}],\"mesh3d\":[{\"colorbar\":{\"outlinewidth\":0,\"ticks\":\"\"},\"type\":\"mesh3d\"}],\"parcoords\":[{\"line\":{\"colorbar\":{\"outlinewidth\":0,\"ticks\":\"\"}},\"type\":\"parcoords\"}],\"pie\":[{\"automargin\":true,\"type\":\"pie\"}],\"scatter3d\":[{\"line\":{\"colorbar\":{\"outlinewidth\":0,\"ticks\":\"\"}},\"marker\":{\"colorbar\":{\"outlinewidth\":0,\"ticks\":\"\"}},\"type\":\"scatter3d\"}],\"scattercarpet\":[{\"marker\":{\"colorbar\":{\"outlinewidth\":0,\"ticks\":\"\"}},\"type\":\"scattercarpet\"}],\"scattergeo\":[{\"marker\":{\"colorbar\":{\"outlinewidth\":0,\"ticks\":\"\"}},\"type\":\"scattergeo\"}],\"scattergl\":[{\"marker\":{\"colorbar\":{\"outlinewidth\":0,\"ticks\":\"\"}},\"type\":\"scattergl\"}],\"scattermapbox\":[{\"marker\":{\"colorbar\":{\"outlinewidth\":0,\"ticks\":\"\"}},\"type\":\"scattermapbox\"}],\"scatterpolargl\":[{\"marker\":{\"colorbar\":{\"outlinewidth\":0,\"ticks\":\"\"}},\"type\":\"scatterpolargl\"}],\"scatterpolar\":[{\"marker\":{\"colorbar\":{\"outlinewidth\":0,\"ticks\":\"\"}},\"type\":\"scatterpolar\"}],\"scatter\":[{\"marker\":{\"colorbar\":{\"outlinewidth\":0,\"ticks\":\"\"}},\"type\":\"scatter\"}],\"scatterternary\":[{\"marker\":{\"colorbar\":{\"outlinewidth\":0,\"ticks\":\"\"}},\"type\":\"scatterternary\"}],\"surface\":[{\"colorbar\":{\"outlinewidth\":0,\"ticks\":\"\"},\"colorscale\":[[0.0,\"#0d0887\"],[0.1111111111111111,\"#46039f\"],[0.2222222222222222,\"#7201a8\"],[0.3333333333333333,\"#9c179e\"],[0.4444444444444444,\"#bd3786\"],[0.5555555555555556,\"#d8576b\"],[0.6666666666666666,\"#ed7953\"],[0.7777777777777778,\"#fb9f3a\"],[0.8888888888888888,\"#fdca26\"],[1.0,\"#f0f921\"]],\"type\":\"surface\"}],\"table\":[{\"cells\":{\"fill\":{\"color\":\"#EBF0F8\"},\"line\":{\"color\":\"white\"}},\"header\":{\"fill\":{\"color\":\"#C8D4E3\"},\"line\":{\"color\":\"white\"}},\"type\":\"table\"}]},\"layout\":{\"annotationdefaults\":{\"arrowcolor\":\"#2a3f5f\",\"arrowhead\":0,\"arrowwidth\":1},\"autotypenumbers\":\"strict\",\"coloraxis\":{\"colorbar\":{\"outlinewidth\":0,\"ticks\":\"\"}},\"colorscale\":{\"diverging\":[[0,\"#8e0152\"],[0.1,\"#c51b7d\"],[0.2,\"#de77ae\"],[0.3,\"#f1b6da\"],[0.4,\"#fde0ef\"],[0.5,\"#f7f7f7\"],[0.6,\"#e6f5d0\"],[0.7,\"#b8e186\"],[0.8,\"#7fbc41\"],[0.9,\"#4d9221\"],[1,\"#276419\"]],\"sequential\":[[0.0,\"#0d0887\"],[0.1111111111111111,\"#46039f\"],[0.2222222222222222,\"#7201a8\"],[0.3333333333333333,\"#9c179e\"],[0.4444444444444444,\"#bd3786\"],[0.5555555555555556,\"#d8576b\"],[0.6666666666666666,\"#ed7953\"],[0.7777777777777778,\"#fb9f3a\"],[0.8888888888888888,\"#fdca26\"],[1.0,\"#f0f921\"]],\"sequentialminus\":[[0.0,\"#0d0887\"],[0.1111111111111111,\"#46039f\"],[0.2222222222222222,\"#7201a8\"],[0.3333333333333333,\"#9c179e\"],[0.4444444444444444,\"#bd3786\"],[0.5555555555555556,\"#d8576b\"],[0.6666666666666666,\"#ed7953\"],[0.7777777777777778,\"#fb9f3a\"],[0.8888888888888888,\"#fdca26\"],[1.0,\"#f0f921\"]]},\"colorway\":[\"#636efa\",\"#EF553B\",\"#00cc96\",\"#ab63fa\",\"#FFA15A\",\"#19d3f3\",\"#FF6692\",\"#B6E880\",\"#FF97FF\",\"#FECB52\"],\"font\":{\"color\":\"#2a3f5f\"},\"geo\":{\"bgcolor\":\"white\",\"lakecolor\":\"white\",\"landcolor\":\"#E5ECF6\",\"showlakes\":true,\"showland\":true,\"subunitcolor\":\"white\"},\"hoverlabel\":{\"align\":\"left\"},\"hovermode\":\"closest\",\"mapbox\":{\"style\":\"light\"},\"paper_bgcolor\":\"white\",\"plot_bgcolor\":\"#E5ECF6\",\"polar\":{\"angularaxis\":{\"gridcolor\":\"white\",\"linecolor\":\"white\",\"ticks\":\"\"},\"bgcolor\":\"#E5ECF6\",\"radialaxis\":{\"gridcolor\":\"white\",\"linecolor\":\"white\",\"ticks\":\"\"}},\"scene\":{\"xaxis\":{\"backgroundcolor\":\"#E5ECF6\",\"gridcolor\":\"white\",\"gridwidth\":2,\"linecolor\":\"white\",\"showbackground\":true,\"ticks\":\"\",\"zerolinecolor\":\"white\"},\"yaxis\":{\"backgroundcolor\":\"#E5ECF6\",\"gridcolor\":\"white\",\"gridwidth\":2,\"linecolor\":\"white\",\"showbackground\":true,\"ticks\":\"\",\"zerolinecolor\":\"white\"},\"zaxis\":{\"backgroundcolor\":\"#E5ECF6\",\"gridcolor\":\"white\",\"gridwidth\":2,\"linecolor\":\"white\",\"showbackground\":true,\"ticks\":\"\",\"zerolinecolor\":\"white\"}},\"shapedefaults\":{\"line\":{\"color\":\"#2a3f5f\"}},\"ternary\":{\"aaxis\":{\"gridcolor\":\"white\",\"linecolor\":\"white\",\"ticks\":\"\"},\"baxis\":{\"gridcolor\":\"white\",\"linecolor\":\"white\",\"ticks\":\"\"},\"bgcolor\":\"#E5ECF6\",\"caxis\":{\"gridcolor\":\"white\",\"linecolor\":\"white\",\"ticks\":\"\"}},\"title\":{\"x\":0.05},\"xaxis\":{\"automargin\":true,\"gridcolor\":\"white\",\"linecolor\":\"white\",\"ticks\":\"\",\"title\":{\"standoff\":15},\"zerolinecolor\":\"white\",\"zerolinewidth\":2},\"yaxis\":{\"automargin\":true,\"gridcolor\":\"white\",\"linecolor\":\"white\",\"ticks\":\"\",\"title\":{\"standoff\":15},\"zerolinecolor\":\"white\",\"zerolinewidth\":2}}},\"title\":{\"text\":\"Null Ratio for Features with Null Ratio Exceeding 0\"}},                        {\"responsive\": true}                    ).then(function(){\n",
       "                            \n",
       "var gd = document.getElementById('c19faab4-4139-49a6-b52f-c1b8fac073f7');\n",
       "var x = new MutationObserver(function (mutations, observer) {{\n",
       "        var display = window.getComputedStyle(gd).display;\n",
       "        if (!display || display === 'none') {{\n",
       "            console.log([gd, 'removed!']);\n",
       "            Plotly.purge(gd);\n",
       "            observer.disconnect();\n",
       "        }}\n",
       "}});\n",
       "\n",
       "// Listen for the removal of the full notebook cells\n",
       "var notebookContainer = gd.closest('#notebook-container');\n",
       "if (notebookContainer) {{\n",
       "    x.observe(notebookContainer, {childList: true});\n",
       "}}\n",
       "\n",
       "// Listen for the clearing of the current output cell\n",
       "var outputEl = gd.closest('.output');\n",
       "if (outputEl) {{\n",
       "    x.observe(outputEl, {childList: true});\n",
       "}}\n",
       "\n",
       "                        })                };                            </script>        </div>\n",
       "</body>\n",
       "</html>"
      ]
     },
     "metadata": {},
     "output_type": "display_data"
    }
   ],
   "source": [
    "NULL_RATIO_TRHESHOLD = 0 # Set the null ratio threshold required\n",
    "\n",
    "\n",
    "null_ratios = (train.isnull().sum() / train.shape[0])\n",
    "null_ratios_over_threshold = null_ratios[null_ratios > NULL_RATIO_TRHESHOLD].sort_values(ascending=False)\n",
    "\n",
    "data = [\n",
    "    go.Bar(\n",
    "        x=null_ratios_over_threshold.index,\n",
    "        y=null_ratios_over_threshold\n",
    "    )\n",
    "]\n",
    "\n",
    "fig = go.Figure(data=data, layout={\n",
    "    \"title\": \"Null Ratio for Features with Null Ratio Exceeding {}\".format(NULL_RATIO_TRHESHOLD)\n",
    "})\n",
    "\n",
    "plotly.offline.iplot(fig)\n"
   ]
  },
  {
   "cell_type": "markdown",
   "metadata": {
    "id": "ek_I5j1iQvn0"
   },
   "source": [
    "We have quite a few features with a null ratio of more than 70%! Dropping high null ratio features from cross-validation grid search will be added later."
   ]
  },
  {
   "cell_type": "markdown",
   "metadata": {
    "id": "TrDkWlafQxp9"
   },
   "source": [
    "##correlation\n",
    "###Let's have a look at the feature correlations."
   ]
  },
  {
   "cell_type": "code",
   "execution_count": 14,
   "metadata": {
    "colab": {
     "base_uri": "https://localhost:8080/",
     "height": 0
    },
    "id": "3bJ7KZo0pHmn",
    "outputId": "69ead161-6aa6-4ecb-b1e3-9698f3682db7"
   },
   "outputs": [
    {
     "data": {
      "text/html": [
       "\n",
       "  <div id=\"df-a60f18e5-fa2f-490d-a059-6860f852e0a8\">\n",
       "    <div class=\"colab-df-container\">\n",
       "      <div>\n",
       "<style scoped>\n",
       "    .dataframe tbody tr th:only-of-type {\n",
       "        vertical-align: middle;\n",
       "    }\n",
       "\n",
       "    .dataframe tbody tr th {\n",
       "        vertical-align: top;\n",
       "    }\n",
       "\n",
       "    .dataframe thead th {\n",
       "        text-align: right;\n",
       "    }\n",
       "</style>\n",
       "<table border=\"1\" class=\"dataframe\">\n",
       "  <thead>\n",
       "    <tr style=\"text-align: right;\">\n",
       "      <th></th>\n",
       "      <th>aa_000</th>\n",
       "      <th>ab_000</th>\n",
       "      <th>ac_000</th>\n",
       "      <th>ad_000</th>\n",
       "      <th>ae_000</th>\n",
       "      <th>af_000</th>\n",
       "      <th>ag_000</th>\n",
       "      <th>ag_001</th>\n",
       "      <th>ag_002</th>\n",
       "      <th>ag_003</th>\n",
       "      <th>...</th>\n",
       "      <th>ee_002</th>\n",
       "      <th>ee_003</th>\n",
       "      <th>ee_004</th>\n",
       "      <th>ee_005</th>\n",
       "      <th>ee_006</th>\n",
       "      <th>ee_007</th>\n",
       "      <th>ee_008</th>\n",
       "      <th>ee_009</th>\n",
       "      <th>ef_000</th>\n",
       "      <th>eg_000</th>\n",
       "    </tr>\n",
       "  </thead>\n",
       "  <tbody>\n",
       "    <tr>\n",
       "      <th>aa_000</th>\n",
       "      <td>1.000000</td>\n",
       "      <td>0.073103</td>\n",
       "      <td>-0.032055</td>\n",
       "      <td>-0.001903</td>\n",
       "      <td>0.061971</td>\n",
       "      <td>0.089474</td>\n",
       "      <td>0.018610</td>\n",
       "      <td>0.143153</td>\n",
       "      <td>0.285815</td>\n",
       "      <td>0.495529</td>\n",
       "      <td>...</td>\n",
       "      <td>0.735324</td>\n",
       "      <td>0.739211</td>\n",
       "      <td>0.717810</td>\n",
       "      <td>0.727240</td>\n",
       "      <td>0.726984</td>\n",
       "      <td>0.606232</td>\n",
       "      <td>0.471707</td>\n",
       "      <td>0.248039</td>\n",
       "      <td>0.019865</td>\n",
       "      <td>0.037099</td>\n",
       "    </tr>\n",
       "    <tr>\n",
       "      <th>ab_000</th>\n",
       "      <td>0.073103</td>\n",
       "      <td>1.000000</td>\n",
       "      <td>-0.019411</td>\n",
       "      <td>0.047281</td>\n",
       "      <td>0.031031</td>\n",
       "      <td>0.053532</td>\n",
       "      <td>0.008418</td>\n",
       "      <td>0.013658</td>\n",
       "      <td>0.050068</td>\n",
       "      <td>0.068100</td>\n",
       "      <td>...</td>\n",
       "      <td>0.062280</td>\n",
       "      <td>0.098808</td>\n",
       "      <td>0.068790</td>\n",
       "      <td>0.078091</td>\n",
       "      <td>0.048717</td>\n",
       "      <td>0.023867</td>\n",
       "      <td>0.039369</td>\n",
       "      <td>0.074119</td>\n",
       "      <td>0.055590</td>\n",
       "      <td>0.162948</td>\n",
       "    </tr>\n",
       "    <tr>\n",
       "      <th>ac_000</th>\n",
       "      <td>-0.032055</td>\n",
       "      <td>-0.019411</td>\n",
       "      <td>1.000000</td>\n",
       "      <td>-0.002380</td>\n",
       "      <td>-0.004997</td>\n",
       "      <td>-0.010554</td>\n",
       "      <td>0.017620</td>\n",
       "      <td>-0.001088</td>\n",
       "      <td>-0.016665</td>\n",
       "      <td>-0.038680</td>\n",
       "      <td>...</td>\n",
       "      <td>-0.013692</td>\n",
       "      <td>-0.008111</td>\n",
       "      <td>-0.009849</td>\n",
       "      <td>-0.011206</td>\n",
       "      <td>-0.021430</td>\n",
       "      <td>-0.029417</td>\n",
       "      <td>0.016908</td>\n",
       "      <td>0.024354</td>\n",
       "      <td>-0.006571</td>\n",
       "      <td>0.014228</td>\n",
       "    </tr>\n",
       "    <tr>\n",
       "      <th>ad_000</th>\n",
       "      <td>-0.001903</td>\n",
       "      <td>0.047281</td>\n",
       "      <td>-0.002380</td>\n",
       "      <td>1.000000</td>\n",
       "      <td>-0.000214</td>\n",
       "      <td>-0.000269</td>\n",
       "      <td>-0.000047</td>\n",
       "      <td>-0.000131</td>\n",
       "      <td>-0.000222</td>\n",
       "      <td>-0.000423</td>\n",
       "      <td>...</td>\n",
       "      <td>-0.002090</td>\n",
       "      <td>-0.002047</td>\n",
       "      <td>-0.001940</td>\n",
       "      <td>-0.001667</td>\n",
       "      <td>-0.001398</td>\n",
       "      <td>-0.000829</td>\n",
       "      <td>-0.002161</td>\n",
       "      <td>-0.001050</td>\n",
       "      <td>-0.000102</td>\n",
       "      <td>-0.000120</td>\n",
       "    </tr>\n",
       "    <tr>\n",
       "      <th>ae_000</th>\n",
       "      <td>0.061971</td>\n",
       "      <td>0.031031</td>\n",
       "      <td>-0.004997</td>\n",
       "      <td>-0.000214</td>\n",
       "      <td>1.000000</td>\n",
       "      <td>0.823108</td>\n",
       "      <td>-0.000430</td>\n",
       "      <td>-0.000832</td>\n",
       "      <td>0.005057</td>\n",
       "      <td>0.034163</td>\n",
       "      <td>...</td>\n",
       "      <td>0.017338</td>\n",
       "      <td>0.024905</td>\n",
       "      <td>0.017311</td>\n",
       "      <td>0.039967</td>\n",
       "      <td>0.085884</td>\n",
       "      <td>0.052357</td>\n",
       "      <td>-0.010850</td>\n",
       "      <td>-0.008206</td>\n",
       "      <td>0.070886</td>\n",
       "      <td>0.041715</td>\n",
       "    </tr>\n",
       "    <tr>\n",
       "      <th>...</th>\n",
       "      <td>...</td>\n",
       "      <td>...</td>\n",
       "      <td>...</td>\n",
       "      <td>...</td>\n",
       "      <td>...</td>\n",
       "      <td>...</td>\n",
       "      <td>...</td>\n",
       "      <td>...</td>\n",
       "      <td>...</td>\n",
       "      <td>...</td>\n",
       "      <td>...</td>\n",
       "      <td>...</td>\n",
       "      <td>...</td>\n",
       "      <td>...</td>\n",
       "      <td>...</td>\n",
       "      <td>...</td>\n",
       "      <td>...</td>\n",
       "      <td>...</td>\n",
       "      <td>...</td>\n",
       "      <td>...</td>\n",
       "      <td>...</td>\n",
       "    </tr>\n",
       "    <tr>\n",
       "      <th>ee_007</th>\n",
       "      <td>0.606232</td>\n",
       "      <td>0.023867</td>\n",
       "      <td>-0.029417</td>\n",
       "      <td>-0.000829</td>\n",
       "      <td>0.052357</td>\n",
       "      <td>0.070306</td>\n",
       "      <td>0.000307</td>\n",
       "      <td>0.044186</td>\n",
       "      <td>0.182990</td>\n",
       "      <td>0.505565</td>\n",
       "      <td>...</td>\n",
       "      <td>0.454833</td>\n",
       "      <td>0.446803</td>\n",
       "      <td>0.437682</td>\n",
       "      <td>0.379892</td>\n",
       "      <td>0.545929</td>\n",
       "      <td>1.000000</td>\n",
       "      <td>0.224938</td>\n",
       "      <td>0.061478</td>\n",
       "      <td>-0.000715</td>\n",
       "      <td>0.002708</td>\n",
       "    </tr>\n",
       "    <tr>\n",
       "      <th>ee_008</th>\n",
       "      <td>0.471707</td>\n",
       "      <td>0.039369</td>\n",
       "      <td>0.016908</td>\n",
       "      <td>-0.002161</td>\n",
       "      <td>-0.010850</td>\n",
       "      <td>-0.013976</td>\n",
       "      <td>-0.000823</td>\n",
       "      <td>0.004878</td>\n",
       "      <td>0.009466</td>\n",
       "      <td>0.021151</td>\n",
       "      <td>...</td>\n",
       "      <td>0.453811</td>\n",
       "      <td>0.481392</td>\n",
       "      <td>0.459517</td>\n",
       "      <td>0.406920</td>\n",
       "      <td>0.373871</td>\n",
       "      <td>0.224938</td>\n",
       "      <td>1.000000</td>\n",
       "      <td>0.710056</td>\n",
       "      <td>-0.006991</td>\n",
       "      <td>-0.002833</td>\n",
       "    </tr>\n",
       "    <tr>\n",
       "      <th>ee_009</th>\n",
       "      <td>0.248039</td>\n",
       "      <td>0.074119</td>\n",
       "      <td>0.024354</td>\n",
       "      <td>-0.001050</td>\n",
       "      <td>-0.008206</td>\n",
       "      <td>-0.010237</td>\n",
       "      <td>-0.001230</td>\n",
       "      <td>-0.004309</td>\n",
       "      <td>-0.009498</td>\n",
       "      <td>-0.019311</td>\n",
       "      <td>...</td>\n",
       "      <td>0.228248</td>\n",
       "      <td>0.239302</td>\n",
       "      <td>0.224638</td>\n",
       "      <td>0.190667</td>\n",
       "      <td>0.163792</td>\n",
       "      <td>0.061478</td>\n",
       "      <td>0.710056</td>\n",
       "      <td>1.000000</td>\n",
       "      <td>-0.003942</td>\n",
       "      <td>-0.000907</td>\n",
       "    </tr>\n",
       "    <tr>\n",
       "      <th>ef_000</th>\n",
       "      <td>0.019865</td>\n",
       "      <td>0.055590</td>\n",
       "      <td>-0.006571</td>\n",
       "      <td>-0.000102</td>\n",
       "      <td>0.070886</td>\n",
       "      <td>0.106281</td>\n",
       "      <td>-0.000072</td>\n",
       "      <td>0.002875</td>\n",
       "      <td>0.011824</td>\n",
       "      <td>0.020560</td>\n",
       "      <td>...</td>\n",
       "      <td>0.007118</td>\n",
       "      <td>0.017480</td>\n",
       "      <td>0.005835</td>\n",
       "      <td>0.050270</td>\n",
       "      <td>0.008461</td>\n",
       "      <td>-0.000715</td>\n",
       "      <td>-0.006991</td>\n",
       "      <td>-0.003942</td>\n",
       "      <td>1.000000</td>\n",
       "      <td>0.282184</td>\n",
       "    </tr>\n",
       "    <tr>\n",
       "      <th>eg_000</th>\n",
       "      <td>0.037099</td>\n",
       "      <td>0.162948</td>\n",
       "      <td>0.014228</td>\n",
       "      <td>-0.000120</td>\n",
       "      <td>0.041715</td>\n",
       "      <td>0.060710</td>\n",
       "      <td>0.000244</td>\n",
       "      <td>0.010930</td>\n",
       "      <td>0.034202</td>\n",
       "      <td>0.024210</td>\n",
       "      <td>...</td>\n",
       "      <td>0.008843</td>\n",
       "      <td>0.013671</td>\n",
       "      <td>0.014528</td>\n",
       "      <td>0.018663</td>\n",
       "      <td>0.033091</td>\n",
       "      <td>0.002708</td>\n",
       "      <td>-0.002833</td>\n",
       "      <td>-0.000907</td>\n",
       "      <td>0.282184</td>\n",
       "      <td>1.000000</td>\n",
       "    </tr>\n",
       "  </tbody>\n",
       "</table>\n",
       "<p>170 rows × 170 columns</p>\n",
       "</div>\n",
       "      <button class=\"colab-df-convert\" onclick=\"convertToInteractive('df-a60f18e5-fa2f-490d-a059-6860f852e0a8')\"\n",
       "              title=\"Convert this dataframe to an interactive table.\"\n",
       "              style=\"display:none;\">\n",
       "        \n",
       "  <svg xmlns=\"http://www.w3.org/2000/svg\" height=\"24px\"viewBox=\"0 0 24 24\"\n",
       "       width=\"24px\">\n",
       "    <path d=\"M0 0h24v24H0V0z\" fill=\"none\"/>\n",
       "    <path d=\"M18.56 5.44l.94 2.06.94-2.06 2.06-.94-2.06-.94-.94-2.06-.94 2.06-2.06.94zm-11 1L8.5 8.5l.94-2.06 2.06-.94-2.06-.94L8.5 2.5l-.94 2.06-2.06.94zm10 10l.94 2.06.94-2.06 2.06-.94-2.06-.94-.94-2.06-.94 2.06-2.06.94z\"/><path d=\"M17.41 7.96l-1.37-1.37c-.4-.4-.92-.59-1.43-.59-.52 0-1.04.2-1.43.59L10.3 9.45l-7.72 7.72c-.78.78-.78 2.05 0 2.83L4 21.41c.39.39.9.59 1.41.59.51 0 1.02-.2 1.41-.59l7.78-7.78 2.81-2.81c.8-.78.8-2.07 0-2.86zM5.41 20L4 18.59l7.72-7.72 1.47 1.35L5.41 20z\"/>\n",
       "  </svg>\n",
       "      </button>\n",
       "      \n",
       "  <style>\n",
       "    .colab-df-container {\n",
       "      display:flex;\n",
       "      flex-wrap:wrap;\n",
       "      gap: 12px;\n",
       "    }\n",
       "\n",
       "    .colab-df-convert {\n",
       "      background-color: #E8F0FE;\n",
       "      border: none;\n",
       "      border-radius: 50%;\n",
       "      cursor: pointer;\n",
       "      display: none;\n",
       "      fill: #1967D2;\n",
       "      height: 32px;\n",
       "      padding: 0 0 0 0;\n",
       "      width: 32px;\n",
       "    }\n",
       "\n",
       "    .colab-df-convert:hover {\n",
       "      background-color: #E2EBFA;\n",
       "      box-shadow: 0px 1px 2px rgba(60, 64, 67, 0.3), 0px 1px 3px 1px rgba(60, 64, 67, 0.15);\n",
       "      fill: #174EA6;\n",
       "    }\n",
       "\n",
       "    [theme=dark] .colab-df-convert {\n",
       "      background-color: #3B4455;\n",
       "      fill: #D2E3FC;\n",
       "    }\n",
       "\n",
       "    [theme=dark] .colab-df-convert:hover {\n",
       "      background-color: #434B5C;\n",
       "      box-shadow: 0px 1px 3px 1px rgba(0, 0, 0, 0.15);\n",
       "      filter: drop-shadow(0px 1px 2px rgba(0, 0, 0, 0.3));\n",
       "      fill: #FFFFFF;\n",
       "    }\n",
       "  </style>\n",
       "\n",
       "      <script>\n",
       "        const buttonEl =\n",
       "          document.querySelector('#df-a60f18e5-fa2f-490d-a059-6860f852e0a8 button.colab-df-convert');\n",
       "        buttonEl.style.display =\n",
       "          google.colab.kernel.accessAllowed ? 'block' : 'none';\n",
       "\n",
       "        async function convertToInteractive(key) {\n",
       "          const element = document.querySelector('#df-a60f18e5-fa2f-490d-a059-6860f852e0a8');\n",
       "          const dataTable =\n",
       "            await google.colab.kernel.invokeFunction('convertToInteractive',\n",
       "                                                     [key], {});\n",
       "          if (!dataTable) return;\n",
       "\n",
       "          const docLinkHtml = 'Like what you see? Visit the ' +\n",
       "            '<a target=\"_blank\" href=https://colab.research.google.com/notebooks/data_table.ipynb>data table notebook</a>'\n",
       "            + ' to learn more about interactive tables.';\n",
       "          element.innerHTML = '';\n",
       "          dataTable['output_type'] = 'display_data';\n",
       "          await google.colab.output.renderOutput(dataTable, element);\n",
       "          const docLink = document.createElement('div');\n",
       "          docLink.innerHTML = docLinkHtml;\n",
       "          element.appendChild(docLink);\n",
       "        }\n",
       "      </script>\n",
       "    </div>\n",
       "  </div>\n",
       "  "
      ],
      "text/plain": [
       "          aa_000    ab_000    ac_000    ad_000    ae_000    af_000    ag_000  \\\n",
       "aa_000  1.000000  0.073103 -0.032055 -0.001903  0.061971  0.089474  0.018610   \n",
       "ab_000  0.073103  1.000000 -0.019411  0.047281  0.031031  0.053532  0.008418   \n",
       "ac_000 -0.032055 -0.019411  1.000000 -0.002380 -0.004997 -0.010554  0.017620   \n",
       "ad_000 -0.001903  0.047281 -0.002380  1.000000 -0.000214 -0.000269 -0.000047   \n",
       "ae_000  0.061971  0.031031 -0.004997 -0.000214  1.000000  0.823108 -0.000430   \n",
       "...          ...       ...       ...       ...       ...       ...       ...   \n",
       "ee_007  0.606232  0.023867 -0.029417 -0.000829  0.052357  0.070306  0.000307   \n",
       "ee_008  0.471707  0.039369  0.016908 -0.002161 -0.010850 -0.013976 -0.000823   \n",
       "ee_009  0.248039  0.074119  0.024354 -0.001050 -0.008206 -0.010237 -0.001230   \n",
       "ef_000  0.019865  0.055590 -0.006571 -0.000102  0.070886  0.106281 -0.000072   \n",
       "eg_000  0.037099  0.162948  0.014228 -0.000120  0.041715  0.060710  0.000244   \n",
       "\n",
       "          ag_001    ag_002    ag_003  ...    ee_002    ee_003    ee_004  \\\n",
       "aa_000  0.143153  0.285815  0.495529  ...  0.735324  0.739211  0.717810   \n",
       "ab_000  0.013658  0.050068  0.068100  ...  0.062280  0.098808  0.068790   \n",
       "ac_000 -0.001088 -0.016665 -0.038680  ... -0.013692 -0.008111 -0.009849   \n",
       "ad_000 -0.000131 -0.000222 -0.000423  ... -0.002090 -0.002047 -0.001940   \n",
       "ae_000 -0.000832  0.005057  0.034163  ...  0.017338  0.024905  0.017311   \n",
       "...          ...       ...       ...  ...       ...       ...       ...   \n",
       "ee_007  0.044186  0.182990  0.505565  ...  0.454833  0.446803  0.437682   \n",
       "ee_008  0.004878  0.009466  0.021151  ...  0.453811  0.481392  0.459517   \n",
       "ee_009 -0.004309 -0.009498 -0.019311  ...  0.228248  0.239302  0.224638   \n",
       "ef_000  0.002875  0.011824  0.020560  ...  0.007118  0.017480  0.005835   \n",
       "eg_000  0.010930  0.034202  0.024210  ...  0.008843  0.013671  0.014528   \n",
       "\n",
       "          ee_005    ee_006    ee_007    ee_008    ee_009    ef_000    eg_000  \n",
       "aa_000  0.727240  0.726984  0.606232  0.471707  0.248039  0.019865  0.037099  \n",
       "ab_000  0.078091  0.048717  0.023867  0.039369  0.074119  0.055590  0.162948  \n",
       "ac_000 -0.011206 -0.021430 -0.029417  0.016908  0.024354 -0.006571  0.014228  \n",
       "ad_000 -0.001667 -0.001398 -0.000829 -0.002161 -0.001050 -0.000102 -0.000120  \n",
       "ae_000  0.039967  0.085884  0.052357 -0.010850 -0.008206  0.070886  0.041715  \n",
       "...          ...       ...       ...       ...       ...       ...       ...  \n",
       "ee_007  0.379892  0.545929  1.000000  0.224938  0.061478 -0.000715  0.002708  \n",
       "ee_008  0.406920  0.373871  0.224938  1.000000  0.710056 -0.006991 -0.002833  \n",
       "ee_009  0.190667  0.163792  0.061478  0.710056  1.000000 -0.003942 -0.000907  \n",
       "ef_000  0.050270  0.008461 -0.000715 -0.006991 -0.003942  1.000000  0.282184  \n",
       "eg_000  0.018663  0.033091  0.002708 -0.002833 -0.000907  0.282184  1.000000  \n",
       "\n",
       "[170 rows x 170 columns]"
      ]
     },
     "execution_count": 14,
     "metadata": {},
     "output_type": "execute_result"
    }
   ],
   "source": [
    "train.corr()"
   ]
  },
  {
   "cell_type": "markdown",
   "metadata": {
    "id": "szadj6LmQ-Ar"
   },
   "source": [
    "Compute the feature correlation matrix."
   ]
  },
  {
   "cell_type": "code",
   "execution_count": 15,
   "metadata": {
    "colab": {
     "base_uri": "https://localhost:8080/"
    },
    "id": "nsh5Tk9xQ9Y3",
    "outputId": "9f1ec4ec-de38-4446-dd41-7417e2b287d7"
   },
   "outputs": [
    {
     "data": {
      "text/plain": [
       "(170, 170)"
      ]
     },
     "execution_count": 15,
     "metadata": {},
     "output_type": "execute_result"
    }
   ],
   "source": [
    "corr = train[train.columns.difference([\"class\"])].corr()\n",
    "corr.shape"
   ]
  },
  {
   "cell_type": "code",
   "execution_count": 16,
   "metadata": {
    "colab": {
     "base_uri": "https://localhost:8080/",
     "height": 0
    },
    "id": "YZJuuzx-RHPC",
    "outputId": "63e3e3dc-dd5e-46ad-e76c-a0b4473fef5e"
   },
   "outputs": [
    {
     "data": {
      "text/html": [
       "<html>\n",
       "<head><meta charset=\"utf-8\" /></head>\n",
       "<body>\n",
       "    <div>            <script src=\"https://cdnjs.cloudflare.com/ajax/libs/mathjax/2.7.5/MathJax.js?config=TeX-AMS-MML_SVG\"></script><script type=\"text/javascript\">if (window.MathJax) {MathJax.Hub.Config({SVG: {font: \"STIX-Web\"}});}</script>                <script type=\"text/javascript\">window.PlotlyConfig = {MathJaxConfig: 'local'};</script>\n",
       "        <script src=\"https://cdn.plot.ly/plotly-2.8.3.min.js\"></script>                <div id=\"03a8f930-cc72-4e13-bcbc-eaf7dd411c95\" class=\"plotly-graph-div\" style=\"height:525px; width:100%;\"></div>            <script type=\"text/javascript\">                                    window.PLOTLYENV=window.PLOTLYENV || {};                                    if (document.getElementById(\"03a8f930-cc72-4e13-bcbc-eaf7dd411c95\")) {                    Plotly.newPlot(                        \"03a8f930-cc72-4e13-bcbc-eaf7dd411c95\",                        [{\"x\":[\"aa_000\",\"ab_000\",\"ac_000\",\"ad_000\",\"ae_000\",\"af_000\",\"ag_000\",\"ag_001\",\"ag_002\",\"ag_003\",\"ag_004\",\"ag_005\",\"ag_006\",\"ag_007\",\"ag_008\",\"ag_009\",\"ah_000\",\"ai_000\",\"aj_000\",\"ak_000\",\"al_000\",\"am_0\",\"an_000\",\"ao_000\",\"ap_000\",\"aq_000\",\"ar_000\",\"as_000\",\"at_000\",\"au_000\",\"av_000\",\"ax_000\",\"ay_000\",\"ay_001\",\"ay_002\",\"ay_003\",\"ay_004\",\"ay_005\",\"ay_006\",\"ay_007\",\"ay_008\",\"ay_009\",\"az_000\",\"az_001\",\"az_002\",\"az_003\",\"az_004\",\"az_005\",\"az_006\",\"az_007\",\"az_008\",\"az_009\",\"ba_000\",\"ba_001\",\"ba_002\",\"ba_003\",\"ba_004\",\"ba_005\",\"ba_006\",\"ba_007\",\"ba_008\",\"ba_009\",\"bb_000\",\"bc_000\",\"bd_000\",\"be_000\",\"bf_000\",\"bg_000\",\"bh_000\",\"bi_000\",\"bj_000\",\"bk_000\",\"bl_000\",\"bm_000\",\"bn_000\",\"bo_000\",\"bp_000\",\"bq_000\",\"br_000\",\"bs_000\",\"bt_000\",\"bu_000\",\"bv_000\",\"bx_000\",\"by_000\",\"bz_000\",\"ca_000\",\"cb_000\",\"cc_000\",\"cd_000\",\"ce_000\",\"cf_000\",\"cg_000\",\"ch_000\",\"ci_000\",\"cj_000\",\"ck_000\",\"cl_000\",\"cm_000\",\"cn_000\",\"cn_001\",\"cn_002\",\"cn_003\",\"cn_004\",\"cn_005\",\"cn_006\",\"cn_007\",\"cn_008\",\"cn_009\",\"co_000\",\"cp_000\",\"cq_000\",\"cr_000\",\"cs_000\",\"cs_001\",\"cs_002\",\"cs_003\",\"cs_004\",\"cs_005\",\"cs_006\",\"cs_007\",\"cs_008\",\"cs_009\",\"ct_000\",\"cu_000\",\"cv_000\",\"cx_000\",\"cy_000\",\"cz_000\",\"da_000\",\"db_000\",\"dc_000\",\"dd_000\",\"de_000\",\"df_000\",\"dg_000\",\"dh_000\",\"di_000\",\"dj_000\",\"dk_000\",\"dl_000\",\"dm_000\",\"dn_000\",\"do_000\",\"dp_000\",\"dq_000\",\"dr_000\",\"ds_000\",\"dt_000\",\"du_000\",\"dv_000\",\"dx_000\",\"dy_000\",\"dz_000\",\"ea_000\",\"eb_000\",\"ec_00\",\"ed_000\",\"ee_000\",\"ee_001\",\"ee_002\",\"ee_003\",\"ee_004\",\"ee_005\",\"ee_006\",\"ee_007\",\"ee_008\",\"ee_009\",\"ef_000\",\"eg_000\"],\"y\":[\"aa_000\",\"ab_000\",\"ac_000\",\"ad_000\",\"ae_000\",\"af_000\",\"ag_000\",\"ag_001\",\"ag_002\",\"ag_003\",\"ag_004\",\"ag_005\",\"ag_006\",\"ag_007\",\"ag_008\",\"ag_009\",\"ah_000\",\"ai_000\",\"aj_000\",\"ak_000\",\"al_000\",\"am_0\",\"an_000\",\"ao_000\",\"ap_000\",\"aq_000\",\"ar_000\",\"as_000\",\"at_000\",\"au_000\",\"av_000\",\"ax_000\",\"ay_000\",\"ay_001\",\"ay_002\",\"ay_003\",\"ay_004\",\"ay_005\",\"ay_006\",\"ay_007\",\"ay_008\",\"ay_009\",\"az_000\",\"az_001\",\"az_002\",\"az_003\",\"az_004\",\"az_005\",\"az_006\",\"az_007\",\"az_008\",\"az_009\",\"ba_000\",\"ba_001\",\"ba_002\",\"ba_003\",\"ba_004\",\"ba_005\",\"ba_006\",\"ba_007\",\"ba_008\",\"ba_009\",\"bb_000\",\"bc_000\",\"bd_000\",\"be_000\",\"bf_000\",\"bg_000\",\"bh_000\",\"bi_000\",\"bj_000\",\"bk_000\",\"bl_000\",\"bm_000\",\"bn_000\",\"bo_000\",\"bp_000\",\"bq_000\",\"br_000\",\"bs_000\",\"bt_000\",\"bu_000\",\"bv_000\",\"bx_000\",\"by_000\",\"bz_000\",\"ca_000\",\"cb_000\",\"cc_000\",\"cd_000\",\"ce_000\",\"cf_000\",\"cg_000\",\"ch_000\",\"ci_000\",\"cj_000\",\"ck_000\",\"cl_000\",\"cm_000\",\"cn_000\",\"cn_001\",\"cn_002\",\"cn_003\",\"cn_004\",\"cn_005\",\"cn_006\",\"cn_007\",\"cn_008\",\"cn_009\",\"co_000\",\"cp_000\",\"cq_000\",\"cr_000\",\"cs_000\",\"cs_001\",\"cs_002\",\"cs_003\",\"cs_004\",\"cs_005\",\"cs_006\",\"cs_007\",\"cs_008\",\"cs_009\",\"ct_000\",\"cu_000\",\"cv_000\",\"cx_000\",\"cy_000\",\"cz_000\",\"da_000\",\"db_000\",\"dc_000\",\"dd_000\",\"de_000\",\"df_000\",\"dg_000\",\"dh_000\",\"di_000\",\"dj_000\",\"dk_000\",\"dl_000\",\"dm_000\",\"dn_000\",\"do_000\",\"dp_000\",\"dq_000\",\"dr_000\",\"ds_000\",\"dt_000\",\"du_000\",\"dv_000\",\"dx_000\",\"dy_000\",\"dz_000\",\"ea_000\",\"eb_000\",\"ec_00\",\"ed_000\",\"ee_000\",\"ee_001\",\"ee_002\",\"ee_003\",\"ee_004\",\"ee_005\",\"ee_006\",\"ee_007\",\"ee_008\",\"ee_009\",\"ef_000\",\"eg_000\"],\"z\":[[1.0,0.07310335447500126,-0.03205461560588468,-0.0019030117304360851,0.06197075027104125,0.0894737533846804,0.01861012092241367,0.14315291412934567,0.28581459104406504,0.49552874826565985,0.6076735292944486,0.7813650698284434,0.6733172642607526,0.48160029050221587,0.21378414939147342,0.0723312294982439,0.9081034271246838,0.14164201968239087,0.06406430392309997,0.038142350292725606,0.5007427408575441,0.5037243460269304,0.9152726298232098,0.9203016501610439,0.8224148911514382,0.7791803271672432,0.22411881136227202,0.06809310100644915,0.07057740936147343,0.04380678833362645,0.1802855633520962,0.2773103437728344,0.05789108515688514,0.029107944735763645,0.09980994690673944,0.11231231065630336,0.16406098016887205,0.2698909265378135,0.47639421612306965,0.6480501319769152,0.595614861508252,0.01797356375823422,0.2602415392819379,0.3454066083787244,0.21842030547671087,0.17048780192041788,0.6282938655476287,0.7420986425226591,0.17103084010211003,0.17452884480020714,0.06660855799245664,0.01988155450248674,0.6621363989125586,0.7987451507007828,0.8147600830816918,0.8273768366800317,0.8147635762879466,0.7628944251064843,0.6892335012497037,0.6216244444952448,0.4375756118366235,0.3784668739920805,0.9148403964779744,0.4101764621365069,0.4696032262294064,0.39070313854710725,0.35506889042388795,0.9078842247487899,0.8370997857453681,0.8046639220452139,0.7359510578418608,-0.007150383148602049,-0.06091488175746078,-0.15029614041455935,-0.21458879538539402,-0.2584814061049098,-0.2939978721137303,-0.31729884258457,-0.33189206598751053,0.28096876153887185,0.9999999999921642,0.9146241248980258,0.9146240830131694,0.8500649813757634,0.8457668734441813,0.4290313330340972,0.228518534066445,0.20664517776263952,0.8471912532199237,null,0.5215224528154845,-0.0019063084156901158,0.3696902147066186,0.01575673676459021,0.9653458590661554,0.2737216010208158,0.7027003302129201,0.17662788729288853,0.5136522908326379,0.1524899197248368,0.3910387744804031,0.5535056602212565,0.7000406057539779,0.7966363791596557,0.6680232266300589,0.40974305754003887,0.33586592155216694,0.2984886813079869,0.1741418446184732,-0.0018952004412560628,0.19554709261355802,0.9146241061944229,0.1662432104504366,0.6507207096339149,0.5203042506822685,0.5375303647621238,0.5703301720892341,0.6496923457148718,0.818854984019775,0.4613799010723769,0.15198645219033857,0.019999649007980444,0.0205796305266254,0.09470061003015995,0.22805518378708264,0.7619592457168239,0.683979606188926,0.06864232618264059,0.11865430565935842,0.027063771109761648,0.06438787793223769,0.7655127104106797,0.620167962501396,0.35902661582629014,0.05530648032113204,0.0879318221434356,0.01625226925337807,0.21584794182735045,-0.0025791968130197567,0.055170740453356515,0.00034110586401042426,-0.00037163650640564426,0.7796812731842799,0.6837257444303756,0.6855142500533465,0.2714174581882418,0.5397899419784379,0.8152236171137538,0.8096159317925212,0.44556305055477147,0.5049977551034713,0.5608151673388754,0.38947190915475005,0.023108399246484636,0.026794459938390927,0.5864964715204646,0.6711596216503042,0.6872875243468456,0.5887970827558544,0.5509046646646394,0.7353235515509082,0.7392106923731863,0.7178100536907258,0.7272398520894088,0.726983787257448,0.6062324677283591,0.4717071199657986,0.24803934066157704,0.019864516922959766,0.03709896010494201],[0.07310335447500126,1.0,-0.01941144527702635,0.047281071457630934,0.031030610402666043,0.053532091558884026,0.008417608010388596,0.01365821435822731,0.050067823590746574,0.0680997920609054,0.06040508920949563,0.06428349409247375,0.07127918377527676,0.07050460171731758,0.0441062548010733,0.018805178327539706,0.08628340566358968,0.0013110032052117543,-0.0012094636675137936,0.005054144171341345,0.04968273311734936,0.05244807853618761,0.08681622754883664,0.08749130491919488,0.09969648815037753,0.07782003621524827,0.0926565494276292,-0.0020726405809558864,0.01421880293174484,0.008116434146087011,0.06458878904839654,0.0713766410978787,0.01383981209998665,null,null,0.0028309832078024753,0.01082967031282717,0.01621085439016273,0.030032304418673234,0.058798869031452095,0.05361909025727002,0.012263805824432641,0.038550316467091464,0.04153913574725191,0.02669979793779483,0.02824529647538164,0.09481583239969306,0.05968578132456607,0.037149671552837736,0.05246069653150646,0.021914718754767467,0.02794353789437859,0.07010188095360785,0.07375658314540927,0.058678840025041076,0.05917411137039184,0.0597591309201804,0.057644635847681834,0.0561727677049361,0.054390982179947964,0.05585568921126956,0.05163367899991024,0.0926370894576696,0.06415067915092158,0.06652202851959399,0.0724244483716782,0.00806361217885684,0.08631839780277066,0.09073669016511138,0.10807425087074544,0.06946080894671612,0.027197067815022853,0.023322814745358855,0.017408407496396244,0.018266799881575993,0.015497747968856923,0.02305535954913525,0.013869436695999495,0.017065376607487043,0.09431482732179965,0.0733946467340966,0.09260694033130103,0.09260774204116087,0.09780962193314727,0.10055242017094933,0.02390613664237037,0.08588711613383564,0.08612016500399236,0.08934514634163528,null,0.060352241268451165,0.01635741233833923,0.033057496332861785,0.004352028441728702,0.08114009761111377,0.07197008865413992,0.07283183772142461,0.03866044232051471,0.09108954839785106,0.036731755519195296,0.0521940804108165,0.0678984391351306,0.06401193865811043,0.067002949377606,0.06515605009990168,0.06253201501653806,0.05802914284093789,0.0496309012353987,0.04387951638225649,0.012723247850719252,0.020365774234611632,0.09260773046203122,0.018088295836163306,0.07047383267325688,0.0562003283017961,0.043138802310748126,0.07333501444391327,0.07207617678526332,0.06313389503547234,0.052628895579893885,0.04920326818904565,0.02268284196025142,-0.00010311233638374033,0.04523995957281764,0.02474228329725925,0.046631550767370696,0.029819654112864375,0.013518863730522161,0.043578811557791926,0.00686617294028082,0.00807929665381396,0.04918130763931848,0.05297840543933291,0.09504353206009894,0.0015908932824646486,0.0199517451467583,0.0028317140745688033,0.06394810148483629,0.0022552765906534316,0.0031692927744343537,-0.0013720558602902508,-0.0002501021705292791,0.08223376256746592,0.06655959334653583,0.09065660836536421,0.031040263697037385,0.07139541673223701,0.08409835244203921,0.08633165170264412,0.08226838629392093,0.08465584465056357,0.0804827322082923,0.09279358288331789,0.018754358167779837,0.11126890891310463,0.07681381663529005,0.07721962615175228,0.09872954143460076,0.07219255697610227,0.0587985806530095,0.062280041579277044,0.09880753763138461,0.06878991166639119,0.07809139585904884,0.04871674536642759,0.023866946233041118,0.039368862210817396,0.0741188175202807,0.05558956066293006,0.16294840565455299],[-0.03205461560588468,-0.01941144527702635,1.0,-0.0023796291358511297,-0.004997101390771585,-0.010553711794022598,0.017620222465042225,-0.0010876475442373064,-0.016664567420715058,-0.03867984118735536,-0.049295595623848595,-0.0282678730784456,-0.000991858371857136,0.022132106837548737,0.01052371906372005,-0.0015625042658421393,-0.04114855085367507,0.016004276715643865,-0.006256619820506562,-0.0016926225828415202,-0.047263969095697814,-0.04782000599953624,-0.03050145102572479,-0.033028570854496744,-0.03830255043127656,-0.016284044518066053,-0.037780292197822585,-0.003556727638327027,-0.0027164297565163693,-0.004892622344455024,0.020948906265161008,-0.005052563218389312,-0.008653899067427782,-0.006186716027666467,-0.009399909911971673,-0.012303943010878836,-0.010339534697624738,-0.003299543756549177,0.007160684525506682,-0.026617838119008457,-0.015963636696341536,-0.0022560167058287795,-0.01802524139985881,-0.03080310899899341,-0.016162878405005902,-0.038760121123598,-0.08012476218661928,0.024747533746349446,-0.008070142673670443,-0.023696895466880755,-0.016626469871337833,0.01263787080012279,-0.032972554918782856,-0.00834661591870076,-0.02146246527340839,-0.011865564429180527,-0.00762439868259892,-0.010550416767727768,-0.00423221254014678,-0.006386244379215007,-0.033632224397866485,-0.022478079347556308,-0.034016375644383014,-0.02034061930843305,-0.014577240833331359,-0.02279978064511846,-0.04466610515469415,-0.041231608106795055,-0.03866317526170827,-0.03608920328565801,-0.034866431600320054,-0.11281227268853519,-0.14963123327237393,-0.20726408866955845,-0.25671707477564915,-0.25856120494217977,-0.22472916714579114,-0.19859694431585798,-0.18344686033707472,0.012939333727745592,-0.03186637234111598,-0.034076191400667026,-0.03407619619420391,-0.028880501266312565,-0.018278208650998478,-0.06271745470528062,0.040127811564057404,0.034144475161573346,-0.02632088432496521,null,0.05680285617105639,-0.002381473064627364,-0.03861703748388189,-0.007530293150438622,-0.03291480225123038,-0.02171324273922876,-0.030617725906769908,-0.027162750368090426,0.034318511880841104,-0.01498511730210973,-0.03207603505282737,-0.048318527988251946,-0.047220004013602726,-0.027922445890042925,0.00366856110604862,0.02178655234810648,-0.0111635983777959,-0.019262053128798758,-0.020232549150547122,-0.0023812981200107297,-0.01061119522206956,-0.03407619345579715,-0.011551385262283788,-0.012375160030563,-0.026484393664973915,-0.032740703771994666,-0.008847587207190116,-0.04119537356065028,-0.01977958360110328,0.017014253031130355,0.006982127055028165,-0.0021907396004207077,-0.002763524172278048,0.016303044467361943,-0.016003997819308266,0.02737200887662212,-0.028587824489675843,0.001514951372078646,0.00019315441031224857,-0.0003441008041545871,0.031169601921814883,0.0185702431461871,-0.03575923130981083,-0.01611868744936956,-0.004494021392573477,-0.009789207621794993,-0.0033842094921976255,-0.01752872347188833,-0.0029325971190741302,-0.0018511139521217184,-0.005497182013393864,-0.006212972248352146,-0.027791308068107933,0.010375822347416647,0.14888669378631111,-0.03311982563076717,-0.036160172669017936,-0.0595573656642772,-0.04336845723981934,0.17859578080132807,0.11874775201441222,-0.02787282004072589,-0.02874498812829607,0.009277685364315374,0.008479705967480222,-0.04672455090668775,-0.04467200773806853,-0.022947734842051617,-0.022711914192977443,-0.020910616281953877,-0.013691893642506829,-0.008111389714415797,-0.009848774751368182,-0.011206391618647327,-0.021430427410028364,-0.029416587973787454,0.016907600023874828,0.024354162582363913,-0.006570760917771935,0.014227881746132761],[-0.0019030117304360851,0.047281071457630934,-0.0023796291358511297,1.0,-0.0002135519326164374,-0.00026935049421027927,-4.7267583520509845e-05,-0.0001307768991957638,-0.00022162016582803455,-0.00042259850039396085,-0.0006874631929199318,-0.0014976855985821527,-0.002665789482190826,-0.001856169482181011,-0.0007493853481277648,-0.0001202491190836339,-0.0019442625576923656,-0.0002333528332124978,-6.232393684872321e-05,-5.512648647796679e-05,-0.0004931487674074021,-0.00047630221096245736,-0.0020222293595138128,-0.001955468667696388,-0.0010962759129273813,-0.0018737359027124713,-0.00041236575920596577,-2.8828502968615757e-05,-0.00017993736601398582,-6.006328879149062e-05,-0.0009913237115554711,-0.0012350994198456976,-7.38196405518361e-05,-5.322166980257271e-05,-8.66947987486325e-05,-5.705883633784531e-05,-0.00017935725033754708,-0.00034613265906270385,-0.00198580336737574,-0.0013437724919823338,-0.001127957167266702,1.4747377164998485e-05,9.118624109776747e-05,-0.00037386883256722384,-0.00021040908420023215,-0.001070577691957967,-0.0019746433019203298,-0.0012885207093256408,-0.0005237159580428455,-0.00025494275280843134,-0.0002110523793372591,-7.757063745170055e-05,-0.0016118863507787547,-0.0017763891463337728,-0.0016077148169779672,-0.0019029682803837111,-0.002175624658022446,-0.002380281984244323,-0.0025710159654736215,-0.002213423974886739,-0.0006358470822815545,-0.00034541707218964965,-0.0017811591903304639,-0.000595431274309425,-0.0006045944358731128,-0.0006240961420247367,-0.00029182301744681084,-0.001944808804176234,-0.00183448898855819,-0.0007677443301764973,-0.0012439941068924094,0.0012229649930837435,-0.005168208074029848,-0.02297452317248532,-0.02942554532264144,-0.03976879555439137,-0.04750317305232302,-0.058789969431878225,-0.0648247885811363,0.007219471015857836,-0.0019095236191517268,-0.0017813093424698145,-0.001781309380696107,-0.0018586173994080161,-0.0023589092430420333,-0.0005832373971679782,0.0004937305695021956,0.0006012279653621757,-0.002029637495054499,null,-0.0023518651048207617,0.9999999966219243,-0.001038069529630097,-7.005669015569923e-05,-0.002015155900934674,-0.0003602881723189914,-0.0013492246957148612,-0.00023554785770435842,-0.00019570518748669773,-0.00016443145874138875,-0.0003456125455206144,-0.0006093936117295584,-0.0009059651587808018,-0.0018877904873853175,-0.002603055955931586,-0.0015145544605626175,-0.0005749195765084924,-0.00040093526095498987,-0.00021382966088544288,0.9999999945279452,-0.00037399178707897714,-0.0017813093513804805,0.1333672250112826,0.00030269005876058124,-0.0015844409943402814,-0.0007339107211717582,-0.0016659644446911106,-0.0009137630043240162,-0.0019510533963462012,-0.0017268564240978282,-0.00017490798566172625,0.0001359046957711605,-5.6832528199150834e-05,-0.0004123435956616159,-0.0007239613402180811,-0.0023583313100955885,-0.0008411867671267476,-0.00012889903804565034,-0.00034818123543975746,-0.00018957944470797454,-0.0009804633247010128,-0.0024076866374430957,-0.0013951749279659074,-0.0006606287347833903,-0.00010055024699037805,-0.00013120608559842082,-0.00015812428672337106,-0.00038576727250693777,-9.246175349088535e-05,-0.000130010044019055,-8.680274578330093e-05,-0.00010861840329950689,-0.0017442112604932063,-0.002914306788825437,-0.0028388303249379737,-0.00016155687384389127,-0.0007402446498421772,-0.002184799621826629,-0.0022295975321419454,-0.001742130510659491,-0.001758850582906016,-0.0005720721544500476,-0.0005794432695382779,-9.798105485042305e-05,-0.00013881250982074534,-0.0008216341119163239,-0.0014051857542629214,-0.001778822690002341,-0.0012982085208708308,-0.0015978459836779716,-0.002089502395168109,-0.0020465454891001366,-0.0019400135522154149,-0.0016666553183933186,-0.0013982197192311011,-0.0008288826899844143,-0.0021613145176476232,-0.001049773732621968,-0.00010223775613193052,-0.00011956744824575046],[0.06197075027104125,0.031030610402666043,-0.004997101390771585,-0.0002135519326164374,1.0,0.8231081686448902,-0.0004295341267062124,-0.0008319297114163793,0.005056946632840839,0.03416289101722092,0.06471493334088452,0.05392701717199032,0.0010784474043984667,-0.00855387208627501,-0.0017988743810888528,-0.0008122078686921511,0.047763670519133994,-0.0010010618320385651,-0.0006774336943873904,-0.0005070210782283649,0.04037854176916712,0.04072784492491753,0.05144963041853655,0.05420889128973538,0.04742451699174604,0.031093244773292134,0.012616104918969967,0.018245181933632473,-0.00143352067145988,0.00827767610672187,0.003606791234347023,0.07353064576158609,-0.0009108401561667074,-0.0006298580493663407,-0.00093241667383883,-0.0012354518371941907,-0.0010120003304160679,-0.00321593906460674,-0.012030031071512492,0.03473216201417682,0.04768374198850564,-0.0004794187815736229,0.008147533029387415,0.019461741665948825,0.008612589195544681,-0.0035463814996429207,0.0015708097236438801,0.03512586266329571,0.08860617295047019,0.019465132346214938,0.021595325925472305,-0.000529555273483547,0.030485482441128847,0.053620472922068514,0.0432860963302421,0.029436956064445675,0.022300137550353656,0.011913978817728823,0.0023050232203377114,0.004131685072669499,0.022890076142745748,0.04532639929072977,0.05240139416062355,0.07872295733848671,0.10156599445743489,0.09232110687006731,0.005245000478380061,0.04775390972583284,0.036054631335249034,0.05407469810764569,0.03386331084730808,-0.0010579885768013165,-0.008511505871644849,-0.019868815279773237,-0.027678409484871165,-0.03581094595195149,-0.04320727625488562,-0.046419779007051715,-0.048118065824922576,0.02597121705782342,0.0619558658424853,0.052395369295517906,0.05239536102659319,0.04224894088292079,0.031901813884187724,-0.003929964825465822,0.011766302601111568,0.018954123250127228,0.03853186855627901,null,0.06318967357399131,-0.00021374773513577403,0.03305091283184034,-0.0006594283531573295,0.0529428999815635,0.003768802822084254,0.0330084473391166,0.0009832337488050588,0.057649513215625045,0.0025655611295085745,0.019260002961402036,0.05177177472828163,0.05190986099878505,0.028556465593593774,0.014352662170648086,0.018483398056799407,0.03081945220549231,0.020677490021836012,0.0030217772486543686,-0.00021135405957187878,0.018945674969690848,0.05239536495110311,0.002910347490235943,0.03897743661833923,0.03986367760781855,0.02358315494601503,0.017831336419017376,0.026440226153375476,0.04147936134826955,0.010379472569602859,0.0038442708432101878,-0.0003380560188281608,-0.00018082317601017195,3.4326032009172124e-05,0.023809436786521088,0.08450287497824001,0.1623841972395742,-0.0007644644992764318,-0.0007026498641856125,-0.0017339980779314174,-0.010051736508256205,0.07740534919379376,0.061998810089624656,0.0645626190133075,0.00017420992448980403,-0.0009175938873677935,-0.00020402736171290246,0.014053474579154011,-0.00035762386906995153,0.0005438664678852522,-0.0010903089811272932,-0.0011943551660831336,0.031036400443489116,-0.0011566793003954326,0.004345339559941599,0.014472355166305706,0.06566720147228036,0.039947819961946254,0.04135688490201297,0.05079171171273828,0.028448147810153337,0.12903224436739463,0.04747728474702053,0.07998533205562187,0.05623175216453674,0.014691001469359187,0.03604909430405832,0.04355912975375215,0.02109419088371013,0.010403849106436542,0.01733763994661033,0.02490450336955381,0.01731100741865035,0.039966641579506766,0.08588442911829496,0.05235734891726021,-0.010850219136027486,-0.008205896403626402,0.07088606855332051,0.04171456335436471],[0.0894737533846804,0.053532091558884026,-0.010553711794022598,-0.00026935049421027927,0.8231081686448902,1.0,-0.0005341860677459462,-0.0010166033096360454,0.010518227289283744,0.05238592972461887,0.0977397982745273,0.08107891375021369,0.007074619622818142,-0.009177358249336003,-0.0016203946833808856,-0.0009146769132754016,0.07192609738844201,-0.0012893189522474521,-0.0008378514379706864,-0.0006297009428432102,0.05593929275255344,0.05657936224167872,0.07625097894959654,0.08047638233051328,0.07063269055710412,0.04414640964887302,0.02152763715369197,0.006130940681803781,-0.0019456920204473352,0.0024251661238397244,0.0057903336674122955,0.09401780240483723,-0.0011327982944300827,-0.0007833208843553063,-0.001159610747411525,-0.0015366810162456065,-0.0012316015782704091,-0.0039835911963622276,-0.01485442589665406,0.05189075281420939,0.07631612998037682,-0.0005814015997329805,0.013692028577728332,0.03184797028013354,0.013979274746914983,-0.0037589871867417367,0.0021091934118019897,0.06531909874489415,0.09088724654860787,0.027584461463128335,0.022728485901194785,-0.0006577861885789903,0.04503472793841738,0.0933750185862308,0.06983846227113129,0.04604887123239167,0.033850924170503345,0.019475154300208318,0.005489702836353136,0.008106402928263068,0.031822335000347424,0.056898206289781206,0.07757527555239938,0.15035065930903643,0.1609421162703171,0.12927105931079233,0.0070562950159101055,0.07191615618261382,0.05587536709543733,0.08396009584244937,0.04700966816449783,0.00040790998259243924,-0.009349460415615784,-0.023782152592485457,-0.03478721893987706,-0.04579054676391643,-0.05561233319295377,-0.06206345892687321,-0.06469754412752289,0.03568423473514602,0.08945447944270327,0.07756638064570716,0.07756636896624834,0.0688573252380382,0.05058759504960447,-0.004414622303406967,0.01833373913024705,0.023855867242949674,0.06247329513697821,null,0.09417281756088647,-0.0002695817297580023,0.05163165842150984,-0.0008395854889939543,0.07818321893149568,0.00751181565248842,0.044628044958947524,0.002074961345091488,0.09057970260381061,0.004787891980531616,0.0366721615393026,0.08788394721561002,0.08990222315680575,0.04666208450777435,0.019849912678642206,0.021998723104852236,0.03794364431026163,0.026282534461964283,0.005077880397637991,-0.00026758853990587963,0.02098814281917687,0.0775663746444948,0.004991758185397166,0.06129339027995223,0.06456438164952331,0.03512909413226971,0.028665195378390084,0.055254452957358334,0.06187607176707981,0.014441953681084458,0.006242242075232927,-0.00036137522103984234,-0.0002249598539276794,-5.682833142021985e-05,0.029839689100431454,0.11060341164037218,0.20656085240321964,-0.0008262500384375018,-4.5023257907452535e-05,-0.002223060515822999,-0.012556349483017742,0.10265181625746482,0.07885413874171282,0.08741121654474643,-4.303490001566012e-05,-0.0012067290379396698,-0.0002102999559056712,0.021998356913322078,-0.00044661853429455725,0.0008895386035394615,-0.0013638613336046912,-0.001494110319166012,0.04679570746725083,0.0044969750668757075,0.011673071342914012,0.024207417901116347,0.10247867636846211,0.06939476144736105,0.06687430725150909,0.05034713232493927,0.029046178314775097,0.18756851730540225,0.07389497483865659,0.11080680927664588,0.08477387171799527,0.016915334965527936,0.05779266690956314,0.07206670712768751,0.03241177636587523,0.019580670541615382,0.03289559820666528,0.04732562021830802,0.03078886236994804,0.06700220166541539,0.13231878227050997,0.07030647891102411,-0.013975774954945223,-0.010236750791104605,0.10628114083892531,0.0607102317406432],[0.01861012092241367,0.008417608010388596,0.017620222465042225,-4.7267583520509845e-05,-0.0004295341267062124,-0.0005341860677459462,1.0,0.1653760301757583,0.09056951265391687,0.032053630023454814,0.014210883789657442,0.011640326334854971,0.023918445433577837,0.01972650250518974,0.02214525969310484,0.00178279901268598,0.021001769782861498,0.05729592688413612,-5.341224979229025e-05,-0.00012296413344992156,0.021789922336585978,0.02031138364844054,0.017448465097173165,0.013583792430293956,0.026807495441678732,0.04056695043932311,0.0005931601532018221,-0.00012347252863449679,0.0018512388365917764,4.5752506394112954e-05,0.03488607966335883,0.019601482504495112,-0.0002382507196946839,-1.8867527473367794e-05,-0.00026581594693064227,-0.00037802936983149203,-0.00031856269569932344,0.012206845838401188,0.002971589456121494,0.00718431687637375,0.04997600811754364,0.0013771186746759595,0.004396000904491433,0.005708579742912693,0.0034463478308534887,0.021976785990583694,0.036312214331761454,0.013436790809226452,0.004734496369812752,0.0156033193072198,0.0003003354543506026,-0.000101247815851417,0.022397319080154552,0.02952928651266174,0.024908469808791293,0.028355448861551936,0.02736292430069284,0.020308588506212567,0.015433277654879934,0.03137979881418147,0.011004632474714149,0.010985678092814371,0.021185331501561523,0.0012149674536570529,0.0029887175679685707,0.0009171109634133185,0.00023351254449701338,0.021023946912907914,0.028240556494405256,0.014409068078025469,0.03356457540635921,0.005619713336275097,0.004023523223723614,0.0012162034579304196,-0.0015574002653890248,-0.0028275490164896833,-0.005050862409815727,-0.005019260851539328,-0.008569711491215394,0.0033175611629530097,0.01862964644306371,0.020565497783303403,0.02056549595111206,0.027181498702641346,0.029065333800313623,-0.00040260512554168165,0.01362018202952669,-0.00028819820120010235,0.02796155927790419,null,0.037415700578461525,-4.8676651605722436e-05,0.016395794593717018,-0.00014604379158436384,0.022175415998286485,0.0057799249213345335,0.0332991311918079,0.0009468347429053708,0.004551727721250526,0.08887093785920719,0.05659695181306176,0.021204941867423017,0.010182793802701852,0.009101681309213589,0.037931011449341155,0.030920986704689023,0.013266344996890285,0.011279710711215201,0.002327557224652507,-4.797732030252533e-05,0.004441251711591598,0.02056549684508422,0.002946788947976681,0.020346930419578593,0.01004239926470277,0.01841574181148952,0.04766232719407669,0.014238045341960612,0.02379358122022792,0.02016632917968921,0.005095136606930939,0.00020446996245714364,-4.5743782011646417e-05,0.018233552478322576,0.012263954859631656,0.02762831303150333,0.0045918053655340674,-4.2693504457971495e-05,0.0034655757034020396,-0.0004059724909932216,0.0009014562275526509,0.03336159572030519,0.02438536916682563,0.06491661288524991,0.00010474127150164489,0.00030296300986138016,-7.74266076328442e-05,0.001774965257221968,-8.712777306244116e-05,-0.00027526855148905636,-0.00025770122920244434,-0.0002824177540783199,0.0329296192890979,0.023157477322059503,0.03499369081051128,-0.00021440274242517338,-0.0010367693737273972,0.01964914320022713,0.02057393559266141,0.06846393895860269,0.04615483029899046,-0.0013210036312894084,-0.0009960447874675041,-0.00019767212501241345,-0.00026268795192919655,0.03291570545112299,0.017219754719671833,0.018672869933322657,0.033157265216622545,0.023680968594100436,0.023086974555516986,0.03341772569082692,0.03359952086320383,0.02274034391245328,0.011185413504048516,0.00030726630924692103,-0.0008231796968140864,-0.0012302084873795313,-7.165494758300675e-05,0.0002441860759371715],[0.14315291412934567,0.01365821435822731,-0.0010876475442373064,-0.0001307768991957638,-0.0008319297114163793,-0.0010166033096360454,0.1653760301757583,1.0,0.7883519785678461,0.4215453438876404,0.210551599319651,0.12259973468136204,0.024088554931864025,0.011843621956708949,0.024246745273207325,0.0311600354698797,0.1055495179037976,0.009738206136631674,0.0068603992829908405,-0.0002470203344598461,0.2867520306158155,0.28402247692635874,0.10657511337163152,0.12705909682916344,0.1098369924973261,0.10052076189891089,0.0498526546281965,0.0015370382340019178,0.03039687205086707,0.024796473691077084,0.07223470194074014,0.09274984843657992,-0.0006761098873678233,-0.00032311844127751394,-0.0007068243121145063,-0.0009717466684900416,-0.0008261448989044751,0.0026143508369351745,0.007680756009239164,0.13083205201321024,0.19928201434905388,0.018676038500316496,0.0568270532318068,0.07519935006801277,0.044519901323084685,0.015678063228891898,0.1147110892053135,0.13636855174580625,0.06752536037525818,0.17470646172436044,0.02454765156141524,-0.00029337933152726004,0.10296660917450674,0.17327789726641885,0.17607291143600937,0.182335062291813,0.16850642874363017,0.12531729061797559,0.08222984095844553,0.11658950974490263,0.12193286466994989,0.17429194517701985,0.12583558727230118,0.05318395494784569,0.059218940092247124,0.019333140568058103,0.01177326773036191,0.10182179812003174,0.08985808875461845,0.07407952482155465,0.13368830202059145,0.01566384207875673,0.0032937561615284045,-0.0044881446836174625,-0.012444107176054467,-0.019459340499852592,-0.022440225809852936,-0.026915636644228896,-0.03017360234552159,0.04132031183323795,0.14331278115282145,0.11799860469751337,0.11799859604343681,0.1574714457381936,0.1753954777937678,0.003800333117358945,0.009165950784552469,0.01299581387873202,0.16235309830808453,null,0.056782213460287945,-0.00013253782461260683,0.042612821938559683,-9.351302504393184e-06,0.1328132530961711,0.13679144393392723,0.1357018245918596,0.06798256051417371,0.16269367775616458,0.7565097521786689,0.6316345732153191,0.3128939122607778,0.19189829080805443,0.0926773609693052,0.041372368262815096,0.03267801557696145,0.06653515676209584,0.09971778216203603,0.025911685156004605,-0.00013056483629419292,0.012302517729026137,0.1179986008266488,0.00719207015021992,0.05901039435208923,0.04559079953090609,0.15365101268003276,0.17002912436479337,0.1530141064134844,0.13135974061922995,0.0572179391320614,0.00957203210926049,-0.000204642756519189,-0.00012053106388898352,0.028388003494062373,0.1046762287019729,0.15572598723855402,0.14332154038894174,0.018869114077954323,0.018503207156824367,-0.0007655195507946962,-0.004694007736646927,0.157875097842009,0.05875830242105196,0.04506753138411462,0.011991967301998422,0.02244798172917952,0.002877372340947195,0.11955355759146633,-0.00017483151508409934,-9.506805933015318e-05,-0.0005173424924131802,-0.0005669616138378242,0.09646897260871876,0.05920170943277069,0.06382977682132276,0.0320468120771419,0.03279201941623625,0.07882066600889445,0.0785198288761386,0.04573710678712699,0.034687453560580214,0.032391203892150514,0.01523723529973694,-0.00027771166075408587,0.00040289841712549767,0.06560123010249698,0.09563259181680822,0.06929338091479519,0.18102152720943193,0.06357182906854972,0.10484336799001172,0.1081845623835043,0.13629792511830094,0.23381641404061346,0.1986461838836342,0.04418559667126284,0.004877721064849138,-0.004309467352999852,0.0028746119372746832,0.01093043370765995],[0.28581459104406504,0.050067823590746574,-0.016664567420715058,-0.00022162016582803455,0.005056946632840839,0.010518227289283744,0.09056951265391687,0.7883519785678461,1.0,0.7501316125676485,0.5026914810327026,0.31456635536014943,0.09042262853548749,0.06079477905300465,0.08427963513721368,0.06677490869994367,0.23408225750278358,0.020068006655566743,0.012260814890498895,-0.0004837998383784509,0.4341268806901767,0.43313116775704613,0.24019637691885698,0.2636547483306405,0.260921622606893,0.23321285164273806,0.1719325675147473,0.018100974663245502,0.06956067074641718,0.05804985936158869,0.12572841736492496,0.1691111922738974,0.0008975151349264181,-0.0004112424617756733,-0.0009542408587793216,-0.0008690531615755513,-0.0006653657500474769,0.04978056424992107,0.05656742894528161,0.3205426845295238,0.3857666776696739,0.036267809928018355,0.17308346680127262,0.21514428542432584,0.11422117450837145,0.04554754424993156,0.2470322525315376,0.3284144369518412,0.13349828750141884,0.3422156494227352,0.058226348114315644,-0.0005144656818358818,0.2767292793758018,0.3886694802849518,0.3775284740523637,0.386399068269398,0.35438269854020843,0.26208967959459684,0.17056095639995594,0.22950695124089102,0.25665268719088025,0.3775800394638066,0.27157694038827723,0.178672716411348,0.18566139799530124,0.10165948504456956,0.059199672506399036,0.23044176598279836,0.217032255594097,0.19942779276740175,0.28729658106156813,0.03128150541613183,0.012000071548573634,-0.005316587292189285,-0.021197023879202304,-0.033692225608586424,-0.04292166341225948,-0.051536880158916054,-0.05705186521707522,0.08221927148778216,0.28600963814975605,0.2676971834036831,0.267697164700517,0.3260998555809997,0.3340215036395603,0.011828168981203521,0.01704199370950402,0.026127897207977476,0.32900046270542527,null,0.18590696301597548,-0.00022390964465636478,0.10471155942426583,0.004725871897337962,0.28244378447830215,0.2674818585938993,0.2795157535294957,0.12949435862383052,0.39538086872853956,0.6664433195236911,0.8617194858126549,0.5946335422677552,0.4315511057216654,0.2454001254536294,0.13900232046124897,0.15055648475552405,0.214978011143007,0.20125226657394174,0.04633369067837167,-0.00022098045990696054,0.027711340966188432,0.26769717526449827,0.0264515552420759,0.22035156518659715,0.15730218787803776,0.34855953863465655,0.3372251233534394,0.32322257058511167,0.31765338479326116,0.15610551715064827,0.04044585454427555,0.000519913261686137,0.00015610136213470855,0.04802509114386634,0.15336517897760113,0.3042972088051774,0.29653378339678105,0.043946207091402824,0.027755387835344526,0.0065346808981304886,0.004583916690191548,0.3088823909860126,0.20033746839658925,0.1631176876958148,0.04746346693238234,0.09747864522306367,0.02530977308924959,0.25236163231490205,-0.0003402256349578829,0.008333186904229701,-0.0011147621118761414,-0.0012210490421254772,0.22498884692724402,0.14239004414256207,0.151549651223798,0.13342203451948983,0.1623701086093337,0.2239662913543033,0.22571296915995148,0.10704710294331163,0.08271229883982803,0.16198849129851345,0.07821868580636072,0.0029668171702909086,0.008361797838150104,0.14881615997875092,0.2187019902156993,0.18958822709301434,0.383813585199856,0.19972614176196413,0.26186512086497316,0.2562034697353734,0.2852186638960213,0.4337936200855052,0.38550042799194983,0.18299039830469577,0.009465820221016372,-0.009498150215512705,0.011823605439436299,0.034202011768696604],[0.49552874826565985,0.0680997920609054,-0.03867984118735536,-0.00042259850039396085,0.03416289101722092,0.05238592972461887,0.032053630023454814,0.4215453438876404,0.7501316125676485,1.0,0.8737260001936634,0.6038552052622905,0.16147378574352425,0.06579600163059086,0.1027722596489667,0.07151821022861445,0.4260372189263993,0.018784210851340334,0.010286179686990604,-0.0010352315300434156,0.5713929274753272,0.5755938881153456,0.4440658835122512,0.4748528627380642,0.45926093105169197,0.37794984381903635,0.2742907192611022,0.05456691206929815,0.07670206032245311,0.07255596526645557,0.13639152101801633,0.22109294787533576,0.014746941410328876,0.002800803655278285,0.000581202181692942,0.003032456021521726,0.002489820480099684,3.7752971303347865e-05,0.05872139502099738,0.5766251520120432,0.6362327531403716,0.03282090463627301,0.29631660161424894,0.31997524510939945,0.16581093254716975,0.05299481021015434,0.3931362936875447,0.5586125031461314,0.23834848426862715,0.480453448674019,0.09983582116729922,-0.0008913263820300071,0.442663304570722,0.6721033297737402,0.6752223364088371,0.6478364138887001,0.5622414937140017,0.40213138168923074,0.25712679418488604,0.34019920540829646,0.41393124992850017,0.6025280277528635,0.47935112127923124,0.3367421724000425,0.35405080858476934,0.2760740154459649,0.13150308133015418,0.423831514834277,0.3904450722354853,0.4046528696161179,0.4526031968262658,0.0370261512655474,0.008459760073025928,-0.026459664630350873,-0.056027655148343604,-0.07974841659769513,-0.09817961288938021,-0.11159393982368274,-0.12146177687607333,0.13527962195989815,0.49556026879689014,0.4774004086518728,0.47740037647157646,0.5299803828619576,0.5061200168901354,0.02343247211811652,0.044418919733995324,0.05920270954845794,0.522849704468224,null,0.3589402616195415,-0.00042426874741177125,0.2069751921724201,0.014010649349727847,0.4622902131151173,0.3598767523631388,0.41511954267592566,0.16298385770715493,0.61065230435728,0.4192422743060102,0.8967147786172314,0.8988083566484624,0.7543180376503271,0.45764817600025054,0.2479524675591985,0.22053501851549012,0.3372340771456628,0.2894373320597343,0.0706680974644074,-0.00041918848380400844,0.07556823816273966,0.47740039490748315,0.09441053768679668,0.4435047173927904,0.31164040241063135,0.5020847751976262,0.5158902817004974,0.48059967949970506,0.5590292586212984,0.30687134130810284,0.11103213630006084,0.009133353823998325,0.013463527989608173,0.05279796563288921,0.1756094102646226,0.5015276573016842,0.5172392237599619,0.056037429266617644,0.034116809801321826,0.01750510705923851,0.029730166178605005,0.4965331618314519,0.38605264226735697,0.27978656390274353,0.08459354262681146,0.1679532968186549,0.05208674972836192,0.2799018902447662,-0.000173855016899197,0.04185132312236592,-0.001479156337944803,-0.001473121757865146,0.3667861674850535,0.1858699205520512,0.20361212102971862,0.25468228076952026,0.37258546990269503,0.39290682790103876,0.39782852340729935,0.13958960039135523,0.11286482065499892,0.4007825902738176,0.20263460192126007,0.02137591065122139,0.016966792724128904,0.23813630526109852,0.4000478143800216,0.36027301574699594,0.5702934463371423,0.2991222705816832,0.4593450143753983,0.44482770960654394,0.4604273892118632,0.6126821340502846,0.620278407904783,0.50556478844027,0.021151224379240694,-0.01931051617777928,0.02055985002853435,0.024209911967089513],[0.6076735292944486,0.06040508920949563,-0.049295595623848595,-0.0006874631929199318,0.06471493334088452,0.0977397982745273,0.014210883789657442,0.210551599319651,0.5026914810327026,0.8737260001936634,1.0,0.7951086936241333,0.24792768569687137,0.10600116716391893,0.12710441565630887,0.05730402581063381,0.5573270334872291,0.03720701109651068,0.00946366625471346,-8.646971320104702e-05,0.512873062942973,0.5198248112237205,0.5793067917380325,0.6045304635504056,0.5659581189273759,0.46955981114730555,0.2830773284321789,0.060823410485678686,0.05688848488998844,0.051181850996738026,0.1306962288392944,0.26432849827312155,0.10008026761629163,0.06644256737848658,0.028455410095300927,0.0366632206982537,0.02920254424826606,0.026609260764775232,0.08811628700727367,0.6813197004472774,0.7393054400091341,0.02679472245927619,0.2941026768041878,0.3198781043247145,0.17215921850077695,0.059771996280454535,0.43766978889464675,0.7010262804085884,0.31910892066072544,0.4660619899485666,0.10531826091503121,0.000830215740523512,0.5614073378896128,0.8021777683136512,0.8189292346599846,0.7596091644631234,0.6481951431603027,0.4691398336443728,0.30741634558730535,0.38405172789831943,0.47218846332835895,0.6685993088681145,0.6030349504807924,0.41240105143242634,0.4463615599528778,0.36050601245354547,0.1720329383791309,0.5558856645124565,0.5171404155150404,0.5388462082862742,0.5218230352973133,0.029507182538196307,-0.005044687080992938,-0.05741909776992563,-0.09980551466415427,-0.13365102384873245,-0.16053900492380732,-0.17870876806352715,-0.19129260473126175,0.17270615187918498,0.607977379409304,0.6016490738968814,0.6016490610473454,0.6441189437392149,0.5780625138254895,0.0716042967640413,0.07772554164587962,0.09505102730731764,0.6305094284310091,null,0.44969549164803285,-0.0006888745248645879,0.2883000838020626,0.016145777794910245,0.5759403508171747,0.343310568823726,0.5078944333306751,0.14720929751407277,0.6622035815398536,0.2531205120882002,0.6914877463804253,0.8892141424702967,0.8872208679582733,0.5952356496326909,0.3523691642094188,0.30825549828299365,0.42153721493960367,0.35125286855357896,0.10016165332073569,-0.0006820116198462765,0.1097734844150326,0.6016490706475085,0.12676124155799168,0.586330814902237,0.42685875687268016,0.569693269596553,0.6068555582156719,0.5334392944240686,0.6879369115047181,0.43952619327203,0.17607160854554535,0.020582320004986637,0.02648918865395524,0.05063085905130018,0.17308669478387817,0.598221072855154,0.6185503366129764,0.05735108674051993,0.041415451432985924,0.01943390492845576,0.038270499221186485,0.5843272651669327,0.4875846503395506,0.31381896790320407,0.07406651411118702,0.14491134114227164,0.04138015141196503,0.2599373341727756,0.0025422627812834563,0.06948451653577072,0.00997770932542682,0.008704022954626063,0.4596385139804705,0.21339466808372534,0.23066810711896896,0.2778915463467387,0.5215578948947788,0.4987208834709657,0.5033587348801583,0.18735529638245568,0.16645041575226938,0.5638427512616672,0.3259661688774579,0.03294555709736293,0.036484577371719014,0.3327671683475221,0.5543590802657977,0.5058854287629635,0.6517641433004345,0.4044819564563463,0.5663929193866319,0.5346997317980617,0.5220278053198049,0.5955215907078159,0.6864236342292929,0.7373126814674714,0.05639937439282769,-0.017568502560399463,0.021319255142586712,0.023717781961433777],[0.7813650698284434,0.06428349409247375,-0.0282678730784456,-0.0014976855985821527,0.05392701717199032,0.08107891375021369,0.011640326334854971,0.12259973468136204,0.31456635536014943,0.6038552052622905,0.7951086936241333,1.0,0.6505995847839918,0.4010925501809088,0.23143888791853026,0.05842753230973779,0.7704065653150655,0.13154673532480513,0.052011952249199904,0.02190524291750035,0.3747561253294043,0.38312278216675083,0.7856170347056155,0.7805250600042434,0.7249490281118187,0.7035938377534349,0.2127708776791444,0.047693543635743976,0.0675068591199226,0.033133677378909675,0.21319113865548653,0.29236851384202434,0.16790557712958276,0.16832858942839482,0.22186158799781858,0.23462185093815124,0.23078350321858979,0.2741790007435416,0.4412146242662699,0.7418932863221445,0.7068450678985422,0.030197989037974632,0.30575618367304563,0.3725510676278547,0.22916256994350107,0.17297782018114663,0.6440273805673098,0.8759839450379943,0.24831920223432286,0.2925354674257899,0.07758815275688175,0.032152019541180056,0.8162282137375706,0.905635198139432,0.9016392657603918,0.8941395661871786,0.8610837071129076,0.768730029949463,0.6484753603852802,0.615246313539151,0.5003122513868278,0.5040757348611732,0.7883281219319748,0.3768118718639562,0.42248014946528134,0.32329311658788357,0.32942953863355173,0.7698799028960607,0.745709025380007,0.6835544231489129,0.6707647634117453,0.010506380402689223,-0.035595156189690266,-0.11568101676152362,-0.171751352945234,-0.21349469498765372,-0.24531439923955684,-0.26791255753842724,-0.2800215547038571,0.25254466482099847,0.7832848595391219,0.7881981220463588,0.7881981862320225,0.8757660363012495,0.840435955915728,0.38308705515118413,0.17852801608136934,0.16884471482602853,0.8739834773891856,null,0.46337542663744136,-0.0015009004170706674,0.3752285949602178,0.009071152147337657,0.8042946315933381,0.29697536656386925,0.666022091425676,0.18107715673330085,0.605980148261094,0.16504930745873883,0.4608129323839746,0.6554802595390377,0.8569522482477995,0.9036980550508299,0.6929780732366405,0.47529402791234443,0.4223582760743572,0.32923781451302475,0.18867381990793458,-0.0014896633093155946,0.16640088422994156,0.7881981119968824,0.15912708511462542,0.7862355411338694,0.6088097403296329,0.6956092424395496,0.7401065782857291,0.7033106310185103,0.8911939294380627,0.5798159388892066,0.20210198824417153,0.02137509102406626,0.022841145174355794,0.09674021614618357,0.22679355530086162,0.7120553712880912,0.6351427044965982,0.06089307619936675,0.1064330940037733,0.027310705870741667,0.06304337078126654,0.7193776770006273,0.6247658749587849,0.3061230765283922,0.04951074177780847,0.11552762838785269,0.027741184776617803,0.22227992409598782,0.0019944793850119155,0.06340204134839388,0.02820720948446708,0.025835883610592535,0.6924216747790184,0.5303701666114472,0.5318809079973402,0.2418754109221571,0.5038911709662454,0.7270970632544456,0.7151910087242556,0.46110413689601193,0.49661387109203503,0.5055594742438206,0.4007567909983577,0.029911847165303967,0.033817284542547586,0.4991725081381629,0.7618766466401475,0.7685888075432064,0.771480288887175,0.7022853316537441,0.8371250122591651,0.7988619017647604,0.7501689479243834,0.6938468014924837,0.7172266171077938,0.6869585128793871,0.33079520126615647,0.12258202406786774,0.015369899216123483,0.014210085019118399],[0.6733172642607526,0.07127918377527676,-0.000991858371857136,-0.002665789482190826,0.0010784474043984667,0.007074619622818142,0.023918445433577837,0.024088554931864025,0.09042262853548749,0.16147378574352425,0.24792768569687137,0.6505995847839918,1.0,0.8566963251371814,0.3939782005085788,0.06430305013263998,0.6874786140745128,0.2553120683792589,0.11597752880284694,0.07482151486366838,0.08826835566021539,0.09230072555656657,0.6859389078308203,0.6457177657481638,0.6196227869698264,0.6998962768653378,0.03697810497450719,0.012755688071087614,0.08415609744022519,0.008711197524446419,0.2181698184385803,0.17519825484073712,0.09115394403730039,0.05045371550967117,0.1409675739540364,0.173013198719994,0.22827142039161083,0.4547493285901782,0.7857677386481324,0.6519040016711233,0.32206630576390183,0.027725100216422764,0.2331419720792933,0.3556816679475159,0.2521107618044218,0.33585522764944514,0.720635064263768,0.727023686028787,0.06880106282533353,0.08255723906343135,0.0213090915807216,0.04710849607718713,0.8509372516235332,0.6817822925394644,0.6398101124163754,0.7260227550518281,0.8131170639728713,0.8742051366266509,0.8665867872630191,0.7183645485695987,0.3378103008586138,0.17477687939272124,0.671840618828309,0.14659305624735894,0.1937663854734225,0.1268943186045457,0.41997964242983576,0.6877690718787642,0.6998329431116983,0.5540921211437716,0.596213461138431,-0.02617620371467242,-0.06895261844663879,-0.1403376957969679,-0.1828553218217945,-0.207803134253289,-0.22787643548260758,-0.2410895160690711,-0.24655753125448415,0.2652366799220543,0.6774077624151764,0.6729156417417803,0.6729156202061438,0.8097894132819526,0.8574303529445408,0.5916138758049785,0.2497178432947482,0.20715068660256683,0.8257538446536862,null,0.3000056155052411,-0.002672582650098915,0.407832360466207,-0.0015799476780987863,0.757765638713848,0.12071143462451384,0.6170756589366473,0.16690104970365324,0.22860795924805152,0.05909904730248126,0.11733287786478687,0.18107092375311581,0.38701081109004976,0.8594619949182344,0.9567759383134458,0.6748341790931702,0.37594922464155384,0.19255887213042616,0.13172356559067117,-0.002663927280826782,0.16142231004339141,0.6729156233078575,0.14907771323907779,0.7275006687997921,0.5754942013839658,0.6262032843531203,0.6312720799191288,0.6773858721934557,0.8211726004575872,0.4937772420246346,0.13512930355538702,0.012783825198332273,0.005483005204822381,0.27067693318938246,0.42118430778953825,0.5921856482813376,0.2897134033547658,0.04591714379393761,0.412059356354554,0.04657421823860096,0.08869853538604788,0.6966406308418209,0.5074363132142448,0.1625422437675567,0.008697806217790103,0.0319020593744101,0.012498913362555887,0.08255791717559749,-0.0021896891791001335,0.018137287722277896,0.0257123480197358,0.032604131458226125,0.6934441043410549,0.7310871369301937,0.7128702445472536,0.08625907610371902,0.19084556331299898,0.6829697731788696,0.6674170652239381,0.5610270788497074,0.6637020090362737,0.14864004986008789,0.2354378166995153,0.003382887196424981,0.0011805384951864605,0.46493178342920344,0.6735448080936827,0.7498765699042591,0.6501515649857296,0.8159772449509267,0.8562112426319504,0.8270541782205898,0.7925586872881755,0.6135996961136778,0.4931065333690667,0.3094811878245639,0.6093389875437363,0.3472799424109615,-0.0022948699437244703,-0.0002639731426475595],[0.48160029050221587,0.07050460171731758,0.022132106837548737,-0.001856169482181011,-0.00855387208627501,-0.009177358249336003,0.01972650250518974,0.011843621956708949,0.06079477905300465,0.06579600163059086,0.10600116716391893,0.4010925501809088,0.8566963251371814,1.0,0.6683155055937835,0.10225681459883582,0.5313499376330596,0.27798064243534676,0.12247308862508947,0.08181081844470041,0.02489935131319175,0.026976052061750067,0.5195139092215942,0.47442553553102,0.5018900373795163,0.5886952056927643,0.007665280072649869,0.0034279144991973933,0.11888287824169773,0.013820855720338842,0.2751809053692718,0.19297736424092946,0.023512025133065936,0.01018556237058758,0.0326378963425794,0.051930789878331475,0.10182900186493894,0.34488717921280887,0.6685241900661192,0.583167845703838,0.20377949671676948,0.15810506852569733,0.20722915644363174,0.3338044438655022,0.26632379099338166,0.44224114676335996,0.655517454867059,0.5314363356569117,0.028842095544797938,0.03689781031811425,0.013720983070173986,0.05441515282606415,0.752684759494288,0.5136361926617102,0.4565835157351702,0.5412187597840812,0.6284856783893285,0.6884406103038571,0.6853113613139836,0.6248750777631736,0.2837230474000667,0.10435962257165775,0.5159950475086718,0.07111524675531297,0.11015104796812283,0.0672570670596172,0.3429356788665942,0.5316221525084566,0.5763212803087789,0.4074077305318291,0.5164360463027833,-0.01804478275676676,-0.05412235832107399,-0.10823980799030636,-0.14021053161543592,-0.15639790029857617,-0.1694829962145681,-0.17804788339042857,-0.1799513300237837,0.2275507272617867,0.48360359246468826,0.517142176821504,0.5171421474853962,0.6642799496169397,0.6886436218542367,0.46807753969199634,0.20200035257022622,0.1736678098949604,0.6813475381653152,null,0.2648048489875696,-0.0018828271828013883,0.3806321023342633,-0.002361834666511835,0.5962621401303012,0.1136795144777107,0.6030117565373818,0.13743286578255265,0.1124956441509299,0.042672585643231085,0.046092274042164115,0.06885557684024757,0.1948067995144568,0.601449813052071,0.8608160310185974,0.8177765798474641,0.48053066144811374,0.20397542329558296,0.07454682708815835,-0.001882323389316333,0.15245757589606773,0.5171421650831832,0.10542933979477168,0.5806108105710529,0.4720892425825455,0.6309378266101914,0.5740817644276665,0.5780423094409108,0.6218535765987893,0.3827962428560778,0.09544250007256411,0.009724041258680675,0.0002248551219382638,0.508103505599294,0.5790476540963457,0.3242437274491298,0.10067631302264343,0.037146679127751304,0.6358091943532381,0.04638699929422896,0.05759742629061093,0.48337507480340036,0.43870670415798735,0.11105179983550383,0.001841078847242934,0.018846043932390776,0.014635882447564856,0.07846003385281496,-0.00011529332589490775,0.014980889066083556,0.03530207893292145,0.04646239959265114,0.5954624401457803,0.5137668184689478,0.5041759136865732,0.06496719957599843,0.11029096534905466,0.5025707515145507,0.49534599220101405,0.4621525964651507,0.5483962747058417,0.06312010314043422,0.24233106751783492,-0.0031974325943420114,-0.005267321638155621,0.32289250376416073,0.5289270033072175,0.5911636024249945,0.623059885933398,0.78954665635437,0.6612612811563776,0.5843532372610555,0.5509914658182825,0.41483524931166327,0.30931396543989476,0.15847186987973336,0.47328358473433707,0.2989928648068237,-0.0057369916189734,-0.0010686660631246485],[0.21378414939147342,0.0441062548010733,0.01052371906372005,-0.0007493853481277648,-0.0017988743810888528,-0.0016203946833808856,0.02214525969310484,0.024246745273207325,0.08427963513721368,0.1027722596489667,0.12710441565630887,0.23143888791853026,0.3939782005085788,0.6683155055937835,1.0,0.34569188157932157,0.3048038316783048,0.21934490761027722,0.12757870618431455,0.15310962417746035,0.0474140207014646,0.048659478724271524,0.28670046408423444,0.25627030438838305,0.3180168779190942,0.367856788854678,0.05207290225974065,0.00321487282168218,0.27091955640032334,0.09172609798156137,0.3344250592051112,0.2407918294664108,0.008987214588261242,0.004344112459758805,0.015242285176530507,0.02790125829412597,0.01563588817556468,0.1068272613348056,0.2899398678194895,0.3895597314978851,0.1947071205891794,0.26186431050512904,0.18265426968914272,0.2631940704574367,0.24039894125099406,0.3964205746889179,0.421757366254932,0.2777627497375947,0.041021161855083595,0.04462968940979129,0.014141745130803183,0.03453436085481902,0.49487019344941596,0.3151619870030755,0.2704939492269683,0.2935670090530653,0.3158319721122762,0.30241797217804484,0.2628346694565949,0.34118323347543145,0.21282566538226408,0.13374993455728065,0.2981495235835436,0.0457619506006979,0.06308382143785647,0.05175738477498708,0.1837893090138484,0.3049372825631868,0.3626018364491968,0.2171642045173309,0.3613230890687116,0.015914072508500195,-0.008574421440763851,-0.03748499879465642,-0.05666194337976135,-0.06699053209745358,-0.07803224205890952,-0.08574297922799623,-0.08563875867197307,0.1382220014225227,0.2141959838925275,0.2983754226245697,0.29837540796427947,0.39983422221733705,0.3597977378338256,0.1627704506339415,0.09467483097897698,0.08234452077617917,0.41000577260709636,null,0.19369543553840554,-0.000786112422304308,0.30020929176990846,5.8675924960959825e-05,0.31804621896492397,0.1822664466477093,0.49912092927627383,0.08880910460450503,0.16696906935244904,0.06913137179091938,0.06884209543366493,0.09125358214554269,0.14514902613182312,0.2711326791516493,0.45661410075738545,0.6722768592330979,0.5203560279774256,0.22120152953879352,0.03604855235063858,-0.0007844822352918232,0.09405742155581578,0.2983754191776128,0.06943265296090866,0.3258401358565012,0.28032535202635533,0.5505207620507931,0.4341395259544403,0.3698201259061766,0.30065803263781643,0.26053489510899025,0.052995674807334595,0.003876365900262766,-0.000624375168915258,0.48940007897090687,0.5679987462204015,0.17952552227578691,0.10053795401085723,0.024376620616589767,0.5927959218551082,0.035552406275463806,0.017412691227192204,0.3133278271485144,0.3081263171312758,0.07409340432071979,0.0035663879169150355,0.019271230999754675,0.0066867295141384816,0.14545753021872956,0.011987111391308413,0.05405834312226358,0.018213388694861644,0.02651517648716131,0.3849176831927605,0.12833787662386353,0.13829502297595694,0.12026450143131887,0.11188739168563515,0.22770384075602745,0.22409725143413917,0.22160200597129717,0.2683033979544029,0.07432360304163109,0.29626331810681156,-0.0008872881417680777,-0.00027142031121423513,0.1413603873074035,0.3304455727705342,0.35257856497886125,0.5356672310092886,0.5623573289018439,0.3157415579842117,0.2189904014200098,0.180854015833775,0.13359811717841688,0.11643827756285807,0.09754115620880022,0.07998592899802055,0.04921768586135645,-0.002236351309455559,0.0006499706171926203],[0.0723312294982439,0.018805178327539706,-0.0015625042658421393,-0.0001202491190836339,-0.0008122078686921511,-0.0009146769132754016,0.00178279901268598,0.0311600354698797,0.06677490869994367,0.07151821022861445,0.05730402581063381,0.05842753230973779,0.06430305013263998,0.10225681459883582,0.34569188157932157,1.0,0.08328347505147604,0.019990809611807284,0.06710919519647393,0.10135449112422726,0.030212838835301938,0.030241179591899855,0.08744354016133876,0.08476351239585696,0.0729094586044169,0.0850243162487766,0.08209512036819638,-2.652646632369637e-05,0.3270562142844474,0.23129254587248316,0.09097032896941533,0.05051554279625758,0.0012823813197788156,0.0005789003779977215,0.0012669505055809404,0.006500418302680651,0.0004691730081746859,0.006633583720874179,0.03793761203008346,0.09723925406959785,0.10021520653417944,0.019392309758729586,0.06222277365922051,0.08888545715325936,0.057290413246891256,0.04861190734805093,0.09895331061072908,0.08735437922220951,0.010067583727524558,0.007345432307251902,0.0017843035471002964,0.0012756529928007402,0.10270717157350985,0.10001107830441655,0.10664072867420547,0.09467800873411086,0.09593734974678968,0.08733882716592417,0.07500891410600828,0.07824515259068468,0.05992904160524932,0.04292696866991931,0.08477956660987437,0.012620918347791568,0.016296742245632587,0.013574140759505145,0.08795044669024307,0.08338841720411574,0.08482992272391908,0.0521940537589279,0.08095488633268363,0.006049808475597549,0.0009519222247676682,-0.005233795543370089,-0.012586362908341387,-0.016428077462336987,-0.022013005083278334,-0.02537597070657756,-0.026230813554481605,0.030007703085336103,0.07238189574386375,0.0849382305525033,0.08493822418944619,0.10751936958868209,0.11346586318199282,0.09674490079018927,0.01751398150249786,0.017887687430471443,0.10992052711566308,null,0.02943320132526134,-0.00012305149922317945,0.02691569380054867,-0.0002598640941912012,0.08127845019362628,0.11282808306912728,0.1142288836293459,0.025574576572760042,0.0787667597662,0.08095784616958111,0.05018679274975674,0.052765915782039235,0.07152514446614933,0.08395067397425938,0.10712502866592584,0.11219962960196397,0.07773946847570148,0.031493687540997815,0.004419998898937125,-0.00012164314495849149,0.009937483971135112,0.08493822767274992,0.021812530056748144,0.06710789050609148,0.05825397819851549,0.10529075557500893,0.10405730337799585,0.12821243428709683,0.07130445099431426,0.10522642808475222,0.01741536377879567,-0.00011626878331924133,-0.00012671196990955358,0.04074039118588585,0.07023836508957855,0.08100132498906312,0.06754617853426595,0.0033526304568249074,0.05597469915310955,0.0060371058575022715,0.0007516462337967293,0.0892375930073351,0.08851084848554872,0.02082804081423588,-9.912029467835558e-05,0.0018289244714787072,0.00043927739245445973,0.13021998539100738,0.009736640393048758,0.06600967306222573,0.0007327227059352337,0.015605676407011663,0.08219171994540776,0.0922475423282923,0.10159363447253887,0.01795685361060392,0.02117515154518414,0.10511521224841183,0.10934669293381041,0.08214685164442008,0.13091806487875401,0.013012765138119326,0.034546127941831914,-0.00037473218388030824,-0.00017687098564809857,0.03517677102967252,0.07837271489093366,0.08642988248663375,0.15216661313709381,0.086224634100869,0.08711157202564529,0.07202660860561681,0.06161572922410447,0.05794589412506946,0.05569683025315356,0.052266633587159106,0.03981736475118551,0.025279862985822726,-0.0005341412744448631,-7.104811729613315e-05],[0.9081034271246838,0.08628340566358968,-0.04114855085367507,-0.0019442625576923656,0.047763670519133994,0.07192609738844201,0.021001769782861498,0.1055495179037976,0.23408225750278358,0.4260372189263993,0.5573270334872291,0.7704065653150655,0.6874786140745128,0.5313499376330596,0.3048038316783048,0.08328347505147604,1.0,0.20964768946255635,0.09140217208791558,0.08013859829007271,0.42910644153139993,0.4323898447614412,0.9883745449309016,0.9741447416589434,0.8922336286764465,0.8977040331967415,0.21765340215070753,0.06384440957766666,0.13658768756863185,0.050342725660236426,0.22656720759912674,0.286047177605656,0.1051816477170357,0.09173696440860644,0.15141404930295055,0.17048937042948245,0.16807370762051307,0.24687225811588767,0.4564488717728765,0.6400994713883355,0.5912774750474995,0.03087117137811144,0.30941734745756977,0.3453343929974753,0.22138473925665902,0.22367854587169128,0.6273969100241995,0.7241107921455008,0.18223196402253566,0.18709425384768083,0.07297749677344742,0.0467238237571995,0.7312673475990583,0.7588170686909366,0.7471821588545945,0.763047033719578,0.7610687796560718,0.7139792557810339,0.6447218913645516,0.6133979650169081,0.42388653448202457,0.34849107527774975,0.98337873073637,0.36320639383125053,0.41325083162043696,0.3410641356308147,0.3726312761026103,0.9999999999998178,0.9531970429167216,0.8303374947267335,0.833035433368451,-0.006741941332891561,-0.06347098409255932,-0.15940392708891135,-0.22739108962437563,-0.27359983133613885,-0.3101307754288171,-0.335248627905786,-0.3490056558175379,0.30773203808666916,0.9105561747579819,0.9833747322840368,0.9833747463765323,0.8442162364590869,0.8053563329563715,0.44920849973177357,0.25679636872601097,0.22769512129346514,0.8442819213422627,null,0.526356923675698,-0.0019509575153220796,0.42049330354758285,0.0208121347772528,0.9312356569740141,0.3596940685477385,0.7795048649911298,0.16792350623482097,0.501618258505738,0.13574538429443594,0.3242201048705414,0.47242646601440447,0.6393690407804778,0.7746725339480766,0.705508861560219,0.4932170287493879,0.3884341229144579,0.320800984668779,0.1468592435251812,-0.0019390412339261897,0.20358045355785734,0.9833747387401532,0.1461274211749462,0.6706396791285568,0.5450651608630604,0.5929339646689513,0.6507397709536525,0.6445496113240566,0.7756941757469691,0.49299765835411674,0.16368539067300147,0.022066253915887474,0.013583786038426991,0.14840434212632267,0.2762726645747548,0.7344745439310674,0.6117276023957043,0.06759340286316277,0.1787512237468765,0.02910762978556864,0.027102820547894292,0.7578475133612038,0.6719391505249812,0.34692319662319704,0.06174538132677575,0.08733462587953231,0.02589546064275973,0.2640579615051512,0.0029616589126490608,0.06232393003850567,0.024917391782797522,0.032744062645180635,0.9029197260373737,0.6451700324475335,0.6350833973654832,0.2551981287289841,0.5066411856267505,0.8141198109032399,0.8076195719277275,0.469333643839575,0.5258484660791674,0.5070262489472788,0.4110763259981967,0.021341882635728192,0.02316755507487537,0.5810695496542841,0.6820884541103828,0.6999582170054336,0.6705767276725089,0.6399650971520007,0.7388816822360894,0.709178403401407,0.6652714102635506,0.629021110841199,0.6213973601540329,0.5160104502047616,0.4033598446428348,0.20040893827005846,0.016432158168108574,0.025879733098116604],[0.14164201968239087,0.0013110032052117543,0.016004276715643865,-0.0002333528332124978,-0.0010010618320385651,-0.0012893189522474521,0.05729592688413612,0.009738206136631674,0.020068006655566743,0.018784210851340334,0.03720701109651068,0.13154673532480513,0.2553120683792589,0.27798064243534676,0.21934490761027722,0.019990809611807284,0.20964768946255635,1.0,0.17079873096759202,0.18107260845754505,0.02483367952869377,0.03217573739890396,0.16674666294029672,0.11779444614760123,0.34069591451267167,0.3664715264306393,0.011897054011024763,0.001000236239912775,0.06194003608493224,0.0018432415105286769,0.04075701781893843,0.02202606923916708,0.17107069998929356,0.0540974952404648,0.033259493466823845,0.03412072733960538,0.024000910101273205,0.12410469363710097,0.23099199441224966,0.12238350225655407,0.07201568690391813,0.03311882301447892,0.0939668216221857,0.15924433507542304,0.1385451058863853,0.18296366182217408,0.2345654858148222,0.13137241900364957,0.00526684419600078,0.004629242535553512,0.0012811355295324776,0.005212554726831844,0.25962901769595154,0.14340487552092082,0.1232634833589894,0.14840996365313125,0.1685364946854041,0.17287633337448283,0.16203482162185795,0.18371592123705982,0.11090505549566566,0.014129599708179012,0.21722999582750965,0.005969464381829679,0.017626905819968428,0.012507220250529676,0.1603475934926979,0.20994449971291193,0.2936553711186878,0.1952347150993701,0.4168349904304858,0.06720238260272537,0.04931034183304349,0.029419221987303283,0.01802194834940299,0.009505734436337867,-0.00020362710801134342,-0.008954943451384093,-0.013487957960105048,0.13191798517602948,0.14164248350299302,0.2173908228291528,0.2173908138720361,0.20701892350811857,0.18782764802986057,0.10670412684321878,0.02421012268533172,0.03175568800561058,0.21274434162830283,null,0.04578114960773881,-0.00023842271329770182,0.10327185459915486,0.005061897865346876,0.19634600313796005,0.020859641535062163,0.30577508588060937,0.052764262837727026,0.01899918176222356,0.06104614726387646,0.01666074729662722,0.018173489964079484,0.05792283559422705,0.16456086896628627,0.2754275745332142,0.26525333019911024,0.13346220590719796,0.04363143469724966,0.011838624708479403,-0.00023759842949219316,0.01921041918601994,0.21739082167714024,0.024873117522896924,0.20003048342720517,0.3376563348668976,0.2981666684674074,0.21703657546663896,0.20292518531393344,0.15692421801656561,0.06798108030031245,0.01402386323869982,0.0009739919553064171,-0.00022994738686775754,0.1628484894201972,0.09724971741521489,0.08937002690712333,0.03591863286120398,0.004618108872359002,0.1322493910585892,0.012339002369356896,0.017801491107324582,0.1320965883981322,0.13948025559582725,0.059363530932982904,0.024828624251411826,0.0130887839261591,0.043054006790863436,0.029497665264702776,-0.0004565175431107322,-0.000261455519120616,-0.0006852243985710325,-0.0009261266472518314,0.37090035328683707,0.07735070187547026,0.0851638394181726,0.008572921724352757,0.014044344746272697,0.10321674033083095,0.10052978890628117,0.1088754175530041,0.15796721089907054,0.00841118947887033,0.035293942939689515,-0.0006542706998157485,-0.0011279774108060997,0.09528986525525107,0.15158934279168712,0.17019394492763024,0.25100186290015764,0.28299214430617936,0.19227697160236235,0.15279012158189378,0.12793041177075837,0.07555688001502614,0.04723737833365833,0.01956755737603309,0.06656210162330517,0.047594852258378485,-0.0008442621601019185,-0.0005663796615568403],[0.06406430392309997,-0.0012094636675137936,-0.006256619820506562,-6.232393684872321e-05,-0.0006774336943873904,-0.0008378514379706864,-5.341224979229025e-05,0.0068603992829908405,0.012260814890498895,0.010286179686990604,0.00946366625471346,0.052011952249199904,0.11597752880284694,0.12247308862508947,0.12757870618431455,0.06710919519647393,0.09140217208791558,0.17079873096759202,1.0,0.9300555437757821,0.0049990148246464635,0.0051240152993947165,0.09750929569848427,0.07974657938808881,0.11046421586944022,0.12058935410529686,0.001507966490460752,0.00025586474657905933,0.0624332141684107,0.00029755186623060153,-0.0007486483010194353,-0.002400307421096966,0.0012425728942239468,0.0002960864604324825,-0.00011076880809098674,0.00021492034490436717,-0.00012949060844695903,0.04269477921822576,0.11944677646715655,0.05174869427752122,0.038391253678272744,0.0006563579769707363,0.03165933920136877,0.044046128909994126,0.04769783905758473,0.06386615062075099,0.10186035324826055,0.06060484260084087,0.001757901501796398,-0.0008655964890494885,-0.00024877416785919096,0.00044270296410447204,0.10683333692991291,0.060017463755963965,0.05244058724643865,0.06290207075679671,0.07403496576621328,0.08468407045988703,0.09490205214405996,0.10516066721424187,0.06923757139255475,0.0037211217616915024,0.10139989742799738,0.00098841444952853,0.0012603710097931684,0.0006244438994693009,0.06275337081390829,0.09149643616728007,0.11799575325607563,0.06838560817026429,0.13066013044242047,0.007586082987008038,0.004620260345260666,-0.002434923810509057,-0.009140674837591616,-0.012864764554498712,-0.016222508561035222,-0.01788439870293304,-0.023032257780778054,0.03165986445970839,0.06405652032825511,0.10169121528280144,0.10169121315116868,0.09014285851619784,0.09640147341495552,0.04062819684599599,0.0045428752056203905,0.018779495722368405,0.09406923608402579,null,-0.0017208477036766902,-6.297839380948732e-05,0.033749467401916436,-0.000151170092637308,0.09055186823295673,0.01373687295314783,0.13367738688625905,0.02683189301283262,0.0034666662951152055,0.006074990224369705,0.01194259372155368,0.008204484054372482,0.02006377075987729,0.07120912360789639,0.12073404458429787,0.11929298154218254,0.08224005110623948,0.02602951485951163,0.007220518665058734,-5.8498261093186155e-05,0.016964200471178876,0.10169121202683465,-0.0008128115480548527,0.07567880224314677,0.0635275025381703,0.09931177404585784,0.0884643343585664,0.08682792358808845,0.07606693914794051,0.03795003273535133,0.0061060929125109015,0.0011180237767020736,0.00014559982219764861,0.02662151011406468,0.046183199867749415,0.03140117457950172,0.01163895032952297,0.0003915526188381121,0.02630749593060332,0.0006358681545629115,0.012524704608695448,0.05204439668625075,0.02252553552980146,0.00589598465487564,-0.00013943101116598792,0.00017638444892607228,2.264544185497598e-05,0.003671740289050688,-0.0001404909824443673,-0.0004039834820894588,-0.00038889033345718604,-0.0003131883055720845,0.15017516409034695,0.04556364750554081,0.043971051486137544,0.004489778157994998,0.003496850700579109,0.04015914538741862,0.03611679927065971,0.028758676129015677,0.04465357473426611,-0.0007897612980633796,0.0015775999929596844,-0.00031960695229919805,-0.00050211591523781,0.019341461699016464,0.06541511348891439,0.07759643801976278,0.09279055219330157,0.11911512628670498,0.09263119026711825,0.07267421006948906,0.0614753653933765,0.05120929017997373,0.03304202981421215,0.007719228752017095,0.0367254414040093,0.017876570555667035,-0.0003443586467877613,-0.0003354193524021606],[0.038142350292725606,0.005054144171341345,-0.0016926225828415202,-5.512648647796679e-05,-0.0005070210782283649,-0.0006297009428432102,-0.00012296413344992156,-0.0002470203344598461,-0.0004837998383784509,-0.0010352315300434156,-8.646971320104702e-05,0.02190524291750035,0.07482151486366838,0.08181081844470041,0.15310962417746035,0.10135449112422726,0.08013859829007271,0.18107260845754505,0.9300555437757821,1.0,-0.0015628491949306325,-0.001528910652035489,0.08275340275558675,0.06281619516601365,0.11884046676105582,0.13685904797662068,-0.001051927036497619,-0.00010302700646733943,0.05767000677011521,-0.00013451033277478715,-0.0006540296187968104,-0.0016054068850582253,-9.47564901788642e-05,0.0001098353861089324,-0.00018865697869833786,-0.0002711579054514879,-0.00020915645314007977,0.008346151205417566,0.025409269803596018,0.03126000930925979,0.07627624347582072,-0.00011285244829980774,0.034730940793721944,0.010535832529860317,0.009478648553135053,0.05168503916294551,0.09763177938699515,0.017353415139775615,-0.0012203242624041182,-0.0006329916885295564,-0.0005099092366569737,-2.353681295743877e-05,0.06089357952741396,0.052333689791550606,0.041909306104168396,0.04571913378458889,0.04682672999851435,0.04775979267851167,0.05527433770794489,0.06019298410744793,0.004741066204254647,-0.0008201574083282645,0.09191211992677566,-0.0007040189940935703,-0.0007859385600717039,-0.0007999481180305427,0.015543375046566046,0.08013077113731393,0.12404374641868553,0.05074596497265295,0.1723482806832615,0.0025395918925784997,0.0005521723215343847,-0.004487932520652495,-0.010139932529131337,-0.01303081065272984,-0.020282615714082484,-0.023486952217273902,-0.02987460304180963,0.024596832398787898,0.038139332984221175,0.09190497604142653,0.09190497211729642,0.057567618503693345,0.05993930664720193,0.016924514401486523,0.0015319713997949812,0.014139044436334751,0.06057583482067998,null,0.0020381678252019576,-5.713918326902067e-05,0.023920188595130846,-0.0001806922768214346,0.04820916869450223,0.0026007374734053576,0.0691659299030173,0.008706202459024467,-0.0027547179045814595,-0.0002649563610678779,-0.00082030567609571,-0.0012290310006826423,0.005917331233679455,0.033018246653536955,0.0765306549737383,0.08299299366345018,0.08515963004019049,0.033436552439454474,0.022113788503972474,-5.6778403980820676e-05,0.000760531715032354,0.09190496794722751,-0.0005660546746654898,0.025736904423706953,0.02497107309268045,0.04342156645245627,0.1001053372745928,0.026538290767709666,0.05022470389844617,0.045392656590000816,0.005394975974025668,0.0005283128903419585,-0.000151788113082649,0.025700865021956773,0.04759529372897448,0.04631591379949158,0.01635253747791254,9.373768984096636e-06,0.0032651804077837012,0.0003501200170902204,0.0023595384925020084,0.06177869868551602,0.006229815546171509,0.003972761118350996,-0.00022270357972326008,-0.0003145050249365647,-9.554391827754175e-05,-0.0008895919464032531,-0.00010787090811525697,-0.0003342884386177357,-0.00030658079114681173,-0.0003341724810575115,0.1431277619972501,0.017266695281871382,0.01693675678928259,-0.0005704655304595061,-0.0018463499305032807,0.010639870274642667,0.008962662762771188,0.01457303603723782,0.017291452396300405,-0.0016817068171859875,-0.0012933031270038013,-0.00023862886982452556,-0.0003444074826116102,0.016544251222107998,0.02181974697937139,0.02365803400120631,0.06847537243094258,0.05716824129176173,0.06112341763948964,0.05203124012426649,0.04205854120014664,0.04425345771512471,0.01894905933105254,0.005588072568527453,0.021078332429910144,0.0100763849324915,-0.0002337690653886235,-0.0002969531039321911],[0.5007427408575441,0.04968273311734936,-0.047263969095697814,-0.0004931487674074021,0.04037854176916712,0.05593929275255344,0.021789922336585978,0.2867520306158155,0.4341268806901767,0.5713929274753272,0.512873062942973,0.3747561253294043,0.08826835566021539,0.02489935131319175,0.0474140207014646,0.030212838835301938,0.42910644153139993,0.02483367952869377,0.0049990148246464635,-0.0015628491949306325,1.0,0.9938947819964371,0.43057559840079274,0.4905004726180879,0.4941317947504324,0.3510591852847645,0.3351552808267188,0.17215655824172732,0.036052706314120955,0.081854264676809,0.10880274793878245,0.21082406858275957,0.010794461890064163,0.003278191651613916,0.00018249674901793804,0.0013577157636617467,0.0006112243503175798,-0.0028709008124482675,0.009572497760534667,0.3228883217681444,0.41567617931479245,0.014282126333000104,0.1754363643888046,0.1671124837314215,0.08251014621131317,0.022048882407060058,0.23807528911360346,0.32771244483222445,0.12784595625840897,0.22857891940856637,0.05808923091267246,-0.0008979793790123927,0.23208731358730222,0.4146490295578582,0.4415057330115748,0.4020843483341173,0.33624659865043505,0.2321833262203572,0.14291570678308174,0.18978059202336953,0.2497003353634604,0.3372332731422171,0.4984530699760122,0.3371641296341046,0.3449856935389911,0.3727573212989939,0.11741851861981288,0.42931315921141533,0.37084264087058183,0.4520963226279712,0.4673826610828572,0.03703974203839616,0.011149909732690146,-0.02300094075480652,-0.05239117710161503,-0.07454160886012268,-0.09135823283227441,-0.10509339401560219,-0.11455421340379106,0.13350498441987735,0.500803262695465,0.49755087508036167,0.49755083972338177,0.389318792002675,0.33734603641870414,0.016427149665137097,0.07607919121614128,0.06144282650675252,0.37852063116586576,null,0.35183007379110764,-0.0004944848590250744,0.30327930746705156,0.020263195645077496,0.45441736466396654,0.24285071616818013,0.3865027952434213,0.11664423785995133,0.4207631976188264,0.25765486124433035,0.5153644081669488,0.5454668016049937,0.4627897431322322,0.2630055825252991,0.1317482001419564,0.11081192236462364,0.20075197202871084,0.24875931317187738,0.08884266870944811,-0.000489712448311734,0.07483065727859993,0.4975508625408283,0.16237804171205225,0.2502393739756747,0.19584168559546314,0.27815933057469955,0.28989166560042384,0.2739288293716432,0.33773782680485226,0.18042173304792777,0.06960178680270115,0.007160233800945177,0.014122938710688974,0.03280651765849541,0.13685980669514805,0.4245349777096299,0.47649238834603913,0.041606717628742594,0.022388764464019908,0.03644555290317352,-0.008407573598478785,0.4072395420748088,0.34465436801979904,0.23540122309260667,0.09595757583041696,0.11638959792080573,0.030177525109195975,0.2878064854115508,4.648466796535249e-05,0.05111492534432025,-0.00036434716763320175,0.0007124437985657425,0.39530529043902174,0.1447542381144858,0.1657904372135295,0.3125134671907074,0.37512967642464506,0.3596125469687799,0.3656162395356946,0.09239498291006162,0.07481432005448013,0.43933651937684604,0.18937184047726724,0.014878961510278873,0.019652024949130712,0.2883654931463786,0.3185734230724636,0.2636178995762838,0.31616912784570883,0.15657324151107693,0.23527707631638134,0.23362612347393943,0.23859993105435714,0.3616023689426748,0.4272541015254492,0.36359511285423673,0.010323717590922394,-0.017996467459233847,0.020660208562346877,0.04184920411353137],[0.5037243460269304,0.05244807853618761,-0.04782000599953624,-0.00047630221096245736,0.04072784492491753,0.05657936224167872,0.02031138364844054,0.28402247692635874,0.43313116775704613,0.5755938881153456,0.5198248112237205,0.38312278216675083,0.09230072555656657,0.026976052061750067,0.048659478724271524,0.030241179591899855,0.4323898447614412,0.03217573739890396,0.0051240152993947165,-0.001528910652035489,0.9938947819964371,1.0,0.4310501958850514,0.49027815061953084,0.5141906033793815,0.3700989630921486,0.34811345132712407,0.1654684916361476,0.03820816497871098,0.08073106664065778,0.11248125954780497,0.21525069105225933,0.01885091654902986,0.00635194710987278,0.0018849333727599755,0.003592725871372524,0.001595111963221254,-0.002235231350569804,0.011451619544650621,0.33282611663995587,0.4172587924149475,0.013908708838485875,0.18084467177969193,0.17301432000302544,0.0850230795010312,0.02280382388741077,0.2477897025028692,0.3340687545468616,0.12081530502282896,0.21456680254015112,0.054466447296183454,-0.0007584172583233931,0.23935567699396626,0.42351060525660883,0.44852910792724043,0.40990983996557123,0.34346912440748417,0.23743190799725125,0.1471953612849295,0.19673532956580705,0.25415422460104053,0.32615441648223514,0.5063879031468878,0.3334533284840427,0.3403170908762531,0.3757436299515891,0.11973082511508822,0.4304189581410878,0.37796015529605675,0.46584262751518474,0.4943192381650386,0.04311227760272478,0.016207254387707735,-0.018205273260580974,-0.0475310328460911,-0.0697939578561463,-0.0866455144964652,-0.10086002822542879,-0.11056633836511874,0.13929301822875775,0.5037352051319555,0.5044408486768066,0.5044408131221954,0.3927185490509916,0.34323075112579365,0.01727406746560854,0.07615809877921367,0.06055099271226852,0.38138087152683364,null,0.355712971185639,-0.00047767680304983606,0.29996266481256567,0.020269116440386387,0.45981461955268144,0.2544620153591021,0.398668910587629,0.12163749493065934,0.42653061551022003,0.25476680122928497,0.518401559995767,0.5535585014029728,0.47577761314389794,0.2714113646038671,0.13510402250286394,0.10880869380997397,0.18981984431837104,0.2329517947088152,0.08375732205152686,-0.0004730391028086053,0.07358545314931887,0.5044408357858366,0.15440069690086095,0.25412891724384623,0.20387002493260875,0.28792523112572616,0.30053568683356213,0.28408464878943945,0.34302740524878983,0.17795803549509007,0.06810002108910038,0.006353909523591572,0.01398468827611333,0.035185781221801785,0.14452702939386444,0.4318954096840392,0.4785958578104132,0.0402208110659176,0.02407134308270304,0.03981664976643999,-0.007974761091987137,0.415277309331496,0.35398076737929446,0.2375888072650511,0.10682289514675862,0.12828229547298056,0.04593338899909458,0.28805854020496713,2.5143638608669966e-05,0.04998723617423094,-0.0004372163514830414,0.0006982675566549512,0.40447294307691695,0.1438155078941067,0.16450602238082823,0.31648517986696345,0.376435224052997,0.3612982056945737,0.36719589161810395,0.093303077988036,0.07607969688754447,0.44012684711590383,0.18989360522630014,0.0150737218210905,0.020695705474866224,0.282810985815784,0.32147506673724996,0.26828892933324344,0.3292442890781723,0.1649145785070068,0.24448586611574435,0.24098886433817301,0.24317023947502936,0.3644493065550401,0.4285991392650512,0.3615110139912698,0.010191835412689608,-0.017952512024285574,0.02139598186454039,0.044733886794723884],[0.9152726298232098,0.08681622754883664,-0.03050145102572479,-0.0020222293595138128,0.05144963041853655,0.07625097894959654,0.017448465097173165,0.10657511337163152,0.24019637691885698,0.4440658835122512,0.5793067917380325,0.7856170347056155,0.6859389078308203,0.5195139092215942,0.28670046408423444,0.08744354016133876,0.9883745449309016,0.16674666294029672,0.09750929569848427,0.08275340275558675,0.43057559840079274,0.4310501958850514,1.0,0.9929968093373771,0.8796390909094882,0.8714764435857055,0.21159930101575491,0.06649310395813757,0.12568501394914935,0.04742789707818584,0.22229660088403372,0.29053702778559365,0.10369637226416992,0.0875673127039942,0.14487202192297421,0.16534038378869018,0.17251820114243246,0.25354415080842213,0.45018770036216604,0.6455213398114923,0.6116344527151412,0.025087459388359427,0.3085430299801828,0.34328701291955654,0.2137942745102289,0.19997182103388683,0.6284744295258075,0.7398853882402268,0.18484752104539035,0.1838882068254109,0.06941245955378074,0.03474444610093396,0.7306357489891592,0.7771661697937144,0.7674676132891445,0.7825437242674359,0.7771300971203227,0.7240008735529223,0.6479227433975967,0.598896806462717,0.42131144309461394,0.35582863124361724,0.9881595356951087,0.3709711372999549,0.41646550233602897,0.3417322039429167,0.35898382652168126,0.9883418818718729,0.9329339505867362,0.8276307499384024,0.8132625084726093,-0.01868825824096438,-0.07572320079143344,-0.17293366516284395,-0.24179462405643745,-0.2879134467807653,-0.323925449976344,-0.3478916987829137,-0.36154460499434443,0.30090449653757745,0.9175012192182442,0.9881470871943875,0.9881470963537886,0.8532963417911128,0.8105110272253409,0.43654082988861515,0.27318773515273775,0.2321619790332356,0.8532536536463302,null,0.5359959033977617,-0.002028503446004722,0.40135345978786574,0.019930604057142212,0.9323314479580223,0.38349681636886257,0.7775695665941492,0.1649323796296529,0.5115818779544758,0.13037309650634937,0.3361422534060176,0.4918230848834138,0.6617238947282293,0.7898843824974688,0.704351895850144,0.47810213127661066,0.3725559561101234,0.3104211103511435,0.14761504065451422,-0.002016532529724637,0.19783030929977477,0.9881470919884057,0.14034315204900524,0.6714254847468488,0.5351200322418534,0.5904115172840827,0.6613674573699866,0.6502033430507675,0.7874415139501952,0.5003557156345901,0.16603532488351208,0.020855121182937336,0.018074991038405534,0.13748878078054158,0.2651135546027175,0.7453455139590162,0.6228508171943883,0.06845797905232354,0.16116072661478242,0.02936265518441382,0.032076268078469757,0.7641085638052622,0.6759837189339069,0.34832847625076846,0.060935028800976516,0.08815710718084603,0.01735868379889118,0.28117553010770446,0.0038153465632921983,0.06626942627317807,0.03175243856451757,0.04049009262176973,0.8663018333566007,0.6457446920642244,0.6426472400143677,0.24594384955691234,0.493701490117245,0.8100546557449652,0.8038337599425368,0.481724684223251,0.5316201149089758,0.5075466492285121,0.4035029202561649,0.023003600301934057,0.027661730445056428,0.5630539929015728,0.693283508714131,0.7083565032518282,0.6821549756517818,0.6259351462969042,0.7443601840759423,0.7188820518541313,0.6760853788087341,0.6548326554479806,0.6425451063093662,0.5270533799681512,0.4076693528432281,0.1999409180931105,0.015968659815028274,0.026594551456077857],[0.9203016501610439,0.08749130491919488,-0.033028570854496744,-0.001955468667696388,0.05420889128973538,0.08047638233051328,0.013583792430293956,0.12705909682916344,0.2636547483306405,0.4748528627380642,0.6045304635504056,0.7805250600042434,0.6457177657481638,0.47442553553102,0.25627030438838305,0.08476351239585696,0.9741447416589434,0.11779444614760123,0.07974657938808881,0.06281619516601365,0.4905004726180879,0.49027815061953084,0.9929968093373771,1.0,0.8487089566264334,0.8183824609183362,0.22527951165986476,0.07930553418947218,0.112909635118794,0.050743396617193,0.21109199594668365,0.29167022869709974,0.08718567768299992,0.0711227894324534,0.1336492727499796,0.15304443773202783,0.16149431817911725,0.23285223256624973,0.4129805701576742,0.637016292514388,0.6271979951718586,0.02224994296934518,0.29937439612796235,0.33403519672563753,0.20302199379402092,0.16949210505391377,0.6004053898932183,0.7347630193699624,0.19428502465153863,0.1981925054388528,0.07028297323685129,0.028173904046992125,0.6990138887867282,0.7751442176594706,0.7746198250256606,0.7822352128138935,0.7669734947642451,0.7036274878363447,0.6211504643989706,0.5715261637600308,0.41785689286794475,0.37551883427775945,0.9774934525223162,0.3899227133501003,0.43310782324541475,0.3611223125231174,0.3389382641773571,0.9740852259938906,0.8946424839974142,0.8171524336792938,0.7707886981803322,-0.0307512323054447,-0.08488612052205576,-0.18011411366675903,-0.24803779454715774,-0.29401364849706435,-0.32964774732540186,-0.35309112207721943,-0.3667518974582335,0.2825752301335845,0.9223979289265323,0.977487824125282,0.9774878300393769,0.8400808058815415,0.7938230604535401,0.4132596167213293,0.26908598019346885,0.2293095797066705,0.8381885504140644,null,0.5442389573708929,-0.001960915180133742,0.3977513882014615,0.02011339559797659,0.9220827659152254,0.3865128662484131,0.7518411026661503,0.15778568909188018,0.5262637569517628,0.14499961719181725,0.3646588232912974,0.5225225964475997,0.6773097877249924,0.7714754512608822,0.6632487222780948,0.4425102411639652,0.3661228795089292,0.32322283318370226,0.1502162777286168,-0.0019490033597565294,0.19112666693039243,0.9774878295659652,0.1484531773756797,0.6486811124753183,0.505559405112465,0.5628043650851766,0.6375139168513041,0.6246685934658733,0.7784959055718014,0.4994745074797853,0.16875892211369256,0.021845613558995624,0.019819913142931682,0.11891791048621782,0.24931755005965325,0.7478511463498022,0.642346608078877,0.06993670328654732,0.14080871800620076,0.029559771268168982,0.02893456786632309,0.7584297038889455,0.6594860158083279,0.3469697993777977,0.058273239789124506,0.08503532031556424,0.010216930048717909,0.2880993826506673,0.004163500798190898,0.06992846173926397,0.03363067893534318,0.04213476190547626,0.8190679840625925,0.6339445473865505,0.6316016240792408,0.2583085717685163,0.5098572581536129,0.8025324752425106,0.7967054940231523,0.4610931645113804,0.5037088434915399,0.5312260617798973,0.4053279454802022,0.024393330670763033,0.031592945848117004,0.5561577979708292,0.6782545442259382,0.6891119011286225,0.6594926978887251,0.5810278583351985,0.7186223336629731,0.7022956487397524,0.6648195703581038,0.6625911196210144,0.6611200420047282,0.5510407347668477,0.39503104939966,0.1918485597322928,0.020858761288773647,0.03759789977703046],[0.8224148911514382,0.09969648815037753,-0.03830255043127656,-0.0010962759129273813,0.04742451699174604,0.07063269055710412,0.026807495441678732,0.1098369924973261,0.260921622606893,0.45926093105169197,0.5659581189273759,0.7249490281118187,0.6196227869698264,0.5018900373795163,0.3180168779190942,0.0729094586044169,0.8922336286764465,0.34069591451267167,0.11046421586944022,0.11884046676105582,0.4941317947504324,0.5141906033793815,0.8796390909094882,0.8487089566264334,1.0,0.935372049208763,0.25806898371631193,0.0668692913557129,0.12320803498623692,0.04508764165164923,0.20967438879751854,0.27229629333351074,0.12879193971394234,0.1011240268307998,0.10951236277451099,0.12932117748969385,0.13922162037098162,0.2377531977816843,0.42182994393104456,0.6143088039647429,0.5602040983516007,0.02968769271079138,0.3186576090916567,0.3607247573686937,0.23379113194759216,0.25436825280906805,0.6221205396527398,0.6663671561821638,0.15419409005332824,0.16925720690851018,0.06971505061754761,0.03577846450472507,0.699955814740877,0.7290363410262615,0.7097750329208506,0.7170378784560755,0.7060027922303058,0.6501597292871322,0.5732749924049014,0.5649406096392787,0.41971320538841284,0.33552132457125233,0.9392192297199232,0.3483656489350428,0.38943213463421583,0.3473153857949551,0.36448504898738526,0.8922572061717197,0.9245290667872135,0.9167893508375503,0.9451847737771276,0.08502757424597886,0.02465946021444934,-0.05811718128359185,-0.11932001735210693,-0.1619277982785717,-0.19716370643920902,-0.2246736503047664,-0.24033650896480802,0.341237134546355,0.8233500229393919,0.9390481395920672,0.9390481226892046,0.8086883659893629,0.7436079894051685,0.3650710626269196,0.21618874155262657,0.1707888751377975,0.7942818026282567,null,0.49130901855082565,-0.001102299631030299,0.40735117566668744,0.01675081174649441,0.8646718898146826,0.3416825292505201,0.8029765421816277,0.1910911625417608,0.5427027362134998,0.13778594062932237,0.34945896351964884,0.49492035790716743,0.6253521824285567,0.7103697700821925,0.6583106116019092,0.48342874384299495,0.3603405220783659,0.27376755178539475,0.1292759733710118,-0.001093742977882955,0.1942910579064885,0.9390481297182508,0.1419214084352986,0.655552931812928,0.5749685288746577,0.6387620023291263,0.6710113791361433,0.6438532015933657,0.7104613968446445,0.40204680150033073,0.14650093715383167,0.022892705614401557,0.01015243656929386,0.14756203718569902,0.2693243747197624,0.6706207526251298,0.605752163952113,0.0731288225107829,0.15085831860448257,0.03637232813619889,0.02244049230570755,0.6912941388484996,0.6822136117658415,0.36476443971630046,0.08448525660043561,0.11425862296015467,0.058472649671782506,0.2566503944229468,0.001046728005881682,0.05379201641761685,0.008014395092584366,0.013799841525631884,0.918320973778592,0.504029937453666,0.5108489132133606,0.29792530999972033,0.48107266852900793,0.7337604060621458,0.726891761794165,0.4129327114629904,0.4761867665652057,0.5237668933302778,0.3715784986469386,0.02344474747112941,0.036962699231465314,0.5112365811874993,0.6805633165685684,0.6728721603665883,0.6915873458739549,0.6438366591545008,0.6849967295759065,0.6312964886138094,0.5809871243383621,0.5787649636881378,0.5696199385533108,0.4607669240551613,0.2896434825926141,0.13079574328573132,0.020997611269845104,0.03934203187310156],[0.7791803271672432,0.07782003621524827,-0.016284044518066053,-0.0018737359027124713,0.031093244773292134,0.04414640964887302,0.04056695043932311,0.10052076189891089,0.23321285164273806,0.37794984381903635,0.46955981114730555,0.7035938377534349,0.6998962768653378,0.5886952056927643,0.367856788854678,0.0850243162487766,0.8977040331967415,0.3664715264306393,0.12058935410529686,0.13685904797662068,0.3510591852847645,0.3700989630921486,0.8714764435857055,0.8183824609183362,0.935372049208763,1.0,0.18156980180459206,0.04285730287475796,0.1677271425427543,0.04539558487714969,0.2600616707075547,0.2742638561757775,0.16433314711122393,0.1487996994593135,0.15135354529052836,0.17318184370622092,0.1748437397621323,0.28341116292652657,0.4915418777339463,0.605710594400438,0.49832132564180354,0.037886466717630886,0.3105332321159489,0.35166299531932776,0.23821372885576414,0.3033686527899106,0.6552009442308933,0.6598041222219357,0.11967657731231536,0.13444420875536858,0.06211550124922697,0.05624286738982186,0.7495560574981263,0.6964940748633428,0.6546919184779945,0.6901857062917595,0.7127138191641349,0.688539932418686,0.6334174359965261,0.6206989745334445,0.4045517646364141,0.2626965952945797,0.9083420662567294,0.2646897564747565,0.3118947087666475,0.25246517573192545,0.3888544590249407,0.8974375759652643,0.9633335664873479,0.773813241633839,0.9523268656859907,0.06315836012460298,0.0014691937941676632,-0.08236683767292902,-0.14171407004698403,-0.18132443432625925,-0.21296274152056166,-0.2372446065430106,-0.25017829310552653,0.33840506328061243,0.7809430754071605,0.9082327420257881,0.9082327545639376,0.7924665889614595,0.7649670079194072,0.433551557667283,0.23238764143835072,0.18749485630915,0.7991744140177449,null,0.45068830722169617,-0.0018835490349856793,0.38594995580021607,0.021226484339017224,0.8515884498770638,0.3701071268890915,0.8090971617857328,0.19379385241472938,0.4130355398765974,0.13109729722471353,0.29342576080440413,0.39896130849701483,0.5550480343270878,0.7330163951952479,0.7306052597184196,0.5368700940937516,0.3475367058122792,0.2294246421057596,0.12080052064268466,-0.0018741657825391224,0.19515402840230056,0.9082327388059872,0.11737478547232756,0.643424674498728,0.579170821931984,0.6573276484905143,0.6874243900614971,0.6765620188787487,0.7060940828817416,0.40189024377410254,0.12102480175791004,0.010147392437798206,0.007102673388739687,0.21602880148690537,0.3428446109564195,0.6495422096868233,0.4944056406453862,0.05390895833951867,0.23846675993398975,0.034820539520791144,0.03400776991366753,0.7026206730132251,0.6718390259577276,0.3284944126430735,0.08355195664108418,0.11004436238564119,0.05974910488196606,0.24413175382712118,0.0009295289620951429,0.03839353332469581,0.015625508195000384,0.02383258553757096,0.9692947812508192,0.5682466573684238,0.5692640645472805,0.20876719888174103,0.38268915930808206,0.725474474784535,0.7223505238768104,0.4787056650477553,0.5445046868765863,0.36901858537708543,0.34119220497494834,0.015274585028890383,0.021569779158731824,0.5017143572854584,0.6315344994126495,0.6560248232705965,0.7107065295422064,0.7136525936681156,0.7265889345143738,0.6626389477314533,0.6099744086912624,0.5509374373469268,0.5027316776928462,0.3681750309270305,0.3423662301578995,0.16972787953492313,0.011362586863929021,0.025261188098733366],[0.22411881136227202,0.0926565494276292,-0.037780292197822585,-0.00041236575920596577,0.012616104918969967,0.02152763715369197,0.0005931601532018221,0.0498526546281965,0.1719325675147473,0.2742907192611022,0.2830773284321789,0.2127708776791444,0.03697810497450719,0.007665280072649869,0.05207290225974065,0.08209512036819638,0.21765340215070753,0.011897054011024763,0.001507966490460752,-0.001051927036497619,0.3351552808267188,0.34811345132712407,0.21159930101575491,0.22527951165986476,0.25806898371631193,0.18156980180459206,1.0,-0.0005705494922523025,0.07670325311054513,0.11382737726536905,0.08053460996593884,0.15690042291387823,0.0003846821307572746,-0.0006710096101012678,-0.0014233115901694812,-0.0024693010089581187,-0.001276628643019333,-0.0035685434685112285,-0.010440220025607837,0.14483731566297053,0.2522922301528569,0.013515213501463643,0.08078155901994674,0.1152127778031668,0.05650261181169418,0.009915101139357185,0.04713909337275748,0.20407200899025302,0.13213441760347552,0.18782389731290564,0.07148800324646382,-0.0011214726901097784,0.1597258078793501,0.2272125630729908,0.22011902251739082,0.18756434737792332,0.14729309804024968,0.09977996284229904,0.054837246008764745,0.06919234623733546,0.11839083649406483,0.17581659944547354,0.2387863891042694,0.18371174552789044,0.16909645068314685,0.19821615120397623,0.05863825906171367,0.21769510837166747,0.20354991388927918,0.25097862029035023,0.22716005088640434,0.03388747799744031,0.014804438016160926,-0.007836078493046007,-0.03167198521592112,-0.051077116982180405,-0.06777409923088948,-0.08190828276585148,-0.0911199447051738,0.06202652916198209,0.22409303427647567,0.23883090694810435,0.23883087301879055,0.20641609012440534,0.16070424909913836,0.007171326961319077,0.02041602380699038,0.023619439785313938,0.1982553453626794,null,0.27129431458519115,-0.00041342879204080173,0.24714610917960625,0.015383118647578825,0.21458212299876334,0.14322803337077303,0.22261102513336264,0.053838200125384775,0.2536915509276649,0.07826126966097359,0.21947287744968788,0.2708003140330962,0.24803580139865936,0.14047551709790834,0.06946661992522624,0.07925963091284453,0.15290268803389742,0.1812904827491289,0.1573939526541368,-0.00040879844390512114,0.07804606745197092,0.23883089145476746,0.0844430867455204,0.14825407184050096,0.1479717479673676,0.16989643554633027,0.18809062111760336,0.1610891520755776,0.1574726173092316,0.12056491851671264,0.04051292939488457,0.0051372711957003905,0.0005534122932121832,0.025660371846879904,0.06462700361499979,0.2537530464003859,0.2565480405829466,0.04516972432431712,0.00749460715734414,-0.0035119342503623046,-0.014228932872307722,0.2372593859786193,0.2593171585767634,0.21559962480128692,0.12259595695091755,0.14635055177891512,0.2189272714912847,0.12770095746710808,-0.0004892264491495082,0.044979567979000615,-0.002186855588018702,0.011494232945911176,0.19363745681648878,0.08793245920503553,0.09417015882782791,0.18712950296006117,0.28286122178479767,0.26747662078935147,0.28527065004381075,0.0408137256704115,0.03461840617102286,0.2869127726130347,0.14739254057800963,0.008902428603270666,0.009657261423358304,0.1670288296652232,0.1841791924821647,0.16656723684141259,0.21185530016576082,0.09414960549804076,0.14209013220733127,0.12763960332567226,0.12055043663867485,0.14789305333896255,0.15852899717020336,0.211695640373859,-0.0064786861415840535,-0.016556100308451387,0.017095723191578115,0.024928230521903638],[0.06809310100644915,-0.0020726405809558864,-0.003556727638327027,-2.8828502968615757e-05,0.018245181933632473,0.006130940681803781,-0.00012347252863449679,0.0015370382340019178,0.018100974663245502,0.05456691206929815,0.060823410485678686,0.047693543635743976,0.012755688071087614,0.0034279144991973933,0.00321487282168218,-2.652646632369637e-05,0.06384440957766666,0.001000236239912775,0.00025586474657905933,-0.00010302700646733943,0.17215655824172732,0.1654684916361476,0.06649310395813757,0.07930553418947218,0.0668692913557129,0.04285730287475796,-0.0005705494922523025,1.0,0.056130265986197206,0.5112566669772828,0.005000065271778044,0.00961521682760159,-0.00030005415867645534,-0.00021680918743586754,-0.0002914602661799567,-0.0003975032437030197,-0.00010336275910033347,-0.0005857274974467668,0.005578332774919341,0.06141965618390876,0.017359366810022085,-0.00011615141981401045,0.012644930739342362,0.01175230482263129,0.005823221567716247,0.0010269355260574314,0.022475922887869784,0.04249239731236383,0.025718130908752607,0.01888948934085215,0.0011951054969288578,-0.0001473431545707894,0.026342050283057826,0.05346892377007382,0.05434714758483113,0.04687995396582524,0.03978155633425394,0.028637963448808732,0.017044595803087283,0.020590620466856915,0.021326462494165872,0.03615935874200943,0.07510883699875681,0.05355170595490606,0.02960278498205704,0.09140611313343716,0.03776825977111014,0.06392902193621033,0.0496187679353862,0.05446258490428813,0.06873068448202499,0.005297826389556486,0.002697678199958481,-0.0006071887777964431,-0.006857976464264528,-0.010583933695252776,-0.012064812478162167,-0.013820072498288462,-0.014918066700822555,0.013364513358378995,0.0680952970659846,0.07533771872038336,0.07533771347620254,0.0434741227282386,0.03737773499532359,-0.0003945589896188289,-0.004438308755027825,0.006482732774292067,0.04352984409390207,null,0.052565874817668785,-2.856218291647608e-05,0.12869748732627262,-9.34007439873772e-05,0.06054497620454129,0.004056539865655285,0.04581253502453823,0.010453053198605887,0.038969681803509494,0.0062789724717067326,0.033656158571074866,0.057033107899359434,0.04653460363118953,0.029966000496280232,0.019705340084140613,0.027734936315149398,0.044595542309624744,0.041838516592426635,0.00822214258238943,-2.9401963427770852e-05,0.026897975569214656,0.0753377164658237,0.3755408033927423,0.039767404367199555,0.030721578611342257,0.022000343403805734,0.03396215307009408,0.019456690091127316,0.04298928708022358,0.044324278315221996,0.021256117937553987,0.0010781125148088993,-4.80522643810851e-05,0.003502466657254269,0.011259735138091392,0.05871356255896948,0.05632702726973902,0.00804004105164609,0.0010133814404897942,0.03510518977975309,-0.0018285164944993942,0.054863375516759794,0.05074506868241344,0.003800678253081737,-0.0001535556156010322,-0.00022905201576319995,-6.527793589678079e-05,-0.0006925559137200696,-7.048043767878535e-05,-0.00022253953455206231,-0.00020514998014844473,-0.00022528059372753075,0.05701424356201586,0.010268098269470364,0.009748600451006145,0.09796885590887071,0.04510885378941036,0.04503632422875543,0.041575313888703024,-0.0009496938776823456,-0.0006573405517911362,0.06384750070472701,0.026162108518334032,-0.00012607236262590768,-0.0001828962401113704,0.007464043438623099,0.05823741289369375,0.0478635406518705,0.029601643447285064,0.01860497418385973,0.023531076972560495,0.024915636603741447,0.028122389779517032,0.03308830784698389,0.0624717541799455,0.059616077843249106,0.0007797536316376658,-0.0019738345118843347,-0.00012843882242851045,-0.00015574748228334005],[0.07057740936147343,0.01421880293174484,-0.0027164297565163693,-0.00017993736601398582,-0.00143352067145988,-0.0019456920204473352,0.0018512388365917764,0.03039687205086707,0.06956067074641718,0.07670206032245311,0.05688848488998844,0.0675068591199226,0.08415609744022519,0.11888287824169773,0.27091955640032334,0.3270562142844474,0.13658768756863185,0.06194003608493224,0.0624332141684107,0.05767000677011521,0.036052706314120955,0.03820816497871098,0.12568501394914935,0.112909635118794,0.12320803498623692,0.1677271425427543,0.07670325311054513,0.056130265986197206,1.0,0.4355688488138762,0.18749953363545963,0.09915896827584668,0.022086787680283673,0.006918975962019978,0.01953688738507413,0.10997573466051008,0.012635215610517253,0.04557095150483643,0.05857204323605613,0.08306604926698934,0.07616686062026085,0.06851141399047929,0.10187927667642747,0.1657394541088836,0.11578060650015727,0.08212021913213774,0.10680783488245282,0.07892867870850274,0.003627603950498554,0.004256871708389865,-0.0007233694827887583,0.0018803383237765347,0.12375956644923765,0.0843355240997369,0.09291022378472502,0.087157055788368,0.0918388550490056,0.08518765053499609,0.07059408408143243,0.08300314851721502,0.0498416860766756,0.016624926217492956,0.12667573803235035,0.008039698508816856,0.015046924226944078,0.009775356178702874,0.07744923668357269,0.13678201587053668,0.14818344850923362,0.0757927453950272,0.1468055121246801,0.018740650693411347,0.0073108704812367776,-0.005822288125242285,-0.016911147585903404,-0.023102178415405628,-0.029366910301761032,-0.03253881399882092,-0.03358301998189781,0.06273817479368302,0.07056735961313639,0.12655020256891564,0.12655019887857,0.10939928916300014,0.11550375211003686,0.04459864546020331,0.025033837362861834,0.03232631841994733,0.11403962868662948,null,0.08340482315902055,-0.00018856847619348735,0.07656271637583864,-0.0005013868283208194,0.09885554466491792,0.25752995906920184,0.1838250290039875,0.025179604045498537,0.08420817590441267,0.09803082012983921,0.04719397447297359,0.040704906435899246,0.05920140365456038,0.0685364204558052,0.11132718533691979,0.1630146250676738,0.11190962285610749,0.04350559507042038,0.0075067049215878125,-0.00018488870257180176,0.021350208736896147,0.12655020146489185,0.10269414640807922,0.060037726589935225,0.07599796796959353,0.15769881973758937,0.12578673717100167,0.13732585163088262,0.06768123745797999,0.038987686817695356,0.007729813902798391,0.00015712832954665725,-0.00018029510468379816,0.15475522716890852,0.16672564511120933,0.035760445349690494,0.02669412960761908,0.004333881997033581,0.15331116865324412,0.015184607178568536,0.002859291930865172,0.09437740038787333,0.114597408996907,0.028304150964978878,6.24522017940713e-05,0.002365832528016382,0.0009689379017164368,0.23566593362608385,0.0002879803851125626,0.012536176572402488,0.0005741113693508109,0.05053935076258769,0.1587146317726414,0.0399887060688119,0.037503051875931864,0.012341022082546624,0.025996983899432984,0.08860369232826812,0.09075593547110608,0.08124302759581155,0.08112488909577707,0.010254751014461863,0.09466639272668821,-0.0006359993227539241,-0.0008056237544792677,0.04428333886224312,0.06731331340029609,0.07263849327134342,0.19189097402977714,0.1262013536957476,0.08601425097774067,0.05419644165515124,0.04098099129350126,0.03233189875544785,0.024575066630858226,0.010710740537311388,-0.0017947830135472327,-0.0029727325110242868,-0.0007721016067228212,-8.256533039479722e-05],[0.04380678833362645,0.008116434146087011,-0.004892622344455024,-6.006328879149062e-05,0.00827767610672187,0.0024251661238397244,4.5752506394112954e-05,0.024796473691077084,0.05804985936158869,0.07255596526645557,0.051181850996738026,0.033133677378909675,0.008711197524446419,0.013820855720338842,0.09172609798156137,0.23129254587248316,0.050342725660236426,0.0018432415105286769,0.00029755186623060153,-0.00013451033277478715,0.081854264676809,0.08073106664065778,0.04742789707818584,0.050743396617193,0.04508764165164923,0.04539558487714969,0.11382737726536905,0.5112566669772828,0.4355688488138762,1.0,0.047608037734477644,0.01715194059285931,0.0012848825887042247,0.0004222043078441678,0.00026451020520935767,0.0008530363230621647,0.0003095396480777312,-0.0007423671115870279,-0.0015918917715390364,0.04723607859851521,0.043109442644468095,0.004568009662916489,0.03775506845652854,0.04863269826951311,0.025758418223071226,0.006519673637348677,0.03373037009892634,0.03714713975764832,0.01486267353199672,0.008321566808415552,-0.0006347986007647833,-0.0001792559515104081,0.033095675555094003,0.04168631137313877,0.05489741391490404,0.04468877694050969,0.04419736597390216,0.03736908513163778,0.025760881120305907,0.0263962149075489,0.02279812965059318,0.022878828509029298,0.05079763684999981,0.007872244020804345,0.007802592537278676,0.022384979232868096,0.0429115273388596,0.0504105386263767,0.0428249361280037,0.028717818196076564,0.052915580236983506,0.0037786148034137787,-0.0007823899225353533,-0.004654858250170506,-0.008323475181296858,-0.011758468240370001,-0.014336212512475592,-0.016678056399142906,-0.017418746824955936,0.02734017295568201,0.04380156908200019,0.05095885793113237,0.05095885401654298,0.05217450872719353,0.05064887335165152,0.0032354575533028026,0.011695862304160452,0.015313337825355088,0.0536980520654258,null,0.02306876430316117,-5.9877217550795835e-05,0.0584846270748413,-0.00019084589145165848,0.04414516794595571,0.10973393446018033,0.06035916278191625,0.007337566860623667,0.04490202061901219,0.012876329816910757,0.03999113462277952,0.04231789623426341,0.04146714358150094,0.030903097501540553,0.02914434645726114,0.036196914912375325,0.03318876984812095,0.016316240726632094,0.004108167123333255,-6.022368064743288e-05,0.0034611576575572845,0.05095885610666458,0.11461931312269562,0.02662369082494126,0.022360692483190163,0.0467420318430793,0.04927580407490939,0.06148414530147866,0.027454929404757415,0.013103595525632065,0.0049282934928287815,0.0001582886362367573,-6.206388318953873e-05,0.0021100297011301637,0.006268386882188243,0.04309859162337024,0.043291760752135124,0.004805245717499672,0.0008346795530913308,-0.00012128145262374032,-0.002609085561819085,0.04357751839441348,0.03888598286384236,0.008338557078346534,-0.00020706838264692785,-0.0002970429761363191,-1.2868686435265548e-05,0.09662899939793346,-9.134862435670317e-05,0.0012559912724282877,0.0006720675337668973,0.11678229521120256,0.04577872022436263,0.030400735096428027,0.028269377182243743,0.005308960747638531,0.0014897944470277202,0.04449976887135791,0.04128244448207558,0.02097857654043369,0.01626498737173015,0.004804696897897919,0.00010673277924001993,-0.0002433511653535762,-0.00035303544918847415,0.00153357327361103,0.03455589044986906,0.03044391823020689,0.0745729883163109,0.020441050544694396,0.02703585836991439,0.02218973954453906,0.021518255442055448,0.034753494000709935,0.025650740443974165,0.02487061394613488,-0.0016551393388423838,-0.002527695915052565,-0.00024791902415094056,-0.00030063156210533075],[0.1802855633520962,0.06458878904839654,0.020948906265161008,-0.0009913237115554711,0.003606791234347023,0.0057903336674122955,0.03488607966335883,0.07223470194074014,0.12572841736492496,0.13639152101801633,0.1306962288392944,0.21319113865548653,0.2181698184385803,0.2751809053692718,0.3344250592051112,0.09097032896941533,0.22656720759912674,0.04075701781893843,-0.0007486483010194353,-0.0006540296187968104,0.10880274793878245,0.11248125954780497,0.22229660088403372,0.21109199594668365,0.20967438879751854,0.2600616707075547,0.08053460996593884,0.005000065271778044,0.18749953363545963,0.047608037734477644,1.0,0.7119632035430838,0.05099214423141703,0.014224783824295671,0.2232940282072225,0.21851834801291165,0.2161423581347316,0.1487770519574569,0.1732632395441807,0.15126387375150072,0.167313265247225,0.0861472857333247,0.06850614727388894,0.1520519965547523,0.1596052029406278,0.3260350418082187,0.24742944496570388,0.18199334201425815,0.04286291184067307,0.07337129211622598,0.021899594134927973,0.0010690399513500416,0.293813426565662,0.22246233782077393,0.20993946704678904,0.22936754505981533,0.24096161271189706,0.2018320738672787,0.1330524117005117,0.1394175443671808,0.07549129880843246,0.13929039314658204,0.22469769198160705,0.10029370876215334,0.09953768591690258,0.09255246463303118,0.10367759654586572,0.226552315468596,0.23863556619252999,0.16597940321827664,0.22248697121628705,-0.0034637751702237722,-0.02839002679857022,-0.06155179314321161,-0.08580735996551042,-0.09964433830450362,-0.12729482107777026,-0.14013182766257307,-0.14564633005551175,0.12478905481662628,0.181045130854586,0.2246867191856338,0.22468672179319857,0.26739233535937534,0.23062764064640068,0.09034067164130585,0.09421121348445936,0.0915806522664675,0.27336753713734785,null,0.34150178747220633,-0.001009634536190505,0.2607141476345625,0.0020855259770348397,0.2477738068722818,0.12123336649521554,0.30379827183426145,0.01526245452386253,0.2266531893291105,0.07942488522752224,0.12808703082880285,0.12498497111805479,0.14566033305475587,0.17886563982559966,0.23675935834561052,0.350032640375795,0.2716073418381424,0.16545045331755215,0.07856662682396164,-0.001004686939960657,0.07032569709024289,0.22468672422275607,0.11036204832308877,0.20136254047525637,0.21757629236578105,0.29054048055432036,0.2530742201548763,0.18436765231312893,0.2093732380370772,0.23352696426253783,0.054455348079179,0.004536363856418789,0.0018220864531396418,0.29189109081612186,0.7017177328277863,0.16859686621046807,0.0930658581692854,0.035331741874288385,0.4379731832250079,0.06405348081855143,0.01061572766925274,0.3107204833017494,0.3547030894420169,0.1324173682183926,0.04887763835545616,0.06605988257416061,0.06832049756982606,0.11192694318593555,-0.0010137392566755758,0.009040142630015064,-0.0004489889647492373,-0.001204839518935128,0.22892971744363044,0.09332337323686699,0.0987793090853567,0.15569337681435974,0.1841893109268673,0.256705196842318,0.2577929173417146,0.28847664181012983,0.2664396094192028,0.13891259440027018,0.45985315716164843,0.0019374476990541172,0.003936764652538433,0.15673593943892467,0.255301642306533,0.2769087277101385,0.2977103834281367,0.36000277870827235,0.21934171475262243,0.17562485027408115,0.14912410939387633,0.10041323913316601,0.0843833740486543,0.069039703647439,0.02012651666705808,0.009239857337636475,0.006182099574666813,0.0112206810879405],[0.2773103437728344,0.0713766410978787,-0.005052563218389312,-0.0012350994198456976,0.07353064576158609,0.09401780240483723,0.019601482504495112,0.09274984843657992,0.1691111922738974,0.22109294787533576,0.26432849827312155,0.29236851384202434,0.17519825484073712,0.19297736424092946,0.2407918294664108,0.05051554279625758,0.286047177605656,0.02202606923916708,-0.002400307421096966,-0.0016054068850582253,0.21082406858275957,0.21525069105225933,0.29053702778559365,0.29167022869709974,0.27229629333351074,0.2742638561757775,0.15690042291387823,0.00961521682760159,0.09915896827584668,0.01715194059285931,0.7119632035430838,1.0,0.016300300651867182,0.002837084781188089,0.12934451779282544,0.12426191904210918,0.12505485889968765,0.09685881296214631,0.12854767095160843,0.20214819208113663,0.2526227358078731,0.09550044451003879,0.07127696927257009,0.14358494909735459,0.1316459309371351,0.2220290279052434,0.20140572999745449,0.24370013980702498,0.17392398928013325,0.12720404578507757,0.0615563911979448,-0.0008177239749372269,0.2952004549200035,0.3152848232560977,0.28137469123813635,0.2679560999961261,0.24935008605696662,0.19483929034434547,0.11510463222314815,0.12405809900691595,0.13313334193648477,0.19688481032163607,0.29625143248771524,0.20754462599085288,0.23524146325109604,0.21848417494429515,0.0950816546654976,0.2860362132049409,0.2807089946242875,0.24895757296111604,0.25610553160731614,-0.021485071793176366,-0.05584455315636042,-0.10340407744509578,-0.1380402546769194,-0.16279785049352236,-0.19159420877091576,-0.20389617986686617,-0.21074526903289245,0.14893072247101272,0.27821787057573844,0.29626346648267116,0.2962634375798209,0.31550078441602125,0.2577002396794175,0.05311545180829206,0.1282810527167217,0.12026388237760667,0.31378474843671955,null,0.4532272492947394,-0.0012476995522028016,0.2539762354836844,0.004632094848932256,0.3081444152535239,0.12456692108967486,0.33115494237180265,0.020835741327350634,0.2913047029377593,0.09334724902984615,0.19662402632271792,0.2556099058586329,0.27495161674648116,0.21542654933807112,0.20307368713323495,0.27979011422841993,0.2576533550797035,0.1956258577192296,0.11865083636303146,-0.001241171746074217,0.09583508748846715,0.2962634511451745,0.08200037375138722,0.2332483363603051,0.24591176011805788,0.29909059737474397,0.27161322202012994,0.21061779677806636,0.24832546945571465,0.2525531045965667,0.07055173833567015,0.004065958856722672,0.003412153374765438,0.2145834677237073,0.6643012173280508,0.31057549447343313,0.27276102156454457,0.03989202955954235,0.2966847294747518,0.04220178786990143,-0.0015600428769197425,0.39100835031826736,0.3990990922147785,0.22973759053422307,0.045379555189460186,0.04742296690064608,0.06583459767349413,0.1398987825627427,0.0016158262468180392,0.017697482660160902,0.0003931861404335197,-0.001320625914487904,0.2505112286364325,0.11840738869229267,0.13189864285077155,0.19497328341307116,0.33014597347533436,0.3422441857768398,0.3556386216290515,0.24070603453289727,0.2060534353447086,0.32755202469591904,0.44503012862393854,0.020962669026148132,0.04618310946004395,0.19666649815070908,0.2682102325097773,0.28457450255889705,0.31106366163218435,0.28945613986041796,0.23075610952239495,0.1988009584085567,0.17794012291354813,0.16686584240594188,0.21836687099161853,0.19074657466211337,0.017196470246265673,0.003630521287188329,0.04924777036159264,0.0515130889554544],[0.05789108515688514,0.01383981209998665,-0.008653899067427782,-7.38196405518361e-05,-0.0009108401561667074,-0.0011327982944300827,-0.0002382507196946839,-0.0006761098873678233,0.0008975151349264181,0.014746941410328876,0.10008026761629163,0.16790557712958276,0.09115394403730039,0.023512025133065936,0.008987214588261242,0.0012823813197788156,0.1051816477170357,0.17107069998929356,0.0012425728942239468,-9.47564901788642e-05,0.010794461890064163,0.01885091654902986,0.10369637226416992,0.08718567768299992,0.12879193971394234,0.16433314711122393,0.0003846821307572746,-0.00030005415867645534,0.022086787680283673,0.0012848825887042247,0.05099214423141703,0.016300300651867182,1.0,0.356156201420486,0.1917495967468736,0.2560336278211139,0.12400843800842017,0.03963659665529638,0.027601930677447862,0.033123238933637424,0.012344902977139475,-0.0003188604300004192,0.024758029825358914,0.029152058202684114,0.02313547349689931,0.04704518526612029,0.10070635602478308,0.11180898284420417,0.00998488485983099,-0.0015488223961394548,-0.0005365399940298712,0.009757268828286486,0.1863629429804799,0.07594935436760869,0.08285001186165601,0.10161539458742648,0.11198422660988736,0.08524200943284542,0.040253626331135044,0.006182375781866802,-0.0007537371134776555,-0.0026095696021029187,0.10988746638962356,0.00022349267934556656,0.007657411038640921,0.002378678547781847,0.028766234411031252,0.10684762267979046,0.1103284344158525,0.09786309478619869,0.13813041167863974,0.019649121697564158,0.01259240214116565,0.0015433323848959577,-0.005421656268617639,-0.011846472943883786,-0.01487668175136688,-0.018212983453964778,-0.020426305748602186,0.05773775241784682,0.06021596530602019,0.11117318259518724,0.11117317837247306,0.11851327254511072,0.08993082597041689,0.04000625300681819,0.017488734486266314,0.01915568023105002,0.12404921870983124,null,-0.00789838923042315,-7.637928015560891e-05,0.05934115414240389,-0.000231614450688151,0.11335623438711576,0.010158864170319627,0.11298836006698178,0.019734748503489,0.02119675578409127,0.019221481242092605,0.0038743814192834813,0.015670029507323307,0.12143333096106051,0.1622226266442388,0.0969331158622506,0.033667963216329554,0.015666359352340935,0.008142285221202973,-6.19882822038619e-05,-7.198866940393501e-05,0.002958746085066112,0.11117317884896032,-0.00033644146967423796,0.09857515588077342,0.22698202863948225,0.13380308847882175,0.0719607190851622,0.12376047748892013,0.10823978310052951,0.06821046037159842,0.010872442935671725,-0.00034088201838924367,-0.00011350347811236062,0.021445303999442,0.03269730438402017,0.00518962893849114,0.0034408934992097443,0.008290270906127039,0.0538861354478153,-0.000480748832305081,-0.0018341304184112442,0.03777601764522147,0.09773819367241454,0.0031267915694377815,-0.0004307519910276997,-0.000584821957932082,0.0009166874968762864,0.021627283339897083,-0.00019260316837926053,-0.0006107199359793506,-0.0004370633626211892,-0.00015178822099498946,0.12129021729477482,-0.0010847316667314977,-0.003196775743436632,0.05350000611087554,0.030538304044707556,0.05664255593884242,0.0491592022996585,0.07455754704577612,0.07566986278027604,0.004971964829724291,0.07419530885966426,-0.00043409479478764796,-0.0006376288557454146,0.03819816864414712,0.08933743376718584,0.10420432143232085,0.10914926975991636,0.2369942007447078,0.16278929586127588,0.08982344071544938,0.05002681696579483,0.019017752310726804,0.003214662799865727,-0.0021930014220054037,-0.0015767795288078622,-0.003795114076352826,-0.0004513052915070391,-0.0005234872578301214],[0.029107944735763645,null,-0.006186716027666467,-5.322166980257271e-05,-0.0006298580493663407,-0.0007833208843553063,-1.8867527473367794e-05,-0.00032311844127751394,-0.0004112424617756733,0.002800803655278285,0.06644256737848658,0.16832858942839482,0.05045371550967117,0.01018556237058758,0.004344112459758805,0.0005789003779977215,0.09173696440860644,0.0540974952404648,0.0002960864604324825,0.0001098353861089324,0.003278191651613916,0.00635194710987278,0.0875673127039942,0.0711227894324534,0.1011240268307998,0.1487996994593135,-0.0006710096101012678,-0.00021680918743586754,0.006918975962019978,0.0004222043078441678,0.014224783824295671,0.002837084781188089,0.356156201420486,1.0,0.09842382668199465,0.1267772132063682,0.04287087378942765,0.011827643368250347,0.012784488707684227,0.010978366465339253,0.006570445228478828,-0.00022594314666105352,0.00939989705028609,0.012773215899719243,0.007605344336127483,0.04195015591352414,0.11745267000605936,0.061649877798137756,0.002939310311109119,-0.0011690655962431102,-0.0007905214456176198,0.0003995063525403262,0.15939964373802984,0.042740438554128395,0.04770675730316128,0.06405956119545875,0.10099311545033156,0.0865500560549086,0.02645590843630628,-2.7890771226327042e-05,-0.0012602002438248465,-0.001931060404698279,0.09119246826913671,-8.800981224686842e-07,0.014060100392563632,0.0016370212534227782,0.010697503123013008,0.09221075627664109,0.09878459956005417,0.07460717753821511,0.11033964907361604,0.010491229490991072,0.006299429549377101,-0.0025343808974605826,-0.0068046319034202225,-0.011647692759344417,-0.015546474669708162,-0.02065917159403642,-0.02199286345025126,0.026808307719202538,0.029275676521828033,0.09164717519859736,0.09164786294276654,0.09372296790544415,0.0689564707123543,0.01652502617594729,0.009237335455772594,0.010103565581184824,0.09671137479135608,null,-0.0032360004176118996,-5.5045148191431984e-05,0.03570522988212901,-0.00016660486936678529,0.08574181598582027,0.01668078855864652,0.10612751844546917,0.009549897999859128,0.0050277561787722205,0.00546728934819339,7.27319598916227e-05,0.0036972062964689967,0.05997719226783779,0.10841754371191094,0.11896222082950188,0.031232745461191393,0.012306254000730288,0.005360611098183914,-7.48704256123453e-07,-5.2413651372750315e-05,0.004491171848199888,0.09164716849136945,null,0.07669075422776028,0.10200834061031537,0.13154481507126486,0.058400669343299745,0.09192383300583172,0.07775541404742616,0.05807875290875858,0.014440114056520587,0.002002596975544389,-6.818728796367828e-05,0.018051922857946896,0.026628503850222997,0.004680899090180867,0.0029572534297821478,0.005299358072996309,0.042457004385729136,-0.0004694408351459662,-0.0018586601847923768,0.033973810963747124,0.06646085884892806,0.0016039920816594902,-0.0002846734947677535,-0.00038649463539760864,0.0009951521927014663,0.01200297965789416,-0.00012728673974000883,-0.0004036099218243149,-0.0003490597993660347,-0.00031632446350541134,0.10893779775098289,-0.003625502085031262,-0.004723585461776299,0.009781813020559822,0.005838830142955721,0.030275625673747267,0.025193420852196752,0.05671895643255893,0.043102464861000285,-0.00012757133207244996,0.05202905568610389,-0.0003000937857187708,-0.00044087053901465013,0.02326388166612977,0.07035185819812909,0.08099122650352543,0.09991457500220773,0.22711548830510772,0.06183692740447008,0.02904888803661347,0.013347970220132243,0.0015738235877141877,-0.002389670667941096,-0.002477897262125936,-0.003111072393733976,-0.0027744204898457222,-0.00031202376024788405,-0.00036169365998381457],[0.09980994690673944,null,-0.009399909911971673,-8.66947987486325e-05,-0.00093241667383883,-0.001159610747411525,-0.00026581594693064227,-0.0007068243121145063,-0.0009542408587793216,0.000581202181692942,0.028455410095300927,0.22186158799781858,0.1409675739540364,0.0326378963425794,0.015242285176530507,0.0012669505055809404,0.15141404930295055,0.033259493466823845,-0.00011076880809098674,-0.00018865697869833786,0.00018249674901793804,0.0018849333727599755,0.14487202192297421,0.1336492727499796,0.10951236277451099,0.15135354529052836,-0.0014233115901694812,-0.0002914602661799567,0.01953688738507413,0.00026451020520935767,0.2232940282072225,0.12934451779282544,0.1917495967468736,0.09842382668199465,1.0,0.8670947751798617,0.5933450958652996,0.25504375021624137,0.010083227803521388,0.005898013027512782,0.003972712730730943,-0.0003040970591222354,0.028972497550665537,0.02801061165364593,0.012348207971235097,0.01848379356503587,0.027878965260155358,0.1949452701895094,0.00020283473740019203,-0.0015130350451626258,-0.0009452267725866634,0.010674080946890945,0.20469924288628039,0.06502233375578349,0.10500421431720967,0.13263461752762298,0.17644500065673396,0.16803046321517667,0.09029518666439494,0.009672777607119631,-0.00042908654084606636,-0.0024536803051636636,0.13456012806616213,0.05952088546403003,0.02439492181759721,0.022074594457080945,0.01909167362489974,0.15182981783061705,0.13083124261850923,0.10814956851212236,0.09708505389082797,0.00513653692921596,9.757494536992783e-05,-0.009830961534462225,-0.015610523729953578,-0.02080677004118942,-0.025227408215067203,-0.028697906220237948,-0.031284726763241955,0.027216648807450103,0.10024933855644334,0.13504778642299192,0.13504785587531265,0.14349991898134004,0.11713834286734923,0.01581717414166577,0.0066077241986354516,0.016740657208524305,0.14720093245439828,null,-0.0068152557188002946,-8.917418112636022e-05,0.03155181375050253,-0.000268889236570253,0.14572007402158174,-0.000677418958682706,0.07675328236690139,0.006249928274232778,0.21736835902493762,0.00127124271988533,-0.0011711272019424984,0.0006618541072910821,0.07577792955223651,0.22218051263547248,0.13589291554814525,0.034154874482952534,0.01508443173740091,0.0052357783035311325,-0.0004966641591422188,-8.666291965584904e-05,0.000980590907500853,0.1350477904392422,null,0.20685333180835355,0.16470299178774525,0.1009416792282771,0.06451826612845245,0.11619090798924948,0.14252462473952535,0.13270700947211733,0.006545409385898531,-0.0003384526349784622,-0.00010811157368764632,0.02211187898248314,0.03361171111224094,0.004845858936948572,0.0034719687522331323,0.005715959537064538,0.05001906744614103,-0.0003683549732996451,-0.001898431543944441,0.03680319553415607,0.08251708937523804,0.009474146650996839,-0.0004354011222961535,-0.0005911340574606323,-7.866454480522707e-05,-0.00021194942500488918,-0.0001946819438930665,-0.0006173114663750934,-0.0005564016694149355,-0.0005600016459046319,0.13548481022278505,0.017137960586477843,0.005042778370694208,0.0036472971026071093,0.0017021012937073554,0.09136719863035166,0.06727952974333139,0.2216890391695641,0.13646735716618896,0.07112926761063967,0.17276238532956734,-0.00044371584409058987,-0.0006524007924632523,0.015968455952907825,0.18064250843808835,0.2000545518113161,0.07287920438310426,0.2205754677877656,0.22282470375754806,0.26120115225003054,0.21986467874925197,0.0030023356512384755,-0.0028317812002804413,-0.0032220204429818456,-0.003527261252403003,-0.003225886405240864,-0.00046181941342338204,-0.0005336653016213644],[0.11231231065630336,0.0028309832078024753,-0.012303943010878836,-5.705883633784531e-05,-0.0012354518371941907,-0.0015366810162456065,-0.00037802936983149203,-0.0009717466684900416,-0.0008690531615755513,0.003032456021521726,0.0366632206982537,0.23462185093815124,0.173013198719994,0.051930789878331475,0.02790125829412597,0.006500418302680651,0.17048937042948245,0.03412072733960538,0.00021492034490436717,-0.0002711579054514879,0.0013577157636617467,0.003592725871372524,0.16534038378869018,0.15304443773202783,0.12932117748969385,0.17318184370622092,-0.0024693010089581187,-0.0003975032437030197,0.10997573466051008,0.0008530363230621647,0.21851834801291165,0.12426191904210918,0.2560336278211139,0.1267772132063682,0.8670947751798617,1.0,0.6124549484745326,0.24637302898670868,0.030949226638059785,0.026045209607007496,0.013612083124720316,-0.0004153381047381137,0.034404561257261525,0.041809989731931896,0.02060880301065947,0.03410256489013369,0.06261676435867647,0.2045756012844706,0.0001992479075142192,-0.0020581468951080813,-0.0012706826618795438,0.008602566958895039,0.22455059309889572,0.09330824558071336,0.1241622785336672,0.155461708257382,0.1962426202220507,0.18498416741822454,0.11029802308758732,0.020816537919556285,0.001265871874123643,-0.002949775248207502,0.15472347030623299,0.05128373931304877,0.021998472096539025,0.020100128342900266,0.024136307799157847,0.17109687134133647,0.15291852476823317,0.12597832011000407,0.11598529622058813,0.00930770293999123,0.0022746613853081494,-0.011501840202318873,-0.01947828100355971,-0.024878138494809215,-0.028914902921415384,-0.03356441561470646,-0.036906355766235605,0.03768881426128732,0.1136341049891214,0.1554782604264134,0.15547831396874728,0.1655423693081595,0.14185710632640264,0.03788807513322716,0.010942142597225278,0.019160444409807124,0.1702769671127175,null,-0.005159650164812539,-5.921421466429704e-05,0.01420777123444622,-0.00017809445285904947,0.165787737711007,0.0004432695022178424,0.09798707622722913,0.018345817750309298,0.20626424357506215,0.0010812857067759836,-0.0006392889428031918,0.0033254305331008815,0.08752480600683618,0.2500357900106452,0.162036465206197,0.04458066232256644,0.017841847216218006,0.0056766937306012575,-0.000533161152024172,-5.829728214278036e-05,0.0017735630327271252,0.15547826171378432,0.0029795660499673175,0.20369623750858318,0.18410454687475558,0.11836404479459732,0.08301055663533272,0.1427428188775647,0.16212246200491634,0.14318390443053158,0.011932182484756958,-0.00047977368069510474,-0.00014780437581164038,0.02209737104478656,0.024830549048013285,0.0030514744680642985,0.005403883915588666,0.0032130152381032967,0.022817750074458566,-0.0002473247104163114,-0.0016143395579202426,0.024128463368537117,0.09888324489766295,0.009305360989538568,-0.0005730912707743445,-0.0007780727950390607,7.442673194524342e-05,0.0046615739889956246,-0.00025624766889463345,-0.0008125284788706571,-0.000677877730370906,-0.0005530774080900077,0.15599394177029058,0.015430590111541933,0.004061377296974727,0.008262838210454935,0.00928963351808873,0.10342629494695149,0.08013099779584075,0.22375431315671185,0.1519424070651668,0.06407958822921433,0.17118220276706353,-0.0005882731600994293,-0.0008652847302424296,0.03330644573825938,0.18478966470393907,0.20894801423714046,0.09378828199790214,0.25310305077932904,0.26290256077229535,0.2660955362745989,0.2162008978017413,0.021437016735774944,0.0071071333113381435,-7.987510033212458e-06,0.004487971551624095,-0.0014063271607871444,-0.0006126495046564829,-0.000706129334449007],[0.16406098016887205,0.01082967031282717,-0.010339534697624738,-0.00017935725033754708,-0.0010120003304160679,-0.0012316015782704091,-0.00031856269569932344,-0.0008261448989044751,-0.0006653657500474769,0.002489820480099684,0.02920254424826606,0.23078350321858979,0.22827142039161083,0.10182900186493894,0.01563588817556468,0.0004691730081746859,0.16807370762051307,0.024000910101273205,-0.00012949060844695903,-0.00020915645314007977,0.0006112243503175798,0.001595111963221254,0.17251820114243246,0.16149431817911725,0.13922162037098162,0.1748437397621323,-0.001276628643019333,-0.00010336275910033347,0.012635215610517253,0.0003095396480777312,0.2161423581347316,0.12505485889968765,0.12400843800842017,0.04287087378942765,0.5933450958652996,0.6124549484745326,1.0,0.43640738992881645,0.08702158037123274,0.025454062107749576,0.0064922972374676135,-0.0003453801763669674,0.036462271101642206,0.05627572061654061,0.029055441742258336,0.02232553855258706,0.10100285408695077,0.2193640058159007,0.0027016254993135207,-0.00046343671725203724,-0.0010724857727447694,0.007052879411565353,0.20267106211103175,0.14355196939865678,0.14221893925232482,0.17854129409081365,0.2229247270030551,0.24698403184152137,0.23971773148379075,0.10747283871729903,0.011983180973359209,0.003834728487469138,0.16283620223485587,0.06004629766827721,0.027368657238980187,0.02444938567951947,0.01804306430483317,0.16847479842185945,0.16024733969815805,0.14559404832781198,0.11672907349100471,0.009267805471800466,0.002620598817563055,-0.009077526682685983,-0.01617648691830532,-0.022262627051363577,-0.02736823547147644,-0.03235682269759699,-0.03505313972062748,0.02439636918649873,0.16501007099800466,0.1634313592390228,0.1634313963241958,0.1907602844558747,0.19948633963541873,0.026975547145219773,0.004302587943623728,0.012056644759830908,0.1970827880225287,null,-0.005933569897820046,-0.00018182522203297953,0.06081784786309986,-0.0005467655582876258,0.1960937048761066,-0.0014309245919785364,0.09510619209666367,0.017924052622669967,0.14899069678853108,0.0024906618166563167,1.4192185228001307e-05,0.006185674780068182,0.10084555329744513,0.27625061198885587,0.19633415990736963,0.05529611088237512,0.021713885311948785,0.012204151847977287,0.027391436066293455,-0.00017979259471431915,0.0016453394815393865,0.16343135908516168,0.027030519754905478,0.19809308077350657,0.16652197578157912,0.10755165047827223,0.08594124276032797,0.19556758812302505,0.19371792362545068,0.12238635154326596,0.012549238760418063,-0.0004516133059253063,-0.00012579504467748193,0.055614719548541906,0.0479612289902449,0.06608657988556575,0.07164906919301642,0.033122443167109196,0.030432908883287486,0.004098541014997998,0.0036034991200033736,0.09669364917040664,0.08097200740262267,0.010114622996884651,-0.000496292900351749,-0.0006738051859247944,1.9518353639345084e-05,-0.0005949126648519358,-0.0002219080074592869,-0.0006922129532536341,-0.0006210464134642404,-0.0005821122630703643,0.1546109889775086,0.020346645897051884,0.008467136083226124,0.0026515815520185594,0.012885246189584998,0.0937353342083602,0.07234005972142978,0.21535329133581574,0.1360038402872948,0.07514169331134822,0.17744195427073076,-0.0005041646205774153,-0.0007359697718494122,0.02361209759061969,0.18538802757767714,0.21849034267816655,0.0905818424334692,0.20789381672359825,0.27263108257860624,0.31922032065398886,0.27950949374872874,0.105009150440674,0.07156456587293909,0.027200506244016997,0.11643442321584646,0.05383407198102346,-0.0005253987226810121,-0.0005904868621023715],[0.2698909265378135,0.01621085439016273,-0.003299543756549177,-0.00034613265906270385,-0.00321593906460674,-0.0039835911963622276,0.012206845838401188,0.0026143508369351745,0.04978056424992107,3.7752971303347865e-05,0.026609260764775232,0.2741790007435416,0.4547493285901782,0.34488717921280887,0.1068272613348056,0.006633583720874179,0.24687225811588767,0.12410469363710097,0.04269477921822576,0.008346151205417566,-0.0028709008124482675,-0.002235231350569804,0.25354415080842213,0.23285223256624973,0.2377531977816843,0.28341116292652657,-0.0035685434685112285,-0.0005857274974467668,0.04557095150483643,-0.0007423671115870279,0.1487770519574569,0.09685881296214631,0.03963659665529638,0.011827643368250347,0.25504375021624137,0.24637302898670868,0.43640738992881645,1.0,0.3337933288603105,0.08069229348983399,0.004461884781473024,-0.0009238620306240941,0.07291255514979132,0.1295295928237293,0.07734767125462344,0.12219214501987065,0.25526787855092253,0.3236538497843809,0.0020806772097098024,-0.0020741618252930806,-0.0028092502879785808,0.0032824398928351798,0.3752782416705701,0.24332377077788955,0.219510484565882,0.27903170476789246,0.35082633444543865,0.41977965569735387,0.41530402074986694,0.22487233134062276,0.048403217752547675,0.007852813075984382,0.24871027884438435,0.037801821844193194,0.02472119098720625,0.01847698528982049,0.07573785433288883,0.2472910402155298,0.2613163740292544,0.22018592084729066,0.2223636773994556,0.019281333718472148,0.005814143415340389,-0.013379590442674952,-0.025919997738845787,-0.03557407185994753,-0.04547573966817638,-0.05300762158392083,-0.05545508652128481,0.06925187930698656,0.27197566027069786,0.24959581050130297,0.2495958172590819,0.33085538745182413,0.35042838126326215,0.15278613060756824,0.03309982456825224,0.03231638571410517,0.3424409091609334,null,0.11283408931024455,-0.0003340376912774445,0.20081306282282246,-0.0010939240097619393,0.3275000091751399,0.013708368531451348,0.25001718230343545,0.05340426751621853,0.08991279904480226,-0.00048562684835482656,-0.002517379002273116,0.006789445157360057,0.11789253987306553,0.364930023343723,0.3898416107150819,0.31271218302423154,0.174837160166825,0.08862001051247455,0.1792943075765394,-0.00033177058825529577,0.022508722288372855,0.249595807913456,0.04480723245461152,0.28195383224136183,0.2353184353763983,0.2830664418201004,0.20356739052986073,0.30024107085099266,0.33148252815709833,0.171400295357769,0.0327542032649693,0.0005540181289257075,-0.0002926732781656531,0.11202798567856403,0.16221334047319458,0.03399477337778848,0.00553681810416611,0.007326852682440755,0.3114020768442478,0.0076753518089494165,0.04206316009707476,0.13320556060951524,0.1725016315050373,0.017414341258792404,-0.001846714383295766,-0.002505232718017814,0.0003090415917134783,0.017712815118359197,-0.0007964474750305443,-0.0022563857193231385,-0.0016449782423706503,-0.0013366604721816696,0.2570129469585075,0.11145250444270068,0.10058447225070809,0.008994361650218923,0.010135396745268147,0.13705032529053712,0.12782539238143878,0.2122128451462703,0.19614566531811253,0.05159939748800099,0.1981841046499527,-0.00075530182181154,-0.001792482802797857,0.08762494085827653,0.2712729887786208,0.3155329660907278,0.23808685616524,0.385513975388138,0.3406002141603131,0.36095268877150916,0.3422732622627017,0.2231071906273688,0.1759895178572765,0.07158598544123355,0.29694213101289213,0.1461619490531448,-0.0016822557456277563,0.00010171381630054984],[0.47639421612306965,0.030032304418673234,0.007160684525506682,-0.00198580336737574,-0.012030031071512492,-0.01485442589665406,0.002971589456121494,0.007680756009239164,0.05656742894528161,0.05872139502099738,0.08811628700727367,0.4412146242662699,0.7857677386481324,0.6685241900661192,0.2899398678194895,0.03793761203008346,0.4564488717728765,0.23099199441224966,0.11944677646715655,0.025409269803596018,0.009572497760534667,0.011451619544650621,0.45018770036216604,0.4129805701576742,0.42182994393104456,0.4915418777339463,-0.010440220025607837,0.005578332774919341,0.05857204323605613,-0.0015918917715390364,0.1732632395441807,0.12854767095160843,0.027601930677447862,0.012784488707684227,0.010083227803521388,0.030949226638059785,0.08702158037123274,0.3337933288603105,1.0,0.35163999961774656,0.04837633963493634,0.0037510369657317378,0.14139069147615418,0.2769579019795415,0.21430837238416145,0.32155347190739436,0.5424416009976949,0.5021366632503477,0.017538292799418008,0.04412617387067012,-0.004125838808400691,0.00458610921681775,0.6247895794217636,0.45398101923789874,0.4075825241571342,0.4946763079108403,0.5912064068903009,0.68892277932949,0.7174986464291808,0.5656673006019343,0.25846762479072616,0.08317056458740993,0.44232084214286577,0.05602671828474126,0.11314274900590401,0.05220496991122699,0.3239250619985207,0.45713592738654496,0.473362177397123,0.3792590810313223,0.40241689067822684,-0.02385862749455107,-0.05464629549211231,-0.10139826105945796,-0.1261681682315352,-0.13961255406405698,-0.14789856502667945,-0.15175150666630818,-0.15451783622475468,0.2005528601406571,0.47857081210370883,0.44371174413656994,0.4437117164513391,0.5737753835408539,0.637939440831491,0.50063140615987,0.19803189587282474,0.16162149642452237,0.5886203662752788,null,0.20541277321325527,-0.0019851481919172086,0.30025371321736943,-0.004518314689968664,0.5448558200618718,0.03200841480851672,0.40653747106621285,0.13261402070557415,0.04603566823899001,0.028112350864726753,0.05294722429439286,0.06507257203938778,0.21239257346910603,0.6343313798251466,0.7209635238880466,0.5148225923067495,0.2856521545661273,0.12526782398220543,0.14394001073513688,-0.001983028134236649,0.08613015222399859,0.4437117337142921,0.03783518841124975,0.5350823656039274,0.4216466918043176,0.4557381656941603,0.38375958486022704,0.4931496238160192,0.6006880932511532,0.35069284352450214,0.0874779745948019,0.0008935526511161203,-0.0011191241637022176,0.1729065972440165,0.42441416407570537,0.2864499214575344,0.05857002869177981,0.02351705056185705,0.47464852902176735,0.03841039519677847,0.10739368666566058,0.4281881090461395,0.32227829553516685,0.06127263961488316,-0.008207579170904769,-0.009484451388476528,-0.0013989057086034983,0.017170823543056997,-0.0028685019284023974,-0.0010786872526128638,0.03617702801530107,0.05450808093093882,0.49034586315165296,0.6499866445741938,0.6350985445799852,0.058370691407319805,0.09990392934112959,0.4998895338000062,0.49335834518445465,0.3691791215043075,0.4992700484393395,0.03030396352162625,0.208657239886177,-0.0018133047655004648,-0.00497518096572825,0.3094848266475184,0.45493218338773744,0.5288455573153308,0.4193219193727493,0.6074913823925095,0.6547722450195764,0.6270354338038423,0.6142677956655603,0.46133644952677366,0.329240093867925,0.16485653610236944,0.5271504632192587,0.29327608449576414,-0.00722198322530463,0.0021704514754473728],[0.6480501319769152,0.058798869031452095,-0.026617838119008457,-0.0013437724919823338,0.03473216201417682,0.05189075281420939,0.00718431687637375,0.13083205201321024,0.3205426845295238,0.5766251520120432,0.6813197004472774,0.7418932863221445,0.6519040016711233,0.583167845703838,0.3895597314978851,0.09723925406959785,0.6400994713883355,0.12238350225655407,0.05174869427752122,0.03126000930925979,0.3228883217681444,0.33282611663995587,0.6455213398114923,0.637016292514388,0.6143088039647429,0.605710594400438,0.14483731566297053,0.06141965618390876,0.08306604926698934,0.04723607859851521,0.15126387375150072,0.20214819208113663,0.033123238933637424,0.010978366465339253,0.005898013027512782,0.026045209607007496,0.025454062107749576,0.08069229348983399,0.35163999961774656,1.0,0.3993597209618994,0.04152888189679689,0.26962125735607506,0.3475540959192363,0.24116585756795186,0.23550188652233017,0.6330614269560177,0.749967390219878,0.22891615787574832,0.3397870155339321,0.07124408444204451,0.06749318066679166,0.7514399404181089,0.8008459608904676,0.7729147398715553,0.7850200217649942,0.7700920641938713,0.6950286885981765,0.6069079016171874,0.6453597440952242,0.4701538662434442,0.5190907832425077,0.6542407334953299,0.25769114720105235,0.3231279743389918,0.24750372584324246,0.31752471958851675,0.6393304932801159,0.6393837120449609,0.5589855602838694,0.5859716642248243,0.002064259943238415,-0.03592942063477823,-0.09903465697969954,-0.14321143004316964,-0.17390253365887898,-0.19885283609347346,-0.2142979118980585,-0.22243091316453292,0.21811184296357852,0.6494312156544463,0.6540897434206999,0.6540896991108058,0.7451896056630166,0.7409413526447345,0.3715052683335709,0.15295245360630275,0.14989429525964557,0.745263364731757,null,0.32805999931780533,-0.0013519869180621128,0.29940865971107666,0.011364259249778021,0.6802333974865337,0.2321279629391807,0.5952926456698249,0.1712369119549956,0.4237290498688616,0.18839880530738626,0.448665566720753,0.5780669019240093,0.6541370580185236,0.7530281326972817,0.7165257637020679,0.5957741621049337,0.4753418087428453,0.27532319218197254,0.08740601925903482,-0.001342496066891229,0.19623015394098867,0.6540897241249269,0.09325808040305203,0.7329137928862213,0.5528216226081103,0.6513061810211509,0.6575349941028661,0.6397408142919017,0.8117780502996667,0.4992288641902173,0.15998134170850162,0.017186050512956363,0.009070306692867585,0.13916042019750505,0.2477720598405841,0.5728455454090825,0.49733373057184654,0.040755853201776424,0.1398478737360534,0.033963433966308805,0.05960297586612843,0.5918455547419057,0.4938125206513,0.21669227478401076,0.025825164020816922,0.0429290066074849,0.0031825904986933075,0.1457362328411033,0.00036318042456747515,0.06362367473293745,0.0035071555220386203,0.0021819562719590205,0.6185734349723658,0.46470025185555447,0.4572164881689771,0.17695713619646164,0.33753135032876147,0.5883918648463291,0.5697196611906473,0.4042551230088082,0.45376937013774205,0.34530522579871925,0.2545400856657273,0.020028781141249875,0.026606255226358677,0.3726839332460072,0.6318267729238207,0.639192387392822,0.6987189934081459,0.6782207452058052,0.7717035500710978,0.7255729854637585,0.702055786346799,0.5940845392811271,0.5904187355438485,0.5875653367190448,0.33107198885831146,0.18110968476062067,0.010874386952388886,0.01342870792049415],[0.595614861508252,0.05361909025727002,-0.015963636696341536,-0.001127957167266702,0.04768374198850564,0.07631612998037682,0.04997600811754364,0.19928201434905388,0.3857666776696739,0.6362327531403716,0.7393054400091341,0.7068450678985422,0.32206630576390183,0.20377949671676948,0.1947071205891794,0.10021520653417944,0.5912774750474995,0.07201568690391813,0.038391253678272744,0.07627624347582072,0.41567617931479245,0.4172587924149475,0.6116344527151412,0.6271979951718586,0.5602040983516007,0.49832132564180354,0.2522922301528569,0.017359366810022085,0.07616686062026085,0.043109442644468095,0.167313265247225,0.2526227358078731,0.012344902977139475,0.006570445228478828,0.003972712730730943,0.013612083124720316,0.0064922972374676135,0.004461884781473024,0.04837633963493634,0.3993597209618994,1.0,0.06689154663953932,0.3030822664642886,0.31618466964456005,0.16251128272980048,0.07440007052304258,0.4505729216322963,0.6145084292234051,0.21390898885646145,0.24862386975043774,0.08754751318081334,-0.0007970461894379454,0.5277990855247487,0.7116675000966359,0.7299521618287489,0.6788765631955689,0.5834331704397131,0.4429154853706695,0.3225826641722691,0.37054906516338193,0.39118526645890606,0.4231423732072261,0.6193653571158833,0.36843754593308514,0.3693274131514231,0.28402176004461105,0.23110259971156613,0.5901842918665204,0.5552298891426415,0.5112140612061847,0.5333897843971548,0.008726098065064173,-0.029051518071158817,-0.08843212382567002,-0.13266451682390606,-0.1646384809506602,-0.18945938019974473,-0.20917246509722215,-0.21978625956411568,0.20311349645799245,0.5954123850735972,0.6188676706695019,0.6188676462339505,0.6616950141210065,0.5977264894142416,0.18377469914793565,0.15201159529824204,0.13402053740965258,0.6545846898550067,null,0.4685558298536395,-0.0011364440153588478,0.3171811631891107,0.007501121373920825,0.5757216693949135,0.3685952928996597,0.5543589604196423,0.13838987319218288,0.6284552587103865,0.20835660480927784,0.5156195426545919,0.6703825106127954,0.7523954454523203,0.5572554233893896,0.38929187207018345,0.2966451582074888,0.32421170577755964,0.3256171341062023,0.09187825124225217,-0.0011303570827373962,0.09648718327978269,0.6188676696458513,0.15929382525214952,0.47612189927067267,0.3484026733679923,0.5208348609728044,0.6653488606764607,0.49939354400699165,0.5901037277147315,0.40740033147457294,0.16740477822697084,0.02463517028577727,0.03188864800145089,0.12947835475981337,0.1992840383970151,0.6336610101273881,0.5677695728399924,0.0703965378747451,0.06783219081865978,0.016337554999317265,0.009903985112094773,0.6181812057630057,0.5279064276788632,0.34434348319527014,0.08445807940466367,0.20601018957224584,0.0724928764071325,0.3037492376078641,0.0040991425190930455,0.04660974895499185,0.03598300312293765,0.03245044560622327,0.486499160772671,0.34926361850485216,0.3716470030492347,0.23203979215616177,0.4788017337697848,0.5796218686237075,0.5954506853089094,0.28529197016041097,0.29514973147651613,0.46726095630355685,0.2737715613721839,0.024348746809438188,0.020217117816906837,0.45291891896768777,0.5642125356269758,0.5274239650555482,0.6666909753310738,0.3782189843324459,0.48124960012954804,0.44560274508738046,0.4186915107429253,0.5844000046831823,0.6364179679075139,0.5566452173041996,0.10991788274685851,0.008919853632309007,0.016102992257454304,0.011011022897992809],[0.01797356375823422,0.012263805824432641,-0.0022560167058287795,1.4747377164998485e-05,-0.0004794187815736229,-0.0005814015997329805,0.0013771186746759595,0.018676038500316496,0.036267809928018355,0.03282090463627301,0.02679472245927619,0.030197989037974632,0.027725100216422764,0.15810506852569733,0.26186431050512904,0.019392309758729586,0.03087117137811144,0.03311882301447892,0.0006563579769707363,-0.00011285244829980774,0.014282126333000104,0.013908708838485875,0.025087459388359427,0.02224994296934518,0.02968769271079138,0.037886466717630886,0.013515213501463643,-0.00011615141981401045,0.06851141399047929,0.004568009662916489,0.0861472857333247,0.09550044451003879,-0.0003188604300004192,-0.00022594314666105352,-0.0003040970591222354,-0.0004153381047381137,-0.0003453801763669674,-0.0009238620306240941,0.0037510369657317378,0.04152888189679689,0.06689154663953932,1.0,0.05002211610525128,0.04635633634766933,0.027375979138518365,0.007269918223372358,0.04050641549562861,0.059848520865738344,0.01168384107604187,0.02747903153536124,0.0064774377414352335,0.008905162096040625,0.08217836127833145,0.032422201443754343,0.020934601424628843,0.023927129272882867,0.028431473004238584,0.04028322221178262,0.04781987501023685,0.1017262878260565,0.12881920044065615,0.021189577337386533,0.027159570167302118,0.013991278751661302,0.009894541578881475,0.00855341271048616,0.011279590376316477,0.030833643014742028,0.04978493744864048,0.01568229634539044,0.03750694920099998,0.0012399751092556437,-0.0012627039395016896,-0.0030578853091061077,-0.002602019040475617,-0.004846692162196531,-0.004915201549737102,-0.007110823488802447,-0.009185447941813689,0.011081120610216806,0.017942743100786723,0.027240781489990658,0.027240795398102632,0.06010070054448719,0.057646646976624645,0.01113702680463658,0.01087015612840805,0.005608353951887077,0.06307625293939956,null,0.04462967911426691,-5.069711388467062e-05,0.08394190624699453,-0.00016047999196814973,0.039919782160518245,0.022162752084179647,0.10775246069870528,0.006088811546491711,0.02382796571949578,0.02503451651495084,0.03600891696260487,0.02232364470079242,0.02159808482463133,0.020443547474757316,0.03478169318467872,0.18393562709643677,0.19016408835160303,0.05755509277501937,0.004899722569538229,-4.681653298591e-05,0.01959873314640982,0.027240796557098212,0.010713886783462006,0.027671886175098553,0.024226126416265082,0.15794270679486114,0.06513700596412082,0.03569128573471463,0.03751156692288216,0.03261353790879635,0.00417699200899328,-1.3907582590017182e-05,-5.014439609005499e-05,0.7916555536670878,0.09288251499897224,0.014399969365025661,0.01088212656217485,0.005504296486068487,0.14965245175226588,-0.0004506461424385531,-0.0013415545052512965,0.06513669100601946,0.05344410596375795,0.01854012771904603,0.01491056371212058,0.03974054007308526,0.011879307896909141,0.009657565628384424,-9.82109480124754e-05,0.001018484070678656,-0.00029114676735814057,-0.0003190712471648064,0.06202353664653201,0.005091985361842537,0.004912542208451055,0.00643238467783861,0.03429873527360701,0.01652184542728947,0.032775038021131075,0.018271182323593874,0.03641400890131516,0.015599574130142154,0.011908335579251575,-0.00016097238135358673,-0.00030919006509007324,0.021247271410771654,0.03455290229603262,0.037991865172037655,0.11056594792829008,0.09752165175193778,0.020139179241372943,0.0067390798411566194,0.00526383004661927,0.0120851976800543,0.014395743781464217,0.005105007326428669,-0.0025446187515134008,-0.0020771315170907334,-0.00022938765388026713,-0.0002534702169801808],[0.2602415392819379,0.038550316467091464,-0.01802524139985881,9.118624109776747e-05,0.008147533029387415,0.013692028577728332,0.004396000904491433,0.0568270532318068,0.17308346680127262,0.29631660161424894,0.2941026768041878,0.30575618367304563,0.2331419720792933,0.20722915644363174,0.18265426968914272,0.06222277365922051,0.30941734745756977,0.0939668216221857,0.03165933920136877,0.034730940793721944,0.1754363643888046,0.18084467177969193,0.3085430299801828,0.29937439612796235,0.3186576090916567,0.3105332321159489,0.08078155901994674,0.012644930739342362,0.10187927667642747,0.03775506845652854,0.06850614727388894,0.07127696927257009,0.024758029825358914,0.00939989705028609,0.028972497550665537,0.034404561257261525,0.036462271101642206,0.07291255514979132,0.14139069147615418,0.26962125735607506,0.3030822664642886,0.05002211610525128,1.0,0.6154729632538263,0.26878978490899963,0.16715759238025976,0.2693135007487849,0.269506545071462,0.07239437108434772,0.13689352480326553,0.05643556919724697,0.18032633342708176,0.3165209477479367,0.3117759854636015,0.3016933489276799,0.3094092305142159,0.2992771375026783,0.2612558646668295,0.2230823496573945,0.24843798611801376,0.22916479711592788,0.19375220800695156,0.31781860749101787,0.09745288735890455,0.09661623374752797,0.10480727325931745,0.16658889939620428,0.3135323568480309,0.3258379215048755,0.27603503691355,0.307222396390744,0.022611286676409367,0.005393664782008939,-0.021312669738655136,-0.04355844653610616,-0.06010872994019478,-0.07441166826710777,-0.08638176069458045,-0.08964664660584445,0.10616839081704128,0.2597723923970633,0.3177765330389119,0.3177765183133668,0.3268789307050621,0.31928234410081,0.11589890289835705,0.048882951442241106,0.055734716318102916,0.32859459162311033,null,0.09171176987131895,8.442006945095572e-05,0.1494876151555408,0.0012779255008634762,0.277836028069565,0.20401559273034625,0.28870834717957533,0.12535874610170686,0.408533535433712,0.0876787161869616,0.22398081745941942,0.2752993073109951,0.2900236883109361,0.28494750048430406,0.2623567416004792,0.22918865592233229,0.2115984173775339,0.1665879258009767,0.049934296281850546,8.982517358675562e-05,0.05394544829918792,0.3177765256440104,0.033254011163959596,0.27847057895274224,0.20779141931713774,0.28677200377197154,0.3445150900602377,0.344694162390051,0.27697166081514957,0.16981660174456398,0.05425054277555293,0.0031125907915835744,0.0008937938866262783,0.11254387788380174,0.13833679651950131,0.2784428400242087,0.2842224892907054,0.031375826694398035,0.089840600311485,0.009947431647850535,0.014398060804352974,0.2890399152759627,0.20098600279503664,0.08216362640467938,0.031343076424397515,0.39710978059104063,0.008311822179381336,0.06999476609010966,-1.5524974353525498e-05,0.012203622199868935,0.0004378746077903493,0.001736094275633738,0.3265533099662021,0.1271842241466221,0.12775540383036088,0.06576610971246656,0.14343679503146284,0.19657151201949744,0.19515421431036592,0.12915929010632105,0.1512911216580711,0.12930302823155593,0.0856561832755215,0.006063458714946839,0.00375395133949262,0.11327645274222849,0.254713256889861,0.24587490234526987,0.3594839114013438,0.26309266870889503,0.28348033094296987,0.25567976622370736,0.2385467633643248,0.25211031288638913,0.24849144744482551,0.18886482358008735,0.08593574126836195,0.04284562625336392,0.004713073466353121,0.001980408787825921],[0.3454066083787244,0.04153913574725191,-0.03080310899899341,-0.00037386883256722384,0.019461741665948825,0.03184797028013354,0.005708579742912693,0.07519935006801277,0.21514428542432584,0.31997524510939945,0.3198781043247145,0.3725510676278547,0.3556816679475159,0.3338044438655022,0.2631940704574367,0.08888545715325936,0.3453343929974753,0.15924433507542304,0.044046128909994126,0.010535832529860317,0.1671124837314215,0.17301432000302544,0.34328701291955654,0.33403519672563753,0.3607247573686937,0.35166299531932776,0.1152127778031668,0.01175230482263129,0.1657394541088836,0.04863269826951311,0.1520519965547523,0.14358494909735459,0.029152058202684114,0.012773215899719243,0.02801061165364593,0.041809989731931896,0.05627572061654061,0.1295295928237293,0.2769579019795415,0.3475540959192363,0.31618466964456005,0.04635633634766933,0.6154729632538263,1.0,0.780548772490796,0.27871988791329166,0.3641525126596265,0.34451247779244265,0.0697122823620373,0.1183124540567399,0.03480263417141238,0.08220323977535289,0.41968925735767865,0.38821106517375414,0.3866368668788973,0.4047925688103459,0.40542570425868574,0.37025027705033725,0.32470418722723626,0.3441625278898691,0.2957844011394877,0.1934082307675747,0.35807156661402306,0.153543588259474,0.16437263889685633,0.13859838414252734,0.3072835232200397,0.3448530595643531,0.3584762398528319,0.3194658656914026,0.3502374750894648,0.026828885664748205,0.0077402254957876565,-0.02227819619810784,-0.045605548409979046,-0.06146405608169219,-0.07756385597017469,-0.08962349429331899,-0.09389074845242093,0.14205747579219494,0.3450023197757413,0.35783064321954156,0.357830620510959,0.42487415961818914,0.4302630799964982,0.23117724071207785,0.07570594289825403,0.0700299825537299,0.42609425117542843,null,0.1634701345744284,-0.000382498371725868,0.20053964423660592,0.004554534872641456,0.3768526545992814,0.17143628126817417,0.38406979281180204,0.1431071275571838,0.4284548833318042,0.11597138798653092,0.2571036048596616,0.306342679397554,0.3398592656048242,0.3844570534135285,0.3809205987750605,0.316438806952101,0.2465999153854561,0.15882431615983456,0.04788487387747711,-0.00037956754851085217,0.09820942093921191,0.357830632050726,0.05956279309817714,0.36364403927992767,0.2860769669539266,0.3981961088904357,0.3880403921934947,0.42269685728666584,0.38265949673345145,0.20902634685612068,0.05672197355721652,0.0024113377294746772,0.00010244037626945144,0.15294711666241945,0.26695353912224196,0.3779060753408393,0.359092349107133,0.04785354400014892,0.18320012733655183,0.019000359379419424,0.004571289476397674,0.4062995218211305,0.31919237965338376,0.1454587930776786,0.043431816533225295,0.31305257981559537,0.030232973353576942,0.12169486342422339,-0.00024334382936009826,0.015230356636722411,-0.0020601470664925424,0.00045218791005872174,0.36819129414429597,0.27722840657007025,0.2656537186064893,0.12636917030799,0.22942231576153613,0.3602607366390027,0.3522196463648318,0.24025862417619961,0.2872985439132434,0.1905582705051309,0.18302262750005055,0.009405477492365765,0.0062719867293926515,0.18943610600445773,0.35142456350674056,0.3646548157454259,0.42903547127015934,0.3799988562346726,0.38327283293549286,0.3436268915857819,0.3261145016785133,0.33117548325991486,0.31234249522363755,0.22149091156176506,0.16543645292138065,0.0925453748883773,0.0077480565712973294,0.0035177248417436833],[0.21842030547671087,0.02669979793779483,-0.016162878405005902,-0.00021040908420023215,0.008612589195544681,0.013979274746914983,0.0034463478308534887,0.044519901323084685,0.11422117450837145,0.16581093254716975,0.17215921850077695,0.22916256994350107,0.2521107618044218,0.26632379099338166,0.24039894125099406,0.057290413246891256,0.22138473925665902,0.1385451058863853,0.04769783905758473,0.009478648553135053,0.08251014621131317,0.0850230795010312,0.2137942745102289,0.20302199379402092,0.23379113194759216,0.23821372885576414,0.05650261181169418,0.005823221567716247,0.11578060650015727,0.025758418223071226,0.1596052029406278,0.1316459309371351,0.02313547349689931,0.007605344336127483,0.012348207971235097,0.02060880301065947,0.029055441742258336,0.07734767125462344,0.21430837238416145,0.24116585756795186,0.16251128272980048,0.027375979138518365,0.26878978490899963,0.780548772490796,1.0,0.35344847572209503,0.2365752918000291,0.20235322249671905,0.03386548036097736,0.057290071282806304,0.011619319592891003,0.025766938506107968,0.2854979580003079,0.24024523645988763,0.23611413021989686,0.25322118847298924,0.26073835280227936,0.24496435571858277,0.21940977715496912,0.24258318240262913,0.1765960573153863,0.1188037513379968,0.2253856844838269,0.07835337117141467,0.09219391245770854,0.07477135084986185,0.19493866774258023,0.21999378297610855,0.2383284537550725,0.19677767936127086,0.23627375425229116,0.01947955517468918,0.007374771412284925,-0.00984797380975916,-0.024357500591582912,-0.032788992436725915,-0.04233105412741185,-0.049100747647275136,-0.05198053800035224,0.10159715749300031,0.2178399560005569,0.22521197466504958,0.22521195982386472,0.2756583179758478,0.27981863711798377,0.15813485423355847,0.043537599088667465,0.04291965765738479,0.2778889816939071,null,0.09519120315360831,-0.00021949533596548294,0.171428022287018,0.003464985752866839,0.24838257139999276,0.08056099747833535,0.26870714755002806,0.0847916448615478,0.24510185064553539,0.06731686105578073,0.1344191092184088,0.1633276808943983,0.19292732072603483,0.2451985596802663,0.2675961307501586,0.24828252516065363,0.18707159054774958,0.10241351987978481,0.029912769966313067,-0.00021733318837073638,0.06614285331357407,0.22521196752886477,0.0343686334170997,0.23790943229249947,0.19236877611785236,0.2760689886239821,0.25118020335707103,0.26038351141528304,0.2495007309042669,0.1440069940800874,0.036836274564646505,0.0018102144066595067,8.66942639822397e-05,0.13671488846090982,0.35698061692505706,0.2765021580095531,0.2547231663117328,0.038445003024759124,0.2574303136867761,0.026046036543256625,0.00651130226371128,0.31708431417795324,0.19337168904584534,0.08155940044998622,0.024905959221739896,0.13892847770507505,0.020966268526851378,0.07708313500906393,-0.00029946955899056495,0.00828317284568407,-0.0017531894843792798,-0.00047308723679609073,0.25482240627587904,0.1914958448486337,0.18261283189306654,0.08761843683372669,0.13946895802426942,0.2376985461132948,0.22338359585993112,0.15822792590229845,0.2028694286923917,0.10584365904061885,0.14042804255468808,0.003956884528017875,0.0025998927512033117,0.13748405716306822,0.26222844654442096,0.27856581149001164,0.2808822006907632,0.27853018836811977,0.2511490800914412,0.21388863875379738,0.1994935112696543,0.1888610602562379,0.1794466896610251,0.13810255678284472,0.10880335868309673,0.054194212104759235,0.0029767460586332295,0.0010705578571083862],[0.17048780192041788,0.02824529647538164,-0.038760121123598,-0.001070577691957967,-0.0035463814996429207,-0.0037589871867417367,0.021976785990583694,0.015678063228891898,0.04554754424993156,0.05299481021015434,0.059771996280454535,0.17297782018114663,0.33585522764944514,0.44224114676335996,0.3964205746889179,0.04861190734805093,0.22367854587169128,0.18296366182217408,0.06386615062075099,0.05168503916294551,0.022048882407060058,0.02280382388741077,0.19997182103388683,0.16949210505391377,0.25436825280906805,0.3033686527899106,0.009915101139357185,0.0010269355260574314,0.08212021913213774,0.006519673637348677,0.3260350418082187,0.2220290279052434,0.04704518526612029,0.04195015591352414,0.01848379356503587,0.03410256489013369,0.02232553855258706,0.12219214501987065,0.32155347190739436,0.23550188652233017,0.07440007052304258,0.007269918223372358,0.16715759238025976,0.27871988791329166,0.35344847572209503,1.0,0.3775795402958904,0.07711887913737277,-0.0023028214279044424,0.010518726488290279,-0.0014937802411289485,0.008867308629924447,0.31366596433152316,0.23858856868830372,0.18379542753682915,0.21922337363575287,0.24946503567345227,0.2538174369008694,0.22654657720987378,0.31689663657113626,0.2726241425574163,0.07081167103107927,0.21667516277588988,0.028631487242270583,0.04703386157430075,0.03208422457532605,0.1398681017314947,0.22380811103938744,0.2704091826374605,0.19005742925693983,0.2751619102188261,0.024608983782731162,0.004176566255178649,-0.01726290976860243,-0.034155996036079335,-0.04307115596473559,-0.050585275770720334,-0.0564885045265613,-0.057634567803024096,0.1443927681206344,0.17082766817579098,0.21729051879379885,0.21729050459933785,0.2879131727773294,0.28045560543672143,0.1862490653815714,0.08604198349759631,0.07420353453514793,0.2946783504079472,null,0.1957001725346971,-0.0010715148914178232,0.2201099908659568,-0.0008765851842899466,0.2463858939259733,0.039592436489614066,0.3220141936571401,0.08947343824187187,0.08351312378136924,0.02471869326183554,0.04370462769475922,0.05074215237918246,0.07954609102384648,0.1916976000929188,0.36747908566852755,0.4651730546893989,0.28751758066433386,0.1334188212505214,0.024172745857572973,-0.001067617235333489,0.07790926170372654,0.21729051144982936,0.03843109656386416,0.2665904982152039,0.2499423450600808,0.3644588020969084,0.2777427459997009,0.3491670762510966,0.20138201946876427,0.15499790820341933,0.03656500893663983,0.0007572399649440387,-0.00042532040348923543,0.18025999306815935,0.500711651147012,0.15520153071378942,0.043076225728026656,0.025828911785838186,0.4911794025468851,0.035992719782773186,0.02304987760491068,0.2877236678777786,0.22483248025292465,0.05412299608584169,0.0018043379725834721,0.017240182365100408,0.0042811586287126715,0.033857676544827,-0.0014524116716502292,-0.0026330929765933223,-0.0032310934920697495,-0.0032598606145961702,0.30301247097367306,0.21020550353197479,0.19213321641824202,0.09446991439208287,0.1749351350630165,0.23323582421600617,0.22621924511622715,0.16131836326731147,0.21980880583276935,0.05907311742999099,0.30827577567014885,-0.0018803313837300942,-0.0036792058227448758,0.16136597828571805,0.24846716473890584,0.24110056459479492,0.3127244982422762,0.4037195787211754,0.2833124697466437,0.19283617202863312,0.17826732179713328,0.1227376409662531,0.08279247602364803,0.05160715482394085,0.09007935049534332,0.04695457359898837,-0.0022583669806773986,-0.0032828341703310207],[0.6282938655476287,0.09481583239969306,-0.08012476218661928,-0.0019746433019203298,0.0015708097236438801,0.0021091934118019897,0.036312214331761454,0.1147110892053135,0.2470322525315376,0.3931362936875447,0.43766978889464675,0.6440273805673098,0.720635064263768,0.655517454867059,0.421757366254932,0.09895331061072908,0.6273969100241995,0.2345654858148222,0.10186035324826055,0.09763177938699515,0.23807528911360346,0.2477897025028692,0.6284744295258075,0.6004053898932183,0.6221205396527398,0.6552009442308933,0.04713909337275748,0.022475922887869784,0.10680783488245282,0.03373037009892634,0.24742944496570388,0.20140572999745449,0.10070635602478308,0.11745267000605936,0.027878965260155358,0.06261676435867647,0.10100285408695077,0.25526787855092253,0.5424416009976949,0.6330614269560177,0.4505729216322963,0.04050641549562861,0.2693135007487849,0.3641525126596265,0.2365752918000291,0.3775795402958904,1.0,0.4442573857354823,-0.01948336004143585,-0.00721532290949879,-0.003346223273187796,0.04076000629649587,0.6904187065007298,0.6941338646315558,0.6825209447726394,0.732829090551583,0.7565065966945889,0.7212845318876441,0.66226604036125,0.6785640350075842,0.4523276296451962,0.2334547244976355,0.63877772755327,0.12628536134296836,0.1929038206347772,0.13807535283342257,0.3521866249910159,0.627684053337191,0.6502278539332527,0.5410522263718796,0.60967618206259,-0.006851721801276158,-0.04732767984879993,-0.10886228572854798,-0.1452986941160485,-0.17129051657034655,-0.19070700461375223,-0.20257981358117672,-0.20933492172179619,0.25429837248880854,0.6315394346264738,0.638801482613728,0.6388015127253607,0.7558927183367946,0.7772542363327983,0.45139696842010013,0.20920252651566804,0.1789071581160684,0.7636560182623503,null,0.3388021735978639,-0.0019801582617571846,0.3240297992713112,0.014133293806186034,0.6897863364371135,0.1905456319301759,0.6249163933603263,0.17001986268745117,0.3048169280424653,0.11169789292342441,0.32510104219449304,0.4349378558583134,0.5424268693552773,0.6947922808276978,0.7429643419365468,0.5803860587011582,0.2988410738745378,0.11714055527302462,0.08797555194157844,-0.0019724658200078594,0.16162522379754943,0.6388014659337306,0.03561202884491349,0.5997967429267639,0.5236669312253251,0.6481206318780289,0.6194205853394597,0.6437446426757336,0.7237451755625355,0.38662512361556195,0.11049401644045578,0.011903058090750157,0.0061504877275724715,0.2225568840070085,0.4052796452306349,0.49545637916977947,0.31207567707368017,0.02180209852657919,0.3551044664310712,0.0349886972669588,0.0870037420235279,0.5868006114411385,0.49947542440445425,0.15012630242215402,0.012182918897702599,0.02114862121451192,0.015891671217569642,0.08352874944676837,-0.003488196880271918,0.0014299850618987133,0.0022851457403690227,0.004222968134203033,0.6450973934196718,0.5608543819960358,0.5484415923052403,0.10458814638511724,0.22954989748001742,0.5697194826458796,0.5648859904460118,0.4157816900056865,0.5163950833079837,0.1651308668882921,0.2533662071431224,0.004147792409960839,-0.007847222838798752,0.4075756232294673,0.6231713564964892,0.6240545628487811,0.6688867161840775,0.6979605132344692,0.7032713038612007,0.6416098060787351,0.606355650569392,0.5887972834212313,0.5089613266761386,0.38324151431499603,0.40420146520488015,0.22899824686945172,0.004137101749733433,-0.00770629145311374],[0.7420986425226591,0.05968578132456607,0.024747533746349446,-0.0012885207093256408,0.03512586266329571,0.06531909874489415,0.013436790809226452,0.13636855174580625,0.3284144369518412,0.5586125031461314,0.7010262804085884,0.8759839450379943,0.727023686028787,0.5314363356569117,0.2777627497375947,0.08735437922220951,0.7241107921455008,0.13137241900364957,0.06060484260084087,0.017353415139775615,0.32771244483222445,0.3340687545468616,0.7398853882402268,0.7347630193699624,0.6663671561821638,0.6598041222219357,0.20407200899025302,0.04249239731236383,0.07892867870850274,0.03714713975764832,0.18199334201425815,0.24370013980702498,0.11180898284420417,0.061649877798137756,0.1949452701895094,0.2045756012844706,0.2193640058159007,0.3236538497843809,0.5021366632503477,0.749967390219878,0.6145084292234051,0.059848520865738344,0.269506545071462,0.34451247779244265,0.20235322249671905,0.07711887913737277,0.4442573857354823,1.0,0.17370056890332217,0.33455084912562866,0.021089343320974025,0.024709601569605014,0.8401918540707206,0.8613424736791456,0.8391131844415715,0.8459339344722054,0.8342456296340125,0.7806210064163941,0.6858135353085911,0.5877500448619767,0.4072041552770328,0.46300123137530946,0.7369771056265394,0.3532673982429819,0.37861929847501763,0.2895490851579283,0.33408318672264287,0.7232809285616253,0.6991852896858632,0.619370292268342,0.6260980495741814,0.004621476921834942,-0.038299896898744586,-0.11071617590921161,-0.16246438942366842,-0.19779531257874325,-0.22630589305974314,-0.24750904956900993,-0.25805910036291413,0.2298659814343848,0.7433481810695298,0.7371530211154687,0.7371530015455156,0.8378101870413677,0.8216459125572698,0.3891423896157499,0.17252279610028765,0.1601062434862916,0.8416150785996416,null,0.39274446537264096,-0.0012970027512044892,0.36297390725825857,0.004662878105594323,0.7710263193005689,0.2793255989781733,0.6311489880074204,0.17688731578750017,0.5282128664195385,0.18115947424651335,0.446485992464665,0.5801647117799226,0.7465618807211282,0.8860964044045865,0.7440688578071495,0.5238098168318166,0.45428088332779953,0.32855737021123804,0.15633192819637914,-0.0012896526424009231,0.14631261840035067,0.7371530042293054,0.16082472832419378,0.7715286917005266,0.5689462396181739,0.6684510476255477,0.7172121097263344,0.6911240943477597,0.8800803481850756,0.5708188212209876,0.19133702891010892,0.021118788401063827,0.022330357221272194,0.1478552773727301,0.21369524225312408,0.6436433134518713,0.5643940053426092,0.06704212110910329,0.12343469752407756,0.02994407826479437,0.049261510861238436,0.6538433095302254,0.5618870707111373,0.2811641586584769,0.05439745779919579,0.10670844595567718,0.03533610622278951,0.20748877265721888,0.0009542085544194087,0.05731083448524701,0.0293877373813991,0.03621185707598912,0.6521969523821324,0.5410072772330714,0.5454263200165258,0.21939216855079072,0.40836493083036396,0.6938296826556263,0.6817944096707018,0.4775400628745552,0.5038792994273155,0.42965377342658395,0.33202675683817073,0.022513113336277906,0.025818199329290612,0.4484264424309489,0.7001125738168105,0.737518337783888,0.7453608393626021,0.7056786414004999,0.8371222136554636,0.8150083821352694,0.7837667560941971,0.6902510399090521,0.6770615312663134,0.6075271827873233,0.39293564775199447,0.1786254775601012,0.010364166588767168,0.018028438630897196],[0.17103084010211003,0.037149671552837736,-0.008070142673670443,-0.0005237159580428455,0.08860617295047019,0.09088724654860787,0.004734496369812752,0.06752536037525818,0.13349828750141884,0.23834848426862715,0.31910892066072544,0.24831920223432286,0.06880106282533353,0.028842095544797938,0.041021161855083595,0.010067583727524558,0.18223196402253566,0.00526684419600078,0.001757901501796398,-0.0012203242624041182,0.12784595625840897,0.12081530502282896,0.18484752104539035,0.19428502465153863,0.15419409005332824,0.11967657731231536,0.13213441760347552,0.025718130908752607,0.003627603950498554,0.01486267353199672,0.04286291184067307,0.17392398928013325,0.00998488485983099,0.002939310311109119,0.00020283473740019203,0.0001992479075142192,0.0027016254993135207,0.0020806772097098024,0.017538292799418008,0.22891615787574832,0.21390898885646145,0.01168384107604187,0.07239437108434772,0.0697122823620373,0.03386548036097736,-0.0023028214279044424,-0.01948336004143585,0.17370056890332217,1.0,0.47455093171434903,0.5385756516832787,0.010121583612007804,0.24263986668010215,0.17930030560195023,0.18067948938526293,0.17345001855369177,0.16049256129001627,0.12477973000018251,0.07753060593824006,0.07595864913281018,0.11247730222444524,0.42567473450152704,0.18265615876804497,0.20504597011358525,0.2304958870182153,0.1709965680834625,0.03317926942319,0.18216708803761117,0.1432842634902245,0.17822336222384821,0.11589328233902024,-0.007433380161941972,-0.021069862759855902,-0.04826654243364793,-0.06920166949868704,-0.08417193244532696,-0.09342763769829482,-0.09690157054081307,-0.09889857447337129,0.06992506373959007,0.17120159825293205,0.18332658444632205,0.18332662515786424,0.19176996998352483,0.1429049808970691,0.004203099921275516,0.059969771187863286,0.05853578592345028,0.1782130986423259,null,0.26882798229253996,-0.0005246222140011958,0.13362419928377794,-0.0014888630552903793,0.16241876256182022,0.10456841600003355,0.14280914768285569,0.02484233855497128,0.289027408663037,0.14904879413988295,0.13243812003736907,0.15557667871716044,0.13965546331780396,0.17316420417450135,0.13965424440226554,0.21260506794435946,0.41557231263698907,0.42271252594480385,0.11628654103285971,-0.0005201552496656802,0.05129579061596046,0.18332663185734088,0.032065312426040375,0.2803073031275457,0.1418449803856856,0.16828919022644467,0.17421666932484037,0.07895796049466211,0.22224509465605635,0.2345708360685829,0.08263654497570527,0.0020867727278633024,-0.00047417475274856834,0.01713159764273267,0.07345566260990119,0.2620232407595249,0.28417257735404816,0.030397730693662965,0.011215373499678398,0.00020305685784016906,-0.013889541892275604,0.2434769956500876,0.2262205524692709,0.18649360433964537,0.016617330796006646,0.09046322745154302,0.0026424890964856945,0.20718397964871882,0.012813195041562447,0.0916801097748418,0.051340804415215595,0.03809191299182713,0.1274292121249106,0.06751245328505487,0.07355427277432869,0.12604118274931692,0.261308142344926,0.22742868817673376,0.23083304915108438,0.07018667654047538,0.04924683352154365,0.3123562039310516,0.14477642963382586,0.02643844298776798,0.053799850100477976,0.12068865696235884,0.21443550773336575,0.21136186810608146,0.19000296239736186,0.12107971187347502,0.18272442492038127,0.19074538787532846,0.18136333068707047,0.14044310714809294,0.25083942692901695,0.2141804427638811,-0.001548498875936646,-0.013259210061801002,0.007535287940014309,0.017994516363967192],[0.17452884480020714,0.05246069653150646,-0.023696895466880755,-0.00025494275280843134,0.019465132346214938,0.027584461463128335,0.0156033193072198,0.17470646172436044,0.3422156494227352,0.480453448674019,0.4660619899485666,0.2925354674257899,0.08255723906343135,0.03689781031811425,0.04462968940979129,0.007345432307251902,0.18709425384768083,0.004629242535553512,-0.0008655964890494885,-0.0006329916885295564,0.22857891940856637,0.21456680254015112,0.1838882068254109,0.1981925054388528,0.16925720690851018,0.13444420875536858,0.18782389731290564,0.01888948934085215,0.004256871708389865,0.008321566808415552,0.07337129211622598,0.12720404578507757,-0.0015488223961394548,-0.0011690655962431102,-0.0015130350451626258,-0.0020581468951080813,-0.00046343671725203724,-0.0020741618252930806,0.04412617387067012,0.3397870155339321,0.24862386975043774,0.02747903153536124,0.13689352480326553,0.1183124540567399,0.057290071282806304,0.010518726488290279,-0.00721532290949879,0.33455084912562866,0.47455093171434903,1.0,0.23757958281774216,0.018518526146439427,0.32206602649157057,0.24035339190213778,0.2429388594192629,0.24692496932646807,0.2313419267164255,0.1788577546051085,0.11154435982836212,0.12015522074280549,0.1567923943037169,0.6766553923064886,0.19122291491472537,0.19544731131090776,0.22700158893924946,0.1457449893660088,0.028385724997477393,0.1870660344472214,0.1471597303574919,0.17601588360508383,0.14347861179776186,0.011541256091547767,-0.002692787995233654,-0.020520977756004727,-0.035229389315055995,-0.047360242248304325,-0.05596265389876685,-0.06196729812211583,-0.06686027208674183,0.059590488632482036,0.1745314249947533,0.19187968043894973,0.19187967160878,0.1977869737268346,0.150852816989824,-0.00038940020618814276,0.02670665327483012,0.031983573602258945,0.18940220027390206,null,0.2504609767537287,-0.00025539241795340795,0.15939289680029825,-0.0006983986181273111,0.1655784110685904,0.15307590179705044,0.1563789026633115,0.028255531249599983,0.286995294535063,0.3364004949625949,0.3246817964424526,0.26629416646821485,0.19719669002197646,0.22440030032603497,0.17707931627934362,0.28814031361134473,0.5661851779604403,0.5308631333175347,0.13321190241584185,-0.00025213643880820876,0.04424027233612674,0.19187967940934705,0.07181492049834788,0.35658581176756804,0.1711563874927907,0.21810486953048996,0.2525681648873004,0.09754087325660583,0.2975547434839711,0.37678933068742493,0.11960186282807835,0.004179898068086993,-0.00025938204973037976,0.02183375710961796,0.0715825277286177,0.23190791714178793,0.2538553765160609,0.07759373298066535,0.01881666223175561,0.002449763923039821,-0.007366217454409006,0.23021005027854533,0.2259521381073554,0.20691187362956776,0.04032996509712795,0.13423671514880148,0.0009913405828554484,0.19681599720261572,-0.0003335624294688292,0.04559374536463575,0.0015864198727812016,0.0011248397337827278,0.14522750267867357,0.08389991678600164,0.09558095874635227,0.11771848519333174,0.20995660342720407,0.21873087309272618,0.22823675472960406,0.040969182043075175,0.03360322063250781,0.2378878514249767,0.10161685939015408,0.010722035031728841,0.016479262890207166,0.12942156585687176,0.20186096463297715,0.16857292191513304,0.2524717476763163,0.16676543959216747,0.27389391404939095,0.27874376698825637,0.30265840139314887,0.22525123846676753,0.2646214696489676,0.27497458569562283,-0.0023745224356487935,-0.010593461488867644,0.015475355723906715,0.042750697668650285],[0.06660855799245664,0.021914718754767467,-0.016626469871337833,-0.0002110523793372591,0.021595325925472305,0.022728485901194785,0.0003003354543506026,0.02454765156141524,0.058226348114315644,0.09983582116729922,0.10531826091503121,0.07758815275688175,0.0213090915807216,0.013720983070173986,0.014141745130803183,0.0017843035471002964,0.07297749677344742,0.0012811355295324776,-0.00024877416785919096,-0.0005099092366569737,0.05808923091267246,0.054466447296183454,0.06941245955378074,0.07028297323685129,0.06971505061754761,0.06211550124922697,0.07148800324646382,0.0011951054969288578,-0.0007233694827887583,-0.0006347986007647833,0.021899594134927973,0.0615563911979448,-0.0005365399940298712,-0.0007905214456176198,-0.0009452267725866634,-0.0012706826618795438,-0.0010724857727447694,-0.0028092502879785808,-0.004125838808400691,0.07124408444204451,0.08754751318081334,0.0064774377414352335,0.05643556919724697,0.03480263417141238,0.011619319592891003,-0.0014937802411289485,-0.003346223273187796,0.021089343320974025,0.5385756516832787,0.23757958281774216,1.0,0.20729155658738982,0.0803694005247112,0.05903492037495058,0.05758475228187761,0.054720268267444125,0.05205769776201028,0.040569615644725145,0.02568718405414713,0.0384946197648777,0.03813004757279909,0.1448158987713952,0.07234428280183411,0.08875230250779124,0.0836670016320148,0.07226566052948849,0.008916280034873575,0.07307746437879241,0.06690041177476613,0.07200849890651943,0.059258723047852305,0.0028978906703364168,-0.0015380109518259217,-0.009348754312994338,-0.018157708368194105,-0.02384366399564546,-0.027123934207067414,-0.027902869905097716,-0.02864554240064052,0.027893936921839082,0.06668149005468937,0.07258198396283452,0.0725819793010551,0.08424328748643697,0.06357827725664819,-0.002613083035159903,0.014749126978933803,0.01734483343580933,0.07752072178163759,null,0.11286058086559746,-0.00021135910281829575,0.031906225369422274,-0.0002431988915126996,0.06563769228055552,0.06325021917563096,0.053015026848391836,0.011407064182904028,0.12150797264484355,0.06537772961990504,0.04474068351911056,0.05635919058385309,0.042044499644133294,0.055917969463047966,0.046689602227162105,0.0763253496096053,0.1421327268993681,0.13640615785034088,0.03693273509281738,-0.00020941925738987877,0.027915982568576633,0.07258198232772615,-0.0014697931518402258,0.08370307056051743,0.043476792583699575,0.06541104231378854,0.07549362158250399,0.03397267808173497,0.06964211777278485,0.05812128486374226,0.019539440836173205,0.000335212654331286,-0.00018658864415989286,0.0051098623069048095,0.023424351009979433,0.08044999310034062,0.08885577380623184,0.005836154858256339,0.0047503197673933175,-0.0011714557811731223,-0.0049342337522524015,0.07686477892108658,0.08835083647976374,0.08997905255825475,0.008505099142651202,0.0976466986583314,0.000756160508892002,0.14422727330084703,-0.0002596486375328212,0.022836024856058425,0.0038638021026794955,0.0022227863357861177,0.0699938523981293,0.03843157689719575,0.04095055192560058,0.05315953679905179,0.11556229560080053,0.09061908557909668,0.08816039083517702,0.0026145040023165425,0.005074549861740933,0.13758684914891112,0.04735512580567225,0.00745148697672547,0.023370516327726538,0.038543585949866024,0.08509341836943181,0.08199051937956915,0.07426853789735822,0.0440756592589146,0.05974734345034192,0.06049897260391341,0.05106332485765854,0.057712677488410816,0.0956951789880827,0.04472253650956128,-0.007954098275931938,-0.0073238289710273585,0.007427706149430811,0.00873993268835065],[0.01988155450248674,0.02794353789437859,0.01263787080012279,-7.757063745170055e-05,-0.000529555273483547,-0.0006577861885789903,-0.000101247815851417,-0.00029337933152726004,-0.0005144656818358818,-0.0008913263820300071,0.000830215740523512,0.032152019541180056,0.04710849607718713,0.05441515282606415,0.03453436085481902,0.0012756529928007402,0.0467238237571995,0.005212554726831844,0.00044270296410447204,-2.353681295743877e-05,-0.0008979793790123927,-0.0007584172583233931,0.03474444610093396,0.028173904046992125,0.03577846450472507,0.05624286738982186,-0.0011214726901097784,-0.0001473431545707894,0.0018803383237765347,-0.0001792559515104081,0.0010690399513500416,-0.0008177239749372269,0.009757268828286486,0.0003995063525403262,0.010674080946890945,0.008602566958895039,0.007052879411565353,0.0032824398928351798,0.00458610921681775,0.06749318066679166,-0.0007970461894379454,0.008905162096040625,0.18032633342708176,0.08220323977535289,0.025766938506107968,0.008867308629924447,0.04076000629649587,0.024709601569605014,0.010121583612007804,0.018518526146439427,0.20729155658738982,1.0,0.04195604063621848,0.026852705509722814,0.02099321152238038,0.02824709848064044,0.03468224676800733,0.03512315359990379,0.0326378358177816,0.08586247439714235,0.023768053773944735,-0.0010942959669001055,0.03497645633424789,-0.0007843933690355285,-0.001185288207787455,-0.00045348688608183764,0.00630336950676806,0.04678574334291654,0.07513315143790132,0.02392611706426125,0.04098212208223221,-0.00333929119551129,-0.0033138045612145944,-0.0039029423424322175,-0.00622372042561687,-0.0036583926332007088,-0.00309065248289297,-0.004739686470127148,-0.005119165852784968,0.0011905095062523419,0.019902727989025155,0.035089509577764896,0.0350895070845916,0.037914036787333315,0.041513791475927965,0.005849219401574499,0.005262587120795685,0.0036375313079454125,0.03997774682921385,null,0.001370082127765099,-7.908647504629793e-05,0.002249835231716265,-0.00023751191725379834,0.033098905631993615,-0.0005997468780001192,0.04190452206100007,-0.0006782101050830149,0.003666333707715959,-0.00043022521283115424,-0.0006808672603362767,-0.0010840901148301157,0.004158086673100654,0.03376985679435312,0.05219913569585698,0.0601661428651447,0.028105812441943198,0.00475801146891359,-0.00018754835412191403,-7.906817366246387e-05,-0.00014717830669770478,0.03508950847610111,-0.0005766580912832262,0.030462339441625463,0.03012779651944075,0.03228121662814135,0.060162956032882804,0.057106691056433186,0.025310159617348407,0.007331587787988591,0.0009868153387984282,-8.699549000004946e-05,-5.4199836091263396e-05,0.017048037752183394,0.0010495918496251414,0.006402275923534204,-0.0016203964669688291,-0.000382441862256446,0.0037592893340443376,-0.0005330541851927677,-0.0013145823704129407,0.00720751705874719,0.003650172560646956,0.0004028348287260175,-0.00031166203610818983,-0.0004117320693353874,-0.00013710221508472908,-0.0005434722955645065,-0.0001503848076616257,-0.00047404699700252497,-0.00044507789449230905,-0.00048775703165630227,0.09494679260322013,0.002754399130051935,0.00564776039816926,-0.0005706557244761406,-0.0018402949135510104,0.0031184016179556418,0.002495813589121523,0.007727311153758537,0.012844212508374258,-0.0005261049333090439,0.0016624974260733996,-0.0002477720337996366,-0.00035764186127751633,0.0020833474476246233,0.05292682199331463,0.045281441900798115,0.039291773992474244,0.06331326977473282,0.04710492266483765,0.031700813502804626,0.02970175277211026,0.01214631715283462,-0.00016344511651897583,-0.0013411137512759157,0.0006282287295456071,0.0003362357468375239,-0.0002640181873047529,-0.0002985729458575576],[0.6621363989125586,0.07010188095360785,-0.032972554918782856,-0.0016118863507787547,0.030485482441128847,0.04503472793841738,0.022397319080154552,0.10296660917450674,0.2767292793758018,0.442663304570722,0.5614073378896128,0.8162282137375706,0.8509372516235332,0.752684759494288,0.49487019344941596,0.10270717157350985,0.7312673475990583,0.25962901769595154,0.10683333692991291,0.06089357952741396,0.23208731358730222,0.23935567699396626,0.7306357489891592,0.6990138887867282,0.699955814740877,0.7495560574981263,0.1597258078793501,0.026342050283057826,0.12375956644923765,0.033095675555094003,0.293813426565662,0.2952004549200035,0.1863629429804799,0.15939964373802984,0.20469924288628039,0.22455059309889572,0.20267106211103175,0.3752782416705701,0.6247895794217636,0.7514399404181089,0.5277990855247487,0.08217836127833145,0.3165209477479367,0.41968925735767865,0.2854979580003079,0.31366596433152316,0.6904187065007298,0.8401918540707206,0.24263986668010215,0.32206602649157057,0.0803694005247112,0.04195604063621848,1.0,0.777912258600101,0.723109245724915,0.7699643682615253,0.8070549824665807,0.7916411222758668,0.7127653044371876,0.6408896267145607,0.3956868026713316,0.4031466757356544,0.7347986489936071,0.27126302959208753,0.31169837268215084,0.23027483469711565,0.3760365139035671,0.7307080777693514,0.7499951621489548,0.5952521699080058,0.7012693398383602,0.01173766625958294,-0.034897102718182846,-0.11240867964688557,-0.16262788706728223,-0.1988906785427424,-0.22702731864222572,-0.2468624324510768,-0.25509976663450107,0.2793032393207981,0.6664062428040234,0.735065583085666,0.7350656194520355,0.8656381700788955,0.8213894719543935,0.45646008646162656,0.20081499647207143,0.185554843091569,0.8765535277425709,null,0.42503677911247983,-0.0016223819587278187,0.4824847545951725,0.01067544927951795,0.7674388420770155,0.3149392021001136,0.7709244572962974,0.17869824675226828,0.4506312601137818,0.17472805951916576,0.34217476753356796,0.42776973034624155,0.5884654957729696,0.8628879544350689,0.8917240903521702,0.7703894134261323,0.5891309421349683,0.3663325276100339,0.14813772702561528,-0.0016146631613017802,0.1743331195285162,0.735065572507774,0.1209711078841367,0.806174325715512,0.627444626613469,0.8244364072029973,0.8328352153438924,0.7184074817142557,0.8498330967103314,0.5893148153168928,0.187485130964142,0.020526674955212352,0.004591606810911228,0.29402428220928356,0.46121757346400033,0.5903665709884912,0.4471544700951248,0.06624184081562288,0.41120880324890857,0.041191194591824874,0.0395794961969011,0.6865155082479802,0.6644205959871168,0.2715069519905805,0.04798921396526753,0.12771599721812024,0.030255830465771943,0.23801877498424595,0.0012232351261388466,0.05252426303980149,0.053254325935871,0.061314514238682144,0.7365062642843626,0.5432548946816205,0.5324906055321502,0.17618560165346772,0.3421232444714149,0.7000212894801415,0.6862636902766822,0.5225256489781169,0.5780227896653546,0.33472328470695295,0.3717013299776889,0.01617547435643356,0.023431081428430315,0.4428226686903193,0.7261263358518614,0.7640508171817998,0.8850344205871049,0.9044132596769319,0.864114286109785,0.790355549468997,0.7428210193404761,0.5941443542107964,0.5422975920455168,0.4147952135899171,0.3762944925916633,0.1909483838655217,0.005242997749555752,0.009484799318044284],[0.7987451507007828,0.07375658314540927,-0.00834661591870076,-0.0017763891463337728,0.053620472922068514,0.0933750185862308,0.02952928651266174,0.17327789726641885,0.3886694802849518,0.6721033297737402,0.8021777683136512,0.905635198139432,0.6817822925394644,0.5136361926617102,0.3151619870030755,0.10001107830441655,0.7588170686909366,0.14340487552092082,0.060017463755963965,0.052333689791550606,0.4146490295578582,0.42351060525660883,0.7771661697937144,0.7751442176594706,0.7290363410262615,0.6964940748633428,0.2272125630729908,0.05346892377007382,0.0843355240997369,0.04168631137313877,0.22246233782077393,0.3152848232560977,0.07594935436760869,0.042740438554128395,0.06502233375578349,0.09330824558071336,0.14355196939865678,0.24332377077788955,0.45398101923789874,0.8008459608904676,0.7116675000966359,0.032422201443754343,0.3117759854636015,0.38821106517375414,0.24024523645988763,0.23858856868830372,0.6941338646315558,0.8613424736791456,0.17930030560195023,0.24035339190213778,0.05903492037495058,0.026852705509722814,0.777912258600101,1.0,0.9358842791160195,0.903775086294722,0.8516856414069531,0.7498443961440595,0.6329924071961949,0.6303424466801868,0.48268011342430617,0.43795833189052985,0.7854520143332399,0.39819916405271977,0.4421798078719781,0.35011063256512964,0.34988387783795444,0.7582501640250755,0.7424960742240158,0.6771546021713153,0.682281121875649,-0.0026869793056328506,-0.05339098010538658,-0.13027529923869965,-0.1854750744658303,-0.22092184098681908,-0.24807254822938785,-0.2660522756599695,-0.2764312267027862,0.2635208317846732,0.7999854529409115,0.7853604384799328,0.7853604091185967,0.8874603260454655,0.8581661284347387,0.35340720567254996,0.2192214787387303,0.18784863290346088,0.8850112608670251,null,0.5335306447543696,-0.001781581472116014,0.365062415464686,0.011125287737173492,0.8139441163232759,0.3265083146896295,0.6641455616225381,0.19727369919012003,0.5928930291026099,0.19339222419807206,0.5604898438108594,0.7427016622121547,0.8675270025810402,0.861276366246151,0.7163036327983474,0.5136892640620103,0.3935646782087615,0.2624088446393222,0.12089847513375229,-0.0017716402092462088,0.17455174903721526,0.7853604273558144,0.1518048525667923,0.7561179227669588,0.5867538189116543,0.7036726962953076,0.7446146953469863,0.7530792554356502,0.8917021524562984,0.5475175788334992,0.18992786728484334,0.019999507801298316,0.022215652053707985,0.12732309944659806,0.27742740040289116,0.7188040650493019,0.6128678458726161,0.050972971270900176,0.14585269701250267,0.031064283460505757,0.0946340755710208,0.7407350072315905,0.622683080690967,0.31731428504617004,0.05769622662571226,0.09175715628947989,0.052365238197946945,0.23004747189232994,0.0024410506581630893,0.0643953161257018,0.017204677938188244,0.020180072406800042,0.6857736266704404,0.5632117758838913,0.582325390613778,0.26075310964921083,0.531331365525966,0.7510877137102808,0.7486647051700321,0.4667371799615015,0.48991395409573385,0.5317820453208832,0.3954367920015399,0.03797085222793991,0.030603029790770522,0.5229603578470355,0.7468451456680446,0.7532229456933315,0.7827952338484446,0.6871490896652379,0.8274195115456263,0.7911922616586924,0.756636806287279,0.754656833181746,0.7445223303774964,0.6822137727641174,0.35632992751723247,0.16038746215940933,0.026284439199489786,0.019848825714090836],[0.8147600830816918,0.058678840025041076,-0.02146246527340839,-0.0016077148169779672,0.0432860963302421,0.06983846227113129,0.024908469808791293,0.17607291143600937,0.3775284740523637,0.6752223364088371,0.8189292346599846,0.9016392657603918,0.6398101124163754,0.4565835157351702,0.2704939492269683,0.10664072867420547,0.7471821588545945,0.1232634833589894,0.05244058724643865,0.041909306104168396,0.4415057330115748,0.44852910792724043,0.7674676132891445,0.7746198250256606,0.7097750329208506,0.6546919184779945,0.22011902251739082,0.05434714758483113,0.09291022378472502,0.05489741391490404,0.20993946704678904,0.28137469123813635,0.08285001186165601,0.04770675730316128,0.10500421431720967,0.1241622785336672,0.14221893925232482,0.219510484565882,0.4075825241571342,0.7729147398715553,0.7299521618287489,0.020934601424628843,0.3016933489276799,0.3866368668788973,0.23611413021989686,0.18379542753682915,0.6825209447726394,0.8391131844415715,0.18067948938526293,0.2429388594192629,0.05758475228187761,0.02099321152238038,0.723109245724915,0.9358842791160195,1.0,0.9649573684443872,0.8896991980266057,0.7584109694084805,0.6133253149902622,0.5891922027826684,0.4926196144174065,0.4833562672492288,0.7742904352106966,0.38503646004182257,0.4340084665754474,0.34068030341567007,0.35510017235504837,0.746637474938258,0.7082008601013603,0.6832751532465581,0.6449331734053989,-0.0012793505859791288,-0.04651643347372433,-0.12003798441787765,-0.17287151772815273,-0.2094467089340791,-0.23897679889284387,-0.25841423110595746,-0.27057515611530775,0.24316504424056995,0.816589526264421,0.7742091612753182,0.7742091273394699,0.8732544391452802,0.8518494735823972,0.3538609226424216,0.20119689855864875,0.17078287044633012,0.8675548631783869,null,0.4852974359765065,-0.0016111759174285596,0.3600549140699446,0.007606161963986987,0.8075478960769092,0.2355596330659804,0.6323181204971765,0.18515615555268752,0.6207567868026405,0.19835452545437773,0.542902264317342,0.7538529233656704,0.8750424353814191,0.8456626475071157,0.6705609866777241,0.4689065233958128,0.38900333897027445,0.28681263868154705,0.12222574799395952,-0.0016027153737029588,0.16542274694499187,0.7742091408278654,0.17176391948194672,0.7432950420407094,0.5748857261342517,0.6522077563674509,0.6787128171102943,0.6999478530833958,0.8986972483142497,0.5294288741962464,0.1813146714069276,0.02147216771671701,0.03379852103475655,0.105171077409171,0.2570642156626438,0.7291977165058785,0.6574458513804037,0.05592977793561713,0.13811786913160895,0.030879269308451605,0.08800583266954823,0.7365808632967207,0.5889342579347558,0.2988532824654696,0.043243467225367246,0.08895986585804146,0.026612456023384353,0.20529556740042665,0.003589536498916071,0.04964140070165099,0.012006954231376632,0.012608184236970152,0.6520517828392036,0.5472924388020406,0.5611579543450356,0.25344948289255664,0.50209626222964,0.7370348249646894,0.7347114639139708,0.4637109601718353,0.4818035233299587,0.5196745646028639,0.36914893944342253,0.023960302662868735,0.020516850266058,0.5390118508736378,0.7580146254217813,0.7539135497513729,0.7111885818416733,0.6299943005801185,0.787785670452527,0.7606856923705051,0.7334222194852018,0.7487616803141033,0.7747694466215932,0.7774370964776769,0.3400439535820788,0.14228116749227104,0.01461538810956376,0.012972810796580386],[0.8273768366800317,0.05917411137039184,-0.011865564429180527,-0.0019029682803837111,0.029436956064445675,0.04604887123239167,0.028355448861551936,0.182335062291813,0.386399068269398,0.6478364138887001,0.7596091644631234,0.8941395661871786,0.7260227550518281,0.5412187597840812,0.2935670090530653,0.09467800873411086,0.763047033719578,0.14840996365313125,0.06290207075679671,0.04571913378458889,0.4020843483341173,0.40990983996557123,0.7825437242674359,0.7822352128138935,0.7170378784560755,0.6901857062917595,0.18756434737792332,0.04687995396582524,0.087157055788368,0.04468877694050969,0.22936754505981533,0.2679560999961261,0.10161539458742648,0.06405956119545875,0.13263461752762298,0.155461708257382,0.17854129409081365,0.27903170476789246,0.4946763079108403,0.7850200217649942,0.6788765631955689,0.023927129272882867,0.3094092305142159,0.4047925688103459,0.25322118847298924,0.21922337363575287,0.732829090551583,0.8459339344722054,0.17345001855369177,0.24692496932646807,0.054720268267444125,0.02824709848064044,0.7699643682615253,0.903775086294722,0.9649573684443872,1.0,0.966969649448443,0.8549695821488418,0.7091409528448617,0.6530932649830058,0.5012985632381258,0.4907239515131935,0.7853031249942627,0.34471250931537933,0.3956922630437902,0.29570651308185325,0.36739735750469377,0.7625093566480623,0.726481112919097,0.6807806976979506,0.6599523572185249,-0.007255785024052943,-0.05317264501733608,-0.12771364522342368,-0.17836018592330694,-0.21392764522827137,-0.2419168840331952,-0.2600974705174137,-0.27167370565671534,0.2521218647134901,0.8293920775664531,0.7852107353364383,0.7852107224389088,0.892984223746356,0.9043394022560394,0.4304716400676082,0.2180816747035577,0.18029035693692344,0.8928494409890131,null,0.45625585788741363,-0.0019066087924590135,0.37221723547454216,0.006570483879102625,0.8327229008080889,0.2193809975560917,0.64573896929958,0.1904301862744568,0.5784992877303783,0.200640863262836,0.5165376179179013,0.6857289533249376,0.8222557729086117,0.8919254102161555,0.747438250778215,0.5158645784160301,0.4087367405950235,0.2919627954281251,0.14339916715063256,-0.001898699361285664,0.16467326658502357,0.7852107148105295,0.1604496782088858,0.7685777680711555,0.5961614239942207,0.6723084383358128,0.6822966027495387,0.7305539609636283,0.93109236627582,0.5325289929972309,0.1672216843313641,0.01630606081002905,0.030727926444046,0.1295771004352915,0.29832210268810005,0.7333233148402964,0.6163603257412258,0.06046619888495261,0.19158244113584866,0.03186117114260335,0.07764514383281833,0.7557051281204077,0.5855147076490858,0.2791666777039252,0.04085502755598453,0.09157553146753863,0.021990002922896688,0.19227199417865426,-0.0008001403203254343,0.04587852044737326,0.0054126216158476926,0.004282421309830596,0.6829205691095565,0.6280091257719365,0.6361025603244507,0.2384245797604986,0.44083124145557795,0.7518109765970723,0.7453020465687035,0.5089320868985109,0.5526448524738503,0.43888795042436185,0.3488792678077805,0.013495995310138929,0.013462794098923925,0.5356344253266591,0.7555339250366042,0.7655119051828091,0.7196747238367186,0.684072041346716,0.8458022229136546,0.8212619129614367,0.7946939885668409,0.7775408032447173,0.7699965129200984,0.7056767432313898,0.42568277844585556,0.19766396326044464,0.004807677742934719,0.009796753632172498],[0.8147635762879466,0.0597591309201804,-0.00762439868259892,-0.002175624658022446,0.022300137550353656,0.033850924170503345,0.02736292430069284,0.16850642874363017,0.35438269854020843,0.5622414937140017,0.6481951431603027,0.8610837071129076,0.8131170639728713,0.6284856783893285,0.3158319721122762,0.09593734974678968,0.7610687796560718,0.1685364946854041,0.07403496576621328,0.04682672999851435,0.33624659865043505,0.34346912440748417,0.7771300971203227,0.7669734947642451,0.7060027922303058,0.7127138191641349,0.14729309804024968,0.03978155633425394,0.0918388550490056,0.04419736597390216,0.24096161271189706,0.24935008605696662,0.11198422660988736,0.10099311545033156,0.17644500065673396,0.1962426202220507,0.2229247270030551,0.35082633444543865,0.5912064068903009,0.7700920641938713,0.5834331704397131,0.028431473004238584,0.2992771375026783,0.40542570425868574,0.26073835280227936,0.24946503567345227,0.7565065966945889,0.8342456296340125,0.16049256129001627,0.2313419267164255,0.05205769776201028,0.03468224676800733,0.8070549824665807,0.8516856414069531,0.8896991980266057,0.966969649448443,1.0,0.9424514993833455,0.8020364795076899,0.6882880721300477,0.4772714302937174,0.4595656421998743,0.7750560105891288,0.28684960439142726,0.33851834537956654,0.2437585309041936,0.3817189139463142,0.760546845952665,0.7322102736745836,0.6632421094533986,0.6559026550564141,-0.012927921772423651,-0.058611772696038886,-0.13297551008580982,-0.1810080585826358,-0.21475955799154808,-0.2407292367833301,-0.25766372889447686,-0.26790612380088374,0.2541437662447185,0.8172034768036214,0.7750064734217047,0.7750065181379056,0.8924233016883356,0.9327329338007394,0.49280886590029427,0.2247583529267373,0.18643910569394045,0.8979654091916166,null,0.4135904927354874,-0.0021801599981740583,0.38022841017320713,0.004139955897743777,0.8391260257238736,0.19392445558357688,0.6392961341481035,0.19080012007740985,0.5086550783067344,0.1827335253201792,0.44033417180652523,0.5654983703267646,0.7211565386341071,0.9201308870348551,0.8243805090770251,0.5588371529921177,0.41486312366777617,0.28284609862391735,0.16899681538200642,-0.002172802875641767,0.16034798490292265,0.7750064544244186,0.1520089846410916,0.7799677376411052,0.6071415908060677,0.6695401080357408,0.6656987806998511,0.7411183889519863,0.9357680871267624,0.5348466962862878,0.15590739849843926,0.012460479117129178,0.023150214293518444,0.1577722639263752,0.32797119494294763,0.7221205866964355,0.5550414597234229,0.06534037321155448,0.23741909325869634,0.03272932349874846,0.07044178884411148,0.7603161189098179,0.5644512288948637,0.24826839904175071,0.034837610397031926,0.07853567529607369,0.018906685866908187,0.15968405515785525,-0.002131614453658571,0.03749455514367656,0.006014167748043853,0.004630782761794876,0.7017230126350549,0.6877921328296743,0.6860993381348812,0.20312409228566394,0.3628727835124918,0.7449561799371084,0.7331323180374933,0.5367384590022374,0.5989521669448149,0.3475626233944121,0.324934419246265,0.008835915420438338,0.008413371647606934,0.5034622590261284,0.7407085040828947,0.7693613248542907,0.7043710816118758,0.7327733779658393,0.8909319997283504,0.8710520196992252,0.8419872566080818,0.7751079794631976,0.730128382455675,0.5947893145832878,0.5120818638170597,0.2573947118102376,0.0011903345616391182,0.007050390396043883],[0.7628944251064843,0.057644635847681834,-0.010550416767727768,-0.002380281984244323,0.011913978817728823,0.019475154300208318,0.020308588506212567,0.12531729061797559,0.26208967959459684,0.40213138168923074,0.4691398336443728,0.768730029949463,0.8742051366266509,0.6884406103038571,0.30241797217804484,0.08733882716592417,0.7139792557810339,0.17287633337448283,0.08468407045988703,0.04775979267851167,0.2321833262203572,0.23743190799725125,0.7240008735529223,0.7036274878363447,0.6501597292871322,0.688539932418686,0.09977996284229904,0.028637963448808732,0.08518765053499609,0.03736908513163778,0.2018320738672787,0.19483929034434547,0.08524200943284542,0.0865500560549086,0.16803046321517667,0.18498416741822454,0.24698403184152137,0.41977965569735387,0.68892277932949,0.6950286885981765,0.4429154853706695,0.04028322221178262,0.2612558646668295,0.37025027705033725,0.24496435571858277,0.2538174369008694,0.7212845318876441,0.7806210064163941,0.12477973000018251,0.1788577546051085,0.040569615644725145,0.03512315359990379,0.7916411222758668,0.7498443961440595,0.7584109694084805,0.8549695821488418,0.9424514993833455,1.0,0.9013954056402637,0.6705013026026069,0.3942871223286944,0.3453626224276674,0.7159412272904336,0.21811683413506305,0.2691645675360926,0.18259871904323238,0.40790579461173754,0.7134458459417257,0.6975351625202246,0.6120161925559677,0.6030549104022241,-0.014546467359850842,-0.05779223264072623,-0.12823348261578402,-0.17089357503427208,-0.2016858556753859,-0.22537652762832014,-0.24043650264088084,-0.24929552248653697,0.2419510683811715,0.76640308374181,0.7157918678916065,0.715791906866666,0.8389044232023916,0.9121689359750185,0.5746132847085006,0.21839285075539006,0.18042078779190687,0.8497188799802627,null,0.3263259065365184,-0.0023887905433979707,0.36214405163470825,0.0013153151780376134,0.8002368120704233,0.14182900074066765,0.580972517740722,0.1841404961463153,0.37573905820074144,0.13915565924173254,0.31371332971518356,0.39609309332959425,0.574116579241961,0.8961108380100835,0.8537294997403899,0.5549683788642669,0.37479169407863105,0.2478747004778726,0.21958356864898992,-0.0023805141072752866,0.1498388793292626,0.7157918529119651,0.14697040318716476,0.7412725961456245,0.5758662528467966,0.6047003029574165,0.5968673601491415,0.7094112313906527,0.8860194414287962,0.5003224645753945,0.13839928440171845,0.008906005082805686,0.014278800278497856,0.20399743771771486,0.3236395907828364,0.6854628120786942,0.4753175131377226,0.06986670070444374,0.25536538760755084,0.03418581219122184,0.07794176556387773,0.7332924615612256,0.5045118071904752,0.20136373081830922,0.025605232142441155,0.05892877791136424,0.014425624440956174,0.1172052639418101,-0.002807924901054563,0.025057193172128386,0.004792118537311507,0.003700831170091721,0.6782055994251456,0.7412742573383151,0.7262384003078027,0.14562960787195295,0.26737455409398736,0.7172950645505038,0.7031187333489761,0.5201975527340198,0.6271944677271398,0.2382543438733587,0.2566344953730382,0.004211720135625906,0.0030198563377010317,0.4708870149958252,0.6820684579075115,0.7366561513292186,0.6265478270344258,0.7213962991007964,0.8834746843680485,0.8740753971468489,0.8488489780313162,0.7375572455689027,0.6504660434939359,0.45541099805584084,0.5967763782611326,0.31278194481635335,-0.001795618261120244,0.002701325664960617],[0.6892335012497037,0.0561727677049361,-0.00423221254014678,-0.0025710159654736215,0.0023050232203377114,0.005489702836353136,0.015433277654879934,0.08222984095844553,0.17056095639995594,0.25712679418488604,0.30741634558730535,0.6484753603852802,0.8665867872630191,0.6853113613139836,0.2628346694565949,0.07500891410600828,0.6447218913645516,0.16203482162185795,0.09490205214405996,0.05527433770794489,0.14291570678308174,0.1471953612849295,0.6479227433975967,0.6211504643989706,0.5732749924049014,0.6334174359965261,0.054837246008764745,0.017044595803087283,0.07059408408143243,0.025760881120305907,0.1330524117005117,0.11510463222314815,0.040253626331135044,0.02645590843630628,0.09029518666439494,0.11029802308758732,0.23971773148379075,0.41530402074986694,0.7174986464291808,0.6069079016171874,0.3225826641722691,0.04781987501023685,0.2230823496573945,0.32470418722723626,0.21940977715496912,0.22654657720987378,0.66226604036125,0.6858135353085911,0.07753060593824006,0.11154435982836212,0.02568718405414713,0.0326378358177816,0.7127653044371876,0.6329924071961949,0.6133253149902622,0.7091409528448617,0.8020364795076899,0.9013954056402637,1.0,0.7295213958393043,0.3233403298263318,0.21671369402306626,0.6352169892033517,0.16099313355388586,0.21047695307881542,0.12812902880830443,0.41665682380457547,0.6440966722693852,0.6367656793100871,0.5410788497552734,0.530812654930652,-0.013042316060646375,-0.04845276629167544,-0.10923446219609066,-0.14889486581266298,-0.17502543367114487,-0.19626767825418429,-0.2099265394454046,-0.2186228419676947,0.21445437698564354,0.6917527428805614,0.6352995354149783,0.6352995209338032,0.7488271467727904,0.8573916795560553,0.666513811250259,0.1922668688208764,0.16082630854929164,0.76293537153783,null,0.21282276466007646,-0.002585244680544477,0.30028505435572145,-0.0009772651542016848,0.7230150300008126,0.0943364200152358,0.49850968293478576,0.17400447357129561,0.2390194739903876,0.09791988850438035,0.20217772254124938,0.2527530038303373,0.4398386743140654,0.8240598915469525,0.8211411401450972,0.4947669208177742,0.2936575086804564,0.18095412559060517,0.22684839334135223,-0.0025742281842649458,0.13030245077330013,0.6352995227404546,0.14384815212842442,0.6583419021231223,0.5099530032735294,0.5029082832894157,0.5097738617902124,0.6443573323177822,0.7987992719489974,0.4168014724064226,0.10936704139841665,0.005978012506078676,0.008079970665400548,0.24467061554868333,0.28521715791877306,0.6320589581460468,0.3880781296658778,0.056844236606987474,0.23553943714026873,0.04417233183810119,0.08236601349974769,0.6785847293168235,0.42217513014799757,0.15132074517806016,0.015374683991469195,0.03659958351760416,0.007438548974812093,0.07397015657504064,-0.002891885892375533,0.013464651562077627,0.00587984032818838,0.005355421782363382,0.6295993074122282,0.7778919354961011,0.7519576872411122,0.09067429748468314,0.1899296713351422,0.6650448191627428,0.6494953635570466,0.46473629255106674,0.635339950725945,0.13135128588221873,0.16594058060196792,0.0006902674409270443,-0.0011039680028798922,0.47449764689419205,0.6040145854523865,0.6770234592043717,0.5253703479249985,0.6425612384081855,0.8115061333220969,0.8111154732613631,0.7932999928639326,0.6773584610272353,0.5680862410586869,0.3433356152540342,0.6626253958058278,0.3769940841913635,-0.0032082141245863747,0.0009903020011733667],[0.6216244444952448,0.054390982179947964,-0.006386244379215007,-0.002213423974886739,0.004131685072669499,0.008106402928263068,0.03137979881418147,0.11658950974490263,0.22950695124089102,0.34019920540829646,0.38405172789831943,0.615246313539151,0.7183645485695987,0.6248750777631736,0.34118323347543145,0.07824515259068468,0.6133979650169081,0.18371592123705982,0.10516066721424187,0.06019298410744793,0.18978059202336953,0.19673532956580705,0.598896806462717,0.5715261637600308,0.5649406096392787,0.6206989745334445,0.06919234623733546,0.020590620466856915,0.08300314851721502,0.0263962149075489,0.1394175443671808,0.12405809900691595,0.006182375781866802,-2.7890771226327042e-05,0.009672777607119631,0.020816537919556285,0.10747283871729903,0.22487233134062276,0.5656673006019343,0.6453597440952242,0.37054906516338193,0.1017262878260565,0.24843798611801376,0.3441625278898691,0.24258318240262913,0.31689663657113626,0.6785640350075842,0.5877500448619767,0.07595864913281018,0.12015522074280549,0.0384946197648777,0.08586247439714235,0.6408896267145607,0.6303424466801868,0.5891922027826684,0.6530932649830058,0.6882880721300477,0.6705013026026069,0.7295213958393043,1.0,0.5018914511663727,0.25747269457561067,0.6010072720291256,0.1773860339678462,0.2346899943321891,0.14010781871362052,0.3324141470016613,0.6120021609209431,0.6265364600473937,0.5110525024381254,0.5426535883287084,-0.0037734225193612803,-0.04120285071363635,-0.1025483266760777,-0.14674295188423953,-0.1705003035844039,-0.18938385462738996,-0.20477580166665937,-0.21156088396288972,0.254959108191359,0.6224042525818752,0.6000862270497855,0.6000861933347446,0.6986540382465877,0.7989910235619456,0.47824079694549554,0.203130949420531,0.18166392985893476,0.7079349709822433,null,0.2520140678856414,-0.002233212618866792,0.23873984432068415,6.395528883677896e-05,0.6555230066132354,0.13172774117247443,0.526104567005078,0.18250078239659934,0.28663102830702697,0.12514508505397806,0.2750912145106483,0.3344857054447104,0.4664792043327263,0.7032254936739506,0.7402580409906625,0.5204014912006737,0.30246602317363186,0.15717379946636775,0.07965287531512541,-0.0022213331937075914,0.16279937547418627,0.6000862158445986,0.13251991931328336,0.6256618093819468,0.490384174648963,0.5254140966022672,0.5443214536547417,0.6183080012703036,0.7128553517998821,0.39086650537222584,0.11399026499989519,0.011898871079612777,0.011046696043530006,0.2661070973265069,0.19887846839493534,0.5501224106731591,0.34700848561681025,0.030669705441969935,0.13344975260443373,0.03782872745383026,0.04906692413050301,0.5814160530376965,0.40303047215379034,0.16858284762777098,0.015788188396977286,0.03723619212015263,0.0071494435250042745,0.0786350217323342,-0.002311357926289537,0.015926060931375337,-0.004811061331483756,-0.005913150202009792,0.639341907064408,0.6627523171304409,0.6341156829577194,0.12528459650566542,0.23844534311416285,0.5870967631561933,0.5749714611850327,0.38784500611239925,0.5192676578051175,0.1682185018033027,0.15305689254082466,0.007151236846710434,0.003766322553726135,0.42964733087744594,0.5664490438653885,0.5995354106946555,0.5630281778072224,0.6079510232983395,0.7188147680447916,0.6847797582105969,0.6635538573548526,0.5977843354421243,0.5191386660655491,0.3667046689646347,0.5062733525834882,0.3095955438498367,-0.0009245119459583944,0.014781432476317975],[0.4375756118366235,0.05585568921126956,-0.033632224397866485,-0.0006358470822815545,0.022890076142745748,0.031822335000347424,0.011004632474714149,0.12193286466994989,0.25665268719088025,0.41393124992850017,0.47218846332835895,0.5003122513868278,0.3378103008586138,0.2837230474000667,0.21282566538226408,0.05992904160524932,0.42388653448202457,0.11090505549566566,0.06923757139255475,0.004741066204254647,0.2497003353634604,0.25415422460104053,0.42131144309461394,0.41785689286794475,0.41971320538841284,0.4045517646364141,0.11839083649406483,0.021326462494165872,0.0498416860766756,0.02279812965059318,0.07549129880843246,0.13313334193648477,-0.0007537371134776555,-0.0012602002438248465,-0.00042908654084606636,0.001265871874123643,0.011983180973359209,0.048403217752547675,0.25846762479072616,0.4701538662434442,0.39118526645890606,0.12881920044065615,0.22916479711592788,0.2957844011394877,0.1765960573153863,0.2726241425574163,0.4523276296451962,0.4072041552770328,0.11247730222444524,0.1567923943037169,0.03813004757279909,0.023768053773944735,0.3956868026713316,0.48268011342430617,0.4926196144174065,0.5012985632381258,0.4772714302937174,0.3942871223286944,0.3233403298263318,0.5018914511663727,1.0,0.3906772425037916,0.4349805387737607,0.20002079541482445,0.2462248036564401,0.17132680799546718,0.17314820070414771,0.42270141502679104,0.4233880942056427,0.39078143690553485,0.3941035863744733,0.026931604922935126,0.006731451865658402,-0.032508186332670164,-0.06176273130939363,-0.08573666551397525,-0.10234315176741042,-0.11514013823552136,-0.12031927807985796,0.14251093486347666,0.4376750873739142,0.4328557843703239,0.4328557611498275,0.48163183288174966,0.5033061137950552,0.1875313771899904,0.06265044177906759,0.07446827366223327,0.48015835991881756,null,0.21558173164596417,-0.0006586367585561862,0.28730089281868176,0.006300018274259501,0.44379368123605173,0.15264029101540144,0.4038532725598389,0.11195289695024466,0.3142954517674774,0.1179087186716467,0.32154092055120864,0.41574036477318144,0.4630105895870766,0.4385883923206458,0.4005040410208771,0.3498240498807202,0.267055825199111,0.16285367568615536,0.042135477169546603,-0.0006484316376514629,0.11141196841826398,0.4328557792101628,0.13235272240760035,0.4071840919650029,0.32640748055769386,0.45868951534562236,0.40272364180213455,0.452091221094776,0.47629721905903766,0.22422407712137074,0.0827512939717127,0.01260900510233305,0.0155032686601427,0.2796751920023556,0.19308178984490226,0.5264294752717573,0.4919161895550132,0.04174131036411602,0.1152647308406706,0.01602526573010327,0.0012015281048064434,0.5408530884297376,0.35747306448131194,0.16157222671221064,0.023074687191724612,0.047821578201382206,0.014523206289851869,0.13882710209688828,0.000446318786091821,0.029115870771824894,0.000942213099480619,7.325604006010338e-05,0.41543939279151987,0.3064819643066797,0.28063478199431224,0.1647314833525708,0.28835817927473345,0.406320292920111,0.4032321916154724,0.19623701297755924,0.22985355793577733,0.2592447409737081,0.28948398639362133,0.01563589614272571,0.01575790056290507,0.2882959495415593,0.3632398511771101,0.3443885632031392,0.44835914091587475,0.3782076628762463,0.4339792682604643,0.395580989717213,0.3792791167272469,0.3862862949859786,0.41806584282257686,0.4115330332804091,0.18234820783670636,0.10234623756788817,0.008031675458916409,0.0079124461403235],[0.3784668739920805,0.05163367899991024,-0.022478079347556308,-0.00034541707218964965,0.04532639929072977,0.056898206289781206,0.010985678092814371,0.17429194517701985,0.3775800394638066,0.6025280277528635,0.6685993088681145,0.5040757348611732,0.17477687939272124,0.10435962257165775,0.13374993455728065,0.04292696866991931,0.34849107527774975,0.014129599708179012,0.0037211217616915024,-0.0008201574083282645,0.3372332731422171,0.32615441648223514,0.35582863124361724,0.37551883427775945,0.33552132457125233,0.2626965952945797,0.17581659944547354,0.03615935874200943,0.016624926217492956,0.022878828509029298,0.13929039314658204,0.19688481032163607,-0.0026095696021029187,-0.001931060404698279,-0.0024536803051636636,-0.002949775248207502,0.003834728487469138,0.007852813075984382,0.08317056458740993,0.5190907832425077,0.4231423732072261,0.021189577337386533,0.19375220800695156,0.1934082307675747,0.1188037513379968,0.07081167103107927,0.2334547244976355,0.46300123137530946,0.42567473450152704,0.6766553923064886,0.1448158987713952,-0.0010942959669001055,0.4031466757356544,0.43795833189052985,0.4833562672492288,0.4907239515131935,0.4595656421998743,0.3453626224276674,0.21671369402306626,0.25747269457561067,0.3906772425037916,1.0,0.36663685700920395,0.25986021478948895,0.32103011682576427,0.23361731742688782,0.07750627232293812,0.3489029199249993,0.2998523019642899,0.3537091934952656,0.27843743862403897,0.01781231282852159,-0.003479623929782996,-0.03531714205540022,-0.06050402556205493,-0.0810543890892305,-0.09681314670146858,-0.10848169284376112,-0.11660812207196418,0.09864232482308816,0.37874050194239883,0.3655337957336049,0.3655337703773346,0.3851372272293379,0.3604280892605159,0.035031330464907105,0.03832765109319305,0.05365160739970232,0.37293478771736777,null,0.3119165168992278,-0.00034423811553366344,0.25244793872600113,0.0027232584313477406,0.35053983005929235,0.15409212101323486,0.3020479356380638,0.06704251739644287,0.40672138128921753,0.2396347074023239,0.4087416660981378,0.4564419357366877,0.4315032071816865,0.3843655891639758,0.285293454551215,0.37270454193007607,0.6177491478228448,0.5454091464479647,0.14546804180487624,-0.0003386051119567742,0.10115657781608789,0.3655337849065571,0.11648648685303849,0.46700659461382366,0.2791175902095622,0.3675032124684378,0.35228535870317673,0.25530470337636346,0.4929228364619957,0.4020521762339982,0.14119003119665646,0.010648576500572575,0.0057827968849811125,0.03965247413842461,0.17261570512908092,0.36723580567365194,0.3829131752451198,0.06982887098708657,0.10881821779743081,0.01531226645340047,-0.007307084759020454,0.36950085174404734,0.27833847822949237,0.21099380642404655,0.03305927511443577,0.1341476296193675,0.008236472297583253,0.15208244824757902,0.000273474137516276,0.10095110581055852,0.002733188780336614,0.000998026532965766,0.27101622474077997,0.14866016956238123,0.16873625077694485,0.2343007995865624,0.39316092567235456,0.32263671710102904,0.3250446603808291,0.09211309975467832,0.09232352840856546,0.3894807450572239,0.26368619859812376,0.012122823700027064,0.017026957554456768,0.21786581711741815,0.32629025000927925,0.2821262593927418,0.3875041212656645,0.26546310554131225,0.39663561402460296,0.39156863102431966,0.40274673354254087,0.3658034718944464,0.4537202087699978,0.5465565303895256,0.05082698117582249,-0.0017061365318851998,0.009772089059478519,0.01600463293082823],[0.9148403964779744,0.0926370894576696,-0.034016375644383014,-0.0017811591903304639,0.05240139416062355,0.07757527555239938,0.021185331501561523,0.12583558727230118,0.27157694038827723,0.47935112127923124,0.6030349504807924,0.7883281219319748,0.671840618828309,0.5159950475086718,0.2981495235835436,0.08477956660987437,0.98337873073637,0.21722999582750965,0.10139989742799738,0.09191211992677566,0.4984530699760122,0.5063879031468878,0.9881595356951087,0.9774934525223162,0.9392192297199232,0.9083420662567294,0.2387863891042694,0.07510883699875681,0.12667573803235035,0.05079763684999981,0.22469769198160705,0.29625143248771524,0.10988746638962356,0.09119246826913671,0.13456012806616213,0.15472347030623299,0.16283620223485587,0.24871027884438435,0.44232084214286577,0.6542407334953299,0.6193653571158833,0.027159570167302118,0.31781860749101787,0.35807156661402306,0.2253856844838269,0.21667516277588988,0.63877772755327,0.7369771056265394,0.18265615876804497,0.19122291491472537,0.07234428280183411,0.03497645633424789,0.7347986489936071,0.7854520143332399,0.7742904352106966,0.7853031249942627,0.7750560105891288,0.7159412272904336,0.6352169892033517,0.6010072720291256,0.4349805387737607,0.36663685700920395,1.0,0.38103151772423477,0.42596270766426303,0.3610353262604211,0.3670914631056722,0.9833630372651825,0.9499005585489931,0.8760060072748607,0.8751240591043646,0.013503733794168008,-0.04588724085887653,-0.1407403781956897,-0.20909858047654092,-0.25581221911843716,-0.2928181330399908,-0.3188304177135964,-0.3338060526191993,0.3188120621991849,0.9166683394552028,0.9999999999896213,0.9999999999999293,0.8610599237162431,0.8095079134498074,0.4206252139026681,0.26256853324781837,0.21772841761821413,0.8564347048666723,null,0.5419866626184131,-0.0017873887669887835,0.41503861867977754,0.01992341284963005,0.9367504975937517,0.38864203260828384,0.8047338045850544,0.17909911832780936,0.5391464011522195,0.1484670823282466,0.3677766652952108,0.5222598511625223,0.675922477871827,0.7815975867914084,0.6980077584698089,0.4849571693619909,0.37906362631100426,0.3123985616321363,0.14678332776629827,-0.0017761916297927742,0.20093533275955652,0.9999999999986939,0.15024724340285497,0.6788583768581196,0.5564359615382516,0.6201268659381453,0.6796609193328232,0.6625507324407913,0.7830914832726649,0.48045489391991525,0.16363187749663866,0.02177610201785291,0.01651763944733597,0.14052664583428207,0.27311319052390337,0.7436852455320432,0.6405193515012815,0.07150916397826866,0.15822138148473283,0.033229583086878504,0.028516231486941497,0.7615651296048785,0.6955842950961965,0.3641148643072238,0.06971266957819101,0.09823208565894949,0.02850103477241276,0.28410817969118296,0.003140130748149104,0.06482169849936813,0.02592682131269173,0.03398605772312599,0.9018265685978446,0.618045245353561,0.6183774140742355,0.27375828351367804,0.5085131090905888,0.8091090671241038,0.8029410446719976,0.4699668948480193,0.5227556812084655,0.5325860132536794,0.40503464831544117,0.023853923897904025,0.03102197224880378,0.5600577749943957,0.6993971254847515,0.7076530258589055,0.7024649885176091,0.6398834797889631,0.7404685312918837,0.7069795646388737,0.6624276248330917,0.6530077198711807,0.644316302775182,0.5265647134755952,0.3745786637426793,0.17929955876008769,0.01822123096425608,0.03178859740899052],[0.4101764621365069,0.06415067915092158,-0.02034061930843305,-0.000595431274309425,0.07872295733848671,0.15035065930903643,0.0012149674536570529,0.05318395494784569,0.178672716411348,0.3367421724000425,0.41240105143242634,0.3768118718639562,0.14659305624735894,0.07111524675531297,0.0457619506006979,0.012620918347791568,0.36320639383125053,0.005969464381829679,0.00098841444952853,-0.0007040189940935703,0.3371641296341046,0.3334533284840427,0.3709711372999549,0.3899227133501003,0.3483656489350428,0.2646897564747565,0.18371174552789044,0.05355170595490606,0.008039698508816856,0.007872244020804345,0.10029370876215334,0.20754462599085288,0.00022349267934556656,-8.800981224686842e-07,0.05952088546403003,0.05128373931304877,0.06004629766827721,0.037801821844193194,0.05602671828474126,0.25769114720105235,0.36843754593308514,0.013991278751661302,0.09745288735890455,0.153543588259474,0.07835337117141467,0.028631487242270583,0.12628536134296836,0.3532673982429819,0.20504597011358525,0.19544731131090776,0.08875230250779124,-0.0007843933690355285,0.27126302959208753,0.39819916405271977,0.38503646004182257,0.34471250931537933,0.28684960439142726,0.21811683413506305,0.16099313355388586,0.1773860339678462,0.20002079541482445,0.25986021478948895,0.38103151772423477,1.0,0.5558675039268229,0.6475940886516951,0.10203991363032917,0.3633174625041473,0.30257267196492965,0.3605985278106789,0.28429108954173793,-0.01034899488889023,-0.031155778513413293,-0.06768575651935169,-0.10011457121002305,-0.12451573132224475,-0.14718234103208333,-0.1625447331474205,-0.17163979305785687,0.09653638807965687,0.410179672358401,0.38110472989335525,0.38110468617676535,0.35268263011488893,0.31068123464268366,0.06041458214119592,0.07030692865541865,0.08208398345525977,0.3394591165309614,null,0.36651597797702157,-0.000596258304473017,0.22822973631165536,0.008543193394895834,0.38222021623923896,0.1703210962102911,0.26907438338840645,0.047763511291097106,0.35993439115896836,0.08254593146515632,0.25850330663416804,0.37692551385801576,0.4103257546677322,0.2885420777957894,0.17232989060534015,0.14128137925260514,0.22162682098950712,0.24953706852743765,0.15176196596087138,-0.0005930082516639953,0.10611295207019261,0.38110471680296304,0.12281390656592245,0.2684992152640632,0.2775734981662139,0.2434432030298897,0.2354933070691683,0.2913059325278658,0.3168133465666968,0.18662664852930136,0.12147998445325345,0.06305935016827033,0.016705509462153826,0.01913242710304474,0.06854718493123234,0.3840655521679779,0.5146000777955483,0.03076113863041216,0.022638856919963,8.353378248168237e-05,-0.017920302583382074,0.36756303898372145,0.39007183063421874,0.3799450241215914,0.046139053429204054,0.15812927289405268,0.0008665962277176345,0.17342714136133058,0.001876736991093121,0.060457657829646176,0.004764531335372613,0.005033938496063564,0.2701934830647847,0.20862836862130396,0.21420443433262118,0.18890865411994445,0.3833226616891796,0.39565307634468533,0.36491603387004024,0.16585761651027783,0.13174404095900222,0.47355483696795625,0.2910803485327579,0.04365748856873248,0.04462804521522771,0.26559620456055344,0.28597219814061403,0.2975316008457261,0.26603637049072887,0.16960800315415833,0.25957711104947656,0.27359250920931416,0.2753528499784127,0.34354777709849516,0.40238852279370385,0.31795460428686456,0.04259962355117551,0.010144858059931736,0.040584378747993186,0.025108403055145976],[0.4696032262294064,0.06652202851959399,-0.014577240833331359,-0.0006045944358731128,0.10156599445743489,0.1609421162703171,0.0029887175679685707,0.059218940092247124,0.18566139799530124,0.35405080858476934,0.4463615599528778,0.42248014946528134,0.1937663854734225,0.11015104796812283,0.06308382143785647,0.016296742245632587,0.41325083162043696,0.017626905819968428,0.0012603710097931684,-0.0007859385600717039,0.3449856935389911,0.3403170908762531,0.41646550233602897,0.43310782324541475,0.38943213463421583,0.3118947087666475,0.16909645068314685,0.02960278498205704,0.015046924226944078,0.007802592537278676,0.09953768591690258,0.23524146325109604,0.007657411038640921,0.014060100392563632,0.02439492181759721,0.021998472096539025,0.027368657238980187,0.02472119098720625,0.11314274900590401,0.3231279743389918,0.3693274131514231,0.009894541578881475,0.09661623374752797,0.16437263889685633,0.09219391245770854,0.04703386157430075,0.1929038206347772,0.37861929847501763,0.2304958870182153,0.22700158893924946,0.0836670016320148,-0.001185288207787455,0.31169837268215084,0.4421798078719781,0.4340084665754474,0.3956922630437902,0.33851834537956654,0.2691645675360926,0.21047695307881542,0.2346899943321891,0.2462248036564401,0.32103011682576427,0.42596270766426303,0.5558675039268229,1.0,0.34826679865567733,0.12964734210236045,0.41326524478059384,0.3506710405995326,0.40518666797202235,0.3155176178707509,-0.0178412586229726,-0.04197785455964338,-0.08441240845499635,-0.12122871266661656,-0.14901349202147485,-0.17291169680076598,-0.19089264938487188,-0.2004092265768833,0.11357328869367984,0.4696068888070212,0.4259828874011184,0.42598286306407,0.40268979162615176,0.3648963394062446,0.09981468040121821,0.0948765784835599,0.10204161701693891,0.3885578750713439,null,0.40056120165554265,-0.0006060395968893608,0.2559076285182428,0.007123920057950997,0.4344208396057514,0.1549206952502639,0.2995938799464997,0.05174456648046413,0.36257517083191043,0.08731282347597585,0.27057213856130397,0.40250265386058837,0.4247924014423823,0.3294770335473543,0.22605597701894098,0.1977160717410074,0.27234909692864906,0.30310900254500006,0.21264551698651646,-0.0006008185520332825,0.1392002851657115,0.42598286918956957,0.10368269532332507,0.3132292157084917,0.3281354484953557,0.2445095119924682,0.25538660301955607,0.2846049040084336,0.39059300687575715,0.23934721986354754,0.10139509476612993,0.03524419301395855,0.008316848897792162,0.0289265564880725,0.08743042210120758,0.44705922545575233,0.582486397265441,0.03762631131818423,0.02752886227395533,0.0019090782421484005,-0.017011033136130647,0.4259007283722593,0.3959397787270615,0.26441184496317216,0.037538724296047994,0.06822158581333843,0.0004062777019861845,0.18991249294067675,-0.0006641255433348746,0.048322251026346116,0.0008575092012833848,0.0021542156842538954,0.3171209972310805,0.23954501240194825,0.26756723438350793,0.22925104908839128,0.4081721251060405,0.43487195347854135,0.42924231531473744,0.18612162667532375,0.15893649051216135,0.5028811069490075,0.30404314709103575,0.03942580038080441,0.046817142122097845,0.29933988229606356,0.33434482405559374,0.3418836683923496,0.28429995307015277,0.19911097628642999,0.29549134841286334,0.306363535318393,0.3108404576917637,0.36553777753010314,0.4713890649362233,0.41199073036863887,0.07470704527679647,0.02279790336937883,0.03769118059926114,0.030667525780156777],[0.39070313854710725,0.0724244483716782,-0.02279978064511846,-0.0006240961420247367,0.09232110687006731,0.12927105931079233,0.0009171109634133185,0.019333140568058103,0.10165948504456956,0.2760740154459649,0.36050601245354547,0.32329311658788357,0.1268943186045457,0.0672570670596172,0.05175738477498708,0.013574140759505145,0.3410641356308147,0.012507220250529676,0.0006244438994693009,-0.0007999481180305427,0.3727573212989939,0.3757436299515891,0.3417322039429167,0.3611223125231174,0.3473153857949551,0.25246517573192545,0.19821615120397623,0.09140611313343716,0.009775356178702874,0.022384979232868096,0.09255246463303118,0.21848417494429515,0.002378678547781847,0.0016370212534227782,0.022074594457080945,0.020100128342900266,0.02444938567951947,0.01847698528982049,0.05220496991122699,0.24750372584324246,0.28402176004461105,0.00855341271048616,0.10480727325931745,0.13859838414252734,0.07477135084986185,0.03208422457532605,0.13807535283342257,0.2895490851579283,0.1709965680834625,0.1457449893660088,0.07226566052948849,-0.00045348688608183764,0.23027483469711565,0.35011063256512964,0.34068030341567007,0.29570651308185325,0.2437585309041936,0.18259871904323238,0.12812902880830443,0.14010781871362052,0.17132680799546718,0.23361731742688782,0.3610353262604211,0.6475940886516951,0.34826679865567733,1.0,0.12656424256161583,0.34116068643402614,0.2862673075847466,0.3674648201255939,0.27664287024457856,-0.007618775799387035,-0.027606836865058253,-0.06356556795548152,-0.09471681195290681,-0.11721365849014713,-0.1398345470231813,-0.15577230460013886,-0.16348142563281545,0.09617071068480382,0.39070813899218626,0.3610677680316239,0.3610677299134098,0.3254756305919875,0.27333182323128496,0.054968284929838476,0.08290792536593355,0.08019741791002237,0.3078690708118567,null,0.38608259903771397,-0.0006249071478247025,0.30644296022652395,0.002156669862290204,0.35912392143170246,0.14732768725883383,0.27014891102463395,0.0369685672915381,0.3267682527272251,0.04221900161314261,0.2002850164905291,0.3467315584077859,0.35203695055269196,0.23808036325534762,0.1510653469231497,0.13942074887690534,0.20643926360533107,0.20451673714809918,0.15183892515476954,-0.0006203576879351394,0.09966487519842658,0.3610677527492565,0.22697169498029565,0.23337766807295132,0.251947530994279,0.20572817790479728,0.21084477392951664,0.20980601128926277,0.287273484177729,0.1713765765962183,0.0747628270812505,0.021166028251513813,0.0016377406797181023,0.024862310849890365,0.08948327079892668,0.4211661622929284,0.5732921104234483,0.027096697945501454,0.025714739229244304,0.002515646351849461,-0.017607321394776002,0.3948910872529921,0.38471295377219433,0.34087467918574693,0.016221857933465263,0.09572216598211411,0.0029260119815310067,0.11064536073160444,0.002875890549545211,0.0657039786250339,0.004643751270386796,0.007394198460699567,0.26585717643453627,0.13849180894631907,0.1730636648425282,0.23250082473158204,0.4055747768400928,0.3442288789342893,0.3509647058248969,0.10467705034262835,0.0974206870505318,0.5500995793268054,0.2355540503178898,0.03228340582071217,0.02650576917182359,0.2467915090702317,0.2970121040818422,0.2795942380450311,0.23472855151744867,0.1407258639223945,0.20490742948038232,0.2233127368142091,0.2098191866411284,0.22755946358526874,0.35097349214038315,0.34402957709226234,0.031000607778328696,0.0004811011942018279,0.03138759743334848,0.026628519296972398],[0.35506889042388795,0.00806361217885684,-0.04466610515469415,-0.00029182301744681084,0.005245000478380061,0.0070562950159101055,0.00023351254449701338,0.01177326773036191,0.059199672506399036,0.13150308133015418,0.1720329383791309,0.32942953863355173,0.41997964242983576,0.3429356788665942,0.1837893090138484,0.08795044669024307,0.3726312761026103,0.1603475934926979,0.06275337081390829,0.015543375046566046,0.11741851861981288,0.11973082511508822,0.35898382652168126,0.3389382641773571,0.36448504898738526,0.3888544590249407,0.05863825906171367,0.03776825977111014,0.07744923668357269,0.0429115273388596,0.10367759654586572,0.0950816546654976,0.028766234411031252,0.010697503123013008,0.01909167362489974,0.024136307799157847,0.01804306430483317,0.07573785433288883,0.3239250619985207,0.31752471958851675,0.23110259971156613,0.011279590376316477,0.16658889939620428,0.3072835232200397,0.19493866774258023,0.1398681017314947,0.3521866249910159,0.33408318672264287,0.03317926942319,0.028385724997477393,0.008916280034873575,0.00630336950676806,0.3760365139035671,0.34988387783795444,0.35510017235504837,0.36739735750469377,0.3817189139463142,0.40790579461173754,0.41665682380457547,0.3324141470016613,0.17314820070414771,0.07750627232293812,0.3670914631056722,0.10203991363032917,0.12964734210236045,0.12656424256161583,1.0,0.37261857940205617,0.3974619316101451,0.28915564879794015,0.3853513389057999,0.006662859484561097,-0.005029052558784648,-0.03467567279226565,-0.061753654826554254,-0.08155632947027391,-0.10121340628531522,-0.1200726192211038,-0.1290476657465723,0.10954906059135439,0.35536755800041225,0.36707706185054884,0.3670770254837779,0.39756212980934413,0.4264408913156155,0.3958207934217938,0.08568976108405116,0.0726091419329018,0.40488898931292194,null,0.13683197820811907,-0.0002918759680632147,0.14048679798577055,0.0009462162357232572,0.39042191069779436,0.07969943036321996,0.37475067204571494,0.12980876373077832,0.2241843783792667,0.058381206783985284,0.11144121233837637,0.17182072397495476,0.2690705214086919,0.4095441095217435,0.3978048741916288,0.24045431541887538,0.13648861245211247,0.08147071441774698,0.05997320009386038,-0.00029175554767566934,0.10380830758754966,0.36707704412259157,0.034449998951116424,0.31781468041591004,0.3929943141232687,0.330742992471178,0.32387549296591545,0.40296187293032737,0.358367848178628,0.15961391181701856,0.03378860615470998,0.0005961139704746065,7.686490625751856e-05,0.0576338921655268,0.1294510130689819,0.16118807469382887,0.12911391328919541,0.028638673888963736,0.10147242879568759,0.015774258475228745,-0.0053945995806275555,0.18608391359785909,0.37054942996811996,0.09524176515838918,0.0012825819654818309,0.019846737677354377,0.0049207293161005975,0.09012836515384733,-0.0010122892622137537,0.0018764551114862557,-0.003694759459995619,-0.0019798330968581086,0.4071957559041519,0.360684462757994,0.34513899763889694,0.12795768343673586,0.19796218611114758,0.4249885394254235,0.4193210069782266,0.2610329333580256,0.37472625756467876,0.1740561401594794,0.11961307416304669,0.007124517210498201,-0.001055808648417291,0.3439672202401417,0.29951222401594635,0.3235117414608515,0.3432786437573894,0.36208223182363225,0.36359129553371355,0.3432150727676752,0.3215779724023446,0.28255588075614085,0.2445338184882303,0.2107141014980174,0.24892511063037528,0.13204164304546503,0.007139682692211321,-0.0017312886410172667],[0.9078842247487899,0.08631839780277066,-0.041231608106795055,-0.001944808804176234,0.04775390972583284,0.07191615618261382,0.021023946912907914,0.10182179812003174,0.23044176598279836,0.423831514834277,0.5558856645124565,0.7698799028960607,0.6877690718787642,0.5316221525084566,0.3049372825631868,0.08338841720411574,0.9999999999998178,0.20994449971291193,0.09149643616728007,0.08013077113731393,0.42931315921141533,0.4304189581410878,0.9883418818718729,0.9740852259938906,0.8922572061717197,0.8974375759652643,0.21769510837166747,0.06392902193621033,0.13678201587053668,0.0504105386263767,0.226552315468596,0.2860362132049409,0.10684762267979046,0.09221075627664109,0.15182981783061705,0.17109687134133647,0.16847479842185945,0.2472910402155298,0.45713592738654496,0.6393304932801159,0.5901842918665204,0.030833643014742028,0.3135323568480309,0.3448530595643531,0.21999378297610855,0.22380811103938744,0.627684053337191,0.7232809285616253,0.18216708803761117,0.1870660344472214,0.07307746437879241,0.04678574334291654,0.7307080777693514,0.7582501640250755,0.746637474938258,0.7625093566480623,0.760546845952665,0.7134458459417257,0.6440966722693852,0.6120021609209431,0.42270141502679104,0.3489029199249993,0.9833630372651825,0.3633174625041473,0.41326524478059384,0.34116068643402614,0.37261857940205617,1.0,0.9532117662410347,0.8303228956422872,0.8327325947701758,-0.007020724489470864,-0.06368064263131382,-0.15962883206360912,-0.22770017977716467,-0.2738174772975181,-0.3103453634053867,-0.33545387112737557,-0.34913973792078545,0.3079354436107373,0.9103427735942337,0.9833519772993359,0.9833519914067552,0.8438681313170722,0.8050239676621265,0.4491725710207567,0.25671592128485565,0.22792478988389575,0.8439389859892157,null,0.5263764901017945,-0.0019515018781140724,0.4204684635050945,0.020808120841744424,0.9310693883038569,0.3553258191141268,0.7793851093595028,0.16655266790474418,0.5005645153970104,0.13291649145546133,0.3222339063414794,0.4704838036227396,0.6386214945518944,0.7742768988442962,0.7059238689661838,0.49374069720964153,0.38871215289793304,0.3210058497672809,0.14700776991438216,-0.00193958574938901,0.20358161691962864,0.9833519837629797,0.146205522696482,0.6715925645551221,0.545237979010388,0.5916547393932171,0.6501763227300433,0.6452481250064414,0.7756156491966291,0.4941005773201965,0.16399187947209234,0.022099831492306335,0.013602076392064521,0.14862791282635296,0.2752215444285562,0.7343019264557457,0.6125370647822609,0.06769251956108709,0.1785448769544439,0.029144722082619732,0.02713039253004797,0.7577749473229817,0.6719599490174415,0.34689413427614807,0.061739326621123775,0.08732720498962433,0.025892890466791954,0.2640292158698362,0.002960333882860141,0.06231668000484758,0.02491259096968619,0.0327384796394462,0.9027601407255258,0.6451310834061275,0.6350643240926462,0.25518708699558657,0.5066625019227163,0.8140981317217723,0.8076116594546654,0.46926476549650187,0.525790700350624,0.5070952239948172,0.41105523817865247,0.021338725859541458,0.023162667215498284,0.5810310025544771,0.6845202938497691,0.7012725606807,0.6693819017660093,0.6396277802378608,0.7385364280154776,0.7086820316866387,0.6645689122960546,0.6279808293215281,0.6208019194726017,0.5159896122529098,0.4037949873787995,0.20069214056601287,0.016429127883638917,0.025875848033916182],[0.8370997857453681,0.09073669016511138,-0.03866317526170827,-0.00183448898855819,0.036054631335249034,0.05587536709543733,0.028240556494405256,0.08985808875461845,0.217032255594097,0.3904450722354853,0.5171404155150404,0.745709025380007,0.6998329431116983,0.5763212803087789,0.3626018364491968,0.08482992272391908,0.9531970429167216,0.2936553711186878,0.11799575325607563,0.12404374641868553,0.37084264087058183,0.37796015529605675,0.9329339505867362,0.8946424839974142,0.9245290667872135,0.9633335664873479,0.20354991388927918,0.0496187679353862,0.14818344850923362,0.0428249361280037,0.23863556619252999,0.2807089946242875,0.1103284344158525,0.09878459956005417,0.13083124261850923,0.15291852476823317,0.16024733969815805,0.2613163740292544,0.473362177397123,0.6393837120449609,0.5552298891426415,0.04978493744864048,0.3258379215048755,0.3584762398528319,0.2383284537550725,0.2704091826374605,0.6502278539332527,0.6991852896858632,0.1432842634902245,0.1471597303574919,0.06690041177476613,0.07513315143790132,0.7499951621489548,0.7424960742240158,0.7082008601013603,0.726481112919097,0.7322102736745836,0.6975351625202246,0.6367656793100871,0.6265364600473937,0.4233880942056427,0.2998523019642899,0.9499005585489931,0.30257267196492965,0.3506710405995326,0.2862673075847466,0.3974619316101451,0.9532117662410347,1.0,0.8078931710160243,0.9059136249009944,0.03666654290806203,-0.02300943170253072,-0.11160230500016519,-0.17498293849998817,-0.21847994340937618,-0.253721195445619,-0.2801092751532176,-0.2945931658019484,0.3260241348543575,0.839252994115911,0.9499272910628184,0.9499273057532905,0.8216992214134524,0.7832080675501825,0.44996618478140343,0.23763640434908054,0.2023441379373402,0.8257836455737885,null,0.4848264712814549,-0.0018453787902011276,0.42403344702489076,0.019532351843383488,0.892927698543415,0.3630578727724806,0.8095985340719815,0.17737300922983976,0.4493324084082357,0.11826820460969305,0.3000608130525056,0.4348525723115199,0.6022612888432175,0.7573817802628157,0.728657120685383,0.5372293002720331,0.37416726271692535,0.2635711717806168,0.13251433626229694,-0.0018341214728030588,0.20459765512885594,0.9499273029338157,0.1361817503113779,0.670652397437855,0.5707590227446535,0.6445205032340294,0.6962296654252856,0.6736254919791487,0.7415492099512238,0.4484634907638704,0.1448647920931798,0.016548645738214254,0.012621290593225054,0.2086171231744605,0.3224178013833843,0.6937022750527574,0.5459631466607682,0.05958905569133794,0.21955554084568354,0.02978892494559804,0.03281272509528627,0.7356846114897416,0.6840645946987366,0.34426742878382105,0.06993544692896113,0.09476359265608356,0.031049285176571167,0.24389089822723656,0.0026926831707520145,0.04847690827980442,0.017534189274494003,0.026327422400128458,0.9744996814232438,0.5902493535781341,0.5833555337928604,0.22909079778104469,0.4567519379000215,0.7786588414802296,0.7760314352997533,0.4630765413642036,0.538807463450991,0.43624850586794384,0.3799460516293707,0.01828952058531356,0.020629687386241838,0.5457287431268169,0.6777254031801874,0.6950578943344266,0.7096817869761876,0.6994168626167834,0.7426008417819329,0.6828301536143921,0.629554381019447,0.5723988094229103,0.5438973201919564,0.45486902991704387,0.35589997061669926,0.17212666552272912,0.01268063502734213,0.021108220521883627],[0.8046639220452139,0.10807425087074544,-0.03608920328565801,-0.0007677443301764973,0.05407469810764569,0.08396009584244937,0.014409068078025469,0.07407952482155465,0.19942779276740175,0.4046528696161179,0.5388462082862742,0.6835544231489129,0.5540921211437716,0.4074077305318291,0.2171642045173309,0.0521940537589279,0.8303374947267335,0.1952347150993701,0.06838560817026429,0.05074596497265295,0.4520963226279712,0.46584262751518474,0.8276307499384024,0.8171524336792938,0.9167893508375503,0.773813241633839,0.25097862029035023,0.05446258490428813,0.0757927453950272,0.028717818196076564,0.16597940321827664,0.24895757296111604,0.09786309478619869,0.07460717753821511,0.10814956851212236,0.12597832011000407,0.14559404832781198,0.22018592084729066,0.3792590810313223,0.5589855602838694,0.5112140612061847,0.01568229634539044,0.27603503691355,0.3194658656914026,0.19677767936127086,0.19005742925693983,0.5410522263718796,0.619370292268342,0.17822336222384821,0.17601588360508383,0.07200849890651943,0.02392611706426125,0.5952521699080058,0.6771546021713153,0.6832751532465581,0.6807806976979506,0.6632421094533986,0.6120161925559677,0.5410788497552734,0.5110525024381254,0.39078143690553485,0.3537091934952656,0.8760060072748607,0.3605985278106789,0.40518666797202235,0.3674648201255939,0.28915564879794015,0.8303228956422872,0.8078931710160243,1.0,0.7355868239983558,0.06992029108320774,0.01358869175287868,-0.06647193929225428,-0.12590804808178072,-0.16607382394691464,-0.19917912059905415,-0.22352638577625944,-0.23747842790544257,0.31523670216168426,0.8055748195524444,0.8761074491915418,0.8761074216546648,0.7619686385172973,0.6955759929966734,0.2998716916560436,0.19942401946322488,0.16759325158954,0.7259654878675493,null,0.466196630475247,-0.0007714154313439452,0.3961711281056784,0.005681665817089862,0.8129386762142172,0.2208168827397447,0.6452768652003203,0.14245567638225104,0.5690695748027649,0.09764299944654171,0.2907502910100993,0.4622577433882468,0.593092545803957,0.661603265071955,0.5733361783671114,0.3937704058073759,0.3384005850615312,0.2968883180851921,0.1434621397652356,-0.0007619885367128533,0.1757034169964062,0.876107429471005,0.124706983842603,0.6251456428029231,0.515718070989475,0.49358200862180446,0.5343322181590002,0.5487701349414237,0.6834372413625642,0.4008539127193403,0.17106268882503356,0.037822624766069145,0.012062217353110038,0.09185334204650282,0.21000239042588537,0.6271124274992369,0.5919560256609186,0.08427608201477964,0.10681608220373745,0.03353944117829664,0.02337324264019539,0.6317143838218235,0.5628995845076913,0.3185388793969687,0.03975696963559722,0.05627088095038838,0.01569801013799298,0.1945570716793771,-2.4872969191238368e-05,0.05964500744730005,-0.0006847121563382977,0.0021484065758622436,0.7769823327065549,0.4653274344312768,0.47364342375930085,0.3327079969100887,0.49687566173719605,0.6823735838086015,0.6712128011838894,0.3511385624659116,0.3922584666806913,0.5747327207671935,0.3805085171180021,0.02738915595594873,0.04983915716704619,0.48016634364071925,0.6712104677199786,0.6480541163898267,0.5396995416263046,0.5309079125028455,0.6339321025708139,0.6143567660290418,0.570607179970447,0.5688220550759601,0.5772070685774839,0.49953049799615934,0.29481296034627097,0.12686794874151208,0.030116117242415662,0.0548264480104838],[0.7359510578418608,0.06946080894671612,-0.034866431600320054,-0.0012439941068924094,0.03386331084730808,0.04700966816449783,0.03356457540635921,0.13368830202059145,0.28729658106156813,0.4526031968262658,0.5218230352973133,0.6707647634117453,0.596213461138431,0.5164360463027833,0.3613230890687116,0.08095488633268363,0.833035433368451,0.4168349904304858,0.13066013044242047,0.1723482806832615,0.4673826610828572,0.4943192381650386,0.8132625084726093,0.7707886981803322,0.9451847737771276,0.9523268656859907,0.22716005088640434,0.06873068448202499,0.1468055121246801,0.052915580236983506,0.22248697121628705,0.25610553160731614,0.13813041167863974,0.11033964907361604,0.09708505389082797,0.11598529622058813,0.11672907349100471,0.2223636773994556,0.40241689067822684,0.5859716642248243,0.5333897843971548,0.03750694920099998,0.307222396390744,0.3502374750894648,0.23627375425229116,0.2751619102188261,0.60967618206259,0.6260980495741814,0.11589328233902024,0.14347861179776186,0.059258723047852305,0.04098212208223221,0.7012693398383602,0.682281121875649,0.6449331734053989,0.6599523572185249,0.6559026550564141,0.6030549104022241,0.530812654930652,0.5426535883287084,0.3941035863744733,0.27843743862403897,0.8751240591043646,0.28429108954173793,0.3155176178707509,0.27664287024457856,0.3853513389057999,0.8327325947701758,0.9059136249009944,0.7355868239983558,1.0,0.08614037862805801,0.030021842455213256,-0.04371819186070896,-0.09760207067093787,-0.13610347702167033,-0.1677470077453869,-0.19390528651337982,-0.20861462850844603,0.3192341322627958,0.7366624182055486,0.8748893768588618,0.8748893708861791,0.7483019783252288,0.6934238075663923,0.3779105615354297,0.19993507199436128,0.15183975249957984,0.7533689096297171,null,0.44498496168260177,-0.00125143457759966,0.3475884341948087,0.025492808827975857,0.8007284260725974,0.40299852058967256,0.8342793933330933,0.20622316280396155,0.4443566870267963,0.1601665844424792,0.3600667997162209,0.46545070541753486,0.5779272369547002,0.6640406441363454,0.6449844674907165,0.4947053034249423,0.33233856872242007,0.22106901332969098,0.10176375306082551,-0.0012453290680585765,0.18390107402551542,0.8748893763023372,0.13631574409880143,0.5975744094857534,0.5517347663585745,0.6811241941495835,0.7004234463523101,0.6426886489632535,0.6453978664607555,0.3523062903161438,0.10826100452714223,0.007815848871514625,0.007328793720266027,0.17764784144255052,0.28570400404453056,0.6018647570619776,0.5156609145715508,0.050241445394720606,0.1694671717388106,0.03278177827507568,0.017521962423852133,0.6345988631278111,0.7009437893133529,0.3592125213184013,0.11891826677863726,0.15826032863626827,0.09472251460450168,0.28399811571539774,0.002013904437660839,0.03946953909030634,0.01600235557353241,0.024029653511018143,0.9211246977397072,0.46953538668123623,0.47368609906872916,0.2178505864406446,0.39382199050321953,0.6782973243923234,0.6769555933576165,0.4155008828850567,0.49210512952307855,0.39394089976481783,0.30766977657694755,0.016632797351079396,0.02191686396683261,0.46648725078861636,0.5933418748319039,0.6007169152632922,0.7326231664437762,0.6579391366356686,0.6441054465635271,0.5694412387590891,0.5203701608108848,0.519106036153435,0.49497824897208703,0.3698948478104876,0.248050557245992,0.1173312297576451,0.013212448584417927,0.026530534392232234],[-0.007150383148602049,0.027197067815022853,-0.11281227268853519,0.0012229649930837435,-0.0010579885768013165,0.00040790998259243924,0.005619713336275097,0.01566384207875673,0.03128150541613183,0.0370261512655474,0.029507182538196307,0.010506380402689223,-0.02617620371467242,-0.01804478275676676,0.015914072508500195,0.006049808475597549,-0.006741941332891561,0.06720238260272537,0.007586082987008038,0.0025395918925784997,0.03703974203839616,0.04311227760272478,-0.01868825824096438,-0.0307512323054447,0.08502757424597886,0.06315836012460298,0.03388747799744031,0.005297826389556486,0.018740650693411347,0.0037786148034137787,-0.0034637751702237722,-0.021485071793176366,0.019649121697564158,0.010491229490991072,0.00513653692921596,0.00930770293999123,0.009267805471800466,0.019281333718472148,-0.02385862749455107,0.002064259943238415,0.008726098065064173,0.0012399751092556437,0.022611286676409367,0.026828885664748205,0.01947955517468918,0.024608983782731162,-0.006851721801276158,0.004621476921834942,-0.007433380161941972,0.011541256091547767,0.0028978906703364168,-0.00333929119551129,0.01173766625958294,-0.0026869793056328506,-0.0012793505859791288,-0.007255785024052943,-0.012927921772423651,-0.014546467359850842,-0.013042316060646375,-0.0037734225193612803,0.026931604922935126,0.01781231282852159,0.013503733794168008,-0.01034899488889023,-0.0178412586229726,-0.007618775799387035,0.006662859484561097,-0.007020724489470864,0.03666654290806203,0.06992029108320774,0.08614037862805801,1.0,0.809491702879198,0.738610088151763,0.6792633339522195,0.64721262871802,0.6221618111610019,0.6008554727801095,0.5859878689945842,0.026036675847997733,-0.007408825606096296,0.012942212268381506,0.01294218817080311,0.006814084131813954,-0.002746354082698863,-0.020235589770298126,-0.24137626890348332,-0.21135388756216458,0.0010165550268882216,null,-0.08645136521021837,0.01806808167473663,0.00028964418743220374,-0.00044686430498567576,0.004740690204415509,0.01870262090867269,0.04380666841620382,0.06838576482389781,0.14546318125140173,0.01971281210197781,0.03349237237534677,0.031985062128661396,0.021741744255360313,-0.005432166864928771,-0.01788981189634441,-0.00785527152679724,0.013407011054786713,0.008353932349811369,0.005807397196427955,0.006545250637566954,-0.0001373977091877913,0.012942188543013738,0.008599166640996185,-0.001346706911891507,0.02727157499869201,0.056876902282200825,0.02553536783569158,0.04400919505636594,-0.013349840376045323,-0.08476584790132437,-0.028838786046423658,-0.0031395162325105813,0.00028219154907223255,0.003682807352858094,0.013135031626746002,-0.06834547802096154,0.013967305006948249,0.00037047541020293097,0.0036367583977681486,0.008110832303234066,-0.040650092150067166,-0.06393558135454257,-0.009950113997615462,0.0025502776131941314,0.007758814608832855,0.011469048983709887,0.006324229435875619,-0.0035905467470358013,-0.0047413412597230135,-0.007029418777343324,-0.017560163098137335,-0.01759350446635772,0.05593551100189644,-0.12177158208556652,-0.13374293710287624,0.014145287434687317,0.006198088003414381,-0.06468936167280413,-0.07122677463579,-0.06439737022532194,-0.039299694214330355,-0.0024962592078474027,-0.004522824859183933,0.0028278478946401108,0.0054769169183958915,-0.026822616736545547,0.2659615723230634,0.1693521024926158,0.03295004425328593,0.031199013405536425,-0.002211406806972993,-0.020644549955332568,-0.029473836087297953,-0.0218530298438194,-0.019704974935193402,-0.00590308920268066,-0.07585740336524645,-0.051337216099446956,0.00628217738436025,0.007292135845540001],[-0.06091488175746078,0.023322814745358855,-0.14963123327237393,-0.005168208074029848,-0.008511505871644849,-0.009349460415615784,0.004023523223723614,0.0032937561615284045,0.012000071548573634,0.008459760073025928,-0.005044687080992938,-0.035595156189690266,-0.06895261844663879,-0.05412235832107399,-0.008574421440763851,0.0009519222247676682,-0.06347098409255932,0.04931034183304349,0.004620260345260666,0.0005521723215343847,0.011149909732690146,0.016207254387707735,-0.07572320079143344,-0.08488612052205576,0.02465946021444934,0.0014691937941676632,0.014804438016160926,0.002697678199958481,0.0073108704812367776,-0.0007823899225353533,-0.02839002679857022,-0.05584455315636042,0.01259240214116565,0.006299429549377101,9.757494536992783e-05,0.0022746613853081494,0.002620598817563055,0.005814143415340389,-0.05464629549211231,-0.03592942063477823,-0.029051518071158817,-0.0012627039395016896,0.005393664782008939,0.0077402254957876565,0.007374771412284925,0.004176566255178649,-0.04732767984879993,-0.038299896898744586,-0.021069862759855902,-0.002692787995233654,-0.0015380109518259217,-0.0033138045612145944,-0.034897102718182846,-0.05339098010538658,-0.04651643347372433,-0.05317264501733608,-0.058611772696038886,-0.05779223264072623,-0.04845276629167544,-0.04120285071363635,0.006731451865658402,-0.003479623929782996,-0.04588724085887653,-0.031155778513413293,-0.04197785455964338,-0.027606836865058253,-0.005029052558784648,-0.06368064263131382,-0.02300943170253072,0.01358869175287868,0.030021842455213256,0.809491702879198,1.0,0.9255371002702607,0.8641452176915866,0.8336698312689345,0.8107545961943938,0.7919050127472893,0.7774170342187614,0.017444756125495592,-0.06124103207389834,-0.04646624103209335,-0.04646626273480208,-0.05219387190418071,-0.05276891136971606,-0.024643878861778785,-0.11548566565408824,-0.10012155102274169,-0.05721743265520253,null,-0.1419939073509365,0.023458014649302097,-0.010094999697479456,-0.002476561945573202,-0.052694191075325816,-0.002160848189486674,-0.00981399535740717,0.058455203779882114,0.12662541843042768,0.006837135680396011,0.00910685158534211,0.00121006521371737,-0.015156991839332534,-0.04957496511974977,-0.06510977622021742,-0.04592727804134779,-0.0119794815515894,-0.0112687800443316,-0.0004951153731905538,-0.00023446254582940772,-0.012519330023264778,-0.046466266421122594,0.0020589979615608933,-0.05497583426289401,-0.01125293031309577,0.020148527861011494,-0.022922246090680255,0.005799225372676662,-0.05898921286931878,-0.12710677372300067,-0.040266523493090574,-0.0023172315731646714,-0.0019612947842201685,-0.004080955419710604,0.0025467690430637986,-0.10601907148913234,-0.00810827311561928,0.005037755288389845,0.0029831411719198273,0.00507396471214056,-0.04420981530705698,-0.1000024247692857,-0.054632401246733145,-0.026761263198920658,0.0011086729777904903,0.0026714720005019637,0.004808630514013554,-0.020780785271185372,-0.007112303784831802,-0.013104895273594043,-0.01959262164340295,-0.019993579405480164,-0.001988627763113545,-0.1526888809841459,-0.1749292035464649,0.0036854950169823413,-0.021038530836843438,-0.10844631938681709,-0.11841276763721512,-0.09818080659942174,-0.06646097814674355,-0.03425527700845066,-0.023821349638537402,-0.0006734609072470767,0.0004122648055060017,-0.04862815727730626,0.25854209533021555,0.14949780568251453,-0.013566674621732246,-0.011491785329724698,-0.04994073287858819,-0.06459044714022436,-0.06958124636400695,-0.05777669904763585,-0.05449734318648354,-0.03263365246236452,-0.09305271017421034,-0.0618156731688071,0.0018310010583000554,0.0008392777449015425],[-0.15029614041455935,0.017408407496396244,-0.20726408866955845,-0.02297452317248532,-0.019868815279773237,-0.023782152592485457,0.0012162034579304196,-0.0044881446836174625,-0.005316587292189285,-0.026459664630350873,-0.05741909776992563,-0.11568101676152362,-0.1403376957969679,-0.10823980799030636,-0.03748499879465642,-0.005233795543370089,-0.15940392708891135,0.029419221987303283,-0.002434923810509057,-0.004487932520652495,-0.02300094075480652,-0.018205273260580974,-0.17293366516284395,-0.18011411366675903,-0.05811718128359185,-0.08236683767292902,-0.007836078493046007,-0.0006071887777964431,-0.005822288125242285,-0.004654858250170506,-0.06155179314321161,-0.10340407744509578,0.0015433323848959577,-0.0025343808974605826,-0.009830961534462225,-0.011501840202318873,-0.009077526682685983,-0.013379590442674952,-0.10139826105945796,-0.09903465697969954,-0.08843212382567002,-0.0030578853091061077,-0.021312669738655136,-0.02227819619810784,-0.00984797380975916,-0.01726290976860243,-0.10886228572854798,-0.11071617590921161,-0.04826654243364793,-0.020520977756004727,-0.009348754312994338,-0.0039029423424322175,-0.11240867964688557,-0.13027529923869965,-0.12003798441787765,-0.12771364522342368,-0.13297551008580982,-0.12823348261578402,-0.10923446219609066,-0.1025483266760777,-0.032508186332670164,-0.03531714205540022,-0.1407403781956897,-0.06768575651935169,-0.08441240845499635,-0.06356556795548152,-0.03467567279226565,-0.15962883206360912,-0.11160230500016519,-0.06647193929225428,-0.04371819186070896,0.738610088151763,0.9255371002702607,1.0,0.9352310784421282,0.905771707465181,0.8842251520512769,0.8666006504124951,0.8524428888006292,-0.06832926831878998,-0.15075672533781234,-0.1413492494848774,-0.1413492773312914,-0.16142336418812064,-0.13348965997717535,-0.06352856558185348,-0.18304161501031646,-0.15989890393144351,-0.1657178589946046,null,-0.21398647338797736,0.013248186046990662,-0.04337583112499034,-0.00326120297962031,-0.14777401373192978,-0.029774570072590257,-0.08830777550572838,0.0504827520181224,0.10480562371825623,-0.0043398713451963935,-0.01724349494609961,-0.0412507571988181,-0.07661483090715036,-0.12898673569344635,-0.13984474053560256,-0.09781594540201136,-0.04840914206481854,-0.03750740642635845,-0.010118329329022416,-0.020880580831982933,-0.02915309065922703,-0.1413492808788578,-0.00914638615356457,-0.1369940454643869,-0.06650321845231709,-0.03575576274193951,-0.09132740273114173,-0.051904694458194414,-0.13928543174421154,-0.18503038923598553,-0.05661516297094729,-0.006014158409325498,-0.0033581649680276505,-0.02361108106884626,-0.02717721729705186,-0.1962909676233186,-0.06457469858013482,-0.0011379291904960013,-0.011517533543553867,-0.0006792701978149438,-0.04178973333843822,-0.19270855414460164,-0.13075845360292573,-0.06787612660178277,-0.006732736355879753,-0.008902830339763253,0.0011015624754932367,-0.05215915364140001,-0.009037300578015807,-0.021507622862074947,-0.029311644314988797,-0.031043068656021286,-0.08352172400081836,-0.22507738626058743,-0.25972602672299744,-0.013419633001475539,-0.07170892900343895,-0.19905665464665323,-0.21140477670529528,-0.1754616043797714,-0.13202710358510264,-0.09062780440917094,-0.065114826956821,-0.008181515990059856,-0.008677749334795506,-0.10550022777842163,0.2674491131963015,0.11059985646913321,-0.08170925060486152,-0.0763792813968084,-0.1252073230206399,-0.13656219589930954,-0.13660353843328077,-0.1168288010220235,-0.11727098864974118,-0.08107287650524006,-0.12812535662794983,-0.08038206264111863,-0.0024488819318736685,-0.0045693625047723355],[-0.21458879538539402,0.018266799881575993,-0.25671707477564915,-0.02942554532264144,-0.027678409484871165,-0.03478721893987706,-0.0015574002653890248,-0.012444107176054467,-0.021197023879202304,-0.056027655148343604,-0.09980551466415427,-0.171751352945234,-0.1828553218217945,-0.14021053161543592,-0.05666194337976135,-0.012586362908341387,-0.22739108962437563,0.01802194834940299,-0.009140674837591616,-0.010139932529131337,-0.05239117710161503,-0.0475310328460911,-0.24179462405643745,-0.24803779454715774,-0.11932001735210693,-0.14171407004698403,-0.03167198521592112,-0.006857976464264528,-0.016911147585903404,-0.008323475181296858,-0.08580735996551042,-0.1380402546769194,-0.005421656268617639,-0.0068046319034202225,-0.015610523729953578,-0.01947828100355971,-0.01617648691830532,-0.025919997738845787,-0.1261681682315352,-0.14321143004316964,-0.13266451682390606,-0.002602019040475617,-0.04355844653610616,-0.045605548409979046,-0.024357500591582912,-0.034155996036079335,-0.1452986941160485,-0.16246438942366842,-0.06920166949868704,-0.035229389315055995,-0.018157708368194105,-0.00622372042561687,-0.16262788706728223,-0.1854750744658303,-0.17287151772815273,-0.17836018592330694,-0.1810080585826358,-0.17089357503427208,-0.14889486581266298,-0.14674295188423953,-0.06176273130939363,-0.06050402556205493,-0.20909858047654092,-0.10011457121002305,-0.12122871266661656,-0.09471681195290681,-0.061753654826554254,-0.22770017977716467,-0.17498293849998817,-0.12590804808178072,-0.09760207067093787,0.6792633339522195,0.8641452176915866,0.9352310784421282,1.0,0.9690609329029694,0.9484863047988975,0.9319266415045201,0.9184811165682385,-0.11514917119921181,-0.21513072874068861,-0.20973894112199185,-0.20973897485933587,-0.2525571951286619,-0.18868348652365374,-0.09064346606007827,-0.21269293950393842,-0.17926118784915984,-0.25601718571338794,null,-0.2634578475523919,0.0052329818640591014,-0.07082775160066701,-0.003317376861352227,-0.21610464209479802,-0.052948676066031895,-0.1432510990128172,0.04920215851196238,0.08627746666743576,-0.01673097213106919,-0.040601828308679686,-0.0768963269407195,-0.12294722256296191,-0.1817717871338496,-0.1858308686939724,-0.12946807142396785,-0.07581679239163504,-0.060265050659689644,-0.016530368446991902,-0.03424117374953372,-0.04622145392687828,-0.20973897851615217,-0.014237372921938914,-0.19000172232162607,-0.10237033814983097,-0.07668102411493549,-0.1364555619744995,-0.09411530261873098,-0.19281059187397065,-0.22037853589928622,-0.0673805094768543,-0.0110508739591833,-0.004238386163042993,-0.0321604057392684,-0.05023952183408907,-0.2609591160272015,-0.11571315705859456,-0.00367305132790994,-0.02282368836051423,0.00527389394653736,-0.039968633633773176,-0.2594621700944826,-0.18833152048517218,-0.10040494196122118,-0.012467024087197338,-0.018311794754879502,-0.0029181821224294087,-0.07803652913005132,-0.011340430637151884,-0.029441544511451034,-0.03873088763496026,-0.04115092728772232,-0.1418616146954778,-0.2709387232195785,-0.3173289478157476,-0.03120584250958843,-0.11820820099395422,-0.26630472110851944,-0.27996053504384066,-0.23129602275569583,-0.17998608901944488,-0.14180113311479986,-0.1005437374880018,-0.013832548533132006,-0.013818499445961942,-0.15917917453761146,0.2801758062959586,0.0797805802564608,-0.12846012377960336,-0.11889186075561134,-0.17463400878371876,-0.1825583170494603,-0.17878374526653026,-0.1561718524220044,-0.16335590483160994,-0.11770452179707622,-0.14614507106267305,-0.08943956825580551,-0.007455017771887991,-0.007909713968790977],[-0.2584814061049098,0.015497747968856923,-0.25856120494217977,-0.03976879555439137,-0.03581094595195149,-0.04579054676391643,-0.0028275490164896833,-0.019459340499852592,-0.033692225608586424,-0.07974841659769513,-0.13365102384873245,-0.21349469498765372,-0.207803134253289,-0.15639790029857617,-0.06699053209745358,-0.016428077462336987,-0.27359983133613885,0.009505734436337867,-0.012864764554498712,-0.01303081065272984,-0.07454160886012268,-0.0697939578561463,-0.2879134467807653,-0.29401364849706435,-0.1619277982785717,-0.18132443432625925,-0.051077116982180405,-0.010583933695252776,-0.023102178415405628,-0.011758468240370001,-0.09964433830450362,-0.16279785049352236,-0.011846472943883786,-0.011647692759344417,-0.02080677004118942,-0.024878138494809215,-0.022262627051363577,-0.03557407185994753,-0.13961255406405698,-0.17390253365887898,-0.1646384809506602,-0.004846692162196531,-0.06010872994019478,-0.06146405608169219,-0.032788992436725915,-0.04307115596473559,-0.17129051657034655,-0.19779531257874325,-0.08417193244532696,-0.047360242248304325,-0.02384366399564546,-0.0036583926332007088,-0.1988906785427424,-0.22092184098681908,-0.2094467089340791,-0.21392764522827137,-0.21475955799154808,-0.2016858556753859,-0.17502543367114487,-0.1705003035844039,-0.08573666551397525,-0.0810543890892305,-0.25581221911843716,-0.12451573132224475,-0.14901349202147485,-0.11721365849014713,-0.08155632947027391,-0.2738174772975181,-0.21847994340937618,-0.16607382394691464,-0.13610347702167033,0.64721262871802,0.8336698312689345,0.905771707465181,0.9690609329029694,1.0,0.9777844923304176,0.9611369023767653,0.9478754594855684,-0.1420650785078458,-0.2589046666531393,-0.256431650813594,-0.2564316902020424,-0.32681304951363505,-0.22561373782972435,-0.11346497600584254,-0.22296181279960328,-0.18195159021021415,-0.32983825137011374,null,-0.2861970101968549,-0.006104698787153068,-0.09347065971613723,-0.00592305170786716,-0.2634765764478092,-0.0691140875114052,-0.18430206282762504,0.03798338263069963,0.07028367533463659,-0.02192928817424569,-0.05877743446839031,-0.10531960854010725,-0.1590920726190075,-0.21862851876097408,-0.212864035384784,-0.14817694821666832,-0.09649526200749355,-0.07680155663993889,-0.02097616969867384,-0.05034439417642943,-0.05866289221840881,-0.25643169233847435,-0.01740938000239652,-0.22156068780001129,-0.12733050177480137,-0.1095471640553768,-0.16862706107533967,-0.12600517898834226,-0.22965254717004588,-0.23392179689413234,-0.07058693331172486,-0.012418746434366808,-0.004417562379631398,-0.041947866286348855,-0.07282363058626234,-0.3138200485737069,-0.16628887632545966,-0.011551653241987102,-0.03272614312213471,-0.002292453687621087,-0.041509412193350526,-0.3141150627546198,-0.23014693327421273,-0.12506342727593528,-0.0190816961359262,-0.030061466201623525,-0.00469788230358951,-0.09977792133349327,-0.009519744430123406,-0.03680053896001608,-0.04129630196623745,-0.04485371436020866,-0.18208118264951612,-0.2953236093985899,-0.33759660771462363,-0.045819993628439575,-0.1561824178849221,-0.31703980723500247,-0.3291477934737796,-0.2580971873012874,-0.2063572677940679,-0.1813416030447887,-0.12865098614629744,-0.018417845028091843,-0.019930659976450646,-0.20252050969128943,0.3080458316813303,0.061584221792153795,-0.16304260223430997,-0.14882606205520457,-0.20712057318096422,-0.21205773167182843,-0.20581076379431412,-0.18191600865063604,-0.19457035904793488,-0.1445703276992693,-0.1528995996564854,-0.09181366627464452,-0.011346595755139289,-0.013091275566070634],[-0.2939978721137303,0.02305535954913525,-0.22472916714579114,-0.04750317305232302,-0.04320727625488562,-0.05561233319295377,-0.005050862409815727,-0.022440225809852936,-0.04292166341225948,-0.09817961288938021,-0.16053900492380732,-0.24531439923955684,-0.22787643548260758,-0.1694829962145681,-0.07803224205890952,-0.022013005083278334,-0.3101307754288171,-0.00020362710801134342,-0.016222508561035222,-0.020282615714082484,-0.09135823283227441,-0.0866455144964652,-0.323925449976344,-0.32964774732540186,-0.19716370643920902,-0.21296274152056166,-0.06777409923088948,-0.012064812478162167,-0.029366910301761032,-0.014336212512475592,-0.12729482107777026,-0.19159420877091576,-0.01487668175136688,-0.015546474669708162,-0.025227408215067203,-0.028914902921415384,-0.02736823547147644,-0.04547573966817638,-0.14789856502667945,-0.19885283609347346,-0.18945938019974473,-0.004915201549737102,-0.07441166826710777,-0.07756385597017469,-0.04233105412741185,-0.050585275770720334,-0.19070700461375223,-0.22630589305974314,-0.09342763769829482,-0.05596265389876685,-0.027123934207067414,-0.00309065248289297,-0.22702731864222572,-0.24807254822938785,-0.23897679889284387,-0.2419168840331952,-0.2407292367833301,-0.22537652762832014,-0.19626767825418429,-0.18938385462738996,-0.10234315176741042,-0.09681314670146858,-0.2928181330399908,-0.14718234103208333,-0.17291169680076598,-0.1398345470231813,-0.10121340628531522,-0.3103453634053867,-0.253721195445619,-0.19917912059905415,-0.1677470077453869,0.6221618111610019,0.8107545961943938,0.8842251520512769,0.9484863047988975,0.9777844923304176,1.0,0.9820924784502827,0.9684799750055472,-0.164885419414944,-0.2943615117682336,-0.29342290340556754,-0.2934229470837515,-0.3948045315442965,-0.2547294312933082,-0.13746957911674595,-0.22743025147419607,-0.18590164679051607,-0.39732620597605806,null,-0.29830712352527006,-0.01974592348765216,-0.12308287294527001,-0.010504841242757473,-0.3011587805057896,-0.08484104204416774,-0.21481299381389363,0.030520040533629143,0.047563432893216656,-0.02887978979835843,-0.07335990423816084,-0.1283739034937093,-0.18847967902865392,-0.2481074152043491,-0.23341450351947848,-0.16036977074650294,-0.11176448446349412,-0.08979521478395444,-0.02667964901854092,-0.07383495953540542,-0.07214745615640848,-0.29342294927744206,-0.019769734546022384,-0.2441268169386293,-0.14600998074713048,-0.1354713174802564,-0.19086201014678333,-0.15327853497545654,-0.25843156673891027,-0.24214954616228293,-0.07437753551340631,-0.01594983883931,-0.00577907216357075,-0.04952666923750614,-0.10207532974234183,-0.3587176284469746,-0.21948179444561655,-0.017440210084804918,-0.045022439700281976,-0.00808090507429288,-0.05118965249978908,-0.36154906258216757,-0.26691789699690815,-0.14482564993573482,-0.0263792574870592,-0.04176141764711818,-0.0079085568156415,-0.12389132592379315,-0.018415162673213296,-0.0434624948454857,-0.045593392185858485,-0.05081337850784363,-0.21439945048191264,-0.3108700327810372,-0.343515769552705,-0.05972561379841597,-0.19153556539889374,-0.35942414936030875,-0.36814540760862347,-0.2723080657716697,-0.22672165207463105,-0.21605114140443532,-0.16042329032606573,-0.0250012756029614,-0.023910324299845128,-0.24807029384017926,0.29500554458157363,0.02395167090113211,-0.18919713947154954,-0.17227191903244893,-0.2320670228470633,-0.23538214463075222,-0.22796037295353755,-0.20261398964081953,-0.21763847677187795,-0.16668935549663813,-0.15771019874750278,-0.09265110541236014,-0.014368692005430351,-0.015630986219917327],[-0.31729884258457,0.013869436695999495,-0.19859694431585798,-0.058789969431878225,-0.046419779007051715,-0.06206345892687321,-0.005019260851539328,-0.026915636644228896,-0.051536880158916054,-0.11159393982368274,-0.17870876806352715,-0.26791255753842724,-0.2410895160690711,-0.17804788339042857,-0.08574297922799623,-0.02537597070657756,-0.335248627905786,-0.008954943451384093,-0.01788439870293304,-0.023486952217273902,-0.10509339401560219,-0.10086002822542879,-0.3478916987829137,-0.35309112207721943,-0.2246736503047664,-0.2372446065430106,-0.08190828276585148,-0.013820072498288462,-0.03253881399882092,-0.016678056399142906,-0.14013182766257307,-0.20389617986686617,-0.018212983453964778,-0.02065917159403642,-0.028697906220237948,-0.03356441561470646,-0.03235682269759699,-0.05300762158392083,-0.15175150666630818,-0.2142979118980585,-0.20917246509722215,-0.007110823488802447,-0.08638176069458045,-0.08962349429331899,-0.049100747647275136,-0.0564885045265613,-0.20257981358117672,-0.24750904956900993,-0.09690157054081307,-0.06196729812211583,-0.027902869905097716,-0.004739686470127148,-0.2468624324510768,-0.2660522756599695,-0.25841423110595746,-0.2600974705174137,-0.25766372889447686,-0.24043650264088084,-0.2099265394454046,-0.20477580166665937,-0.11514013823552136,-0.10848169284376112,-0.3188304177135964,-0.1625447331474205,-0.19089264938487188,-0.15577230460013886,-0.1200726192211038,-0.33545387112737557,-0.2801092751532176,-0.22352638577625944,-0.19390528651337982,0.6008554727801095,0.7919050127472893,0.8666006504124951,0.9319266415045201,0.9611369023767653,0.9820924784502827,1.0,0.9851181930772821,-0.18752183016170898,-0.31759568506096264,-0.3193554542744375,-0.31935550432235194,-0.4545259473233364,-0.2749781037416379,-0.15932756943576568,-0.22502996375251882,-0.1880656357780968,-0.45657829450120846,null,-0.305331684983079,-0.03248322351076502,-0.15022099705143915,-0.014813279510994754,-0.3279702320056288,-0.09589062615178105,-0.24002592838817527,0.021827362970542472,0.02464751890607071,-0.03424248081729332,-0.08430214925846005,-0.14338172324649637,-0.20828373353132196,-0.2682744500538164,-0.24733814523714437,-0.168911495869544,-0.12425374831263204,-0.10211202522813491,-0.03078910043001578,-0.09319556779889211,-0.08543002093513756,-0.3193555045695035,-0.024818112170364066,-0.2593165758113169,-0.15946337342602562,-0.15812082381408357,-0.20766928322479622,-0.17539949054473764,-0.276589776296752,-0.24334077373238477,-0.07198361213529515,-0.015309077826248595,-0.006997602879421765,-0.05817352037954252,-0.1186621596692656,-0.39391903397941014,-0.26376558399214683,-0.02412923304871147,-0.050724570375006654,-0.007507028082544256,-0.044861792486756424,-0.3976198586497541,-0.29388774791621325,-0.1605923116865402,-0.033408598525381285,-0.0490069235551889,-0.011994567483985944,-0.14919766912106644,-0.01151744338610368,-0.048397696296639,-0.05276693995531186,-0.05891552922255179,-0.23915136510116605,-0.32237544604466883,-0.34931073520445793,-0.07144559801221528,-0.2195321941780292,-0.3898359421208359,-0.39731971032316704,-0.2811361918643381,-0.24170666456867893,-0.24232661205630565,-0.1811447938046824,-0.028739828674375918,-0.028272632018380518,-0.28610408763510514,0.29988621526741815,-0.004144314486673627,-0.20970417714414127,-0.19054631718102408,-0.24920720545963715,-0.24968091235315018,-0.24021162632819418,-0.21497952604320453,-0.2318178127651238,-0.18102060152889388,-0.15677247633588362,-0.09089441621774454,-0.01760695144403226,-0.018848209727942152],[-0.33189206598751053,0.017065376607487043,-0.18344686033707472,-0.0648247885811363,-0.048118065824922576,-0.06469754412752289,-0.008569711491215394,-0.03017360234552159,-0.05705186521707522,-0.12146177687607333,-0.19129260473126175,-0.2800215547038571,-0.24655753125448415,-0.1799513300237837,-0.08563875867197307,-0.026230813554481605,-0.3490056558175379,-0.013487957960105048,-0.023032257780778054,-0.02987460304180963,-0.11455421340379106,-0.11056633836511874,-0.36154460499434443,-0.3667518974582335,-0.24033650896480802,-0.25017829310552653,-0.0911199447051738,-0.014918066700822555,-0.03358301998189781,-0.017418746824955936,-0.14564633005551175,-0.21074526903289245,-0.020426305748602186,-0.02199286345025126,-0.031284726763241955,-0.036906355766235605,-0.03505313972062748,-0.05545508652128481,-0.15451783622475468,-0.22243091316453292,-0.21978625956411568,-0.009185447941813689,-0.08964664660584445,-0.09389074845242093,-0.05198053800035224,-0.057634567803024096,-0.20933492172179619,-0.25805910036291413,-0.09889857447337129,-0.06686027208674183,-0.02864554240064052,-0.005119165852784968,-0.25509976663450107,-0.2764312267027862,-0.27057515611530775,-0.27167370565671534,-0.26790612380088374,-0.24929552248653697,-0.2186228419676947,-0.21156088396288972,-0.12031927807985796,-0.11660812207196418,-0.3338060526191993,-0.17163979305785687,-0.2004092265768833,-0.16348142563281545,-0.1290476657465723,-0.34913973792078545,-0.2945931658019484,-0.23747842790544257,-0.20861462850844603,0.5859878689945842,0.7774170342187614,0.8524428888006292,0.9184811165682385,0.9478754594855684,0.9684799750055472,0.9851181930772821,1.0,-0.19873782573547988,-0.33222174901352486,-0.33431124362762105,-0.33431129503198365,-0.4936284639891023,-0.28563867445294516,-0.17210706086407657,-0.21946774038726563,-0.19007968472717518,-0.49593136987022757,null,-0.3069481692117313,-0.040664015626215244,-0.1703461837726339,-0.02345287345861812,-0.3435661345217854,-0.1022622414208912,-0.25291043447868294,0.011548226085713613,0.008978161989750134,-0.03964422242307993,-0.09196877556685258,-0.15378746778574845,-0.2209391800088263,-0.2795089616037605,-0.2530715292654487,-0.1722131574503836,-0.12959686030185444,-0.10591801863693386,-0.0322137354052291,-0.10125407942793846,-0.09102553405866493,-0.3343112961227931,-0.026017773034897936,-0.26435797165471114,-0.1653706445473047,-0.16883100785057092,-0.21434959152465635,-0.18524334915784219,-0.28789138253464047,-0.24098543747247742,-0.0734398837263264,-0.01727743188458184,-0.007206172043931821,-0.06290427027123677,-0.13742912637588428,-0.41211605448498223,-0.2908328364942531,-0.02892320935317088,-0.059695965449018416,-0.010299132186583938,-0.042929803525758065,-0.42057960415896756,-0.3087536933501774,-0.16713572897877127,-0.040505712720566744,-0.05606747707070257,-0.00326959165745181,-0.1618249216969201,-0.010872124901548614,-0.05191513684421567,-0.050058810212957675,-0.0558759347466804,-0.2524604274976102,-0.32973775538184613,-0.3557817630663977,-0.0783720231739701,-0.23817631239726353,-0.4076018502318333,-0.4129185526512541,-0.28827868980070376,-0.25262854527689005,-0.258903047067387,-0.1966220549832685,-0.03032019745559087,-0.03010717339817405,-0.31744896080878837,0.29731683563339584,-0.02019249096052809,-0.21811495259794847,-0.19864252267394372,-0.2590409695507593,-0.2584052832569501,-0.24855567598237813,-0.22399406963923366,-0.24100855075963165,-0.1904686739048102,-0.15603064756238802,-0.08956048738378046,-0.018283827368457,-0.021552862081593033],[0.28096876153887185,0.09431482732179965,0.012939333727745592,0.007219471015857836,0.02597121705782342,0.03568423473514602,0.0033175611629530097,0.04132031183323795,0.08221927148778216,0.13527962195989815,0.17270615187918498,0.25254466482099847,0.2652366799220543,0.2275507272617867,0.1382220014225227,0.030007703085336103,0.30773203808666916,0.13191798517602948,0.03165986445970839,0.024596832398787898,0.13350498441987735,0.13929301822875775,0.30090449653757745,0.2825752301335845,0.341237134546355,0.33840506328061243,0.06202652916198209,0.013364513358378995,0.06273817479368302,0.02734017295568201,0.12478905481662628,0.14893072247101272,0.05773775241784682,0.026808307719202538,0.027216648807450103,0.03768881426128732,0.02439636918649873,0.06925187930698656,0.2005528601406571,0.21811184296357852,0.20311349645799245,0.011081120610216806,0.10616839081704128,0.14205747579219494,0.10159715749300031,0.1443927681206344,0.25429837248880854,0.2298659814343848,0.06992506373959007,0.059590488632482036,0.027893936921839082,0.0011905095062523419,0.2793032393207981,0.2635208317846732,0.24316504424056995,0.2521218647134901,0.2541437662447185,0.2419510683811715,0.21445437698564354,0.254959108191359,0.14251093486347666,0.09864232482308816,0.3188120621991849,0.09653638807965687,0.11357328869367984,0.09617071068480382,0.10954906059135439,0.3079354436107373,0.3260241348543575,0.31523670216168426,0.3192341322627958,0.026036675847997733,0.017444756125495592,-0.06832926831878998,-0.11514917119921181,-0.1420650785078458,-0.164885419414944,-0.18752183016170898,-0.19873782573547988,1.0,0.2811337483896077,0.3195324168810399,0.3195324469482175,0.3021586671665626,0.28315062340434755,0.10243387089123036,0.6834216909014008,0.7991685142606937,0.2964211118443484,null,0.23464661973496806,0.00721432593384532,0.13805057131308213,-0.006887202938702666,0.3038165530905141,0.09183709664226496,0.29991742582590875,0.061618126151849084,0.17065680638290467,0.05272833581012878,0.107803162181397,0.1484875901219441,0.1962080888437629,0.25810336873531975,0.2830953918580586,0.22315338267652698,0.13627322421381502,0.08827278586771921,0.022667255144000482,0.007219500134481172,0.05641471614229381,0.31953245321341506,0.04531215946794766,0.2830258558938592,0.23259300941481637,0.21982111266927915,0.270089358473801,0.21754292222443394,0.2608005394982302,0.22450088533415422,0.07431305817720543,0.004904663574346604,0.005651646541805996,0.09237059802154422,0.11587446335377243,0.28380432230553027,0.1648137656829627,0.02067810140574656,0.06017634907410239,0.020712773972938105,0.03229430153285269,0.29600185753643604,0.23639733589224116,0.14322605680497386,0.019778571713033398,0.03413015857311348,0.011027128791142295,0.06336825407522458,-0.004719321392804777,0.012403144909274685,-0.0006845264965176462,0.0003390341126390323,0.3257195900338872,0.2089262037013853,0.220548437786716,0.04476381434174866,0.12401044735781702,0.25262985048361886,0.26334866808818014,0.18598862951104822,0.17092024135497016,0.137937122885486,0.09147180949420541,0.019044257776200803,0.032478063520143347,0.14500977360319817,0.24583250298804057,0.26007855368491345,0.26606399479769505,0.2592919175788938,0.2681531002357448,0.24276758106006557,0.22790894119543023,0.21413885466167443,0.19234033112034105,0.1342493899858768,0.11663515064313712,0.06111677239711946,0.00884839912427676,0.023560761512993644],[0.9999999999921642,0.0733946467340966,-0.03186637234111598,-0.0019095236191517268,0.0619558658424853,0.08945447944270327,0.01862964644306371,0.14331278115282145,0.28600963814975605,0.49556026879689014,0.607977379409304,0.7832848595391219,0.6774077624151764,0.48360359246468826,0.2141959838925275,0.07238189574386375,0.9105561747579819,0.14164248350299302,0.06405652032825511,0.038139332984221175,0.500803262695465,0.5037352051319555,0.9175012192182442,0.9223979289265323,0.8233500229393919,0.7809430754071605,0.22409303427647567,0.0680952970659846,0.07056735961313639,0.04380156908200019,0.181045130854586,0.27821787057573844,0.06021596530602019,0.029275676521828033,0.10024933855644334,0.1136341049891214,0.16501007099800466,0.27197566027069786,0.47857081210370883,0.6494312156544463,0.5954123850735972,0.017942743100786723,0.2597723923970633,0.3450023197757413,0.2178399560005569,0.17082766817579098,0.6315394346264738,0.7433481810695298,0.17120159825293205,0.1745314249947533,0.06668149005468937,0.019902727989025155,0.6664062428040234,0.7999854529409115,0.816589526264421,0.8293920775664531,0.8172034768036214,0.76640308374181,0.6917527428805614,0.6224042525818752,0.4376750873739142,0.37874050194239883,0.9166683394552028,0.410179672358401,0.4696068888070212,0.39070813899218626,0.35536755800041225,0.9103427735942337,0.839252994115911,0.8055748195524444,0.7366624182055486,-0.007408825606096296,-0.06124103207389834,-0.15075672533781234,-0.21513072874068861,-0.2589046666531393,-0.2943615117682336,-0.31759568506096264,-0.33222174901352486,0.2811337483896077,1.0,0.916462092357178,0.9164620509206737,0.8531398236234514,0.8480628919415846,0.42944184211526865,0.22851237648338096,0.2067073124156461,0.850315675662882,null,0.5224407575411929,-0.001912829274188648,0.3702646101973353,0.015778048677981268,0.9667355191206801,0.2738122023741062,0.7058286752114311,0.17477491375989204,0.5138045551028638,0.15260556523492474,0.39110520079017397,0.5538153244238136,0.7013456636594367,0.7990126923895736,0.6721790559790217,0.41173213894643024,0.33590165124191773,0.29872766954498037,0.17433968876916212,-0.0019017040663401562,0.19579884881501566,0.916462073496553,0.16652852009418315,0.6519668156879277,0.5209267479173354,0.5413153054782781,0.5716617188173903,0.6512201834277381,0.8215073553346894,0.4659422939174521,0.15251708252125912,0.02002497441250774,0.020603873378396458,0.09495679829696628,0.22849259562429902,0.76333542378406,0.6848439694403589,0.06881987377154825,0.11891395692481979,0.027124332875104084,0.0646748294866132,0.7669068598845136,0.6219030553431929,0.35901861079051495,0.05530041890429697,0.08792665211348794,0.01625303304843272,0.21600715138987622,0.0004535919185745687,0.05835066662779964,0.00031746436705962195,-0.0003976934643990899,0.7815401542544359,0.6840591286908907,0.6859024935824949,0.27143399536399443,0.5399542731551616,0.8163496346159475,0.8110306457577122,0.44665623553796635,0.506027411642474,0.5610216147218455,0.39059288362877165,0.023095956562752616,0.026775792753684264,0.587519009124214,0.6741075133966219,0.6911401617010565,0.5913938273343026,0.5548252364726497,0.7385636070780079,0.742086289868903,0.7197102892783016,0.7283049508022712,0.7278602588582833,0.6062956591189667,0.4729646009083772,0.24845574685084992,0.019850853412124447,0.037085695693845046],[0.9146241248980258,0.09260694033130103,-0.034076191400667026,-0.0017813093424698145,0.052395369295517906,0.07756638064570716,0.020565497783303403,0.11799860469751337,0.2676971834036831,0.4774004086518728,0.6016490738968814,0.7881981220463588,0.6729156417417803,0.517142176821504,0.2983754226245697,0.0849382305525033,0.9833747322840368,0.2173908228291528,0.10169121528280144,0.09190497604142653,0.49755087508036167,0.5044408486768066,0.9881470871943875,0.977487824125282,0.9390481395920672,0.9082327420257881,0.23883090694810435,0.07533771872038336,0.12655020256891564,0.05095885793113237,0.2246867191856338,0.29626346648267116,0.11117318259518724,0.09164717519859736,0.13504778642299192,0.1554782604264134,0.1634313592390228,0.24959581050130297,0.44371174413656994,0.6540897434206999,0.6188676706695019,0.027240781489990658,0.3177765330389119,0.35783064321954156,0.22521197466504958,0.21729051879379885,0.638801482613728,0.7371530211154687,0.18332658444632205,0.19187968043894973,0.07258198396283452,0.035089509577764896,0.735065583085666,0.7853604384799328,0.7742091612753182,0.7852107353364383,0.7750064734217047,0.7157918678916065,0.6352995354149783,0.6000862270497855,0.4328557843703239,0.3655337957336049,0.9999999999896213,0.38110472989335525,0.4259828874011184,0.3610677680316239,0.36707706185054884,0.9833519772993359,0.9499272910628184,0.8761074491915418,0.8748893768588618,0.012942212268381506,-0.04646624103209335,-0.1413492494848774,-0.20973894112199185,-0.256431650813594,-0.29342290340556754,-0.3193554542744375,-0.33431124362762105,0.3195324168810399,0.916462092357178,1.0,0.999999999989663,0.861429364198863,0.809450261757921,0.4205849009376033,0.26261532527238407,0.21849906326522417,0.8567678179172562,null,0.5420348830870172,-0.001787538121064052,0.4150383942455324,0.01991991033013671,0.9364586078403481,0.38612445848610444,0.8040752079624371,0.17773979029248635,0.5380425377805068,0.14426725465644732,0.36555895150333206,0.5202329553629753,0.6751958223028317,0.7815393384820032,0.6988822718790869,0.48614587396466014,0.38009358745356875,0.31336046654968847,0.14723600123678515,-0.0017763410503206373,0.20093326140183676,0.9999999999909202,0.15372327372282688,0.6795952350804468,0.5560766164928018,0.6190532319335583,0.6795500303400268,0.663065778635594,0.783356861136924,0.48212070429924,0.16427854440991985,0.021859333240691024,0.016569480093851043,0.14016457477119187,0.2717695893807345,0.7425373076163609,0.6399869379555334,0.07181710185815886,0.15792905301747343,0.03331218504576575,0.028860895271921875,0.7605979643386936,0.695616360529955,0.3641217157268608,0.06996077688712257,0.09847011009867838,0.028497469654806137,0.28406952163786753,0.003139038968827481,0.0648127945884569,0.0259219751452355,0.033980187851652494,0.90183375527628,0.6180352389955558,0.6183795608811276,0.273752713767727,0.508554138855064,0.8091074242025021,0.8029516355690038,0.4699105373543492,0.5227005531987267,0.5326679525495484,0.4050128971902885,0.02385088913008222,0.031017592543337094,0.5600545746490084,0.7010729034090021,0.7093609605032167,0.7018599121574786,0.6400542562800776,0.7404881054782444,0.7068631913255199,0.6622159260254842,0.6538672627190194,0.6448349292325691,0.5274433879697402,0.3754747833468304,0.1799861237200127,0.01821855180769893,0.03178468816009606],[0.9146240830131694,0.09260774204116087,-0.03407619619420391,-0.001781309380696107,0.05239536102659319,0.07756636896624834,0.02056549595111206,0.11799859604343681,0.267697164700517,0.47740037647157646,0.6016490610473454,0.7881981862320225,0.6729156202061438,0.5171421474853962,0.29837540796427947,0.08493822418944619,0.9833747463765323,0.2173908138720361,0.10169121315116868,0.09190497211729642,0.49755083972338177,0.5044408131221954,0.9881470963537886,0.9774878300393769,0.9390481226892046,0.9082327545639376,0.23883087301879055,0.07533771347620254,0.12655019887857,0.05095885401654298,0.22468672179319857,0.2962634375798209,0.11117317837247306,0.09164786294276654,0.13504785587531265,0.15547831396874728,0.1634313963241958,0.2495958172590819,0.4437117164513391,0.6540896991108058,0.6188676462339505,0.027240795398102632,0.3177765183133668,0.357830620510959,0.22521195982386472,0.21729050459933785,0.6388015127253607,0.7371530015455156,0.18332662515786424,0.19187967160878,0.0725819793010551,0.0350895070845916,0.7350656194520355,0.7853604091185967,0.7742091273394699,0.7852107224389088,0.7750065181379056,0.715791906866666,0.6352995209338032,0.6000861933347446,0.4328557611498275,0.3655337703773346,0.9999999999999293,0.38110468617676535,0.42598286306407,0.3610677299134098,0.3670770254837779,0.9833519914067552,0.9499273057532905,0.8761074216546648,0.8748893708861791,0.01294218817080311,-0.04646626273480208,-0.1413492773312914,-0.20973897485933587,-0.2564316902020424,-0.2934229470837515,-0.31935550432235194,-0.33431129503198365,0.3195324469482175,0.9164620509206737,0.999999999989663,1.0,0.8614293846999385,0.8094502657700076,0.4205848546867115,0.26261530947073536,0.21849910033351194,0.856767841813937,null,0.5420350498102661,-0.0017875381642341321,0.4150384838150576,0.019919908491086415,0.9364586050381821,0.3861244426360995,0.804075261359775,0.1777397728857393,0.5380425192579346,0.14426724611875585,0.3655589261780119,0.5202329216872478,0.6751957926780091,0.7815393604808342,0.6988822970669712,0.486145862052954,0.3800935788645331,0.3133604528770819,0.1472359913789277,-0.0017763410937780514,0.2009332386776455,0.999999999998721,0.1537232535533804,0.6795952326944198,0.556076615834207,0.6190532563576243,0.6795500214387322,0.6630657811509824,0.7833568577905139,0.48212071736417955,0.16427854396168082,0.021859332627565495,0.016569478846826233,0.14016461750002385,0.2717695878101225,0.7425373185856127,0.6399869028670035,0.07181709738080026,0.15792905319178338,0.033312182350869086,0.028860896985493854,0.7605979866601008,0.6956164837479979,0.36412172263030096,0.06996076364218735,0.09847011918251396,0.028497464871277585,0.2840694710165543,0.0031390378166092484,0.06481278155931006,0.025921968920297793,0.03398018008151007,0.9018337571300653,0.6180351591930207,0.6183794765282267,0.2737526776416021,0.5085540687581074,0.8091074280804753,0.8029516888654182,0.4699105401013988,0.5227005267882648,0.5326678815067094,0.4050129080817291,0.023850884379611022,0.03101758296593064,0.5600545342016375,0.7010729183919822,0.7093609634127798,0.7018599272472432,0.640054353404553,0.7404880776666198,0.7068631628664369,0.6622158953936704,0.6538672162930617,0.6448348821971248,0.527443349855545,0.37547475549399606,0.17998610968054268,0.018218547980554684,0.03178468146024086],[0.8500649813757634,0.09780962193314727,-0.028880501266312565,-0.0018586173994080161,0.04224894088292079,0.0688573252380382,0.027181498702641346,0.1574714457381936,0.3260998555809997,0.5299803828619576,0.6441189437392149,0.8757660363012495,0.8097894132819526,0.6642799496169397,0.39983422221733705,0.10751936958868209,0.8442162364590869,0.20701892350811857,0.09014285851619784,0.057567618503693345,0.389318792002675,0.3927185490509916,0.8532963417911128,0.8400808058815415,0.8086883659893629,0.7924665889614595,0.20641609012440534,0.0434741227282386,0.10939928916300014,0.05217450872719353,0.26739233535937534,0.31550078441602125,0.11851327254511072,0.09372296790544415,0.14349991898134004,0.1655423693081595,0.1907602844558747,0.33085538745182413,0.5737753835408539,0.7451896056630166,0.6616950141210065,0.06010070054448719,0.3268789307050621,0.42487415961818914,0.2756583179758478,0.2879131727773294,0.7558927183367946,0.8378101870413677,0.19176996998352483,0.1977869737268346,0.08424328748643697,0.037914036787333315,0.8656381700788955,0.8874603260454655,0.8732544391452802,0.892984223746356,0.8924233016883356,0.8389044232023916,0.7488271467727904,0.6986540382465877,0.48163183288174966,0.3851372272293379,0.8610599237162431,0.35268263011488893,0.40268979162615176,0.3254756305919875,0.39756212980934413,0.8438681313170722,0.8216992214134524,0.7619686385172973,0.7483019783252288,0.006814084131813954,-0.05219387190418071,-0.16142336418812064,-0.2525571951286619,-0.32681304951363505,-0.3948045315442965,-0.4545259473233364,-0.4936284639891023,0.3021586671665626,0.8531398236234514,0.861429364198863,0.8614293846999385,1.0,0.9387007749159078,0.46662050405574895,0.24021849199347614,0.2057556187240543,0.9961856469795156,null,0.5053142633793187,-0.0018669953630601566,0.47036578296549464,0.007171234202647738,0.8968182796107363,0.3202237062949939,0.7704666885001681,0.20210251147375388,0.5967198041472491,0.18315101066875744,0.42363460836903555,0.572255344347748,0.7364419770281497,0.8892590795008396,0.8314793695621066,0.6214876182802639,0.4646078960401015,0.34889288596664386,0.1700804012560657,-0.0018567068088980127,0.20233256881821676,0.8614293698303909,0.15094360236352972,0.7754200094865815,0.6143114125517849,0.7464390359778212,0.7757704064340326,0.7647513428455296,0.8966226066636065,0.5536332252486164,0.17992919942935096,0.03140501579926796,0.017672040009965456,0.2107779175027064,0.369662113802395,0.7491353222913925,0.6201234327227522,0.08385973590757728,0.26764725828006874,0.03671428350960271,0.07155579346726505,0.7996707014071801,0.692307991611244,0.3418264076386199,0.058962292251801635,0.12055863469575301,0.03201108681448581,0.26255849545702864,0.0007384097130057279,0.06592379950058988,0.028374209437703884,0.03481600769251539,0.7866612345849451,0.6425262432172982,0.6437545048979352,0.26239210185950107,0.4714944085324714,0.8119901506996131,0.7995466012395945,0.5329079243285577,0.5909694274544478,0.47274229205650803,0.40352656746751925,0.024775734349506463,0.030941566690160033,0.5669640647366219,0.8188475916517179,0.8335746900513988,0.8159088826592376,0.7848664874123477,0.8536424786459086,0.8056264793609965,0.7539221925370759,0.7344686368735069,0.7094726356009105,0.5599974731176389,0.4395068557291391,0.21752838551570333,0.015361148234631136,0.022941095978808265],[0.8457668734441813,0.10055242017094933,-0.018278208650998478,-0.0023589092430420333,0.031901813884187724,0.05058759504960447,0.029065333800313623,0.1753954777937678,0.3340215036395603,0.5061200168901354,0.5780625138254895,0.840435955915728,0.8574303529445408,0.6886436218542367,0.3597977378338256,0.11346586318199282,0.8053563329563715,0.18782764802986057,0.09640147341495552,0.05993930664720193,0.33734603641870414,0.34323075112579365,0.8105110272253409,0.7938230604535401,0.7436079894051685,0.7649670079194072,0.16070424909913836,0.03737773499532359,0.11550375211003686,0.05064887335165152,0.23062764064640068,0.2577002396794175,0.08993082597041689,0.0689564707123543,0.11713834286734923,0.14185710632640264,0.19948633963541873,0.35042838126326215,0.637939440831491,0.7409413526447345,0.5977264894142416,0.057646646976624645,0.31928234410081,0.4302630799964982,0.27981863711798377,0.28045560543672143,0.7772542363327983,0.8216459125572698,0.1429049808970691,0.150852816989824,0.06357827725664819,0.041513791475927965,0.8213894719543935,0.8581661284347387,0.8518494735823972,0.9043394022560394,0.9327329338007394,0.9121689359750185,0.8573916795560553,0.7989910235619456,0.5033061137950552,0.3604280892605159,0.8095079134498074,0.31068123464268366,0.3648963394062446,0.27333182323128496,0.4264408913156155,0.8050239676621265,0.7832080675501825,0.6955759929966734,0.6934238075663923,-0.002746354082698863,-0.05276891136971606,-0.13348965997717535,-0.18868348652365374,-0.22561373782972435,-0.2547294312933082,-0.2749781037416379,-0.28563867445294516,0.28315062340434755,0.8480628919415846,0.809450261757921,0.8094502657700076,0.9387007749159078,1.0,0.5377990982602024,0.24508293662729586,0.20282391983541467,0.9449217659107956,null,0.42071392199417923,-0.0023682659293245475,0.4345323434678609,0.0050488620694715955,0.8762548324314832,0.23115464440808314,0.6805989606297091,0.2167720850111299,0.5206016746203387,0.18617724604512137,0.4165445479146569,0.530765349083265,0.7017799335076103,0.9100499422440159,0.8535664773827141,0.5742628945571591,0.39880033440701523,0.2948214370179604,0.18508571118240227,-0.002356867393006863,0.19163368187566437,0.8094502521378172,0.18797011182978887,0.7515361177942191,0.5962988015964789,0.6825123287671667,0.6901122475988447,0.7990398669796492,0.9127835090104689,0.5009092513852536,0.14890776151415167,0.014339912141084741,0.014796668896837619,0.2063794938583408,0.3441660663067277,0.779111490599172,0.6109298103028274,0.07025948788711564,0.2431496323784178,0.04293714833238733,0.08114300106037294,0.8215189946777945,0.5991582484821089,0.28376529525532623,0.04465528437672654,0.09662297962115696,0.025668242037287528,0.20245711712154263,-0.0010475444739841968,0.05463960928183128,0.006768192825936732,0.0069759043998034245,0.7606055033855987,0.756440084257246,0.7472713827217144,0.2259781404567307,0.41020961761811353,0.8059839455313056,0.7916448531081999,0.551586749561476,0.6390887513077677,0.3758446372142253,0.33531248843768785,0.014438506154514348,0.015514630820804261,0.5888959981807182,0.7634410893846733,0.8069122878948566,0.73115174814441,0.7473841150778207,0.8801304599982147,0.8532458011332069,0.8158822967160412,0.7878370605367128,0.7373306126462877,0.5374081376226039,0.551284048904974,0.29149335629453355,0.007017598694689807,0.017391472301972088],[0.4290313330340972,0.02390613664237037,-0.06271745470528062,-0.0005832373971679782,-0.003929964825465822,-0.004414622303406967,-0.00040260512554168165,0.003800333117358945,0.011828168981203521,0.02343247211811652,0.0716042967640413,0.38308705515118413,0.5916138758049785,0.46807753969199634,0.1627704506339415,0.09674490079018927,0.44920849973177357,0.10670412684321878,0.04062819684599599,0.016924514401486523,0.016427149665137097,0.01727406746560854,0.43654082988861515,0.4132596167213293,0.3650710626269196,0.433551557667283,0.007171326961319077,-0.0003945589896188289,0.04459864546020331,0.0032354575533028026,0.09034067164130585,0.05311545180829206,0.04000625300681819,0.01652502617594729,0.01581717414166577,0.03788807513322716,0.026975547145219773,0.15278613060756824,0.50063140615987,0.3715052683335709,0.18377469914793565,0.01113702680463658,0.11589890289835705,0.23117724071207785,0.15813485423355847,0.1862490653815714,0.45139696842010013,0.3891423896157499,0.004203099921275516,-0.00038940020618814276,-0.002613083035159903,0.005849219401574499,0.45646008646162656,0.35340720567254996,0.3538609226424216,0.4304716400676082,0.49280886590029427,0.5746132847085006,0.666513811250259,0.47824079694549554,0.1875313771899904,0.035031330464907105,0.4206252139026681,0.06041458214119592,0.09981468040121821,0.054968284929838476,0.3958207934217938,0.4491725710207567,0.44996618478140343,0.2998716916560436,0.3779105615354297,-0.020235589770298126,-0.024643878861778785,-0.06352856558185348,-0.09064346606007827,-0.11346497600584254,-0.13746957911674595,-0.15932756943576568,-0.17210706086407657,0.10243387089123036,0.42944184211526865,0.4205849009376033,0.4205848546867115,0.46662050405574895,0.5377990982602024,1.0,0.09674447141459448,0.09065522934770583,0.4840110343571333,null,-0.0006534549940701819,-0.0005740745863202129,0.33035248294706177,-0.0014157861478309578,0.46915230547663966,0.021765203371164804,0.3528668530894771,0.10670272532625086,0.04543602487626696,0.027336922316487825,0.019889726460237556,0.04325364167269124,0.2318033383364719,0.5337251547778145,0.5339925743751548,0.30135803253044824,0.14370574629595803,0.06772712682796492,0.12165768603385127,-0.0005861260420359573,0.09282614620253006,0.42058487616301826,0.008208283301461916,0.35458322063138153,0.44536263660176606,0.31641680897988717,0.3356576628443853,0.34491519906215334,0.483564399620442,0.2656025962925916,0.04816073333010759,-3.181251396572588e-05,0.011114710440698687,0.20985458728830103,0.5818072757245825,0.06608359692856038,0.04551717988502192,0.031621309257589214,0.6304056618866385,0.028624897787692498,0.0014795844921913109,0.28907167337741757,0.3694889213963397,0.0742550501258101,-0.0006459339999416073,0.003304772139446118,0.00978979266629943,0.028343674577027383,-0.001254257195350858,-0.0029169107805623166,0.012182535338088737,0.014134325945367454,0.44939493312021184,0.5838939352503085,0.5270579354088697,0.0513848656566169,0.10733497637008718,0.5115097898461057,0.4906727389486132,0.37566670768558735,0.7324363852223897,0.019258498016715715,0.14387226422215055,0.0008081405385407445,-0.0035940875412211553,0.3922967608480193,0.3700496505537257,0.43832809463466305,0.3391159064688642,0.4446211673556001,0.48715472021034045,0.4583079897147575,0.4315394128886824,0.3985816396280021,0.29337354300172463,0.1483477110434131,0.48068220803787765,0.28390841873746153,0.0005467641461574534,-0.0031010582531367605],[0.228518534066445,0.08588711613383564,0.040127811564057404,0.0004937305695021956,0.011766302601111568,0.01833373913024705,0.01362018202952669,0.009165950784552469,0.01704199370950402,0.044418919733995324,0.07772554164587962,0.17852801608136934,0.2497178432947482,0.20200035257022622,0.09467483097897698,0.01751398150249786,0.25679636872601097,0.02421012268533172,0.0045428752056203905,0.0015319713997949812,0.07607919121614128,0.07615809877921367,0.27318773515273775,0.26908598019346885,0.21618874155262657,0.23238764143835072,0.02041602380699038,-0.004438308755027825,0.025033837362861834,0.011695862304160452,0.09421121348445936,0.1282810527167217,0.017488734486266314,0.009237335455772594,0.0066077241986354516,0.010942142597225278,0.004302587943623728,0.03309982456825224,0.19803189587282474,0.15295245360630275,0.15201159529824204,0.01087015612840805,0.048882951442241106,0.07570594289825403,0.043537599088667465,0.08604198349759631,0.20920252651566804,0.17252279610028765,0.059969771187863286,0.02670665327483012,0.014749126978933803,0.005262587120795685,0.20081499647207143,0.2192214787387303,0.20119689855864875,0.2180816747035577,0.2247583529267373,0.21839285075539006,0.1922668688208764,0.203130949420531,0.06265044177906759,0.03832765109319305,0.26256853324781837,0.07030692865541865,0.0948765784835599,0.08290792536593355,0.08568976108405116,0.25671592128485565,0.23763640434908054,0.19942401946322488,0.19993507199436128,-0.24137626890348332,-0.11548566565408824,-0.18304161501031646,-0.21269293950393842,-0.22296181279960328,-0.22743025147419607,-0.22502996375251882,-0.21946774038726563,0.6834216909014008,0.22851237648338096,0.26261532527238407,0.26261530947073536,0.24021849199347614,0.24508293662729586,0.09674447141459448,1.0,0.8658294239562812,0.24007480993113856,null,0.2714095492296654,0.00048795575903083904,0.17632393643616642,0.0034164613592507324,0.23450522178751687,0.04646545424616976,0.1921339944800534,-0.004960660443167995,0.11274261861523256,0.009942993334735672,0.034019827182491115,0.06391019407150894,0.11924776747644046,0.21135657128004373,0.25227488689745303,0.16747262475984812,0.07863992906147738,0.055643045976056404,0.010503116960604748,0.0004915840040386813,0.04035485164361159,0.26261533824259464,0.054571910944107724,0.2098601950878194,0.2044730277598142,0.09098012968918166,0.20437122537881655,0.10640192460351514,0.21964602807685474,0.26070283955248996,0.08351592451261454,0.014663769853326071,-0.0013457037161379785,0.07740020661504536,0.08728024333445926,0.3406610439855272,0.14394646788383209,0.02099103836431406,0.049742058145403445,0.02372411698941709,0.05746108038986232,0.349042563903924,0.20268480852787243,0.1069627439572352,0.014154556237186307,0.020559863356393326,0.013186942712473247,0.050942506858957515,-0.004625118278860766,0.0036247375648512086,0.02260520773905432,0.019132497335707176,0.2155533624280221,0.26586613406068055,0.2874667957132242,0.02953113570620006,0.08006605292596854,0.2581472101491028,0.2708927535237497,0.1932290124982633,0.19366719479959849,0.10758674280349076,0.07048985056489435,0.006222752882758911,0.01582947591334111,0.11769530342388303,0.230732748258028,0.24522185214867745,0.1800129897180464,0.16103110224229486,0.21926802092443787,0.21338832594900412,0.20450447975468256,0.20787824141752226,0.17512692866132204,0.09616661441152125,0.18301635102764005,0.08931052536650218,-0.004720080446349071,0.0058595222879320626],[0.20664517776263952,0.08612016500399236,0.034144475161573346,0.0006012279653621757,0.018954123250127228,0.023855867242949674,-0.00028819820120010235,0.01299581387873202,0.026127897207977476,0.05920270954845794,0.09505102730731764,0.16884471482602853,0.20715068660256683,0.1736678098949604,0.08234452077617917,0.017887687430471443,0.22769512129346514,0.03175568800561058,0.018779495722368405,0.014139044436334751,0.06144282650675252,0.06055099271226852,0.2321619790332356,0.2293095797066705,0.1707888751377975,0.18749485630915,0.023619439785313938,0.006482732774292067,0.03232631841994733,0.015313337825355088,0.0915806522664675,0.12026388237760667,0.01915568023105002,0.010103565581184824,0.016740657208524305,0.019160444409807124,0.012056644759830908,0.03231638571410517,0.16162149642452237,0.14989429525964557,0.13402053740965258,0.005608353951887077,0.055734716318102916,0.0700299825537299,0.04291965765738479,0.07420353453514793,0.1789071581160684,0.1601062434862916,0.05853578592345028,0.031983573602258945,0.01734483343580933,0.0036375313079454125,0.185554843091569,0.18784863290346088,0.17078287044633012,0.18029035693692344,0.18643910569394045,0.18042078779190687,0.16082630854929164,0.18166392985893476,0.07446827366223327,0.05365160739970232,0.21772841761821413,0.08208398345525977,0.10204161701693891,0.08019741791002237,0.0726091419329018,0.22792478988389575,0.2023441379373402,0.16759325158954,0.15183975249957984,-0.21135388756216458,-0.10012155102274169,-0.15989890393144351,-0.17926118784915984,-0.18195159021021415,-0.18590164679051607,-0.1880656357780968,-0.19007968472717518,0.7991685142606937,0.2067073124156461,0.21849906326522417,0.21849910033351194,0.2057556187240543,0.20282391983541467,0.09065522934770583,0.8658294239562812,1.0,0.20576303423377187,null,0.2362022085625605,0.0005961647960319078,0.1253180245949423,-0.009079228666761002,0.21158863487118232,0.045525918424888026,0.17275462759814292,0.01397847368330085,0.10236255301227612,0.017275150369013986,0.042255084894647084,0.07433299505790263,0.11960388197551293,0.1853557643397603,0.21282904711558448,0.16192058941065082,0.08299607401880603,0.05360216126136705,0.011419024620770003,0.0006005360907322916,0.03745450487402314,0.21849910449708454,0.04632880666657951,0.20028527534208537,0.13558555012637669,0.10112508695284433,0.16568664299135474,0.1111169382722418,0.19566267363911508,0.22734048351266772,0.0757266757828263,0.0066099229032729355,0.002785040896132828,0.0727421518763226,0.08353005167957464,0.2933181994705526,0.13155714692700052,0.019875533484011696,0.045904397130036904,0.012378467285050342,0.0548028968716066,0.3003595495348555,0.17435676855612742,0.09707351571268699,0.00793005189620871,0.012956476195747175,0.005176839426134152,0.04488935983910635,-0.0044892355309975995,0.013551281914333978,0.01750338818056263,0.01736869049152292,0.1849396938785698,0.23986889091256208,0.2571976549390736,0.0183755176318037,0.0833979244848663,0.22870980523241596,0.24069324141092924,0.18781453592649783,0.15517686109474738,0.10192643526818049,0.07373347014159481,0.008049232673867307,0.018853698924980563,0.12889982694398755,0.18219215978162806,0.20213040366548177,0.15465819831853755,0.15340554277289117,0.19235360933591145,0.19160185424554768,0.18751864522220757,0.167571543692385,0.15043961252663088,0.10147411916828976,0.14349174441461474,0.08326999182077156,-0.001976756929462626,0.008402614483747479],[0.8471912532199237,0.08934514634163528,-0.02632088432496521,-0.002029637495054499,0.03853186855627901,0.06247329513697821,0.02796155927790419,0.16235309830808453,0.32900046270542527,0.522849704468224,0.6305094284310091,0.8739834773891856,0.8257538446536862,0.6813475381653152,0.41000577260709636,0.10992052711566308,0.8442819213422627,0.21274434162830283,0.09406923608402579,0.06057583482067998,0.37852063116586576,0.38138087152683364,0.8532536536463302,0.8381885504140644,0.7942818026282567,0.7991744140177449,0.1982553453626794,0.04352984409390207,0.11403962868662948,0.0536980520654258,0.27336753713734785,0.31378474843671955,0.12404921870983124,0.09671137479135608,0.14720093245439828,0.1702769671127175,0.1970827880225287,0.3424409091609334,0.5886203662752788,0.745263364731757,0.6545846898550067,0.06307625293939956,0.32859459162311033,0.42609425117542843,0.2778889816939071,0.2946783504079472,0.7636560182623503,0.8416150785996416,0.1782130986423259,0.18940220027390206,0.07752072178163759,0.03997774682921385,0.8765535277425709,0.8850112608670251,0.8675548631783869,0.8928494409890131,0.8979654091916166,0.8497188799802627,0.76293537153783,0.7079349709822433,0.48015835991881756,0.37293478771736777,0.8564347048666723,0.3394591165309614,0.3885578750713439,0.3078690708118567,0.40488898931292194,0.8439389859892157,0.8257836455737885,0.7259654878675493,0.7533689096297171,0.0010165550268882216,-0.05721743265520253,-0.1657178589946046,-0.25601718571338794,-0.32983825137011374,-0.39732620597605806,-0.45657829450120846,-0.49593136987022757,0.2964211118443484,0.850315675662882,0.8567678179172562,0.856767841813937,0.9961856469795156,0.9449217659107956,0.4840110343571333,0.24007480993113856,0.20576303423377187,1.0,null,0.49399765874894325,-0.0020385862683748165,0.4659451537147548,0.008140442428971264,0.8976478962086257,0.32836015758077125,0.7768103577187248,0.20557297061868277,0.5652238972073045,0.1868186404009664,0.4214791217251372,0.5602815127380232,0.7288023887577566,0.8971941931574547,0.8452073011707739,0.6300266366636446,0.4599382818588733,0.3370340268210784,0.1693629853291991,-0.0020283483777724484,0.2030125660692569,0.856767825418169,0.1495060868314261,0.7685372024187985,0.6129532538427559,0.757457429636262,0.782773502893858,0.7761547359701412,0.8979708410337539,0.5494324218585599,0.170853266090237,0.025889176484361443,0.018009828611688584,0.22245914130216318,0.3832302410408967,0.7480895020535111,0.6061603692325145,0.07833837500866186,0.28434814376399936,0.03510794314407624,0.07458744562236819,0.8038914252143017,0.6910673362982238,0.33577684935970614,0.061025565359050016,0.1253460860853726,0.03397292085987713,0.25999631534401774,0.0008188869927673243,0.0630532600159661,0.0304570990400628,0.03704599677744465,0.7915133715998428,0.6581356733395429,0.6571578319749384,0.2421889636614858,0.45530258377635696,0.8115534332370462,0.7994522070226153,0.5443569169135128,0.6071360413715314,0.4417072555990134,0.39641942516734585,0.02183730393201402,0.0247203469596986,0.5672569278871428,0.8032066135576852,0.826108802458654,0.8259248610901943,0.7974792019678136,0.8620197226487321,0.8108523108758259,0.7601258480492823,0.7334016002076829,0.701102009892241,0.545012350720941,0.45076919209209165,0.22518092473756562,0.012588012270009153,0.018198321659083992],[null,null,null,null,null,null,null,null,null,null,null,null,null,null,null,null,null,null,null,null,null,null,null,null,null,null,null,null,null,null,null,null,null,null,null,null,null,null,null,null,null,null,null,null,null,null,null,null,null,null,null,null,null,null,null,null,null,null,null,null,null,null,null,null,null,null,null,null,null,null,null,null,null,null,null,null,null,null,null,null,null,null,null,null,null,null,null,null,null,null,null,null,null,null,null,null,null,null,null,null,null,null,null,null,null,null,null,null,null,null,null,null,null,null,null,null,null,null,null,null,null,null,null,null,null,null,null,null,null,null,null,null,null,null,null,null,null,null,null,null,null,null,null,null,null,null,null,null,null,null,null,null,null,null,null,null,null,null,null,null,null,null,null,null,null,null,null,null,null,null],[0.5215224528154845,0.060352241268451165,0.05680285617105639,-0.0023518651048207617,0.06318967357399131,0.09417281756088647,0.037415700578461525,0.056782213460287945,0.18590696301597548,0.3589402616195415,0.44969549164803285,0.46337542663744136,0.3000056155052411,0.2648048489875696,0.19369543553840554,0.02943320132526134,0.526356923675698,0.04578114960773881,-0.0017208477036766902,0.0020381678252019576,0.35183007379110764,0.355712971185639,0.5359959033977617,0.5442389573708929,0.49130901855082565,0.45068830722169617,0.27129431458519115,0.052565874817668785,0.08340482315902055,0.02306876430316117,0.34150178747220633,0.4532272492947394,-0.00789838923042315,-0.0032360004176118996,-0.0068152557188002946,-0.005159650164812539,-0.005933569897820046,0.11283408931024455,0.20541277321325527,0.32805999931780533,0.4685558298536395,0.04462967911426691,0.09171176987131895,0.1634701345744284,0.09519120315360831,0.1957001725346971,0.3388021735978639,0.39274446537264096,0.26882798229253996,0.2504609767537287,0.11286058086559746,0.001370082127765099,0.42503677911247983,0.5335306447543696,0.4852974359765065,0.45625585788741363,0.4135904927354874,0.3263259065365184,0.21282276466007646,0.2520140678856414,0.21558173164596417,0.3119165168992278,0.5419866626184131,0.36651597797702157,0.40056120165554265,0.38608259903771397,0.13683197820811907,0.5263764901017945,0.4848264712814549,0.466196630475247,0.44498496168260177,-0.08645136521021837,-0.1419939073509365,-0.21398647338797736,-0.2634578475523919,-0.2861970101968549,-0.29830712352527006,-0.305331684983079,-0.3069481692117313,0.23464661973496806,0.5224407575411929,0.5420348830870172,0.5420350498102661,0.5053142633793187,0.42071392199417923,-0.0006534549940701819,0.2714095492296654,0.2362022085625605,0.49399765874894325,null,1.0,-0.0023579005324049084,0.5149435599744564,0.00997412717294773,0.5313909519510032,0.2581220814469184,0.4878133629474068,0.04037735238206571,0.42733739453270086,0.092739712771589,0.2738899032357709,0.39999866576639637,0.4296825017546747,0.35824448839448303,0.3507942624758039,0.3907774345522796,0.37690329973689596,0.34371356003244247,0.21237996491104966,-0.0023482582090843303,0.1681463140875935,0.5420350940519844,0.1794748618143606,0.4115746922682256,0.39935525377166525,0.36865681937155786,0.4253529856766648,0.2688246186226391,0.44039640274616954,0.42602100436644985,0.17923837939805837,0.05224164899609543,-0.0017703831371291736,0.16575463745462976,0.3102030267897425,0.7418577101418428,0.522052348843209,0.06547880862063898,0.2147669756976836,0.0380191651078298,0.013253708972376314,0.778412460422018,0.6370565817416884,0.46557810288362445,0.06997836877301387,0.10095692162344207,0.0008486865065688872,0.24825154722170079,0.004803092085363784,0.07213459695227044,0.005730455903030076,0.002810643229120031,0.42386751455085914,0.3406132667384321,0.39921369500142395,0.2677360290564165,0.5136334512933317,0.5946062920872467,0.6567674830403287,0.17178412358734366,0.12801673412713768,0.5970571679739994,0.40548575756959965,0.03708082743090891,0.047563001823555766,0.3780340297306912,0.48444770484077077,0.46267287640941257,0.45301864679774084,0.3416245551183172,0.3964019772103554,0.3669321365701756,0.3291621436051032,0.3512796446118693,0.38207376563850065,0.3773799890034747,0.12319484989457838,0.06520538802148254,0.01822119944794647,0.028514373067122328],[-0.0019063084156901158,0.01635741233833923,-0.002381473064627364,0.9999999966219243,-0.00021374773513577403,-0.0002695817297580023,-4.8676651605722436e-05,-0.00013253782461260683,-0.00022390964465636478,-0.00042426874741177125,-0.0006888745248645879,-0.0015009004170706674,-0.002672582650098915,-0.0018828271828013883,-0.000786112422304308,-0.00012305149922317945,-0.0019509575153220796,-0.00023842271329770182,-6.297839380948732e-05,-5.713918326902067e-05,-0.0004944848590250744,-0.00047767680304983606,-0.002028503446004722,-0.001960915180133742,-0.001102299631030299,-0.0018835490349856793,-0.00041342879204080173,-2.856218291647608e-05,-0.00018856847619348735,-5.9877217550795835e-05,-0.001009634536190505,-0.0012476995522028016,-7.637928015560891e-05,-5.5045148191431984e-05,-8.917418112636022e-05,-5.921421466429704e-05,-0.00018182522203297953,-0.0003340376912774445,-0.0019851481919172086,-0.0013519869180621128,-0.0011364440153588478,-5.069711388467062e-05,8.442006945095572e-05,-0.000382498371725868,-0.00021949533596548294,-0.0010715148914178232,-0.0019801582617571846,-0.0012970027512044892,-0.0005246222140011958,-0.00025539241795340795,-0.00021135910281829575,-7.908647504629793e-05,-0.0016223819587278187,-0.001781581472116014,-0.0016111759174285596,-0.0019066087924590135,-0.0021801599981740583,-0.0023887905433979707,-0.002585244680544477,-0.002233212618866792,-0.0006586367585561862,-0.00034423811553366344,-0.0017873887669887835,-0.000596258304473017,-0.0006060395968893608,-0.0006249071478247025,-0.0002918759680632147,-0.0019515018781140724,-0.0018453787902011276,-0.0007714154313439452,-0.00125143457759966,0.01806808167473663,0.023458014649302097,0.013248186046990662,0.0052329818640591014,-0.006104698787153068,-0.01974592348765216,-0.03248322351076502,-0.040664015626215244,0.00721432593384532,-0.001912829274188648,-0.001787538121064052,-0.0017875381642341321,-0.0018669953630601566,-0.0023682659293245475,-0.0005740745863202129,0.00048795575903083904,0.0005961647960319078,-0.0020385862683748165,null,-0.0023579005324049084,1.0,-0.001040220703672187,-6.9984244504079e-05,-0.002020752658289157,-0.00036133811118329597,-0.001364743318220036,-0.00023534102076079732,-0.00019749560692033786,-0.00016616012590928313,-0.0003480269342474638,-0.0006110428589926702,-0.0009078419869175862,-0.0018914905863927096,-0.002610906428959947,-0.001535631035863276,-0.000590022619925373,-0.00040363783528196565,-0.00021419706119921937,0.9999999970568832,-0.0003749447698026066,-0.0017875381348384288,0.2214556943134181,0.0002968987500393563,-0.0015909184691308706,-0.0007505156850131233,-0.0016804515328084802,-0.0009158071885476914,-0.0019560750055589824,-0.001736903812847796,-0.00017692947609353595,0.00013571479016581938,-5.677113956765579e-05,-0.0004842560014340461,-0.0007309507990016992,-0.0023646120823442116,-0.0008434209812010298,-0.00012957786932651986,-0.00034923871950697427,-0.00019062735736708576,-0.0009812195651964744,-0.002415905081321142,-0.001400323121631232,-0.0006638448191924416,-0.00010111174183316346,-0.00013226313551826065,-0.0001580498160253482,-0.0003863607570887853,-9.244987108880255e-05,-0.00012971434660176884,-8.717075365522602e-05,-0.00010899870253724382,-0.0017573967390720118,-0.0029182438234518792,-0.002843639351429184,-0.00016290238243278228,-0.000741751471017501,-0.002189424022215269,-0.002235609503187388,-0.0017489100531453915,-0.0017646928070428787,-0.0005739310174891815,-0.0005785056650963276,-9.8345399548211e-05,-0.00013944456626074689,-0.0008235357979389396,-0.0014104777800812095,-0.0017858661133989592,-0.001314539591278275,-0.0016091996292723178,-0.002095081574776221,-0.0020515432656739055,-0.0019434997445624007,-0.0016693587523934983,-0.00139973935879101,-0.000830113197131506,-0.0021643771040192267,-0.0010517959130978162,-0.00010247758507009192,-0.00011976017202901867],[0.3696902147066186,0.033057496332861785,-0.03861703748388189,-0.001038069529630097,0.03305091283184034,0.05163165842150984,0.016395794593717018,0.042612821938559683,0.10471155942426583,0.2069751921724201,0.2883000838020626,0.3752285949602178,0.407832360466207,0.3806321023342633,0.30020929176990846,0.02691569380054867,0.42049330354758285,0.10327185459915486,0.033749467401916436,0.023920188595130846,0.30327930746705156,0.29996266481256567,0.40135345978786574,0.3977513882014615,0.40735117566668744,0.38594995580021607,0.24714610917960625,0.12869748732627262,0.07656271637583864,0.0584846270748413,0.2607141476345625,0.2539762354836844,0.05934115414240389,0.03570522988212901,0.03155181375050253,0.01420777123444622,0.06081784786309986,0.20081306282282246,0.30025371321736943,0.29940865971107666,0.3171811631891107,0.08394190624699453,0.1494876151555408,0.20053964423660592,0.171428022287018,0.2201099908659568,0.3240297992713112,0.36297390725825857,0.13362419928377794,0.15939289680029825,0.031906225369422274,0.002249835231716265,0.4824847545951725,0.365062415464686,0.3600549140699446,0.37221723547454216,0.38022841017320713,0.36214405163470825,0.30028505435572145,0.23873984432068415,0.28730089281868176,0.25244793872600113,0.41503861867977754,0.22822973631165536,0.2559076285182428,0.30644296022652395,0.14048679798577055,0.4204684635050945,0.42403344702489076,0.3961711281056784,0.3475884341948087,0.00028964418743220374,-0.010094999697479456,-0.04337583112499034,-0.07082775160066701,-0.09347065971613723,-0.12308287294527001,-0.15022099705143915,-0.1703461837726339,0.13805057131308213,0.3702646101973353,0.4150383942455324,0.4150384838150576,0.47036578296549464,0.4345323434678609,0.33035248294706177,0.17632393643616642,0.1253180245949423,0.4659451537147548,null,0.5149435599744564,-0.001040220703672187,1.0,0.0007080365360939807,0.43304364869472833,0.1119604472311135,0.43400130199774817,0.023080182129233365,0.2838815740986168,0.08158900694939757,0.15452556140561252,0.2266215606944707,0.2795473781709324,0.35012042026844786,0.3880624941599781,0.4551293073041237,0.4492730240300336,0.3418860032647304,0.27492941584135594,-0.0010361047075224327,0.14584889142006907,0.4150384774979819,0.2720324313468688,0.34434034238311123,0.4104373777453401,0.45403424897738665,0.36506676313724723,0.30925719720426537,0.3832601532502024,0.3053269218688434,0.1451320514975641,0.06113183864135354,0.052738993761412035,0.20033578169911762,0.44407048168277785,0.46900062647806096,0.4003637798946283,0.045817708824609615,0.45026605529266533,0.029082846547538677,0.00995796128863308,0.5675903191926503,0.4705323479666482,0.1945743172594535,0.029832490616812098,0.05781811285568821,0.06475277033127573,0.1356347709525199,0.00422607697616539,0.02599509922424099,0.006571470098415076,0.009301391735017008,0.43482260756867996,0.26282618143724223,0.2380099918271074,0.4108272563338339,0.4038254994859019,0.4919387903803221,0.4890194774028685,0.14059452468268577,0.2119103389222338,0.4174721778991604,0.4398091005624277,0.010863180272111443,0.017011042317823057,0.3451821679450737,0.47937087986529453,0.44740369369469357,0.4439278657739717,0.5143032990927288,0.35944787522397736,0.3219133391556144,0.27554791625509073,0.25133010275652073,0.2527545255138387,0.26267416639873614,0.08744484810520788,0.03059243770545868,-0.0008568258617219929,0.0007357377799204344],[0.01575673676459021,0.004352028441728702,-0.007530293150438622,-7.005669015569923e-05,-0.0006594283531573295,-0.0008395854889939543,-0.00014604379158436384,-9.351302504393184e-06,0.004725871897337962,0.014010649349727847,0.016145777794910245,0.009071152147337657,-0.0015799476780987863,-0.002361834666511835,5.8675924960959825e-05,-0.0002598640941912012,0.0208121347772528,0.005061897865346876,-0.000151170092637308,-0.0001806922768214346,0.020263195645077496,0.020269116440386387,0.019930604057142212,0.02011339559797659,0.01675081174649441,0.021226484339017224,0.015383118647578825,-9.34007439873772e-05,-0.0005013868283208194,-0.00019084589145165848,0.0020855259770348397,0.004632094848932256,-0.000231614450688151,-0.00016660486936678529,-0.000268889236570253,-0.00017809445285904947,-0.0005467655582876258,-0.0010939240097619393,-0.004518314689968664,0.011364259249778021,0.007501121373920825,-0.00016047999196814973,0.0012779255008634762,0.004554534872641456,0.003464985752866839,-0.0008765851842899466,0.014133293806186034,0.004662878105594323,-0.0014888630552903793,-0.0006983986181273111,-0.0002431988915126996,-0.00023751191725379834,0.01067544927951795,0.011125287737173492,0.007606161963986987,0.006570483879102625,0.004139955897743777,0.0013153151780376134,-0.0009772651542016848,6.395528883677896e-05,0.006300018274259501,0.0027232584313477406,0.01992341284963005,0.008543193394895834,0.007123920057950997,0.002156669862290204,0.0009462162357232572,0.020808120841744424,0.019532351843383488,0.005681665817089862,0.025492808827975857,-0.00044686430498567576,-0.002476561945573202,-0.00326120297962031,-0.003317376861352227,-0.00592305170786716,-0.010504841242757473,-0.014813279510994754,-0.02345287345861812,-0.006887202938702666,0.015778048677981268,0.01991991033013671,0.019919908491086415,0.007171234202647738,0.0050488620694715955,-0.0014157861478309578,0.0034164613592507324,-0.009079228666761002,0.008140442428971264,null,0.00997412717294773,-6.9984244504079e-05,0.0007080365360939807,1.0,0.01665476376626031,0.030334951380047027,0.02525060701013515,-9.791327074517428e-07,0.003409096493528851,0.0008119269917259859,0.01407563991238759,0.025863357525738442,0.0199876700797653,0.0049117169559319855,-0.0029514403701893883,-0.0029914076143681334,-0.001493614989829555,-0.0011400102893254845,-0.0006365946685776519,-6.962825898047983e-05,0.0035314964170288263,0.01991990821721564,-0.00040952300978579713,-0.0017815676622496008,0.002456258901278258,0.019022308627537673,0.004418321776402605,0.027715966555387862,0.0036088342705892693,-0.00557797199203349,-0.0016448442043323326,-0.00029437223426498094,-0.00017045595252786758,-0.00024829968414313445,0.0013528328559781035,0.01719683731088986,0.01820336002792783,-0.0003894359210095653,-0.00119502233830554,-0.0006064610740193827,-0.003106188397010551,0.015318543433292257,0.01631105688868637,-0.0012626772354281963,0.23440317428133503,0.0328084550651092,-8.033135826340165e-05,0.030308179926988914,-0.0002924248928311855,-0.00041139502755217734,-0.00027568887464262954,-0.0003449066099514278,0.02103203955921288,8.39892394941953e-05,0.0008377704562838831,0.0007876385592251854,0.01106130346507296,0.013607080422416588,0.013446219607328825,-0.003965638402246762,-0.003979405418090959,0.01899302579868645,-0.0015155408656682703,-0.00031097340475295157,-0.00044094163202473667,0.005629642234409945,0.0029702989036610324,0.0012855007431110338,0.016906363206324805,0.006128409764851256,0.005277691745632748,0.0025889132352190747,0.0010665171325333507,0.0013432162806852968,0.0010228662698401425,0.012723173396481503,-0.003946297258389533,-0.0030896348019172092,-0.00032404704869191443,-0.0003786896353914761],[0.9653458590661554,0.08114009761111377,-0.03291480225123038,-0.002015155900934674,0.0529428999815635,0.07818321893149568,0.022175415998286485,0.1328132530961711,0.28244378447830215,0.4622902131151173,0.5759403508171747,0.8042946315933381,0.757765638713848,0.5962621401303012,0.31804621896492397,0.08127845019362628,0.9312356569740141,0.19634600313796005,0.09055186823295673,0.04820916869450223,0.45441736466396654,0.45981461955268144,0.9323314479580223,0.9220827659152254,0.8646718898146826,0.8515884498770638,0.21458212299876334,0.06054497620454129,0.09885554466491792,0.04414516794595571,0.2477738068722818,0.3081444152535239,0.11335623438711576,0.08574181598582027,0.14572007402158174,0.165787737711007,0.1960937048761066,0.3275000091751399,0.5448558200618718,0.6802333974865337,0.5757216693949135,0.039919782160518245,0.277836028069565,0.3768526545992814,0.24838257139999276,0.2463858939259733,0.6897863364371135,0.7710263193005689,0.16241876256182022,0.1655784110685904,0.06563769228055552,0.033098905631993615,0.7674388420770155,0.8139441163232759,0.8075478960769092,0.8327229008080889,0.8391260257238736,0.8002368120704233,0.7230150300008126,0.6555230066132354,0.44379368123605173,0.35053983005929235,0.9367504975937517,0.38222021623923896,0.4344208396057514,0.35912392143170246,0.39042191069779436,0.9310693883038569,0.892927698543415,0.8129386762142172,0.8007284260725974,0.004740690204415509,-0.052694191075325816,-0.14777401373192978,-0.21610464209479802,-0.2634765764478092,-0.3011587805057896,-0.3279702320056288,-0.3435661345217854,0.3038165530905141,0.9667355191206801,0.9364586078403481,0.9364586050381821,0.8968182796107363,0.8762548324314832,0.46915230547663966,0.23450522178751687,0.21158863487118232,0.8976478962086257,null,0.5313909519510032,-0.002020752658289157,0.43304364869472833,0.01665476376626031,1.0,0.29936062239410693,0.7957616638341691,0.1951824889622991,0.5066932918917123,0.14869567651357626,0.3649305017715584,0.5098450774348562,0.6727368706642304,0.8349750682796475,0.7604507437352434,0.5319943066239936,0.4018026950267191,0.3106267779757638,0.17011722925639863,-0.0020106845371266695,0.20228395550195433,0.9364585989073542,0.16338901133817407,0.7097500891310936,0.5784309097553121,0.639040669100718,0.6504054655083183,0.7033741085006331,0.8424761984483321,0.49546033359310526,0.1565999733262247,0.019023087799529124,0.018409328148607847,0.16595248360403905,0.33337987891989074,0.7608497315520392,0.6525399661555286,0.06937627533374047,0.23585537072791096,0.03373873440660927,0.06187578141129075,0.7987124596267902,0.6865349480614363,0.36119495208761965,0.06419688574829333,0.09421189393565516,0.02384812318883533,0.23070143210085928,0.00018280831951816888,0.053063076447462255,0.005490854606993593,0.006577039297194034,0.8497665397942289,0.6755037520254239,0.6719518238055102,0.2599126161522659,0.5093950518511844,0.8345805254172111,0.8237571280172018,0.5113029490034761,0.5732584945539958,0.5169206662520733,0.427358751489672,0.02261352742960397,0.026698984974535454,0.5876893217956891,0.7204522136075183,0.7467694813397122,0.6769688788133484,0.7021113644186945,0.8001932212351917,0.7701897327375901,0.731071573241912,0.706361306977555,0.67270248749971,0.5334971829880707,0.4474465581945174,0.23058903880492948,0.018238315979889366,0.0339922100625003],[0.2737216010208158,0.07197008865413992,-0.02171324273922876,-0.0003602881723189914,0.003768802822084254,0.00751181565248842,0.0057799249213345335,0.13679144393392723,0.2674818585938993,0.3598767523631388,0.343310568823726,0.29697536656386925,0.12071143462451384,0.1136795144777107,0.1822664466477093,0.11282808306912728,0.3596940685477385,0.020859641535062163,0.01373687295314783,0.0026007374734053576,0.24285071616818013,0.2544620153591021,0.38349681636886257,0.3865128662484131,0.3416825292505201,0.3701071268890915,0.14322803337077303,0.004056539865655285,0.25752995906920184,0.10973393446018033,0.12123336649521554,0.12456692108967486,0.010158864170319627,0.01668078855864652,-0.000677418958682706,0.0004432695022178424,-0.0014309245919785364,0.013708368531451348,0.03200841480851672,0.2321279629391807,0.3685952928996597,0.022162752084179647,0.20401559273034625,0.17143628126817417,0.08056099747833535,0.039592436489614066,0.1905456319301759,0.2793255989781733,0.10456841600003355,0.15307590179705044,0.06325021917563096,-0.0005997468780001192,0.3149392021001136,0.3265083146896295,0.2355596330659804,0.2193809975560917,0.19392445558357688,0.14182900074066765,0.0943364200152358,0.13172774117247443,0.15264029101540144,0.15409212101323486,0.38864203260828384,0.1703210962102911,0.1549206952502639,0.14732768725883383,0.07969943036321996,0.3553258191141268,0.3630578727724806,0.2208168827397447,0.40299852058967256,0.01870262090867269,-0.002160848189486674,-0.029774570072590257,-0.052948676066031895,-0.0691140875114052,-0.08484104204416774,-0.09589062615178105,-0.1022622414208912,0.09183709664226496,0.2738122023741062,0.38612445848610444,0.3861244426360995,0.3202237062949939,0.23115464440808314,0.021765203371164804,0.04646545424616976,0.045525918424888026,0.32836015758077125,null,0.2581220814469184,-0.00036133811118329597,0.1119604472311135,0.030334951380047027,0.29936062239410693,1.0,0.321181916387134,0.10153346629847848,0.21652770021011042,0.19567609136135478,0.31290624114233745,0.31824038274828426,0.32272731299082025,0.229321844943648,0.18081399354767966,0.1743216241429509,0.14070095837101673,0.1118832861395987,0.031235943428762115,-0.0003599890866471053,0.05806416348752976,0.3861244517486988,0.009627250312093135,0.1227380766917988,0.10139161828033816,0.37953356743352695,0.4153343334507154,0.3171742718334221,0.19125139881477665,0.11889431645390347,0.041527226528860504,0.0001510443811483387,-0.00037345092337166076,0.054639153194292904,0.114658975523249,0.22847197278610093,0.19188396178448128,0.020148626471331817,0.06397642192455032,0.0009309975741390695,-0.012057467952303488,0.25360158999836085,0.35343756142739424,0.16318894161736533,0.11636004786491358,0.31992434234897593,0.07561660299818006,0.6882463043684217,0.02693304043824698,0.10537374320629046,0.23432430615965089,0.27981439691385607,0.31912126003241176,0.10555239048007826,0.10387110769616814,0.13586578619162715,0.20209085865616014,0.25681591493933925,0.25503234038291395,0.10920379389918787,0.08715591346392176,0.20334626668691388,0.14113381000092853,0.014853871084550675,0.035336876095786306,0.12147445443521235,0.1512335577421157,0.1325953332058172,0.5148625807630839,0.18811776601713284,0.21778100468040282,0.17382588420259634,0.14825075044985295,0.21945094499683723,0.16513769517883242,0.0767681113756471,-0.013703540363004299,-0.014368939808769224,0.006671204091724542,0.018172249023618667],[0.7027003302129201,0.07283183772142461,-0.030617725906769908,-0.0013492246957148612,0.0330084473391166,0.044628044958947524,0.0332991311918079,0.1357018245918596,0.2795157535294957,0.41511954267592566,0.5078944333306751,0.666022091425676,0.6170756589366473,0.6030117565373818,0.49912092927627383,0.1142288836293459,0.7795048649911298,0.30577508588060937,0.13367738688625905,0.0691659299030173,0.3865027952434213,0.398668910587629,0.7775695665941492,0.7518411026661503,0.8029765421816277,0.8090971617857328,0.22261102513336264,0.04581253502453823,0.1838250290039875,0.06035916278191625,0.30379827183426145,0.33115494237180265,0.11298836006698178,0.10612751844546917,0.07675328236690139,0.09798707622722913,0.09510619209666367,0.25001718230343545,0.40653747106621285,0.5952926456698249,0.5543589604196423,0.10775246069870528,0.28870834717957533,0.38406979281180204,0.26870714755002806,0.3220141936571401,0.6249163933603263,0.6311489880074204,0.14280914768285569,0.1563789026633115,0.053015026848391836,0.04190452206100007,0.7709244572962974,0.6641455616225381,0.6323181204971765,0.64573896929958,0.6392961341481035,0.580972517740722,0.49850968293478576,0.526104567005078,0.4038532725598389,0.3020479356380638,0.8047338045850544,0.26907438338840645,0.2995938799464997,0.27014891102463395,0.37475067204571494,0.7793851093595028,0.8095985340719815,0.6452768652003203,0.8342793933330933,0.04380666841620382,-0.00981399535740717,-0.08830777550572838,-0.1432510990128172,-0.18430206282762504,-0.21481299381389363,-0.24002592838817527,-0.25291043447868294,0.29991742582590875,0.7058286752114311,0.8040752079624371,0.804075261359775,0.7704666885001681,0.6805989606297091,0.3528668530894771,0.1921339944800534,0.17275462759814292,0.7768103577187248,null,0.4878133629474068,-0.001364743318220036,0.43400130199774817,0.02525060701013515,0.7957616638341691,0.321181916387134,1.0,0.196575791023466,0.46531478395426085,0.16549644929775997,0.33137569107092035,0.4372466387839993,0.5488063095524934,0.6377194310577414,0.6759562965208467,0.6402077874619995,0.4595320209919794,0.2967828115184465,0.10593645093166602,-0.0013561165929635844,0.18434089553741648,0.8040752539811897,0.13434903110633153,0.5981399759584165,0.5071273470047275,0.7580520899153239,0.7738334702494585,0.6214179830147754,0.634904483969562,0.4230600358723361,0.12524919346501728,0.009948316628297009,0.006335419704031314,0.3098000580993504,0.4199168826845299,0.6029851342245253,0.5000445173698328,0.06581852956344593,0.3251424614481919,0.03389251843225819,0.03231055196726675,0.6678488612994499,0.7248486410602816,0.36381395854005016,0.07231000242242867,0.09251870362488598,0.01786022132026369,0.22867954258831463,0.0015710920300857304,0.04173766487737801,-0.007832271223119453,-0.0048042400941219095,0.7974206185442556,0.4052996950824045,0.41519208095176247,0.18886300122415106,0.3888729920069241,0.6460694072574575,0.6528607108928218,0.4038573191630932,0.46179753973415233,0.3952228311426242,0.3650489733562768,0.012884097962884235,0.01898988563021756,0.4401380000547649,0.6168488155596104,0.6172821985949776,0.8255529344800424,0.716197757819098,0.6144802363633795,0.5215064950907744,0.46459181644157527,0.4641629119129039,0.4712771165596529,0.3690283072972184,0.22429372727645636,0.10958443742148553,0.009797728910876461,0.027067178485335006],[0.17662788729288853,0.03866044232051471,-0.027162750368090426,-0.00023554785770435842,0.0009832337488050588,0.002074961345091488,0.0009468347429053708,0.06798256051417371,0.12949435862383052,0.16298385770715493,0.14720929751407277,0.18107715673330085,0.16690104970365324,0.13743286578255265,0.08880910460450503,0.025574576572760042,0.16792350623482097,0.052764262837727026,0.02683189301283262,0.008706202459024467,0.11664423785995133,0.12163749493065934,0.1649323796296529,0.15778568909188018,0.1910911625417608,0.19379385241472938,0.053838200125384775,0.010453053198605887,0.025179604045498537,0.007337566860623667,0.01526245452386253,0.020835741327350634,0.019734748503489,0.009549897999859128,0.006249928274232778,0.018345817750309298,0.017924052622669967,0.05340426751621853,0.13261402070557415,0.1712369119549956,0.13838987319218288,0.006088811546491711,0.12535874610170686,0.1431071275571838,0.0847916448615478,0.08947343824187187,0.17001986268745117,0.17688731578750017,0.02484233855497128,0.028255531249599983,0.011407064182904028,-0.0006782101050830149,0.17869824675226828,0.19727369919012003,0.18515615555268752,0.1904301862744568,0.19080012007740985,0.1841404961463153,0.17400447357129561,0.18250078239659934,0.11195289695024466,0.06704251739644287,0.17909911832780936,0.047763511291097106,0.05174456648046413,0.0369685672915381,0.12980876373077832,0.16655266790474418,0.17737300922983976,0.14245567638225104,0.20622316280396155,0.06838576482389781,0.058455203779882114,0.0504827520181224,0.04920215851196238,0.03798338263069963,0.030520040533629143,0.021827362970542472,0.011548226085713613,0.061618126151849084,0.17477491375989204,0.17773979029248635,0.1777397728857393,0.20210251147375388,0.2167720850111299,0.10670272532625086,-0.004960660443167995,0.01397847368330085,0.20557297061868277,null,0.04037735238206571,-0.00023534102076079732,0.023080182129233365,-9.791327074517428e-07,0.1951824889622991,0.10153346629847848,0.196575791023466,1.0,0.7491931218805655,0.06472541102879975,0.15899532230066435,0.15702670740680813,0.17213277525697943,0.1904447014263301,0.1741430199215013,0.11061343464688624,0.0735174068196658,0.045188968206468026,0.027074651593312005,-0.00023489954349236678,0.03952477521000905,0.1777397821879939,0.06973874304307556,0.15319581289948844,0.13265359809812383,0.18174590510225525,0.17838476975315198,0.20511099020923318,0.18428105018627064,0.0630099307508386,0.012822478703537572,-0.000827558455482213,-0.0006216309610792423,0.01186313752226573,0.05774550837401404,0.1280079338052819,0.13674309580331653,0.011828612947701869,0.024151992552190436,-0.0005600983077523426,-0.0098338795532462,0.12990269930943146,0.1065847121065153,0.03917279147642564,0.009789266411257923,0.038228067440092696,0.0062605570995075775,0.05251153208605638,-0.00039062676967610566,0.0027859236654762523,-0.0005201763552200415,-0.0005734616897470303,0.18940518943036694,0.11422246787814333,0.10101551306181307,0.07753592426973503,0.08179951347267664,0.12566624466764797,0.12278113513695163,0.060829941287714656,0.08226374569634476,0.060448125893029135,0.03468629310342415,-0.00018149704108557903,-0.00024656153226618107,0.06326411895090459,0.01829930850399328,0.015448091492943811,0.19256883070223954,0.16955038389246951,0.1842823441269243,0.16230476514516387,0.16050553520545827,0.1743613186200393,0.16393462979324686,0.09451668049363027,0.07253456306981872,0.02650519545870848,-0.0006566191783065052,-0.00010942519986585204],[0.5136522908326379,0.09108954839785106,0.034318511880841104,-0.00019570518748669773,0.057649513215625045,0.09057970260381061,0.004551727721250526,0.16269367775616458,0.39538086872853956,0.61065230435728,0.6622035815398536,0.605980148261094,0.22860795924805152,0.1124956441509299,0.16696906935244904,0.0787667597662,0.501618258505738,0.01899918176222356,0.0034666662951152055,-0.0027547179045814595,0.4207631976188264,0.42653061551022003,0.5115818779544758,0.5262637569517628,0.5427027362134998,0.4130355398765974,0.2536915509276649,0.038969681803509494,0.08420817590441267,0.04490202061901219,0.2266531893291105,0.2913047029377593,0.02119675578409127,0.0050277561787722205,0.21736835902493762,0.20626424357506215,0.14899069678853108,0.08991279904480226,0.04603566823899001,0.4237290498688616,0.6284552587103865,0.02382796571949578,0.408533535433712,0.4284548833318042,0.24510185064553539,0.08351312378136924,0.3048169280424653,0.5282128664195385,0.289027408663037,0.286995294535063,0.12150797264484355,0.003666333707715959,0.4506312601137818,0.5928930291026099,0.6207567868026405,0.5784992877303783,0.5086550783067344,0.37573905820074144,0.2390194739903876,0.28663102830702697,0.3142954517674774,0.40672138128921753,0.5391464011522195,0.35993439115896836,0.36257517083191043,0.3267682527272251,0.2241843783792667,0.5005645153970104,0.4493324084082357,0.5690695748027649,0.4443566870267963,0.14546318125140173,0.12662541843042768,0.10480562371825623,0.08627746666743576,0.07028367533463659,0.047563432893216656,0.02464751890607071,0.008978161989750134,0.17065680638290467,0.5138045551028638,0.5380425377805068,0.5380425192579346,0.5967198041472491,0.5206016746203387,0.04543602487626696,0.11274261861523256,0.10236255301227612,0.5652238972073045,null,0.42733739453270086,-0.00019749560692033786,0.2838815740986168,0.003409096493528851,0.5066932918917123,0.21652770021011042,0.46531478395426085,0.7491931218805655,1.0,0.17807189560175693,0.5001658268160566,0.6238924702323541,0.6358433706134186,0.4658607909934388,0.30103138496626336,0.253846353771545,0.36789234218920897,0.37432110613268704,0.10256405763587328,-0.0001913304106181182,0.09217197661829067,0.5380425268840093,0.14739454558690637,0.5311150119552895,0.3749114344424085,0.43108757252628443,0.492151992075239,0.4402022439912178,0.5019872911386357,0.37092051858976793,0.1422856793464688,0.032057766598400005,0.01269117030402105,0.05276034868681934,0.21356125250258712,0.5503527535969235,0.5860796376776131,0.09675525160412968,0.04240587799535572,0.014979403814570278,0.02360084938754085,0.5331079970986214,0.4844744420904185,0.32296221792141605,0.06242987685790356,0.1959451234260402,0.047381920117216404,0.2574574817865694,0.002192257906486154,0.06548697910775614,0.009139132994740016,0.010846392875431429,0.42189249496643383,0.1992340466634301,0.2219961332031505,0.23839133054946077,0.4354492124998957,0.47346056098176725,0.46568935902783043,0.2507913786732808,0.19131424938556696,0.501103462379545,0.3237083160084963,0.027173328580652,0.058062977606079,0.27824422318039926,0.6309798723148239,0.5676894859946444,0.5126849071660037,0.342698929113597,0.43208182542870543,0.42335914015836174,0.3868207849146655,0.482158415808615,0.5607098920437036,0.4696771684359768,0.029286471465593926,-0.016296597379502203,0.012943026278155747,0.03689916342036038],[0.1524899197248368,0.036731755519195296,-0.01498511730210973,-0.00016443145874138875,0.0025655611295085745,0.004787891980531616,0.08887093785920719,0.7565097521786689,0.6664433195236911,0.4192422743060102,0.2531205120882002,0.16504930745873883,0.05909904730248126,0.042672585643231085,0.06913137179091938,0.08095784616958111,0.13574538429443594,0.06104614726387646,0.006074990224369705,-0.0002649563610678779,0.25765486124433035,0.25476680122928497,0.13037309650634937,0.14499961719181725,0.13778594062932237,0.13109729722471353,0.07826126966097359,0.0062789724717067326,0.09803082012983921,0.012876329816910757,0.07942488522752224,0.09334724902984615,0.019221481242092605,0.00546728934819339,0.00127124271988533,0.0010812857067759836,0.0024906618166563167,-0.00048562684835482656,0.028112350864726753,0.18839880530738626,0.20835660480927784,0.02503451651495084,0.0876787161869616,0.11597138798653092,0.06731686105578073,0.02471869326183554,0.11169789292342441,0.18115947424651335,0.14904879413988295,0.3364004949625949,0.06537772961990504,-0.00043022521283115424,0.17472805951916576,0.19339222419807206,0.19835452545437773,0.200640863262836,0.1827335253201792,0.13915565924173254,0.09791988850438035,0.12514508505397806,0.1179087186716467,0.2396347074023239,0.1484670823282466,0.08254593146515632,0.08731282347597585,0.04221900161314261,0.058381206783985284,0.13291649145546133,0.11826820460969305,0.09764299944654171,0.1601665844424792,0.01971281210197781,0.006837135680396011,-0.0043398713451963935,-0.01673097213106919,-0.02192928817424569,-0.02887978979835843,-0.03424248081729332,-0.03964422242307993,0.05272833581012878,0.15260556523492474,0.14426725465644732,0.14426724611875585,0.18315101066875744,0.18617724604512137,0.027336922316487825,0.009942993334735672,0.017275150369013986,0.1868186404009664,null,0.092739712771589,-0.00016616012590928313,0.08158900694939757,0.0008119269917259859,0.14869567651357626,0.19567609136135478,0.16549644929775997,0.06472541102879975,0.17807189560175693,1.0,0.5726369513263381,0.2939494929815493,0.19493478940522507,0.12457645172548215,0.08623134157404126,0.11643472028967737,0.17228792910565557,0.1893701612123207,0.04730504211230121,-0.00016441362600008383,0.011149524233894493,0.14426725070299176,0.017787851005203567,0.12478712291708104,0.08018789791776525,0.19664893884575768,0.20312621982983237,0.17347677098235767,0.1691649729631277,0.11102593861753891,0.026221026251732078,0.00037882575695302636,-0.0001612107158104411,0.030278963530891503,0.09869583673744574,0.18812396380184127,0.17682983688727852,0.04730095284931964,0.016696644450970577,0.00027310920090600126,-0.002112823676448651,0.1902386292071484,0.12340631102246434,0.0954469433753531,0.028693896525411464,0.059697661728255795,0.012306896314890146,0.19544790184275082,-0.0002588098998899317,0.006954153636058084,-0.0008164398456608893,-0.0008933640461544743,0.12766138657952472,0.07786339841367733,0.08130236625346737,0.03993507618632055,0.07745127940615446,0.12320244469712935,0.12724668530315458,0.056177942697444236,0.06641026410656349,0.07847144932902299,0.03681474477331488,0.0015979822787147162,0.00934391061831455,0.10981736974493221,0.14225035603843372,0.10586209143639128,0.23219644938274273,0.10962635766235924,0.15177665512768443,0.1466169030946404,0.16969412141367068,0.2153596995035632,0.20484637416688237,0.0814966050761738,0.007803991531962205,-0.0004928621107278963,0.013094163477145197,0.0413903708694562],[0.3910387744804031,0.0521940804108165,-0.03207603505282737,-0.0003456125455206144,0.019260002961402036,0.0366721615393026,0.05659695181306176,0.6316345732153191,0.8617194858126549,0.8967147786172314,0.6914877463804253,0.4608129323839746,0.11733287786478687,0.046092274042164115,0.06884209543366493,0.05018679274975674,0.3242201048705414,0.01666074729662722,0.01194259372155368,-0.00082030567609571,0.5153644081669488,0.518401559995767,0.3361422534060176,0.3646588232912974,0.34945896351964884,0.29342576080440413,0.21947287744968788,0.033656158571074866,0.04719397447297359,0.03999113462277952,0.12808703082880285,0.19662402632271792,0.0038743814192834813,7.27319598916227e-05,-0.0011711272019424984,-0.0006392889428031918,1.4192185228001307e-05,-0.002517379002273116,0.05294722429439286,0.448665566720753,0.5156195426545919,0.03600891696260487,0.22398081745941942,0.2571036048596616,0.1344191092184088,0.04370462769475922,0.32510104219449304,0.446485992464665,0.13243812003736907,0.3246817964424526,0.04474068351911056,-0.0006808672603362767,0.34217476753356796,0.5604898438108594,0.542902264317342,0.5165376179179013,0.44033417180652523,0.31371332971518356,0.20217772254124938,0.2750912145106483,0.32154092055120864,0.4087416660981378,0.3677766652952108,0.25850330663416804,0.27057213856130397,0.2002850164905291,0.11144121233837637,0.3222339063414794,0.3000608130525056,0.2907502910100993,0.3600667997162209,0.03349237237534677,0.00910685158534211,-0.01724349494609961,-0.040601828308679686,-0.05877743446839031,-0.07335990423816084,-0.08430214925846005,-0.09196877556685258,0.107803162181397,0.39110520079017397,0.36555895150333206,0.3655589261780119,0.42363460836903555,0.4165445479146569,0.019889726460237556,0.034019827182491115,0.042255084894647084,0.4214791217251372,null,0.2738899032357709,-0.0003480269342474638,0.15452556140561252,0.01407563991238759,0.3649305017715584,0.31290624114233745,0.33137569107092035,0.15899532230066435,0.5001658268160566,0.5726369513263381,1.0,0.8350424195075312,0.644501575464663,0.3436637170811176,0.15835359477406158,0.12266403452693753,0.18613591242575248,0.15146670340270807,0.0328828744523994,-0.00034408630998933776,0.052555753723760895,0.36555894025785673,0.0327949961624948,0.3108561301354226,0.2269795591059402,0.4189770009647306,0.42166740174471606,0.4186667959810522,0.43630593265981676,0.1907998513227814,0.0689767504907778,0.00701254655654556,0.0049163647085632735,0.05151957434915272,0.1636374868669191,0.4055256864920778,0.4070207360702329,0.03720234986707778,0.027838422110246317,0.018778563816955546,0.03406962068706643,0.4071487623934703,0.2978647319642346,0.211627650721319,0.06768715702070399,0.11130444900638756,0.06596888593330197,0.26819765166813303,-0.000387990025522876,0.016519889926905475,-0.0015025733799626784,-0.0014881317705437058,0.28870170957110813,0.16581532766660897,0.17856551217580044,0.1835278199020201,0.28186372433384527,0.31854170150479383,0.32324511887846963,0.12671957094599615,0.09946217133580933,0.30148139124453743,0.15221905846628817,0.015199732679793675,0.010292517358037209,0.21307156682671854,0.2937689380728508,0.2703517727098293,0.46834079298548126,0.23272169362985914,0.3621436741678878,0.3525885478308201,0.37780925482477135,0.5250778687170533,0.5033013460592913,0.3532138620842025,0.013512935657106578,-0.014747899473976167,0.017560021058242437,0.02119703744158426],[0.5535056602212565,0.0678984391351306,-0.048318527988251946,-0.0006093936117295584,0.05177177472828163,0.08788394721561002,0.021204941867423017,0.3128939122607778,0.5946335422677552,0.8988083566484624,0.8892141424702967,0.6554802595390377,0.18107092375311581,0.06885557684024757,0.09125358214554269,0.052765915782039235,0.47242646601440447,0.018173489964079484,0.008204484054372482,-0.0012290310006826423,0.5454668016049937,0.5535585014029728,0.4918230848834138,0.5225225964475997,0.49492035790716743,0.39896130849701483,0.2708003140330962,0.057033107899359434,0.040704906435899246,0.04231789623426341,0.12498497111805479,0.2556099058586329,0.015670029507323307,0.0036972062964689967,0.0006618541072910821,0.0033254305331008815,0.006185674780068182,0.006789445157360057,0.06507257203938778,0.5780669019240093,0.6703825106127954,0.02232364470079242,0.2752993073109951,0.306342679397554,0.1633276808943983,0.05074215237918246,0.4349378558583134,0.5801647117799226,0.15557667871716044,0.26629416646821485,0.05635919058385309,-0.0010840901148301157,0.42776973034624155,0.7427016622121547,0.7538529233656704,0.6857289533249376,0.5654983703267646,0.39609309332959425,0.2527530038303373,0.3344857054447104,0.41574036477318144,0.4564419357366877,0.5222598511625223,0.37692551385801576,0.40250265386058837,0.3467315584077859,0.17182072397495476,0.4704838036227396,0.4348525723115199,0.4622577433882468,0.46545070541753486,0.031985062128661396,0.00121006521371737,-0.0412507571988181,-0.0768963269407195,-0.10531960854010725,-0.1283739034937093,-0.14338172324649637,-0.15378746778574845,0.1484875901219441,0.5538153244238136,0.5202329553629753,0.5202329216872478,0.572255344347748,0.530765349083265,0.04325364167269124,0.06391019407150894,0.07433299505790263,0.5602815127380232,null,0.39999866576639637,-0.0006110428589926702,0.2266215606944707,0.025863357525738442,0.5098450774348562,0.31824038274828426,0.4372466387839993,0.15702670740680813,0.6238924702323541,0.2939494929815493,0.8350424195075312,1.0,0.8833186914944583,0.4766575977229982,0.22215035352416088,0.15148047401054254,0.2007289565703223,0.1547905714230148,0.039278129122751665,-0.0006051628512631181,0.08957329309971405,0.5202329415526358,0.0867075919650679,0.4340800119055593,0.3340727555338938,0.48977893779889387,0.517163124290639,0.5031879428704173,0.5892860248904039,0.2815672462554608,0.1247498755857123,0.02170518821934429,0.020597915170014656,0.04773285059996725,0.17496652919289676,0.5441288130336482,0.57375257385932,0.03437949132774602,0.03134469954842105,0.023949755242709096,0.061739756828146794,0.5370166424620495,0.4354899074557796,0.281027266765217,0.0848328606792344,0.14175191096423487,0.06807197304690721,0.26813802996958275,0.0022481243646415056,0.045901835773571084,-0.00023492343480717936,-3.4003746722175216e-05,0.39279650650000447,0.1964604574896245,0.21633553388348184,0.25118734886396127,0.4777399306257812,0.45530385818263774,0.4601560318202104,0.16754837402247524,0.1359440528425549,0.5345339391337771,0.2815472316588621,0.03657936818798419,0.03139269024725524,0.32354265574210134,0.45333393443263453,0.41774694148557956,0.5630435966104274,0.3006897186981705,0.45528719795981926,0.44185210045062934,0.4415647966191138,0.5831257378412565,0.6499028381434775,0.6283889429146894,0.03519576454301774,-0.020952362851985134,0.026196721265489328,0.020509658742417492],[0.7000406057539779,0.06401193865811043,-0.047220004013602726,-0.0009059651587808018,0.05190986099878505,0.08990222315680575,0.010182793802701852,0.19189829080805443,0.4315511057216654,0.7543180376503271,0.8872208679582733,0.8569522482477995,0.38701081109004976,0.1948067995144568,0.14514902613182312,0.07152514446614933,0.6393690407804778,0.05792283559422705,0.02006377075987729,0.005917331233679455,0.4627897431322322,0.47577761314389794,0.6617238947282293,0.6773097877249924,0.6253521824285567,0.5550480343270878,0.24803580139865936,0.04653460363118953,0.05920140365456038,0.04146714358150094,0.14566033305475587,0.27495161674648116,0.12143333096106051,0.05997719226783779,0.07577792955223651,0.08752480600683618,0.10084555329744513,0.11789253987306553,0.21239257346910603,0.6541370580185236,0.7523954454523203,0.02159808482463133,0.2900236883109361,0.3398592656048242,0.19292732072603483,0.07954609102384648,0.5424268693552773,0.7465618807211282,0.13965546331780396,0.19719669002197646,0.042044499644133294,0.004158086673100654,0.5884654957729696,0.8675270025810402,0.8750424353814191,0.8222557729086117,0.7211565386341071,0.574116579241961,0.4398386743140654,0.4664792043327263,0.4630105895870766,0.4315032071816865,0.675922477871827,0.4103257546677322,0.4247924014423823,0.35203695055269196,0.2690705214086919,0.6386214945518944,0.6022612888432175,0.593092545803957,0.5779272369547002,0.021741744255360313,-0.015156991839332534,-0.07661483090715036,-0.12294722256296191,-0.1590920726190075,-0.18847967902865392,-0.20828373353132196,-0.2209391800088263,0.1962080888437629,0.7013456636594367,0.6751958223028317,0.6751957926780091,0.7364419770281497,0.7017799335076103,0.2318033383364719,0.11924776747644046,0.11960388197551293,0.7288023887577566,null,0.4296825017546747,-0.0009078419869175862,0.2795473781709324,0.0199876700797653,0.6727368706642304,0.32272731299082025,0.5488063095524934,0.17213277525697943,0.6358433706134186,0.19493478940522507,0.644501575464663,0.8833186914944583,1.0,0.7075001856435953,0.39865955593517455,0.2190165783774593,0.20799238862706432,0.15295656071762365,0.08689268631977477,-0.0009005676623809938,0.11932475487715258,0.6751958086462099,0.11142240477543833,0.5697502853044173,0.4544370853366698,0.5814056550136585,0.6188860183814506,0.6424362347762469,0.7438709064856196,0.3898251577205347,0.1655511312730553,0.028514084976854384,0.02315744447609854,0.05540417763360406,0.18259828111685347,0.62181527885564,0.6047588214458933,0.03564263635340766,0.04680118385386845,0.020082417016866947,0.06755825959418733,0.6146156554516894,0.5266370540228053,0.30656416061384045,0.07428522231285853,0.12977070390520956,0.05005662409518122,0.25531445489579435,0.0031299768677978683,0.053903125783759206,0.007518508374644556,0.006641803301167635,0.5383170316139501,0.38619169924662383,0.39244446560704077,0.25718460687889394,0.545484817927222,0.6192079093885657,0.6125371790334303,0.3108269266291824,0.31976119216534266,0.550381506533194,0.36091409666698543,0.03818863836732649,0.03798593927752704,0.4672659662073124,0.605275688198109,0.5939257387212376,0.6649835876482326,0.46034949357093374,0.6352199830496279,0.6130886039980329,0.5878744931877193,0.6600387173609759,0.7187730183998554,0.7171914266680351,0.19120887799502737,0.042654427072330525,0.023688661209581227,0.016905606881276757],[0.7966363791596557,0.067002949377606,-0.027922445890042925,-0.0018877904873853175,0.028556465593593774,0.04666208450777435,0.009101681309213589,0.0926773609693052,0.2454001254536294,0.45764817600025054,0.5952356496326909,0.9036980550508299,0.8594619949182344,0.601449813052071,0.2711326791516493,0.08395067397425938,0.7746725339480766,0.16456086896628627,0.07120912360789639,0.033018246653536955,0.2630055825252991,0.2714113646038671,0.7898843824974688,0.7714754512608822,0.7103697700821925,0.7330163951952479,0.14047551709790834,0.029966000496280232,0.0685364204558052,0.030903097501540553,0.17886563982559966,0.21542654933807112,0.1622226266442388,0.10841754371191094,0.22218051263547248,0.2500357900106452,0.27625061198885587,0.364930023343723,0.6343313798251466,0.7530281326972817,0.5572554233893896,0.020443547474757316,0.28494750048430406,0.3844570534135285,0.2451985596802663,0.1916976000929188,0.6947922808276978,0.8860964044045865,0.17316420417450135,0.22440030032603497,0.055917969463047966,0.03376985679435312,0.8628879544350689,0.861276366246151,0.8456626475071157,0.8919254102161555,0.9201308870348551,0.8961108380100835,0.8240598915469525,0.7032254936739506,0.4385883923206458,0.3843655891639758,0.7815975867914084,0.2885420777957894,0.3294770335473543,0.23808036325534762,0.4095441095217435,0.7742768988442962,0.7573817802628157,0.661603265071955,0.6640406441363454,-0.005432166864928771,-0.04957496511974977,-0.12898673569344635,-0.1817717871338496,-0.21862851876097408,-0.2481074152043491,-0.2682744500538164,-0.2795089616037605,0.25810336873531975,0.7990126923895736,0.7815393384820032,0.7815393604808342,0.8892590795008396,0.9100499422440159,0.5337251547778145,0.21135657128004373,0.1853557643397603,0.8971941931574547,null,0.35824448839448303,-0.0018914905863927096,0.35012042026844786,0.0049117169559319855,0.8349750682796475,0.229321844943648,0.6377194310577414,0.1904447014263301,0.4658607909934388,0.12457645172548215,0.3436637170811176,0.4766575977229982,0.7075001856435953,1.0,0.8462517193289641,0.48990660218675647,0.34330141172590717,0.2207111809009311,0.13545341202414113,-0.001880827312813672,0.15168856228507283,0.7815393286580443,0.12618211236389265,0.8026748419360352,0.6253481606720873,0.6659775869799853,0.6992898578261006,0.7434229930906514,0.9337502096975752,0.550547804480666,0.16998364347969241,0.015114113045065655,0.01710954703990936,0.10326930357949296,0.21766923346395606,0.7193185680377292,0.5526135801813027,0.053021377637501324,0.11133023693261287,0.02355662851651755,0.06748483170211748,0.7297961820161699,0.5717547019008014,0.2457754340522593,0.037073195990042926,0.08766343564063185,0.021700068380073073,0.17072677829396857,2.46815483293878e-05,0.04298565243695628,0.013870881392605908,0.013936956502123957,0.7175670602473447,0.7079159661494386,0.6924974507402866,0.17381431987139082,0.35623717037871266,0.7599259103300159,0.7407072387651058,0.5421552750538453,0.6196825511700054,0.33592883698559556,0.2882375583176487,0.016327747716574532,0.018446315174303538,0.5023760782181056,0.7505469470272995,0.7987438081661283,0.7229448900491118,0.755404212637635,0.9276931525167724,0.9123102135493001,0.8771162254433706,0.7471545776092724,0.6837122950819098,0.5444201566062173,0.521394484196773,0.25605556635750476,0.007431724854876351,0.008732647001023337],[0.6680232266300589,0.06515605009990168,0.00366856110604862,-0.002603055955931586,0.014352662170648086,0.019849912678642206,0.037931011449341155,0.041372368262815096,0.13900232046124897,0.2479524675591985,0.3523691642094188,0.6929780732366405,0.9567759383134458,0.8608160310185974,0.45661410075738545,0.10712502866592584,0.705508861560219,0.2754275745332142,0.12073404458429787,0.0765306549737383,0.1317482001419564,0.13510402250286394,0.704351895850144,0.6632487222780948,0.6583106116019092,0.7306052597184196,0.06946661992522624,0.019705340084140613,0.11132718533691979,0.02914434645726114,0.23675935834561052,0.20307368713323495,0.0969331158622506,0.11896222082950188,0.13589291554814525,0.162036465206197,0.19633415990736963,0.3898416107150819,0.7209635238880466,0.7165257637020679,0.38929187207018345,0.03478169318467872,0.2623567416004792,0.3809205987750605,0.2675961307501586,0.36747908566852755,0.7429643419365468,0.7440688578071495,0.13965424440226554,0.17707931627934362,0.046689602227162105,0.05219913569585698,0.8917240903521702,0.7163036327983474,0.6705609866777241,0.747438250778215,0.8243805090770251,0.8537294997403899,0.8211411401450972,0.7402580409906625,0.4005040410208771,0.285293454551215,0.6980077584698089,0.17232989060534015,0.22605597701894098,0.1510653469231497,0.3978048741916288,0.7059238689661838,0.728657120685383,0.5733361783671114,0.6449844674907165,-0.01788981189634441,-0.06510977622021742,-0.13984474053560256,-0.1858308686939724,-0.212864035384784,-0.23341450351947848,-0.24733814523714437,-0.2530715292654487,0.2830953918580586,0.6721790559790217,0.6988822718790869,0.6988822970669712,0.8314793695621066,0.8535664773827141,0.5339925743751548,0.25227488689745303,0.21282904711558448,0.8452073011707739,null,0.3507942624758039,-0.002610906428959947,0.3880624941599781,-0.0029514403701893883,0.7604507437352434,0.18081399354767966,0.6759562965208467,0.1741430199215013,0.30103138496626336,0.08623134157404126,0.15835359477406158,0.22215035352416088,0.39865955593517455,0.8462517193289641,1.0,0.7604310386193112,0.4593294465484574,0.24893742446130573,0.09402508511117882,-0.0026001365881660383,0.17419561414292714,0.6988822560324269,0.14237951133540902,0.7761729408736248,0.6068842012449484,0.6945715997526948,0.7128328244521048,0.6932539216025799,0.8305767938711476,0.5417287244542516,0.15206222892971827,0.011940986224280758,0.010110802544213723,0.24333333813509106,0.3752039142830722,0.6204361799279791,0.35392091140779625,0.055799744498443604,0.326420016967007,0.04163131065262311,0.06824653561410925,0.6990843480584658,0.5536505780485511,0.19240856072303453,0.01431108316241347,0.05084830632759834,0.007447195885276443,0.11243909845118616,-0.0004203876825708423,0.029019270618686928,0.031879265398313796,0.039422716818970215,0.7231977700520581,0.6747506682553234,0.6636552450380379,0.11843317731664352,0.2257542492949084,0.6788959889539707,0.6672096803147206,0.5533255316212897,0.6368336543987222,0.19165113092027158,0.25311603526886384,0.0046423105184282614,0.005166120535874303,0.4418230025787812,0.7056534141372715,0.757973812468146,0.7352613144252933,0.8541565993609758,0.8632061187168748,0.8095415983389602,0.7679226447757991,0.6065016818673683,0.5038897943910965,0.3532621233423077,0.5387040699663516,0.31534050615287484,-0.0018569728069514433,0.00465318848814138],[0.40974305754003887,0.06253201501653806,0.02178655234810648,-0.0015145544605626175,0.018483398056799407,0.021998723104852236,0.030920986704689023,0.03267801557696145,0.15055648475552405,0.22053501851549012,0.30825549828299365,0.47529402791234443,0.6748341790931702,0.8177765798474641,0.6722768592330979,0.11219962960196397,0.4932170287493879,0.26525333019911024,0.11929298154218254,0.08299299366345018,0.11081192236462364,0.10880869380997397,0.47810213127661066,0.4425102411639652,0.48342874384299495,0.5368700940937516,0.07925963091284453,0.027734936315149398,0.1630146250676738,0.036196914912375325,0.350032640375795,0.27979011422841993,0.033667963216329554,0.031232745461191393,0.034154874482952534,0.04458066232256644,0.05529611088237512,0.31271218302423154,0.5148225923067495,0.5957741621049337,0.2966451582074888,0.18393562709643677,0.22918865592233229,0.316438806952101,0.24828252516065363,0.4651730546893989,0.5803860587011582,0.5238098168318166,0.21260506794435946,0.28814031361134473,0.0763253496096053,0.0601661428651447,0.7703894134261323,0.5136892640620103,0.4689065233958128,0.5158645784160301,0.5588371529921177,0.5549683788642669,0.4947669208177742,0.5204014912006737,0.3498240498807202,0.37270454193007607,0.4849571693619909,0.14128137925260514,0.1977160717410074,0.13942074887690534,0.24045431541887538,0.49374069720964153,0.5372293002720331,0.3937704058073759,0.4947053034249423,-0.00785527152679724,-0.04592727804134779,-0.09781594540201136,-0.12946807142396785,-0.14817694821666832,-0.16036977074650294,-0.168911495869544,-0.1722131574503836,0.22315338267652698,0.41173213894643024,0.48614587396466014,0.486145862052954,0.6214876182802639,0.5742628945571591,0.30135803253044824,0.16747262475984812,0.16192058941065082,0.6300266366636446,null,0.3907774345522796,-0.001535631035863276,0.4551293073041237,-0.0029914076143681334,0.5319943066239936,0.1743216241429509,0.6402077874619995,0.11061343464688624,0.253846353771545,0.11643472028967737,0.12266403452693753,0.15148047401054254,0.2190165783774593,0.48990660218675647,0.7604310386193112,1.0,0.7852063676895147,0.44358903881047185,0.10161696938867526,-0.0015328942734801707,0.16359947559621119,0.4861458674975995,0.15552557739861594,0.6301106637233572,0.4770053641444192,0.7018250355521353,0.6294862004229375,0.4824982009046485,0.5843348521934042,0.5053967583777732,0.1401835620513791,0.0076513954185706634,0.003954402925362626,0.4713489125119298,0.5789882457831309,0.3671887989119254,0.24077518126895878,0.06242784061841076,0.6258797855130641,0.048568633153560255,0.03687817267330774,0.5221877986498625,0.49619437243888537,0.1740581317895769,0.009405626906038309,0.04533256299249051,0.014142481399384215,0.12333500026138028,0.0005119028284805598,0.04073496555131828,0.05899565109995545,0.06844851161031752,0.5523167996549174,0.31340436419870776,0.32398178611123035,0.12285089766466305,0.21145926100442758,0.43805657110133805,0.443381660564274,0.36254096986910334,0.40678240599634635,0.19573315238659525,0.3594605483056252,0.004516597128339607,0.007232219164207964,0.2752954116777377,0.5355072955283126,0.5520445858542452,0.6955982116222574,0.7982776068728544,0.586871562202756,0.4783802867758809,0.4362689079805559,0.32637365517901035,0.2951182448260223,0.2708000752800423,0.23851226520591232,0.1482424317617389,-0.0007421621808060309,0.0073334700470378215],[0.33586592155216694,0.05802914284093789,-0.0111635983777959,-0.0005749195765084924,0.03081945220549231,0.03794364431026163,0.013266344996890285,0.06653515676209584,0.214978011143007,0.3372340771456628,0.42153721493960367,0.4223582760743572,0.37594922464155384,0.48053066144811374,0.5203560279774256,0.07773946847570148,0.3884341229144579,0.13346220590719796,0.08224005110623948,0.08515963004019049,0.20075197202871084,0.18981984431837104,0.3725559561101234,0.3661228795089292,0.3603405220783659,0.3475367058122792,0.15290268803389742,0.044595542309624744,0.11190962285610749,0.03318876984812095,0.2716073418381424,0.2576533550797035,0.015666359352340935,0.012306254000730288,0.01508443173740091,0.017841847216218006,0.021713885311948785,0.174837160166825,0.2856521545661273,0.4753418087428453,0.32421170577755964,0.19016408835160303,0.2115984173775339,0.2465999153854561,0.18707159054774958,0.28751758066433386,0.2988410738745378,0.45428088332779953,0.41557231263698907,0.5661851779604403,0.1421327268993681,0.028105812441943198,0.5891309421349683,0.3935646782087615,0.38900333897027445,0.4087367405950235,0.41486312366777617,0.37479169407863105,0.2936575086804564,0.30246602317363186,0.267055825199111,0.6177491478228448,0.37906362631100426,0.22162682098950712,0.27234909692864906,0.20643926360533107,0.13648861245211247,0.38871215289793304,0.37416726271692535,0.3384005850615312,0.33233856872242007,0.013407011054786713,-0.0119794815515894,-0.04840914206481854,-0.07581679239163504,-0.09649526200749355,-0.11176448446349412,-0.12425374831263204,-0.12959686030185444,0.13627322421381502,0.33590165124191773,0.38009358745356875,0.3800935788645331,0.4646078960401015,0.39880033440701523,0.14370574629595803,0.07863992906147738,0.08299607401880603,0.4599382818588733,null,0.37690329973689596,-0.000590022619925373,0.4492730240300336,-0.001493614989829555,0.4018026950267191,0.14070095837101673,0.4595320209919794,0.0735174068196658,0.36789234218920897,0.17228792910565557,0.18613591242575248,0.2007289565703223,0.20799238862706432,0.34330141172590717,0.4593294465484574,0.7852063676895147,1.0,0.789829473660105,0.19789779423474343,-0.0005899236804739647,0.1290470540134014,0.38009358423013007,0.16854978679681448,0.5310180420499575,0.349308267926825,0.5238243597398285,0.44084739544158197,0.2900806586823145,0.46553808798539714,0.5062473932616885,0.1520063207945726,0.006249627768564598,0.000834685947446613,0.3404034584436724,0.4792278037405345,0.3407905266144277,0.3342605133543329,0.09608503169621382,0.5167050538214486,0.03423624419939175,0.0012764356432946936,0.4465182717022044,0.40318482768036484,0.20553136853613901,0.020557590871162667,0.09442080863872988,0.006582147810881306,0.15693533796747372,4.1881824770530905e-05,0.08774997996630263,0.0278131827382053,0.027432890153930894,0.3777008528845469,0.1547956083019003,0.16885643629961167,0.18052026713690147,0.3090488318487778,0.3541799059056961,0.3591966337209775,0.191882098537951,0.21555084440462977,0.31797509287196374,0.37858898389260764,0.008122269074331064,0.01141898187555352,0.23644045037221997,0.4436468599284123,0.4167587708183186,0.505895177531334,0.5461705640567447,0.4148987625757445,0.3510912172669914,0.33641978615594187,0.26303680674262864,0.31319580859633434,0.34469995225712785,0.07896754760895099,0.03394340668093256,0.003174742872487908,0.00977310137359753],[0.2984886813079869,0.0496309012353987,-0.019262053128798758,-0.00040093526095498987,0.020677490021836012,0.026282534461964283,0.011279710711215201,0.09971778216203603,0.20125226657394174,0.2894373320597343,0.35125286855357896,0.32923781451302475,0.19255887213042616,0.20397542329558296,0.22120152953879352,0.031493687540997815,0.320800984668779,0.04363143469724966,0.02602951485951163,0.033436552439454474,0.24875931317187738,0.2329517947088152,0.3104211103511435,0.32322283318370226,0.27376755178539475,0.2294246421057596,0.1812904827491289,0.041838516592426635,0.04350559507042038,0.016316240726632094,0.16545045331755215,0.1956258577192296,0.008142285221202973,0.005360611098183914,0.0052357783035311325,0.0056766937306012575,0.012204151847977287,0.08862001051247455,0.12526782398220543,0.27532319218197254,0.3256171341062023,0.05755509277501937,0.1665879258009767,0.15882431615983456,0.10241351987978481,0.1334188212505214,0.11714055527302462,0.32855737021123804,0.42271252594480385,0.5308631333175347,0.13640615785034088,0.00475801146891359,0.3663325276100339,0.2624088446393222,0.28681263868154705,0.2919627954281251,0.28284609862391735,0.2478747004778726,0.18095412559060517,0.15717379946636775,0.16285367568615536,0.5454091464479647,0.3123985616321363,0.24953706852743765,0.30310900254500006,0.20451673714809918,0.08147071441774698,0.3210058497672809,0.2635711717806168,0.2968883180851921,0.22106901332969098,0.008353932349811369,-0.0112687800443316,-0.03750740642635845,-0.060265050659689644,-0.07680155663993889,-0.08979521478395444,-0.10211202522813491,-0.10591801863693386,0.08827278586771921,0.29872766954498037,0.31336046654968847,0.3133604528770819,0.34889288596664386,0.2948214370179604,0.06772712682796492,0.055643045976056404,0.05360216126136705,0.3370340268210784,null,0.34371356003244247,-0.00040363783528196565,0.3418860032647304,-0.0011400102893254845,0.3106267779757638,0.1118832861395987,0.2967828115184465,0.045188968206468026,0.37432110613268704,0.1893701612123207,0.15146670340270807,0.1547905714230148,0.15295656071762365,0.2207111809009311,0.24893742446130573,0.44358903881047185,0.789829473660105,1.0,0.37789860575579864,-0.00039927944877738884,0.1285582975419679,0.3133604619270268,0.19813759955826643,0.35978317749523075,0.20860678575024708,0.2778014758682491,0.28613026472703956,0.15801994210259396,0.3142343202013336,0.42580372009516265,0.13098365898054676,0.005191626538751701,-8.786227861823657e-06,0.1120559556760605,0.2779903223951379,0.3562224979208987,0.36646836793431153,0.10812865322410399,0.2599093481541451,0.03539866761319387,-0.0022816005309762096,0.3883645093337846,0.3274180676694095,0.1976164685666715,0.026999343225769756,0.12402495875835604,0.0015507611716934252,0.19953589925837614,0.00011983967337061781,0.09389899895238588,0.021641433429272588,0.01750805747529338,0.25626983763858735,0.13020980161951295,0.1467510661167913,0.2139421741622801,0.31501295777894917,0.3262955111256298,0.3328517216866536,0.10228485698783396,0.11348130190339127,0.32790510797800965,0.2697190071597956,0.008642395866059444,0.005962687189669721,0.24895351527403167,0.36924650632799977,0.32070162665400115,0.3083282598839275,0.27650922469776046,0.26176376436157306,0.23211144507143702,0.2233667151754734,0.21056342368879533,0.29771243635619293,0.3089348109626973,0.05724836664574754,0.01198620876925531,0.0012140493473820299,0.003267842463617356],[0.1741418446184732,0.04387951638225649,-0.020232549150547122,-0.00021382966088544288,0.0030217772486543686,0.005077880397637991,0.002327557224652507,0.025911685156004605,0.04633369067837167,0.0706680974644074,0.10016165332073569,0.18867381990793458,0.13172356559067117,0.07454682708815835,0.03604855235063858,0.004419998898937125,0.1468592435251812,0.011838624708479403,0.007220518665058734,0.022113788503972474,0.08884266870944811,0.08375732205152686,0.14761504065451422,0.1502162777286168,0.1292759733710118,0.12080052064268466,0.1573939526541368,0.00822214258238943,0.0075067049215878125,0.004108167123333255,0.07856662682396164,0.11865083636303146,-6.19882822038619e-05,-7.48704256123453e-07,-0.0004966641591422188,-0.000533161152024172,0.027391436066293455,0.1792943075765394,0.14394001073513688,0.08740601925903482,0.09187825124225217,0.004899722569538229,0.049934296281850546,0.04788487387747711,0.029912769966313067,0.024172745857572973,0.08797555194157844,0.15633192819637914,0.11628654103285971,0.13321190241584185,0.03693273509281738,-0.00018754835412191403,0.14813772702561528,0.12089847513375229,0.12222574799395952,0.14339916715063256,0.16899681538200642,0.21958356864898992,0.22684839334135223,0.07965287531512541,0.042135477169546603,0.14546804180487624,0.14678332776629827,0.15176196596087138,0.21264551698651646,0.15183892515476954,0.05997320009386038,0.14700776991438216,0.13251433626229694,0.1434621397652356,0.10176375306082551,0.005807397196427955,-0.0004951153731905538,-0.010118329329022416,-0.016530368446991902,-0.02097616969867384,-0.02667964901854092,-0.03078910043001578,-0.0322137354052291,0.022667255144000482,0.17433968876916212,0.14723600123678515,0.1472359913789277,0.1700804012560657,0.18508571118240227,0.12165768603385127,0.010503116960604748,0.011419024620770003,0.1693629853291991,null,0.21237996491104966,-0.00021419706119921937,0.27492941584135594,-0.0006365946685776519,0.17011722925639863,0.031235943428762115,0.10593645093166602,0.027074651593312005,0.10256405763587328,0.04730504211230121,0.0328828744523994,0.039278129122751665,0.08689268631977477,0.13545341202414113,0.09402508511117882,0.10161696938867526,0.19789779423474343,0.37789860575579864,1.0,-0.00020607226795521624,0.12403183072676716,0.14723599709696503,0.19325337492516706,0.14266384627703652,0.08870031737962093,0.09640238953072615,0.09435400901608164,0.11459826360642358,0.1654756191924744,0.12931994212339895,0.04280093772984472,0.0012599370809135769,-0.0001164994488488061,0.03954752559675698,0.1469707785821235,0.2662073410685491,0.28948406380785496,0.06370104035590933,0.10240718316595022,0.03945713230750783,9.86307389270262e-05,0.2667945660138782,0.20185090600236932,0.0975249580217158,0.022062809937312237,0.08190820096822887,0.0008784036926359903,0.19368225316881746,-2.8113479018282055e-05,0.07985574063737556,0.029391379473934724,0.025268620992153948,0.12676486053080466,0.12076264925386727,0.1371951081112231,0.22163227286385753,0.217307929228286,0.23365611561647795,0.2337172065626434,0.05462375798543079,0.1516881640508419,0.21123631863855985,0.14154506545084367,0.002377442002491539,0.0007637745769450388,0.21782015160706075,0.1406931408318102,0.1679296876365811,0.10087174392709698,0.1099929966377165,0.15939412591543675,0.15724495673532796,0.1400556728600959,0.12314725586568624,0.15134277281253344,0.11501871225117842,0.18756802944819284,0.04759477116344497,4.078047907021915e-05,0.0006410299621217259],[-0.0018952004412560628,0.012723247850719252,-0.0023812981200107297,0.9999999945279452,-0.00021135405957187878,-0.00026758853990587963,-4.797732030252533e-05,-0.00013056483629419292,-0.00022098045990696054,-0.00041918848380400844,-0.0006820116198462765,-0.0014896633093155946,-0.002663927280826782,-0.001882323389316333,-0.0007844822352918232,-0.00012164314495849149,-0.0019390412339261897,-0.00023759842949219316,-5.8498261093186155e-05,-5.6778403980820676e-05,-0.000489712448311734,-0.0004730391028086053,-0.002016532529724637,-0.0019490033597565294,-0.001093742977882955,-0.0018741657825391224,-0.00040879844390512114,-2.9401963427770852e-05,-0.00018488870257180176,-6.022368064743288e-05,-0.001004686939960657,-0.001241171746074217,-7.198866940393501e-05,-5.2413651372750315e-05,-8.666291965584904e-05,-5.829728214278036e-05,-0.00017979259471431915,-0.00033177058825529577,-0.001983028134236649,-0.001342496066891229,-0.0011303570827373962,-4.681653298591e-05,8.982517358675562e-05,-0.00037956754851085217,-0.00021733318837073638,-0.001067617235333489,-0.0019724658200078594,-0.0012896526424009231,-0.0005201552496656802,-0.00025213643880820876,-0.00020941925738987877,-7.906817366246387e-05,-0.0016146631613017802,-0.0017716402092462088,-0.0016027153737029588,-0.001898699361285664,-0.002172802875641767,-0.0023805141072752866,-0.0025742281842649458,-0.0022213331937075914,-0.0006484316376514629,-0.0003386051119567742,-0.0017761916297927742,-0.0005930082516639953,-0.0006008185520332825,-0.0006203576879351394,-0.00029175554767566934,-0.00193958574938901,-0.0018341214728030588,-0.0007619885367128533,-0.0012453290680585765,0.006545250637566954,-0.00023446254582940772,-0.020880580831982933,-0.03424117374953372,-0.05034439417642943,-0.07383495953540542,-0.09319556779889211,-0.10125407942793846,0.007219500134481172,-0.0019017040663401562,-0.0017763410503206373,-0.0017763410937780514,-0.0018567068088980127,-0.002356867393006863,-0.0005861260420359573,0.0004915840040386813,0.0006005360907322916,-0.0020283483777724484,null,-0.0023482582090843303,0.9999999970568832,-0.0010361047075224327,-6.962825898047983e-05,-0.0020106845371266695,-0.0003599890866471053,-0.0013561165929635844,-0.00023489954349236678,-0.0001913304106181182,-0.00016441362600008383,-0.00034408630998933776,-0.0006051628512631181,-0.0009005676623809938,-0.001880827312813672,-0.0026001365881660383,-0.0015328942734801707,-0.0005899236804739647,-0.00039927944877738884,-0.00020607226795521624,1.0,-0.0003241599527190476,-0.001776341064514145,0.05036244617368337,0.00030476057431220885,-0.0015825730715937046,-0.0007476566632691605,-0.0016712723516745173,-0.0009096839547876314,-0.0019470944480365112,-0.001726701076599097,-0.00017508532153974446,0.0001358273121229503,-5.687487282399055e-05,-0.0004812618438822889,-0.000737146273541814,-0.00235154570469504,-0.0008335970768835218,-0.00012815312017289284,-0.000359032798543632,-0.00019030049126490348,-0.0009790111063697903,-0.0024033335805207475,-0.0013951430808089114,-0.0006593167670883569,-0.00010130377521510962,-0.00013225345911230748,-0.0001581126695976577,-0.00038502784574742535,-9.229508567773266e-05,-0.00012778193429977184,-8.694590406325797e-05,-0.00010890368197585784,-0.001746657353394586,-0.0029066163634803533,-0.0028334870862764296,-0.0001573575288473123,-0.0007345144898112657,-0.0021795042353811157,-0.0022249926583052092,-0.001748469549130052,-0.0017651122601640276,-0.0005673276900225176,-0.0005793721817904341,-9.817251831097679e-05,-0.00013903233657367147,-0.000817333191600102,-0.0014004327376691,-0.0017752415356542578,-0.0013059632361427217,-0.0016072351366196477,-0.002085527047010162,-0.0020405912337055545,-0.0019347680716089498,-0.0016626525681446903,-0.0013913539614233473,-0.0008210307140068621,-0.002152055911077487,-0.001043858333434834,-0.00010250271172831222,-0.00011970822297910274],[0.19554709261355802,0.020365774234611632,-0.01061119522206956,-0.00037399178707897714,0.018945674969690848,0.02098814281917687,0.004441251711591598,0.012302517729026137,0.027711340966188432,0.07556823816273966,0.1097734844150326,0.16640088422994156,0.16142231004339141,0.15245757589606773,0.09405742155581578,0.009937483971135112,0.20358045355785734,0.01921041918601994,0.016964200471178876,0.000760531715032354,0.07483065727859993,0.07358545314931887,0.19783030929977477,0.19112666693039243,0.1942910579064885,0.19515402840230056,0.07804606745197092,0.026897975569214656,0.021350208736896147,0.0034611576575572845,0.07032569709024289,0.09583508748846715,0.002958746085066112,0.004491171848199888,0.000980590907500853,0.0017735630327271252,0.0016453394815393865,0.022508722288372855,0.08613015222399859,0.19623015394098867,0.09648718327978269,0.01959873314640982,0.05394544829918792,0.09820942093921191,0.06614285331357407,0.07790926170372654,0.16162522379754943,0.14631261840035067,0.05129579061596046,0.04424027233612674,0.027915982568576633,-0.00014717830669770478,0.1743331195285162,0.17455174903721526,0.16542274694499187,0.16467326658502357,0.16034798490292265,0.1498388793292626,0.13030245077330013,0.16279937547418627,0.11141196841826398,0.10115657781608789,0.20093533275955652,0.10611295207019261,0.1392002851657115,0.09966487519842658,0.10380830758754966,0.20358161691962864,0.20459765512885594,0.1757034169964062,0.18390107402551542,-0.0001373977091877913,-0.012519330023264778,-0.02915309065922703,-0.04622145392687828,-0.05866289221840881,-0.07214745615640848,-0.08543002093513756,-0.09102553405866493,0.05641471614229381,0.19579884881501566,0.20093326140183676,0.2009332386776455,0.20233256881821676,0.19163368187566437,0.09282614620253006,0.04035485164361159,0.03745450487402314,0.2030125660692569,null,0.1681463140875935,-0.0003749447698026066,0.14584889142006907,0.0035314964170288263,0.20228395550195433,0.05806416348752976,0.18434089553741648,0.03952477521000905,0.09217197661829067,0.011149524233894493,0.052555753723760895,0.08957329309971405,0.11932475487715258,0.15168856228507283,0.17419561414292714,0.16359947559621119,0.1290470540134014,0.1285582975419679,0.12403183072676716,-0.0003241599527190476,1.0,0.2009332524232493,0.024608334643615247,0.16056565784239066,0.19699308190625475,0.16343871471669166,0.1585663735156883,0.1581660086389452,0.1654952746801313,0.09950041429303859,0.02240444029952157,0.0004525775706099369,-0.00043262581870362753,0.048865783345554074,0.09960822150460794,0.1844374214781893,0.13747972017480822,0.021357563765342386,0.07805827185269193,0.006059206808634215,-0.002752417611769332,0.20678893914046476,0.20482434474951325,0.08222314400269157,0.005648568371432841,0.05033506290960707,0.0004089438012992345,0.05888444416525892,0.0005146014160756169,0.02090812866158268,0.0019485006794867097,0.0016972857071134776,0.2024152141680505,0.13298030726988583,0.1332689839877745,0.16366499775439278,0.16718756091499012,0.2154508887310569,0.22093196989945363,0.10062746783531401,0.12607401445678282,0.16876474174786937,0.12434685196537971,0.0051906636623786275,0.0037502222606028753,0.14188749241875226,0.17839229489356162,0.16939221287339337,0.17175422920899303,0.17593001675100262,0.17046629653216994,0.14105817251023542,0.11512011546889706,0.10720899071785474,0.12298814289365896,0.12416378993424926,0.06971675809437893,0.04253469548240116,0.003931972249420467,0.001569615649599114],[0.9146241061944229,0.09260773046203122,-0.03407619345579715,-0.0017813093513804805,0.05239536495110311,0.0775663746444948,0.02056549684508422,0.1179986008266488,0.26769717526449827,0.47740039490748315,0.6016490706475085,0.7881981119968824,0.6729156233078575,0.5171421650831832,0.2983754191776128,0.08493822767274992,0.9833747387401532,0.21739082167714024,0.10169121202683465,0.09190496794722751,0.4975508625408283,0.5044408357858366,0.9881470919884057,0.9774878295659652,0.9390481297182508,0.9082327388059872,0.23883089145476746,0.0753377164658237,0.12655020146489185,0.05095885610666458,0.22468672422275607,0.2962634511451745,0.11117317884896032,0.09164716849136945,0.1350477904392422,0.15547826171378432,0.16343135908516168,0.249595807913456,0.4437117337142921,0.6540897241249269,0.6188676696458513,0.027240796557098212,0.3177765256440104,0.357830632050726,0.22521196752886477,0.21729051144982936,0.6388014659337306,0.7371530042293054,0.18332663185734088,0.19187967940934705,0.07258198232772615,0.03508950847610111,0.735065572507774,0.7853604273558144,0.7742091408278654,0.7852107148105295,0.7750064544244186,0.7157918529119651,0.6352995227404546,0.6000862158445986,0.4328557792101628,0.3655337849065571,0.9999999999986939,0.38110471680296304,0.42598286918956957,0.3610677527492565,0.36707704412259157,0.9833519837629797,0.9499273029338157,0.876107429471005,0.8748893763023372,0.012942188543013738,-0.046466266421122594,-0.1413492808788578,-0.20973897851615217,-0.25643169233847435,-0.29342294927744206,-0.3193555045695035,-0.3343112961227931,0.31953245321341506,0.916462073496553,0.9999999999909202,0.999999999998721,0.8614293698303909,0.8094502521378172,0.42058487616301826,0.26261533824259464,0.21849910449708454,0.856767825418169,null,0.5420350940519844,-0.0017875381348384288,0.4150384774979819,0.01991990821721564,0.9364585989073542,0.3861244517486988,0.8040752539811897,0.1777397821879939,0.5380425268840093,0.14426725070299176,0.36555894025785673,0.5202329415526358,0.6751958086462099,0.7815393286580443,0.6988822560324269,0.4861458674975995,0.38009358423013007,0.3133604619270268,0.14723599709696503,-0.001776341064514145,0.2009332524232493,1.0,0.15372324950059496,0.6795952172379099,0.5560766026966135,0.6190532277222429,0.6795500280235637,0.6630657719253024,0.7833568408859056,0.48212069836837834,0.16427854627132896,0.02185933297155082,0.016569479522760822,0.14016461497025975,0.271769578624827,0.7425373128084766,0.6399868961105305,0.07181709642876867,0.15792904941014002,0.03331218181744544,0.028860896449815734,0.7605979792066421,0.6956165006922863,0.36412174847123613,0.06996077062225475,0.0984701289491735,0.02849746706769529,0.28406949610779036,0.003139038255958914,0.064812788192983,0.02592197180312416,0.03398018376528719,0.9018337508732486,0.6180352030334565,0.6183795235176227,0.2737526969784967,0.508554105345169,0.8091074737650908,0.8029517369097154,0.469910519710654,0.5227005305947964,0.5326679175846684,0.4050128918250542,0.023850886948011137,0.031017589571007396,0.5600545788669926,0.7010729107397886,0.709360954653695,0.7018599141909628,0.6400542517936468,0.7404880888501838,0.7068631730018131,0.6622159080778467,0.653867241714306,0.6448349064879062,0.5274433706619225,0.37547476687238895,0.17998611557862132,0.01821854991250975,0.03178468533774998],[0.1662432104504366,0.018088295836163306,-0.011551385262283788,0.1333672250112826,0.002910347490235943,0.004991758185397166,0.002946788947976681,0.00719207015021992,0.0264515552420759,0.09441053768679668,0.12676124155799168,0.15912708511462542,0.14907771323907779,0.10542933979477168,0.06943265296090866,0.021812530056748144,0.1461274211749462,0.024873117522896924,-0.0008128115480548527,-0.0005660546746654898,0.16237804171205225,0.15440069690086095,0.14034315204900524,0.1484531773756797,0.1419214084352986,0.11737478547232756,0.0844430867455204,0.3755408033927423,0.10269414640807922,0.11461931312269562,0.11036204832308877,0.08200037375138722,-0.00033644146967423796,null,null,0.0029795660499673175,0.027030519754905478,0.04480723245461152,0.03783518841124975,0.09325808040305203,0.15929382525214952,0.010713886783462006,0.033254011163959596,0.05956279309817714,0.0343686334170997,0.03843109656386416,0.03561202884491349,0.16082472832419378,0.032065312426040375,0.07181492049834788,-0.0014697931518402258,-0.0005766580912832262,0.1209711078841367,0.1518048525667923,0.17176391948194672,0.1604496782088858,0.1520089846410916,0.14697040318716476,0.14384815212842442,0.13251991931328336,0.13235272240760035,0.11648648685303849,0.15024724340285497,0.12281390656592245,0.10368269532332507,0.22697169498029565,0.034449998951116424,0.146205522696482,0.1361817503113779,0.124706983842603,0.13631574409880143,0.008599166640996185,0.0020589979615608933,-0.00914638615356457,-0.014237372921938914,-0.01740938000239652,-0.019769734546022384,-0.024818112170364066,-0.026017773034897936,0.04531215946794766,0.16652852009418315,0.15372327372282688,0.1537232535533804,0.15094360236352972,0.18797011182978887,0.008208283301461916,0.054571910944107724,0.04632880666657951,0.1495060868314261,null,0.1794748618143606,0.2214556943134181,0.2720324313468688,-0.00040952300978579713,0.16338901133817407,0.009627250312093135,0.13434903110633153,0.06973874304307556,0.14739454558690637,0.017787851005203567,0.0327949961624948,0.0867075919650679,0.11142240477543833,0.12618211236389265,0.14237951133540902,0.15552557739861594,0.16854978679681448,0.19813759955826643,0.19325337492516706,0.05036244617368337,0.024608334643615247,0.15372324950059496,1.0,0.13471079064935407,0.14677045326114452,0.1069257149784971,0.10671569068247486,0.06756162890152838,0.14330672107084494,0.139188878365638,0.1655178330720875,0.15214110585231716,0.003934826568006285,0.07557026543247365,0.12434504631549709,0.19493839869126015,0.19745833886603714,0.05878305171259595,0.06448216397995524,0.023643127892491473,0.020159103088057462,0.18866508573453936,0.17168215766253897,0.1289537953761657,0.00026277429763758815,-0.0007207919738036331,-0.00030285598916189214,0.0009939427077129432,0.001260612305500756,-0.00043119488531178783,-0.0005476755297295519,-0.0007284252943664209,0.15202509092092253,0.09002424038279856,0.1009913167572595,0.11770872619639461,0.106651513555807,0.12632770212299105,0.13840790399107472,0.009322044183220466,0.01241953719273604,0.09734928273479718,0.028710713115217782,0.02114304606807082,0.004033964024165507,0.18008328519473074,0.19210409971786407,0.189507855621272,0.11093687624474982,0.12023546253671749,0.09708013475482007,0.09081818948477038,0.08872054736885077,0.17528457177113146,0.12589828702520256,0.15488977518721508,0.09959512561601175,0.009249535154186696,-0.001063966780577099,-0.0011963291271264295],[0.6507207096339149,0.07047383267325688,-0.012375160030563,0.00030269005876058124,0.03897743661833923,0.06129339027995223,0.020346930419578593,0.05901039435208923,0.22035156518659715,0.4435047173927904,0.586330814902237,0.7862355411338694,0.7275006687997921,0.5806108105710529,0.3258401358565012,0.06710789050609148,0.6706396791285568,0.20003048342720517,0.07567880224314677,0.025736904423706953,0.2502393739756747,0.25412891724384623,0.6714254847468488,0.6486811124753183,0.655552931812928,0.643424674498728,0.14825407184050096,0.039767404367199555,0.060037726589935225,0.02662369082494126,0.20136254047525637,0.2332483363603051,0.09857515588077342,0.07669075422776028,0.20685333180835355,0.20369623750858318,0.19809308077350657,0.28195383224136183,0.5350823656039274,0.7329137928862213,0.47612189927067267,0.027671886175098553,0.27847057895274224,0.36364403927992767,0.23790943229249947,0.2665904982152039,0.5997967429267639,0.7715286917005266,0.2803073031275457,0.35658581176756804,0.08370307056051743,0.030462339441625463,0.806174325715512,0.7561179227669588,0.7432950420407094,0.7685777680711555,0.7799677376411052,0.7412725961456245,0.6583419021231223,0.6256618093819468,0.4071840919650029,0.46700659461382366,0.6788583768581196,0.2684992152640632,0.3132292157084917,0.23337766807295132,0.31781468041591004,0.6715925645551221,0.670652397437855,0.6251456428029231,0.5975744094857534,-0.001346706911891507,-0.05497583426289401,-0.1369940454643869,-0.19000172232162607,-0.22156068780001129,-0.2441268169386293,-0.2593165758113169,-0.26435797165471114,0.2830258558938592,0.6519668156879277,0.6795952350804468,0.6795952326944198,0.7754200094865815,0.7515361177942191,0.35458322063138153,0.2098601950878194,0.20028527534208537,0.7685372024187985,null,0.4115746922682256,0.0002968987500393563,0.34434034238311123,-0.0017815676622496008,0.7097500891310936,0.1227380766917988,0.5981399759584165,0.15319581289948844,0.5311150119552895,0.12478712291708104,0.3108561301354226,0.4340800119055593,0.5697502853044173,0.8026748419360352,0.7761729408736248,0.6301106637233572,0.5310180420499575,0.35978317749523075,0.14266384627703652,0.00030476057431220885,0.16056565784239066,0.6795952172379099,0.13471079064935407,1.0,0.6744862738279215,0.6249757345499463,0.6533382578837046,0.6130329312567404,0.8184895514301498,0.602462373125144,0.20482695973158352,0.015249253215580143,-0.0015922992253716265,0.13178300613964586,0.22131711366372125,0.5803305157939845,0.4506902612786309,0.062302396114459375,0.1405060453964985,0.03454760566048392,0.04303205979260746,0.5982195116598895,0.5436709028497664,0.2556245623651217,0.017486211740080086,0.0460446632685693,0.011919633694957197,0.11473175398655498,0.0007235596289780056,0.0398702376512994,0.011916198406481447,0.015591670730201651,0.6583965693100751,0.47607184539139286,0.47958846272427436,0.16323234834162825,0.31711904276925,0.6174815524968591,0.6106167255335448,0.4456639836160416,0.48000190059875003,0.3424809473160246,0.266914516751484,0.025511964661965317,0.0328443227716945,0.3582825687952376,0.7925082780683201,0.8090476553370853,0.6576338303912767,0.7531747646899752,0.8173309087424409,0.7754265385678684,0.7385267039340342,0.6013768651686782,0.5654863854039682,0.5107865816577548,0.3490265208553921,0.17232759291611918,0.009658365209521892,0.01320947448630519],[0.5203042506822685,0.0562003283017961,-0.026484393664973915,-0.0015844409943402814,0.03986367760781855,0.06456438164952331,0.01004239926470277,0.04559079953090609,0.15730218787803776,0.31164040241063135,0.42685875687268016,0.6088097403296329,0.5754942013839658,0.4720892425825455,0.28032535202635533,0.05825397819851549,0.5450651608630604,0.3376563348668976,0.0635275025381703,0.02497107309268045,0.19584168559546314,0.20387002493260875,0.5351200322418534,0.505559405112465,0.5749685288746577,0.579170821931984,0.1479717479673676,0.030721578611342257,0.07599796796959353,0.022360692483190163,0.21757629236578105,0.24591176011805788,0.22698202863948225,0.10200834061031537,0.16470299178774525,0.18410454687475558,0.16652197578157912,0.2353184353763983,0.4216466918043176,0.5528216226081103,0.3484026733679923,0.024226126416265082,0.20779141931713774,0.2860769669539266,0.19236877611785236,0.2499423450600808,0.5236669312253251,0.5689462396181739,0.1418449803856856,0.1711563874927907,0.043476792583699575,0.03012779651944075,0.627444626613469,0.5867538189116543,0.5748857261342517,0.5961614239942207,0.6071415908060677,0.5758662528467966,0.5099530032735294,0.490384174648963,0.32640748055769386,0.2791175902095622,0.5564359615382516,0.2775734981662139,0.3281354484953557,0.251947530994279,0.3929943141232687,0.545237979010388,0.5707590227446535,0.515718070989475,0.5517347663585745,0.02727157499869201,-0.01125293031309577,-0.06650321845231709,-0.10237033814983097,-0.12733050177480137,-0.14600998074713048,-0.15946337342602562,-0.1653706445473047,0.23259300941481637,0.5209267479173354,0.5560766164928018,0.556076615834207,0.6143114125517849,0.5962988015964789,0.44536263660176606,0.2044730277598142,0.13558555012637669,0.6129532538427559,null,0.39935525377166525,-0.0015909184691308706,0.4104373777453401,0.002456258901278258,0.5784309097553121,0.10139161828033816,0.5071273470047275,0.13265359809812383,0.3749114344424085,0.08018789791776525,0.2269795591059402,0.3340727555338938,0.4544370853366698,0.6253481606720873,0.6068842012449484,0.4770053641444192,0.349308267926825,0.20860678575024708,0.08870031737962093,-0.0015825730715937046,0.19699308190625475,0.5560766026966135,0.14677045326114452,0.6744862738279215,1.0,0.5298220866205275,0.5221128229224216,0.5365861583269406,0.6133712372608149,0.3900011209457673,0.12708355056006393,0.009005046470756464,-0.0010798447893184747,0.1690129833439608,0.29764529778767085,0.6678903729377641,0.5461226675607141,0.05891729241974757,0.20276576525929968,0.0404090936540961,0.066340694245808,0.7021988760013087,0.6213690233010051,0.2662282796502532,0.021368643140122517,0.050206742867011545,0.017275083801561862,0.13218238209649613,0.0012988103494547488,0.04560839735496687,0.011308273959038167,0.01619038969553142,0.5769624855857729,0.5189737465888199,0.5133641637947366,0.17407508773962013,0.34660588232049083,0.6883150523555441,0.6729335330817314,0.5110521566365318,0.5756963760336431,0.36700764266766206,0.30818211917288785,0.02918816847700866,0.029821046665131662,0.43132358570540763,0.588919931342654,0.6156122449150592,0.5278819701429974,0.6299058168963728,0.6399094237351587,0.5750165326154453,0.5309177671703079,0.43930636418376,0.41047299648479424,0.36655911744970426,0.25489946896751975,0.12425879135483979,0.017630552031075598,0.010244977990097952],[0.5375303647621238,0.043138802310748126,-0.032740703771994666,-0.0007339107211717582,0.02358315494601503,0.03512909413226971,0.01841574181148952,0.15365101268003276,0.34855953863465655,0.5020847751976262,0.569693269596553,0.6956092424395496,0.6262032843531203,0.6309378266101914,0.5505207620507931,0.10529075557500893,0.5929339646689513,0.2981666684674074,0.09931177404585784,0.04342156645245627,0.27815933057469955,0.28792523112572616,0.5904115172840827,0.5628043650851766,0.6387620023291263,0.6573276484905143,0.16989643554633027,0.022000343403805734,0.15769881973758937,0.0467420318430793,0.29054048055432036,0.29909059737474397,0.13380308847882175,0.13154481507126486,0.1009416792282771,0.11836404479459732,0.10755165047827223,0.2830664418201004,0.4557381656941603,0.6513061810211509,0.5208348609728044,0.15794270679486114,0.28677200377197154,0.3981961088904357,0.2760689886239821,0.3644588020969084,0.6481206318780289,0.6684510476255477,0.16828919022644467,0.21810486953048996,0.06541104231378854,0.03228121662814135,0.8244364072029973,0.7036726962953076,0.6522077563674509,0.6723084383358128,0.6695401080357408,0.6047003029574165,0.5029082832894157,0.5254140966022672,0.45868951534562236,0.3675032124684378,0.6201268659381453,0.2434432030298897,0.2445095119924682,0.20572817790479728,0.330742992471178,0.5916547393932171,0.6445205032340294,0.49358200862180446,0.6811241941495835,0.056876902282200825,0.020148527861011494,-0.03575576274193951,-0.07668102411493549,-0.1095471640553768,-0.1354713174802564,-0.15812082381408357,-0.16883100785057092,0.21982111266927915,0.5413153054782781,0.6190532319335583,0.6190532563576243,0.7464390359778212,0.6825123287671667,0.31641680897988717,0.09098012968918166,0.10112508695284433,0.757457429636262,null,0.36865681937155786,-0.0007505156850131233,0.45403424897738665,0.019022308627537673,0.639040669100718,0.37953356743352695,0.7580520899153239,0.18174590510225525,0.43108757252628443,0.19664893884575768,0.4189770009647306,0.48977893779889387,0.5814056550136585,0.6659775869799853,0.6945715997526948,0.7018250355521353,0.5238243597398285,0.2778014758682491,0.09640238953072615,-0.0007476566632691605,0.16343871471669166,0.6190532277222429,0.1069257149784971,0.6249757345499463,0.5298220866205275,1.0,0.6944819260203059,0.7086295001331063,0.659041705449629,0.3219447852041952,0.08792524973155001,0.003532552237064165,-0.0007990517472183694,0.36206277639281614,0.4884397306210062,0.43191346842006023,0.37207957135408476,0.04737285843282394,0.46483705795738545,0.02622466859732651,0.025112123772214792,0.548162958427217,0.6270513625628098,0.26253787200623163,0.08025193184640883,0.13245788125701313,0.07428011135313299,0.3074098922369863,0.002143989744473808,0.04401414635664152,0.024503291417594865,0.018387859963749767,0.6445184905889606,0.3117355995957504,0.3087529199245894,0.17038891932240668,0.33087231654336463,0.5329704541623173,0.5208161985233936,0.38313723212052003,0.4361392672068838,0.297678726820905,0.4004124583391082,0.013898844781671141,0.018118602384889684,0.34272352903637515,0.5715457903535388,0.5862003670122266,0.8759797903113288,0.7929507650910392,0.6728318696611281,0.5587469805167391,0.5032721559731426,0.47453657832833157,0.44078268557060346,0.3638503004060981,0.19161890783159896,0.09090201181809522,0.006527148547462104,0.005938978078696699],[0.5703301720892341,0.07333501444391327,-0.008847587207190116,-0.0016659644446911106,0.017831336419017376,0.028665195378390084,0.04766232719407669,0.17002912436479337,0.3372251233534394,0.5158902817004974,0.6068555582156719,0.7401065782857291,0.6312720799191288,0.5740817644276665,0.4341395259544403,0.10405730337799585,0.6507397709536525,0.21703657546663896,0.0884643343585664,0.1001053372745928,0.28989166560042384,0.30053568683356213,0.6613674573699866,0.6375139168513041,0.6710113791361433,0.6874243900614971,0.18809062111760336,0.03396215307009408,0.12578673717100167,0.04927580407490939,0.2530742201548763,0.27161322202012994,0.0719607190851622,0.058400669343299745,0.06451826612845245,0.08301055663533272,0.08594124276032797,0.20356739052986073,0.38375958486022704,0.6575349941028661,0.6653488606764607,0.06513700596412082,0.3445150900602377,0.3880403921934947,0.25118020335707103,0.2777427459997009,0.6194205853394597,0.7172121097263344,0.17421666932484037,0.2525681648873004,0.07549362158250399,0.060162956032882804,0.8328352153438924,0.7446146953469863,0.6787128171102943,0.6822966027495387,0.6656987806998511,0.5968673601491415,0.5097738617902124,0.5443214536547417,0.40272364180213455,0.35228535870317673,0.6796609193328232,0.2354933070691683,0.25538660301955607,0.21084477392951664,0.32387549296591545,0.6501763227300433,0.6962296654252856,0.5343322181590002,0.7004234463523101,0.02553536783569158,-0.022922246090680255,-0.09132740273114173,-0.1364555619744995,-0.16862706107533967,-0.19086201014678333,-0.20766928322479622,-0.21434959152465635,0.270089358473801,0.5716617188173903,0.6795500303400268,0.6795500214387322,0.7757704064340326,0.6901122475988447,0.3356576628443853,0.20437122537881655,0.16568664299135474,0.782773502893858,null,0.4253529856766648,-0.0016804515328084802,0.36506676313724723,0.004418321776402605,0.6504054655083183,0.4153343334507154,0.7738334702494585,0.17838476975315198,0.492151992075239,0.20312621982983237,0.42166740174471606,0.517163124290639,0.6188860183814506,0.6992898578261006,0.7128328244521048,0.6294862004229375,0.44084739544158197,0.28613026472703956,0.09435400901608164,-0.0016712723516745173,0.1585663735156883,0.6795500280235637,0.10671569068247486,0.6533382578837046,0.5221128229224216,0.6944819260203059,1.0,0.630241776903496,0.6793204689659674,0.5194910393644996,0.16501809885412266,0.008279509189057144,-0.0012948702512492966,0.23982328070418132,0.3133760943477394,0.5863111593545022,0.43942313215492673,0.05819752633744459,0.17030510964992612,0.03404597399959225,0.0391952515267158,0.6256597524226487,0.6518726322358166,0.2895728484897596,0.06913886119800675,0.21111895235579617,0.04888470123830408,0.26228820461398367,0.008356558072581937,0.043706388000824506,0.12162353052326379,0.13325070875390888,0.6690708410774369,0.4180760441952108,0.42483501791569117,0.17475043023623954,0.3289006304330742,0.6206654235734983,0.6199802257250927,0.44024080269325,0.4710666955917117,0.32550198957110155,0.25635156481316745,0.017923431250828476,0.031123177256121085,0.40559303448564943,0.6606622196909803,0.641968620379356,0.9102744115307497,0.7255015760642302,0.6835435242278775,0.5904638207200731,0.5354331843808344,0.5148946428180347,0.4989214906117457,0.3959442762531362,0.22351508255811597,0.10933505563129584,0.004376651703627678,0.011372425589794892],[0.6496923457148718,0.07207617678526332,-0.04119537356065028,-0.0009137630043240162,0.026440226153375476,0.055254452957358334,0.014238045341960612,0.1530141064134844,0.32322257058511167,0.48059967949970506,0.5334392944240686,0.7033106310185103,0.6773858721934557,0.5780423094409108,0.3698201259061766,0.12821243428709683,0.6445496113240566,0.20292518531393344,0.08682792358808845,0.026538290767709666,0.2739288293716432,0.28408464878943945,0.6502033430507675,0.6246685934658733,0.6438532015933657,0.6765620188787487,0.1610891520755776,0.019456690091127316,0.13732585163088262,0.06148414530147866,0.18436765231312893,0.21061779677806636,0.12376047748892013,0.09192383300583172,0.11619090798924948,0.1427428188775647,0.19556758812302505,0.30024107085099266,0.4931496238160192,0.6397408142919017,0.49939354400699165,0.03569128573471463,0.344694162390051,0.42269685728666584,0.26038351141528304,0.3491670762510966,0.6437446426757336,0.6911240943477597,0.07895796049466211,0.09754087325660583,0.03397267808173497,0.057106691056433186,0.7184074817142557,0.7530792554356502,0.6999478530833958,0.7305539609636283,0.7411183889519863,0.7094112313906527,0.6443573323177822,0.6183080012703036,0.452091221094776,0.25530470337636346,0.6625507324407913,0.2913059325278658,0.2846049040084336,0.20980601128926277,0.40296187293032737,0.6452481250064414,0.6736254919791487,0.5487701349414237,0.6426886489632535,0.04400919505636594,0.005799225372676662,-0.051904694458194414,-0.09411530261873098,-0.12600517898834226,-0.15327853497545654,-0.17539949054473764,-0.18524334915784219,0.21754292222443394,0.6512201834277381,0.663065778635594,0.6630657811509824,0.7647513428455296,0.7990398669796492,0.34491519906215334,0.10640192460351514,0.1111169382722418,0.7761547359701412,null,0.2688246186226391,-0.0009158071885476914,0.30925719720426537,0.027715966555387862,0.7033741085006331,0.3171742718334221,0.6214179830147754,0.20511099020923318,0.4402022439912178,0.17347677098235767,0.4186667959810522,0.5031879428704173,0.6424362347762469,0.7434229930906514,0.6932539216025799,0.4824982009046485,0.2900806586823145,0.15801994210259396,0.11459826360642358,-0.0009096839547876314,0.1581660086389452,0.6630657719253024,0.06756162890152838,0.6130329312567404,0.5365861583269406,0.7086295001331063,0.630241776903496,1.0,0.6504828577832239,0.21898747987993814,0.055680858090447836,0.0021560189132700264,-0.0008717726242946507,0.12318113771291601,0.2674212467948761,0.495141946126726,0.40909566425465693,0.03440090731307996,0.19508232890721142,0.012109818358115367,0.028229992376020682,0.53781937381666,0.5020332926508317,0.2200271138913085,0.08218560777755202,0.11965097604770308,0.04324182070902758,0.28303148560421915,0.00433889382625146,0.08206419970853547,0.016207716917766964,0.02403511823439451,0.6667109412441898,0.4662368318961186,0.453271381831267,0.21206684622293437,0.3616112397604066,0.60143781088326,0.5682275744470908,0.4488713044200312,0.4976864728630285,0.297036237120959,0.30004898644877065,0.009953085593680924,0.012857436834860167,0.3860532657172759,0.574549265246755,0.6156274280870957,0.7094934268960831,0.6810689311611906,0.7413495818375325,0.6845091524419317,0.6524175440215163,0.6060742390044578,0.5412263602029403,0.3977967996657535,0.32143320803721137,0.1585913633525635,0.0037140135840694265,0.0031420374522903817],[0.818854984019775,0.06313389503547234,-0.01977958360110328,-0.0019510533963462012,0.04147936134826955,0.06187607176707981,0.02379358122022792,0.13135974061922995,0.31765338479326116,0.5590292586212984,0.6879369115047181,0.8911939294380627,0.8211726004575872,0.6218535765987893,0.30065803263781643,0.07130445099431426,0.7756941757469691,0.15692421801656561,0.07606693914794051,0.05022470389844617,0.33773782680485226,0.34302740524878983,0.7874415139501952,0.7784959055718014,0.7104613968446445,0.7060940828817416,0.1574726173092316,0.04298928708022358,0.06768123745797999,0.027454929404757415,0.2093732380370772,0.24832546945571465,0.10823978310052951,0.07775541404742616,0.14252462473952535,0.16212246200491634,0.19371792362545068,0.33148252815709833,0.6006880932511532,0.8117780502996667,0.5901037277147315,0.03751156692288216,0.27697166081514957,0.38265949673345145,0.2495007309042669,0.20138201946876427,0.7237451755625355,0.8800803481850756,0.22224509465605635,0.2975547434839711,0.06964211777278485,0.025310159617348407,0.8498330967103314,0.8917021524562984,0.8986972483142497,0.93109236627582,0.9357680871267624,0.8860194414287962,0.7987992719489974,0.7128553517998821,0.47629721905903766,0.4929228364619957,0.7830914832726649,0.3168133465666968,0.39059300687575715,0.287273484177729,0.358367848178628,0.7756156491966291,0.7415492099512238,0.6834372413625642,0.6453978664607555,-0.013349840376045323,-0.05898921286931878,-0.13928543174421154,-0.19281059187397065,-0.22965254717004588,-0.25843156673891027,-0.276589776296752,-0.28789138253464047,0.2608005394982302,0.8215073553346894,0.783356861136924,0.7833568577905139,0.8966226066636065,0.9127835090104689,0.483564399620442,0.21964602807685474,0.19566267363911508,0.8979708410337539,null,0.44039640274616954,-0.0019560750055589824,0.3832601532502024,0.0036088342705892693,0.8424761984483321,0.19125139881477665,0.634904483969562,0.18428105018627064,0.5019872911386357,0.1691649729631277,0.43630593265981676,0.5892860248904039,0.7438709064856196,0.9337502096975752,0.8305767938711476,0.5843348521934042,0.46553808798539714,0.3142343202013336,0.1654756191924744,-0.0019470944480365112,0.1654952746801313,0.7833568408859056,0.14330672107084494,0.8184895514301498,0.6133712372608149,0.659041705449629,0.6793204689659674,0.6504828577832239,1.0,0.5563526881708237,0.1788797208861437,0.015242156345765083,-0.001572291033323358,0.15656996540490786,0.3088964741983271,0.7109916740458243,0.5964232838273629,0.06121902256308073,0.2231335148650885,0.03784970362097021,0.08835957858486052,0.7451703223524598,0.5720773000853553,0.2612176244868255,0.024222096354711693,0.0642106557319269,0.016888497425362768,0.1602948343304298,-0.0013018631196755586,0.047748585247605765,0.007350835637790069,0.009188349282972111,0.7022673733090533,0.6621421829064981,0.6587744261161825,0.19332177607515383,0.40512064703346695,0.7452695039719348,0.7393318371905065,0.49483872199815965,0.5604255349625981,0.41404358762377563,0.33923706816012034,0.022218456821796673,0.019230388599449706,0.5243556916956907,0.7594467835597154,0.7883962414045221,0.7124929781211048,0.743509608456791,0.8991232808848489,0.8864840060064919,0.8638020435983658,0.774059413751677,0.746476018156129,0.6524872542857052,0.4954897318531929,0.24207204242744057,0.014409543587065412,0.012417171263161077],[0.4613799010723769,0.052628895579893885,0.017014253031130355,-0.0017268564240978282,0.010379472569602859,0.014441953681084458,0.02016632917968921,0.0572179391320614,0.15610551715064827,0.30687134130810284,0.43952619327203,0.5798159388892066,0.4937772420246346,0.3827962428560778,0.26053489510899025,0.10522642808475222,0.49299765835411674,0.06798108030031245,0.03795003273535133,0.045392656590000816,0.18042173304792777,0.17795803549509007,0.5003557156345901,0.4994745074797853,0.40204680150033073,0.40189024377410254,0.12056491851671264,0.044324278315221996,0.038987686817695356,0.013103595525632065,0.23352696426253783,0.2525531045965667,0.06821046037159842,0.05807875290875858,0.13270700947211733,0.14318390443053158,0.12238635154326596,0.171400295357769,0.35069284352450214,0.4992288641902173,0.40740033147457294,0.03261353790879635,0.16981660174456398,0.20902634685612068,0.1440069940800874,0.15499790820341933,0.38662512361556195,0.5708188212209876,0.2345708360685829,0.37678933068742493,0.05812128486374226,0.007331587787988591,0.5893148153168928,0.5475175788334992,0.5294288741962464,0.5325289929972309,0.5348466962862878,0.5003224645753945,0.4168014724064226,0.39086650537222584,0.22422407712137074,0.4020521762339982,0.48045489391991525,0.18662664852930136,0.23934721986354754,0.1713765765962183,0.15961391181701856,0.4941005773201965,0.4484634907638704,0.4008539127193403,0.3523062903161438,-0.08476584790132437,-0.12710677372300067,-0.18503038923598553,-0.22037853589928622,-0.23392179689413234,-0.24214954616228293,-0.24334077373238477,-0.24098543747247742,0.22450088533415422,0.4659422939174521,0.48212070429924,0.48212071736417955,0.5536332252486164,0.5009092513852536,0.2656025962925916,0.26070283955248996,0.22734048351266772,0.5494324218585599,null,0.42602100436644985,-0.001736903812847796,0.3053269218688434,-0.00557797199203349,0.49546033359310526,0.11889431645390347,0.4230600358723361,0.0630099307508386,0.37092051858976793,0.11102593861753891,0.1907998513227814,0.2815672462554608,0.3898251577205347,0.550547804480666,0.5417287244542516,0.5053967583777732,0.5062473932616885,0.42580372009516265,0.12931994212339895,-0.001726701076599097,0.09950041429303859,0.48212069836837834,0.139188878365638,0.602462373125144,0.3900011209457673,0.3219447852041952,0.5194910393644996,0.21898747987993814,0.5563526881708237,1.0,0.29787562039507964,0.020925262095249923,-0.0018692081967586025,0.15852128105149288,0.24202753228359525,0.523596202622781,0.3372282324706392,0.06327010382283824,0.1553047550111936,0.03954767680178264,0.03384921252242559,0.5522810705187874,0.4050917968194307,0.1977059564903041,0.007262795345708305,0.06599750806673026,0.0007295010787979503,0.051894409568025573,-0.0017856537823507804,0.009923684226341663,0.03619277452474326,0.04071360577236762,0.4020060231725644,0.4303958415357104,0.4459365477854355,0.15934926844649844,0.2669866744862379,0.4943771555222432,0.5109990939258532,0.3013352246012966,0.323520902652106,0.26697529075717924,0.2451789435338733,0.014277874345860617,0.013720651389966806,0.31757364629381774,0.5851177478695975,0.5688913965902205,0.4869196753009419,0.5032775867631867,0.5613404610694267,0.5391577823826066,0.5044161805767565,0.4077306758842716,0.4089528957331965,0.41151198107786724,0.32032346364974035,0.18625781323044002,-0.0013596106082823275,0.020345141229169753],[0.15198645219033857,0.04920326818904565,0.006982127055028165,-0.00017490798566172625,0.0038442708432101878,0.006242242075232927,0.005095136606930939,0.00957203210926049,0.04044585454427555,0.11103213630006084,0.17607160854554535,0.20210198824417153,0.13512930355538702,0.09544250007256411,0.052995674807334595,0.01741536377879567,0.16368539067300147,0.01402386323869982,0.0061060929125109015,0.005394975974025668,0.06960178680270115,0.06810002108910038,0.16603532488351208,0.16875892211369256,0.14650093715383167,0.12102480175791004,0.04051292939488457,0.021256117937553987,0.007729813902798391,0.0049282934928287815,0.054455348079179,0.07055173833567015,0.010872442935671725,0.014440114056520587,0.006545409385898531,0.011932182484756958,0.012549238760418063,0.0327542032649693,0.0874779745948019,0.15998134170850162,0.16740477822697084,0.00417699200899328,0.05425054277555293,0.05672197355721652,0.036836274564646505,0.03656500893663983,0.11049401644045578,0.19133702891010892,0.08263654497570527,0.11960186282807835,0.019539440836173205,0.0009868153387984282,0.187485130964142,0.18992786728484334,0.1813146714069276,0.1672216843313641,0.15590739849843926,0.13839928440171845,0.10936704139841665,0.11399026499989519,0.0827512939717127,0.14119003119665646,0.16363187749663866,0.12147998445325345,0.10139509476612993,0.0747628270812505,0.03378860615470998,0.16399187947209234,0.1448647920931798,0.17106268882503356,0.10826100452714223,-0.028838786046423658,-0.040266523493090574,-0.05661516297094729,-0.0673805094768543,-0.07058693331172486,-0.07437753551340631,-0.07198361213529515,-0.0734398837263264,0.07431305817720543,0.15251708252125912,0.16427854440991985,0.16427854396168082,0.17992919942935096,0.14890776151415167,0.04816073333010759,0.08351592451261454,0.0757266757828263,0.170853266090237,null,0.17923837939805837,-0.00017692947609353595,0.1451320514975641,-0.0016448442043323326,0.1565999733262247,0.041527226528860504,0.12524919346501728,0.012822478703537572,0.1422856793464688,0.026221026251732078,0.0689767504907778,0.1247498755857123,0.1655511312730553,0.16998364347969241,0.15206222892971827,0.1401835620513791,0.1520063207945726,0.13098365898054676,0.04280093772984472,-0.00017508532153974446,0.02240444029952157,0.16427854627132896,0.1655178330720875,0.20482695973158352,0.12708355056006393,0.08792524973155001,0.16501809885412266,0.055680858090447836,0.1788797208861437,0.29787562039507964,1.0,0.6420911278398452,0.0017368349522809026,0.03452327440143097,0.046797600918665395,0.2032362315861526,0.1422520193591905,0.013034915059333409,0.022362141102352982,0.014992056617141482,0.007287174527029832,0.19893233415354805,0.13260251991277883,0.056703201169241206,0.002146743084657632,0.01726014274428261,-0.00010886431025592882,0.011650337494060293,-0.0003357382059171239,0.0038863672344358864,0.008817639412612668,0.008890758142783296,0.12470890406944682,0.1127244912165247,0.12003323445535607,0.05061458770617558,0.11916909086578491,0.16212498227109967,0.15675788882560918,0.07283437941456031,0.06999773316488793,0.1620644395961978,0.1410694171146932,0.004772773294768215,0.006634625993378427,0.1542767324056084,0.20399925992950643,0.19529576346183342,0.1510928375390028,0.14518820327087004,0.1731420515121778,0.16319377031189175,0.15317369243241333,0.13437860329801884,0.14118518635934232,0.1744927204554211,0.06655601418732172,0.02885611258016062,-0.00022992454328572056,0.007979747699982094],[0.019999649007980444,0.02268284196025142,-0.0021907396004207077,0.0001359046957711605,-0.0003380560188281608,-0.00036137522103984234,0.00020446996245714364,-0.000204642756519189,0.000519913261686137,0.009133353823998325,0.020582320004986637,0.02137509102406626,0.012783825198332273,0.009724041258680675,0.003876365900262766,-0.00011626878331924133,0.022066253915887474,0.0009739919553064171,0.0011180237767020736,0.0005283128903419585,0.007160233800945177,0.006353909523591572,0.020855121182937336,0.021845613558995624,0.022892705614401557,0.010147392437798206,0.0051372711957003905,0.0010781125148088993,0.00015712832954665725,0.0001582886362367573,0.004536363856418789,0.004065958856722672,-0.00034088201838924367,0.002002596975544389,-0.0003384526349784622,-0.00047977368069510474,-0.0004516133059253063,0.0005540181289257075,0.0008935526511161203,0.017186050512956363,0.02463517028577727,-1.3907582590017182e-05,0.0031125907915835744,0.0024113377294746772,0.0018102144066595067,0.0007572399649440387,0.011903058090750157,0.021118788401063827,0.0020867727278633024,0.004179898068086993,0.000335212654331286,-8.699549000004946e-05,0.020526674955212352,0.019999507801298316,0.02147216771671701,0.01630606081002905,0.012460479117129178,0.008906005082805686,0.005978012506078676,0.011898871079612777,0.01260900510233305,0.010648576500572575,0.02177610201785291,0.06305935016827033,0.03524419301395855,0.021166028251513813,0.0005961139704746065,0.022099831492306335,0.016548645738214254,0.037822624766069145,0.007815848871514625,-0.0031395162325105813,-0.0023172315731646714,-0.006014158409325498,-0.0110508739591833,-0.012418746434366808,-0.01594983883931,-0.015309077826248595,-0.01727743188458184,0.004904663574346604,0.02002497441250774,0.021859333240691024,0.021859332627565495,0.03140501579926796,0.014339912141084741,-3.181251396572588e-05,0.014663769853326071,0.0066099229032729355,0.025889176484361443,null,0.05224164899609543,0.00013571479016581938,0.06113183864135354,-0.00029437223426498094,0.019023087799529124,0.0001510443811483387,0.009948316628297009,-0.000827558455482213,0.032057766598400005,0.00037882575695302636,0.00701254655654556,0.02170518821934429,0.028514084976854384,0.015114113045065655,0.011940986224280758,0.0076513954185706634,0.006249627768564598,0.005191626538751701,0.0012599370809135769,0.0001358273121229503,0.0004525775706099369,0.02185933297155082,0.15214110585231716,0.015249253215580143,0.009005046470756464,0.003532552237064165,0.008279509189057144,0.0021560189132700264,0.015242156345765083,0.020925262095249923,0.6420911278398452,1.0,0.003118817568783957,0.002693270234288379,0.002063397961110183,0.06697478710625078,0.05212524271018046,0.00033845899472115503,0.0027134333743507313,0.0006756450583168262,-0.0005951182210094727,0.060997678354529336,0.02738567620632344,0.010376542300435334,-0.00022793991060375096,0.0005277870421235386,-0.000152741430556514,-0.0005660577614420718,-0.00019615460670569773,6.142751075061892e-05,-5.480574426807592e-05,-0.00024479829910471925,0.01296209743109763,0.017124129482112307,0.016595798384275186,0.0058351074907762295,0.04088621466821335,0.040312699340440024,0.03159018483191909,0.0008669692001759781,0.002264008291969571,0.06896998678628717,0.07332215721801079,1.4189595221989472e-05,-5.723588999010161e-05,0.0838413294349354,0.04170477908602553,0.03606502299929197,0.010282993837950847,0.013497162272135755,0.016145804975499025,0.01585603048639981,0.013361478233358688,0.011216513791820122,0.014663041596086739,0.03451917095985813,2.58185022093535e-06,-0.000664460503720594,-0.00014423049936219257,0.00019865421878466864],[0.0205796305266254,-0.00010311233638374033,-0.002763524172278048,-5.6832528199150834e-05,-0.00018082317601017195,-0.0002249598539276794,-4.5743782011646417e-05,-0.00012053106388898352,0.00015610136213470855,0.013463527989608173,0.02648918865395524,0.022841145174355794,0.005483005204822381,0.0002248551219382638,-0.000624375168915258,-0.00012671196990955358,0.013583786038426991,-0.00022994738686775754,0.00014559982219764861,-0.000151788113082649,0.014122938710688974,0.01398468827611333,0.018074991038405534,0.019819913142931682,0.01015243656929386,0.007102673388739687,0.0005534122932121832,-4.80522643810851e-05,-0.00018029510468379816,-6.206388318953873e-05,0.0018220864531396418,0.003412153374765438,-0.00011350347811236062,-6.818728796367828e-05,-0.00010811157368764632,-0.00014780437581164038,-0.00012579504467748193,-0.0002926732781656531,-0.0011191241637022176,0.009070306692867585,0.03188864800145089,-5.014439609005499e-05,0.0008937938866262783,0.00010244037626945144,8.66942639822397e-05,-0.00042532040348923543,0.0061504877275724715,0.022330357221272194,-0.00047417475274856834,-0.00025938204973037976,-0.00018658864415989286,-5.4199836091263396e-05,0.004591606810911228,0.022215652053707985,0.03379852103475655,0.030727926444046,0.023150214293518444,0.014278800278497856,0.008079970665400548,0.011046696043530006,0.0155032686601427,0.0057827968849811125,0.01651763944733597,0.016705509462153826,0.008316848897792162,0.0016377406797181023,7.686490625751856e-05,0.013602076392064521,0.012621290593225054,0.012062217353110038,0.007328793720266027,0.00028219154907223255,-0.0019612947842201685,-0.0033581649680276505,-0.004238386163042993,-0.004417562379631398,-0.00577907216357075,-0.006997602879421765,-0.007206172043931821,0.005651646541805996,0.020603873378396458,0.016569480093851043,0.016569478846826233,0.017672040009965456,0.014796668896837619,0.011114710440698687,-0.0013457037161379785,0.002785040896132828,0.018009828611688584,null,-0.0017703831371291736,-5.677113956765579e-05,0.052738993761412035,-0.00017045595252786758,0.018409328148607847,-0.00037345092337166076,0.006335419704031314,-0.0006216309610792423,0.01269117030402105,-0.0001612107158104411,0.0049163647085632735,0.020597915170014656,0.02315744447609854,0.01710954703990936,0.010110802544213723,0.003954402925362626,0.000834685947446613,-8.786227861823657e-06,-0.0001164994488488061,-5.687487282399055e-05,-0.00043262581870362753,0.016569479522760822,0.003934826568006285,-0.0015922992253716265,-0.0010798447893184747,-0.0007990517472183694,-0.0012948702512492966,-0.0008717726242946507,-0.001572291033323358,-0.0018692081967586025,0.0017368349522809026,0.003118817568783957,1.0,-0.0005788032348731956,-0.0006933061377778665,0.04885010300439851,0.04087929177443854,-6.682536529046923e-05,0.001535409333030756,-0.0004241253040784223,-0.0009169919362349162,0.04367877469557252,0.011343184440057228,0.0014059472918486182,-0.0002312806887558767,-0.0002984378276472023,-9.580606889348086e-05,-0.0008095112852631826,-0.00010176711843033919,0.00019853905779263644,-0.0002931755250619631,-0.00032711509505247186,0.010552200089045815,0.00672708430187572,0.006334416924207034,0.0010053826098169044,0.010278517565884585,0.012042534116589943,0.008807647046545235,0.0014344408136357986,0.007668517241478913,0.01778454583475946,0.01957413154518352,-0.00020868942013639534,-0.00030728354796954056,0.03456685372893226,0.016693292673318455,0.014258511730602694,0.006228556088851563,0.008613125673847201,0.014092896055997886,0.00959236642426259,0.009134724115329507,0.012604920322507549,0.06713115343370187,0.008229341084483475,-0.00034290816150760043,-0.0007240166181474066,-0.00021802002036864525,-0.0002468370623229018],[0.09470061003015995,0.04523995957281764,0.016303044467361943,-0.0004123435956616159,3.4326032009172124e-05,-5.682833142021985e-05,0.018233552478322576,0.028388003494062373,0.04802509114386634,0.05279796563288921,0.05063085905130018,0.09674021614618357,0.27067693318938246,0.508103505599294,0.48940007897090687,0.04074039118588585,0.14840434212632267,0.1628484894201972,0.02662151011406468,0.025700865021956773,0.03280651765849541,0.035185781221801785,0.13748878078054158,0.11891791048621782,0.14756203718569902,0.21602880148690537,0.025660371846879904,0.003502466657254269,0.15475522716890852,0.0021100297011301637,0.29189109081612186,0.2145834677237073,0.021445303999442,0.018051922857946896,0.02211187898248314,0.02209737104478656,0.055614719548541906,0.11202798567856403,0.1729065972440165,0.13916042019750505,0.12947835475981337,0.7916555536670878,0.11254387788380174,0.15294711666241945,0.13671488846090982,0.18025999306815935,0.2225568840070085,0.1478552773727301,0.01713159764273267,0.02183375710961796,0.0051098623069048095,0.017048037752183394,0.29402428220928356,0.12732309944659806,0.105171077409171,0.1295771004352915,0.1577722639263752,0.20399743771771486,0.24467061554868333,0.2661070973265069,0.2796751920023556,0.03965247413842461,0.14052664583428207,0.01913242710304474,0.0289265564880725,0.024862310849890365,0.0576338921655268,0.14862791282635296,0.2086171231744605,0.09185334204650282,0.17764784144255052,0.003682807352858094,-0.004080955419710604,-0.02361108106884626,-0.0321604057392684,-0.041947866286348855,-0.04952666923750614,-0.05817352037954252,-0.06290427027123677,0.09237059802154422,0.09495679829696628,0.14016457477119187,0.14016461750002385,0.2107779175027064,0.2063794938583408,0.20985458728830103,0.07740020661504536,0.0727421518763226,0.22245914130216318,null,0.16575463745462976,-0.0004842560014340461,0.20033578169911762,-0.00024829968414313445,0.16595248360403905,0.054639153194292904,0.3098000580993504,0.01186313752226573,0.05276034868681934,0.030278963530891503,0.05151957434915272,0.04773285059996725,0.05540417763360406,0.10326930357949296,0.24333333813509106,0.4713489125119298,0.3404034584436724,0.1120559556760605,0.03954752559675698,-0.0004812618438822889,0.048865783345554074,0.14016461497025975,0.07557026543247365,0.13178300613964586,0.1690129833439608,0.36206277639281614,0.23982328070418132,0.12318113771291601,0.15656996540490786,0.15852128105149288,0.03452327440143097,0.002693270234288379,-0.0005788032348731956,1.0,0.32714954699323184,0.11622020011281206,0.05677189788374504,0.021182369600241665,0.33678592818766906,0.024230264638499727,0.014887639369394126,0.22165698395756633,0.174943256692286,0.05012809439230678,0.011979590179709246,0.020942603139181996,0.018241926342750816,0.029269882633819445,-0.0006061576536923357,-0.0002100714920422528,0.003342355254452555,0.004152459464064224,0.24208485745783045,0.07247760709244151,0.0742294333441888,0.033306713346357514,0.04621432408588193,0.11090423414688218,0.12689257485429647,0.1442717330164248,0.19686272433926977,0.04150243446782548,0.1373800818688503,0.0023254964541942493,0.004719211262082791,0.0774601771169937,0.14670678094545983,0.17299784433624804,0.31116656128406656,0.39048240437117177,0.13793167620789817,0.09879494889742395,0.07666024109381142,0.06358810239151244,0.04052948261575503,0.02892844583127595,0.04664079975095936,0.029600986544296687,0.005595094478711123,0.000976257496313873],[0.22805518378708264,0.02474228329725925,-0.016003997819308266,-0.0007239613402180811,0.023809436786521088,0.029839689100431454,0.012263954859631656,0.1046762287019729,0.15336517897760113,0.1756094102646226,0.17308669478387817,0.22679355530086162,0.42118430778953825,0.5790476540963457,0.5679987462204015,0.07023836508957855,0.2762726645747548,0.09724971741521489,0.046183199867749415,0.04759529372897448,0.13685980669514805,0.14452702939386444,0.2651135546027175,0.24931755005965325,0.2693243747197624,0.3428446109564195,0.06462700361499979,0.011259735138091392,0.16672564511120933,0.006268386882188243,0.7017177328277863,0.6643012173280508,0.03269730438402017,0.026628503850222997,0.03361171111224094,0.024830549048013285,0.0479612289902449,0.16221334047319458,0.42441416407570537,0.2477720598405841,0.1992840383970151,0.09288251499897224,0.13833679651950131,0.26695353912224196,0.35698061692505706,0.500711651147012,0.4052796452306349,0.21369524225312408,0.07345566260990119,0.0715825277286177,0.023424351009979433,0.0010495918496251414,0.46121757346400033,0.27742740040289116,0.2570642156626438,0.29832210268810005,0.32797119494294763,0.3236395907828364,0.28521715791877306,0.19887846839493534,0.19308178984490226,0.17261570512908092,0.27311319052390337,0.06854718493123234,0.08743042210120758,0.08948327079892668,0.1294510130689819,0.2752215444285562,0.3224178013833843,0.21000239042588537,0.28570400404453056,0.013135031626746002,0.0025467690430637986,-0.02717721729705186,-0.05023952183408907,-0.07282363058626234,-0.10207532974234183,-0.1186621596692656,-0.13742912637588428,0.11587446335377243,0.22849259562429902,0.2717695893807345,0.2717695878101225,0.369662113802395,0.3441660663067277,0.5818072757245825,0.08728024333445926,0.08353005167957464,0.3832302410408967,null,0.3102030267897425,-0.0007309507990016992,0.44407048168277785,0.0013528328559781035,0.33337987891989074,0.114658975523249,0.4199168826845299,0.05774550837401404,0.21356125250258712,0.09869583673744574,0.1636374868669191,0.17496652919289676,0.18259828111685347,0.21766923346395606,0.3752039142830722,0.5789882457831309,0.4792278037405345,0.2779903223951379,0.1469707785821235,-0.000737146273541814,0.09960822150460794,0.271769578624827,0.12434504631549709,0.22131711366372125,0.29764529778767085,0.4884397306210062,0.3133760943477394,0.2674212467948761,0.3088964741983271,0.24202753228359525,0.046797600918665395,0.002063397961110183,-0.0006933061377778665,0.32714954699323184,1.0,0.23211395456254444,0.20666998824933017,0.04422026790369451,0.817196152707829,0.05194936117272214,0.009426087043542189,0.4282578290393587,0.35663317947044076,0.0711554290560383,0.00619055543455724,0.010536046438821273,0.04499495443494434,0.0822178513596335,0.0015906565552922653,0.006382376491051233,0.004519922505340693,0.003754225106822523,0.3446107395977006,0.0818714841066831,0.07322316316286229,0.17808827928795423,0.20621320871919938,0.24414493685519167,0.2327168331599823,0.22705840937399974,0.4089268035075546,0.11231943615990982,0.572442498077466,0.005071395033761258,0.011041289431429612,0.19012474144757485,0.3088769016561507,0.33545083355254113,0.42722084809850014,0.6413386018610302,0.26829249969046914,0.16884372184766977,0.14465354439576428,0.16648870057519563,0.15952080489536188,0.10686350218285806,0.03295087808564264,0.009906867395578525,0.014006879585735113,0.00588324183333872],[0.7619592457168239,0.046631550767370696,0.02737200887662212,-0.0023583313100955885,0.08450287497824001,0.11060341164037218,0.02762831303150333,0.15572598723855402,0.3042972088051774,0.5015276573016842,0.598221072855154,0.7120553712880912,0.5921856482813376,0.3242437274491298,0.17952552227578691,0.08100132498906312,0.7344745439310674,0.08937002690712333,0.03140117457950172,0.04631591379949158,0.4245349777096299,0.4318954096840392,0.7453455139590162,0.7478511463498022,0.6706207526251298,0.6495422096868233,0.2537530464003859,0.05871356255896948,0.035760445349690494,0.04309859162337024,0.16859686621046807,0.31057549447343313,0.00518962893849114,0.004680899090180867,0.004845858936948572,0.0030514744680642985,0.06608657988556575,0.03399477337778848,0.2864499214575344,0.5728455454090825,0.6336610101273881,0.014399969365025661,0.2784428400242087,0.3779060753408393,0.2765021580095531,0.15520153071378942,0.49545637916977947,0.6436433134518713,0.2620232407595249,0.23190791714178793,0.08044999310034062,0.006402275923534204,0.5903665709884912,0.7188040650493019,0.7291977165058785,0.7333233148402964,0.7221205866964355,0.6854628120786942,0.6320589581460468,0.5501224106731591,0.5264294752717573,0.36723580567365194,0.7436852455320432,0.3840655521679779,0.44705922545575233,0.4211661622929284,0.16118807469382887,0.7343019264557457,0.6937022750527574,0.6271124274992369,0.6018647570619776,-0.06834547802096154,-0.10601907148913234,-0.1962909676233186,-0.2609591160272015,-0.3138200485737069,-0.3587176284469746,-0.39391903397941014,-0.41211605448498223,0.28380432230553027,0.76333542378406,0.7425373076163609,0.7425373185856127,0.7491353222913925,0.779111490599172,0.06608359692856038,0.3406610439855272,0.2933181994705526,0.7480895020535111,null,0.7418577101418428,-0.0023646120823442116,0.46900062647806096,0.01719683731088986,0.7608497315520392,0.22847197278610093,0.6029851342245253,0.1280079338052819,0.5503527535969235,0.18812396380184127,0.4055256864920778,0.5441288130336482,0.62181527885564,0.7193185680377292,0.6204361799279791,0.3671887989119254,0.3407905266144277,0.3562224979208987,0.2662073410685491,-0.00235154570469504,0.1844374214781893,0.7425373128084766,0.19493839869126015,0.5803305157939845,0.6678903729377641,0.43191346842006023,0.5863111593545022,0.495141946126726,0.7109916740458243,0.523596202622781,0.2032362315861526,0.06697478710625078,0.04885010300439851,0.11622020011281206,0.23211395456254444,1.0,0.8054849469631375,0.07222657921583263,0.07141642624119696,0.0326495174635766,0.07879351495095523,0.9471993950310332,0.5473792389548788,0.3138167013252571,0.05231524282647386,0.06867695456627607,0.03664071428098132,0.2151681294832671,0.013227419365566468,0.10245411455868084,0.006391599757653394,0.006952833232724143,0.6716743799294613,0.6288069959267589,0.6207520549811358,0.26691394814308195,0.5148361105446218,0.726614208375651,0.7334226984200234,0.22906222046152738,0.22052047084590723,0.5732388513419403,0.2947506570733527,0.01983364230707976,0.03371250216390264,0.4605193751758861,0.6606394590141098,0.7037347738202668,0.5858999823901954,0.47701609747814105,0.6446874564288736,0.6420258202045837,0.5976804830531159,0.6228593030321055,0.6512478381337802,0.5495914902720309,0.31731360096849437,0.11831800796874443,0.003932196750954297,0.009929980772698396],[0.683979606188926,0.029819654112864375,-0.028587824489675843,-0.0008411867671267476,0.1623841972395742,0.20656085240321964,0.0045918053655340674,0.14332154038894174,0.29653378339678105,0.5172392237599619,0.6185503366129764,0.6351427044965982,0.2897134033547658,0.10067631302264343,0.10053795401085723,0.06754617853426595,0.6117276023957043,0.03591863286120398,0.01163895032952297,0.01635253747791254,0.47649238834603913,0.4785958578104132,0.6228508171943883,0.642346608078877,0.605752163952113,0.4944056406453862,0.2565480405829466,0.05632702726973902,0.02669412960761908,0.043291760752135124,0.0930658581692854,0.27276102156454457,0.0034408934992097443,0.0029572534297821478,0.0034719687522331323,0.005403883915588666,0.07164906919301642,0.00553681810416611,0.05857002869177981,0.49733373057184654,0.5677695728399924,0.01088212656217485,0.2842224892907054,0.359092349107133,0.2547231663117328,0.043076225728026656,0.31207567707368017,0.5643940053426092,0.28417257735404816,0.2538553765160609,0.08885577380623184,-0.0016203964669688291,0.4471544700951248,0.6128678458726161,0.6574458513804037,0.6163603257412258,0.5550414597234229,0.4753175131377226,0.3880781296658778,0.34700848561681025,0.4919161895550132,0.3829131752451198,0.6405193515012815,0.5146000777955483,0.582486397265441,0.5732921104234483,0.12911391328919541,0.6125370647822609,0.5459631466607682,0.5919560256609186,0.5156609145715508,0.013967305006948249,-0.00810827311561928,-0.06457469858013482,-0.11571315705859456,-0.16628887632545966,-0.21948179444561655,-0.26376558399214683,-0.2908328364942531,0.1648137656829627,0.6848439694403589,0.6399869379555334,0.6399869028670035,0.6201234327227522,0.6109298103028274,0.04551717988502192,0.14394646788383209,0.13155714692700052,0.6061603692325145,null,0.522052348843209,-0.0008434209812010298,0.4003637798946283,0.01820336002792783,0.6525399661555286,0.19188396178448128,0.5000445173698328,0.13674309580331653,0.5860796376776131,0.17682983688727852,0.4070207360702329,0.57375257385932,0.6047588214458933,0.5526135801813027,0.35392091140779625,0.24077518126895878,0.3342605133543329,0.36646836793431153,0.28948406380785496,-0.0008335970768835218,0.13747972017480822,0.6399868961105305,0.19745833886603714,0.4506902612786309,0.5461226675607141,0.37207957135408476,0.43942313215492673,0.40909566425465693,0.5964232838273629,0.3372282324706392,0.1422520193591905,0.05212524271018046,0.04087929177443854,0.05677189788374504,0.20666998824933017,0.8054849469631375,1.0,0.06486114028630556,0.058027592107858135,0.02452650152759641,0.06219516333728951,0.7722508884704076,0.4918103346443234,0.3032911931648709,0.041047469046269124,0.0617082340465662,0.023832881815068912,0.21244534661374356,0.010597518545404711,0.1098959785974254,-0.0006467378035975383,-0.0006092473043469733,0.5367024770818477,0.21872476447324402,0.23615613449253497,0.2817233405612701,0.5368730114395651,0.5183295531620811,0.5029565918262475,0.12793830321091496,0.1258503261167182,0.6514571897713766,0.3203025405414877,0.04658089067812998,0.045813910859657275,0.4016857066715396,0.5483572563301298,0.5584444102354299,0.4645264533754558,0.32285936422455874,0.4294463521222024,0.4344610563052641,0.4071034570910992,0.5270416558831494,0.6612446373812516,0.5649454742722958,0.056378708836370646,-0.02194638003036365,0.033536239019288254,0.014656011529961429],[0.06864232618264059,0.013518863730522161,0.001514951372078646,-0.00012889903804565034,-0.0007644644992764318,-0.0008262500384375018,-4.2693504457971495e-05,0.018869114077954323,0.043946207091402824,0.056037429266617644,0.05735108674051993,0.06089307619936675,0.04591714379393761,0.037146679127751304,0.024376620616589767,0.0033526304568249074,0.06759340286316277,0.004618108872359002,0.0003915526188381121,9.373768984096636e-06,0.041606717628742594,0.0402208110659176,0.06845797905232354,0.06993670328654732,0.0731288225107829,0.05390895833951867,0.04516972432431712,0.00804004105164609,0.004333881997033581,0.004805245717499672,0.035331741874288385,0.03989202955954235,0.008290270906127039,0.005299358072996309,0.005715959537064538,0.0032130152381032967,0.033122443167109196,0.007326852682440755,0.02351705056185705,0.040755853201776424,0.0703965378747451,0.005504296486068487,0.031375826694398035,0.04785354400014892,0.038445003024759124,0.025828911785838186,0.02180209852657919,0.06704212110910329,0.030397730693662965,0.07759373298066535,0.005836154858256339,-0.000382441862256446,0.06624184081562288,0.050972971270900176,0.05592977793561713,0.06046619888495261,0.06534037321155448,0.06986670070444374,0.056844236606987474,0.030669705441969935,0.04174131036411602,0.06982887098708657,0.07150916397826866,0.03076113863041216,0.03762631131818423,0.027096697945501454,0.028638673888963736,0.06769251956108709,0.05958905569133794,0.08427608201477964,0.050241445394720606,0.00037047541020293097,0.005037755288389845,-0.0011379291904960013,-0.00367305132790994,-0.011551653241987102,-0.017440210084804918,-0.02412923304871147,-0.02892320935317088,0.02067810140574656,0.06881987377154825,0.07181710185815886,0.07181709738080026,0.08385973590757728,0.07025948788711564,0.031621309257589214,0.02099103836431406,0.019875533484011696,0.07833837500866186,null,0.06547880862063898,-0.00012957786932651986,0.045817708824609615,-0.0003894359210095653,0.06937627533374047,0.020148626471331817,0.06581852956344593,0.011828612947701869,0.09675525160412968,0.04730095284931964,0.03720234986707778,0.03437949132774602,0.03564263635340766,0.053021377637501324,0.055799744498443604,0.06242784061841076,0.09608503169621382,0.10812865322410399,0.06370104035590933,-0.00012815312017289284,0.021357563765342386,0.07181709642876867,0.05878305171259595,0.062302396114459375,0.05891729241974757,0.04737285843282394,0.05819752633744459,0.03440090731307996,0.06121902256308073,0.06327010382283824,0.013034915059333409,0.00033845899472115503,-6.682536529046923e-05,0.021182369600241665,0.04422026790369451,0.07222657921583263,0.06486114028630556,1.0,0.028584922488205416,0.002385640997485613,0.20230471403785308,0.07699004169562014,0.06997652908170687,0.08322202016350468,-4.3951348123719155e-05,0.00010264302781758759,0.0006844400601732365,0.014810013083426813,-0.0005118068414735487,-0.0006663092145282257,0.00038686275280842733,0.0015226066030984034,0.05928666394808996,0.035846124314844234,0.037132235056368396,0.02445454589321045,0.03633951307047268,0.060655901029112856,0.060879900134839356,0.005950644254469812,0.014329620341472428,0.04126465177302358,0.034353282477592104,0.00012074314251511614,-0.0005159983321141049,0.031271856377441606,0.049976055358739925,0.06674957749867223,0.058840966353733315,0.05754530026854623,0.047156029634101836,0.040970655038436374,0.03925159711333069,0.06324469837904581,0.048428858747195505,0.04993494264834227,0.022752585362890595,0.040107052473870544,0.00022333563311705982,4.2227391642255424e-05],[0.11865430565935842,0.043578811557791926,0.00019315441031224857,-0.00034818123543975746,-0.0007026498641856125,-4.5023257907452535e-05,0.0034655757034020396,0.018503207156824367,0.027755387835344526,0.034116809801321826,0.041415451432985924,0.1064330940037733,0.412059356354554,0.6358091943532381,0.5927959218551082,0.05597469915310955,0.1787512237468765,0.1322493910585892,0.02630749593060332,0.0032651804077837012,0.022388764464019908,0.02407134308270304,0.16116072661478242,0.14080871800620076,0.15085831860448257,0.23846675993398975,0.00749460715734414,0.0010133814404897942,0.15331116865324412,0.0008346795530913308,0.4379731832250079,0.2966847294747518,0.0538861354478153,0.042457004385729136,0.05001906744614103,0.022817750074458566,0.030432908883287486,0.3114020768442478,0.47464852902176735,0.1398478737360534,0.06783219081865978,0.14965245175226588,0.089840600311485,0.18320012733655183,0.2574303136867761,0.4911794025468851,0.3551044664310712,0.12343469752407756,0.011215373499678398,0.01881666223175561,0.0047503197673933175,0.0037592893340443376,0.41120880324890857,0.14585269701250267,0.13811786913160895,0.19158244113584866,0.23741909325869634,0.25536538760755084,0.23553943714026873,0.13344975260443373,0.1152647308406706,0.10881821779743081,0.15822138148473283,0.022638856919963,0.02752886227395533,0.025714739229244304,0.10147242879568759,0.1785448769544439,0.21955554084568354,0.10681608220373745,0.1694671717388106,0.0036367583977681486,0.0029831411719198273,-0.011517533543553867,-0.02282368836051423,-0.03272614312213471,-0.045022439700281976,-0.050724570375006654,-0.059695965449018416,0.06017634907410239,0.11891395692481979,0.15792905301747343,0.15792905319178338,0.26764725828006874,0.2431496323784178,0.6304056618866385,0.049742058145403445,0.045904397130036904,0.28434814376399936,null,0.2147669756976836,-0.00034923871950697427,0.45026605529266533,-0.00119502233830554,0.23585537072791096,0.06397642192455032,0.3251424614481919,0.024151992552190436,0.04240587799535572,0.016696644450970577,0.027838422110246317,0.03134469954842105,0.04680118385386845,0.11133023693261287,0.326420016967007,0.6258797855130641,0.5167050538214486,0.2599093481541451,0.10240718316595022,-0.000359032798543632,0.07805827185269193,0.15792904941014002,0.06448216397995524,0.1405060453964985,0.20276576525929968,0.46483705795738545,0.17030510964992612,0.19508232890721142,0.2231335148650885,0.1553047550111936,0.022362141102352982,0.0027134333743507313,0.001535409333030756,0.33678592818766906,0.817196152707829,0.07141642624119696,0.058027592107858135,0.028584922488205416,1.0,0.03584880800280533,0.013118133603138243,0.31215718239054857,0.26380089389677874,0.022821735119189765,-0.00028875316881089077,0.0003468831226232129,0.034134283517730034,0.05225872515418022,-0.0008595719474129883,-0.0004876333473337569,0.0011833468223912845,0.0011102879232670947,0.25077846238675017,0.06934457274596281,0.06372774293204109,0.10183548939911262,0.1091583177922834,0.15236895610201026,0.13022706916976257,0.19657941598138004,0.3735288232142884,0.02867228950972996,0.5227145887646348,0.002704145365802749,-0.0007449172125827098,0.15733147509975268,0.17310313857175694,0.19794920662541868,0.3287232236989988,0.6399086677140636,0.1728260900250837,0.07372227947316515,0.06521005571705646,0.05380184148904043,0.03795871031400034,0.029181614132805813,0.02690034385331146,0.011871788377373719,0.001843601541233699,0.000297340355166263],[0.027063771109761648,0.00686617294028082,-0.0003441008041545871,-0.00018957944470797454,-0.0017339980779314174,-0.002223060515822999,-0.0004059724909932216,-0.0007655195507946962,0.0065346808981304886,0.01750510705923851,0.01943390492845576,0.027310705870741667,0.04657421823860096,0.04638699929422896,0.035552406275463806,0.0060371058575022715,0.02910762978556864,0.012339002369356896,0.0006358681545629115,0.0003501200170902204,0.03644555290317352,0.03981664976643999,0.02936265518441382,0.029559771268168982,0.03637232813619889,0.034820539520791144,-0.0035119342503623046,0.03510518977975309,0.015184607178568536,-0.00012128145262374032,0.06405348081855143,0.04220178786990143,-0.000480748832305081,-0.0004694408351459662,-0.0003683549732996451,-0.0002473247104163114,0.004098541014997998,0.0076753518089494165,0.03841039519677847,0.033963433966308805,0.016337554999317265,-0.0004506461424385531,0.009947431647850535,0.019000359379419424,0.026046036543256625,0.035992719782773186,0.0349886972669588,0.02994407826479437,0.00020305685784016906,0.002449763923039821,-0.0011714557811731223,-0.0005330541851927677,0.041191194591824874,0.031064283460505757,0.030879269308451605,0.03186117114260335,0.03272932349874846,0.03418581219122184,0.04417233183810119,0.03782872745383026,0.01602526573010327,0.01531226645340047,0.033229583086878504,8.353378248168237e-05,0.0019090782421484005,0.002515646351849461,0.015774258475228745,0.029144722082619732,0.02978892494559804,0.03353944117829664,0.03278177827507568,0.008110832303234066,0.00507396471214056,-0.0006792701978149438,0.00527389394653736,-0.002292453687621087,-0.00808090507429288,-0.007507028082544256,-0.010299132186583938,0.020712773972938105,0.027124332875104084,0.03331218504576575,0.033312182350869086,0.03671428350960271,0.04293714833238733,0.028624897787692498,0.02372411698941709,0.012378467285050342,0.03510794314407624,null,0.0380191651078298,-0.00019062735736708576,0.029082846547538677,-0.0006064610740193827,0.03373873440660927,0.0009309975741390695,0.03389251843225819,-0.0005600983077523426,0.014979403814570278,0.00027310920090600126,0.018778563816955546,0.023949755242709096,0.020082417016866947,0.02355662851651755,0.04163131065262311,0.048568633153560255,0.03423624419939175,0.03539866761319387,0.03945713230750783,-0.00019030049126490348,0.006059206808634215,0.03331218181744544,0.023643127892491473,0.03454760566048392,0.0404090936540961,0.02622466859732651,0.03404597399959225,0.012109818358115367,0.03784970362097021,0.03954767680178264,0.014992056617141482,0.0006756450583168262,-0.0004241253040784223,0.024230264638499727,0.05194936117272214,0.0326495174635766,0.02452650152759641,0.002385640997485613,0.03584880800280533,1.0,0.0013074680611703587,0.042169466359265315,0.028025054776134293,0.0042655651296635375,-0.0008935351389774404,-0.0011671324560289984,0.0011933145619795402,0.0012538327838180039,0.000897022354324812,0.0036933674138117374,-0.0007687500927621254,-0.0009617607310309934,0.03757571308895695,0.015676211758431546,0.020360629221716293,0.010688885050568375,0.003385917651384049,0.01766774554397928,0.019536918075220726,0.032336566750390594,0.04226079982516127,0.008753105775139448,0.026322658164110585,-0.0008377670717859835,-0.0012311248594026084,0.01733910539549321,0.05554662835946966,0.04899448548098166,0.03375781404920314,0.050153256330260555,0.030669756954429146,0.027572650284512883,0.02910304344504819,0.018547828407195318,0.04486758441445087,0.01007298094185805,0.0025866687954637967,-0.0020736263837232687,-0.0008995339877693486,-0.0009333543993079958],[0.06438787793223769,0.00807929665381396,0.031169601921814883,-0.0009804633247010128,-0.010051736508256205,-0.012556349483017742,0.0009014562275526509,-0.004694007736646927,0.004583916690191548,0.029730166178605005,0.038270499221186485,0.06304337078126654,0.08869853538604788,0.05759742629061093,0.017412691227192204,0.0007516462337967293,0.027102820547894292,0.017801491107324582,0.012524704608695448,0.0023595384925020084,-0.008407573598478785,-0.007974761091987137,0.032076268078469757,0.02893456786632309,0.02244049230570755,0.03400776991366753,-0.014228932872307722,-0.0018285164944993942,0.002859291930865172,-0.002609085561819085,0.01061572766925274,-0.0015600428769197425,-0.0018341304184112442,-0.0018586601847923768,-0.001898431543944441,-0.0016143395579202426,0.0036034991200033736,0.04206316009707476,0.10739368666566058,0.05960297586612843,0.009903985112094773,-0.0013415545052512965,0.014398060804352974,0.004571289476397674,0.00651130226371128,0.02304987760491068,0.0870037420235279,0.049261510861238436,-0.013889541892275604,-0.007366217454409006,-0.0049342337522524015,-0.0013145823704129407,0.0395794961969011,0.0946340755710208,0.08800583266954823,0.07764514383281833,0.07044178884411148,0.07794176556387773,0.08236601349974769,0.04906692413050301,0.0012015281048064434,-0.007307084759020454,0.028516231486941497,-0.017920302583382074,-0.017011033136130647,-0.017607321394776002,-0.0053945995806275555,0.02713039253004797,0.03281272509528627,0.02337324264019539,0.017521962423852133,-0.040650092150067166,-0.04420981530705698,-0.04178973333843822,-0.039968633633773176,-0.041509412193350526,-0.05118965249978908,-0.044861792486756424,-0.042929803525758065,0.03229430153285269,0.0646748294866132,0.028860895271921875,0.028860896985493854,0.07155579346726505,0.08114300106037294,0.0014795844921913109,0.05746108038986232,0.0548028968716066,0.07458744562236819,null,0.013253708972376314,-0.0009812195651964744,0.00995796128863308,-0.003106188397010551,0.06187578141129075,-0.012057467952303488,0.03231055196726675,-0.0098338795532462,0.02360084938754085,-0.002112823676448651,0.03406962068706643,0.061739756828146794,0.06755825959418733,0.06748483170211748,0.06824653561410925,0.03687817267330774,0.0012764356432946936,-0.0022816005309762096,9.86307389270262e-05,-0.0009790111063697903,-0.002752417611769332,0.028860896449815734,0.020159103088057462,0.04303205979260746,0.066340694245808,0.025112123772214792,0.0391952515267158,0.028229992376020682,0.08835957858486052,0.03384921252242559,0.007287174527029832,-0.0005951182210094727,-0.0009169919362349162,0.014887639369394126,0.009426087043542189,0.07879351495095523,0.06219516333728951,0.20230471403785308,0.013118133603138243,0.0013074680611703587,1.0,0.07569670550297329,-0.007829638327487377,-0.014717827261594952,-0.004694253476421925,-0.006007643466999593,-0.005543547832600778,-0.014554883880301033,-0.0043652828719107,-0.006140463177737539,-0.002391098965132518,-0.0026611220371502353,0.02796141752420734,0.051530377248510575,0.056175574570871155,-0.008007153976121936,-0.026938656376347066,0.005164211327662717,0.011049378902966553,0.028883305485991318,0.026740688140643357,-0.025839616376313216,-0.020424301520138664,-0.004612459662026544,-0.006560226326284035,-0.0032958337949974487,0.0666639586840671,0.08069069274931549,0.03432206200629175,0.05384991984031659,0.0568563418788608,0.04813488493686252,0.05135846776464942,0.03219018450960996,0.02925505391252308,0.11492327390993347,0.08096547778296112,0.05473888943975321,-0.004827981454973425,-0.0031857953770888354],[0.7655127104106797,0.04918130763931848,0.0185702431461871,-0.0024076866374430957,0.07740534919379376,0.10265181625746482,0.03336159572030519,0.157875097842009,0.3088823909860126,0.4965331618314519,0.5843272651669327,0.7193776770006273,0.6966406308418209,0.48337507480340036,0.3133278271485144,0.0892375930073351,0.7578475133612038,0.1320965883981322,0.05204439668625075,0.06177869868551602,0.4072395420748088,0.415277309331496,0.7641085638052622,0.7584297038889455,0.6912941388484996,0.7026206730132251,0.2372593859786193,0.054863375516759794,0.09437740038787333,0.04357751839441348,0.3107204833017494,0.39100835031826736,0.03777601764522147,0.033973810963747124,0.03680319553415607,0.024128463368537117,0.09669364917040664,0.13320556060951524,0.4281881090461395,0.5918455547419057,0.6181812057630057,0.06513669100601946,0.2890399152759627,0.4062995218211305,0.31708431417795324,0.2877236678777786,0.5868006114411385,0.6538433095302254,0.2434769956500876,0.23021005027854533,0.07686477892108658,0.00720751705874719,0.6865155082479802,0.7407350072315905,0.7365808632967207,0.7557051281204077,0.7603161189098179,0.7332924615612256,0.6785847293168235,0.5814160530376965,0.5408530884297376,0.36950085174404734,0.7615651296048785,0.36756303898372145,0.4259007283722593,0.3948910872529921,0.18608391359785909,0.7577749473229817,0.7356846114897416,0.6317143838218235,0.6345988631278111,-0.06393558135454257,-0.1000024247692857,-0.19270855414460164,-0.2594621700944826,-0.3141150627546198,-0.36154906258216757,-0.3976198586497541,-0.42057960415896756,0.29600185753643604,0.7669068598845136,0.7605979643386936,0.7605979866601008,0.7996707014071801,0.8215189946777945,0.28907167337741757,0.349042563903924,0.3003595495348555,0.8038914252143017,null,0.778412460422018,-0.002415905081321142,0.5675903191926503,0.015318543433292257,0.7987124596267902,0.25360158999836085,0.6678488612994499,0.12990269930943146,0.5331079970986214,0.1902386292071484,0.4071487623934703,0.5370166424620495,0.6146156554516894,0.7297961820161699,0.6990843480584658,0.5221877986498625,0.4465182717022044,0.3883645093337846,0.2667945660138782,-0.0024033335805207475,0.20678893914046476,0.7605979792066421,0.18866508573453936,0.5982195116598895,0.7021988760013087,0.548162958427217,0.6256597524226487,0.53781937381666,0.7451703223524598,0.5522810705187874,0.19893233415354805,0.060997678354529336,0.04367877469557252,0.22165698395756633,0.4282578290393587,0.9471993950310332,0.7722508884704076,0.07699004169562014,0.31215718239054857,0.042169466359265315,0.07569670550297329,1.0,0.6172044413165061,0.30559157533881315,0.0506303270799899,0.06857613884787805,0.04770869834605218,0.22134362282072156,0.0118314856065524,0.09225925436935985,0.005535012460443168,0.00712627294076199,0.7241129012018567,0.635098046906472,0.6168642979615897,0.27661773807497486,0.5121189802454236,0.7466428578931972,0.7408652341184553,0.35063088276860643,0.3995839385529857,0.5470196544888972,0.43757223172063314,0.024591807222472794,0.03050640067134414,0.48462730304338,0.6862260902677895,0.7334928847477842,0.6607567482756244,0.6457099856313421,0.6840494071496086,0.6558263478769615,0.606954169045235,0.6206080835164941,0.6238650215162833,0.5233266671566612,0.311065786122698,0.11849708435131885,0.009581452060030138,0.008147097366385275],[0.620167962501396,0.05297840543933291,-0.03575923130981083,-0.0013951749279659074,0.061998810089624656,0.07885413874171282,0.02438536916682563,0.05875830242105196,0.20033746839658925,0.38605264226735697,0.4875846503395506,0.6247658749587849,0.5074363132142448,0.43870670415798735,0.3081263171312758,0.08851084848554872,0.6719391505249812,0.13948025559582725,0.02252553552980146,0.006229815546171509,0.34465436801979904,0.35398076737929446,0.6759837189339069,0.6594860158083279,0.6822136117658415,0.6718390259577276,0.2593171585767634,0.05074506868241344,0.114597408996907,0.03888598286384236,0.3547030894420169,0.3990990922147785,0.09773819367241454,0.06646085884892806,0.08251708937523804,0.09888324489766295,0.08097200740262267,0.1725016315050373,0.32227829553516685,0.4938125206513,0.5279064276788632,0.05344410596375795,0.20098600279503664,0.31919237965338376,0.19337168904584534,0.22483248025292465,0.49947542440445425,0.5618870707111373,0.2262205524692709,0.2259521381073554,0.08835083647976374,0.003650172560646956,0.6644205959871168,0.622683080690967,0.5889342579347558,0.5855147076490858,0.5644512288948637,0.5045118071904752,0.42217513014799757,0.40303047215379034,0.35747306448131194,0.27833847822949237,0.6955842950961965,0.39007183063421874,0.3959397787270615,0.38471295377219433,0.37054942996811996,0.6719599490174415,0.6840645946987366,0.5628995845076913,0.7009437893133529,-0.009950113997615462,-0.054632401246733145,-0.13075845360292573,-0.18833152048517218,-0.23014693327421273,-0.26691789699690815,-0.29388774791621325,-0.3087536933501774,0.23639733589224116,0.6219030553431929,0.695616360529955,0.6956164837479979,0.692307991611244,0.5991582484821089,0.3694889213963397,0.20268480852787243,0.17435676855612742,0.6910673362982238,null,0.6370565817416884,-0.001400323121631232,0.4705323479666482,0.01631105688868637,0.6865349480614363,0.35343756142739424,0.7248486410602816,0.1065847121065153,0.4844744420904185,0.12340631102246434,0.2978647319642346,0.4354899074557796,0.5266370540228053,0.5717547019008014,0.5536505780485511,0.49619437243888537,0.40318482768036484,0.3274180676694095,0.20185090600236932,-0.0013951430808089114,0.20482434474951325,0.6956165006922863,0.17168215766253897,0.5436709028497664,0.6213690233010051,0.6270513625628098,0.6518726322358166,0.5020332926508317,0.5720773000853553,0.4050917968194307,0.13260251991277883,0.02738567620632344,0.011343184440057228,0.174943256692286,0.35663317947044076,0.5473792389548788,0.4918103346443234,0.06997652908170687,0.26380089389677874,0.028025054776134293,-0.007829638327487377,0.6172044413165061,1.0,0.4544379379357701,0.11863102425915449,0.21287041169895485,0.07358333284757625,0.27385529627106703,0.009709408714803582,0.04679453890842766,0.0513174222276697,0.06085162244879894,0.650140477645618,0.4404108409277666,0.44717410945333774,0.2769507562374559,0.4901915234029912,0.7721456582503325,0.77090333594288,0.4681820746866567,0.509754783177651,0.5306017198261355,0.47764764317034025,0.028716736867088685,0.03908187136394898,0.5010958866923542,0.6089611715555086,0.6024469232736352,0.6918932755229643,0.6079507496592409,0.5544598009713452,0.4842558704662178,0.4204460478728021,0.4255388203447689,0.42291050520909224,0.3671728892114564,0.18451999011404036,0.08427088298231131,0.01546856019941676,0.012852211005065815],[0.35902661582629014,0.09504353206009894,-0.01611868744936956,-0.0006606287347833903,0.0645626190133075,0.08741121654474643,0.06491661288524991,0.04506753138411462,0.1631176876958148,0.27978656390274353,0.31381896790320407,0.3061230765283922,0.1625422437675567,0.11105179983550383,0.07409340432071979,0.02082804081423588,0.34692319662319704,0.059363530932982904,0.00589598465487564,0.003972761118350996,0.23540122309260667,0.2375888072650511,0.34832847625076846,0.3469697993777977,0.36476443971630046,0.3284944126430735,0.21559962480128692,0.003800678253081737,0.028304150964978878,0.008338557078346534,0.1324173682183926,0.22973759053422307,0.0031267915694377815,0.0016039920816594902,0.009474146650996839,0.009305360989538568,0.010114622996884651,0.017414341258792404,0.06127263961488316,0.21669227478401076,0.34434348319527014,0.01854012771904603,0.08216362640467938,0.1454587930776786,0.08155940044998622,0.05412299608584169,0.15012630242215402,0.2811641586584769,0.18649360433964537,0.20691187362956776,0.08997905255825475,0.0004028348287260175,0.2715069519905805,0.31731428504617004,0.2988532824654696,0.2791666777039252,0.24826839904175071,0.20136373081830922,0.15132074517806016,0.16858284762777098,0.16157222671221064,0.21099380642404655,0.3641148643072238,0.3799450241215914,0.26441184496317216,0.34087467918574693,0.09524176515838918,0.34689413427614807,0.34426742878382105,0.3185388793969687,0.3592125213184013,0.0025502776131941314,-0.026761263198920658,-0.06787612660178277,-0.10040494196122118,-0.12506342727593528,-0.14482564993573482,-0.1605923116865402,-0.16713572897877127,0.14322605680497386,0.35901861079051495,0.3641217157268608,0.36412172263030096,0.3418264076386199,0.28376529525532623,0.0742550501258101,0.1069627439572352,0.09707351571268699,0.33577684935970614,null,0.46557810288362445,-0.0006638448191924416,0.1945743172594535,-0.0012626772354281963,0.36119495208761965,0.16318894161736533,0.36381395854005016,0.03917279147642564,0.32296221792141605,0.0954469433753531,0.211627650721319,0.281027266765217,0.30656416061384045,0.2457754340522593,0.19240856072303453,0.1740581317895769,0.20553136853613901,0.1976164685666715,0.0975249580217158,-0.0006593167670883569,0.08222314400269157,0.36412174847123613,0.1289537953761657,0.2556245623651217,0.2662282796502532,0.26253787200623163,0.2895728484897596,0.2200271138913085,0.2612176244868255,0.1977059564903041,0.056703201169241206,0.010376542300435334,0.0014059472918486182,0.05012809439230678,0.0711554290560383,0.3138167013252571,0.3032911931648709,0.08322202016350468,0.022821735119189765,0.0042655651296635375,-0.014717827261594952,0.30559157533881315,0.4544379379357701,1.0,0.049998467419214314,0.13808206191165298,0.008958445930655746,0.16117951736018504,0.0015366575945285,0.03024103890579963,-0.00045420696782898977,0.0005078555396435306,0.31389063000018813,0.2089271341029279,0.22174874654442342,0.07339770553332932,0.3622791752638287,0.39593055065885513,0.41431086998456784,0.14540414016027295,0.1358940458538841,0.3487082445630094,0.2090788151582982,0.019204816141761533,0.05107761266596576,0.2781492508725268,0.27962794488928594,0.29088965386494914,0.29688415484386593,0.20214845923533845,0.2481749934220899,0.23351296309996883,0.21546390240291927,0.2749432537189317,0.2544515903886802,0.203925463110964,0.04568730989491815,0.01752138896673062,0.023267132999928383,0.05775799880380484],[0.05530648032113204,0.0015908932824646486,-0.004494021392573477,-0.00010055024699037805,0.00017420992448980403,-4.303490001566012e-05,0.00010474127150164489,0.011991967301998422,0.04746346693238234,0.08459354262681146,0.07406651411118702,0.04951074177780847,0.008697806217790103,0.001841078847242934,0.0035663879169150355,-9.912029467835558e-05,0.06174538132677575,0.024828624251411826,-0.00013943101116598792,-0.00022270357972326008,0.09595757583041696,0.10682289514675862,0.060935028800976516,0.058273239789124506,0.08448525660043561,0.08355195664108418,0.12259595695091755,-0.0001535556156010322,6.24522017940713e-05,-0.00020706838264692785,0.04887763835545616,0.045379555189460186,-0.0004307519910276997,-0.0002846734947677535,-0.0004354011222961535,-0.0005730912707743445,-0.000496292900351749,-0.001846714383295766,-0.008207579170904769,0.025825164020816922,0.08445807940466367,0.01491056371212058,0.031343076424397515,0.043431816533225295,0.024905959221739896,0.0018043379725834721,0.012182918897702599,0.05439745779919579,0.016617330796006646,0.04032996509712795,0.008505099142651202,-0.00031166203610818983,0.04798921396526753,0.05769622662571226,0.043243467225367246,0.04085502755598453,0.034837610397031926,0.025605232142441155,0.015374683991469195,0.015788188396977286,0.023074687191724612,0.03305927511443577,0.06971266957819101,0.046139053429204054,0.037538724296047994,0.016221857933465263,0.0012825819654818309,0.061739326621123775,0.06993544692896113,0.03975696963559722,0.11891826677863726,0.007758814608832855,0.0011086729777904903,-0.006732736355879753,-0.012467024087197338,-0.0190816961359262,-0.0263792574870592,-0.033408598525381285,-0.040505712720566744,0.019778571713033398,0.05530041890429697,0.06996077688712257,0.06996076364218735,0.058962292251801635,0.04465528437672654,-0.0006459339999416073,0.014154556237186307,0.00793005189620871,0.061025565359050016,null,0.06997836877301387,-0.00010111174183316346,0.029832490616812098,0.23440317428133503,0.06419688574829333,0.11636004786491358,0.07231000242242867,0.009789266411257923,0.06242987685790356,0.028693896525411464,0.06768715702070399,0.0848328606792344,0.07428522231285853,0.037073195990042926,0.01431108316241347,0.009405626906038309,0.020557590871162667,0.026999343225769756,0.022062809937312237,-0.00010130377521510962,0.005648568371432841,0.06996077062225475,0.00026277429763758815,0.017486211740080086,0.021368643140122517,0.08025193184640883,0.06913886119800675,0.08218560777755202,0.024222096354711693,0.007262795345708305,0.002146743084657632,-0.00022793991060375096,-0.0002312806887558767,0.011979590179709246,0.00619055543455724,0.05231524282647386,0.041047469046269124,-4.3951348123719155e-05,-0.00028875316881089077,-0.0008935351389774404,-0.004694253476421925,0.0506303270799899,0.11863102425915449,0.049998467419214314,1.0,0.39577350301304426,0.20120401410390895,0.03679365841027484,-0.00017421656883761147,-0.000552916879772904,-0.0005156985293823201,-0.0005651697655649547,0.07046279713238644,0.045400111007397284,0.030882965481098527,0.03562200561983175,0.03692731123698156,0.08185486351936164,0.08096867102579063,0.02538304756818794,0.020470647436678806,0.026798071639557264,0.01475584080940542,0.003991227362758189,0.013424783181440698,0.040817649431971824,0.02817335006632518,0.028325108442398474,0.07526084794549491,0.037768582522474774,0.0411998830214458,0.029662200928327675,0.024499882672459415,0.04749938785477606,0.03031733406914927,0.012435905220878006,-0.005802173238202707,-0.003956613777975749,-0.00039475214497036726,-0.0003803343340397863],[0.0879318221434356,0.0199517451467583,-0.009789207621794993,-0.00013120608559842082,-0.0009175938873677935,-0.0012067290379396698,0.00030296300986138016,0.02244798172917952,0.09747864522306367,0.1679532968186549,0.14491134114227164,0.11552762838785269,0.0319020593744101,0.018846043932390776,0.019271230999754675,0.0018289244714787072,0.08733462587953231,0.0130887839261591,0.00017638444892607228,-0.0003145050249365647,0.11638959792080573,0.12828229547298056,0.08815710718084603,0.08503532031556424,0.11425862296015467,0.11004436238564119,0.14635055177891512,-0.00022905201576319995,0.002365832528016382,-0.0002970429761363191,0.06605988257416061,0.04742296690064608,-0.000584821957932082,-0.00038649463539760864,-0.0005911340574606323,-0.0007780727950390607,-0.0006738051859247944,-0.002505232718017814,-0.009484451388476528,0.0429290066074849,0.20601018957224584,0.03974054007308526,0.39710978059104063,0.31305257981559537,0.13892847770507505,0.017240182365100408,0.02114862121451192,0.10670844595567718,0.09046322745154302,0.13423671514880148,0.0976466986583314,-0.0004117320693353874,0.12771599721812024,0.09175715628947989,0.08895986585804146,0.09157553146753863,0.07853567529607369,0.05892877791136424,0.03659958351760416,0.03723619212015263,0.047821578201382206,0.1341476296193675,0.09823208565894949,0.15812927289405268,0.06822158581333843,0.09572216598211411,0.019846737677354377,0.08732720498962433,0.09476359265608356,0.05627088095038838,0.15826032863626827,0.011469048983709887,0.0026714720005019637,-0.008902830339763253,-0.018311794754879502,-0.030061466201623525,-0.04176141764711818,-0.0490069235551889,-0.05606747707070257,0.03413015857311348,0.08792665211348794,0.09847011009867838,0.09847011918251396,0.12055863469575301,0.09662297962115696,0.003304772139446118,0.020559863356393326,0.012956476195747175,0.1253460860853726,null,0.10095692162344207,-0.00013226313551826065,0.05781811285568821,0.0328084550651092,0.09421189393565516,0.31992434234897593,0.09251870362488598,0.038228067440092696,0.1959451234260402,0.059697661728255795,0.11130444900638756,0.14175191096423487,0.12977070390520956,0.08766343564063185,0.05084830632759834,0.04533256299249051,0.09442080863872988,0.12402495875835604,0.08190820096822887,-0.00013225345911230748,0.05033506290960707,0.0984701289491735,-0.0007207919738036331,0.0460446632685693,0.050206742867011545,0.13245788125701313,0.21111895235579617,0.11965097604770308,0.0642106557319269,0.06599750806673026,0.01726014274428261,0.0005277870421235386,-0.0002984378276472023,0.020942603139181996,0.010536046438821273,0.06867695456627607,0.0617082340465662,0.00010264302781758759,0.0003468831226232129,-0.0011671324560289984,-0.006007643466999593,0.06857613884787805,0.21287041169895485,0.13808206191165298,0.39577350301304426,1.0,0.1448675439615941,0.059047433268976414,-0.00023571623728542145,-0.000750824291483351,-0.0007007096667969894,-0.0007679147487442821,0.09468438572729475,0.067006506390457,0.05230979185176245,0.10050667267864356,0.11747290343063434,0.12454635707644915,0.12453209119993108,0.04772558288974912,0.04509326368569107,0.07490882839461649,0.040935637816052486,0.008715523673468976,0.027946959161208745,0.055785981465814996,0.07155146984466326,0.06332299431216022,0.20932687512118733,0.054808343073893255,0.07368688429782672,0.06441769733504467,0.056285406480487986,0.09959976383166973,0.08196994855094823,0.03898717137405861,-0.005808926235007216,-0.005362750808263505,-0.0004972447759748435,-0.00038034422627476695],[0.01625226925337807,0.0028317140745688033,-0.0033842094921976255,-0.00015812428672337106,-0.00020402736171290246,-0.0002102999559056712,-7.74266076328442e-05,0.002877372340947195,0.02530977308924959,0.05208674972836192,0.04138015141196503,0.027741184776617803,0.012498913362555887,0.014635882447564856,0.0066867295141384816,0.00043927739245445973,0.02589546064275973,0.043054006790863436,2.264544185497598e-05,-9.554391827754175e-05,0.030177525109195975,0.04593338899909458,0.01735868379889118,0.010216930048717909,0.058472649671782506,0.05974910488196606,0.2189272714912847,-6.527793589678079e-05,0.0009689379017164368,-1.2868686435265548e-05,0.06832049756982606,0.06583459767349413,0.0009166874968762864,0.0009951521927014663,-7.866454480522707e-05,7.442673194524342e-05,1.9518353639345084e-05,0.0003090415917134783,-0.0013989057086034983,0.0031825904986933075,0.0724928764071325,0.011879307896909141,0.008311822179381336,0.030232973353576942,0.020966268526851378,0.0042811586287126715,0.015891671217569642,0.03533610622278951,0.0026424890964856945,0.0009913405828554484,0.000756160508892002,-0.00013710221508472908,0.030255830465771943,0.052365238197946945,0.026612456023384353,0.021990002922896688,0.018906685866908187,0.014425624440956174,0.007438548974812093,0.0071494435250042745,0.014523206289851869,0.008236472297583253,0.02850103477241276,0.0008665962277176345,0.0004062777019861845,0.0029260119815310067,0.0049207293161005975,0.025892890466791954,0.031049285176571167,0.01569801013799298,0.09472251460450168,0.006324229435875619,0.004808630514013554,0.0011015624754932367,-0.0029181821224294087,-0.00469788230358951,-0.0079085568156415,-0.011994567483985944,-0.00326959165745181,0.011027128791142295,0.01625303304843272,0.028497469654806137,0.028497464871277585,0.03201108681448581,0.025668242037287528,0.00978979266629943,0.013186942712473247,0.005176839426134152,0.03397292085987713,null,0.0008486865065688872,-0.0001580498160253482,0.06475277033127573,-8.033135826340165e-05,0.02384812318883533,0.07561660299818006,0.01786022132026369,0.0062605570995075775,0.047381920117216404,0.012306896314890146,0.06596888593330197,0.06807197304690721,0.05005662409518122,0.021700068380073073,0.007447195885276443,0.014142481399384215,0.006582147810881306,0.0015507611716934252,0.0008784036926359903,-0.0001581126695976577,0.0004089438012992345,0.02849746706769529,-0.00030285598916189214,0.011919633694957197,0.017275083801561862,0.07428011135313299,0.04888470123830408,0.04324182070902758,0.016888497425362768,0.0007295010787979503,-0.00010886431025592882,-0.000152741430556514,-9.580606889348086e-05,0.018241926342750816,0.04499495443494434,0.03664071428098132,0.023832881815068912,0.0006844400601732365,0.034134283517730034,0.0011933145619795402,-0.005543547832600778,0.04770869834605218,0.07358333284757625,0.008958445930655746,0.20120401410390895,0.1448675439615941,1.0,0.19843812208014439,0.00032531612883007,7.615060347772528e-05,0.05596343964901805,0.06932709737005817,0.041596131780634045,0.011244837932845751,0.010831510372084144,0.05663432207294161,0.06309713666660728,0.05710477054921168,0.05676522523120503,0.024291547815049462,0.022755195853050116,0.048101898749818954,0.009521658249104068,-8.359671281225283e-05,-0.00012029022957426059,0.05452760641735893,0.019343143381092966,0.02022301097269735,0.05697204795403095,0.035114079332326645,0.027505151055303483,0.01875525737102401,0.011549872258854762,0.006976911596960562,0.0054181972809576985,0.0141563955927812,-0.0015190439530292444,-0.001433070550336919,-0.00015574264199252078,-0.0001619393657384569],[0.21584794182735045,0.06394810148483629,-0.01752872347188833,-0.00038576727250693777,0.014053474579154011,0.021998356913322078,0.001774965257221968,0.11955355759146633,0.25236163231490205,0.2799018902447662,0.2599373341727756,0.22227992409598782,0.08255791717559749,0.07846003385281496,0.14545753021872956,0.13021998539100738,0.2640579615051512,0.029497665264702776,0.003671740289050688,-0.0008895919464032531,0.2878064854115508,0.28805854020496713,0.28117553010770446,0.2880993826506673,0.2566503944229468,0.24413175382712118,0.12770095746710808,-0.0006925559137200696,0.23566593362608385,0.09662899939793346,0.11192694318593555,0.1398987825627427,0.021627283339897083,0.01200297965789416,-0.00021194942500488918,0.0046615739889956246,-0.0005949126648519358,0.017712815118359197,0.017170823543056997,0.1457362328411033,0.3037492376078641,0.009657565628384424,0.06999476609010966,0.12169486342422339,0.07708313500906393,0.033857676544827,0.08352874944676837,0.20748877265721888,0.20718397964871882,0.19681599720261572,0.14422727330084703,-0.0005434722955645065,0.23801877498424595,0.23004747189232994,0.20529556740042665,0.19227199417865426,0.15968405515785525,0.1172052639418101,0.07397015657504064,0.0786350217323342,0.13882710209688828,0.15208244824757902,0.28410817969118296,0.17342714136133058,0.18991249294067675,0.11064536073160444,0.09012836515384733,0.2640292158698362,0.24389089822723656,0.1945570716793771,0.28399811571539774,-0.0035905467470358013,-0.020780785271185372,-0.05215915364140001,-0.07803652913005132,-0.09977792133349327,-0.12389132592379315,-0.14919766912106644,-0.1618249216969201,0.06336825407522458,0.21600715138987622,0.28406952163786753,0.2840694710165543,0.26255849545702864,0.20245711712154263,0.028343674577027383,0.050942506858957515,0.04488935983910635,0.25999631534401774,null,0.24825154722170079,-0.0003863607570887853,0.1356347709525199,0.030308179926988914,0.23070143210085928,0.6882463043684217,0.22867954258831463,0.05251153208605638,0.2574574817865694,0.19544790184275082,0.26819765166813303,0.26813802996958275,0.25531445489579435,0.17072677829396857,0.11243909845118616,0.12333500026138028,0.15693533796747372,0.19953589925837614,0.19368225316881746,-0.00038502784574742535,0.05888444416525892,0.28406949610779036,0.0009939427077129432,0.11473175398655498,0.13218238209649613,0.3074098922369863,0.26228820461398367,0.28303148560421915,0.1602948343304298,0.051894409568025573,0.011650337494060293,-0.0005660577614420718,-0.0008095112852631826,0.029269882633819445,0.0822178513596335,0.2151681294832671,0.21244534661374356,0.014810013083426813,0.05225872515418022,0.0012538327838180039,-0.014554883880301033,0.22134362282072156,0.27385529627106703,0.16117951736018504,0.03679365841027484,0.059047433268976414,0.19843812208014439,1.0,0.018060219949535272,0.1356064043105142,0.022954598443147727,0.038935225223808795,0.2118332720007176,0.09889173157762829,0.09187824426885165,0.2590234682200514,0.24446741516967196,0.27024692895045227,0.27042428432731735,0.09641586911872223,0.09329590870139186,0.2613015192580104,0.1951487813305052,0.04259197127025412,0.08669028002161745,0.1675138745388135,0.15870355154431937,0.1482908276559974,0.37372510648857565,0.1320293214226575,0.16616876615010215,0.1414802016062718,0.12105719522340931,0.18685195018066802,0.16488869082732763,0.10422546314354196,-0.016085809619033706,-0.01322214172934835,0.011459544034933399,0.03482232725965313],[-0.0025791968130197567,0.0022552765906534316,-0.0029325971190741302,-9.246175349088535e-05,-0.00035762386906995153,-0.00044661853429455725,-8.712777306244116e-05,-0.00017483151508409934,-0.0003402256349578829,-0.000173855016899197,0.0025422627812834563,0.0019944793850119155,-0.0021896891791001335,-0.00011529332589490775,0.011987111391308413,0.009736640393048758,0.0029616589126490608,-0.0004565175431107322,-0.0001404909824443673,-0.00010787090811525697,4.648466796535249e-05,2.5143638608669966e-05,0.0038153465632921983,0.004163500798190898,0.001046728005881682,0.0009295289620951429,-0.0004892264491495082,-7.048043767878535e-05,0.0002879803851125626,-9.134862435670317e-05,-0.0010137392566755758,0.0016158262468180392,-0.00019260316837926053,-0.00012728673974000883,-0.0001946819438930665,-0.00025624766889463345,-0.0002219080074592869,-0.0007964474750305443,-0.0028685019284023974,0.00036318042456747515,0.0040991425190930455,-9.82109480124754e-05,-1.5524974353525498e-05,-0.00024334382936009826,-0.00029946955899056495,-0.0014524116716502292,-0.003488196880271918,0.0009542085544194087,0.012813195041562447,-0.0003335624294688292,-0.0002596486375328212,-0.0001503848076616257,0.0012232351261388466,0.0024410506581630893,0.003589536498916071,-0.0008001403203254343,-0.002131614453658571,-0.002807924901054563,-0.002891885892375533,-0.002311357926289537,0.000446318786091821,0.000273474137516276,0.003140130748149104,0.001876736991093121,-0.0006641255433348746,0.002875890549545211,-0.0010122892622137537,0.002960333882860141,0.0026926831707520145,-2.4872969191238368e-05,0.002013904437660839,-0.0047413412597230135,-0.007112303784831802,-0.009037300578015807,-0.011340430637151884,-0.009519744430123406,-0.018415162673213296,-0.01151744338610368,-0.010872124901548614,-0.004719321392804777,0.0004535919185745687,0.003139038968827481,0.0031390378166092484,0.0007384097130057279,-0.0010475444739841968,-0.001254257195350858,-0.004625118278860766,-0.0044892355309975995,0.0008188869927673243,null,0.004803092085363784,-9.244987108880255e-05,0.00422607697616539,-0.0002924248928311855,0.00018280831951816888,0.02693304043824698,0.0015710920300857304,-0.00039062676967610566,0.002192257906486154,-0.0002588098998899317,-0.000387990025522876,0.0022481243646415056,0.0031299768677978683,2.46815483293878e-05,-0.0004203876825708423,0.0005119028284805598,4.1881824770530905e-05,0.00011983967337061781,-2.8113479018282055e-05,-9.229508567773266e-05,0.0005146014160756169,0.003139038255958914,0.001260612305500756,0.0007235596289780056,0.0012988103494547488,0.002143989744473808,0.008356558072581937,0.00433889382625146,-0.0013018631196755586,-0.0017856537823507804,-0.0003357382059171239,-0.00019615460670569773,-0.00010176711843033919,-0.0006061576536923357,0.0015906565552922653,0.013227419365566468,0.010597518545404711,-0.0005118068414735487,-0.0008595719474129883,0.000897022354324812,-0.0043652828719107,0.0118314856065524,0.009709408714803582,0.0015366575945285,-0.00017421656883761147,-0.00023571623728542145,0.00032531612883007,0.018060219949535272,1.0,0.3146204929179314,-0.00022951393652458207,-0.00025153133031305587,0.00046616837559488694,-0.0034285698860034887,-0.003674400167859806,0.002420358340399358,0.0016531676611625293,-0.0017761433354843172,-0.0023594779955128462,0.0005634247172081663,3.9781044245917786e-05,0.0011753106079250408,0.002785164073136973,-0.00013304566714645,-0.0002192792275670014,-0.0004935284185228958,0.0018341154312289454,0.001041018384102287,0.007773908851517144,0.0001503405516404204,-0.0006818652231173835,-0.0009474509042028316,-0.001347984607171475,-0.0005219023131530547,-0.0012820076322477023,-0.0010764722805477406,-0.0033883488251253866,-0.0017717450674410698,-0.0001799803792938038,-0.00017399068223207658],[0.055170740453356515,0.0031692927744343537,-0.0018511139521217184,-0.000130010044019055,0.0005438664678852522,0.0008895386035394615,-0.00027526855148905636,-9.506805933015318e-05,0.008333186904229701,0.04185132312236592,0.06948451653577072,0.06340204134839388,0.018137287722277896,0.014980889066083556,0.05405834312226358,0.06600967306222573,0.06232393003850567,-0.000261455519120616,-0.0004039834820894588,-0.0003342884386177357,0.05111492534432025,0.04998723617423094,0.06626942627317807,0.06992846173926397,0.05379201641761685,0.03839353332469581,0.044979567979000615,-0.00022253953455206231,0.012536176572402488,0.0012559912724282877,0.009040142630015064,0.017697482660160902,-0.0006107199359793506,-0.0004036099218243149,-0.0006173114663750934,-0.0008125284788706571,-0.0006922129532536341,-0.0022563857193231385,-0.0010786872526128638,0.06362367473293745,0.04660974895499185,0.001018484070678656,0.012203622199868935,0.015230356636722411,0.00828317284568407,-0.0026330929765933223,0.0014299850618987133,0.05731083448524701,0.0916801097748418,0.04559374536463575,0.022836024856058425,-0.00047404699700252497,0.05252426303980149,0.0643953161257018,0.04964140070165099,0.04587852044737326,0.03749455514367656,0.025057193172128386,0.013464651562077627,0.015926060931375337,0.029115870771824894,0.10095110581055852,0.06482169849936813,0.060457657829646176,0.048322251026346116,0.0657039786250339,0.0018764551114862557,0.06231668000484758,0.04847690827980442,0.05964500744730005,0.03946953909030634,-0.007029418777343324,-0.013104895273594043,-0.021507622862074947,-0.029441544511451034,-0.03680053896001608,-0.0434624948454857,-0.048397696296639,-0.05191513684421567,0.012403144909274685,0.05835066662779964,0.0648127945884569,0.06481278155931006,0.06592379950058988,0.05463960928183128,-0.0029169107805623166,0.0036247375648512086,0.013551281914333978,0.0630532600159661,null,0.07213459695227044,-0.00012971434660176884,0.02599509922424099,-0.00041139502755217734,0.053063076447462255,0.10537374320629046,0.04173766487737801,0.0027859236654762523,0.06548697910775614,0.006954153636058084,0.016519889926905475,0.045901835773571084,0.053903125783759206,0.04298565243695628,0.029019270618686928,0.04073496555131828,0.08774997996630263,0.09389899895238588,0.07985574063737556,-0.00012778193429977184,0.02090812866158268,0.064812788192983,-0.00043119488531178783,0.0398702376512994,0.04560839735496687,0.04401414635664152,0.043706388000824506,0.08206419970853547,0.047748585247605765,0.009923684226341663,0.0038863672344358864,6.142751075061892e-05,0.00019853905779263644,-0.0002100714920422528,0.006382376491051233,0.10245411455868084,0.1098959785974254,-0.0006663092145282257,-0.0004876333473337569,0.0036933674138117374,-0.006140463177737539,0.09225925436935985,0.04679453890842766,0.03024103890579963,-0.000552916879772904,-0.000750824291483351,7.615060347772528e-05,0.1356064043105142,0.3146204929179314,1.0,-0.0007280862915222037,-0.0007979177398266901,0.038878358294808665,0.012755127532369962,0.022185998042041098,0.07989392897764519,0.07594582058823658,0.05680708013885673,0.0499322034036996,0.016857987249474946,0.013192470112400429,0.12002801910339493,0.05702857055357687,0.003083092910131266,0.0035808195142724435,0.06931690092328198,0.049692535375316545,0.053047739354543065,0.07633291839357662,0.018600235564297178,0.03425812830348127,0.048254627764352825,0.03562684018058223,0.02603312573833454,0.08087498728264297,0.054760391645886544,-0.006588756380621934,-0.005616201220601036,-0.00016569688402080985,0.005058333180810523],[0.00034110586401042426,-0.0013720558602902508,-0.005497182013393864,-8.680274578330093e-05,-0.0010903089811272932,-0.0013638613336046912,-0.00025770122920244434,-0.0005173424924131802,-0.0011147621118761414,-0.001479156337944803,0.00997770932542682,0.02820720948446708,0.0257123480197358,0.03530207893292145,0.018213388694861644,0.0007327227059352337,0.024917391782797522,-0.0006852243985710325,-0.00038889033345718604,-0.00030658079114681173,-0.00036434716763320175,-0.0004372163514830414,0.03175243856451757,0.03363067893534318,0.008014395092584366,0.015625508195000384,-0.002186855588018702,-0.00020514998014844473,0.0005741113693508109,0.0006720675337668973,-0.0004489889647492373,0.0003931861404335197,-0.0004370633626211892,-0.0003490597993660347,-0.0005564016694149355,-0.000677877730370906,-0.0006210464134642404,-0.0016449782423706503,0.03617702801530107,0.0035071555220386203,0.03598300312293765,-0.00029114676735814057,0.0004378746077903493,-0.0020601470664925424,-0.0017531894843792798,-0.0032310934920697495,0.0022851457403690227,0.0293877373813991,0.051340804415215595,0.0015864198727812016,0.0038638021026794955,-0.00044507789449230905,0.053254325935871,0.017204677938188244,0.012006954231376632,0.0054126216158476926,0.006014167748043853,0.004792118537311507,0.00587984032818838,-0.004811061331483756,0.000942213099480619,0.002733188780336614,0.02592682131269173,0.004764531335372613,0.0008575092012833848,0.004643751270386796,-0.003694759459995619,0.02491259096968619,0.017534189274494003,-0.0006847121563382977,0.01600235557353241,-0.017560163098137335,-0.01959262164340295,-0.029311644314988797,-0.03873088763496026,-0.04129630196623745,-0.045593392185858485,-0.05276693995531186,-0.050058810212957675,-0.0006845264965176462,0.00031746436705962195,0.0259219751452355,0.025921968920297793,0.028374209437703884,0.006768192825936732,0.012182535338088737,0.02260520773905432,0.01750338818056263,0.0304570990400628,null,0.005730455903030076,-8.717075365522602e-05,0.006571470098415076,-0.00027568887464262954,0.005490854606993593,0.23432430615965089,-0.007832271223119453,-0.0005201763552200415,0.009139132994740016,-0.0008164398456608893,-0.0015025733799626784,-0.00023492343480717936,0.007518508374644556,0.013870881392605908,0.031879265398313796,0.05899565109995545,0.0278131827382053,0.021641433429272588,0.029391379473934724,-8.694590406325797e-05,0.0019485006794867097,0.02592197180312416,-0.0005476755297295519,0.011916198406481447,0.011308273959038167,0.024503291417594865,0.12162353052326379,0.016207716917766964,0.007350835637790069,0.03619277452474326,0.008817639412612668,-5.480574426807592e-05,-0.0002931755250619631,0.003342355254452555,0.004519922505340693,0.006391599757653394,-0.0006467378035975383,0.00038686275280842733,0.0011833468223912845,-0.0007687500927621254,-0.002391098965132518,0.005535012460443168,0.0513174222276697,-0.00045420696782898977,-0.0005156985293823201,-0.0007007096667969894,0.05596343964901805,0.022954598443147727,-0.00022951393652458207,-0.0007280862915222037,1.0,0.8926495056989172,0.01323163285677362,-0.0027840582633927064,-0.0059447298819459825,-0.0028348857725629135,-0.002986716828079886,0.01836011504501503,0.01693468552443959,0.010838059096432463,0.010990597466223705,-0.0021600518827441075,-0.0010158954999841714,-0.0005035311165123902,-0.0007627927827257701,-0.0035609565439381576,0.015578489326249367,0.013112052309275472,0.10621738279145514,0.015373694272281855,0.014722769479686804,0.005819956319343047,-0.00022954569903841586,-0.004651728531455729,-0.0024432404598727104,-0.0017415566879467592,-0.008858944662764738,-0.00489600815233317,-0.0005386696277185122,-0.0006275320259236534],[-0.00037163650640564426,-0.0002501021705292791,-0.006212972248352146,-0.00010861840329950689,-0.0011943551660831336,-0.001494110319166012,-0.0002824177540783199,-0.0005669616138378242,-0.0012210490421254772,-0.001473121757865146,0.008704022954626063,0.025835883610592535,0.032604131458226125,0.04646239959265114,0.02651517648716131,0.015605676407011663,0.032744062645180635,-0.0009261266472518314,-0.0003131883055720845,-0.0003341724810575115,0.0007124437985657425,0.0006982675566549512,0.04049009262176973,0.04213476190547626,0.013799841525631884,0.02383258553757096,0.011494232945911176,-0.00022528059372753075,0.05053935076258769,0.11678229521120256,-0.001204839518935128,-0.001320625914487904,-0.00015178822099498946,-0.00031632446350541134,-0.0005600016459046319,-0.0005530774080900077,-0.0005821122630703643,-0.0013366604721816696,0.05450808093093882,0.0021819562719590205,0.03245044560622327,-0.0003190712471648064,0.001736094275633738,0.00045218791005872174,-0.00047308723679609073,-0.0032598606145961702,0.004222968134203033,0.03621185707598912,0.03809191299182713,0.0011248397337827278,0.0022227863357861177,-0.00048775703165630227,0.061314514238682144,0.020180072406800042,0.012608184236970152,0.004282421309830596,0.004630782761794876,0.003700831170091721,0.005355421782363382,-0.005913150202009792,7.325604006010338e-05,0.000998026532965766,0.03398605772312599,0.005033938496063564,0.0021542156842538954,0.007394198460699567,-0.0019798330968581086,0.0327384796394462,0.026327422400128458,0.0021484065758622436,0.024029653511018143,-0.01759350446635772,-0.019993579405480164,-0.031043068656021286,-0.04115092728772232,-0.04485371436020866,-0.05081337850784363,-0.05891552922255179,-0.0558759347466804,0.0003390341126390323,-0.0003976934643990899,0.033980187851652494,0.03398018008151007,0.03481600769251539,0.0069759043998034245,0.014134325945367454,0.019132497335707176,0.01736869049152292,0.03704599677744465,null,0.002810643229120031,-0.00010899870253724382,0.009301391735017008,-0.0003449066099514278,0.006577039297194034,0.27981439691385607,-0.0048042400941219095,-0.0005734616897470303,0.010846392875431429,-0.0008933640461544743,-0.0014881317705437058,-3.4003746722175216e-05,0.006641803301167635,0.013936956502123957,0.039422716818970215,0.06844851161031752,0.027432890153930894,0.01750805747529338,0.025268620992153948,-0.00010890368197585784,0.0016972857071134776,0.03398018376528719,-0.0007284252943664209,0.015591670730201651,0.01619038969553142,0.018387859963749767,0.13325070875390888,0.02403511823439451,0.009188349282972111,0.04071360577236762,0.008890758142783296,-0.00024479829910471925,-0.00032711509505247186,0.004152459464064224,0.003754225106822523,0.006952833232724143,-0.0006092473043469733,0.0015226066030984034,0.0011102879232670947,-0.0009617607310309934,-0.0026611220371502353,0.00712627294076199,0.06085162244879894,0.0005078555396435306,-0.0005651697655649547,-0.0007679147487442821,0.06932709737005817,0.038935225223808795,-0.00025153133031305587,-0.0007979177398266901,0.8926495056989172,1.0,0.021210930947098024,-0.003895650656614921,-0.007041839760345521,-0.00324646853995763,-0.003382670990108716,0.02041536542022904,0.018716536152566937,0.01562852767537324,0.015248943641578779,-0.0025681852831708303,-0.00014634137494942798,-0.0005504393385535208,-0.0008331065829048214,-0.003189367236378281,0.023930888684401415,0.020654430244566677,0.12319567456756168,0.019532767900172072,0.012764421989501704,0.005116144277512787,-0.0017802014775866314,-0.0066441306410125025,-0.004160675282669782,-0.003340442875306337,-0.01010775330719429,-0.005461368368827614,-0.0005903444929506696,-0.0006877315094382737],[0.7796812731842799,0.08223376256746592,-0.027791308068107933,-0.0017442112604932063,0.031036400443489116,0.04679570746725083,0.0329296192890979,0.09646897260871876,0.22498884692724402,0.3667861674850535,0.4596385139804705,0.6924216747790184,0.6934441043410549,0.5954624401457803,0.3849176831927605,0.08219171994540776,0.9029197260373737,0.37090035328683707,0.15017516409034695,0.1431277619972501,0.39530529043902174,0.40447294307691695,0.8663018333566007,0.8190679840625925,0.918320973778592,0.9692947812508192,0.19363745681648878,0.05701424356201586,0.1587146317726414,0.04577872022436263,0.22892971744363044,0.2505112286364325,0.12129021729477482,0.10893779775098289,0.13548481022278505,0.15599394177029058,0.1546109889775086,0.2570129469585075,0.49034586315165296,0.6185734349723658,0.486499160772671,0.06202353664653201,0.3265533099662021,0.36819129414429597,0.25482240627587904,0.30301247097367306,0.6450973934196718,0.6521969523821324,0.1274292121249106,0.14522750267867357,0.0699938523981293,0.09494679260322013,0.7365062642843626,0.6857736266704404,0.6520517828392036,0.6829205691095565,0.7017230126350549,0.6782055994251456,0.6295993074122282,0.639341907064408,0.41543939279151987,0.27101622474077997,0.9018265685978446,0.2701934830647847,0.3171209972310805,0.26585717643453627,0.4071957559041519,0.9027601407255258,0.9744996814232438,0.7769823327065549,0.9211246977397072,0.05593551100189644,-0.001988627763113545,-0.08352172400081836,-0.1418616146954778,-0.18208118264951612,-0.21439945048191264,-0.23915136510116605,-0.2524604274976102,0.3257195900338872,0.7815401542544359,0.90183375527628,0.9018337571300653,0.7866612345849451,0.7606055033855987,0.44939493312021184,0.2155533624280221,0.1849396938785698,0.7915133715998428,null,0.42386751455085914,-0.0017573967390720118,0.43482260756867996,0.02103203955921288,0.8497665397942289,0.31912126003241176,0.7974206185442556,0.18940518943036694,0.42189249496643383,0.12766138657952472,0.28870170957110813,0.39279650650000447,0.5383170316139501,0.7175670602473447,0.7231977700520581,0.5523167996549174,0.3777008528845469,0.25626983763858735,0.12676486053080466,-0.001746657353394586,0.2024152141680505,0.9018337508732486,0.15202509092092253,0.6583965693100751,0.5769624855857729,0.6445184905889606,0.6690708410774369,0.6667109412441898,0.7022673733090533,0.4020060231725644,0.12470890406944682,0.01296209743109763,0.010552200089045815,0.24208485745783045,0.3446107395977006,0.6716743799294613,0.5367024770818477,0.05928666394808996,0.25077846238675017,0.03757571308895695,0.02796141752420734,0.7241129012018567,0.650140477645618,0.31389063000018813,0.07046279713238644,0.09468438572729475,0.041596131780634045,0.2118332720007176,0.00046616837559488694,0.038878358294808665,0.01323163285677362,0.021210930947098024,1.0,0.555742852914505,0.5496331983508612,0.2203456425093106,0.40054974602303256,0.7244338990199287,0.7158964343888564,0.4572752658758994,0.5378979837984966,0.37934152464843296,0.3336817409814864,0.016208332872940354,0.01692475519736726,0.5093344982454568,0.6505966948977239,0.6740854169358397,0.6882210196793005,0.7098923221007504,0.7190971147648224,0.6533238552997229,0.6028425356377336,0.5360438958270123,0.49783210417194235,0.38822366968703725,0.3304501982451013,0.16207696704230973,0.011234436589687063,0.02069786469046321],[0.6837257444303756,0.06655959334653583,0.010375822347416647,-0.002914306788825437,-0.0011566793003954326,0.0044969750668757075,0.023157477322059503,0.05920170943277069,0.14239004414256207,0.1858699205520512,0.21339466808372534,0.5303701666114472,0.7310871369301937,0.5137668184689478,0.12833787662386353,0.0922475423282923,0.6451700324475335,0.07735070187547026,0.04556364750554081,0.017266695281871382,0.1447542381144858,0.1438155078941067,0.6457446920642244,0.6339445473865505,0.504029937453666,0.5682466573684238,0.08793245920503553,0.010268098269470364,0.0399887060688119,0.030400735096428027,0.09332337323686699,0.11840738869229267,-0.0010847316667314977,-0.003625502085031262,0.017137960586477843,0.015430590111541933,0.020346645897051884,0.11145250444270068,0.6499866445741938,0.46470025185555447,0.34926361850485216,0.005091985361842537,0.1271842241466221,0.27722840657007025,0.1914958448486337,0.21020550353197479,0.5608543819960358,0.5410072772330714,0.06751245328505487,0.08389991678600164,0.03843157689719575,0.002754399130051935,0.5432548946816205,0.5632117758838913,0.5472924388020406,0.6280091257719365,0.6877921328296743,0.7412742573383151,0.7778919354961011,0.6627523171304409,0.3064819643066797,0.14866016956238123,0.618045245353561,0.20862836862130396,0.23954501240194825,0.13849180894631907,0.360684462757994,0.6451310834061275,0.5902493535781341,0.4653274344312768,0.46953538668123623,-0.12177158208556652,-0.1526888809841459,-0.22507738626058743,-0.2709387232195785,-0.2953236093985899,-0.3108700327810372,-0.32237544604466883,-0.32973775538184613,0.2089262037013853,0.6840591286908907,0.6180352389955558,0.6180351591930207,0.6425262432172982,0.756440084257246,0.5838939352503085,0.26586613406068055,0.23986889091256208,0.6581356733395429,null,0.3406132667384321,-0.0029182438234518792,0.26282618143724223,8.39892394941953e-05,0.6755037520254239,0.10555239048007826,0.4052996950824045,0.11422246787814333,0.1992340466634301,0.07786339841367733,0.16581532766660897,0.1964604574896245,0.38619169924662383,0.7079159661494386,0.6747506682553234,0.31340436419870776,0.1547956083019003,0.13020980161951295,0.12076264925386727,-0.0029066163634803533,0.13298030726988583,0.6180352030334565,0.09002424038279856,0.47607184539139286,0.5189737465888199,0.3117355995957504,0.4180760441952108,0.4662368318961186,0.6621421829064981,0.4303958415357104,0.1127244912165247,0.017124129482112307,0.00672708430187572,0.07247760709244151,0.0818714841066831,0.6288069959267589,0.21872476447324402,0.035846124314844234,0.06934457274596281,0.015676211758431546,0.051530377248510575,0.635098046906472,0.4404108409277666,0.2089271341029279,0.045400111007397284,0.067006506390457,0.011244837932845751,0.09889173157762829,-0.0034285698860034887,0.012755127532369962,-0.0027840582633927064,-0.003895650656614921,0.555742852914505,1.0,0.9395388853757918,0.133832385969422,0.2632187969284563,0.7628712091146104,0.7468193958926777,0.48210182015002656,0.5876444171389344,0.1971602225666698,0.1752186149685273,0.0007271523095447521,0.003542582506445408,0.5039995363113435,0.482195153544188,0.5487234090849189,0.39960152665165544,0.41989781312409513,0.6588987574682599,0.6831031663244603,0.672620228577642,0.6838182301391503,0.5197763925021901,0.2836076362950766,0.6574269213369671,0.3706878462531363,0.001119297792597225,0.01858452198971797],[0.6855142500533465,0.09065660836536421,0.14888669378631111,-0.0028388303249379737,0.004345339559941599,0.011673071342914012,0.03499369081051128,0.06382977682132276,0.151549651223798,0.20361212102971862,0.23066810711896896,0.5318809079973402,0.7128702445472536,0.5041759136865732,0.13829502297595694,0.10159363447253887,0.6350833973654832,0.0851638394181726,0.043971051486137544,0.01693675678928259,0.1657904372135295,0.16450602238082823,0.6426472400143677,0.6316016240792408,0.5108489132133606,0.5692640645472805,0.09417015882782791,0.009748600451006145,0.037503051875931864,0.028269377182243743,0.0987793090853567,0.13189864285077155,-0.003196775743436632,-0.004723585461776299,0.005042778370694208,0.004061377296974727,0.008467136083226124,0.10058447225070809,0.6350985445799852,0.4572164881689771,0.3716470030492347,0.004912542208451055,0.12775540383036088,0.2656537186064893,0.18261283189306654,0.19213321641824202,0.5484415923052403,0.5454263200165258,0.07355427277432869,0.09558095874635227,0.04095055192560058,0.00564776039816926,0.5324906055321502,0.582325390613778,0.5611579543450356,0.6361025603244507,0.6860993381348812,0.7262384003078027,0.7519576872411122,0.6341156829577194,0.28063478199431224,0.16873625077694485,0.6183774140742355,0.21420443433262118,0.26756723438350793,0.1730636648425282,0.34513899763889694,0.6350643240926462,0.5833555337928604,0.47364342375930085,0.47368609906872916,-0.13374293710287624,-0.1749292035464649,-0.25972602672299744,-0.3173289478157476,-0.33759660771462363,-0.343515769552705,-0.34931073520445793,-0.3557817630663977,0.220548437786716,0.6859024935824949,0.6183795608811276,0.6183794765282267,0.6437545048979352,0.7472713827217144,0.5270579354088697,0.2874667957132242,0.2571976549390736,0.6571578319749384,null,0.39921369500142395,-0.002843639351429184,0.2380099918271074,0.0008377704562838831,0.6719518238055102,0.10387110769616814,0.41519208095176247,0.10101551306181307,0.2219961332031505,0.08130236625346737,0.17856551217580044,0.21633553388348184,0.39244446560704077,0.6924974507402866,0.6636552450380379,0.32398178611123035,0.16885643629961167,0.1467510661167913,0.1371951081112231,-0.0028334870862764296,0.1332689839877745,0.6183795235176227,0.1009913167572595,0.47958846272427436,0.5133641637947366,0.3087529199245894,0.42483501791569117,0.453271381831267,0.6587744261161825,0.4459365477854355,0.12003323445535607,0.016595798384275186,0.006334416924207034,0.0742294333441888,0.07322316316286229,0.6207520549811358,0.23615613449253497,0.037132235056368396,0.06372774293204109,0.020360629221716293,0.056175574570871155,0.6168642979615897,0.44717410945333774,0.22174874654442342,0.030882965481098527,0.05230979185176245,0.010831510372084144,0.09187824426885165,-0.003674400167859806,0.022185998042041098,-0.0059447298819459825,-0.007041839760345521,0.5496331983508612,0.9395388853757918,1.0,0.1515148493834288,0.28336366442347244,0.7406342380765816,0.7405193073184395,0.5333823258404474,0.6149843058792795,0.23810043675098772,0.17718121914558144,0.00392422132697967,0.007409756893307254,0.47611722343687085,0.4745513841479134,0.5367767931105644,0.40708579666203837,0.40514269307586154,0.6400986536485741,0.6696285653065905,0.6675096833502958,0.6855034221233601,0.5355078962020022,0.30809180771413314,0.6166943655543113,0.3320682392996585,0.0022854530679992987,0.027145477289520648],[0.2714174581882418,0.031040263697037385,-0.03311982563076717,-0.00016155687384389127,0.014472355166305706,0.024207417901116347,-0.00021440274242517338,0.0320468120771419,0.13342203451948983,0.25468228076952026,0.2778915463467387,0.2418754109221571,0.08625907610371902,0.06496719957599843,0.12026450143131887,0.01795685361060392,0.2551981287289841,0.008572921724352757,0.004489778157994998,-0.0005704655304595061,0.3125134671907074,0.31648517986696345,0.24594384955691234,0.2583085717685163,0.29792530999972033,0.20876719888174103,0.18712950296006117,0.09796885590887071,0.012341022082546624,0.005308960747638531,0.15569337681435974,0.19497328341307116,0.05350000611087554,0.009781813020559822,0.0036472971026071093,0.008262838210454935,0.0026515815520185594,0.008994361650218923,0.058370691407319805,0.17695713619646164,0.23203979215616177,0.00643238467783861,0.06576610971246656,0.12636917030799,0.08761843683372669,0.09446991439208287,0.10458814638511724,0.21939216855079072,0.12604118274931692,0.11771848519333174,0.05315953679905179,-0.0005706557244761406,0.17618560165346772,0.26075310964921083,0.25344948289255664,0.2384245797604986,0.20312409228566394,0.14562960787195295,0.09067429748468314,0.12528459650566542,0.1647314833525708,0.2343007995865624,0.27375828351367804,0.18890865411994445,0.22925104908839128,0.23250082473158204,0.12795768343673586,0.25518708699558657,0.22909079778104469,0.3327079969100887,0.2178505864406446,0.014145287434687317,0.0036854950169823413,-0.013419633001475539,-0.03120584250958843,-0.045819993628439575,-0.05972561379841597,-0.07144559801221528,-0.0783720231739701,0.04476381434174866,0.27143399536399443,0.273752713767727,0.2737526776416021,0.26239210185950107,0.2259781404567307,0.0513848656566169,0.02953113570620006,0.0183755176318037,0.2421889636614858,null,0.2677360290564165,-0.00016290238243278228,0.4108272563338339,0.0007876385592251854,0.2599126161522659,0.13586578619162715,0.18886300122415106,0.07753592426973503,0.23839133054946077,0.03993507618632055,0.1835278199020201,0.25118734886396127,0.25718460687889394,0.17381431987139082,0.11843317731664352,0.12285089766466305,0.18052026713690147,0.2139421741622801,0.22163227286385753,-0.0001573575288473123,0.16366499775439278,0.2737526969784967,0.11770872619639461,0.16323234834162825,0.17407508773962013,0.17038891932240668,0.17475043023623954,0.21206684622293437,0.19332177607515383,0.15934926844649844,0.05061458770617558,0.0058351074907762295,0.0010053826098169044,0.033306713346357514,0.17808827928795423,0.26691394814308195,0.2817233405612701,0.02445454589321045,0.10183548939911262,0.010688885050568375,-0.008007153976121936,0.27661773807497486,0.2769507562374559,0.07339770553332932,0.03562200561983175,0.10050667267864356,0.05663432207294161,0.2590234682200514,0.002420358340399358,0.07989392897764519,-0.0028348857725629135,-0.00324646853995763,0.2203456425093106,0.133832385969422,0.1515148493834288,1.0,0.5026575648461551,0.3745931295527501,0.35255277572724525,0.10228929514798377,0.12757953906869932,0.4207473191660207,0.2953259147001546,0.02516807349802526,0.007253712653071427,0.4542913411436743,0.22142640855550033,0.1840583975599603,0.20368064309544712,0.13709356213889273,0.1880046095379542,0.1683716238237568,0.13833807368271678,0.17932685686126235,0.21297230267557307,0.24260861828028735,0.01639152521013481,-0.007687703777016814,0.023283731217190778,0.004730082364322146],[0.5397899419784379,0.07139541673223701,-0.036160172669017936,-0.0007402446498421772,0.06566720147228036,0.10247867636846211,-0.0010367693737273972,0.03279201941623625,0.1623701086093337,0.37258546990269503,0.5215578948947788,0.5038911709662454,0.19084556331299898,0.11029096534905466,0.11188739168563515,0.02117515154518414,0.5066411856267505,0.014044344746272697,0.003496850700579109,-0.0018463499305032807,0.37512967642464506,0.376435224052997,0.493701490117245,0.5098572581536129,0.48107266852900793,0.38268915930808206,0.28286122178479767,0.04510885378941036,0.025996983899432984,0.0014897944470277202,0.1841893109268673,0.33014597347533436,0.030538304044707556,0.005838830142955721,0.0017021012937073554,0.00928963351808873,0.012885246189584998,0.010135396745268147,0.09990392934112959,0.33753135032876147,0.4788017337697848,0.03429873527360701,0.14343679503146284,0.22942231576153613,0.13946895802426942,0.1749351350630165,0.22954989748001742,0.40836493083036396,0.261308142344926,0.20995660342720407,0.11556229560080053,-0.0018402949135510104,0.3421232444714149,0.531331365525966,0.50209626222964,0.44083124145557795,0.3628727835124918,0.26737455409398736,0.1899296713351422,0.23844534311416285,0.28835817927473345,0.39316092567235456,0.5085131090905888,0.3833226616891796,0.4081721251060405,0.4055747768400928,0.19796218611114758,0.5066625019227163,0.4567519379000215,0.49687566173719605,0.39382199050321953,0.006198088003414381,-0.021038530836843438,-0.07170892900343895,-0.11820820099395422,-0.1561824178849221,-0.19153556539889374,-0.2195321941780292,-0.23817631239726353,0.12401044735781702,0.5399542731551616,0.508554138855064,0.5085540687581074,0.4714944085324714,0.41020961761811353,0.10733497637008718,0.08006605292596854,0.0833979244848663,0.45530258377635696,null,0.5136334512933317,-0.000741751471017501,0.4038254994859019,0.01106130346507296,0.5093950518511844,0.20209085865616014,0.3888729920069241,0.08179951347267664,0.4354492124998957,0.07745127940615446,0.28186372433384527,0.4777399306257812,0.545484817927222,0.35623717037871266,0.2257542492949084,0.21145926100442758,0.3090488318487778,0.31501295777894917,0.217307929228286,-0.0007345144898112657,0.16718756091499012,0.508554105345169,0.106651513555807,0.31711904276925,0.34660588232049083,0.33087231654336463,0.3289006304330742,0.3616112397604066,0.40512064703346695,0.2669866744862379,0.11916909086578491,0.04088621466821335,0.010278517565884585,0.04621432408588193,0.20621320871919938,0.5148361105446218,0.5368730114395651,0.03633951307047268,0.1091583177922834,0.003385917651384049,-0.026938656376347066,0.5121189802454236,0.4901915234029912,0.3622791752638287,0.03692731123698156,0.11747290343063434,0.06309713666660728,0.24446741516967196,0.0016531676611625293,0.07594582058823658,-0.002986716828079886,-0.003382670990108716,0.40054974602303256,0.2632187969284563,0.28336366442347244,0.5026575648461551,1.0,0.6063447554087616,0.5923631145394057,0.1901604167450162,0.18478389244168222,0.7482073770124824,0.5928401017753864,0.03390566432754505,0.04648153414263997,0.4628453262381848,0.398455854961963,0.37751204716684483,0.3629257899817232,0.24480821443864628,0.35583088837268223,0.3381508178724811,0.30824295639273575,0.3007524192973753,0.4367495362467869,0.5332697177508793,0.039522868836447934,-0.012720413563359245,0.027409458126647544,0.06138085231843908],[0.8152236171137538,0.08409835244203921,-0.0595573656642772,-0.002184799621826629,0.039947819961946254,0.06939476144736105,0.01964914320022713,0.07882066600889445,0.2239662913543033,0.39290682790103876,0.4987208834709657,0.7270970632544456,0.6829697731788696,0.5025707515145507,0.22770384075602745,0.10511521224841183,0.8141198109032399,0.10321674033083095,0.04015914538741862,0.010639870274642667,0.3596125469687799,0.3612982056945737,0.8100546557449652,0.8025324752425106,0.7337604060621458,0.725474474784535,0.26747662078935147,0.04503632422875543,0.08860369232826812,0.04449976887135791,0.256705196842318,0.3422441857768398,0.05664255593884242,0.030275625673747267,0.09136719863035166,0.10342629494695149,0.0937353342083602,0.13705032529053712,0.4998895338000062,0.5883918648463291,0.5796218686237075,0.01652184542728947,0.19657151201949744,0.3602607366390027,0.2376985461132948,0.23323582421600617,0.5697194826458796,0.6938296826556263,0.22742868817673376,0.21873087309272618,0.09061908557909668,0.0031184016179556418,0.7000212894801415,0.7510877137102808,0.7370348249646894,0.7518109765970723,0.7449561799371084,0.7172950645505038,0.6650448191627428,0.5870967631561933,0.406320292920111,0.32263671710102904,0.8091090671241038,0.39565307634468533,0.43487195347854135,0.3442288789342893,0.4249885394254235,0.8140981317217723,0.7786588414802296,0.6823735838086015,0.6782973243923234,-0.06468936167280413,-0.10844631938681709,-0.19905665464665323,-0.26630472110851944,-0.31703980723500247,-0.35942414936030875,-0.3898359421208359,-0.4076018502318333,0.25262985048361886,0.8163496346159475,0.8091074242025021,0.8091074280804753,0.8119901506996131,0.8059839455313056,0.5115097898461057,0.2581472101491028,0.22870980523241596,0.8115534332370462,null,0.5946062920872467,-0.002189424022215269,0.4919387903803221,0.013607080422416588,0.8345805254172111,0.25681591493933925,0.6460694072574575,0.12566624466764797,0.47346056098176725,0.12320244469712935,0.31854170150479383,0.45530385818263774,0.6192079093885657,0.7599259103300159,0.6788959889539707,0.43805657110133805,0.3541799059056961,0.3262955111256298,0.23365611561647795,-0.0021795042353811157,0.2154508887310569,0.8091074737650908,0.12632770212299105,0.6174815524968591,0.6883150523555441,0.5329704541623173,0.6206654235734983,0.60143781088326,0.7452695039719348,0.4943771555222432,0.16212498227109967,0.040312699340440024,0.012042534116589943,0.11090423414688218,0.24414493685519167,0.726614208375651,0.5183295531620811,0.060655901029112856,0.15236895610201026,0.01766774554397928,0.005164211327662717,0.7466428578931972,0.7721456582503325,0.39593055065885513,0.08185486351936164,0.12454635707644915,0.05710477054921168,0.27024692895045227,-0.0017761433354843172,0.05680708013885673,0.01836011504501503,0.02041536542022904,0.7244338990199287,0.7628712091146104,0.7406342380765816,0.3745931295527501,0.6063447554087616,1.0,0.9694481800592222,0.524017595026151,0.6045854438715718,0.5608431449956337,0.47096937386941556,0.02370117348829232,0.0321690537378569,0.6518013267357885,0.6725287668979664,0.7049901767536498,0.6259093386370772,0.5887935127531122,0.7357459230181059,0.7041343288200388,0.6629911750145383,0.6596811343005952,0.5971711389000595,0.49144402826892286,0.42225188263233737,0.20241351153256396,0.018665525765110748,0.03076043704121421],[0.8096159317925212,0.08633165170264412,-0.04336845723981934,-0.0022295975321419454,0.04135688490201297,0.06687430725150909,0.02057393559266141,0.0785198288761386,0.22571296915995148,0.39782852340729935,0.5033587348801583,0.7151910087242556,0.6674170652239381,0.49534599220101405,0.22409725143413917,0.10934669293381041,0.8076195719277275,0.10052978890628117,0.03611679927065971,0.008962662762771188,0.3656162395356946,0.36719589161810395,0.8038337599425368,0.7967054940231523,0.726891761794165,0.7223505238768104,0.28527065004381075,0.041575313888703024,0.09075593547110608,0.04128244448207558,0.2577929173417146,0.3556386216290515,0.0491592022996585,0.025193420852196752,0.06727952974333139,0.08013099779584075,0.07234005972142978,0.12782539238143878,0.49335834518445465,0.5697196611906473,0.5954506853089094,0.032775038021131075,0.19515421431036592,0.3522196463648318,0.22338359585993112,0.22621924511622715,0.5648859904460118,0.6817944096707018,0.23083304915108438,0.22823675472960406,0.08816039083517702,0.002495813589121523,0.6862636902766822,0.7486647051700321,0.7347114639139708,0.7453020465687035,0.7331323180374933,0.7031187333489761,0.6494953635570466,0.5749714611850327,0.4032321916154724,0.3250446603808291,0.8029410446719976,0.36491603387004024,0.42924231531473744,0.3509647058248969,0.4193210069782266,0.8076116594546654,0.7760314352997533,0.6712128011838894,0.6769555933576165,-0.07122677463579,-0.11841276763721512,-0.21140477670529528,-0.27996053504384066,-0.3291477934737796,-0.36814540760862347,-0.39731971032316704,-0.4129185526512541,0.26334866808818014,0.8110306457577122,0.8029516355690038,0.8029516888654182,0.7995466012395945,0.7916448531081999,0.4906727389486132,0.2708927535237497,0.24069324141092924,0.7994522070226153,null,0.6567674830403287,-0.002235609503187388,0.4890194774028685,0.013446219607328825,0.8237571280172018,0.25503234038291395,0.6528607108928218,0.12278113513695163,0.46568935902783043,0.12724668530315458,0.32324511887846963,0.4601560318202104,0.6125371790334303,0.7407072387651058,0.6672096803147206,0.443381660564274,0.3591966337209775,0.3328517216866536,0.2337172065626434,-0.0022249926583052092,0.22093196989945363,0.8029517369097154,0.13840790399107472,0.6106167255335448,0.6729335330817314,0.5208161985233936,0.6199802257250927,0.5682275744470908,0.7393318371905065,0.5109990939258532,0.15675788882560918,0.03159018483191909,0.008807647046545235,0.12689257485429647,0.2327168331599823,0.7334226984200234,0.5029565918262475,0.060879900134839356,0.13022706916976257,0.019536918075220726,0.011049378902966553,0.7408652341184553,0.77090333594288,0.41431086998456784,0.08096867102579063,0.12453209119993108,0.05676522523120503,0.27042428432731735,-0.0023594779955128462,0.0499322034036996,0.01693468552443959,0.018716536152566937,0.7158964343888564,0.7468193958926777,0.7405193073184395,0.35255277572724525,0.5923631145394057,0.9694481800592222,1.0,0.4769104211824774,0.5663345758918257,0.5668114682371654,0.43277695699504426,0.022467446417409238,0.030498757885396514,0.635543902458969,0.6674690734540022,0.6947246677374735,0.6259307694578797,0.56597210210903,0.7162422626634194,0.6840881959373709,0.6425385972822938,0.6448009000216044,0.5980516230624467,0.5087748039436498,0.4397216291270972,0.22155224457178352,0.0143550688139384,0.029100116834492526],[0.44556305055477147,0.08226838629392093,0.17859578080132807,-0.001742130510659491,0.05079171171273828,0.05034713232493927,0.06846393895860269,0.04573710678712699,0.10704710294331163,0.13958960039135523,0.18735529638245568,0.46110413689601193,0.5610270788497074,0.4621525964651507,0.22160200597129717,0.08214685164442008,0.469333643839575,0.1088754175530041,0.028758676129015677,0.01457303603723782,0.09239498291006162,0.093303077988036,0.481724684223251,0.4610931645113804,0.4129327114629904,0.4787056650477553,0.0408137256704115,-0.0009496938776823456,0.08124302759581155,0.02097857654043369,0.28847664181012983,0.24070603453289727,0.07455754704577612,0.05671895643255893,0.2216890391695641,0.22375431315671185,0.21535329133581574,0.2122128451462703,0.3691791215043075,0.4042551230088082,0.28529197016041097,0.018271182323593874,0.12915929010632105,0.24025862417619961,0.15822792590229845,0.16131836326731147,0.4157816900056865,0.4775400628745552,0.07018667654047538,0.040969182043075175,0.0026145040023165425,0.007727311153758537,0.5225256489781169,0.4667371799615015,0.4637109601718353,0.5089320868985109,0.5367384590022374,0.5201975527340198,0.46473629255106674,0.38784500611239925,0.19623701297755924,0.09211309975467832,0.4699668948480193,0.16585761651027783,0.18612162667532375,0.10467705034262835,0.2610329333580256,0.46926476549650187,0.4630765413642036,0.3511385624659116,0.4155008828850567,-0.06439737022532194,-0.09818080659942174,-0.1754616043797714,-0.23129602275569583,-0.2580971873012874,-0.2723080657716697,-0.2811361918643381,-0.28827868980070376,0.18598862951104822,0.44665623553796635,0.4699105373543492,0.4699105401013988,0.5329079243285577,0.551586749561476,0.37566670768558735,0.1932290124982633,0.18781453592649783,0.5443569169135128,null,0.17178412358734366,-0.0017489100531453915,0.14059452468268577,-0.003965638402246762,0.5113029490034761,0.10920379389918787,0.4038573191630932,0.060829941287714656,0.2507913786732808,0.056177942697444236,0.12671957094599615,0.16754837402247524,0.3108269266291824,0.5421552750538453,0.5533255316212897,0.36254096986910334,0.191882098537951,0.10228485698783396,0.05462375798543079,-0.001748469549130052,0.10062746783531401,0.469910519710654,0.009322044183220466,0.4456639836160416,0.5110521566365318,0.38313723212052003,0.44024080269325,0.4488713044200312,0.49483872199815965,0.3013352246012966,0.07283437941456031,0.0008669692001759781,0.0014344408136357986,0.1442717330164248,0.22705840937399974,0.22906222046152738,0.12793830321091496,0.005950644254469812,0.19657941598138004,0.032336566750390594,0.028883305485991318,0.35063088276860643,0.4681820746866567,0.14540414016027295,0.02538304756818794,0.04772558288974912,0.024291547815049462,0.09641586911872223,0.0005634247172081663,0.016857987249474946,0.010838059096432463,0.01562852767537324,0.4572752658758994,0.48210182015002656,0.5333823258404474,0.10228929514798377,0.1901604167450162,0.524017595026151,0.4769104211824774,1.0,0.8054388124812623,0.1854675678419948,0.2922866009652965,0.013431546292582447,0.02856403442089218,0.30658618483827965,0.42347085149580554,0.48956859242686973,0.424162192437959,0.5422478319141825,0.527004391418196,0.5141831319680579,0.48251569487464163,0.40940263274796124,0.32491610645383545,0.15669620301615858,0.23723036059941702,0.11122677823463989,0.012503911041995913,0.025639249016948164],[0.5049977551034713,0.08465584465056357,0.11874775201441222,-0.001758850582906016,0.028448147810153337,0.029046178314775097,0.04615483029899046,0.034687453560580214,0.08271229883982803,0.11286482065499892,0.16645041575226938,0.49661387109203503,0.6637020090362737,0.5483962747058417,0.2683033979544029,0.13091806487875401,0.5258484660791674,0.15796721089907054,0.04465357473426611,0.017291452396300405,0.07481432005448013,0.07607969688754447,0.5316201149089758,0.5037088434915399,0.4761867665652057,0.5445046868765863,0.03461840617102286,-0.0006573405517911362,0.08112488909577707,0.01626498737173015,0.2664396094192028,0.2060534353447086,0.07566986278027604,0.043102464861000285,0.13646735716618896,0.1519424070651668,0.1360038402872948,0.19614566531811253,0.4992700484393395,0.45376937013774205,0.29514973147651613,0.03641400890131516,0.1512911216580711,0.2872985439132434,0.2028694286923917,0.21980880583276935,0.5163950833079837,0.5038792994273155,0.04924683352154365,0.03360322063250781,0.005074549861740933,0.012844212508374258,0.5780227896653546,0.48991395409573385,0.4818035233299587,0.5526448524738503,0.5989521669448149,0.6271944677271398,0.635339950725945,0.5192676578051175,0.22985355793577733,0.09232352840856546,0.5227556812084655,0.13174404095900222,0.15893649051216135,0.0974206870505318,0.37472625756467876,0.525790700350624,0.538807463450991,0.3922584666806913,0.49210512952307855,-0.039299694214330355,-0.06646097814674355,-0.13202710358510264,-0.17998608901944488,-0.2063572677940679,-0.22672165207463105,-0.24170666456867893,-0.25262854527689005,0.17092024135497016,0.506027411642474,0.5227005531987267,0.5227005267882648,0.5909694274544478,0.6390887513077677,0.7324363852223897,0.19366719479959849,0.15517686109474738,0.6071360413715314,null,0.12801673412713768,-0.0017646928070428787,0.2119103389222338,-0.003979405418090959,0.5732584945539958,0.08715591346392176,0.46179753973415233,0.08226374569634476,0.19131424938556696,0.06641026410656349,0.09946217133580933,0.1359440528425549,0.31976119216534266,0.6196825511700054,0.6368336543987222,0.40678240599634635,0.21555084440462977,0.11348130190339127,0.1516881640508419,-0.0017651122601640276,0.12607401445678282,0.5227005305947964,0.01241953719273604,0.48000190059875003,0.5756963760336431,0.4361392672068838,0.4710666955917117,0.4976864728630285,0.5604255349625981,0.323520902652106,0.06999773316488793,0.002264008291969571,0.007668517241478913,0.19686272433926977,0.4089268035075546,0.22052047084590723,0.1258503261167182,0.014329620341472428,0.3735288232142884,0.04226079982516127,0.026740688140643357,0.3995839385529857,0.509754783177651,0.1358940458538841,0.020470647436678806,0.04509326368569107,0.022755195853050116,0.09329590870139186,3.9781044245917786e-05,0.013192470112400429,0.010990597466223705,0.015248943641578779,0.5378979837984966,0.5876444171389344,0.6149843058792795,0.12757953906869932,0.18478389244168222,0.6045854438715718,0.5663345758918257,0.8054388124812623,1.0,0.13341484431060183,0.2700676245821037,0.01255294414678992,0.015791761421131093,0.40269779984643167,0.48203911507680053,0.5629905066605299,0.46909886318413635,0.5930870563036423,0.594752808616369,0.5646820916002883,0.5241146963274005,0.4611246583267414,0.35313521687312943,0.17942552523901953,0.38838519631142937,0.19833460370087924,0.01158917769195419,0.015151223841213823],[0.5608151673388754,0.0804827322082923,-0.02787282004072589,-0.0005720721544500476,0.12903224436739463,0.18756851730540225,-0.0013210036312894084,0.032391203892150514,0.16198849129851345,0.4007825902738176,0.5638427512616672,0.5055594742438206,0.14864004986008789,0.06312010314043422,0.07432360304163109,0.013012765138119326,0.5070262489472788,0.00841118947887033,-0.0007897612980633796,-0.0016817068171859875,0.43933651937684604,0.44012684711590383,0.5075466492285121,0.5312260617798973,0.5237668933302778,0.36901858537708543,0.2869127726130347,0.06384750070472701,0.010254751014461863,0.004804696897897919,0.13891259440027018,0.32755202469591904,0.004971964829724291,-0.00012757133207244996,0.07112926761063967,0.06407958822921433,0.07514169331134822,0.05159939748800099,0.03030396352162625,0.34530522579871925,0.46726095630355685,0.015599574130142154,0.12930302823155593,0.1905582705051309,0.10584365904061885,0.05907311742999099,0.1651308668882921,0.42965377342658395,0.3123562039310516,0.2378878514249767,0.13758684914891112,-0.0005261049333090439,0.33472328470695295,0.5317820453208832,0.5196745646028639,0.43888795042436185,0.3475626233944121,0.2382543438733587,0.13135128588221873,0.1682185018033027,0.2592447409737081,0.3894807450572239,0.5325860132536794,0.47355483696795625,0.5028811069490075,0.5500995793268054,0.1740561401594794,0.5070952239948172,0.43624850586794384,0.5747327207671935,0.39394089976481783,-0.0024962592078474027,-0.03425527700845066,-0.09062780440917094,-0.14180113311479986,-0.1813416030447887,-0.21605114140443532,-0.24232661205630565,-0.258903047067387,0.137937122885486,0.5610216147218455,0.5326679525495484,0.5326678815067094,0.47274229205650803,0.3758446372142253,0.019258498016715715,0.10758674280349076,0.10192643526818049,0.4417072555990134,null,0.5970571679739994,-0.0005739310174891815,0.4174721778991604,0.01899302579868645,0.5169206662520733,0.20334626668691388,0.3952228311426242,0.060448125893029135,0.501103462379545,0.07847144932902299,0.30148139124453743,0.5345339391337771,0.550381506533194,0.33592883698559556,0.19165113092027158,0.19573315238659525,0.31797509287196374,0.32790510797800965,0.21123631863855985,-0.0005673276900225176,0.16876474174786937,0.5326679175846684,0.09734928273479718,0.3424809473160246,0.36700764266766206,0.297678726820905,0.32550198957110155,0.297036237120959,0.41404358762377563,0.26697529075717924,0.1620644395961978,0.06896998678628717,0.01778454583475946,0.04150243446782548,0.11231943615990982,0.5732388513419403,0.6514571897713766,0.04126465177302358,0.02867228950972996,0.008753105775139448,-0.025839616376313216,0.5470196544888972,0.5306017198261355,0.3487082445630094,0.026798071639557264,0.07490882839461649,0.048101898749818954,0.2613015192580104,0.0011753106079250408,0.12002801910339493,-0.0021600518827441075,-0.0025681852831708303,0.37934152464843296,0.1971602225666698,0.23810043675098772,0.4207473191660207,0.7482073770124824,0.5608431449956337,0.5668114682371654,0.1854675678419948,0.13341484431060183,1.0,0.4813442875158943,0.04791221928393939,0.06819533763346965,0.40542798655925527,0.44130032029953986,0.4095210149344083,0.3505019189962188,0.21121526262824883,0.31251591578089716,0.3203742801600719,0.2809210494650233,0.2901586139012696,0.49844127535221194,0.5647835059461228,0.008323298266480195,-0.02607630079470236,0.04533170843650902,0.06812698263407027],[0.38947190915475005,0.09279358288331789,-0.02874498812829607,-0.0005794432695382779,0.04747728474702053,0.07389497483865659,-0.0009960447874675041,0.01523723529973694,0.07821868580636072,0.20263460192126007,0.3259661688774579,0.4007567909983577,0.2354378166995153,0.24233106751783492,0.29626331810681156,0.034546127941831914,0.4110763259981967,0.035293942939689515,0.0015775999929596844,-0.0012933031270038013,0.18937184047726724,0.18989360522630014,0.4035029202561649,0.4053279454802022,0.3715784986469386,0.34119220497494834,0.14739254057800963,0.026162108518334032,0.09466639272668821,0.00010673277924001993,0.45985315716164843,0.44503012862393854,0.07419530885966426,0.05202905568610389,0.17276238532956734,0.17118220276706353,0.17744195427073076,0.1981841046499527,0.208657239886177,0.2545400856657273,0.2737715613721839,0.011908335579251575,0.0856561832755215,0.18302262750005055,0.14042804255468808,0.30827577567014885,0.2533662071431224,0.33202675683817073,0.14477642963382586,0.10161685939015408,0.04735512580567225,0.0016624974260733996,0.3717013299776889,0.3954367920015399,0.36914893944342253,0.3488792678077805,0.324934419246265,0.2566344953730382,0.16594058060196792,0.15305689254082466,0.28948398639362133,0.26368619859812376,0.40503464831544117,0.2910803485327579,0.30404314709103575,0.2355540503178898,0.11961307416304669,0.41105523817865247,0.3799460516293707,0.3805085171180021,0.30766977657694755,-0.004522824859183933,-0.023821349638537402,-0.065114826956821,-0.1005437374880018,-0.12865098614629744,-0.16042329032606573,-0.1811447938046824,-0.1966220549832685,0.09147180949420541,0.39059288362877165,0.4050128971902885,0.4050129080817291,0.40352656746751925,0.33531248843768785,0.14387226422215055,0.07048985056489435,0.07373347014159481,0.39641942516734585,null,0.40548575756959965,-0.0005785056650963276,0.4398091005624277,-0.0015155408656682703,0.427358751489672,0.14113381000092853,0.3650489733562768,0.03468629310342415,0.3237083160084963,0.03681474477331488,0.15221905846628817,0.2815472316588621,0.36091409666698543,0.2882375583176487,0.25311603526886384,0.3594605483056252,0.37858898389260764,0.2697190071597956,0.14154506545084367,-0.0005793721817904341,0.12434685196537971,0.4050128918250542,0.028710713115217782,0.266914516751484,0.30818211917288785,0.4004124583391082,0.25635156481316745,0.30004898644877065,0.33923706816012034,0.2451789435338733,0.1410694171146932,0.07332215721801079,0.01957413154518352,0.1373800818688503,0.572442498077466,0.2947506570733527,0.3203025405414877,0.034353282477592104,0.5227145887646348,0.026322658164110585,-0.020424301520138664,0.43757223172063314,0.47764764317034025,0.2090788151582982,0.01475584080940542,0.040935637816052486,0.009521658249104068,0.1951487813305052,0.002785164073136973,0.05702857055357687,-0.0010158954999841714,-0.00014634137494942798,0.3336817409814864,0.1752186149685273,0.17718121914558144,0.2953259147001546,0.5928401017753864,0.47096937386941556,0.43277695699504426,0.2922866009652965,0.2700676245821037,0.4813442875158943,1.0,0.027230791446806638,0.04046466617287053,0.3689872289705038,0.3336187076375084,0.33095576624738987,0.34467553107013255,0.3931427020072828,0.3055436479824821,0.26070883227168434,0.2318647022759146,0.1688492110419058,0.25499381249090364,0.3371190448350713,0.029882306888691756,-0.009438163537395393,0.017080005282941516,0.031578418763127926],[0.023108399246484636,0.018754358167779837,0.009277685364315374,-9.798105485042305e-05,0.07998533205562187,0.11080680927664588,-0.00019767212501241345,-0.00027771166075408587,0.0029668171702909086,0.02137591065122139,0.03294555709736293,0.029911847165303967,0.003382887196424981,-0.0031974325943420114,-0.0008872881417680777,-0.00037473218388030824,0.021341882635728192,-0.0006542706998157485,-0.00031960695229919805,-0.00023862886982452556,0.014878961510278873,0.0150737218210905,0.023003600301934057,0.024393330670763033,0.02344474747112941,0.015274585028890383,0.008902428603270666,-0.00012607236262590768,-0.0006359993227539241,-0.0002433511653535762,0.0019374476990541172,0.020962669026148132,-0.00043409479478764796,-0.0003000937857187708,-0.00044371584409058987,-0.0005882731600994293,-0.0005041646205774153,-0.00075530182181154,-0.0018133047655004648,0.020028781141249875,0.024348746809438188,-0.00016097238135358673,0.006063458714946839,0.009405477492365765,0.003956884528017875,-0.0018803313837300942,0.004147792409960839,0.022513113336277906,0.02643844298776798,0.010722035031728841,0.00745148697672547,-0.0002477720337996366,0.01617547435643356,0.03797085222793991,0.023960302662868735,0.013495995310138929,0.008835915420438338,0.004211720135625906,0.0006902674409270443,0.007151236846710434,0.01563589614272571,0.012122823700027064,0.023853923897904025,0.04365748856873248,0.03942580038080441,0.03228340582071217,0.007124517210498201,0.021338725859541458,0.01828952058531356,0.02738915595594873,0.016632797351079396,0.0028278478946401108,-0.0006734609072470767,-0.008181515990059856,-0.013832548533132006,-0.018417845028091843,-0.0250012756029614,-0.028739828674375918,-0.03032019745559087,0.019044257776200803,0.023095956562752616,0.02385088913008222,0.023850884379611022,0.024775734349506463,0.014438506154514348,0.0008081405385407445,0.006222752882758911,0.008049232673867307,0.02183730393201402,null,0.03708082743090891,-9.8345399548211e-05,0.010863180272111443,-0.00031097340475295157,0.02261352742960397,0.014853871084550675,0.012884097962884235,-0.00018149704108557903,0.027173328580652,0.0015979822787147162,0.015199732679793675,0.03657936818798419,0.03818863836732649,0.016327747716574532,0.0046423105184282614,0.004516597128339607,0.008122269074331064,0.008642395866059444,0.002377442002491539,-9.817251831097679e-05,0.0051906636623786275,0.023850886948011137,0.02114304606807082,0.025511964661965317,0.02918816847700866,0.013898844781671141,0.017923431250828476,0.009953085593680924,0.022218456821796673,0.014277874345860617,0.004772773294768215,1.4189595221989472e-05,-0.00020868942013639534,0.0023254964541942493,0.005071395033761258,0.01983364230707976,0.04658089067812998,0.00012074314251511614,0.002704145365802749,-0.0008377670717859835,-0.004612459662026544,0.024591807222472794,0.028716736867088685,0.019204816141761533,0.003991227362758189,0.008715523673468976,-8.359671281225283e-05,0.04259197127025412,-0.00013304566714645,0.003083092910131266,-0.0005035311165123902,-0.0005504393385535208,0.016208332872940354,0.0007271523095447521,0.00392422132697967,0.02516807349802526,0.03390566432754505,0.02370117348829232,0.022467446417409238,0.013431546292582447,0.01255294414678992,0.04791221928393939,0.027230791446806638,1.0,0.6224406696137839,0.0070290006198488195,0.01920039937064203,0.017064106569146146,0.017072370938906206,0.010348716824469601,0.019317460879025066,0.026782297175168442,0.008310186083883177,0.05860516259422104,0.01944364755653344,0.004603407372166546,-0.006156852281269098,-0.0033069243694355435,0.1536063856463454,0.13371548010032416],[0.026794459938390927,0.11126890891310463,0.008479705967480222,-0.00013881250982074534,0.05623175216453674,0.08477387171799527,-0.00026268795192919655,0.00040289841712549767,0.008361797838150104,0.016966792724128904,0.036484577371719014,0.033817284542547586,0.0011805384951864605,-0.005267321638155621,-0.00027142031121423513,-0.00017687098564809857,0.02316755507487537,-0.0011279774108060997,-0.00050211591523781,-0.0003444074826116102,0.019652024949130712,0.020695705474866224,0.027661730445056428,0.031592945848117004,0.036962699231465314,0.021569779158731824,0.009657261423358304,-0.0001828962401113704,-0.0008056237544792677,-0.00035303544918847415,0.003936764652538433,0.04618310946004395,-0.0006376288557454146,-0.00044087053901465013,-0.0006524007924632523,-0.0008652847302424296,-0.0007359697718494122,-0.001792482802797857,-0.00497518096572825,0.026606255226358677,0.020217117816906837,-0.00030919006509007324,0.00375395133949262,0.0062719867293926515,0.0025998927512033117,-0.0036792058227448758,-0.007847222838798752,0.025818199329290612,0.053799850100477976,0.016479262890207166,0.023370516327726538,-0.00035764186127751633,0.023431081428430315,0.030603029790770522,0.020516850266058,0.013462794098923925,0.008413371647606934,0.0030198563377010317,-0.0011039680028798922,0.003766322553726135,0.01575790056290507,0.017026957554456768,0.03102197224880378,0.04462804521522771,0.046817142122097845,0.02650576917182359,-0.001055808648417291,0.023162667215498284,0.020629687386241838,0.04983915716704619,0.02191686396683261,0.0054769169183958915,0.0004122648055060017,-0.008677749334795506,-0.013818499445961942,-0.019930659976450646,-0.023910324299845128,-0.028272632018380518,-0.03010717339817405,0.032478063520143347,0.026775792753684264,0.031017592543337094,0.03101758296593064,0.030941566690160033,0.015514630820804261,-0.0035940875412211553,0.01582947591334111,0.018853698924980563,0.0247203469596986,null,0.047563001823555766,-0.00013944456626074689,0.017011042317823057,-0.00044094163202473667,0.026698984974535454,0.035336876095786306,0.01898988563021756,-0.00024656153226618107,0.058062977606079,0.00934391061831455,0.010292517358037209,0.03139269024725524,0.03798593927752704,0.018446315174303538,0.005166120535874303,0.007232219164207964,0.01141898187555352,0.005962687189669721,0.0007637745769450388,-0.00013903233657367147,0.0037502222606028753,0.031017589571007396,0.004033964024165507,0.0328443227716945,0.029821046665131662,0.018118602384889684,0.031123177256121085,0.012857436834860167,0.019230388599449706,0.013720651389966806,0.006634625993378427,-5.723588999010161e-05,-0.00030728354796954056,0.004719211262082791,0.011041289431429612,0.03371250216390264,0.045813910859657275,-0.0005159983321141049,-0.0007449172125827098,-0.0012311248594026084,-0.006560226326284035,0.03050640067134414,0.03908187136394898,0.05107761266596576,0.013424783181440698,0.027946959161208745,-0.00012029022957426059,0.08669028002161745,-0.0002192792275670014,0.0035808195142724435,-0.0007627927827257701,-0.0008331065829048214,0.01692475519736726,0.003542582506445408,0.007409756893307254,0.007253712653071427,0.04648153414263997,0.0321690537378569,0.030498757885396514,0.02856403442089218,0.015791761421131093,0.06819533763346965,0.04046466617287053,0.6224406696137839,1.0,0.00846480130876934,0.04060858549049993,0.03593151017283802,0.027066708397442404,0.011394083741739187,0.01859858199331274,0.032276515066608474,0.010062774776315396,0.025420465720974453,0.028789403954905438,0.007234232795078705,-0.00886001916262477,-0.00491663531386778,0.08288761967721764,0.2108413845988683],[0.5864964715204646,0.07681381663529005,-0.04672455090668775,-0.0008216341119163239,0.014691001469359187,0.016915334965527936,0.03291570545112299,0.06560123010249698,0.14881615997875092,0.23813630526109852,0.3327671683475221,0.4991725081381629,0.46493178342920344,0.32289250376416073,0.1413603873074035,0.03517677102967252,0.5810695496542841,0.09528986525525107,0.019341461699016464,0.016544251222107998,0.2883654931463786,0.282810985815784,0.5630539929015728,0.5561577979708292,0.5112365811874993,0.5017143572854584,0.1670288296652232,0.007464043438623099,0.04428333886224312,0.00153357327361103,0.15673593943892467,0.19666649815070908,0.03819816864414712,0.02326388166612977,0.015968455952907825,0.03330644573825938,0.02361209759061969,0.08762494085827653,0.3094848266475184,0.3726839332460072,0.45291891896768777,0.021247271410771654,0.11327645274222849,0.18943610600445773,0.13748405716306822,0.16136597828571805,0.4075756232294673,0.4484264424309489,0.12068865696235884,0.12942156585687176,0.038543585949866024,0.0020833474476246233,0.4428226686903193,0.5229603578470355,0.5390118508736378,0.5356344253266591,0.5034622590261284,0.4708870149958252,0.47449764689419205,0.42964733087744594,0.2882959495415593,0.21786581711741815,0.5600577749943957,0.26559620456055344,0.29933988229606356,0.2467915090702317,0.3439672202401417,0.5810310025544771,0.5457287431268169,0.48016634364071925,0.46648725078861636,-0.026822616736545547,-0.04862815727730626,-0.10550022777842163,-0.15917917453761146,-0.20252050969128943,-0.24807029384017926,-0.28610408763510514,-0.31744896080878837,0.14500977360319817,0.587519009124214,0.5600545746490084,0.5600545342016375,0.5669640647366219,0.5888959981807182,0.3922967608480193,0.11769530342388303,0.12889982694398755,0.5672569278871428,null,0.3780340297306912,-0.0008235357979389396,0.3451821679450737,0.005629642234409945,0.5876893217956891,0.12147445443521235,0.4401380000547649,0.06326411895090459,0.27824422318039926,0.10981736974493221,0.21307156682671854,0.32354265574210134,0.4672659662073124,0.5023760782181056,0.4418230025787812,0.2752954116777377,0.23644045037221997,0.24895351527403167,0.21782015160706075,-0.000817333191600102,0.14188749241875226,0.5600545788669926,0.18008328519473074,0.3582825687952376,0.43132358570540763,0.34272352903637515,0.40559303448564943,0.3860532657172759,0.5243556916956907,0.31757364629381774,0.1542767324056084,0.0838413294349354,0.03456685372893226,0.0774601771169937,0.19012474144757485,0.4605193751758861,0.4016857066715396,0.031271856377441606,0.15733147509975268,0.01733910539549321,-0.0032958337949974487,0.48462730304338,0.5010958866923542,0.2781492508725268,0.040817649431971824,0.055785981465814996,0.05452760641735893,0.1675138745388135,-0.0004935284185228958,0.06931690092328198,-0.0035609565439381576,-0.003189367236378281,0.5093344982454568,0.5039995363113435,0.47611722343687085,0.4542913411436743,0.4628453262381848,0.6518013267357885,0.635543902458969,0.30658618483827965,0.40269779984643167,0.40542798655925527,0.3689872289705038,0.0070290006198488195,0.00846480130876934,1.0,0.4705778964944962,0.4820781763349514,0.41488836795477624,0.3767121437309264,0.458501100066148,0.4187111885958464,0.3914532036079337,0.4657385687247398,0.43126914256640625,0.422007928232354,0.29766524231588626,0.13953349119023806,0.0030331460191679303,0.017568687012742838],[0.6711596216503042,0.07721962615175228,-0.04467200773806853,-0.0014051857542629214,0.03604909430405832,0.05779266690956314,0.017219754719671833,0.09563259181680822,0.2187019902156993,0.4000478143800216,0.5543590802657977,0.7618766466401475,0.6735448080936827,0.5289270033072175,0.3304455727705342,0.07837271489093366,0.6820884541103828,0.15158934279168712,0.06541511348891439,0.02181974697937139,0.3185734230724636,0.32147506673724996,0.693283508714131,0.6782545442259382,0.6805633165685684,0.6315344994126495,0.1841791924821647,0.05823741289369375,0.06731331340029609,0.03455589044986906,0.255301642306533,0.2682102325097773,0.08933743376718584,0.07035185819812909,0.18064250843808835,0.18478966470393907,0.18538802757767714,0.2712729887786208,0.45493218338773744,0.6318267729238207,0.5642125356269758,0.03455290229603262,0.254713256889861,0.35142456350674056,0.26222844654442096,0.24846716473890584,0.6231713564964892,0.7001125738168105,0.21443550773336575,0.20186096463297715,0.08509341836943181,0.05292682199331463,0.7261263358518614,0.7468451456680446,0.7580146254217813,0.7555339250366042,0.7407085040828947,0.6820684579075115,0.6040145854523865,0.5664490438653885,0.3632398511771101,0.32629025000927925,0.6993971254847515,0.28597219814061403,0.33434482405559374,0.2970121040818422,0.29951222401594635,0.6845202938497691,0.6777254031801874,0.6712104677199786,0.5933418748319039,0.2659615723230634,0.25854209533021555,0.2674491131963015,0.2801758062959586,0.3080458316813303,0.29500554458157363,0.29988621526741815,0.29731683563339584,0.24583250298804057,0.6741075133966219,0.7010729034090021,0.7010729183919822,0.8188475916517179,0.7634410893846733,0.3700496505537257,0.230732748258028,0.18219215978162806,0.8032066135576852,null,0.48444770484077077,-0.0014104777800812095,0.47937087986529453,0.0029702989036610324,0.7204522136075183,0.1512335577421157,0.6168488155596104,0.01829930850399328,0.6309798723148239,0.14225035603843372,0.2937689380728508,0.45333393443263453,0.605275688198109,0.7505469470272995,0.7056534141372715,0.5355072955283126,0.4436468599284123,0.36924650632799977,0.1406931408318102,-0.0014004327376691,0.17839229489356162,0.7010729107397886,0.19210409971786407,0.7925082780683201,0.588919931342654,0.5715457903535388,0.6606622196909803,0.574549265246755,0.7594467835597154,0.5851177478695975,0.20399925992950643,0.04170477908602553,0.016693292673318455,0.14670678094545983,0.3088769016561507,0.6606394590141098,0.5483572563301298,0.049976055358739925,0.17310313857175694,0.05554662835946966,0.0666639586840671,0.6862260902677895,0.6089611715555086,0.27962794488928594,0.02817335006632518,0.07155146984466326,0.019343143381092966,0.15870355154431937,0.0018341154312289454,0.049692535375316545,0.015578489326249367,0.023930888684401415,0.6505966948977239,0.482195153544188,0.4745513841479134,0.22142640855550033,0.398455854961963,0.6725287668979664,0.6674690734540022,0.42347085149580554,0.48203911507680053,0.44130032029953986,0.3336187076375084,0.01920039937064203,0.04060858549049993,0.4705778964944962,1.0,0.9568639475864701,0.6598820046974538,0.6904246652976669,0.7306222596794045,0.6886509790039964,0.6262183868365692,0.5872645863018344,0.5792440485304803,0.5072841488633351,0.33538722154755657,0.15562254655432473,0.0017219742377081785,0.01458515680028572],[0.6872875243468456,0.09872954143460076,-0.022947734842051617,-0.001778822690002341,0.04355912975375215,0.07206670712768751,0.018672869933322657,0.06929338091479519,0.18958822709301434,0.36027301574699594,0.5058854287629635,0.7685888075432064,0.7498765699042591,0.5911636024249945,0.35257856497886125,0.08642988248663375,0.6999582170054336,0.17019394492763024,0.07759643801976278,0.02365803400120631,0.2636178995762838,0.26828892933324344,0.7083565032518282,0.6891119011286225,0.6728721603665883,0.6560248232705965,0.16656723684141259,0.0478635406518705,0.07263849327134342,0.03044391823020689,0.2769087277101385,0.28457450255889705,0.10420432143232085,0.08099122650352543,0.2000545518113161,0.20894801423714046,0.21849034267816655,0.3155329660907278,0.5288455573153308,0.639192387392822,0.5274239650555482,0.037991865172037655,0.24587490234526987,0.3646548157454259,0.27856581149001164,0.24110056459479492,0.6240545628487811,0.737518337783888,0.21136186810608146,0.16857292191513304,0.08199051937956915,0.045281441900798115,0.7640508171817998,0.7532229456933315,0.7539135497513729,0.7655119051828091,0.7693613248542907,0.7366561513292186,0.6770234592043717,0.5995354106946555,0.3443885632031392,0.2821262593927418,0.7076530258589055,0.2975316008457261,0.3418836683923496,0.2795942380450311,0.3235117414608515,0.7012725606807,0.6950578943344266,0.6480541163898267,0.6007169152632922,0.1693521024926158,0.14949780568251453,0.11059985646913321,0.0797805802564608,0.061584221792153795,0.02395167090113211,-0.004144314486673627,-0.02019249096052809,0.26007855368491345,0.6911401617010565,0.7093609605032167,0.7093609634127798,0.8335746900513988,0.8069122878948566,0.43832809463466305,0.24522185214867745,0.20213040366548177,0.826108802458654,null,0.46267287640941257,-0.0017858661133989592,0.44740369369469357,0.0012855007431110338,0.7467694813397122,0.1325953332058172,0.6172821985949776,0.015448091492943811,0.5676894859946444,0.10586209143639128,0.2703517727098293,0.41774694148557956,0.5939257387212376,0.7987438081661283,0.757973812468146,0.5520445858542452,0.4167587708183186,0.32070162665400115,0.1679296876365811,-0.0017752415356542578,0.16939221287339337,0.709360954653695,0.189507855621272,0.8090476553370853,0.6156122449150592,0.5862003670122266,0.641968620379356,0.6156274280870957,0.7883962414045221,0.5688913965902205,0.19529576346183342,0.03606502299929197,0.014258511730602694,0.17299784433624804,0.33545083355254113,0.7037347738202668,0.5584444102354299,0.06674957749867223,0.19794920662541868,0.04899448548098166,0.08069069274931549,0.7334928847477842,0.6024469232736352,0.29088965386494914,0.028325108442398474,0.06332299431216022,0.02022301097269735,0.1482908276559974,0.001041018384102287,0.053047739354543065,0.013112052309275472,0.020654430244566677,0.6740854169358397,0.5487234090849189,0.5367767931105644,0.1840583975599603,0.37751204716684483,0.7049901767536498,0.6947246677374735,0.48956859242686973,0.5629905066605299,0.4095210149344083,0.33095576624738987,0.017064106569146146,0.03593151017283802,0.4820781763349514,0.9568639475864701,1.0,0.650449802203073,0.7410104320772346,0.7763398658122642,0.7343803042202551,0.6744904913564042,0.6018894551871109,0.5803551055684476,0.4764272552354733,0.3953542155719773,0.18809618152660304,0.0025518413228416033,0.01738336226356209],[0.5887970827558544,0.07219255697610227,-0.022711914192977443,-0.0012982085208708308,0.02109419088371013,0.03241177636587523,0.033157265216622545,0.18102152720943193,0.383813585199856,0.5702934463371423,0.6517641433004345,0.771480288887175,0.6501515649857296,0.623059885933398,0.5356672310092886,0.15216661313709381,0.6705767276725089,0.25100186290015764,0.09279055219330157,0.06847537243094258,0.31616912784570883,0.3292442890781723,0.6821549756517818,0.6594926978887251,0.6915873458739549,0.7107065295422064,0.21185530016576082,0.029601643447285064,0.19189097402977714,0.0745729883163109,0.2977103834281367,0.31106366163218435,0.10914926975991636,0.09991457500220773,0.07287920438310426,0.09378828199790214,0.0905818424334692,0.23808685616524,0.4193219193727493,0.6987189934081459,0.6666909753310738,0.11056594792829008,0.3594839114013438,0.42903547127015934,0.2808822006907632,0.3127244982422762,0.6688867161840775,0.7453608393626021,0.19000296239736186,0.2524717476763163,0.07426853789735822,0.039291773992474244,0.8850344205871049,0.7827952338484446,0.7111885818416733,0.7196747238367186,0.7043710816118758,0.6265478270344258,0.5253703479249985,0.5630281778072224,0.44835914091587475,0.3875041212656645,0.7024649885176091,0.26603637049072887,0.28429995307015277,0.23472855151744867,0.3432786437573894,0.6693819017660093,0.7096817869761876,0.5396995416263046,0.7326231664437762,0.03295004425328593,-0.013566674621732246,-0.08170925060486152,-0.12846012377960336,-0.16304260223430997,-0.18919713947154954,-0.20970417714414127,-0.21811495259794847,0.26606399479769505,0.5913938273343026,0.7018599121574786,0.7018599272472432,0.8159088826592376,0.73115174814441,0.3391159064688642,0.1800129897180464,0.15465819831853755,0.8259248610901943,null,0.45301864679774084,-0.001314539591278275,0.4439278657739717,0.016906363206324805,0.6769688788133484,0.5148625807630839,0.8255529344800424,0.19256883070223954,0.5126849071660037,0.23219644938274273,0.46834079298548126,0.5630435966104274,0.6649835876482326,0.7229448900491118,0.7352613144252933,0.6955982116222574,0.505895177531334,0.3083282598839275,0.10087174392709698,-0.0013059632361427217,0.17175422920899303,0.7018599141909628,0.11093687624474982,0.6576338303912767,0.5278819701429974,0.8759797903113288,0.9102744115307497,0.7094934268960831,0.7124929781211048,0.4869196753009419,0.1510928375390028,0.010282993837950847,0.006228556088851563,0.31116656128406656,0.42722084809850014,0.5858999823901954,0.4645264533754558,0.058840966353733315,0.3287232236989988,0.03375781404920314,0.03432206200629175,0.6607567482756244,0.6918932755229643,0.29688415484386593,0.07526084794549491,0.20932687512118733,0.05697204795403095,0.37372510648857565,0.007773908851517144,0.07633291839357662,0.10621738279145514,0.12319567456756168,0.6882210196793005,0.39960152665165544,0.40708579666203837,0.20368064309544712,0.3629257899817232,0.6259093386370772,0.6259307694578797,0.424162192437959,0.46909886318413635,0.3505019189962188,0.34467553107013255,0.017072370938906206,0.027066708397442404,0.41488836795477624,0.6598820046974538,0.650449802203073,1.0,0.7724445506468597,0.7030381253599819,0.5999749099924296,0.5424454254319345,0.5337591006696325,0.5172042600106588,0.40810743594144616,0.21619294811614947,0.10244181241433137,0.004503966483771106,0.009612535242360741],[0.5509046646646394,0.0587985806530095,-0.020910616281953877,-0.0015978459836779716,0.010403849106436542,0.019580670541615382,0.023680968594100436,0.06357182906854972,0.19972614176196413,0.2991222705816832,0.4044819564563463,0.7022853316537441,0.8159772449509267,0.78954665635437,0.5623573289018439,0.086224634100869,0.6399650971520007,0.28299214430617936,0.11911512628670498,0.05716824129176173,0.15657324151107693,0.1649145785070068,0.6259351462969042,0.5810278583351985,0.6438366591545008,0.7136525936681156,0.09414960549804076,0.01860497418385973,0.1262013536957476,0.020441050544694396,0.36000277870827235,0.28945613986041796,0.2369942007447078,0.22711548830510772,0.2205754677877656,0.25310305077932904,0.20789381672359825,0.385513975388138,0.6074913823925095,0.6782207452058052,0.3782189843324459,0.09752165175193778,0.26309266870889503,0.3799988562346726,0.27853018836811977,0.4037195787211754,0.6979605132344692,0.7056786414004999,0.12107971187347502,0.16676543959216747,0.0440756592589146,0.06331326977473282,0.9044132596769319,0.6871490896652379,0.6299943005801185,0.684072041346716,0.7327733779658393,0.7213962991007964,0.6425612384081855,0.6079510232983395,0.3782076628762463,0.26546310554131225,0.6398834797889631,0.16960800315415833,0.19911097628642999,0.1407258639223945,0.36208223182363225,0.6396277802378608,0.6994168626167834,0.5309079125028455,0.6579391366356686,0.031199013405536425,-0.011491785329724698,-0.0763792813968084,-0.11889186075561134,-0.14882606205520457,-0.17227191903244893,-0.19054631718102408,-0.19864252267394372,0.2592919175788938,0.5548252364726497,0.6400542562800776,0.640054353404553,0.7848664874123477,0.7473841150778207,0.4446211673556001,0.16103110224229486,0.15340554277289117,0.7974792019678136,null,0.3416245551183172,-0.0016091996292723178,0.5143032990927288,0.006128409764851256,0.7021113644186945,0.18811776601713284,0.716197757819098,0.16955038389246951,0.342698929113597,0.10962635766235924,0.23272169362985914,0.3006897186981705,0.46034949357093374,0.755404212637635,0.8541565993609758,0.7982776068728544,0.5461705640567447,0.27650922469776046,0.1099929966377165,-0.0016072351366196477,0.17593001675100262,0.6400542517936468,0.12023546253671749,0.7531747646899752,0.6299058168963728,0.7929507650910392,0.7255015760642302,0.6810689311611906,0.743509608456791,0.5032775867631867,0.14518820327087004,0.013497162272135755,0.008613125673847201,0.39048240437117177,0.6413386018610302,0.47701609747814105,0.32285936422455874,0.05754530026854623,0.6399086677140636,0.050153256330260555,0.05384991984031659,0.6457099856313421,0.6079507496592409,0.20214845923533845,0.037768582522474774,0.054808343073893255,0.035114079332326645,0.1320293214226575,0.0001503405516404204,0.018600235564297178,0.015373694272281855,0.019532767900172072,0.7098923221007504,0.41989781312409513,0.40514269307586154,0.13709356213889273,0.24480821443864628,0.5887935127531122,0.56597210210903,0.5422478319141825,0.5930870563036423,0.21121526262824883,0.3931427020072828,0.010348716824469601,0.011394083741739187,0.3767121437309264,0.6904246652976669,0.7410104320772346,0.7724445506468597,1.0,0.7929779286216733,0.6662039728346969,0.5925116206370713,0.4507876680588451,0.37551570940280615,0.2961947732036373,0.286716858708318,0.1456632200254165,0.0024445965973414817,0.002807917445656033],[0.7353235515509082,0.062280041579277044,-0.013691893642506829,-0.002089502395168109,0.01733763994661033,0.03289559820666528,0.023086974555516986,0.10484336799001172,0.26186512086497316,0.4593450143753983,0.5663929193866319,0.8371250122591651,0.8562112426319504,0.6612612811563776,0.3157415579842117,0.08711157202564529,0.7388816822360894,0.19227697160236235,0.09263119026711825,0.06112341763948964,0.23527707631638134,0.24448586611574435,0.7443601840759423,0.7186223336629731,0.6849967295759065,0.7265889345143738,0.14209013220733127,0.023531076972560495,0.08601425097774067,0.02703585836991439,0.21934171475262243,0.23075610952239495,0.16278929586127588,0.06183692740447008,0.22282470375754806,0.26290256077229535,0.27263108257860624,0.3406002141603131,0.6547722450195764,0.7717035500710978,0.48124960012954804,0.020139179241372943,0.28348033094296987,0.38327283293549286,0.2511490800914412,0.2833124697466437,0.7032713038612007,0.8371222136554636,0.18272442492038127,0.27389391404939095,0.05974734345034192,0.04710492266483765,0.864114286109785,0.8274195115456263,0.787785670452527,0.8458022229136546,0.8909319997283504,0.8834746843680485,0.8115061333220969,0.7188147680447916,0.4339792682604643,0.39663561402460296,0.7404685312918837,0.25957711104947656,0.29549134841286334,0.20490742948038232,0.36359129553371355,0.7385364280154776,0.7426008417819329,0.6339321025708139,0.6441054465635271,-0.002211406806972993,-0.04994073287858819,-0.1252073230206399,-0.17463400878371876,-0.20712057318096422,-0.2320670228470633,-0.24920720545963715,-0.2590409695507593,0.2681531002357448,0.7385636070780079,0.7404881054782444,0.7404880776666198,0.8536424786459086,0.8801304599982147,0.48715472021034045,0.21926802092443787,0.19235360933591145,0.8620197226487321,null,0.3964019772103554,-0.002095081574776221,0.35944787522397736,0.005277691745632748,0.8001932212351917,0.21778100468040282,0.6144802363633795,0.1842823441269243,0.43208182542870543,0.15177665512768443,0.3621436741678878,0.45528719795981926,0.6352199830496279,0.9276931525167724,0.8632061187168748,0.586871562202756,0.4148987625757445,0.26176376436157306,0.15939412591543675,-0.002085527047010162,0.17046629653216994,0.7404880888501838,0.09708013475482007,0.8173309087424409,0.6399094237351587,0.6728318696611281,0.6835435242278775,0.7413495818375325,0.8991232808848489,0.5613404610694267,0.1731420515121778,0.016145804975499025,0.014092896055997886,0.13793167620789817,0.26829249969046914,0.6446874564288736,0.4294463521222024,0.047156029634101836,0.1728260900250837,0.030669756954429146,0.0568563418788608,0.6840494071496086,0.5544598009713452,0.2481749934220899,0.0411998830214458,0.07368688429782672,0.027505151055303483,0.16616876615010215,-0.0006818652231173835,0.03425812830348127,0.014722769479686804,0.012764421989501704,0.7190971147648224,0.6588987574682599,0.6400986536485741,0.1880046095379542,0.35583088837268223,0.7357459230181059,0.7162422626634194,0.527004391418196,0.594752808616369,0.31251591578089716,0.3055436479824821,0.019317460879025066,0.01859858199331274,0.458501100066148,0.7306222596794045,0.7763398658122642,0.7030381253599819,0.7929779286216733,1.0,0.9462309151233229,0.885432740110401,0.6902997044640006,0.5827902763926628,0.45483345459780045,0.45381127794099796,0.22824790515780036,0.007118125205541713,0.008842696027267937],[0.7392106923731863,0.09880753763138461,-0.008111389714415797,-0.0020465454891001366,0.02490450336955381,0.04732562021830802,0.03341772569082692,0.1081845623835043,0.2562034697353734,0.44482770960654394,0.5346997317980617,0.7988619017647604,0.8270541782205898,0.5843532372610555,0.2189904014200098,0.07202660860561681,0.709178403401407,0.15279012158189378,0.07267421006948906,0.05203124012426649,0.23362612347393943,0.24098886433817301,0.7188820518541313,0.7022956487397524,0.6312964886138094,0.6626389477314533,0.12763960332567226,0.024915636603741447,0.05419644165515124,0.02218973954453906,0.17562485027408115,0.1988009584085567,0.08982344071544938,0.02904888803661347,0.26120115225003054,0.2660955362745989,0.31922032065398886,0.36095268877150916,0.6270354338038423,0.7255729854637585,0.44560274508738046,0.0067390798411566194,0.25567976622370736,0.3436268915857819,0.21388863875379738,0.19283617202863312,0.6416098060787351,0.8150083821352694,0.19074538787532846,0.27874376698825637,0.06049897260391341,0.031700813502804626,0.790355549468997,0.7911922616586924,0.7606856923705051,0.8212619129614367,0.8710520196992252,0.8740753971468489,0.8111154732613631,0.6847797582105969,0.395580989717213,0.39156863102431966,0.7069795646388737,0.27359250920931416,0.306363535318393,0.2233127368142091,0.3432150727676752,0.7086820316866387,0.6828301536143921,0.6143567660290418,0.5694412387590891,-0.020644549955332568,-0.06459044714022436,-0.13656219589930954,-0.1825583170494603,-0.21205773167182843,-0.23538214463075222,-0.24968091235315018,-0.2584052832569501,0.24276758106006557,0.742086289868903,0.7068631913255199,0.7068631628664369,0.8056264793609965,0.8532458011332069,0.4583079897147575,0.21338832594900412,0.19160185424554768,0.8108523108758259,null,0.3669321365701756,-0.0020515432656739055,0.3219133391556144,0.0025889132352190747,0.7701897327375901,0.17382588420259634,0.5215064950907744,0.16230476514516387,0.42335914015836174,0.1466169030946404,0.3525885478308201,0.44185210045062934,0.6130886039980329,0.9123102135493001,0.8095415983389602,0.4783802867758809,0.3510912172669914,0.23211144507143702,0.15724495673532796,-0.0020405912337055545,0.14105817251023542,0.7068631730018131,0.09081818948477038,0.7754265385678684,0.5750165326154453,0.5587469805167391,0.5904638207200731,0.6845091524419317,0.8864840060064919,0.5391577823826066,0.16319377031189175,0.01585603048639981,0.00959236642426259,0.09879494889742395,0.16884372184766977,0.6420258202045837,0.4344610563052641,0.040970655038436374,0.07372227947316515,0.027572650284512883,0.04813488493686252,0.6558263478769615,0.4842558704662178,0.23351296309996883,0.029662200928327675,0.06441769733504467,0.01875525737102401,0.1414802016062718,-0.0009474509042028316,0.048254627764352825,0.005819956319343047,0.005116144277512787,0.6533238552997229,0.6831031663244603,0.6696285653065905,0.1683716238237568,0.3381508178724811,0.7041343288200388,0.6840881959373709,0.5141831319680579,0.5646820916002883,0.3203742801600719,0.26070883227168434,0.026782297175168442,0.032276515066608474,0.4187111885958464,0.6886509790039964,0.7343803042202551,0.5999749099924296,0.6662039728346969,0.9462309151233229,1.0,0.9558824326277588,0.7222744848976981,0.6125070859188639,0.4468026609774528,0.4813921818816068,0.23930188617832934,0.017479786594152835,0.013670737439680407],[0.7178100536907258,0.06878991166639119,-0.009848774751368182,-0.0019400135522154149,0.01731100741865035,0.03078886236994804,0.03359952086320383,0.13629792511830094,0.2852186638960213,0.4604273892118632,0.5220278053198049,0.7501689479243834,0.7925586872881755,0.5509914658182825,0.180854015833775,0.06161572922410447,0.6652714102635506,0.12793041177075837,0.0614753653933765,0.04205854120014664,0.23859993105435714,0.24317023947502936,0.6760853788087341,0.6648195703581038,0.5809871243383621,0.6099744086912624,0.12055043663867485,0.028122389779517032,0.04098099129350126,0.021518255442055448,0.14912410939387633,0.17794012291354813,0.05002681696579483,0.013347970220132243,0.21986467874925197,0.2162008978017413,0.27950949374872874,0.3422732622627017,0.6142677956655603,0.702055786346799,0.4186915107429253,0.00526383004661927,0.2385467633643248,0.3261145016785133,0.1994935112696543,0.17826732179713328,0.606355650569392,0.7837667560941971,0.18136333068707047,0.30265840139314887,0.05106332485765854,0.02970175277211026,0.7428210193404761,0.756636806287279,0.7334222194852018,0.7946939885668409,0.8419872566080818,0.8488489780313162,0.7932999928639326,0.6635538573548526,0.3792791167272469,0.40274673354254087,0.6624276248330917,0.2753528499784127,0.3108404576917637,0.2098191866411284,0.3215779724023446,0.6645689122960546,0.629554381019447,0.570607179970447,0.5203701608108848,-0.029473836087297953,-0.06958124636400695,-0.13660353843328077,-0.17878374526653026,-0.20581076379431412,-0.22796037295353755,-0.24021162632819418,-0.24855567598237813,0.22790894119543023,0.7197102892783016,0.6622159260254842,0.6622158953936704,0.7539221925370759,0.8158822967160412,0.4315394128886824,0.20450447975468256,0.18751864522220757,0.7601258480492823,null,0.3291621436051032,-0.0019434997445624007,0.27554791625509073,0.0010665171325333507,0.731071573241912,0.14825075044985295,0.46459181644157527,0.16050553520545827,0.3868207849146655,0.16969412141367068,0.37780925482477135,0.4415647966191138,0.5878744931877193,0.8771162254433706,0.7679226447757991,0.4362689079805559,0.33641978615594187,0.2233667151754734,0.1400556728600959,-0.0019347680716089498,0.11512011546889706,0.6622159080778467,0.08872054736885077,0.7385267039340342,0.5309177671703079,0.5032721559731426,0.5354331843808344,0.6524175440215163,0.8638020435983658,0.5044161805767565,0.15317369243241333,0.013361478233358688,0.009134724115329507,0.07666024109381142,0.14465354439576428,0.5976804830531159,0.4071034570910992,0.03925159711333069,0.06521005571705646,0.02910304344504819,0.05135846776464942,0.606954169045235,0.4204460478728021,0.21546390240291927,0.024499882672459415,0.056285406480487986,0.011549872258854762,0.12105719522340931,-0.001347984607171475,0.03562684018058223,-0.00022954569903841586,-0.0017802014775866314,0.6028425356377336,0.672620228577642,0.6675096833502958,0.13833807368271678,0.30824295639273575,0.6629911750145383,0.6425385972822938,0.48251569487464163,0.5241146963274005,0.2809210494650233,0.2318647022759146,0.008310186083883177,0.010062774776315396,0.3914532036079337,0.6262183868365692,0.6744904913564042,0.5424454254319345,0.5925116206370713,0.885432740110401,0.9558824326277588,1.0,0.7567366991229724,0.6074663787189868,0.4376815279687143,0.45951655975199945,0.22463759517602275,0.0058352293180696894,0.014528366896761182],[0.7272398520894088,0.07809139585904884,-0.011206391618647327,-0.0016666553183933186,0.039966641579506766,0.06700220166541539,0.02274034391245328,0.23381641404061346,0.4337936200855052,0.6126821340502846,0.5955215907078159,0.6938468014924837,0.6135996961136778,0.41483524931166327,0.13359811717841688,0.05794589412506946,0.629021110841199,0.07555688001502614,0.05120929017997373,0.04425345771512471,0.3616023689426748,0.3644493065550401,0.6548326554479806,0.6625911196210144,0.5787649636881378,0.5509374373469268,0.14789305333896255,0.03308830784698389,0.03233189875544785,0.034753494000709935,0.10041323913316601,0.16686584240594188,0.019017752310726804,0.0015738235877141877,0.0030023356512384755,0.021437016735774944,0.105009150440674,0.2231071906273688,0.46133644952677366,0.5940845392811271,0.5844000046831823,0.0120851976800543,0.25211031288638913,0.33117548325991486,0.1888610602562379,0.1227376409662531,0.5887972834212313,0.6902510399090521,0.14044310714809294,0.22525123846676753,0.057712677488410816,0.01214631715283462,0.5941443542107964,0.754656833181746,0.7487616803141033,0.7775408032447173,0.7751079794631976,0.7375572455689027,0.6773584610272353,0.5977843354421243,0.3862862949859786,0.3658034718944464,0.6530077198711807,0.34354777709849516,0.36553777753010314,0.22755946358526874,0.28255588075614085,0.6279808293215281,0.5723988094229103,0.5688220550759601,0.519106036153435,-0.0218530298438194,-0.05777669904763585,-0.1168288010220235,-0.1561718524220044,-0.18191600865063604,-0.20261398964081953,-0.21497952604320453,-0.22399406963923366,0.21413885466167443,0.7283049508022712,0.6538672627190194,0.6538672162930617,0.7344686368735069,0.7878370605367128,0.3985816396280021,0.20787824141752226,0.167571543692385,0.7334016002076829,null,0.3512796446118693,-0.0016693587523934983,0.25133010275652073,0.0013432162806852968,0.706361306977555,0.21945094499683723,0.4641629119129039,0.1743613186200393,0.482158415808615,0.2153596995035632,0.5250778687170533,0.5831257378412565,0.6600387173609759,0.7471545776092724,0.6065016818673683,0.32637365517901035,0.26303680674262864,0.21056342368879533,0.12314725586568624,-0.0016626525681446903,0.10720899071785474,0.653867241714306,0.17528457177113146,0.6013768651686782,0.43930636418376,0.47453657832833157,0.5148946428180347,0.6060742390044578,0.774059413751677,0.4077306758842716,0.13437860329801884,0.011216513791820122,0.012604920322507549,0.06358810239151244,0.16648870057519563,0.6228593030321055,0.5270416558831494,0.06324469837904581,0.05380184148904043,0.018547828407195318,0.03219018450960996,0.6206080835164941,0.4255388203447689,0.2749432537189317,0.04749938785477606,0.09959976383166973,0.006976911596960562,0.18685195018066802,-0.0005219023131530547,0.02603312573833454,-0.004651728531455729,-0.0066441306410125025,0.5360438958270123,0.6838182301391503,0.6855034221233601,0.17932685686126235,0.3007524192973753,0.6596811343005952,0.6448009000216044,0.40940263274796124,0.4611246583267414,0.2901586139012696,0.1688492110419058,0.05860516259422104,0.025420465720974453,0.4657385687247398,0.5872645863018344,0.6018894551871109,0.5337591006696325,0.4507876680588451,0.6902997044640006,0.7222744848976981,0.7567366991229724,1.0,0.702809309956434,0.3798916969543902,0.4069198992164606,0.190667106315979,0.050270047428340625,0.01866270148452803],[0.726983787257448,0.04871674536642759,-0.021430427410028364,-0.0013982197192311011,0.08588442911829496,0.13231878227050997,0.011185413504048516,0.1986461838836342,0.38550042799194983,0.620278407904783,0.6864236342292929,0.7172266171077938,0.4931065333690667,0.30931396543989476,0.11643827756285807,0.05569683025315356,0.6213973601540329,0.04723737833365833,0.03304202981421215,0.01894905933105254,0.4272541015254492,0.4285991392650512,0.6425451063093662,0.6611200420047282,0.5696199385533108,0.5027316776928462,0.15852899717020336,0.0624717541799455,0.024575066630858226,0.025650740443974165,0.0843833740486543,0.21836687099161853,0.003214662799865727,-0.002389670667941096,-0.0028317812002804413,0.0071071333113381435,0.07156456587293909,0.1759895178572765,0.329240093867925,0.5904187355438485,0.6364179679075139,0.014395743781464217,0.24849144744482551,0.31234249522363755,0.1794466896610251,0.08279247602364803,0.5089613266761386,0.6770615312663134,0.25083942692901695,0.2646214696489676,0.0956951789880827,-0.00016344511651897583,0.5422975920455168,0.7445223303774964,0.7747694466215932,0.7699965129200984,0.730128382455675,0.6504660434939359,0.5680862410586869,0.5191386660655491,0.41806584282257686,0.4537202087699978,0.644316302775182,0.40238852279370385,0.4713890649362233,0.35097349214038315,0.2445338184882303,0.6208019194726017,0.5438973201919564,0.5772070685774839,0.49497824897208703,-0.019704974935193402,-0.05449734318648354,-0.11727098864974118,-0.16335590483160994,-0.19457035904793488,-0.21763847677187795,-0.2318178127651238,-0.24100855075963165,0.19234033112034105,0.7278602588582833,0.6448349292325691,0.6448348821971248,0.7094726356009105,0.7373306126462877,0.29337354300172463,0.17512692866132204,0.15043961252663088,0.701102009892241,null,0.38207376563850065,-0.00139973935879101,0.2527545255138387,0.0010228662698401425,0.67270248749971,0.16513769517883242,0.4712771165596529,0.16393462979324686,0.5607098920437036,0.20484637416688237,0.5033013460592913,0.6499028381434775,0.7187730183998554,0.6837122950819098,0.5038897943910965,0.2951182448260223,0.31319580859633434,0.29771243635619293,0.15134277281253344,-0.0013913539614233473,0.12298814289365896,0.6448349064879062,0.12589828702520256,0.5654863854039682,0.41047299648479424,0.44078268557060346,0.4989214906117457,0.5412263602029403,0.746476018156129,0.4089528957331965,0.14118518635934232,0.014663041596086739,0.06713115343370187,0.04052948261575503,0.15952080489536188,0.6512478381337802,0.6612446373812516,0.048428858747195505,0.03795871031400034,0.04486758441445087,0.02925505391252308,0.6238650215162833,0.42291050520909224,0.2544515903886802,0.03031733406914927,0.08196994855094823,0.0054181972809576985,0.16488869082732763,-0.0012820076322477023,0.08087498728264297,-0.0024432404598727104,-0.004160675282669782,0.49783210417194235,0.5197763925021901,0.5355078962020022,0.21297230267557307,0.4367495362467869,0.5971711389000595,0.5980516230624467,0.32491610645383545,0.35313521687312943,0.49844127535221194,0.25499381249090364,0.01944364755653344,0.028789403954905438,0.43126914256640625,0.5792440485304803,0.5803551055684476,0.5172042600106588,0.37551570940280615,0.5827902763926628,0.6125070859188639,0.6074663787189868,0.702809309956434,1.0,0.5459289466560331,0.37387072138941213,0.16379224416159677,0.008461415856245628,0.033090919492758435],[0.6062324677283591,0.023866946233041118,-0.029416587973787454,-0.0008288826899844143,0.05235734891726021,0.07030647891102411,0.00030726630924692103,0.04418559667126284,0.18299039830469577,0.50556478844027,0.7373126814674714,0.6869585128793871,0.3094811878245639,0.15847186987973336,0.09754115620880022,0.052266633587159106,0.5160104502047616,0.01956755737603309,0.007719228752017095,0.005588072568527453,0.36359511285423673,0.3615110139912698,0.5270533799681512,0.5510407347668477,0.4607669240551613,0.3681750309270305,0.211695640373859,0.059616077843249106,0.010710740537311388,0.02487061394613488,0.069039703647439,0.19074657466211337,-0.0021930014220054037,-0.002477897262125936,-0.0032220204429818456,-7.987510033212458e-06,0.027200506244016997,0.07158598544123355,0.16485653610236944,0.5875653367190448,0.5566452173041996,0.005105007326428669,0.18886482358008735,0.22149091156176506,0.13810255678284472,0.05160715482394085,0.38324151431499603,0.6075271827873233,0.2141804427638811,0.27497458569562283,0.04472253650956128,-0.0013411137512759157,0.4147952135899171,0.6822137727641174,0.7774370964776769,0.7056767432313898,0.5947893145832878,0.45541099805584084,0.3433356152540342,0.3667046689646347,0.4115330332804091,0.5465565303895256,0.5265647134755952,0.31795460428686456,0.41199073036863887,0.34402957709226234,0.2107141014980174,0.5159896122529098,0.45486902991704387,0.49953049799615934,0.3698948478104876,-0.00590308920268066,-0.03263365246236452,-0.08107287650524006,-0.11770452179707622,-0.1445703276992693,-0.16668935549663813,-0.18102060152889388,-0.1904686739048102,0.1342493899858768,0.6062956591189667,0.5274433879697402,0.527443349855545,0.5599974731176389,0.5374081376226039,0.1483477110434131,0.09616661441152125,0.10147411916828976,0.545012350720941,null,0.3773799890034747,-0.000830113197131506,0.26267416639873614,0.012723173396481503,0.5334971829880707,0.0767681113756471,0.3690283072972184,0.09451668049363027,0.4696771684359768,0.0814966050761738,0.3532138620842025,0.6283889429146894,0.7171914266680351,0.5444201566062173,0.3532621233423077,0.2708000752800423,0.34469995225712785,0.3089348109626973,0.11501871225117842,-0.0008210307140068621,0.12416378993424926,0.5274433706619225,0.15488977518721508,0.5107865816577548,0.36655911744970426,0.3638503004060981,0.3959442762531362,0.3977967996657535,0.6524872542857052,0.41151198107786724,0.1744927204554211,0.03451917095985813,0.008229341084483475,0.02892844583127595,0.10686350218285806,0.5495914902720309,0.5649454742722958,0.04993494264834227,0.029181614132805813,0.01007298094185805,0.11492327390993347,0.5233266671566612,0.3671728892114564,0.203925463110964,0.012435905220878006,0.03898717137405861,0.0141563955927812,0.10422546314354196,-0.0010764722805477406,0.054760391645886544,-0.0017415566879467592,-0.003340442875306337,0.38822366968703725,0.2836076362950766,0.30809180771413314,0.24260861828028735,0.5332697177508793,0.49144402826892286,0.5087748039436498,0.15669620301615858,0.17942552523901953,0.5647835059461228,0.3371190448350713,0.004603407372166546,0.007234232795078705,0.422007928232354,0.5072841488633351,0.4764272552354733,0.40810743594144616,0.2961947732036373,0.45483345459780045,0.4468026609774528,0.4376815279687143,0.3798916969543902,0.5459289466560331,1.0,0.22493799133214784,0.06147795343325236,-0.0007150325558174471,0.0027083288270563608],[0.4717071199657986,0.039368862210817396,0.016907600023874828,-0.0021613145176476232,-0.010850219136027486,-0.013975774954945223,-0.0008231796968140864,0.004877721064849138,0.009465820221016372,0.021151224379240694,0.05639937439282769,0.33079520126615647,0.6093389875437363,0.47328358473433707,0.07998592899802055,0.03981736475118551,0.4033598446428348,0.06656210162330517,0.0367254414040093,0.021078332429910144,0.010323717590922394,0.010191835412689608,0.4076693528432281,0.39503104939966,0.2896434825926141,0.3423662301578995,-0.0064786861415840535,0.0007797536316376658,-0.0017947830135472327,-0.0016551393388423838,0.02012651666705808,0.017196470246265673,-0.0015767795288078622,-0.003111072393733976,-0.003527261252403003,0.004487971551624095,0.11643442321584646,0.29694213101289213,0.5271504632192587,0.33107198885831146,0.10991788274685851,-0.0025446187515134008,0.08593574126836195,0.16543645292138065,0.10880335868309673,0.09007935049534332,0.40420146520488015,0.39293564775199447,-0.001548498875936646,-0.0023745224356487935,-0.007954098275931938,0.0006282287295456071,0.3762944925916633,0.35632992751723247,0.3400439535820788,0.42568277844585556,0.5120818638170597,0.5967763782611326,0.6626253958058278,0.5062733525834882,0.18234820783670636,0.05082698117582249,0.3745786637426793,0.04259962355117551,0.07470704527679647,0.031000607778328696,0.24892511063037528,0.4037949873787995,0.35589997061669926,0.29481296034627097,0.248050557245992,-0.07585740336524645,-0.09305271017421034,-0.12812535662794983,-0.14614507106267305,-0.1528995996564854,-0.15771019874750278,-0.15677247633588362,-0.15603064756238802,0.11663515064313712,0.4729646009083772,0.3754747833468304,0.37547475549399606,0.4395068557291391,0.551284048904974,0.48068220803787765,0.18301635102764005,0.14349174441461474,0.45076919209209165,null,0.12319484989457838,-0.0021643771040192267,0.08744484810520788,-0.003946297258389533,0.4474465581945174,-0.013703540363004299,0.22429372727645636,0.07253456306981872,0.029286471465593926,0.007803991531962205,0.013512935657106578,0.03519576454301774,0.19120887799502737,0.521394484196773,0.5387040699663516,0.23851226520591232,0.07896754760895099,0.05724836664574754,0.18756802944819284,-0.002152055911077487,0.06971675809437893,0.37547476687238895,0.09959512561601175,0.3490265208553921,0.25489946896751975,0.19161890783159896,0.22351508255811597,0.32143320803721137,0.4954897318531929,0.32032346364974035,0.06655601418732172,2.58185022093535e-06,-0.00034290816150760043,0.04664079975095936,0.03295087808564264,0.31731360096849437,0.056378708836370646,0.022752585362890595,0.02690034385331146,0.0025866687954637967,0.08096547778296112,0.311065786122698,0.18451999011404036,0.04568730989491815,-0.005802173238202707,-0.005808926235007216,-0.0015190439530292444,-0.016085809619033706,-0.0033883488251253866,-0.006588756380621934,-0.008858944662764738,-0.01010775330719429,0.3304501982451013,0.6574269213369671,0.6166943655543113,0.01639152521013481,0.039522868836447934,0.42225188263233737,0.4397216291270972,0.23723036059941702,0.38838519631142937,0.008323298266480195,0.029882306888691756,-0.006156852281269098,-0.00886001916262477,0.29766524231588626,0.33538722154755657,0.3953542155719773,0.21619294811614947,0.286716858708318,0.45381127794099796,0.4813921818816068,0.45951655975199945,0.4069198992164606,0.37387072138941213,0.22493799133214784,1.0,0.7100556465385489,-0.006991411938798748,-0.0028331472232784476],[0.24803934066157704,0.0741188175202807,0.024354162582363913,-0.001049773732621968,-0.008205896403626402,-0.010236750791104605,-0.0012302084873795313,-0.004309467352999852,-0.009498150215512705,-0.01931051617777928,-0.017568502560399463,0.12258202406786774,0.3472799424109615,0.2989928648068237,0.04921768586135645,0.025279862985822726,0.20040893827005846,0.047594852258378485,0.017876570555667035,0.0100763849324915,-0.017996467459233847,-0.017952512024285574,0.1999409180931105,0.1918485597322928,0.13079574328573132,0.16972787953492313,-0.016556100308451387,-0.0019738345118843347,-0.0029727325110242868,-0.002527695915052565,0.009239857337636475,0.003630521287188329,-0.003795114076352826,-0.0027744204898457222,-0.003225886405240864,-0.0014063271607871444,0.05383407198102346,0.1461619490531448,0.29327608449576414,0.18110968476062067,0.008919853632309007,-0.0020771315170907334,0.04284562625336392,0.0925453748883773,0.054194212104759235,0.04695457359898837,0.22899824686945172,0.1786254775601012,-0.013259210061801002,-0.010593461488867644,-0.0073238289710273585,0.0003362357468375239,0.1909483838655217,0.16038746215940933,0.14228116749227104,0.19766396326044464,0.2573947118102376,0.31278194481635335,0.3769940841913635,0.3095955438498367,0.10234623756788817,-0.0017061365318851998,0.17929955876008769,0.010144858059931736,0.02279790336937883,0.0004811011942018279,0.13204164304546503,0.20069214056601287,0.17212666552272912,0.12686794874151208,0.1173312297576451,-0.051337216099446956,-0.0618156731688071,-0.08038206264111863,-0.08943956825580551,-0.09181366627464452,-0.09265110541236014,-0.09089441621774454,-0.08956048738378046,0.06111677239711946,0.24845574685084992,0.1799861237200127,0.17998610968054268,0.21752838551570333,0.29149335629453355,0.28390841873746153,0.08931052536650218,0.08326999182077156,0.22518092473756562,null,0.06520538802148254,-0.0010517959130978162,0.03059243770545868,-0.0030896348019172092,0.23058903880492948,-0.014368939808769224,0.10958443742148553,0.02650519545870848,-0.016296597379502203,-0.0004928621107278963,-0.014747899473976167,-0.020952362851985134,0.042654427072330525,0.25605556635750476,0.31534050615287484,0.1482424317617389,0.03394340668093256,0.01198620876925531,0.04759477116344497,-0.001043858333434834,0.04253469548240116,0.17998611557862132,0.009249535154186696,0.17232759291611918,0.12425879135483979,0.09090201181809522,0.10933505563129584,0.1585913633525635,0.24207204242744057,0.18625781323044002,0.02885611258016062,-0.000664460503720594,-0.0007240166181474066,0.029600986544296687,0.009906867395578525,0.11831800796874443,-0.02194638003036365,0.040107052473870544,0.011871788377373719,-0.0020736263837232687,0.05473888943975321,0.11849708435131885,0.08427088298231131,0.01752138896673062,-0.003956613777975749,-0.005362750808263505,-0.001433070550336919,-0.01322214172934835,-0.0017717450674410698,-0.005616201220601036,-0.00489600815233317,-0.005461368368827614,0.16207696704230973,0.3706878462531363,0.3320682392996585,-0.007687703777016814,-0.012720413563359245,0.20241351153256396,0.22155224457178352,0.11122677823463989,0.19833460370087924,-0.02607630079470236,-0.009438163537395393,-0.0033069243694355435,-0.00491663531386778,0.13953349119023806,0.15562254655432473,0.18809618152660304,0.10244181241433137,0.1456632200254165,0.22824790515780036,0.23930188617832934,0.22463759517602275,0.190667106315979,0.16379224416159677,0.06147795343325236,0.7100556465385489,1.0,-0.003941620137745481,-0.0009070108968498706],[0.019864516922959766,0.05558956066293006,-0.006570760917771935,-0.00010223775613193052,0.07088606855332051,0.10628114083892531,-7.165494758300675e-05,0.0028746119372746832,0.011823605439436299,0.02055985002853435,0.021319255142586712,0.015369899216123483,-0.0022948699437244703,-0.0057369916189734,-0.002236351309455559,-0.0005341412744448631,0.016432158168108574,-0.0008442621601019185,-0.0003443586467877613,-0.0002337690653886235,0.020660208562346877,0.02139598186454039,0.015968659815028274,0.020858761288773647,0.020997611269845104,0.011362586863929021,0.017095723191578115,-0.00012843882242851045,-0.0007721016067228212,-0.00024791902415094056,0.006182099574666813,0.04924777036159264,-0.0004513052915070391,-0.00031202376024788405,-0.00046181941342338204,-0.0006126495046564829,-0.0005253987226810121,-0.0016822557456277563,-0.00722198322530463,0.010874386952388886,0.016102992257454304,-0.00022938765388026713,0.004713073466353121,0.0077480565712973294,0.0029767460586332295,-0.0022583669806773986,0.004137101749733433,0.010364166588767168,0.007535287940014309,0.015475355723906715,0.007427706149430811,-0.0002640181873047529,0.005242997749555752,0.026284439199489786,0.01461538810956376,0.004807677742934719,0.0011903345616391182,-0.001795618261120244,-0.0032082141245863747,-0.0009245119459583944,0.008031675458916409,0.009772089059478519,0.01822123096425608,0.040584378747993186,0.03769118059926114,0.03138759743334848,0.007139682692211321,0.016429127883638917,0.01268063502734213,0.030116117242415662,0.013212448584417927,0.00628217738436025,0.0018310010583000554,-0.0024488819318736685,-0.007455017771887991,-0.011346595755139289,-0.014368692005430351,-0.01760695144403226,-0.018283827368457,0.00884839912427676,0.019850853412124447,0.01821855180769893,0.018218547980554684,0.015361148234631136,0.007017598694689807,0.0005467641461574534,-0.004720080446349071,-0.001976756929462626,0.012588012270009153,null,0.01822119944794647,-0.00010247758507009192,-0.0008568258617219929,-0.00032404704869191443,0.018238315979889366,0.006671204091724542,0.009797728910876461,-0.0006566191783065052,0.012943026278155747,0.013094163477145197,0.017560021058242437,0.026196721265489328,0.023688661209581227,0.007431724854876351,-0.0018569728069514433,-0.0007421621808060309,0.003174742872487908,0.0012140493473820299,4.078047907021915e-05,-0.00010250271172831222,0.003931972249420467,0.01821854991250975,-0.001063966780577099,0.009658365209521892,0.017630552031075598,0.006527148547462104,0.004376651703627678,0.0037140135840694265,0.014409543587065412,-0.0013596106082823275,-0.00022992454328572056,-0.00014423049936219257,-0.00021802002036864525,0.005595094478711123,0.014006879585735113,0.003932196750954297,0.033536239019288254,0.00022333563311705982,0.001843601541233699,-0.0008995339877693486,-0.004827981454973425,0.009581452060030138,0.01546856019941676,0.023267132999928383,-0.00039475214497036726,-0.0004972447759748435,-0.00015574264199252078,0.011459544034933399,-0.0001799803792938038,-0.00016569688402080985,-0.0005386696277185122,-0.0005903444929506696,0.011234436589687063,0.001119297792597225,0.0022854530679992987,0.023283731217190778,0.027409458126647544,0.018665525765110748,0.0143550688139384,0.012503911041995913,0.01158917769195419,0.04533170843650902,0.017080005282941516,0.1536063856463454,0.08288761967721764,0.0030331460191679303,0.0017219742377081785,0.0025518413228416033,0.004503966483771106,0.0024445965973414817,0.007118125205541713,0.017479786594152835,0.0058352293180696894,0.050270047428340625,0.008461415856245628,-0.0007150325558174471,-0.006991411938798748,-0.003941620137745481,1.0,0.28218431601446103],[0.03709896010494201,0.16294840565455299,0.014227881746132761,-0.00011956744824575046,0.04171456335436471,0.0607102317406432,0.0002441860759371715,0.01093043370765995,0.034202011768696604,0.024209911967089513,0.023717781961433777,0.014210085019118399,-0.0002639731426475595,-0.0010686660631246485,0.0006499706171926203,-7.104811729613315e-05,0.025879733098116604,-0.0005663796615568403,-0.0003354193524021606,-0.0002969531039321911,0.04184920411353137,0.044733886794723884,0.026594551456077857,0.03759789977703046,0.03934203187310156,0.025261188098733366,0.024928230521903638,-0.00015574748228334005,-8.256533039479722e-05,-0.00030063156210533075,0.0112206810879405,0.0515130889554544,-0.0005234872578301214,-0.00036169365998381457,-0.0005336653016213644,-0.000706129334449007,-0.0005904868621023715,0.00010171381630054984,0.0021704514754473728,0.01342870792049415,0.011011022897992809,-0.0002534702169801808,0.001980408787825921,0.0035177248417436833,0.0010705578571083862,-0.0032828341703310207,-0.00770629145311374,0.018028438630897196,0.017994516363967192,0.042750697668650285,0.00873993268835065,-0.0002985729458575576,0.009484799318044284,0.019848825714090836,0.012972810796580386,0.009796753632172498,0.007050390396043883,0.002701325664960617,0.0009903020011733667,0.014781432476317975,0.0079124461403235,0.01600463293082823,0.03178859740899052,0.025108403055145976,0.030667525780156777,0.026628519296972398,-0.0017312886410172667,0.025875848033916182,0.021108220521883627,0.0548264480104838,0.026530534392232234,0.007292135845540001,0.0008392777449015425,-0.0045693625047723355,-0.007909713968790977,-0.013091275566070634,-0.015630986219917327,-0.018848209727942152,-0.021552862081593033,0.023560761512993644,0.037085695693845046,0.03178468816009606,0.03178468146024086,0.022941095978808265,0.017391472301972088,-0.0031010582531367605,0.0058595222879320626,0.008402614483747479,0.018198321659083992,null,0.028514373067122328,-0.00011976017202901867,0.0007357377799204344,-0.0003786896353914761,0.0339922100625003,0.018172249023618667,0.027067178485335006,-0.00010942519986585204,0.03689916342036038,0.0413903708694562,0.02119703744158426,0.020509658742417492,0.016905606881276757,0.008732647001023337,0.00465318848814138,0.0073334700470378215,0.00977310137359753,0.003267842463617356,0.0006410299621217259,-0.00011970822297910274,0.001569615649599114,0.03178468533774998,-0.0011963291271264295,0.01320947448630519,0.010244977990097952,0.005938978078696699,0.011372425589794892,0.0031420374522903817,0.012417171263161077,0.020345141229169753,0.007979747699982094,0.00019865421878466864,-0.0002468370623229018,0.000976257496313873,0.00588324183333872,0.009929980772698396,0.014656011529961429,4.2227391642255424e-05,0.000297340355166263,-0.0009333543993079958,-0.0031857953770888354,0.008147097366385275,0.012852211005065815,0.05775799880380484,-0.0003803343340397863,-0.00038034422627476695,-0.0001619393657384569,0.03482232725965313,-0.00017399068223207658,0.005058333180810523,-0.0006275320259236534,-0.0006877315094382737,0.02069786469046321,0.01858452198971797,0.027145477289520648,0.004730082364322146,0.06138085231843908,0.03076043704121421,0.029100116834492526,0.025639249016948164,0.015151223841213823,0.06812698263407027,0.031578418763127926,0.13371548010032416,0.2108413845988683,0.017568687012742838,0.01458515680028572,0.01738336226356209,0.009612535242360741,0.002807917445656033,0.008842696027267937,0.013670737439680407,0.014528366896761182,0.01866270148452803,0.033090919492758435,0.0027083288270563608,-0.0028331472232784476,-0.0009070108968498706,0.28218431601446103,1.0]],\"type\":\"heatmap\"}],                        {\"template\":{\"data\":{\"barpolar\":[{\"marker\":{\"line\":{\"color\":\"#E5ECF6\",\"width\":0.5},\"pattern\":{\"fillmode\":\"overlay\",\"size\":10,\"solidity\":0.2}},\"type\":\"barpolar\"}],\"bar\":[{\"error_x\":{\"color\":\"#2a3f5f\"},\"error_y\":{\"color\":\"#2a3f5f\"},\"marker\":{\"line\":{\"color\":\"#E5ECF6\",\"width\":0.5},\"pattern\":{\"fillmode\":\"overlay\",\"size\":10,\"solidity\":0.2}},\"type\":\"bar\"}],\"carpet\":[{\"aaxis\":{\"endlinecolor\":\"#2a3f5f\",\"gridcolor\":\"white\",\"linecolor\":\"white\",\"minorgridcolor\":\"white\",\"startlinecolor\":\"#2a3f5f\"},\"baxis\":{\"endlinecolor\":\"#2a3f5f\",\"gridcolor\":\"white\",\"linecolor\":\"white\",\"minorgridcolor\":\"white\",\"startlinecolor\":\"#2a3f5f\"},\"type\":\"carpet\"}],\"choropleth\":[{\"colorbar\":{\"outlinewidth\":0,\"ticks\":\"\"},\"type\":\"choropleth\"}],\"contourcarpet\":[{\"colorbar\":{\"outlinewidth\":0,\"ticks\":\"\"},\"type\":\"contourcarpet\"}],\"contour\":[{\"colorbar\":{\"outlinewidth\":0,\"ticks\":\"\"},\"colorscale\":[[0.0,\"#0d0887\"],[0.1111111111111111,\"#46039f\"],[0.2222222222222222,\"#7201a8\"],[0.3333333333333333,\"#9c179e\"],[0.4444444444444444,\"#bd3786\"],[0.5555555555555556,\"#d8576b\"],[0.6666666666666666,\"#ed7953\"],[0.7777777777777778,\"#fb9f3a\"],[0.8888888888888888,\"#fdca26\"],[1.0,\"#f0f921\"]],\"type\":\"contour\"}],\"heatmapgl\":[{\"colorbar\":{\"outlinewidth\":0,\"ticks\":\"\"},\"colorscale\":[[0.0,\"#0d0887\"],[0.1111111111111111,\"#46039f\"],[0.2222222222222222,\"#7201a8\"],[0.3333333333333333,\"#9c179e\"],[0.4444444444444444,\"#bd3786\"],[0.5555555555555556,\"#d8576b\"],[0.6666666666666666,\"#ed7953\"],[0.7777777777777778,\"#fb9f3a\"],[0.8888888888888888,\"#fdca26\"],[1.0,\"#f0f921\"]],\"type\":\"heatmapgl\"}],\"heatmap\":[{\"colorbar\":{\"outlinewidth\":0,\"ticks\":\"\"},\"colorscale\":[[0.0,\"#0d0887\"],[0.1111111111111111,\"#46039f\"],[0.2222222222222222,\"#7201a8\"],[0.3333333333333333,\"#9c179e\"],[0.4444444444444444,\"#bd3786\"],[0.5555555555555556,\"#d8576b\"],[0.6666666666666666,\"#ed7953\"],[0.7777777777777778,\"#fb9f3a\"],[0.8888888888888888,\"#fdca26\"],[1.0,\"#f0f921\"]],\"type\":\"heatmap\"}],\"histogram2dcontour\":[{\"colorbar\":{\"outlinewidth\":0,\"ticks\":\"\"},\"colorscale\":[[0.0,\"#0d0887\"],[0.1111111111111111,\"#46039f\"],[0.2222222222222222,\"#7201a8\"],[0.3333333333333333,\"#9c179e\"],[0.4444444444444444,\"#bd3786\"],[0.5555555555555556,\"#d8576b\"],[0.6666666666666666,\"#ed7953\"],[0.7777777777777778,\"#fb9f3a\"],[0.8888888888888888,\"#fdca26\"],[1.0,\"#f0f921\"]],\"type\":\"histogram2dcontour\"}],\"histogram2d\":[{\"colorbar\":{\"outlinewidth\":0,\"ticks\":\"\"},\"colorscale\":[[0.0,\"#0d0887\"],[0.1111111111111111,\"#46039f\"],[0.2222222222222222,\"#7201a8\"],[0.3333333333333333,\"#9c179e\"],[0.4444444444444444,\"#bd3786\"],[0.5555555555555556,\"#d8576b\"],[0.6666666666666666,\"#ed7953\"],[0.7777777777777778,\"#fb9f3a\"],[0.8888888888888888,\"#fdca26\"],[1.0,\"#f0f921\"]],\"type\":\"histogram2d\"}],\"histogram\":[{\"marker\":{\"pattern\":{\"fillmode\":\"overlay\",\"size\":10,\"solidity\":0.2}},\"type\":\"histogram\"}],\"mesh3d\":[{\"colorbar\":{\"outlinewidth\":0,\"ticks\":\"\"},\"type\":\"mesh3d\"}],\"parcoords\":[{\"line\":{\"colorbar\":{\"outlinewidth\":0,\"ticks\":\"\"}},\"type\":\"parcoords\"}],\"pie\":[{\"automargin\":true,\"type\":\"pie\"}],\"scatter3d\":[{\"line\":{\"colorbar\":{\"outlinewidth\":0,\"ticks\":\"\"}},\"marker\":{\"colorbar\":{\"outlinewidth\":0,\"ticks\":\"\"}},\"type\":\"scatter3d\"}],\"scattercarpet\":[{\"marker\":{\"colorbar\":{\"outlinewidth\":0,\"ticks\":\"\"}},\"type\":\"scattercarpet\"}],\"scattergeo\":[{\"marker\":{\"colorbar\":{\"outlinewidth\":0,\"ticks\":\"\"}},\"type\":\"scattergeo\"}],\"scattergl\":[{\"marker\":{\"colorbar\":{\"outlinewidth\":0,\"ticks\":\"\"}},\"type\":\"scattergl\"}],\"scattermapbox\":[{\"marker\":{\"colorbar\":{\"outlinewidth\":0,\"ticks\":\"\"}},\"type\":\"scattermapbox\"}],\"scatterpolargl\":[{\"marker\":{\"colorbar\":{\"outlinewidth\":0,\"ticks\":\"\"}},\"type\":\"scatterpolargl\"}],\"scatterpolar\":[{\"marker\":{\"colorbar\":{\"outlinewidth\":0,\"ticks\":\"\"}},\"type\":\"scatterpolar\"}],\"scatter\":[{\"marker\":{\"colorbar\":{\"outlinewidth\":0,\"ticks\":\"\"}},\"type\":\"scatter\"}],\"scatterternary\":[{\"marker\":{\"colorbar\":{\"outlinewidth\":0,\"ticks\":\"\"}},\"type\":\"scatterternary\"}],\"surface\":[{\"colorbar\":{\"outlinewidth\":0,\"ticks\":\"\"},\"colorscale\":[[0.0,\"#0d0887\"],[0.1111111111111111,\"#46039f\"],[0.2222222222222222,\"#7201a8\"],[0.3333333333333333,\"#9c179e\"],[0.4444444444444444,\"#bd3786\"],[0.5555555555555556,\"#d8576b\"],[0.6666666666666666,\"#ed7953\"],[0.7777777777777778,\"#fb9f3a\"],[0.8888888888888888,\"#fdca26\"],[1.0,\"#f0f921\"]],\"type\":\"surface\"}],\"table\":[{\"cells\":{\"fill\":{\"color\":\"#EBF0F8\"},\"line\":{\"color\":\"white\"}},\"header\":{\"fill\":{\"color\":\"#C8D4E3\"},\"line\":{\"color\":\"white\"}},\"type\":\"table\"}]},\"layout\":{\"annotationdefaults\":{\"arrowcolor\":\"#2a3f5f\",\"arrowhead\":0,\"arrowwidth\":1},\"autotypenumbers\":\"strict\",\"coloraxis\":{\"colorbar\":{\"outlinewidth\":0,\"ticks\":\"\"}},\"colorscale\":{\"diverging\":[[0,\"#8e0152\"],[0.1,\"#c51b7d\"],[0.2,\"#de77ae\"],[0.3,\"#f1b6da\"],[0.4,\"#fde0ef\"],[0.5,\"#f7f7f7\"],[0.6,\"#e6f5d0\"],[0.7,\"#b8e186\"],[0.8,\"#7fbc41\"],[0.9,\"#4d9221\"],[1,\"#276419\"]],\"sequential\":[[0.0,\"#0d0887\"],[0.1111111111111111,\"#46039f\"],[0.2222222222222222,\"#7201a8\"],[0.3333333333333333,\"#9c179e\"],[0.4444444444444444,\"#bd3786\"],[0.5555555555555556,\"#d8576b\"],[0.6666666666666666,\"#ed7953\"],[0.7777777777777778,\"#fb9f3a\"],[0.8888888888888888,\"#fdca26\"],[1.0,\"#f0f921\"]],\"sequentialminus\":[[0.0,\"#0d0887\"],[0.1111111111111111,\"#46039f\"],[0.2222222222222222,\"#7201a8\"],[0.3333333333333333,\"#9c179e\"],[0.4444444444444444,\"#bd3786\"],[0.5555555555555556,\"#d8576b\"],[0.6666666666666666,\"#ed7953\"],[0.7777777777777778,\"#fb9f3a\"],[0.8888888888888888,\"#fdca26\"],[1.0,\"#f0f921\"]]},\"colorway\":[\"#636efa\",\"#EF553B\",\"#00cc96\",\"#ab63fa\",\"#FFA15A\",\"#19d3f3\",\"#FF6692\",\"#B6E880\",\"#FF97FF\",\"#FECB52\"],\"font\":{\"color\":\"#2a3f5f\"},\"geo\":{\"bgcolor\":\"white\",\"lakecolor\":\"white\",\"landcolor\":\"#E5ECF6\",\"showlakes\":true,\"showland\":true,\"subunitcolor\":\"white\"},\"hoverlabel\":{\"align\":\"left\"},\"hovermode\":\"closest\",\"mapbox\":{\"style\":\"light\"},\"paper_bgcolor\":\"white\",\"plot_bgcolor\":\"#E5ECF6\",\"polar\":{\"angularaxis\":{\"gridcolor\":\"white\",\"linecolor\":\"white\",\"ticks\":\"\"},\"bgcolor\":\"#E5ECF6\",\"radialaxis\":{\"gridcolor\":\"white\",\"linecolor\":\"white\",\"ticks\":\"\"}},\"scene\":{\"xaxis\":{\"backgroundcolor\":\"#E5ECF6\",\"gridcolor\":\"white\",\"gridwidth\":2,\"linecolor\":\"white\",\"showbackground\":true,\"ticks\":\"\",\"zerolinecolor\":\"white\"},\"yaxis\":{\"backgroundcolor\":\"#E5ECF6\",\"gridcolor\":\"white\",\"gridwidth\":2,\"linecolor\":\"white\",\"showbackground\":true,\"ticks\":\"\",\"zerolinecolor\":\"white\"},\"zaxis\":{\"backgroundcolor\":\"#E5ECF6\",\"gridcolor\":\"white\",\"gridwidth\":2,\"linecolor\":\"white\",\"showbackground\":true,\"ticks\":\"\",\"zerolinecolor\":\"white\"}},\"shapedefaults\":{\"line\":{\"color\":\"#2a3f5f\"}},\"ternary\":{\"aaxis\":{\"gridcolor\":\"white\",\"linecolor\":\"white\",\"ticks\":\"\"},\"baxis\":{\"gridcolor\":\"white\",\"linecolor\":\"white\",\"ticks\":\"\"},\"bgcolor\":\"#E5ECF6\",\"caxis\":{\"gridcolor\":\"white\",\"linecolor\":\"white\",\"ticks\":\"\"}},\"title\":{\"x\":0.05},\"xaxis\":{\"automargin\":true,\"gridcolor\":\"white\",\"linecolor\":\"white\",\"ticks\":\"\",\"title\":{\"standoff\":15},\"zerolinecolor\":\"white\",\"zerolinewidth\":2},\"yaxis\":{\"automargin\":true,\"gridcolor\":\"white\",\"linecolor\":\"white\",\"ticks\":\"\",\"title\":{\"standoff\":15},\"zerolinecolor\":\"white\",\"zerolinewidth\":2}}},\"title\":{\"text\":\"Feature Correlations\"}},                        {\"responsive\": true}                    ).then(function(){\n",
       "                            \n",
       "var gd = document.getElementById('03a8f930-cc72-4e13-bcbc-eaf7dd411c95');\n",
       "var x = new MutationObserver(function (mutations, observer) {{\n",
       "        var display = window.getComputedStyle(gd).display;\n",
       "        if (!display || display === 'none') {{\n",
       "            console.log([gd, 'removed!']);\n",
       "            Plotly.purge(gd);\n",
       "            observer.disconnect();\n",
       "        }}\n",
       "}});\n",
       "\n",
       "// Listen for the removal of the full notebook cells\n",
       "var notebookContainer = gd.closest('#notebook-container');\n",
       "if (notebookContainer) {{\n",
       "    x.observe(notebookContainer, {childList: true});\n",
       "}}\n",
       "\n",
       "// Listen for the clearing of the current output cell\n",
       "var outputEl = gd.closest('.output');\n",
       "if (outputEl) {{\n",
       "    x.observe(outputEl, {childList: true});\n",
       "}}\n",
       "\n",
       "                        })                };                            </script>        </div>\n",
       "</body>\n",
       "</html>"
      ]
     },
     "metadata": {},
     "output_type": "display_data"
    }
   ],
   "source": [
    "trace = go.Heatmap(z=corr.values,\n",
    "                   x=corr.columns,\n",
    "                   y=corr.index)\n",
    "\n",
    "fig = go.Figure([trace], layout={\n",
    "    \"title\": \"Feature Correlations\"\n",
    "})\n",
    "plotly.offline.iplot(fig)"
   ]
  },
  {
   "cell_type": "markdown",
   "metadata": {
    "id": "xyqYRxAiRPBH"
   },
   "source": [
    "We can see some clusters of highly correlated features."
   ]
  },
  {
   "cell_type": "markdown",
   "metadata": {
    "id": "IHOXt33OeOlG"
   },
   "source": [
    "##Target class distribution\n"
   ]
  },
  {
   "cell_type": "code",
   "execution_count": 17,
   "metadata": {
    "colab": {
     "base_uri": "https://localhost:8080/",
     "height": 0
    },
    "id": "scvQxXBIeOlI",
    "outputId": "42f492fd-ed86-4228-bb08-b25776016eed"
   },
   "outputs": [
    {
     "data": {
      "text/html": [
       "<html>\n",
       "<head><meta charset=\"utf-8\" /></head>\n",
       "<body>\n",
       "    <div>            <script src=\"https://cdnjs.cloudflare.com/ajax/libs/mathjax/2.7.5/MathJax.js?config=TeX-AMS-MML_SVG\"></script><script type=\"text/javascript\">if (window.MathJax) {MathJax.Hub.Config({SVG: {font: \"STIX-Web\"}});}</script>                <script type=\"text/javascript\">window.PlotlyConfig = {MathJaxConfig: 'local'};</script>\n",
       "        <script src=\"https://cdn.plot.ly/plotly-2.8.3.min.js\"></script>                <div id=\"984b39f5-ecc5-43ad-ae08-1fbcc0d7777c\" class=\"plotly-graph-div\" style=\"height:525px; width:100%;\"></div>            <script type=\"text/javascript\">                                    window.PLOTLYENV=window.PLOTLYENV || {};                                    if (document.getElementById(\"984b39f5-ecc5-43ad-ae08-1fbcc0d7777c\")) {                    Plotly.newPlot(                        \"984b39f5-ecc5-43ad-ae08-1fbcc0d7777c\",                        [{\"labels\":[\"neg\",\"pos\"],\"marker\":{\"colors\":[\"blue\",\"red\"]},\"values\":[59000,1000],\"type\":\"pie\"}],                        {\"template\":{\"data\":{\"barpolar\":[{\"marker\":{\"line\":{\"color\":\"#E5ECF6\",\"width\":0.5},\"pattern\":{\"fillmode\":\"overlay\",\"size\":10,\"solidity\":0.2}},\"type\":\"barpolar\"}],\"bar\":[{\"error_x\":{\"color\":\"#2a3f5f\"},\"error_y\":{\"color\":\"#2a3f5f\"},\"marker\":{\"line\":{\"color\":\"#E5ECF6\",\"width\":0.5},\"pattern\":{\"fillmode\":\"overlay\",\"size\":10,\"solidity\":0.2}},\"type\":\"bar\"}],\"carpet\":[{\"aaxis\":{\"endlinecolor\":\"#2a3f5f\",\"gridcolor\":\"white\",\"linecolor\":\"white\",\"minorgridcolor\":\"white\",\"startlinecolor\":\"#2a3f5f\"},\"baxis\":{\"endlinecolor\":\"#2a3f5f\",\"gridcolor\":\"white\",\"linecolor\":\"white\",\"minorgridcolor\":\"white\",\"startlinecolor\":\"#2a3f5f\"},\"type\":\"carpet\"}],\"choropleth\":[{\"colorbar\":{\"outlinewidth\":0,\"ticks\":\"\"},\"type\":\"choropleth\"}],\"contourcarpet\":[{\"colorbar\":{\"outlinewidth\":0,\"ticks\":\"\"},\"type\":\"contourcarpet\"}],\"contour\":[{\"colorbar\":{\"outlinewidth\":0,\"ticks\":\"\"},\"colorscale\":[[0.0,\"#0d0887\"],[0.1111111111111111,\"#46039f\"],[0.2222222222222222,\"#7201a8\"],[0.3333333333333333,\"#9c179e\"],[0.4444444444444444,\"#bd3786\"],[0.5555555555555556,\"#d8576b\"],[0.6666666666666666,\"#ed7953\"],[0.7777777777777778,\"#fb9f3a\"],[0.8888888888888888,\"#fdca26\"],[1.0,\"#f0f921\"]],\"type\":\"contour\"}],\"heatmapgl\":[{\"colorbar\":{\"outlinewidth\":0,\"ticks\":\"\"},\"colorscale\":[[0.0,\"#0d0887\"],[0.1111111111111111,\"#46039f\"],[0.2222222222222222,\"#7201a8\"],[0.3333333333333333,\"#9c179e\"],[0.4444444444444444,\"#bd3786\"],[0.5555555555555556,\"#d8576b\"],[0.6666666666666666,\"#ed7953\"],[0.7777777777777778,\"#fb9f3a\"],[0.8888888888888888,\"#fdca26\"],[1.0,\"#f0f921\"]],\"type\":\"heatmapgl\"}],\"heatmap\":[{\"colorbar\":{\"outlinewidth\":0,\"ticks\":\"\"},\"colorscale\":[[0.0,\"#0d0887\"],[0.1111111111111111,\"#46039f\"],[0.2222222222222222,\"#7201a8\"],[0.3333333333333333,\"#9c179e\"],[0.4444444444444444,\"#bd3786\"],[0.5555555555555556,\"#d8576b\"],[0.6666666666666666,\"#ed7953\"],[0.7777777777777778,\"#fb9f3a\"],[0.8888888888888888,\"#fdca26\"],[1.0,\"#f0f921\"]],\"type\":\"heatmap\"}],\"histogram2dcontour\":[{\"colorbar\":{\"outlinewidth\":0,\"ticks\":\"\"},\"colorscale\":[[0.0,\"#0d0887\"],[0.1111111111111111,\"#46039f\"],[0.2222222222222222,\"#7201a8\"],[0.3333333333333333,\"#9c179e\"],[0.4444444444444444,\"#bd3786\"],[0.5555555555555556,\"#d8576b\"],[0.6666666666666666,\"#ed7953\"],[0.7777777777777778,\"#fb9f3a\"],[0.8888888888888888,\"#fdca26\"],[1.0,\"#f0f921\"]],\"type\":\"histogram2dcontour\"}],\"histogram2d\":[{\"colorbar\":{\"outlinewidth\":0,\"ticks\":\"\"},\"colorscale\":[[0.0,\"#0d0887\"],[0.1111111111111111,\"#46039f\"],[0.2222222222222222,\"#7201a8\"],[0.3333333333333333,\"#9c179e\"],[0.4444444444444444,\"#bd3786\"],[0.5555555555555556,\"#d8576b\"],[0.6666666666666666,\"#ed7953\"],[0.7777777777777778,\"#fb9f3a\"],[0.8888888888888888,\"#fdca26\"],[1.0,\"#f0f921\"]],\"type\":\"histogram2d\"}],\"histogram\":[{\"marker\":{\"pattern\":{\"fillmode\":\"overlay\",\"size\":10,\"solidity\":0.2}},\"type\":\"histogram\"}],\"mesh3d\":[{\"colorbar\":{\"outlinewidth\":0,\"ticks\":\"\"},\"type\":\"mesh3d\"}],\"parcoords\":[{\"line\":{\"colorbar\":{\"outlinewidth\":0,\"ticks\":\"\"}},\"type\":\"parcoords\"}],\"pie\":[{\"automargin\":true,\"type\":\"pie\"}],\"scatter3d\":[{\"line\":{\"colorbar\":{\"outlinewidth\":0,\"ticks\":\"\"}},\"marker\":{\"colorbar\":{\"outlinewidth\":0,\"ticks\":\"\"}},\"type\":\"scatter3d\"}],\"scattercarpet\":[{\"marker\":{\"colorbar\":{\"outlinewidth\":0,\"ticks\":\"\"}},\"type\":\"scattercarpet\"}],\"scattergeo\":[{\"marker\":{\"colorbar\":{\"outlinewidth\":0,\"ticks\":\"\"}},\"type\":\"scattergeo\"}],\"scattergl\":[{\"marker\":{\"colorbar\":{\"outlinewidth\":0,\"ticks\":\"\"}},\"type\":\"scattergl\"}],\"scattermapbox\":[{\"marker\":{\"colorbar\":{\"outlinewidth\":0,\"ticks\":\"\"}},\"type\":\"scattermapbox\"}],\"scatterpolargl\":[{\"marker\":{\"colorbar\":{\"outlinewidth\":0,\"ticks\":\"\"}},\"type\":\"scatterpolargl\"}],\"scatterpolar\":[{\"marker\":{\"colorbar\":{\"outlinewidth\":0,\"ticks\":\"\"}},\"type\":\"scatterpolar\"}],\"scatter\":[{\"marker\":{\"colorbar\":{\"outlinewidth\":0,\"ticks\":\"\"}},\"type\":\"scatter\"}],\"scatterternary\":[{\"marker\":{\"colorbar\":{\"outlinewidth\":0,\"ticks\":\"\"}},\"type\":\"scatterternary\"}],\"surface\":[{\"colorbar\":{\"outlinewidth\":0,\"ticks\":\"\"},\"colorscale\":[[0.0,\"#0d0887\"],[0.1111111111111111,\"#46039f\"],[0.2222222222222222,\"#7201a8\"],[0.3333333333333333,\"#9c179e\"],[0.4444444444444444,\"#bd3786\"],[0.5555555555555556,\"#d8576b\"],[0.6666666666666666,\"#ed7953\"],[0.7777777777777778,\"#fb9f3a\"],[0.8888888888888888,\"#fdca26\"],[1.0,\"#f0f921\"]],\"type\":\"surface\"}],\"table\":[{\"cells\":{\"fill\":{\"color\":\"#EBF0F8\"},\"line\":{\"color\":\"white\"}},\"header\":{\"fill\":{\"color\":\"#C8D4E3\"},\"line\":{\"color\":\"white\"}},\"type\":\"table\"}]},\"layout\":{\"annotationdefaults\":{\"arrowcolor\":\"#2a3f5f\",\"arrowhead\":0,\"arrowwidth\":1},\"autotypenumbers\":\"strict\",\"coloraxis\":{\"colorbar\":{\"outlinewidth\":0,\"ticks\":\"\"}},\"colorscale\":{\"diverging\":[[0,\"#8e0152\"],[0.1,\"#c51b7d\"],[0.2,\"#de77ae\"],[0.3,\"#f1b6da\"],[0.4,\"#fde0ef\"],[0.5,\"#f7f7f7\"],[0.6,\"#e6f5d0\"],[0.7,\"#b8e186\"],[0.8,\"#7fbc41\"],[0.9,\"#4d9221\"],[1,\"#276419\"]],\"sequential\":[[0.0,\"#0d0887\"],[0.1111111111111111,\"#46039f\"],[0.2222222222222222,\"#7201a8\"],[0.3333333333333333,\"#9c179e\"],[0.4444444444444444,\"#bd3786\"],[0.5555555555555556,\"#d8576b\"],[0.6666666666666666,\"#ed7953\"],[0.7777777777777778,\"#fb9f3a\"],[0.8888888888888888,\"#fdca26\"],[1.0,\"#f0f921\"]],\"sequentialminus\":[[0.0,\"#0d0887\"],[0.1111111111111111,\"#46039f\"],[0.2222222222222222,\"#7201a8\"],[0.3333333333333333,\"#9c179e\"],[0.4444444444444444,\"#bd3786\"],[0.5555555555555556,\"#d8576b\"],[0.6666666666666666,\"#ed7953\"],[0.7777777777777778,\"#fb9f3a\"],[0.8888888888888888,\"#fdca26\"],[1.0,\"#f0f921\"]]},\"colorway\":[\"#636efa\",\"#EF553B\",\"#00cc96\",\"#ab63fa\",\"#FFA15A\",\"#19d3f3\",\"#FF6692\",\"#B6E880\",\"#FF97FF\",\"#FECB52\"],\"font\":{\"color\":\"#2a3f5f\"},\"geo\":{\"bgcolor\":\"white\",\"lakecolor\":\"white\",\"landcolor\":\"#E5ECF6\",\"showlakes\":true,\"showland\":true,\"subunitcolor\":\"white\"},\"hoverlabel\":{\"align\":\"left\"},\"hovermode\":\"closest\",\"mapbox\":{\"style\":\"light\"},\"paper_bgcolor\":\"white\",\"plot_bgcolor\":\"#E5ECF6\",\"polar\":{\"angularaxis\":{\"gridcolor\":\"white\",\"linecolor\":\"white\",\"ticks\":\"\"},\"bgcolor\":\"#E5ECF6\",\"radialaxis\":{\"gridcolor\":\"white\",\"linecolor\":\"white\",\"ticks\":\"\"}},\"scene\":{\"xaxis\":{\"backgroundcolor\":\"#E5ECF6\",\"gridcolor\":\"white\",\"gridwidth\":2,\"linecolor\":\"white\",\"showbackground\":true,\"ticks\":\"\",\"zerolinecolor\":\"white\"},\"yaxis\":{\"backgroundcolor\":\"#E5ECF6\",\"gridcolor\":\"white\",\"gridwidth\":2,\"linecolor\":\"white\",\"showbackground\":true,\"ticks\":\"\",\"zerolinecolor\":\"white\"},\"zaxis\":{\"backgroundcolor\":\"#E5ECF6\",\"gridcolor\":\"white\",\"gridwidth\":2,\"linecolor\":\"white\",\"showbackground\":true,\"ticks\":\"\",\"zerolinecolor\":\"white\"}},\"shapedefaults\":{\"line\":{\"color\":\"#2a3f5f\"}},\"ternary\":{\"aaxis\":{\"gridcolor\":\"white\",\"linecolor\":\"white\",\"ticks\":\"\"},\"baxis\":{\"gridcolor\":\"white\",\"linecolor\":\"white\",\"ticks\":\"\"},\"bgcolor\":\"#E5ECF6\",\"caxis\":{\"gridcolor\":\"white\",\"linecolor\":\"white\",\"ticks\":\"\"}},\"title\":{\"x\":0.05},\"xaxis\":{\"automargin\":true,\"gridcolor\":\"white\",\"linecolor\":\"white\",\"ticks\":\"\",\"title\":{\"standoff\":15},\"zerolinecolor\":\"white\",\"zerolinewidth\":2},\"yaxis\":{\"automargin\":true,\"gridcolor\":\"white\",\"linecolor\":\"white\",\"ticks\":\"\",\"title\":{\"standoff\":15},\"zerolinecolor\":\"white\",\"zerolinewidth\":2}}},\"title\":{\"text\":\"Target Class Distribution for Training Set\"}},                        {\"responsive\": true}                    ).then(function(){\n",
       "                            \n",
       "var gd = document.getElementById('984b39f5-ecc5-43ad-ae08-1fbcc0d7777c');\n",
       "var x = new MutationObserver(function (mutations, observer) {{\n",
       "        var display = window.getComputedStyle(gd).display;\n",
       "        if (!display || display === 'none') {{\n",
       "            console.log([gd, 'removed!']);\n",
       "            Plotly.purge(gd);\n",
       "            observer.disconnect();\n",
       "        }}\n",
       "}});\n",
       "\n",
       "// Listen for the removal of the full notebook cells\n",
       "var notebookContainer = gd.closest('#notebook-container');\n",
       "if (notebookContainer) {{\n",
       "    x.observe(notebookContainer, {childList: true});\n",
       "}}\n",
       "\n",
       "// Listen for the clearing of the current output cell\n",
       "var outputEl = gd.closest('.output');\n",
       "if (outputEl) {{\n",
       "    x.observe(outputEl, {childList: true});\n",
       "}}\n",
       "\n",
       "                        })                };                            </script>        </div>\n",
       "</body>\n",
       "</html>"
      ]
     },
     "metadata": {},
     "output_type": "display_data"
    }
   ],
   "source": [
    "class_value_counts = train[\"class\"].value_counts()\n",
    "\n",
    "trace = go.Pie(labels=class_value_counts.index, \n",
    "               values=class_value_counts.values,\n",
    "               marker={\n",
    "                   \"colors\": [\"blue\", \"red\"]\n",
    "               })\n",
    "\n",
    "data = [trace]\n",
    "layout = go.Layout(title=\"Target Class Distribution for Training Set\")\n",
    "\n",
    "fig = go.Figure(data=data, layout=layout)\n",
    "plotly.offline.iplot(fig)"
   ]
  },
  {
   "cell_type": "markdown",
   "metadata": {
    "id": "2p5wregMeOlJ"
   },
   "source": [
    "It appears that we have a dataset that is extremely unbalanced! \n"
   ]
  },
  {
   "cell_type": "code",
   "execution_count": 18,
   "metadata": {
    "id": "ovRQpIg7eOlJ"
   },
   "outputs": [],
   "source": [
    "#Class label Preprocessing\n",
    "train_labels = train['class']\n",
    "test_labels = test['class']\n",
    "train_features = train.drop('class', axis=1)\n",
    "test_features = test.drop('class', axis=1)\n",
    "\n",
    "train_labels = train_labels.replace({'neg':0, 'pos' : 1})\n",
    "test_labels = test_labels.replace({'neg':0, 'pos' : 1})"
   ]
  },
  {
   "cell_type": "code",
   "execution_count": 19,
   "metadata": {
    "colab": {
     "base_uri": "https://localhost:8080/"
    },
    "id": "d18ks-BZI88X",
    "outputId": "95473c86-03ab-40c2-891b-cb8e836cb785"
   },
   "outputs": [
    {
     "data": {
      "text/plain": [
       "neg    59000\n",
       "pos     1000\n",
       "Name: class, dtype: int64"
      ]
     },
     "execution_count": 19,
     "metadata": {},
     "output_type": "execute_result"
    }
   ],
   "source": [
    "#checking class feature\n",
    "train [\"class\"].value_counts()"
   ]
  },
  {
   "cell_type": "markdown",
   "metadata": {
    "id": "M0isH67SC-UL"
   },
   "source": [
    "##Handling Missing Data"
   ]
  },
  {
   "cell_type": "code",
   "execution_count": 20,
   "metadata": {
    "colab": {
     "base_uri": "https://localhost:8080/",
     "height": 0
    },
    "id": "7oJXZZoreOlJ",
    "outputId": "99c0d1ec-0874-436e-aa35-7f5b39a0dd5b"
   },
   "outputs": [
    {
     "data": {
      "text/html": [
       "\n",
       "  <div id=\"df-4c677ed7-c297-41f2-8588-8c84faf1648a\">\n",
       "    <div class=\"colab-df-container\">\n",
       "      <div>\n",
       "<style scoped>\n",
       "    .dataframe tbody tr th:only-of-type {\n",
       "        vertical-align: middle;\n",
       "    }\n",
       "\n",
       "    .dataframe tbody tr th {\n",
       "        vertical-align: top;\n",
       "    }\n",
       "\n",
       "    .dataframe thead th {\n",
       "        text-align: right;\n",
       "    }\n",
       "</style>\n",
       "<table border=\"1\" class=\"dataframe\">\n",
       "  <thead>\n",
       "    <tr style=\"text-align: right;\">\n",
       "      <th></th>\n",
       "      <th>Predictors</th>\n",
       "      <th>Missing_Percentage</th>\n",
       "    </tr>\n",
       "  </thead>\n",
       "  <tbody>\n",
       "    <tr>\n",
       "      <th>0</th>\n",
       "      <td>br_000</td>\n",
       "      <td>82.106667</td>\n",
       "    </tr>\n",
       "    <tr>\n",
       "      <th>1</th>\n",
       "      <td>bq_000</td>\n",
       "      <td>81.203333</td>\n",
       "    </tr>\n",
       "    <tr>\n",
       "      <th>2</th>\n",
       "      <td>bp_000</td>\n",
       "      <td>79.566667</td>\n",
       "    </tr>\n",
       "    <tr>\n",
       "      <th>3</th>\n",
       "      <td>bo_000</td>\n",
       "      <td>77.221667</td>\n",
       "    </tr>\n",
       "    <tr>\n",
       "      <th>4</th>\n",
       "      <td>cr_000</td>\n",
       "      <td>77.215000</td>\n",
       "    </tr>\n",
       "  </tbody>\n",
       "</table>\n",
       "</div>\n",
       "      <button class=\"colab-df-convert\" onclick=\"convertToInteractive('df-4c677ed7-c297-41f2-8588-8c84faf1648a')\"\n",
       "              title=\"Convert this dataframe to an interactive table.\"\n",
       "              style=\"display:none;\">\n",
       "        \n",
       "  <svg xmlns=\"http://www.w3.org/2000/svg\" height=\"24px\"viewBox=\"0 0 24 24\"\n",
       "       width=\"24px\">\n",
       "    <path d=\"M0 0h24v24H0V0z\" fill=\"none\"/>\n",
       "    <path d=\"M18.56 5.44l.94 2.06.94-2.06 2.06-.94-2.06-.94-.94-2.06-.94 2.06-2.06.94zm-11 1L8.5 8.5l.94-2.06 2.06-.94-2.06-.94L8.5 2.5l-.94 2.06-2.06.94zm10 10l.94 2.06.94-2.06 2.06-.94-2.06-.94-.94-2.06-.94 2.06-2.06.94z\"/><path d=\"M17.41 7.96l-1.37-1.37c-.4-.4-.92-.59-1.43-.59-.52 0-1.04.2-1.43.59L10.3 9.45l-7.72 7.72c-.78.78-.78 2.05 0 2.83L4 21.41c.39.39.9.59 1.41.59.51 0 1.02-.2 1.41-.59l7.78-7.78 2.81-2.81c.8-.78.8-2.07 0-2.86zM5.41 20L4 18.59l7.72-7.72 1.47 1.35L5.41 20z\"/>\n",
       "  </svg>\n",
       "      </button>\n",
       "      \n",
       "  <style>\n",
       "    .colab-df-container {\n",
       "      display:flex;\n",
       "      flex-wrap:wrap;\n",
       "      gap: 12px;\n",
       "    }\n",
       "\n",
       "    .colab-df-convert {\n",
       "      background-color: #E8F0FE;\n",
       "      border: none;\n",
       "      border-radius: 50%;\n",
       "      cursor: pointer;\n",
       "      display: none;\n",
       "      fill: #1967D2;\n",
       "      height: 32px;\n",
       "      padding: 0 0 0 0;\n",
       "      width: 32px;\n",
       "    }\n",
       "\n",
       "    .colab-df-convert:hover {\n",
       "      background-color: #E2EBFA;\n",
       "      box-shadow: 0px 1px 2px rgba(60, 64, 67, 0.3), 0px 1px 3px 1px rgba(60, 64, 67, 0.15);\n",
       "      fill: #174EA6;\n",
       "    }\n",
       "\n",
       "    [theme=dark] .colab-df-convert {\n",
       "      background-color: #3B4455;\n",
       "      fill: #D2E3FC;\n",
       "    }\n",
       "\n",
       "    [theme=dark] .colab-df-convert:hover {\n",
       "      background-color: #434B5C;\n",
       "      box-shadow: 0px 1px 3px 1px rgba(0, 0, 0, 0.15);\n",
       "      filter: drop-shadow(0px 1px 2px rgba(0, 0, 0, 0.3));\n",
       "      fill: #FFFFFF;\n",
       "    }\n",
       "  </style>\n",
       "\n",
       "      <script>\n",
       "        const buttonEl =\n",
       "          document.querySelector('#df-4c677ed7-c297-41f2-8588-8c84faf1648a button.colab-df-convert');\n",
       "        buttonEl.style.display =\n",
       "          google.colab.kernel.accessAllowed ? 'block' : 'none';\n",
       "\n",
       "        async function convertToInteractive(key) {\n",
       "          const element = document.querySelector('#df-4c677ed7-c297-41f2-8588-8c84faf1648a');\n",
       "          const dataTable =\n",
       "            await google.colab.kernel.invokeFunction('convertToInteractive',\n",
       "                                                     [key], {});\n",
       "          if (!dataTable) return;\n",
       "\n",
       "          const docLinkHtml = 'Like what you see? Visit the ' +\n",
       "            '<a target=\"_blank\" href=https://colab.research.google.com/notebooks/data_table.ipynb>data table notebook</a>'\n",
       "            + ' to learn more about interactive tables.';\n",
       "          element.innerHTML = '';\n",
       "          dataTable['output_type'] = 'display_data';\n",
       "          await google.colab.output.renderOutput(dataTable, element);\n",
       "          const docLink = document.createElement('div');\n",
       "          docLink.innerHTML = docLinkHtml;\n",
       "          element.appendChild(docLink);\n",
       "        }\n",
       "      </script>\n",
       "    </div>\n",
       "  </div>\n",
       "  "
      ],
      "text/plain": [
       "  Predictors  Missing_Percentage\n",
       "0     br_000           82.106667\n",
       "1     bq_000           81.203333\n",
       "2     bp_000           79.566667\n",
       "3     bo_000           77.221667\n",
       "4     cr_000           77.215000"
      ]
     },
     "execution_count": 20,
     "metadata": {},
     "output_type": "execute_result"
    }
   ],
   "source": [
    "#Missing Value Analysis\n",
    "miss_val = pd.DataFrame(train_features.isnull().sum())\n",
    "miss_val = miss_val.reset_index()\n",
    "miss_val = miss_val.rename(columns = {'index': 'Predictors', 0: 'Missing_Percentage'})\n",
    "miss_val['Missing_Percentage'] = (miss_val['Missing_Percentage']/len(train_features))*100\n",
    "miss_val = miss_val.sort_values('Missing_Percentage', ascending = False).reset_index(drop = True)\n",
    "miss_val.head()"
   ]
  },
  {
   "cell_type": "code",
   "execution_count": 21,
   "metadata": {
    "id": "5-f94dd_eOlJ"
   },
   "outputs": [],
   "source": [
    "#Dropping Columns that have more than 35% missing values\n",
    "dropped = list(miss_val.loc[miss_val['Missing_Percentage'] > 35,'Predictors'])\n",
    "train_features.drop(columns = dropped, inplace = True)\n",
    "test_features.drop(columns = dropped, inplace = True)"
   ]
  },
  {
   "cell_type": "code",
   "execution_count": 22,
   "metadata": {
    "id": "nQPZDk3feOlJ"
   },
   "outputs": [],
   "source": [
    "#Feature Scaling\n",
    "scaler = MinMaxScaler()\n",
    "scaler.fit(train_features)\n",
    "train_features = pd.DataFrame(scaler.transform(train_features), columns=train_features.columns)\n",
    "test_features = pd.DataFrame(scaler.transform(test_features), columns=test_features.columns)"
   ]
  },
  {
   "cell_type": "code",
   "execution_count": 23,
   "metadata": {
    "id": "mVkMI_4GeOlJ"
   },
   "outputs": [],
   "source": [
    "#Imputing Missing Values\n",
    "imputer = SimpleImputer(strategy='median', missing_values=np.nan)\n",
    "imputer.fit(train_features)\n",
    "train_features = pd.DataFrame(imputer.transform(train_features), columns=train_features.columns)\n",
    "test_features = pd.DataFrame(imputer.transform(test_features), columns=test_features.columns)"
   ]
  },
  {
   "cell_type": "code",
   "execution_count": 24,
   "metadata": {
    "colab": {
     "base_uri": "https://localhost:8080/",
     "height": 0
    },
    "id": "7dGFTZ5MKPhb",
    "outputId": "572e4d74-a1f4-4964-e566-0f072755c566"
   },
   "outputs": [
    {
     "data": {
      "text/html": [
       "\n",
       "  <div id=\"df-33efd79f-1166-42ff-8f18-6609243cd2ba\">\n",
       "    <div class=\"colab-df-container\">\n",
       "      <div>\n",
       "<style scoped>\n",
       "    .dataframe tbody tr th:only-of-type {\n",
       "        vertical-align: middle;\n",
       "    }\n",
       "\n",
       "    .dataframe tbody tr th {\n",
       "        vertical-align: top;\n",
       "    }\n",
       "\n",
       "    .dataframe thead th {\n",
       "        text-align: right;\n",
       "    }\n",
       "</style>\n",
       "<table border=\"1\" class=\"dataframe\">\n",
       "  <thead>\n",
       "    <tr style=\"text-align: right;\">\n",
       "      <th></th>\n",
       "      <th>aa_000</th>\n",
       "      <th>ac_000</th>\n",
       "      <th>ad_000</th>\n",
       "      <th>ae_000</th>\n",
       "      <th>af_000</th>\n",
       "      <th>ag_000</th>\n",
       "      <th>ag_001</th>\n",
       "      <th>ag_002</th>\n",
       "      <th>ag_003</th>\n",
       "      <th>ag_004</th>\n",
       "      <th>...</th>\n",
       "      <th>ee_002</th>\n",
       "      <th>ee_003</th>\n",
       "      <th>ee_004</th>\n",
       "      <th>ee_005</th>\n",
       "      <th>ee_006</th>\n",
       "      <th>ee_007</th>\n",
       "      <th>ee_008</th>\n",
       "      <th>ee_009</th>\n",
       "      <th>ef_000</th>\n",
       "      <th>eg_000</th>\n",
       "    </tr>\n",
       "  </thead>\n",
       "  <tbody>\n",
       "    <tr>\n",
       "      <th>0</th>\n",
       "      <td>0.027925</td>\n",
       "      <td>9.999998e-01</td>\n",
       "      <td>3.261769e-08</td>\n",
       "      <td>0.0</td>\n",
       "      <td>0.000000</td>\n",
       "      <td>0.0</td>\n",
       "      <td>0.0</td>\n",
       "      <td>0.0</td>\n",
       "      <td>0.000000</td>\n",
       "      <td>0.000163</td>\n",
       "      <td>...</td>\n",
       "      <td>0.015918</td>\n",
       "      <td>0.013067</td>\n",
       "      <td>7.421784e-03</td>\n",
       "      <td>8.179508e-03</td>\n",
       "      <td>1.073013e-02</td>\n",
       "      <td>0.001321</td>\n",
       "      <td>0.003800</td>\n",
       "      <td>0.000000</td>\n",
       "      <td>0.000000</td>\n",
       "      <td>0.000000</td>\n",
       "    </tr>\n",
       "    <tr>\n",
       "      <th>1</th>\n",
       "      <td>0.012036</td>\n",
       "      <td>0.000000e+00</td>\n",
       "      <td>1.467796e-08</td>\n",
       "      <td>0.0</td>\n",
       "      <td>0.000000</td>\n",
       "      <td>0.0</td>\n",
       "      <td>0.0</td>\n",
       "      <td>0.0</td>\n",
       "      <td>0.000000</td>\n",
       "      <td>0.000080</td>\n",
       "      <td>...</td>\n",
       "      <td>0.005407</td>\n",
       "      <td>0.004716</td>\n",
       "      <td>3.019031e-03</td>\n",
       "      <td>4.272917e-03</td>\n",
       "      <td>4.228511e-03</td>\n",
       "      <td>0.000679</td>\n",
       "      <td>0.005064</td>\n",
       "      <td>0.000394</td>\n",
       "      <td>0.000000</td>\n",
       "      <td>0.000000</td>\n",
       "    </tr>\n",
       "    <tr>\n",
       "      <th>2</th>\n",
       "      <td>0.014942</td>\n",
       "      <td>1.070067e-07</td>\n",
       "      <td>1.164918e-08</td>\n",
       "      <td>0.0</td>\n",
       "      <td>0.000000</td>\n",
       "      <td>0.0</td>\n",
       "      <td>0.0</td>\n",
       "      <td>0.0</td>\n",
       "      <td>0.000000</td>\n",
       "      <td>0.000007</td>\n",
       "      <td>...</td>\n",
       "      <td>0.003559</td>\n",
       "      <td>0.004232</td>\n",
       "      <td>4.364196e-03</td>\n",
       "      <td>7.130884e-03</td>\n",
       "      <td>1.014768e-02</td>\n",
       "      <td>0.001321</td>\n",
       "      <td>0.004937</td>\n",
       "      <td>0.000135</td>\n",
       "      <td>0.000000</td>\n",
       "      <td>0.000000</td>\n",
       "    </tr>\n",
       "    <tr>\n",
       "      <th>3</th>\n",
       "      <td>0.000004</td>\n",
       "      <td>3.285295e-08</td>\n",
       "      <td>7.688457e-09</td>\n",
       "      <td>0.0</td>\n",
       "      <td>0.000498</td>\n",
       "      <td>0.0</td>\n",
       "      <td>0.0</td>\n",
       "      <td>0.0</td>\n",
       "      <td>0.000005</td>\n",
       "      <td>0.000010</td>\n",
       "      <td>...</td>\n",
       "      <td>0.000003</td>\n",
       "      <td>0.000001</td>\n",
       "      <td>5.970003e-07</td>\n",
       "      <td>7.660803e-07</td>\n",
       "      <td>3.163775e-07</td>\n",
       "      <td>0.000000</td>\n",
       "      <td>0.000000</td>\n",
       "      <td>0.000000</td>\n",
       "      <td>0.008299</td>\n",
       "      <td>0.027923</td>\n",
       "    </tr>\n",
       "    <tr>\n",
       "      <th>4</th>\n",
       "      <td>0.022164</td>\n",
       "      <td>6.420405e-07</td>\n",
       "      <td>5.335323e-08</td>\n",
       "      <td>0.0</td>\n",
       "      <td>0.000000</td>\n",
       "      <td>0.0</td>\n",
       "      <td>0.0</td>\n",
       "      <td>0.0</td>\n",
       "      <td>0.000000</td>\n",
       "      <td>0.000191</td>\n",
       "      <td>...</td>\n",
       "      <td>0.007981</td>\n",
       "      <td>0.006086</td>\n",
       "      <td>4.171776e-03</td>\n",
       "      <td>6.044861e-03</td>\n",
       "      <td>9.078578e-03</td>\n",
       "      <td>0.002605</td>\n",
       "      <td>0.022523</td>\n",
       "      <td>0.000320</td>\n",
       "      <td>0.000000</td>\n",
       "      <td>0.000000</td>\n",
       "    </tr>\n",
       "  </tbody>\n",
       "</table>\n",
       "<p>5 rows × 160 columns</p>\n",
       "</div>\n",
       "      <button class=\"colab-df-convert\" onclick=\"convertToInteractive('df-33efd79f-1166-42ff-8f18-6609243cd2ba')\"\n",
       "              title=\"Convert this dataframe to an interactive table.\"\n",
       "              style=\"display:none;\">\n",
       "        \n",
       "  <svg xmlns=\"http://www.w3.org/2000/svg\" height=\"24px\"viewBox=\"0 0 24 24\"\n",
       "       width=\"24px\">\n",
       "    <path d=\"M0 0h24v24H0V0z\" fill=\"none\"/>\n",
       "    <path d=\"M18.56 5.44l.94 2.06.94-2.06 2.06-.94-2.06-.94-.94-2.06-.94 2.06-2.06.94zm-11 1L8.5 8.5l.94-2.06 2.06-.94-2.06-.94L8.5 2.5l-.94 2.06-2.06.94zm10 10l.94 2.06.94-2.06 2.06-.94-2.06-.94-.94-2.06-.94 2.06-2.06.94z\"/><path d=\"M17.41 7.96l-1.37-1.37c-.4-.4-.92-.59-1.43-.59-.52 0-1.04.2-1.43.59L10.3 9.45l-7.72 7.72c-.78.78-.78 2.05 0 2.83L4 21.41c.39.39.9.59 1.41.59.51 0 1.02-.2 1.41-.59l7.78-7.78 2.81-2.81c.8-.78.8-2.07 0-2.86zM5.41 20L4 18.59l7.72-7.72 1.47 1.35L5.41 20z\"/>\n",
       "  </svg>\n",
       "      </button>\n",
       "      \n",
       "  <style>\n",
       "    .colab-df-container {\n",
       "      display:flex;\n",
       "      flex-wrap:wrap;\n",
       "      gap: 12px;\n",
       "    }\n",
       "\n",
       "    .colab-df-convert {\n",
       "      background-color: #E8F0FE;\n",
       "      border: none;\n",
       "      border-radius: 50%;\n",
       "      cursor: pointer;\n",
       "      display: none;\n",
       "      fill: #1967D2;\n",
       "      height: 32px;\n",
       "      padding: 0 0 0 0;\n",
       "      width: 32px;\n",
       "    }\n",
       "\n",
       "    .colab-df-convert:hover {\n",
       "      background-color: #E2EBFA;\n",
       "      box-shadow: 0px 1px 2px rgba(60, 64, 67, 0.3), 0px 1px 3px 1px rgba(60, 64, 67, 0.15);\n",
       "      fill: #174EA6;\n",
       "    }\n",
       "\n",
       "    [theme=dark] .colab-df-convert {\n",
       "      background-color: #3B4455;\n",
       "      fill: #D2E3FC;\n",
       "    }\n",
       "\n",
       "    [theme=dark] .colab-df-convert:hover {\n",
       "      background-color: #434B5C;\n",
       "      box-shadow: 0px 1px 3px 1px rgba(0, 0, 0, 0.15);\n",
       "      filter: drop-shadow(0px 1px 2px rgba(0, 0, 0, 0.3));\n",
       "      fill: #FFFFFF;\n",
       "    }\n",
       "  </style>\n",
       "\n",
       "      <script>\n",
       "        const buttonEl =\n",
       "          document.querySelector('#df-33efd79f-1166-42ff-8f18-6609243cd2ba button.colab-df-convert');\n",
       "        buttonEl.style.display =\n",
       "          google.colab.kernel.accessAllowed ? 'block' : 'none';\n",
       "\n",
       "        async function convertToInteractive(key) {\n",
       "          const element = document.querySelector('#df-33efd79f-1166-42ff-8f18-6609243cd2ba');\n",
       "          const dataTable =\n",
       "            await google.colab.kernel.invokeFunction('convertToInteractive',\n",
       "                                                     [key], {});\n",
       "          if (!dataTable) return;\n",
       "\n",
       "          const docLinkHtml = 'Like what you see? Visit the ' +\n",
       "            '<a target=\"_blank\" href=https://colab.research.google.com/notebooks/data_table.ipynb>data table notebook</a>'\n",
       "            + ' to learn more about interactive tables.';\n",
       "          element.innerHTML = '';\n",
       "          dataTable['output_type'] = 'display_data';\n",
       "          await google.colab.output.renderOutput(dataTable, element);\n",
       "          const docLink = document.createElement('div');\n",
       "          docLink.innerHTML = docLinkHtml;\n",
       "          element.appendChild(docLink);\n",
       "        }\n",
       "      </script>\n",
       "    </div>\n",
       "  </div>\n",
       "  "
      ],
      "text/plain": [
       "     aa_000        ac_000        ad_000  ae_000    af_000  ag_000  ag_001  \\\n",
       "0  0.027925  9.999998e-01  3.261769e-08     0.0  0.000000     0.0     0.0   \n",
       "1  0.012036  0.000000e+00  1.467796e-08     0.0  0.000000     0.0     0.0   \n",
       "2  0.014942  1.070067e-07  1.164918e-08     0.0  0.000000     0.0     0.0   \n",
       "3  0.000004  3.285295e-08  7.688457e-09     0.0  0.000498     0.0     0.0   \n",
       "4  0.022164  6.420405e-07  5.335323e-08     0.0  0.000000     0.0     0.0   \n",
       "\n",
       "   ag_002    ag_003    ag_004  ...    ee_002    ee_003        ee_004  \\\n",
       "0     0.0  0.000000  0.000163  ...  0.015918  0.013067  7.421784e-03   \n",
       "1     0.0  0.000000  0.000080  ...  0.005407  0.004716  3.019031e-03   \n",
       "2     0.0  0.000000  0.000007  ...  0.003559  0.004232  4.364196e-03   \n",
       "3     0.0  0.000005  0.000010  ...  0.000003  0.000001  5.970003e-07   \n",
       "4     0.0  0.000000  0.000191  ...  0.007981  0.006086  4.171776e-03   \n",
       "\n",
       "         ee_005        ee_006    ee_007    ee_008    ee_009    ef_000  \\\n",
       "0  8.179508e-03  1.073013e-02  0.001321  0.003800  0.000000  0.000000   \n",
       "1  4.272917e-03  4.228511e-03  0.000679  0.005064  0.000394  0.000000   \n",
       "2  7.130884e-03  1.014768e-02  0.001321  0.004937  0.000135  0.000000   \n",
       "3  7.660803e-07  3.163775e-07  0.000000  0.000000  0.000000  0.008299   \n",
       "4  6.044861e-03  9.078578e-03  0.002605  0.022523  0.000320  0.000000   \n",
       "\n",
       "     eg_000  \n",
       "0  0.000000  \n",
       "1  0.000000  \n",
       "2  0.000000  \n",
       "3  0.027923  \n",
       "4  0.000000  \n",
       "\n",
       "[5 rows x 160 columns]"
      ]
     },
     "execution_count": 24,
     "metadata": {},
     "output_type": "execute_result"
    }
   ],
   "source": [
    "train_features.head()"
   ]
  },
  {
   "cell_type": "code",
   "execution_count": 25,
   "metadata": {
    "colab": {
     "base_uri": "https://localhost:8080/",
     "height": 0
    },
    "id": "Inm3-thxKPj9",
    "outputId": "ac3cc5a3-ab50-4f34-ebfa-ac3571afa72e"
   },
   "outputs": [
    {
     "data": {
      "text/html": [
       "\n",
       "  <div id=\"df-7feaf2bc-c09a-4761-a313-ed54fc27f904\">\n",
       "    <div class=\"colab-df-container\">\n",
       "      <div>\n",
       "<style scoped>\n",
       "    .dataframe tbody tr th:only-of-type {\n",
       "        vertical-align: middle;\n",
       "    }\n",
       "\n",
       "    .dataframe tbody tr th {\n",
       "        vertical-align: top;\n",
       "    }\n",
       "\n",
       "    .dataframe thead th {\n",
       "        text-align: right;\n",
       "    }\n",
       "</style>\n",
       "<table border=\"1\" class=\"dataframe\">\n",
       "  <thead>\n",
       "    <tr style=\"text-align: right;\">\n",
       "      <th></th>\n",
       "      <th>aa_000</th>\n",
       "      <th>ac_000</th>\n",
       "      <th>ad_000</th>\n",
       "      <th>ae_000</th>\n",
       "      <th>af_000</th>\n",
       "      <th>ag_000</th>\n",
       "      <th>ag_001</th>\n",
       "      <th>ag_002</th>\n",
       "      <th>ag_003</th>\n",
       "      <th>ag_004</th>\n",
       "      <th>...</th>\n",
       "      <th>ee_002</th>\n",
       "      <th>ee_003</th>\n",
       "      <th>ee_004</th>\n",
       "      <th>ee_005</th>\n",
       "      <th>ee_006</th>\n",
       "      <th>ee_007</th>\n",
       "      <th>ee_008</th>\n",
       "      <th>ee_009</th>\n",
       "      <th>ef_000</th>\n",
       "      <th>eg_000</th>\n",
       "    </tr>\n",
       "  </thead>\n",
       "  <tbody>\n",
       "    <tr>\n",
       "      <th>0</th>\n",
       "      <td>0.000022</td>\n",
       "      <td>9.386557e-09</td>\n",
       "      <td>1.397901e-09</td>\n",
       "      <td>0.0</td>\n",
       "      <td>0.0</td>\n",
       "      <td>0.0</td>\n",
       "      <td>0.0</td>\n",
       "      <td>0.0</td>\n",
       "      <td>0.000042</td>\n",
       "      <td>2.069654e-05</td>\n",
       "      <td>...</td>\n",
       "      <td>0.000014</td>\n",
       "      <td>0.000004</td>\n",
       "      <td>0.000004</td>\n",
       "      <td>0.000011</td>\n",
       "      <td>0.000002</td>\n",
       "      <td>7.359084e-07</td>\n",
       "      <td>0.000000</td>\n",
       "      <td>0.000000</td>\n",
       "      <td>0.0</td>\n",
       "      <td>0.0</td>\n",
       "    </tr>\n",
       "    <tr>\n",
       "      <th>1</th>\n",
       "      <td>0.000030</td>\n",
       "      <td>3.191429e-08</td>\n",
       "      <td>4.659671e-09</td>\n",
       "      <td>0.0</td>\n",
       "      <td>0.0</td>\n",
       "      <td>0.0</td>\n",
       "      <td>0.0</td>\n",
       "      <td>0.0</td>\n",
       "      <td>0.000000</td>\n",
       "      <td>3.268794e-06</td>\n",
       "      <td>...</td>\n",
       "      <td>0.000014</td>\n",
       "      <td>0.000007</td>\n",
       "      <td>0.000017</td>\n",
       "      <td>0.000002</td>\n",
       "      <td>0.000003</td>\n",
       "      <td>3.863519e-06</td>\n",
       "      <td>0.000000</td>\n",
       "      <td>0.000000</td>\n",
       "      <td>0.0</td>\n",
       "      <td>0.0</td>\n",
       "    </tr>\n",
       "    <tr>\n",
       "      <th>2</th>\n",
       "      <td>0.024031</td>\n",
       "      <td>9.949750e-08</td>\n",
       "      <td>1.304708e-08</td>\n",
       "      <td>0.0</td>\n",
       "      <td>0.0</td>\n",
       "      <td>0.0</td>\n",
       "      <td>0.0</td>\n",
       "      <td>0.0</td>\n",
       "      <td>0.003146</td>\n",
       "      <td>5.936864e-03</td>\n",
       "      <td>...</td>\n",
       "      <td>0.006353</td>\n",
       "      <td>0.010074</td>\n",
       "      <td>0.004530</td>\n",
       "      <td>0.004693</td>\n",
       "      <td>0.041604</td>\n",
       "      <td>1.285164e-03</td>\n",
       "      <td>0.000027</td>\n",
       "      <td>0.000000</td>\n",
       "      <td>0.0</td>\n",
       "      <td>0.0</td>\n",
       "    </tr>\n",
       "    <tr>\n",
       "      <th>3</th>\n",
       "      <td>0.021778</td>\n",
       "      <td>4.740211e-07</td>\n",
       "      <td>1.090363e-07</td>\n",
       "      <td>0.0</td>\n",
       "      <td>0.0</td>\n",
       "      <td>0.0</td>\n",
       "      <td>0.0</td>\n",
       "      <td>0.0</td>\n",
       "      <td>0.000000</td>\n",
       "      <td>5.415448e-04</td>\n",
       "      <td>...</td>\n",
       "      <td>0.006939</td>\n",
       "      <td>0.006443</td>\n",
       "      <td>0.004975</td>\n",
       "      <td>0.008450</td>\n",
       "      <td>0.013648</td>\n",
       "      <td>1.756764e-03</td>\n",
       "      <td>0.014619</td>\n",
       "      <td>0.000848</td>\n",
       "      <td>0.0</td>\n",
       "      <td>0.0</td>\n",
       "    </tr>\n",
       "    <tr>\n",
       "      <th>4</th>\n",
       "      <td>0.000660</td>\n",
       "      <td>7.321514e-08</td>\n",
       "      <td>1.630885e-08</td>\n",
       "      <td>0.0</td>\n",
       "      <td>0.0</td>\n",
       "      <td>0.0</td>\n",
       "      <td>0.0</td>\n",
       "      <td>0.0</td>\n",
       "      <td>0.000000</td>\n",
       "      <td>3.146433e-07</td>\n",
       "      <td>...</td>\n",
       "      <td>0.000098</td>\n",
       "      <td>0.000110</td>\n",
       "      <td>0.000190</td>\n",
       "      <td>0.000867</td>\n",
       "      <td>0.000100</td>\n",
       "      <td>4.030771e-06</td>\n",
       "      <td>0.000004</td>\n",
       "      <td>0.000000</td>\n",
       "      <td>0.0</td>\n",
       "      <td>0.0</td>\n",
       "    </tr>\n",
       "  </tbody>\n",
       "</table>\n",
       "<p>5 rows × 160 columns</p>\n",
       "</div>\n",
       "      <button class=\"colab-df-convert\" onclick=\"convertToInteractive('df-7feaf2bc-c09a-4761-a313-ed54fc27f904')\"\n",
       "              title=\"Convert this dataframe to an interactive table.\"\n",
       "              style=\"display:none;\">\n",
       "        \n",
       "  <svg xmlns=\"http://www.w3.org/2000/svg\" height=\"24px\"viewBox=\"0 0 24 24\"\n",
       "       width=\"24px\">\n",
       "    <path d=\"M0 0h24v24H0V0z\" fill=\"none\"/>\n",
       "    <path d=\"M18.56 5.44l.94 2.06.94-2.06 2.06-.94-2.06-.94-.94-2.06-.94 2.06-2.06.94zm-11 1L8.5 8.5l.94-2.06 2.06-.94-2.06-.94L8.5 2.5l-.94 2.06-2.06.94zm10 10l.94 2.06.94-2.06 2.06-.94-2.06-.94-.94-2.06-.94 2.06-2.06.94z\"/><path d=\"M17.41 7.96l-1.37-1.37c-.4-.4-.92-.59-1.43-.59-.52 0-1.04.2-1.43.59L10.3 9.45l-7.72 7.72c-.78.78-.78 2.05 0 2.83L4 21.41c.39.39.9.59 1.41.59.51 0 1.02-.2 1.41-.59l7.78-7.78 2.81-2.81c.8-.78.8-2.07 0-2.86zM5.41 20L4 18.59l7.72-7.72 1.47 1.35L5.41 20z\"/>\n",
       "  </svg>\n",
       "      </button>\n",
       "      \n",
       "  <style>\n",
       "    .colab-df-container {\n",
       "      display:flex;\n",
       "      flex-wrap:wrap;\n",
       "      gap: 12px;\n",
       "    }\n",
       "\n",
       "    .colab-df-convert {\n",
       "      background-color: #E8F0FE;\n",
       "      border: none;\n",
       "      border-radius: 50%;\n",
       "      cursor: pointer;\n",
       "      display: none;\n",
       "      fill: #1967D2;\n",
       "      height: 32px;\n",
       "      padding: 0 0 0 0;\n",
       "      width: 32px;\n",
       "    }\n",
       "\n",
       "    .colab-df-convert:hover {\n",
       "      background-color: #E2EBFA;\n",
       "      box-shadow: 0px 1px 2px rgba(60, 64, 67, 0.3), 0px 1px 3px 1px rgba(60, 64, 67, 0.15);\n",
       "      fill: #174EA6;\n",
       "    }\n",
       "\n",
       "    [theme=dark] .colab-df-convert {\n",
       "      background-color: #3B4455;\n",
       "      fill: #D2E3FC;\n",
       "    }\n",
       "\n",
       "    [theme=dark] .colab-df-convert:hover {\n",
       "      background-color: #434B5C;\n",
       "      box-shadow: 0px 1px 3px 1px rgba(0, 0, 0, 0.15);\n",
       "      filter: drop-shadow(0px 1px 2px rgba(0, 0, 0, 0.3));\n",
       "      fill: #FFFFFF;\n",
       "    }\n",
       "  </style>\n",
       "\n",
       "      <script>\n",
       "        const buttonEl =\n",
       "          document.querySelector('#df-7feaf2bc-c09a-4761-a313-ed54fc27f904 button.colab-df-convert');\n",
       "        buttonEl.style.display =\n",
       "          google.colab.kernel.accessAllowed ? 'block' : 'none';\n",
       "\n",
       "        async function convertToInteractive(key) {\n",
       "          const element = document.querySelector('#df-7feaf2bc-c09a-4761-a313-ed54fc27f904');\n",
       "          const dataTable =\n",
       "            await google.colab.kernel.invokeFunction('convertToInteractive',\n",
       "                                                     [key], {});\n",
       "          if (!dataTable) return;\n",
       "\n",
       "          const docLinkHtml = 'Like what you see? Visit the ' +\n",
       "            '<a target=\"_blank\" href=https://colab.research.google.com/notebooks/data_table.ipynb>data table notebook</a>'\n",
       "            + ' to learn more about interactive tables.';\n",
       "          element.innerHTML = '';\n",
       "          dataTable['output_type'] = 'display_data';\n",
       "          await google.colab.output.renderOutput(dataTable, element);\n",
       "          const docLink = document.createElement('div');\n",
       "          docLink.innerHTML = docLinkHtml;\n",
       "          element.appendChild(docLink);\n",
       "        }\n",
       "      </script>\n",
       "    </div>\n",
       "  </div>\n",
       "  "
      ],
      "text/plain": [
       "     aa_000        ac_000        ad_000  ae_000  af_000  ag_000  ag_001  \\\n",
       "0  0.000022  9.386557e-09  1.397901e-09     0.0     0.0     0.0     0.0   \n",
       "1  0.000030  3.191429e-08  4.659671e-09     0.0     0.0     0.0     0.0   \n",
       "2  0.024031  9.949750e-08  1.304708e-08     0.0     0.0     0.0     0.0   \n",
       "3  0.021778  4.740211e-07  1.090363e-07     0.0     0.0     0.0     0.0   \n",
       "4  0.000660  7.321514e-08  1.630885e-08     0.0     0.0     0.0     0.0   \n",
       "\n",
       "   ag_002    ag_003        ag_004  ...    ee_002    ee_003    ee_004  \\\n",
       "0     0.0  0.000042  2.069654e-05  ...  0.000014  0.000004  0.000004   \n",
       "1     0.0  0.000000  3.268794e-06  ...  0.000014  0.000007  0.000017   \n",
       "2     0.0  0.003146  5.936864e-03  ...  0.006353  0.010074  0.004530   \n",
       "3     0.0  0.000000  5.415448e-04  ...  0.006939  0.006443  0.004975   \n",
       "4     0.0  0.000000  3.146433e-07  ...  0.000098  0.000110  0.000190   \n",
       "\n",
       "     ee_005    ee_006        ee_007    ee_008    ee_009  ef_000  eg_000  \n",
       "0  0.000011  0.000002  7.359084e-07  0.000000  0.000000     0.0     0.0  \n",
       "1  0.000002  0.000003  3.863519e-06  0.000000  0.000000     0.0     0.0  \n",
       "2  0.004693  0.041604  1.285164e-03  0.000027  0.000000     0.0     0.0  \n",
       "3  0.008450  0.013648  1.756764e-03  0.014619  0.000848     0.0     0.0  \n",
       "4  0.000867  0.000100  4.030771e-06  0.000004  0.000000     0.0     0.0  \n",
       "\n",
       "[5 rows x 160 columns]"
      ]
     },
     "execution_count": 25,
     "metadata": {},
     "output_type": "execute_result"
    }
   ],
   "source": [
    "test_features.head()"
   ]
  },
  {
   "cell_type": "markdown",
   "metadata": {
    "id": "ikqaU2eoAckJ"
   },
   "source": [
    "##without removing correlated features"
   ]
  },
  {
   "cell_type": "code",
   "execution_count": 26,
   "metadata": {
    "colab": {
     "base_uri": "https://localhost:8080/",
     "height": 0
    },
    "id": "JjPO3RMfguqU",
    "outputId": "1778df49-6e91-45fb-9173-508641a5ff36"
   },
   "outputs": [
    {
     "data": {
      "text/html": [
       "\n",
       "  <div id=\"df-b4d8d87d-d703-4d56-9011-59d19f660010\">\n",
       "    <div class=\"colab-df-container\">\n",
       "      <div>\n",
       "<style scoped>\n",
       "    .dataframe tbody tr th:only-of-type {\n",
       "        vertical-align: middle;\n",
       "    }\n",
       "\n",
       "    .dataframe tbody tr th {\n",
       "        vertical-align: top;\n",
       "    }\n",
       "\n",
       "    .dataframe thead th {\n",
       "        text-align: right;\n",
       "    }\n",
       "</style>\n",
       "<table border=\"1\" class=\"dataframe\">\n",
       "  <thead>\n",
       "    <tr style=\"text-align: right;\">\n",
       "      <th></th>\n",
       "      <th>aa_000</th>\n",
       "      <th>ac_000</th>\n",
       "      <th>ad_000</th>\n",
       "      <th>ae_000</th>\n",
       "      <th>af_000</th>\n",
       "      <th>ag_000</th>\n",
       "      <th>ag_001</th>\n",
       "      <th>ag_002</th>\n",
       "      <th>ag_003</th>\n",
       "      <th>ag_004</th>\n",
       "      <th>...</th>\n",
       "      <th>ee_002</th>\n",
       "      <th>ee_003</th>\n",
       "      <th>ee_004</th>\n",
       "      <th>ee_005</th>\n",
       "      <th>ee_006</th>\n",
       "      <th>ee_007</th>\n",
       "      <th>ee_008</th>\n",
       "      <th>ee_009</th>\n",
       "      <th>ef_000</th>\n",
       "      <th>eg_000</th>\n",
       "    </tr>\n",
       "  </thead>\n",
       "  <tbody>\n",
       "    <tr>\n",
       "      <th>0</th>\n",
       "      <td>0.027925</td>\n",
       "      <td>9.999998e-01</td>\n",
       "      <td>3.261769e-08</td>\n",
       "      <td>0.0</td>\n",
       "      <td>0.000000</td>\n",
       "      <td>0.0</td>\n",
       "      <td>0.0</td>\n",
       "      <td>0.0</td>\n",
       "      <td>0.000000</td>\n",
       "      <td>0.000163</td>\n",
       "      <td>...</td>\n",
       "      <td>0.015918</td>\n",
       "      <td>0.013067</td>\n",
       "      <td>7.421784e-03</td>\n",
       "      <td>8.179508e-03</td>\n",
       "      <td>1.073013e-02</td>\n",
       "      <td>0.001321</td>\n",
       "      <td>0.003800</td>\n",
       "      <td>0.000000</td>\n",
       "      <td>0.000000</td>\n",
       "      <td>0.000000</td>\n",
       "    </tr>\n",
       "    <tr>\n",
       "      <th>1</th>\n",
       "      <td>0.012036</td>\n",
       "      <td>0.000000e+00</td>\n",
       "      <td>1.467796e-08</td>\n",
       "      <td>0.0</td>\n",
       "      <td>0.000000</td>\n",
       "      <td>0.0</td>\n",
       "      <td>0.0</td>\n",
       "      <td>0.0</td>\n",
       "      <td>0.000000</td>\n",
       "      <td>0.000080</td>\n",
       "      <td>...</td>\n",
       "      <td>0.005407</td>\n",
       "      <td>0.004716</td>\n",
       "      <td>3.019031e-03</td>\n",
       "      <td>4.272917e-03</td>\n",
       "      <td>4.228511e-03</td>\n",
       "      <td>0.000679</td>\n",
       "      <td>0.005064</td>\n",
       "      <td>0.000394</td>\n",
       "      <td>0.000000</td>\n",
       "      <td>0.000000</td>\n",
       "    </tr>\n",
       "    <tr>\n",
       "      <th>2</th>\n",
       "      <td>0.014942</td>\n",
       "      <td>1.070067e-07</td>\n",
       "      <td>1.164918e-08</td>\n",
       "      <td>0.0</td>\n",
       "      <td>0.000000</td>\n",
       "      <td>0.0</td>\n",
       "      <td>0.0</td>\n",
       "      <td>0.0</td>\n",
       "      <td>0.000000</td>\n",
       "      <td>0.000007</td>\n",
       "      <td>...</td>\n",
       "      <td>0.003559</td>\n",
       "      <td>0.004232</td>\n",
       "      <td>4.364196e-03</td>\n",
       "      <td>7.130884e-03</td>\n",
       "      <td>1.014768e-02</td>\n",
       "      <td>0.001321</td>\n",
       "      <td>0.004937</td>\n",
       "      <td>0.000135</td>\n",
       "      <td>0.000000</td>\n",
       "      <td>0.000000</td>\n",
       "    </tr>\n",
       "    <tr>\n",
       "      <th>3</th>\n",
       "      <td>0.000004</td>\n",
       "      <td>3.285295e-08</td>\n",
       "      <td>7.688457e-09</td>\n",
       "      <td>0.0</td>\n",
       "      <td>0.000498</td>\n",
       "      <td>0.0</td>\n",
       "      <td>0.0</td>\n",
       "      <td>0.0</td>\n",
       "      <td>0.000005</td>\n",
       "      <td>0.000010</td>\n",
       "      <td>...</td>\n",
       "      <td>0.000003</td>\n",
       "      <td>0.000001</td>\n",
       "      <td>5.970003e-07</td>\n",
       "      <td>7.660803e-07</td>\n",
       "      <td>3.163775e-07</td>\n",
       "      <td>0.000000</td>\n",
       "      <td>0.000000</td>\n",
       "      <td>0.000000</td>\n",
       "      <td>0.008299</td>\n",
       "      <td>0.027923</td>\n",
       "    </tr>\n",
       "    <tr>\n",
       "      <th>4</th>\n",
       "      <td>0.022164</td>\n",
       "      <td>6.420405e-07</td>\n",
       "      <td>5.335323e-08</td>\n",
       "      <td>0.0</td>\n",
       "      <td>0.000000</td>\n",
       "      <td>0.0</td>\n",
       "      <td>0.0</td>\n",
       "      <td>0.0</td>\n",
       "      <td>0.000000</td>\n",
       "      <td>0.000191</td>\n",
       "      <td>...</td>\n",
       "      <td>0.007981</td>\n",
       "      <td>0.006086</td>\n",
       "      <td>4.171776e-03</td>\n",
       "      <td>6.044861e-03</td>\n",
       "      <td>9.078578e-03</td>\n",
       "      <td>0.002605</td>\n",
       "      <td>0.022523</td>\n",
       "      <td>0.000320</td>\n",
       "      <td>0.000000</td>\n",
       "      <td>0.000000</td>\n",
       "    </tr>\n",
       "  </tbody>\n",
       "</table>\n",
       "<p>5 rows × 160 columns</p>\n",
       "</div>\n",
       "      <button class=\"colab-df-convert\" onclick=\"convertToInteractive('df-b4d8d87d-d703-4d56-9011-59d19f660010')\"\n",
       "              title=\"Convert this dataframe to an interactive table.\"\n",
       "              style=\"display:none;\">\n",
       "        \n",
       "  <svg xmlns=\"http://www.w3.org/2000/svg\" height=\"24px\"viewBox=\"0 0 24 24\"\n",
       "       width=\"24px\">\n",
       "    <path d=\"M0 0h24v24H0V0z\" fill=\"none\"/>\n",
       "    <path d=\"M18.56 5.44l.94 2.06.94-2.06 2.06-.94-2.06-.94-.94-2.06-.94 2.06-2.06.94zm-11 1L8.5 8.5l.94-2.06 2.06-.94-2.06-.94L8.5 2.5l-.94 2.06-2.06.94zm10 10l.94 2.06.94-2.06 2.06-.94-2.06-.94-.94-2.06-.94 2.06-2.06.94z\"/><path d=\"M17.41 7.96l-1.37-1.37c-.4-.4-.92-.59-1.43-.59-.52 0-1.04.2-1.43.59L10.3 9.45l-7.72 7.72c-.78.78-.78 2.05 0 2.83L4 21.41c.39.39.9.59 1.41.59.51 0 1.02-.2 1.41-.59l7.78-7.78 2.81-2.81c.8-.78.8-2.07 0-2.86zM5.41 20L4 18.59l7.72-7.72 1.47 1.35L5.41 20z\"/>\n",
       "  </svg>\n",
       "      </button>\n",
       "      \n",
       "  <style>\n",
       "    .colab-df-container {\n",
       "      display:flex;\n",
       "      flex-wrap:wrap;\n",
       "      gap: 12px;\n",
       "    }\n",
       "\n",
       "    .colab-df-convert {\n",
       "      background-color: #E8F0FE;\n",
       "      border: none;\n",
       "      border-radius: 50%;\n",
       "      cursor: pointer;\n",
       "      display: none;\n",
       "      fill: #1967D2;\n",
       "      height: 32px;\n",
       "      padding: 0 0 0 0;\n",
       "      width: 32px;\n",
       "    }\n",
       "\n",
       "    .colab-df-convert:hover {\n",
       "      background-color: #E2EBFA;\n",
       "      box-shadow: 0px 1px 2px rgba(60, 64, 67, 0.3), 0px 1px 3px 1px rgba(60, 64, 67, 0.15);\n",
       "      fill: #174EA6;\n",
       "    }\n",
       "\n",
       "    [theme=dark] .colab-df-convert {\n",
       "      background-color: #3B4455;\n",
       "      fill: #D2E3FC;\n",
       "    }\n",
       "\n",
       "    [theme=dark] .colab-df-convert:hover {\n",
       "      background-color: #434B5C;\n",
       "      box-shadow: 0px 1px 3px 1px rgba(0, 0, 0, 0.15);\n",
       "      filter: drop-shadow(0px 1px 2px rgba(0, 0, 0, 0.3));\n",
       "      fill: #FFFFFF;\n",
       "    }\n",
       "  </style>\n",
       "\n",
       "      <script>\n",
       "        const buttonEl =\n",
       "          document.querySelector('#df-b4d8d87d-d703-4d56-9011-59d19f660010 button.colab-df-convert');\n",
       "        buttonEl.style.display =\n",
       "          google.colab.kernel.accessAllowed ? 'block' : 'none';\n",
       "\n",
       "        async function convertToInteractive(key) {\n",
       "          const element = document.querySelector('#df-b4d8d87d-d703-4d56-9011-59d19f660010');\n",
       "          const dataTable =\n",
       "            await google.colab.kernel.invokeFunction('convertToInteractive',\n",
       "                                                     [key], {});\n",
       "          if (!dataTable) return;\n",
       "\n",
       "          const docLinkHtml = 'Like what you see? Visit the ' +\n",
       "            '<a target=\"_blank\" href=https://colab.research.google.com/notebooks/data_table.ipynb>data table notebook</a>'\n",
       "            + ' to learn more about interactive tables.';\n",
       "          element.innerHTML = '';\n",
       "          dataTable['output_type'] = 'display_data';\n",
       "          await google.colab.output.renderOutput(dataTable, element);\n",
       "          const docLink = document.createElement('div');\n",
       "          docLink.innerHTML = docLinkHtml;\n",
       "          element.appendChild(docLink);\n",
       "        }\n",
       "      </script>\n",
       "    </div>\n",
       "  </div>\n",
       "  "
      ],
      "text/plain": [
       "     aa_000        ac_000        ad_000  ae_000    af_000  ag_000  ag_001  \\\n",
       "0  0.027925  9.999998e-01  3.261769e-08     0.0  0.000000     0.0     0.0   \n",
       "1  0.012036  0.000000e+00  1.467796e-08     0.0  0.000000     0.0     0.0   \n",
       "2  0.014942  1.070067e-07  1.164918e-08     0.0  0.000000     0.0     0.0   \n",
       "3  0.000004  3.285295e-08  7.688457e-09     0.0  0.000498     0.0     0.0   \n",
       "4  0.022164  6.420405e-07  5.335323e-08     0.0  0.000000     0.0     0.0   \n",
       "\n",
       "   ag_002    ag_003    ag_004  ...    ee_002    ee_003        ee_004  \\\n",
       "0     0.0  0.000000  0.000163  ...  0.015918  0.013067  7.421784e-03   \n",
       "1     0.0  0.000000  0.000080  ...  0.005407  0.004716  3.019031e-03   \n",
       "2     0.0  0.000000  0.000007  ...  0.003559  0.004232  4.364196e-03   \n",
       "3     0.0  0.000005  0.000010  ...  0.000003  0.000001  5.970003e-07   \n",
       "4     0.0  0.000000  0.000191  ...  0.007981  0.006086  4.171776e-03   \n",
       "\n",
       "         ee_005        ee_006    ee_007    ee_008    ee_009    ef_000  \\\n",
       "0  8.179508e-03  1.073013e-02  0.001321  0.003800  0.000000  0.000000   \n",
       "1  4.272917e-03  4.228511e-03  0.000679  0.005064  0.000394  0.000000   \n",
       "2  7.130884e-03  1.014768e-02  0.001321  0.004937  0.000135  0.000000   \n",
       "3  7.660803e-07  3.163775e-07  0.000000  0.000000  0.000000  0.008299   \n",
       "4  6.044861e-03  9.078578e-03  0.002605  0.022523  0.000320  0.000000   \n",
       "\n",
       "     eg_000  \n",
       "0  0.000000  \n",
       "1  0.000000  \n",
       "2  0.000000  \n",
       "3  0.027923  \n",
       "4  0.000000  \n",
       "\n",
       "[5 rows x 160 columns]"
      ]
     },
     "execution_count": 26,
     "metadata": {},
     "output_type": "execute_result"
    }
   ],
   "source": [
    "train_features.head()"
   ]
  },
  {
   "cell_type": "code",
   "execution_count": 27,
   "metadata": {
    "id": "K6Sch0-gMvCK"
   },
   "outputs": [],
   "source": [
    "#Dimensionality Reduction using SelectKBest (without removing correlated features)\n",
    "selectKBest = SelectKBest(chi2, k=160)\n",
    "selectKBest.fit(train_features, train_labels)\n",
    "best_train_features = selectKBest.transform(train_features)\n",
    "idxs_selected = selectKBest.get_support(indices=True)\n",
    "best_train_features = train_features.iloc[:,idxs_selected]\n",
    "best_test_features = test_features.iloc[:,idxs_selected]"
   ]
  },
  {
   "cell_type": "code",
   "execution_count": 28,
   "metadata": {
    "colab": {
     "base_uri": "https://localhost:8080/"
    },
    "id": "7_gXMfmg47z8",
    "outputId": "06b0de0b-8223-44f1-a127-e95ca3dbc716"
   },
   "outputs": [
    {
     "data": {
      "text/plain": [
       "(60000, 160)"
      ]
     },
     "execution_count": 28,
     "metadata": {},
     "output_type": "execute_result"
    }
   ],
   "source": [
    "best_train_features.shape"
   ]
  },
  {
   "cell_type": "code",
   "execution_count": 29,
   "metadata": {
    "colab": {
     "base_uri": "https://localhost:8080/"
    },
    "id": "Wc5Xq3ft5WjB",
    "outputId": "30859ee0-5582-40bb-f39a-1abbc3519988"
   },
   "outputs": [
    {
     "data": {
      "text/plain": [
       "(16000, 160)"
      ]
     },
     "execution_count": 29,
     "metadata": {},
     "output_type": "execute_result"
    }
   ],
   "source": [
    "best_test_features.shape"
   ]
  },
  {
   "cell_type": "code",
   "execution_count": 30,
   "metadata": {
    "colab": {
     "base_uri": "https://localhost:8080/"
    },
    "id": "gZEsjI7weOlK",
    "outputId": "b4544976-b1f3-4b6c-cec1-6273f00f943f"
   },
   "outputs": [
    {
     "name": "stdout",
     "output_type": "stream",
     "text": [
      "Proportion balanced: 2.5/1\n"
     ]
    }
   ],
   "source": [
    "#Balancing the dataset\n",
    "number_samples = 2500\n",
    "idxs_pos = train_labels[train_labels==1].index\n",
    "idxs_neg = train_labels[train_labels==0].sample(n=number_samples, replace=False, random_state=0).index\n",
    "idxs_balanced = np.concatenate((idxs_pos,idxs_neg))\n",
    "best_train_features_balanced = best_train_features.loc[idxs_balanced]\n",
    "train_labels_balanced = train_labels.loc[idxs_balanced]\n",
    "print(f'Proportion balanced: {number_samples/1000}/1')"
   ]
  },
  {
   "cell_type": "code",
   "execution_count": 31,
   "metadata": {
    "colab": {
     "base_uri": "https://localhost:8080/"
    },
    "id": "KMlXiEVOeOlK",
    "outputId": "067da755-de91-42f3-ca19-203b0f4062a8"
   },
   "outputs": [
    {
     "data": {
      "text/plain": [
       "(3500, 160)"
      ]
     },
     "execution_count": 31,
     "metadata": {},
     "output_type": "execute_result"
    }
   ],
   "source": [
    "best_train_features_balanced.shape"
   ]
  },
  {
   "cell_type": "code",
   "execution_count": 32,
   "metadata": {
    "colab": {
     "base_uri": "https://localhost:8080/"
    },
    "id": "0VEhL50grAzk",
    "outputId": "e2ac91e8-e0b0-4d4a-c14b-2b96ad422325"
   },
   "outputs": [
    {
     "data": {
      "text/plain": [
       "9        1\n",
       "23       1\n",
       "60       1\n",
       "115      1\n",
       "135      1\n",
       "        ..\n",
       "44157    0\n",
       "28771    0\n",
       "2938     0\n",
       "53716    0\n",
       "44905    0\n",
       "Name: class, Length: 3500, dtype: int64"
      ]
     },
     "execution_count": 32,
     "metadata": {},
     "output_type": "execute_result"
    }
   ],
   "source": [
    "train_labels_balanced"
   ]
  },
  {
   "cell_type": "code",
   "execution_count": 33,
   "metadata": {
    "colab": {
     "base_uri": "https://localhost:8080/"
    },
    "id": "NLOaTgwDeOlK",
    "outputId": "a95db5f5-c56e-4cb5-ac94-324d860c3418"
   },
   "outputs": [
    {
     "data": {
      "text/plain": [
       "0    2500\n",
       "1    1000\n",
       "Name: class, dtype: int64"
      ]
     },
     "execution_count": 33,
     "metadata": {},
     "output_type": "execute_result"
    }
   ],
   "source": [
    "train_labels_balanced.value_counts()"
   ]
  },
  {
   "cell_type": "markdown",
   "metadata": {
    "id": "PRa_UlM3Aiez"
   },
   "source": [
    "##train test split"
   ]
  },
  {
   "cell_type": "code",
   "execution_count": 34,
   "metadata": {
    "id": "foji6FKqiTYu"
   },
   "outputs": [],
   "source": [
    "X_train, X_test, y_train, y_test = train_test_split(best_train_features_balanced, train_labels_balanced, test_size=0.1, random_state=3)"
   ]
  },
  {
   "cell_type": "code",
   "execution_count": 35,
   "metadata": {
    "colab": {
     "base_uri": "https://localhost:8080/"
    },
    "id": "bIF75SjdeOlL",
    "outputId": "519f4d95-0b97-4e9d-d420-6ab787c4be2e"
   },
   "outputs": [
    {
     "name": "stdout",
     "output_type": "stream",
     "text": [
      "(3150, 160)\n",
      "(350, 160)\n",
      "(3150,)\n",
      "(350,)\n"
     ]
    }
   ],
   "source": [
    "ele = [X_train, X_test, y_train, y_test]\n",
    "for element in ele:\n",
    "    print(element.shape)"
   ]
  },
  {
   "cell_type": "code",
   "execution_count": 36,
   "metadata": {
    "colab": {
     "base_uri": "https://localhost:8080/"
    },
    "id": "doRTEWkveOlL",
    "outputId": "f30fbce0-1afd-4885-e096-0955cdf53d8d"
   },
   "outputs": [
    {
     "name": "stdout",
     "output_type": "stream",
     "text": [
      "0    2247\n",
      "1     903\n",
      "Name: class, dtype: int64\n",
      "0    253\n",
      "1     97\n",
      "Name: class, dtype: int64\n"
     ]
    }
   ],
   "source": [
    "print(y_train.value_counts())\n",
    "print(y_test.value_counts())"
   ]
  },
  {
   "cell_type": "markdown",
   "metadata": {
    "id": "Mj5h16BCfrVo"
   },
   "source": [
    "##Building a basic neural network"
   ]
  },
  {
   "cell_type": "code",
   "execution_count": 37,
   "metadata": {
    "id": "Qfl7X0ZuftNd"
   },
   "outputs": [],
   "source": [
    "import keras\n",
    "from keras.models import Sequential\n",
    "from keras.layers import Dense\n",
    "classifier = Sequential()\n",
    "classifier.add(Dense(units = 6, kernel_initializer = 'uniform', activation = 'relu', input_dim = 160))\n",
    "classifier.add(Dense(units = 6, kernel_initializer = 'uniform', activation = 'relu'))\n",
    "classifier.add(Dense(units = 1, kernel_initializer = 'uniform', activation = 'sigmoid'))\n",
    "classifier.compile(optimizer = 'adam', loss = 'binary_crossentropy', metrics = ['accuracy'])"
   ]
  },
  {
   "cell_type": "code",
   "execution_count": 38,
   "metadata": {
    "colab": {
     "base_uri": "https://localhost:8080/"
    },
    "id": "yd0qfS0LFLzk",
    "outputId": "3b6f1bd8-5f65-4615-a70a-d5b07591d6d7"
   },
   "outputs": [
    {
     "name": "stdout",
     "output_type": "stream",
     "text": [
      "Epoch 1/10\n",
      "315/315 [==============================] - 1s 2ms/step - loss: 0.5148 - accuracy: 0.8749\n",
      "Epoch 2/10\n",
      "315/315 [==============================] - 1s 2ms/step - loss: 0.2012 - accuracy: 0.9460\n",
      "Epoch 3/10\n",
      "315/315 [==============================] - 1s 2ms/step - loss: 0.1662 - accuracy: 0.9467\n",
      "Epoch 4/10\n",
      "315/315 [==============================] - 1s 2ms/step - loss: 0.1580 - accuracy: 0.9492\n",
      "Epoch 5/10\n",
      "315/315 [==============================] - 1s 2ms/step - loss: 0.1541 - accuracy: 0.9492\n",
      "Epoch 6/10\n",
      "315/315 [==============================] - 1s 2ms/step - loss: 0.1506 - accuracy: 0.9495\n",
      "Epoch 7/10\n",
      "315/315 [==============================] - 1s 2ms/step - loss: 0.1479 - accuracy: 0.9514\n",
      "Epoch 8/10\n",
      "315/315 [==============================] - 1s 2ms/step - loss: 0.1450 - accuracy: 0.9508\n",
      "Epoch 9/10\n",
      "315/315 [==============================] - 1s 2ms/step - loss: 0.1426 - accuracy: 0.9514\n",
      "Epoch 10/10\n",
      "315/315 [==============================] - 1s 2ms/step - loss: 0.1405 - accuracy: 0.9524\n"
     ]
    }
   ],
   "source": [
    "history=classifier.fit(X_train, y_train, batch_size = 10, epochs = 10)\n",
    "y_pred_t = classifier.predict(X_test)"
   ]
  },
  {
   "cell_type": "code",
   "execution_count": 39,
   "metadata": {
    "colab": {
     "base_uri": "https://localhost:8080/"
    },
    "id": "3x1ZRZmQFUi4",
    "outputId": "24c6d814-0cae-4687-85e3-d169736df51f"
   },
   "outputs": [
    {
     "name": "stdout",
     "output_type": "stream",
     "text": [
      "              precision    recall  f1-score   support\n",
      "\n",
      "           0       0.95      0.97      0.96       253\n",
      "           1       0.91      0.88      0.89        97\n",
      "\n",
      "    accuracy                           0.94       350\n",
      "   macro avg       0.93      0.92      0.93       350\n",
      "weighted avg       0.94      0.94      0.94       350\n",
      "\n",
      "Total cost is: 6080.0\n"
     ]
    }
   ],
   "source": [
    "#Evaluating the basic neural network (validation dataset)\n",
    "y_pred_t = (y_pred_t > 0.5)\n",
    "report = classification_report(y_test, y_pred_t)\n",
    "print(report)\n",
    "cm = confusion_matrix(y_test, y_pred_t).ravel()\n",
    "cm = pd.DataFrame(cm.reshape((1,4)), columns=['tn', 'fp', 'fn', 'tp'])\n",
    "total_cost = 10*cm.fp + 500*cm.fn\n",
    "print(f'Total cost is: {float(total_cost.values[0])}')"
   ]
  },
  {
   "cell_type": "code",
   "execution_count": 40,
   "metadata": {
    "colab": {
     "base_uri": "https://localhost:8080/"
    },
    "id": "1u4TSK8ofwMM",
    "outputId": "000a8d47-dc00-44b7-e8c6-4607035f9af4"
   },
   "outputs": [
    {
     "name": "stdout",
     "output_type": "stream",
     "text": [
      "Epoch 1/10\n",
      "350/350 [==============================] - 1s 2ms/step - loss: 0.1409 - accuracy: 0.9523\n",
      "Epoch 2/10\n",
      "350/350 [==============================] - 1s 2ms/step - loss: 0.1381 - accuracy: 0.9517\n",
      "Epoch 3/10\n",
      "350/350 [==============================] - 1s 2ms/step - loss: 0.1353 - accuracy: 0.9531\n",
      "Epoch 4/10\n",
      "350/350 [==============================] - 1s 2ms/step - loss: 0.1328 - accuracy: 0.9531\n",
      "Epoch 5/10\n",
      "350/350 [==============================] - 1s 2ms/step - loss: 0.1305 - accuracy: 0.9537\n",
      "Epoch 6/10\n",
      "350/350 [==============================] - 1s 2ms/step - loss: 0.1280 - accuracy: 0.9543\n",
      "Epoch 7/10\n",
      "350/350 [==============================] - 1s 2ms/step - loss: 0.1252 - accuracy: 0.9554\n",
      "Epoch 8/10\n",
      "350/350 [==============================] - 1s 2ms/step - loss: 0.1228 - accuracy: 0.9557\n",
      "Epoch 9/10\n",
      "350/350 [==============================] - 1s 2ms/step - loss: 0.1204 - accuracy: 0.9580\n",
      "Epoch 10/10\n",
      "350/350 [==============================] - 1s 2ms/step - loss: 0.1185 - accuracy: 0.9586\n"
     ]
    }
   ],
   "source": [
    "history=classifier.fit(best_train_features_balanced, train_labels_balanced, batch_size = 10, epochs = 10)\n",
    "y_pred = classifier.predict(best_test_features)"
   ]
  },
  {
   "cell_type": "code",
   "execution_count": 41,
   "metadata": {
    "colab": {
     "base_uri": "https://localhost:8080/"
    },
    "id": "vUTCrZ1cf3F_",
    "outputId": "25ea9ddd-aa48-44f2-b0b3-2be694fd4d59"
   },
   "outputs": [
    {
     "name": "stdout",
     "output_type": "stream",
     "text": [
      "              precision    recall  f1-score   support\n",
      "\n",
      "           0       1.00      0.97      0.98     15625\n",
      "           1       0.40      0.95      0.56       375\n",
      "\n",
      "    accuracy                           0.97     16000\n",
      "   macro avg       0.70      0.96      0.77     16000\n",
      "weighted avg       0.98      0.97      0.97     16000\n",
      "\n",
      "Total cost is: 14810.0\n"
     ]
    }
   ],
   "source": [
    "#Evaluating the basic neural network (test dataset)\n",
    "y_pred = (y_pred > 0.5)\n",
    "report = classification_report(test_labels, y_pred)\n",
    "print(report)\n",
    "cm = confusion_matrix(test_labels, y_pred).ravel()\n",
    "cm = pd.DataFrame(cm.reshape((1,4)), columns=['tn', 'fp', 'fn', 'tp'])\n",
    "total_cost = 10*cm.fp + 500*cm.fn\n",
    "print(f'Total cost is: {float(total_cost.values[0])}')"
   ]
  },
  {
   "cell_type": "code",
   "execution_count": 42,
   "metadata": {
    "colab": {
     "base_uri": "https://localhost:8080/"
    },
    "id": "RephrowUKZlc",
    "outputId": "ddc5e984-2658-465a-f02b-fb3f02b7994d"
   },
   "outputs": [
    {
     "data": {
      "text/plain": [
       "array([[15094,   531],\n",
       "       [   19,   356]])"
      ]
     },
     "execution_count": 42,
     "metadata": {},
     "output_type": "execute_result"
    }
   ],
   "source": [
    "confusion_matrix(test_labels, y_pred)"
   ]
  },
  {
   "cell_type": "code",
   "execution_count": 88,
   "metadata": {
    "colab": {
     "base_uri": "https://localhost:8080/",
     "height": 358
    },
    "id": "1aipasiWAeZx",
    "outputId": "2d64e6e0-8248-4016-ff66-e27eecf081ab"
   },
   "outputs": [
    {
     "data": {
      "image/png": "[encoded data removed]",
      "text/plain": [
       "<Figure size 360x360 with 1 Axes>"
      ]
     },
     "metadata": {
      "needs_background": "light"
     },
     "output_type": "display_data"
    }
   ],
   "source": [
    "conf_matrix=confusion_matrix(test_labels, y_pred)\n",
    "fig, ax = plt.subplots(figsize=(5, 5))\n",
    "ax.matshow(conf_matrix, cmap=plt.cm.Blues, alpha=0.3)\n",
    "for i in range(conf_matrix.shape[0]):\n",
    "    for j in range(conf_matrix.shape[1]):\n",
    "        ax.text(x=j, y=i,s=conf_matrix[i, j], va='center', ha='center', size='xx-large')\n",
    "\n",
    "plt.xlabel('Predictions', fontsize=18)\n",
    "plt.ylabel('Actuals', fontsize=18)\n",
    "plt.title('Confusion Matrix', fontsize=18)\n",
    "plt.show()"
   ]
  },
  {
   "cell_type": "code",
   "execution_count": 44,
   "metadata": {
    "colab": {
     "base_uri": "https://localhost:8080/"
    },
    "id": "8UoXAHCl22qu",
    "outputId": "683bb56b-5583-420c-852d-19f013ae027b"
   },
   "outputs": [
    {
     "name": "stdout",
     "output_type": "stream",
     "text": [
      "dict_keys(['loss', 'accuracy'])\n"
     ]
    }
   ],
   "source": [
    "# list all data in history\n",
    "print(history.history.keys())"
   ]
  },
  {
   "cell_type": "code",
   "execution_count": 45,
   "metadata": {
    "colab": {
     "base_uri": "https://localhost:8080/",
     "height": 295
    },
    "id": "QzXupwpK8bco",
    "outputId": "9bcbd5fa-6e92-4f32-9907-79bc7c68d0ea"
   },
   "outputs": [
    {
     "data": {
      "image/png": "[encoded data removed]",
      "text/plain": [
       "<Figure size 432x288 with 1 Axes>"
      ]
     },
     "metadata": {
      "needs_background": "light"
     },
     "output_type": "display_data"
    }
   ],
   "source": [
    "# summarize history for loss\n",
    "plt.plot(history.history['loss'])\n",
    "plt.title('model loss')\n",
    "plt.ylabel('loss')\n",
    "plt.xlabel('epoch')\n",
    "plt.show()"
   ]
  },
  {
   "cell_type": "code",
   "execution_count": 46,
   "metadata": {
    "colab": {
     "base_uri": "https://localhost:8080/",
     "height": 314
    },
    "id": "gRie3bIuJPID",
    "outputId": "3aad7010-4393-48c0-b532-68f28465a814"
   },
   "outputs": [
    {
     "name": "stdout",
     "output_type": "stream",
     "text": [
      "AREA UNDER ROC:  0.9576746666666667\n"
     ]
    },
    {
     "data": {
      "text/plain": [
       "<function matplotlib.pyplot.show>"
      ]
     },
     "execution_count": 46,
     "metadata": {},
     "output_type": "execute_result"
    },
    {
     "data": {
      "image/png": "[encoded data removed]",
      "text/plain": [
       "<Figure size 432x288 with 1 Axes>"
      ]
     },
     "metadata": {
      "needs_background": "light"
     },
     "output_type": "display_data"
    }
   ],
   "source": [
    "#AUROC\n",
    "ann_auc=roc_auc_score(test_labels,y_pred)\n",
    "print(\"AREA UNDER ROC: \",ann_auc)\n",
    "ann_fpr,ann_tpr,_ =roc_curve(test_labels,y_pred)\n",
    "plt.plot(ann_fpr,ann_tpr)\n",
    "plt.xlabel('False positive rate')\n",
    "plt.ylabel('True positive rate')\n",
    "plt.show"
   ]
  },
  {
   "cell_type": "markdown",
   "metadata": {
    "id": "799R-XC-Beu_"
   },
   "source": [
    "##Building a Recurrent Neural Network"
   ]
  },
  {
   "cell_type": "code",
   "execution_count": 47,
   "metadata": {
    "id": "Vvb5Axkrc2P3"
   },
   "outputs": [],
   "source": [
    "# Set up parameters\n",
    "time_steps = 160\n",
    "hidden_units = 2\n",
    "epochs = 30"
   ]
  },
  {
   "cell_type": "code",
   "execution_count": 48,
   "metadata": {
    "id": "yzD7QRLgc3Wu"
   },
   "outputs": [],
   "source": [
    "# Create a traditional RNN network\n",
    "def create_RNN(hidden_units, dense_units, input_shape, activation):\n",
    "    model = Sequential()\n",
    "    model.add(SimpleRNN(hidden_units, input_shape=input_shape, activation=activation[0]))\n",
    "    model.add(Dense(units=dense_units, activation=activation[1]))\n",
    "    model.compile(loss='mse', optimizer='adam')\n",
    "    return model"
   ]
  },
  {
   "cell_type": "code",
   "execution_count": 49,
   "metadata": {
    "colab": {
     "base_uri": "https://localhost:8080/"
    },
    "id": "X7wE7OOSad-Z",
    "outputId": "04c35111-a354-431a-e344-b1b2b0a6f01e"
   },
   "outputs": [
    {
     "name": "stdout",
     "output_type": "stream",
     "text": [
      "Model: \"sequential_1\"\n",
      "_________________________________________________________________\n",
      " Layer (type)                Output Shape              Param #   \n",
      "=================================================================\n",
      " simple_rnn (SimpleRNN)      (None, 2)                 8         \n",
      "                                                                 \n",
      " dense_3 (Dense)             (None, 1)                 3         \n",
      "                                                                 \n",
      "=================================================================\n",
      "Total params: 11\n",
      "Trainable params: 11\n",
      "Non-trainable params: 0\n",
      "_________________________________________________________________\n"
     ]
    }
   ],
   "source": [
    "model_RNN = create_RNN(hidden_units=hidden_units, dense_units=1, input_shape=(time_steps,1), \n",
    "                   activation=['tanh', 'tanh'])\n",
    "model_RNN.summary()"
   ]
  },
  {
   "cell_type": "code",
   "execution_count": 50,
   "metadata": {
    "colab": {
     "base_uri": "https://localhost:8080/"
    },
    "id": "clMY0iQwFfa7",
    "outputId": "8bb846a2-018d-49f8-cfc4-b527299f6776"
   },
   "outputs": [
    {
     "name": "stdout",
     "output_type": "stream",
     "text": [
      "Epoch 1/10\n",
      "315/315 - 6s - loss: 0.2312 - 6s/epoch - 19ms/step\n",
      "Epoch 2/10\n",
      "315/315 - 5s - loss: 0.0980 - 5s/epoch - 16ms/step\n",
      "Epoch 3/10\n",
      "315/315 - 5s - loss: 0.0751 - 5s/epoch - 17ms/step\n",
      "Epoch 4/10\n",
      "315/315 - 5s - loss: 0.0705 - 5s/epoch - 16ms/step\n",
      "Epoch 5/10\n",
      "315/315 - 6s - loss: 0.0660 - 6s/epoch - 19ms/step\n",
      "Epoch 6/10\n",
      "315/315 - 5s - loss: 0.0652 - 5s/epoch - 17ms/step\n",
      "Epoch 7/10\n",
      "315/315 - 5s - loss: 0.0636 - 5s/epoch - 16ms/step\n",
      "Epoch 8/10\n",
      "315/315 - 7s - loss: 0.0658 - 7s/epoch - 24ms/step\n",
      "Epoch 9/10\n",
      "315/315 - 12s - loss: 0.0637 - 12s/epoch - 37ms/step\n",
      "Epoch 10/10\n",
      "315/315 - 12s - loss: 0.0611 - 12s/epoch - 40ms/step\n"
     ]
    }
   ],
   "source": [
    "model_RNN.fit(X_train, y_train, epochs=10, batch_size=10, verbose=2)\n",
    "yy_pred_t = model_RNN.predict(X_test)"
   ]
  },
  {
   "cell_type": "code",
   "execution_count": 51,
   "metadata": {
    "colab": {
     "base_uri": "https://localhost:8080/"
    },
    "id": "xtdUholfFtES",
    "outputId": "a67d7811-2b4c-47f7-b880-bed345ccb516"
   },
   "outputs": [
    {
     "name": "stdout",
     "output_type": "stream",
     "text": [
      "              precision    recall  f1-score   support\n",
      "\n",
      "           0       0.94      0.95      0.95       253\n",
      "           1       0.87      0.85      0.86        97\n",
      "\n",
      "    accuracy                           0.92       350\n",
      "   macro avg       0.91      0.90      0.90       350\n",
      "weighted avg       0.92      0.92      0.92       350\n",
      "\n",
      "Total cost is: 7620.0\n"
     ]
    }
   ],
   "source": [
    "#Evaluating the Recurrent Neural Network(validation dataset)\n",
    "yy_pred_t = (yy_pred_t > 0.5)\n",
    "report = classification_report(y_test, yy_pred_t)\n",
    "print(report)\n",
    "cm = confusion_matrix(y_test, yy_pred_t).ravel()\n",
    "cm = pd.DataFrame(cm.reshape((1,4)), columns=['tn', 'fp', 'fn', 'tp'])\n",
    "total_cost = 10*cm.fp + 500*cm.fn\n",
    "print(f'Total cost is: {float(total_cost.values[0])}')"
   ]
  },
  {
   "cell_type": "code",
   "execution_count": 52,
   "metadata": {
    "colab": {
     "base_uri": "https://localhost:8080/"
    },
    "id": "V96U5QTjiY9L",
    "outputId": "10d6e0dd-7c47-4f03-da7d-07c5b9d88c6e"
   },
   "outputs": [
    {
     "name": "stdout",
     "output_type": "stream",
     "text": [
      "Epoch 1/10\n",
      "350/350 - 7s - loss: 0.0613 - 7s/epoch - 20ms/step\n",
      "Epoch 2/10\n",
      "350/350 - 6s - loss: 0.0611 - 6s/epoch - 17ms/step\n",
      "Epoch 3/10\n",
      "350/350 - 6s - loss: 0.0631 - 6s/epoch - 17ms/step\n",
      "Epoch 4/10\n",
      "350/350 - 6s - loss: 0.0601 - 6s/epoch - 17ms/step\n",
      "Epoch 5/10\n",
      "350/350 - 6s - loss: 0.0581 - 6s/epoch - 17ms/step\n",
      "Epoch 6/10\n",
      "350/350 - 6s - loss: 0.0601 - 6s/epoch - 17ms/step\n",
      "Epoch 7/10\n",
      "350/350 - 6s - loss: 0.0595 - 6s/epoch - 17ms/step\n",
      "Epoch 8/10\n",
      "350/350 - 6s - loss: 0.0586 - 6s/epoch - 17ms/step\n",
      "Epoch 9/10\n",
      "350/350 - 6s - loss: 0.0601 - 6s/epoch - 17ms/step\n",
      "Epoch 10/10\n",
      "350/350 - 6s - loss: 0.0591 - 6s/epoch - 17ms/step\n"
     ]
    }
   ],
   "source": [
    "history=model_RNN.fit(best_train_features_balanced, train_labels_balanced, epochs=10, batch_size=10, verbose=2)\n",
    "yy_pred = model_RNN.predict(best_test_features)"
   ]
  },
  {
   "cell_type": "code",
   "execution_count": 53,
   "metadata": {
    "colab": {
     "base_uri": "https://localhost:8080/"
    },
    "id": "hs-WXxR6dME-",
    "outputId": "f082d610-9e92-408e-ad4a-00296a28f9a4"
   },
   "outputs": [
    {
     "name": "stdout",
     "output_type": "stream",
     "text": [
      "              precision    recall  f1-score   support\n",
      "\n",
      "           0       1.00      0.93      0.96     15625\n",
      "           1       0.23      0.93      0.37       375\n",
      "\n",
      "    accuracy                           0.93     16000\n",
      "   macro avg       0.61      0.93      0.67     16000\n",
      "weighted avg       0.98      0.93      0.95     16000\n",
      "\n",
      "Total cost is: 24150.0\n"
     ]
    }
   ],
   "source": [
    "#Evaluating the Recurrent Neural Network(test dataset)\n",
    "yy_pred = (yy_pred > 0.5)\n",
    "report = classification_report(test_labels, yy_pred)\n",
    "print(report)\n",
    "cm = confusion_matrix(test_labels, yy_pred).ravel()\n",
    "cm = pd.DataFrame(cm.reshape((1,4)), columns=['tn', 'fp', 'fn', 'tp'])\n",
    "total_cost = 10*cm.fp + 500*cm.fn\n",
    "print(f'Total cost is: {float(total_cost.values[0])}')"
   ]
  },
  {
   "cell_type": "code",
   "execution_count": 54,
   "metadata": {
    "colab": {
     "base_uri": "https://localhost:8080/"
    },
    "id": "mbnz3E1WLefX",
    "outputId": "12573a47-2c18-40ab-8b54-75175239956d"
   },
   "outputs": [
    {
     "data": {
      "text/plain": [
       "array([[14460,  1165],\n",
       "       [   25,   350]])"
      ]
     },
     "execution_count": 54,
     "metadata": {},
     "output_type": "execute_result"
    }
   ],
   "source": [
    "confusion_matrix(test_labels, yy_pred)"
   ]
  },
  {
   "cell_type": "code",
   "execution_count": 89,
   "metadata": {
    "colab": {
     "base_uri": "https://localhost:8080/",
     "height": 358
    },
    "id": "kOEKrrmCAhtA",
    "outputId": "aad0d424-8db3-41e7-a494-e13d69946cca"
   },
   "outputs": [
    {
     "data": {
      "image/png": "[encoded data removed]",
      "text/plain": [
       "<Figure size 360x360 with 1 Axes>"
      ]
     },
     "metadata": {
      "needs_background": "light"
     },
     "output_type": "display_data"
    }
   ],
   "source": [
    "conf_matrix=confusion_matrix(test_labels, yy_pred)\n",
    "fig, ax = plt.subplots(figsize=(5, 5))\n",
    "ax.matshow(conf_matrix, cmap=plt.cm.Blues, alpha=0.3)\n",
    "for i in range(conf_matrix.shape[0]):\n",
    "    for j in range(conf_matrix.shape[1]):\n",
    "        ax.text(x=j, y=i,s=conf_matrix[i, j], va='center', ha='center', size='xx-large')\n",
    "\n",
    "plt.xlabel('Predictions', fontsize=18)\n",
    "plt.ylabel('Actuals', fontsize=18)\n",
    "plt.title('Confusion Matrix', fontsize=18)\n",
    "plt.show()"
   ]
  },
  {
   "cell_type": "code",
   "execution_count": 56,
   "metadata": {
    "colab": {
     "base_uri": "https://localhost:8080/",
     "height": 295
    },
    "id": "kGRMJFM1DUbq",
    "outputId": "caef8900-44b2-4393-fb52-a1765370cedf"
   },
   "outputs": [
    {
     "data": {
      "image/png": "[encoded data removed]",
      "text/plain": [
       "<Figure size 432x288 with 1 Axes>"
      ]
     },
     "metadata": {
      "needs_background": "light"
     },
     "output_type": "display_data"
    }
   ],
   "source": [
    "# summarize history for loss\n",
    "plt.plot(history.history['loss'])\n",
    "plt.title('model loss')\n",
    "plt.ylabel('loss')\n",
    "plt.xlabel('epoch')\n",
    "plt.show()"
   ]
  },
  {
   "cell_type": "code",
   "execution_count": 57,
   "metadata": {
    "colab": {
     "base_uri": "https://localhost:8080/",
     "height": 314
    },
    "id": "gupZcZ_1MXHG",
    "outputId": "20661385-6520-43b0-bfa9-824450d66dc3"
   },
   "outputs": [
    {
     "name": "stdout",
     "output_type": "stream",
     "text": [
      "AREA UNDER ROC:  0.9293866666666667\n"
     ]
    },
    {
     "data": {
      "text/plain": [
       "<function matplotlib.pyplot.show>"
      ]
     },
     "execution_count": 57,
     "metadata": {},
     "output_type": "execute_result"
    },
    {
     "data": {
      "image/png": "[encoded data removed]",
      "text/plain": [
       "<Figure size 432x288 with 1 Axes>"
      ]
     },
     "metadata": {
      "needs_background": "light"
     },
     "output_type": "display_data"
    }
   ],
   "source": [
    "#AUROC\n",
    "ann_auc=roc_auc_score(test_labels,yy_pred)\n",
    "print(\"AREA UNDER ROC: \",ann_auc)\n",
    "ann_fpr,ann_tpr,_ =roc_curve(test_labels,yy_pred)\n",
    "plt.plot(ann_fpr,ann_tpr)\n",
    "plt.xlabel('False positive rate')\n",
    "plt.ylabel('True positive rate')\n",
    "plt.show"
   ]
  },
  {
   "cell_type": "markdown",
   "metadata": {
    "id": "KJMdzfwOBmSw"
   },
   "source": [
    "##Building a Multi-Layer Perceptron"
   ]
  },
  {
   "cell_type": "code",
   "execution_count": 58,
   "metadata": {
    "id": "nV2gBCjfmVjQ"
   },
   "outputs": [],
   "source": [
    "clf = MLPClassifier(hidden_layer_sizes=(6,5),\n",
    "                    random_state=5,\n",
    "                    verbose=True,\n",
    "                    learning_rate_init=0.01)"
   ]
  },
  {
   "cell_type": "code",
   "execution_count": 59,
   "metadata": {
    "colab": {
     "base_uri": "https://localhost:8080/"
    },
    "id": "nwSG4_b2XoqD",
    "outputId": "9a1306c2-64ff-4a83-88c0-8bc79a5b3441"
   },
   "outputs": [
    {
     "name": "stdout",
     "output_type": "stream",
     "text": [
      "Iteration 1, loss = 0.50425517\n",
      "Iteration 2, loss = 0.27656967\n",
      "Iteration 3, loss = 0.17562760\n",
      "Iteration 4, loss = 0.15866292\n",
      "Iteration 5, loss = 0.15021747\n",
      "Iteration 6, loss = 0.14663912\n",
      "Iteration 7, loss = 0.14276067\n",
      "Iteration 8, loss = 0.13749117\n",
      "Iteration 9, loss = 0.13706433\n",
      "Iteration 10, loss = 0.13089497\n",
      "Iteration 11, loss = 0.12567130\n",
      "Iteration 12, loss = 0.12099532\n",
      "Iteration 13, loss = 0.11526137\n",
      "Iteration 14, loss = 0.11314034\n",
      "Iteration 15, loss = 0.11222212\n",
      "Iteration 16, loss = 0.11067863\n",
      "Iteration 17, loss = 0.10335746\n",
      "Iteration 18, loss = 0.09828689\n",
      "Iteration 19, loss = 0.09647894\n",
      "Iteration 20, loss = 0.09590054\n",
      "Iteration 21, loss = 0.09433529\n",
      "Iteration 22, loss = 0.09095115\n",
      "Iteration 23, loss = 0.08927393\n",
      "Iteration 24, loss = 0.09205971\n",
      "Iteration 25, loss = 0.08959081\n",
      "Iteration 26, loss = 0.08824625\n",
      "Iteration 27, loss = 0.09179765\n",
      "Iteration 28, loss = 0.08405211\n",
      "Iteration 29, loss = 0.08479730\n",
      "Iteration 30, loss = 0.08242633\n",
      "Iteration 31, loss = 0.08198575\n",
      "Iteration 32, loss = 0.08322995\n",
      "Iteration 33, loss = 0.08331233\n",
      "Iteration 34, loss = 0.08211963\n",
      "Iteration 35, loss = 0.08147598\n",
      "Iteration 36, loss = 0.07821739\n",
      "Iteration 37, loss = 0.07936264\n",
      "Iteration 38, loss = 0.08209532\n",
      "Iteration 39, loss = 0.08650463\n",
      "Iteration 40, loss = 0.07842613\n",
      "Iteration 41, loss = 0.07447045\n",
      "Iteration 42, loss = 0.07410725\n",
      "Iteration 43, loss = 0.07364427\n",
      "Iteration 44, loss = 0.07373274\n",
      "Iteration 45, loss = 0.07421172\n",
      "Iteration 46, loss = 0.07196672\n",
      "Iteration 47, loss = 0.07342503\n",
      "Iteration 48, loss = 0.07083133\n",
      "Iteration 49, loss = 0.06847472\n",
      "Iteration 50, loss = 0.06877327\n",
      "Iteration 51, loss = 0.07040679\n",
      "Iteration 52, loss = 0.06710228\n",
      "Iteration 53, loss = 0.06803515\n",
      "Iteration 54, loss = 0.06949598\n",
      "Iteration 55, loss = 0.06802077\n",
      "Iteration 56, loss = 0.06694918\n",
      "Iteration 57, loss = 0.06660088\n",
      "Iteration 58, loss = 0.06820352\n",
      "Iteration 59, loss = 0.06488685\n",
      "Iteration 60, loss = 0.06252547\n",
      "Iteration 61, loss = 0.06562414\n",
      "Iteration 62, loss = 0.06605612\n",
      "Iteration 63, loss = 0.06190615\n",
      "Iteration 64, loss = 0.06453761\n",
      "Iteration 65, loss = 0.06917455\n",
      "Iteration 66, loss = 0.06844404\n",
      "Iteration 67, loss = 0.06462195\n",
      "Iteration 68, loss = 0.06076411\n",
      "Iteration 69, loss = 0.06270072\n",
      "Iteration 70, loss = 0.06042211\n",
      "Iteration 71, loss = 0.05969170\n",
      "Iteration 72, loss = 0.05907717\n",
      "Iteration 73, loss = 0.05811595\n",
      "Iteration 74, loss = 0.05864859\n",
      "Iteration 75, loss = 0.05716717\n",
      "Iteration 76, loss = 0.05841911\n",
      "Iteration 77, loss = 0.05919667\n",
      "Iteration 78, loss = 0.05737541\n",
      "Iteration 79, loss = 0.05682115\n",
      "Iteration 80, loss = 0.05700802\n",
      "Iteration 81, loss = 0.05636249\n",
      "Iteration 82, loss = 0.05729295\n",
      "Iteration 83, loss = 0.05948398\n",
      "Iteration 84, loss = 0.05686795\n",
      "Iteration 85, loss = 0.05918809\n",
      "Iteration 86, loss = 0.05424258\n",
      "Iteration 87, loss = 0.05622406\n",
      "Iteration 88, loss = 0.05432322\n",
      "Iteration 89, loss = 0.05675783\n",
      "Iteration 90, loss = 0.05479223\n",
      "Iteration 91, loss = 0.05518678\n",
      "Iteration 92, loss = 0.05545625\n",
      "Iteration 93, loss = 0.06333907\n",
      "Iteration 94, loss = 0.06723150\n",
      "Iteration 95, loss = 0.05680206\n",
      "Iteration 96, loss = 0.05445615\n",
      "Iteration 97, loss = 0.05588416\n",
      "Training loss did not improve more than tol=0.000100 for 10 consecutive epochs. Stopping.\n"
     ]
    }
   ],
   "source": [
    "# Fit data onto the model for train/val set\n",
    "clf.fit(X_train, y_train)\n",
    "yyy_pred_t=clf.predict(X_test)"
   ]
  },
  {
   "cell_type": "code",
   "execution_count": 60,
   "metadata": {
    "colab": {
     "base_uri": "https://localhost:8080/"
    },
    "id": "uDe71XHBX-Qd",
    "outputId": "bf8f8f60-cd04-45b4-861d-33e42dc312b2"
   },
   "outputs": [
    {
     "name": "stdout",
     "output_type": "stream",
     "text": [
      "              precision    recall  f1-score   support\n",
      "\n",
      "           0       0.95      0.98      0.96       253\n",
      "           1       0.93      0.88      0.90        97\n",
      "\n",
      "    accuracy                           0.95       350\n",
      "   macro avg       0.94      0.93      0.93       350\n",
      "weighted avg       0.95      0.95      0.95       350\n",
      "\n",
      "Total cost is: 6060.0\n"
     ]
    }
   ],
   "source": [
    "#Evaluating the Multi-Layer Perceptron (validation data set)\n",
    "yyy_pred_t = (yyy_pred_t > 0.5)\n",
    "report = classification_report(y_test, yyy_pred_t)\n",
    "print(report)\n",
    "cm = confusion_matrix(y_test, yyy_pred_t).ravel()\n",
    "cm = pd.DataFrame(cm.reshape((1,4)), columns=['tn', 'fp', 'fn', 'tp'])\n",
    "total_cost = 10*cm.fp + 500*cm.fn\n",
    "print(f'Total cost is: {float(total_cost.values[0])}')"
   ]
  },
  {
   "cell_type": "code",
   "execution_count": 61,
   "metadata": {
    "colab": {
     "base_uri": "https://localhost:8080/"
    },
    "id": "a5vqZ3f_memU",
    "outputId": "134048f9-3974-435c-e0cd-cd52c952647e"
   },
   "outputs": [
    {
     "name": "stdout",
     "output_type": "stream",
     "text": [
      "Iteration 1, loss = 0.48402530\n",
      "Iteration 2, loss = 0.24355003\n",
      "Iteration 3, loss = 0.16916106\n",
      "Iteration 4, loss = 0.15472925\n",
      "Iteration 5, loss = 0.14848321\n",
      "Iteration 6, loss = 0.14543073\n",
      "Iteration 7, loss = 0.13960430\n",
      "Iteration 8, loss = 0.13616223\n",
      "Iteration 9, loss = 0.13320848\n",
      "Iteration 10, loss = 0.12878671\n",
      "Iteration 11, loss = 0.12615120\n",
      "Iteration 12, loss = 0.12260172\n",
      "Iteration 13, loss = 0.12020197\n",
      "Iteration 14, loss = 0.11560584\n",
      "Iteration 15, loss = 0.11214876\n",
      "Iteration 16, loss = 0.11079987\n",
      "Iteration 17, loss = 0.11248937\n",
      "Iteration 18, loss = 0.10579824\n",
      "Iteration 19, loss = 0.10482858\n",
      "Iteration 20, loss = 0.10106522\n",
      "Iteration 21, loss = 0.09919784\n",
      "Iteration 22, loss = 0.09789835\n",
      "Iteration 23, loss = 0.09754377\n",
      "Iteration 24, loss = 0.09685513\n",
      "Iteration 25, loss = 0.09401387\n",
      "Iteration 26, loss = 0.09318343\n",
      "Iteration 27, loss = 0.09471405\n",
      "Iteration 28, loss = 0.09250815\n",
      "Iteration 29, loss = 0.09087252\n",
      "Iteration 30, loss = 0.09048084\n",
      "Iteration 31, loss = 0.08853518\n",
      "Iteration 32, loss = 0.08986652\n",
      "Iteration 33, loss = 0.08954645\n",
      "Iteration 34, loss = 0.08601205\n",
      "Iteration 35, loss = 0.08710047\n",
      "Iteration 36, loss = 0.08795463\n",
      "Iteration 37, loss = 0.08447395\n",
      "Iteration 38, loss = 0.08374216\n",
      "Iteration 39, loss = 0.08215831\n",
      "Iteration 40, loss = 0.08240838\n",
      "Iteration 41, loss = 0.08122162\n",
      "Iteration 42, loss = 0.08067524\n",
      "Iteration 43, loss = 0.08042239\n",
      "Iteration 44, loss = 0.07965902\n",
      "Iteration 45, loss = 0.08027581\n",
      "Iteration 46, loss = 0.07866673\n",
      "Iteration 47, loss = 0.07841810\n",
      "Iteration 48, loss = 0.07710716\n",
      "Iteration 49, loss = 0.07737685\n",
      "Iteration 50, loss = 0.07527687\n",
      "Iteration 51, loss = 0.07716171\n",
      "Iteration 52, loss = 0.07427804\n",
      "Iteration 53, loss = 0.07551390\n",
      "Iteration 54, loss = 0.07670072\n",
      "Iteration 55, loss = 0.07446677\n",
      "Iteration 56, loss = 0.07240531\n",
      "Iteration 57, loss = 0.07170076\n",
      "Iteration 58, loss = 0.07396809\n",
      "Iteration 59, loss = 0.07135422\n",
      "Iteration 60, loss = 0.07014065\n",
      "Iteration 61, loss = 0.07219616\n",
      "Iteration 62, loss = 0.06835898\n",
      "Iteration 63, loss = 0.07067700\n",
      "Iteration 64, loss = 0.07048168\n",
      "Iteration 65, loss = 0.07260157\n",
      "Iteration 66, loss = 0.06876672\n",
      "Iteration 67, loss = 0.06971553\n",
      "Iteration 68, loss = 0.06678276\n",
      "Iteration 69, loss = 0.06876233\n",
      "Iteration 70, loss = 0.06783390\n",
      "Iteration 71, loss = 0.06576706\n",
      "Iteration 72, loss = 0.06812674\n",
      "Iteration 73, loss = 0.06786018\n",
      "Iteration 74, loss = 0.06465940\n",
      "Iteration 75, loss = 0.06475691\n",
      "Iteration 76, loss = 0.06478842\n",
      "Iteration 77, loss = 0.06322239\n",
      "Iteration 78, loss = 0.06552781\n",
      "Iteration 79, loss = 0.06665688\n",
      "Iteration 80, loss = 0.06894573\n",
      "Iteration 81, loss = 0.06580642\n",
      "Iteration 82, loss = 0.06329671\n",
      "Iteration 83, loss = 0.06593752\n",
      "Iteration 84, loss = 0.06671930\n",
      "Iteration 85, loss = 0.06374232\n",
      "Iteration 86, loss = 0.06013155\n",
      "Iteration 87, loss = 0.06160921\n",
      "Iteration 88, loss = 0.06313842\n",
      "Iteration 89, loss = 0.06412429\n",
      "Iteration 90, loss = 0.06218244\n",
      "Iteration 91, loss = 0.06195812\n",
      "Iteration 92, loss = 0.05875373\n",
      "Iteration 93, loss = 0.06002827\n",
      "Iteration 94, loss = 0.06250779\n",
      "Iteration 95, loss = 0.06149400\n",
      "Iteration 96, loss = 0.06103607\n",
      "Iteration 97, loss = 0.05884636\n",
      "Iteration 98, loss = 0.05797614\n",
      "Iteration 99, loss = 0.05940411\n",
      "Iteration 100, loss = 0.05822007\n",
      "Iteration 101, loss = 0.05827150\n",
      "Iteration 102, loss = 0.05828493\n",
      "Iteration 103, loss = 0.05696740\n",
      "Iteration 104, loss = 0.05621205\n",
      "Iteration 105, loss = 0.05664221\n",
      "Iteration 106, loss = 0.05575034\n",
      "Iteration 107, loss = 0.06271727\n",
      "Iteration 108, loss = 0.05949547\n",
      "Iteration 109, loss = 0.05481868\n",
      "Iteration 110, loss = 0.05637878\n",
      "Iteration 111, loss = 0.05449453\n",
      "Iteration 112, loss = 0.05390210\n",
      "Iteration 113, loss = 0.05337799\n",
      "Iteration 114, loss = 0.05802617\n",
      "Iteration 115, loss = 0.05367948\n",
      "Iteration 116, loss = 0.05359001\n",
      "Iteration 117, loss = 0.05444184\n",
      "Iteration 118, loss = 0.05309681\n",
      "Iteration 119, loss = 0.05434651\n",
      "Iteration 120, loss = 0.05218767\n",
      "Iteration 121, loss = 0.05324720\n",
      "Iteration 122, loss = 0.05211389\n",
      "Iteration 123, loss = 0.05145079\n",
      "Iteration 124, loss = 0.05030983\n",
      "Iteration 125, loss = 0.05316003\n",
      "Iteration 126, loss = 0.05178786\n",
      "Iteration 127, loss = 0.04999615\n",
      "Iteration 128, loss = 0.05760507\n",
      "Iteration 129, loss = 0.06414103\n",
      "Iteration 130, loss = 0.05116315\n",
      "Iteration 131, loss = 0.05285746\n",
      "Iteration 132, loss = 0.05181553\n",
      "Iteration 133, loss = 0.05242660\n",
      "Iteration 134, loss = 0.05126502\n",
      "Iteration 135, loss = 0.05407332\n",
      "Iteration 136, loss = 0.05121913\n",
      "Iteration 137, loss = 0.05034649\n",
      "Iteration 138, loss = 0.05303363\n",
      "Training loss did not improve more than tol=0.000100 for 10 consecutive epochs. Stopping.\n"
     ]
    }
   ],
   "source": [
    "# Fit data onto the model \n",
    "history=clf.fit(best_train_features_balanced, train_labels_balanced)\n",
    "yyy_pred=clf.predict(best_test_features)"
   ]
  },
  {
   "cell_type": "code",
   "execution_count": 62,
   "metadata": {
    "colab": {
     "base_uri": "https://localhost:8080/"
    },
    "id": "1nFNkX9AmtRV",
    "outputId": "5b86b174-4b25-43db-b227-437419a2caac"
   },
   "outputs": [
    {
     "name": "stdout",
     "output_type": "stream",
     "text": [
      "              precision    recall  f1-score   support\n",
      "\n",
      "           0       1.00      0.98      0.99     15625\n",
      "           1       0.52      0.90      0.66       375\n",
      "\n",
      "    accuracy                           0.98     16000\n",
      "   macro avg       0.76      0.94      0.82     16000\n",
      "weighted avg       0.99      0.98      0.98     16000\n",
      "\n",
      "Total cost is: 22140.0\n"
     ]
    }
   ],
   "source": [
    "#Evaluating the Multi-Layer Perceptron (test data set)\n",
    "yyy_pred = (yyy_pred > 0.5)\n",
    "report = classification_report(test_labels, yyy_pred)\n",
    "print(report)\n",
    "cm = confusion_matrix(test_labels, yyy_pred).ravel()\n",
    "cm = pd.DataFrame(cm.reshape((1,4)), columns=['tn', 'fp', 'fn', 'tp'])\n",
    "total_cost = 10*cm.fp + 500*cm.fn\n",
    "print(f'Total cost is: {float(total_cost.values[0])}')"
   ]
  },
  {
   "cell_type": "code",
   "execution_count": 63,
   "metadata": {
    "colab": {
     "base_uri": "https://localhost:8080/"
    },
    "id": "ffv2y2ulLkZs",
    "outputId": "da940b70-b0cb-4420-d871-d49e9f813e32"
   },
   "outputs": [
    {
     "data": {
      "text/plain": [
       "array([[15311,   314],\n",
       "       [   38,   337]])"
      ]
     },
     "execution_count": 63,
     "metadata": {},
     "output_type": "execute_result"
    }
   ],
   "source": [
    "confusion_matrix(test_labels, yyy_pred)"
   ]
  },
  {
   "cell_type": "code",
   "execution_count": 90,
   "metadata": {
    "colab": {
     "base_uri": "https://localhost:8080/",
     "height": 358
    },
    "id": "jEepIOPrAnMx",
    "outputId": "4d692c2a-8958-479d-c6bb-4d7b6fc83e4a"
   },
   "outputs": [
    {
     "data": {
      "image/png": "[encoded data removed]",
      "text/plain": [
       "<Figure size 360x360 with 1 Axes>"
      ]
     },
     "metadata": {
      "needs_background": "light"
     },
     "output_type": "display_data"
    }
   ],
   "source": [
    "conf_matrix=confusion_matrix(test_labels, yyy_pred)\n",
    "fig, ax = plt.subplots(figsize=(5, 5))\n",
    "ax.matshow(conf_matrix, cmap=plt.cm.Blues, alpha=0.3)\n",
    "for i in range(conf_matrix.shape[0]):\n",
    "    for j in range(conf_matrix.shape[1]):\n",
    "        ax.text(x=j, y=i,s=conf_matrix[i, j], va='center', ha='center', size='xx-large')\n",
    "\n",
    "plt.xlabel('Predictions', fontsize=18)\n",
    "plt.ylabel('Actuals', fontsize=18)\n",
    "plt.title('Confusion Matrix', fontsize=18)\n",
    "plt.show()"
   ]
  },
  {
   "cell_type": "code",
   "execution_count": 65,
   "metadata": {
    "colab": {
     "base_uri": "https://localhost:8080/",
     "height": 314
    },
    "id": "E0LPmNfaMcx6",
    "outputId": "9264edde-7dfe-4da9-838c-d916e2c9fd3f"
   },
   "outputs": [
    {
     "name": "stdout",
     "output_type": "stream",
     "text": [
      "AREA UNDER ROC:  0.9392853333333333\n"
     ]
    },
    {
     "data": {
      "text/plain": [
       "<function matplotlib.pyplot.show>"
      ]
     },
     "execution_count": 65,
     "metadata": {},
     "output_type": "execute_result"
    },
    {
     "data": {
      "image/png": "[encoded data removed]",
      "text/plain": [
       "<Figure size 432x288 with 1 Axes>"
      ]
     },
     "metadata": {
      "needs_background": "light"
     },
     "output_type": "display_data"
    }
   ],
   "source": [
    "#AUROC\n",
    "ann_auc=roc_auc_score(test_labels,yyy_pred)\n",
    "print(\"AREA UNDER ROC: \",ann_auc)\n",
    "ann_fpr,ann_tpr,_ =roc_curve(test_labels,yyy_pred)\n",
    "plt.plot(ann_fpr,ann_tpr)\n",
    "plt.xlabel('False positive rate')\n",
    "plt.ylabel('True positive rate')\n",
    "plt.show"
   ]
  },
  {
   "cell_type": "markdown",
   "metadata": {
    "id": "3eBTveSHRAUX"
   },
   "source": [
    "##Artificial neural network [different layers 60,30,15 ,1]"
   ]
  },
  {
   "cell_type": "code",
   "execution_count": 66,
   "metadata": {
    "id": "hKfgSEnjRp2X"
   },
   "outputs": [],
   "source": [
    "#creating layers and setting the activation function\n",
    "model = Sequential([\n",
    "    Dense(60, activation='relu', input_dim=160 ),\n",
    "    Dense(30, activation='relu'),\n",
    "    Dense(15, activation='relu'),\n",
    "    Dense(1, activation='sigmoid')\n",
    "])"
   ]
  },
  {
   "cell_type": "code",
   "execution_count": 67,
   "metadata": {
    "id": "52KdXUjQRrYN"
   },
   "outputs": [],
   "source": [
    "#compiler settings for the model\n",
    "model.compile(optimizer='adam',\n",
    "              loss='binary_crossentropy',\n",
    "              metrics=['accuracy'])"
   ]
  },
  {
   "cell_type": "code",
   "execution_count": 68,
   "metadata": {
    "colab": {
     "base_uri": "https://localhost:8080/"
    },
    "id": "UKac_CmqAdhU",
    "outputId": "114b6f13-947b-4500-9bd3-9cce779db383"
   },
   "outputs": [
    {
     "name": "stdout",
     "output_type": "stream",
     "text": [
      "Epoch 1/10\n",
      "315/315 [==============================] - 1s 2ms/step - loss: 0.2426 - accuracy: 0.9375\n",
      "Epoch 2/10\n",
      "315/315 [==============================] - 1s 2ms/step - loss: 0.1453 - accuracy: 0.9505\n",
      "Epoch 3/10\n",
      "315/315 [==============================] - 1s 2ms/step - loss: 0.1310 - accuracy: 0.9562\n",
      "Epoch 4/10\n",
      "315/315 [==============================] - 1s 2ms/step - loss: 0.1191 - accuracy: 0.9590\n",
      "Epoch 5/10\n",
      "315/315 [==============================] - 1s 2ms/step - loss: 0.1121 - accuracy: 0.9635\n",
      "Epoch 6/10\n",
      "315/315 [==============================] - 1s 2ms/step - loss: 0.1083 - accuracy: 0.9613\n",
      "Epoch 7/10\n",
      "315/315 [==============================] - 1s 2ms/step - loss: 0.1000 - accuracy: 0.9663\n",
      "Epoch 8/10\n",
      "315/315 [==============================] - 1s 2ms/step - loss: 0.0950 - accuracy: 0.9660\n",
      "Epoch 9/10\n",
      "315/315 [==============================] - 1s 2ms/step - loss: 0.0930 - accuracy: 0.9673\n",
      "Epoch 10/10\n",
      "315/315 [==============================] - 1s 2ms/step - loss: 0.0882 - accuracy: 0.9724\n"
     ]
    }
   ],
   "source": [
    "model.fit(X_train, y_train, batch_size = 10, epochs = 10)\n",
    "yyyy_pred_t = model.predict(X_test)"
   ]
  },
  {
   "cell_type": "code",
   "execution_count": 69,
   "metadata": {
    "colab": {
     "base_uri": "https://localhost:8080/"
    },
    "id": "a-yt8tUvAlVp",
    "outputId": "128c63dd-d4cc-4d0f-eb78-8691710ea081"
   },
   "outputs": [
    {
     "name": "stdout",
     "output_type": "stream",
     "text": [
      "              precision    recall  f1-score   support\n",
      "\n",
      "           0       0.98      0.97      0.97       253\n",
      "           1       0.92      0.94      0.93        97\n",
      "\n",
      "    accuracy                           0.96       350\n",
      "   macro avg       0.95      0.95      0.95       350\n",
      "weighted avg       0.96      0.96      0.96       350\n",
      "\n",
      "Total cost is: 3080.0\n"
     ]
    }
   ],
   "source": [
    "#Evaluating the Artificial n n (basic) (Validation data set)\n",
    "yyyy_pred_t = (yyyy_pred_t > 0.5)\n",
    "report = classification_report(y_test, yyyy_pred_t)\n",
    "print(report)\n",
    "cm = confusion_matrix(y_test, yyyy_pred_t).ravel()\n",
    "cm = pd.DataFrame(cm.reshape((1,4)), columns=['tn', 'fp', 'fn', 'tp'])\n",
    "total_cost = 10*cm.fp + 500*cm.fn\n",
    "print(f'Total cost is: {float(total_cost.values[0])}')"
   ]
  },
  {
   "cell_type": "code",
   "execution_count": 70,
   "metadata": {
    "colab": {
     "base_uri": "https://localhost:8080/"
    },
    "id": "gFLG2vTxRs-c",
    "outputId": "22d3e752-9e04-4770-a309-3af4ff9f2aa6"
   },
   "outputs": [
    {
     "name": "stdout",
     "output_type": "stream",
     "text": [
      "Epoch 1/10\n",
      "350/350 [==============================] - 1s 2ms/step - loss: 0.0890 - accuracy: 0.9717\n",
      "Epoch 2/10\n",
      "350/350 [==============================] - 1s 2ms/step - loss: 0.0861 - accuracy: 0.9709\n",
      "Epoch 3/10\n",
      "350/350 [==============================] - 1s 2ms/step - loss: 0.0807 - accuracy: 0.9729\n",
      "Epoch 4/10\n",
      "350/350 [==============================] - 1s 2ms/step - loss: 0.0835 - accuracy: 0.9751\n",
      "Epoch 5/10\n",
      "350/350 [==============================] - 1s 2ms/step - loss: 0.0750 - accuracy: 0.9766\n",
      "Epoch 6/10\n",
      "350/350 [==============================] - 1s 2ms/step - loss: 0.0784 - accuracy: 0.9737\n",
      "Epoch 7/10\n",
      "350/350 [==============================] - 2s 5ms/step - loss: 0.0723 - accuracy: 0.9766\n",
      "Epoch 8/10\n",
      "350/350 [==============================] - 1s 2ms/step - loss: 0.0658 - accuracy: 0.9780\n",
      "Epoch 9/10\n",
      "350/350 [==============================] - 1s 2ms/step - loss: 0.0623 - accuracy: 0.9791\n",
      "Epoch 10/10\n",
      "350/350 [==============================] - 1s 2ms/step - loss: 0.0601 - accuracy: 0.9800\n"
     ]
    }
   ],
   "source": [
    "history=model.fit(best_train_features_balanced, train_labels_balanced, batch_size = 10, epochs = 10)\n",
    "yyyy_pred = model.predict(best_test_features)\n"
   ]
  },
  {
   "cell_type": "code",
   "execution_count": 71,
   "metadata": {
    "colab": {
     "base_uri": "https://localhost:8080/"
    },
    "id": "iYLDHQEK859_",
    "outputId": "92f008a2-0ea2-4823-8f37-9e910ab5f8fc"
   },
   "outputs": [
    {
     "name": "stdout",
     "output_type": "stream",
     "text": [
      "              precision    recall  f1-score   support\n",
      "\n",
      "           0       1.00      0.99      0.99     15625\n",
      "           1       0.65      0.89      0.75       375\n",
      "\n",
      "    accuracy                           0.99     16000\n",
      "   macro avg       0.82      0.94      0.87     16000\n",
      "weighted avg       0.99      0.99      0.99     16000\n",
      "\n",
      "Total cost is: 23280.0\n"
     ]
    }
   ],
   "source": [
    "#Evaluating the Artificial n n (basic) (Test data set)\n",
    "yyyy_pred = (yyyy_pred > 0.5)\n",
    "report = classification_report(test_labels, yyyy_pred)\n",
    "print(report)\n",
    "cm = confusion_matrix(test_labels, yyyy_pred).ravel()\n",
    "cm = pd.DataFrame(cm.reshape((1,4)), columns=['tn', 'fp', 'fn', 'tp'])\n",
    "total_cost = 10*cm.fp + 500*cm.fn\n",
    "print(f'Total cost is: {float(total_cost.values[0])}')"
   ]
  },
  {
   "cell_type": "code",
   "execution_count": 72,
   "metadata": {
    "colab": {
     "base_uri": "https://localhost:8080/"
    },
    "id": "xP0QQsxiLpFz",
    "outputId": "14af23d0-c13a-4bdd-d1f2-9e67cedeefcd"
   },
   "outputs": [
    {
     "data": {
      "text/plain": [
       "array([[15447,   178],\n",
       "       [   43,   332]])"
      ]
     },
     "execution_count": 72,
     "metadata": {},
     "output_type": "execute_result"
    }
   ],
   "source": [
    "confusion_matrix(test_labels, yyyy_pred)"
   ]
  },
  {
   "cell_type": "code",
   "execution_count": 87,
   "metadata": {
    "colab": {
     "base_uri": "https://localhost:8080/",
     "height": 358
    },
    "id": "pSvv6YJBAqzF",
    "outputId": "4c87be18-3055-4e0f-d8b6-22e4aefad604"
   },
   "outputs": [
    {
     "data": {
      "image/png": "[encoded data removed]",
      "text/plain": [
       "<Figure size 360x360 with 1 Axes>"
      ]
     },
     "metadata": {
      "needs_background": "light"
     },
     "output_type": "display_data"
    }
   ],
   "source": [
    "conf_matrix=confusion_matrix(test_labels, yyyy_pred)\n",
    "fig, ax = plt.subplots(figsize=(5, 5))\n",
    "ax.matshow(conf_matrix, cmap=plt.cm.Blues, alpha=0.3)\n",
    "for i in range(conf_matrix.shape[0]):\n",
    "    for j in range(conf_matrix.shape[1]):\n",
    "        ax.text(x=j, y=i,s=conf_matrix[i, j], va='center', ha='center', size='xx-large')\n",
    "\n",
    "plt.xlabel('Predictions', fontsize=18)\n",
    "plt.ylabel('Actuals', fontsize=18)\n",
    "plt.title('Confusion Matrix', fontsize=18)\n",
    "plt.show()"
   ]
  },
  {
   "cell_type": "code",
   "execution_count": 74,
   "metadata": {
    "colab": {
     "base_uri": "https://localhost:8080/",
     "height": 295
    },
    "id": "3EzphVOYExVn",
    "outputId": "faf95f54-c803-412c-b393-89d3f5c71ead"
   },
   "outputs": [
    {
     "data": {
      "image/png": "[encoded data removed]",
      "text/plain": [
       "<Figure size 432x288 with 1 Axes>"
      ]
     },
     "metadata": {
      "needs_background": "light"
     },
     "output_type": "display_data"
    }
   ],
   "source": [
    "# summarize history for loss\n",
    "plt.plot(history.history['loss'])\n",
    "plt.title('model loss')\n",
    "plt.ylabel('loss')\n",
    "plt.xlabel('epoch')\n",
    "plt.show()"
   ]
  },
  {
   "cell_type": "code",
   "execution_count": 75,
   "metadata": {
    "colab": {
     "base_uri": "https://localhost:8080/",
     "height": 314
    },
    "id": "s3x1LBwxMhow",
    "outputId": "c3e55b6f-6453-4d4c-e300-ed279eac13af"
   },
   "outputs": [
    {
     "name": "stdout",
     "output_type": "stream",
     "text": [
      "AREA UNDER ROC:  0.9369706666666667\n"
     ]
    },
    {
     "data": {
      "text/plain": [
       "<function matplotlib.pyplot.show>"
      ]
     },
     "execution_count": 75,
     "metadata": {},
     "output_type": "execute_result"
    },
    {
     "data": {
      "image/png": "[encoded data removed]",
      "text/plain": [
       "<Figure size 432x288 with 1 Axes>"
      ]
     },
     "metadata": {
      "needs_background": "light"
     },
     "output_type": "display_data"
    }
   ],
   "source": [
    "#AUROC\n",
    "ann_auc=roc_auc_score(test_labels,yyyy_pred)\n",
    "print(\"AREA UNDER ROC: \",ann_auc)\n",
    "ann_fpr,ann_tpr,_ =roc_curve(test_labels,yyyy_pred)\n",
    "plt.plot(ann_fpr,ann_tpr)\n",
    "plt.xlabel('False positive rate')\n",
    "plt.ylabel('True positive rate')\n",
    "plt.show"
   ]
  },
  {
   "cell_type": "markdown",
   "metadata": {
    "id": "LsR_XrFqCbPN"
   },
   "source": [
    "##Artificial neural network [different layers 64,32,16 ,1]"
   ]
  },
  {
   "cell_type": "code",
   "execution_count": 76,
   "metadata": {
    "id": "X6cqf6-8YWc9"
   },
   "outputs": [],
   "source": [
    "model = Sequential([\n",
    "    Dense(64, activation='relu', input_dim=160 ),\n",
    "    Dense(32, activation='relu'),\n",
    "    Dense(16, activation='relu'),\n",
    "    Dense(1, activation='sigmoid')\n",
    "])"
   ]
  },
  {
   "cell_type": "code",
   "execution_count": 77,
   "metadata": {
    "id": "sukVhoYfYbd5"
   },
   "outputs": [],
   "source": [
    "model.compile(optimizer='adam',\n",
    "              loss='binary_crossentropy',\n",
    "              metrics=['accuracy'])"
   ]
  },
  {
   "cell_type": "code",
   "execution_count": 78,
   "metadata": {
    "colab": {
     "base_uri": "https://localhost:8080/"
    },
    "id": "Gvb1DlZBedhz",
    "outputId": "c144da54-1bb3-4e40-d2f6-0014da78e6b9"
   },
   "outputs": [
    {
     "name": "stdout",
     "output_type": "stream",
     "text": [
      "Epoch 1/10\n",
      "315/315 [==============================] - 1s 2ms/step - loss: 0.2627 - accuracy: 0.9403\n",
      "Epoch 2/10\n",
      "315/315 [==============================] - 1s 2ms/step - loss: 0.1483 - accuracy: 0.9502\n",
      "Epoch 3/10\n",
      "315/315 [==============================] - 1s 2ms/step - loss: 0.1357 - accuracy: 0.9537\n",
      "Epoch 4/10\n",
      "315/315 [==============================] - 1s 2ms/step - loss: 0.1232 - accuracy: 0.9571\n",
      "Epoch 5/10\n",
      "315/315 [==============================] - 1s 2ms/step - loss: 0.1164 - accuracy: 0.9606\n",
      "Epoch 6/10\n",
      "315/315 [==============================] - 1s 2ms/step - loss: 0.1091 - accuracy: 0.9625\n",
      "Epoch 7/10\n",
      "315/315 [==============================] - 1s 2ms/step - loss: 0.1010 - accuracy: 0.9683\n",
      "Epoch 8/10\n",
      "315/315 [==============================] - 1s 2ms/step - loss: 0.0974 - accuracy: 0.9667\n",
      "Epoch 9/10\n",
      "315/315 [==============================] - 1s 2ms/step - loss: 0.0930 - accuracy: 0.9692\n",
      "Epoch 10/10\n",
      "315/315 [==============================] - 1s 2ms/step - loss: 0.0887 - accuracy: 0.9714\n"
     ]
    }
   ],
   "source": [
    "model.fit(X_train, y_train, batch_size = 10, epochs = 10)\n",
    "y5_pred_t = model.predict(X_test)"
   ]
  },
  {
   "cell_type": "code",
   "execution_count": 79,
   "metadata": {
    "colab": {
     "base_uri": "https://localhost:8080/"
    },
    "id": "xioFkCOQkbhz",
    "outputId": "71a0d264-7093-4a74-afb9-96c5ddd9ab4a"
   },
   "outputs": [
    {
     "name": "stdout",
     "output_type": "stream",
     "text": [
      "              precision    recall  f1-score   support\n",
      "\n",
      "           0       0.97      0.98      0.97       253\n",
      "           1       0.94      0.93      0.93        97\n",
      "\n",
      "    accuracy                           0.96       350\n",
      "   macro avg       0.95      0.95      0.95       350\n",
      "weighted avg       0.96      0.96      0.96       350\n",
      "\n",
      "Total cost is: 3560.0\n"
     ]
    }
   ],
   "source": [
    "#Evaluating the Artificial neural network [different layers 64,32,16 ,1] (validation data set)\n",
    "y5_pred_t = (y5_pred_t > 0.5)\n",
    "report = classification_report(y_test, y5_pred_t)\n",
    "print(report)\n",
    "cm = confusion_matrix(y_test, y5_pred_t).ravel()\n",
    "cm = pd.DataFrame(cm.reshape((1,4)), columns=['tn', 'fp', 'fn', 'tp'])\n",
    "total_cost = 10*cm.fp + 500*cm.fn\n",
    "print(f'Total cost is: {float(total_cost.values[0])}')"
   ]
  },
  {
   "cell_type": "code",
   "execution_count": 80,
   "metadata": {
    "colab": {
     "base_uri": "https://localhost:8080/"
    },
    "id": "knJzXYqfYemA",
    "outputId": "671e055c-3ae4-453c-9622-8d4265a613a5"
   },
   "outputs": [
    {
     "name": "stdout",
     "output_type": "stream",
     "text": [
      "Epoch 1/10\n",
      "350/350 [==============================] - 1s 2ms/step - loss: 0.0892 - accuracy: 0.9700\n",
      "Epoch 2/10\n",
      "350/350 [==============================] - 1s 2ms/step - loss: 0.0861 - accuracy: 0.9726\n",
      "Epoch 3/10\n",
      "350/350 [==============================] - 1s 2ms/step - loss: 0.0824 - accuracy: 0.9711\n",
      "Epoch 4/10\n",
      "350/350 [==============================] - 1s 2ms/step - loss: 0.0783 - accuracy: 0.9743\n",
      "Epoch 5/10\n",
      "350/350 [==============================] - 1s 2ms/step - loss: 0.0771 - accuracy: 0.9751\n",
      "Epoch 6/10\n",
      "350/350 [==============================] - 1s 2ms/step - loss: 0.0729 - accuracy: 0.9780\n",
      "Epoch 7/10\n",
      "350/350 [==============================] - 1s 2ms/step - loss: 0.0730 - accuracy: 0.9763\n",
      "Epoch 8/10\n",
      "350/350 [==============================] - 1s 2ms/step - loss: 0.0714 - accuracy: 0.9777\n",
      "Epoch 9/10\n",
      "350/350 [==============================] - 1s 2ms/step - loss: 0.0663 - accuracy: 0.9780\n",
      "Epoch 10/10\n",
      "350/350 [==============================] - 1s 2ms/step - loss: 0.0645 - accuracy: 0.9786\n"
     ]
    }
   ],
   "source": [
    "history= model.fit(best_train_features_balanced, train_labels_balanced, batch_size = 10, epochs = 10)\n",
    "y5_pred = model.predict(best_test_features)"
   ]
  },
  {
   "cell_type": "code",
   "execution_count": 81,
   "metadata": {
    "colab": {
     "base_uri": "https://localhost:8080/"
    },
    "id": "UExKGVYQYher",
    "outputId": "6da0c7f0-f18c-4e5c-a2f0-a3748e8826b2"
   },
   "outputs": [
    {
     "name": "stdout",
     "output_type": "stream",
     "text": [
      "              precision    recall  f1-score   support\n",
      "\n",
      "           0       1.00      0.97      0.99     15625\n",
      "           1       0.46      0.96      0.62       375\n",
      "\n",
      "    accuracy                           0.97     16000\n",
      "   macro avg       0.73      0.97      0.80     16000\n",
      "weighted avg       0.99      0.97      0.98     16000\n",
      "\n",
      "Total cost is: 11720.0\n"
     ]
    }
   ],
   "source": [
    "#Evaluating the Artificial neural network [different layers 64,32,16 ,1] (test data set)\n",
    "y5_pred = (y5_pred > 0.5)\n",
    "report = classification_report(test_labels, y5_pred)\n",
    "print(report)\n",
    "cm = confusion_matrix(test_labels, y5_pred).ravel()\n",
    "cm = pd.DataFrame(cm.reshape((1,4)), columns=['tn', 'fp', 'fn', 'tp'])\n",
    "total_cost = 10*cm.fp + 500*cm.fn\n",
    "print(f'Total cost is: {float(total_cost.values[0])}')"
   ]
  },
  {
   "cell_type": "code",
   "execution_count": 82,
   "metadata": {
    "colab": {
     "base_uri": "https://localhost:8080/"
    },
    "id": "0DKXBQNFLuME",
    "outputId": "c578db9f-0737-4196-fd49-1dc84f62f3ee"
   },
   "outputs": [
    {
     "data": {
      "text/plain": [
       "array([[15203,   422],\n",
       "       [   15,   360]])"
      ]
     },
     "execution_count": 82,
     "metadata": {},
     "output_type": "execute_result"
    }
   ],
   "source": [
    "confusion_matrix(test_labels, y5_pred)"
   ]
  },
  {
   "cell_type": "code",
   "execution_count": 91,
   "metadata": {
    "colab": {
     "base_uri": "https://localhost:8080/",
     "height": 358
    },
    "id": "C1CWx7iEAvop",
    "outputId": "046c6104-012f-40ed-9cfd-22e90f140de4"
   },
   "outputs": [
    {
     "data": {
      "image/png": "[encoded data removed]",
      "text/plain": [
       "<Figure size 360x360 with 1 Axes>"
      ]
     },
     "metadata": {
      "needs_background": "light"
     },
     "output_type": "display_data"
    }
   ],
   "source": [
    "conf_matrix=confusion_matrix(test_labels, y5_pred)\n",
    "fig, ax = plt.subplots(figsize=(5, 5))\n",
    "ax.matshow(conf_matrix, cmap=plt.cm.Blues, alpha=0.3)\n",
    "for i in range(conf_matrix.shape[0]):\n",
    "    for j in range(conf_matrix.shape[1]):\n",
    "        ax.text(x=j, y=i,s=conf_matrix[i, j], va='center', ha='center', size='xx-large')\n",
    "\n",
    "plt.xlabel('Predictions', fontsize=18)\n",
    "plt.ylabel('Actuals', fontsize=18)\n",
    "plt.title('Confusion Matrix', fontsize=18)\n",
    "plt.show()"
   ]
  },
  {
   "cell_type": "code",
   "execution_count": 84,
   "metadata": {
    "colab": {
     "base_uri": "https://localhost:8080/",
     "height": 295
    },
    "id": "3epHVWNFn8hU",
    "outputId": "103b586a-1936-4aba-df72-91843d553ce9"
   },
   "outputs": [
    {
     "data": {
      "image/png": "[encoded data removed]",
      "text/plain": [
       "<Figure size 432x288 with 1 Axes>"
      ]
     },
     "metadata": {
      "needs_background": "light"
     },
     "output_type": "display_data"
    }
   ],
   "source": [
    "# summarize history for loss\n",
    "plt.plot(history.history['loss'])\n",
    "plt.title('model loss')\n",
    "plt.ylabel('loss')\n",
    "plt.xlabel('epoch')\n",
    "plt.show()"
   ]
  },
  {
   "cell_type": "code",
   "execution_count": 85,
   "metadata": {
    "colab": {
     "base_uri": "https://localhost:8080/",
     "height": 314
    },
    "id": "Gk0HbsiWM2Dp",
    "outputId": "a334f780-36b4-4edd-b0d3-06c04d1ea5d9"
   },
   "outputs": [
    {
     "name": "stdout",
     "output_type": "stream",
     "text": [
      "AREA UNDER ROC:  0.9664959999999999\n"
     ]
    },
    {
     "data": {
      "text/plain": [
       "<function matplotlib.pyplot.show>"
      ]
     },
     "execution_count": 85,
     "metadata": {},
     "output_type": "execute_result"
    },
    {
     "data": {
      "image/png": "[encoded data removed]",
      "text/plain": [
       "<Figure size 432x288 with 1 Axes>"
      ]
     },
     "metadata": {
      "needs_background": "light"
     },
     "output_type": "display_data"
    }
   ],
   "source": [
    "#AUROC\n",
    "ann_auc=roc_auc_score(test_labels,y5_pred)\n",
    "print(\"AREA UNDER ROC: \",ann_auc)\n",
    "ann_fpr,ann_tpr,_ =roc_curve(test_labels,y5_pred)\n",
    "plt.plot(ann_fpr,ann_tpr)\n",
    "plt.xlabel('False positive rate')\n",
    "plt.ylabel('True positive rate')\n",
    "plt.show"
   ]
  }
 ],
 "metadata": {
  "colab": {
   "collapsed_sections": [
    "zduvKWhao0-j",
    "JcLe6n1G94Fv",
    "i4hj5WzT-qYA",
    "zwpxXxxeQfkQ",
    "TrDkWlafQxp9",
    "IHOXt33OeOlG",
    "M0isH67SC-UL",
    "ikqaU2eoAckJ",
    "PRa_UlM3Aiez",
    "Mj5h16BCfrVo",
    "799R-XC-Beu_",
    "KJMdzfwOBmSw",
    "3eBTveSHRAUX",
    "LsR_XrFqCbPN",
    "9u137gcCB1ww"
   ],
   "name": "withoutremovingcorrelation.ipynb",
   "provenance": []
  },
  "kernelspec": {
   "display_name": "Python 3",
   "language": "python",
   "name": "python3"
  },
  "language_info": {
   "codemirror_mode": {
    "name": "ipython",
    "version": 3
   },
   "file_extension": ".py",
   "mimetype": "text/x-python",
   "name": "python",
   "nbconvert_exporter": "python",
   "pygments_lexer": "ipython3",
   "version": "3.8.8"
  }
 },
 "nbformat": 4,
 "nbformat_minor": 1
}
